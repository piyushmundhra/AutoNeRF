{
 "cells": [
  {
   "cell_type": "code",
   "execution_count": 1,
   "metadata": {},
   "outputs": [
    {
     "name": "stderr",
     "output_type": "stream",
     "text": [
      "xFormers not available\n",
      "xFormers not available\n"
     ]
    },
    {
     "data": {
      "text/html": [
       "        <script type=\"text/javascript\">\n",
       "        window.PlotlyConfig = {MathJaxConfig: 'local'};\n",
       "        if (window.MathJax && window.MathJax.Hub && window.MathJax.Hub.Config) {window.MathJax.Hub.Config({SVG: {font: \"STIX-Web\"}});}\n",
       "        if (typeof require !== 'undefined') {\n",
       "        require.undef(\"plotly\");\n",
       "        requirejs.config({\n",
       "            paths: {\n",
       "                'plotly': ['https://cdn.plot.ly/plotly-2.32.0.min']\n",
       "            }\n",
       "        });\n",
       "        require(['plotly'], function(Plotly) {\n",
       "            window._Plotly = Plotly;\n",
       "        });\n",
       "        }\n",
       "        </script>\n",
       "        "
      ]
     },
     "metadata": {},
     "output_type": "display_data"
    },
    {
     "name": "stderr",
     "output_type": "stream",
     "text": [
      "scikit-learn version 1.5.1 is not supported. Minimum required version: 0.17. Maximum required version: 1.1.2. Disabling scikit-learn conversion API.\n",
      "Torch version 2.3.1 has not been tested with coremltools. You may run into unexpected errors. Torch 2.2.0 is the most recent version that has been tested.\n"
     ]
    },
    {
     "name": "stdout",
     "output_type": "stream",
     "text": [
      "Loaded SuperPoint model\n",
      "Loaded SuperGlue model (\"indoor\" weights)\n"
     ]
    },
    {
     "name": "stderr",
     "output_type": "stream",
     "text": [
      "/Users/piyushmundhra/Documents/GitHub/AutoNeRF/depth_anything_v2/dinov2_layers/patch_embed.py:73: TracerWarning:\n",
      "\n",
      "Converting a tensor to a Python boolean might cause the trace to be incorrect. We can't record the data flow of Python values, so this value will be treated as a constant in the future. This means that the trace might not generalize to other inputs!\n",
      "\n",
      "/Users/piyushmundhra/Documents/GitHub/AutoNeRF/depth_anything_v2/dinov2_layers/patch_embed.py:74: TracerWarning:\n",
      "\n",
      "Converting a tensor to a Python boolean might cause the trace to be incorrect. We can't record the data flow of Python values, so this value will be treated as a constant in the future. This means that the trace might not generalize to other inputs!\n",
      "\n",
      "/Users/piyushmundhra/Documents/GitHub/AutoNeRF/depth_anything_v2/dinov2.py:183: TracerWarning:\n",
      "\n",
      "Converting a tensor to a Python boolean might cause the trace to be incorrect. We can't record the data flow of Python values, so this value will be treated as a constant in the future. This means that the trace might not generalize to other inputs!\n",
      "\n",
      "/Users/piyushmundhra/Documents/GitHub/AutoNeRF/depth_anything_v2/dpt.py:145: TracerWarning:\n",
      "\n",
      "Converting a tensor to a Python integer might cause the trace to be incorrect. We can't record the data flow of Python values, so this value will be treated as a constant in the future. This means that the trace might not generalize to other inputs!\n",
      "\n",
      "Converting PyTorch Frontend ==> MIL Ops: 100%|█████████▉| 993/994 [00:00<00:00, 7626.50 ops/s]\n",
      "Running MIL frontend_pytorch pipeline: 100%|██████████| 5/5 [00:00<00:00, 107.76 passes/s]\n",
      "Running MIL default pipeline: 100%|██████████| 78/78 [00:01<00:00, 46.27 passes/s] \n",
      "Running MIL backend_mlprogram pipeline: 100%|██████████| 12/12 [00:00<00:00, 120.32 passes/s]\n"
     ]
    }
   ],
   "source": [
    "import slam\n",
    "import torch\n",
    "import coremltools as ct\n",
    "depth, _ = slam.get_models()\n",
    "traced_depth = torch.jit.trace(depth, torch.randn(1, 3, 518, 518))\n",
    "traced_depth.eval()\n",
    "mlmodel = ct.convert(\n",
    "    traced_depth,\n",
    "    convert_to=\"mlprogram\",\n",
    "    inputs=[ct.ImageType(name=\"input\", shape=(1, 3, 518, 518))],\n",
    "    outputs=[ct.TensorType(name=\"output\")]\n",
    ")\n",
    "mlmodel.save(\"depth_anything_v2_metric_small_indoor.mlpackage\")"
   ]
  },
  {
   "cell_type": "code",
   "execution_count": null,
   "metadata": {},
   "outputs": [],
   "source": []
  }
 ],
 "metadata": {
  "kernelspec": {
   "display_name": "venv",
   "language": "python",
   "name": "python3"
  },
  "language_info": {
   "codemirror_mode": {
    "name": "ipython",
    "version": 3
   },
   "file_extension": ".py",
   "mimetype": "text/x-python",
   "name": "python",
   "nbconvert_exporter": "python",
   "pygments_lexer": "ipython3",
   "version": "3.9.6"
  }
 },
 "nbformat": 4,
 "nbformat_minor": 2
}
