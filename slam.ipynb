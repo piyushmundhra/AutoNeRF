{
 "cells": [
  {
   "cell_type": "code",
   "execution_count": 1,
   "metadata": {},
   "outputs": [
    {
     "name": "stderr",
     "output_type": "stream",
     "text": [
      "xFormers not available\n",
      "xFormers not available\n"
     ]
    },
    {
     "data": {
      "text/html": [
       "        <script type=\"text/javascript\">\n",
       "        window.PlotlyConfig = {MathJaxConfig: 'local'};\n",
       "        if (window.MathJax && window.MathJax.Hub && window.MathJax.Hub.Config) {window.MathJax.Hub.Config({SVG: {font: \"STIX-Web\"}});}\n",
       "        if (typeof require !== 'undefined') {\n",
       "        require.undef(\"plotly\");\n",
       "        requirejs.config({\n",
       "            paths: {\n",
       "                'plotly': ['https://cdn.plot.ly/plotly-2.32.0.min']\n",
       "            }\n",
       "        });\n",
       "        require(['plotly'], function(Plotly) {\n",
       "            window._Plotly = Plotly;\n",
       "        });\n",
       "        }\n",
       "        </script>\n",
       "        "
      ]
     },
     "metadata": {},
     "output_type": "display_data"
    },
    {
     "name": "stdout",
     "output_type": "stream",
     "text": [
      "Loaded SuperPoint model\n",
      "Loaded SuperGlue model (\"indoor\" weights)\n"
     ]
    }
   ],
   "source": [
    "import numpy as np\n",
    "import slam\n",
    "from importlib import reload\n",
    "\n",
    "model, matching = slam.get_models()"
   ]
  },
  {
   "cell_type": "code",
   "execution_count": 3,
   "metadata": {},
   "outputs": [],
   "source": [
    "image_prefix = \"indoor1\""
   ]
  },
  {
   "cell_type": "code",
   "execution_count": 4,
   "metadata": {},
   "outputs": [],
   "source": [
    "images = slam.get_images(image_prefix)\n",
    "match_inputs = [slam.preprocess_image_matcher(x) for x in images]\n",
    "depth_inputs = [slam.preprocess_image_depth(x) for x in images]\n",
    "depths = [slam.get_depth(image=x, model=model) for x in depth_inputs]\n",
    "matches = slam.get_matches(inputs=match_inputs, model=matching, num_matches=-1)\n",
    "matches_3d = slam.project_matches_to_3d(matches, depths)"
   ]
  },
  {
   "cell_type": "code",
   "execution_count": 5,
   "metadata": {},
   "outputs": [
    {
     "name": "stdout",
     "output_type": "stream",
     "text": [
      "x deg 0.170    y deg 9.402    z deg -3.684   \n",
      "x -0.044       y 0.007        z 0.177        \n",
      "\n",
      "x deg 4.186    y deg 19.992   z deg 0.488    \n",
      "x 0.314        y -0.153       z -0.353       \n",
      "\n",
      "x deg 2.990    y deg 18.196   z deg -1.953   \n",
      "x 0.200        y -0.186       z -0.052       \n",
      "\n",
      "x deg -0.750   y deg 13.131   z deg -1.955   \n",
      "x 0.020        y 0.029        z -0.175       \n",
      "\n",
      "x deg -1.683   y deg 7.781    z deg -6.154   \n",
      "x -0.195       y 0.128        z -0.286       \n",
      "\n"
     ]
    }
   ],
   "source": [
    "transforms = [slam.get_transform(m[0], m[1]) for m in matches_3d]\n",
    "angles = [slam.decompose_rotation_matrix(t[0]) for t in transforms]\n",
    "elevation = [a[2] for a in angles]\n",
    "azimuth = [a[1] for a in angles]\n",
    "\n",
    "for a, t in zip(angles, transforms):\n",
    "    x,y,z = a\n",
    "    print(\"{: <15}\".format(f\"x deg {x:.3f}\") + \"{: <15}\".format(f\"y deg {y:.3f}\") + \"{: <15}\".format(f\"z deg {z:.3f}\"))\n",
    "\n",
    "    x,y,z = t[1]\n",
    "    print(\"{: <15}\".format(f\"x {x:.3f}\") + \"{: <15}\".format(f\"y {y:.3f}\") + \"{: <15}\".format(f\"z {z:.3f}\"))\n",
    "    print()"
   ]
  },
  {
   "cell_type": "code",
   "execution_count": 23,
   "metadata": {},
   "outputs": [],
   "source": [
    "# idx = 1\n",
    "# fig = slam.plot_matches(idx, images, matches)"
   ]
  },
  {
   "cell_type": "code",
   "execution_count": 7,
   "metadata": {},
   "outputs": [],
   "source": [
    "# fig = create_pcd_fig(idx, depths, images)\n",
    "# fig.show()"
   ]
  },
  {
   "cell_type": "code",
   "execution_count": 8,
   "metadata": {},
   "outputs": [],
   "source": [
    "data = slam.training_preprocessor(\n",
    "    image_prefix=image_prefix, \n",
    "    model=model,\n",
    "    matching=matching,\n",
    "    force_reload=False)\n"
   ]
  },
  {
   "cell_type": "code",
   "execution_count": 9,
   "metadata": {},
   "outputs": [
    {
     "data": {
      "text/html": [
       "        <script type=\"text/javascript\">\n",
       "        window.PlotlyConfig = {MathJaxConfig: 'local'};\n",
       "        if (window.MathJax && window.MathJax.Hub && window.MathJax.Hub.Config) {window.MathJax.Hub.Config({SVG: {font: \"STIX-Web\"}});}\n",
       "        if (typeof require !== 'undefined') {\n",
       "        require.undef(\"plotly\");\n",
       "        requirejs.config({\n",
       "            paths: {\n",
       "                'plotly': ['https://cdn.plot.ly/plotly-2.32.0.min']\n",
       "            }\n",
       "        });\n",
       "        require(['plotly'], function(Plotly) {\n",
       "            window._Plotly = Plotly;\n",
       "        });\n",
       "        }\n",
       "        </script>\n",
       "        "
      ]
     },
     "metadata": {},
     "output_type": "display_data"
    },
    {
     "data": {
      "text/html": [
       "<div>\n",
       "<style scoped>\n",
       "    .dataframe tbody tr th:only-of-type {\n",
       "        vertical-align: middle;\n",
       "    }\n",
       "\n",
       "    .dataframe tbody tr th {\n",
       "        vertical-align: top;\n",
       "    }\n",
       "\n",
       "    .dataframe thead th {\n",
       "        text-align: right;\n",
       "    }\n",
       "</style>\n",
       "<table border=\"1\" class=\"dataframe\">\n",
       "  <thead>\n",
       "    <tr style=\"text-align: right;\">\n",
       "      <th></th>\n",
       "      <th>pos</th>\n",
       "      <th>dir</th>\n",
       "      <th>rgb</th>\n",
       "    </tr>\n",
       "  </thead>\n",
       "  <tbody>\n",
       "    <tr>\n",
       "      <th>0</th>\n",
       "      <td>(0.0, 0.0, 0.0)</td>\n",
       "      <td>(-0.35689106583595276, -0.35689106583595276, 0...</td>\n",
       "      <td>(0.4627451002597809, 0.3843137323856354, 0.270...</td>\n",
       "    </tr>\n",
       "    <tr>\n",
       "      <th>1</th>\n",
       "      <td>(0.0, 0.0, 0.0)</td>\n",
       "      <td>(-0.3556877374649048, -0.35706639289855957, 0....</td>\n",
       "      <td>(0.48627451062202454, 0.40392157435417175, 0.2...</td>\n",
       "    </tr>\n",
       "    <tr>\n",
       "      <th>2</th>\n",
       "      <td>(0.0, 0.0, 0.0)</td>\n",
       "      <td>(-0.35448265075683594, -0.35724127292633057, 0...</td>\n",
       "      <td>(0.47843137383461, 0.3960784375667572, 0.28235...</td>\n",
       "    </tr>\n",
       "    <tr>\n",
       "      <th>3</th>\n",
       "      <td>(0.0, 0.0, 0.0)</td>\n",
       "      <td>(-0.35327577590942383, -0.35741570591926575, 0...</td>\n",
       "      <td>(0.4588235318660736, 0.3764705955982208, 0.262...</td>\n",
       "    </tr>\n",
       "    <tr>\n",
       "      <th>4</th>\n",
       "      <td>(0.0, 0.0, 0.0)</td>\n",
       "      <td>(-0.35206714272499084, -0.3575897514820099, 0....</td>\n",
       "      <td>(0.4588235318660736, 0.3764705955982208, 0.262...</td>\n",
       "    </tr>\n",
       "  </tbody>\n",
       "</table>\n",
       "</div>"
      ],
      "text/plain": [
       "               pos                                                dir  \\\n",
       "0  (0.0, 0.0, 0.0)  (-0.35689106583595276, -0.35689106583595276, 0...   \n",
       "1  (0.0, 0.0, 0.0)  (-0.3556877374649048, -0.35706639289855957, 0....   \n",
       "2  (0.0, 0.0, 0.0)  (-0.35448265075683594, -0.35724127292633057, 0...   \n",
       "3  (0.0, 0.0, 0.0)  (-0.35327577590942383, -0.35741570591926575, 0...   \n",
       "4  (0.0, 0.0, 0.0)  (-0.35206714272499084, -0.3575897514820099, 0....   \n",
       "\n",
       "                                                 rgb  \n",
       "0  (0.4627451002597809, 0.3843137323856354, 0.270...  \n",
       "1  (0.48627451062202454, 0.40392157435417175, 0.2...  \n",
       "2  (0.47843137383461, 0.3960784375667572, 0.28235...  \n",
       "3  (0.4588235318660736, 0.3764705955982208, 0.262...  \n",
       "4  (0.4588235318660736, 0.3764705955982208, 0.262...  "
      ]
     },
     "execution_count": 9,
     "metadata": {},
     "output_type": "execute_result"
    }
   ],
   "source": [
    "reload(slam)\n",
    "df = slam.pd.DataFrame(data, columns=['x', 'y', 'z', 'xd', 'yd', 'zd', 'r', 'g', 'b'])\n",
    "df['pos'] = list(zip(df['x'], df['y'], df['z']))\n",
    "df['dir'] = list(zip(df['xd'], df['yd'], df['zd']))\n",
    "df['rgb'] = list(zip(df['r'], df['g'], df['b']))\n",
    "df = df[['pos', 'dir', 'rgb']]\n",
    "df.head()"
   ]
  },
  {
   "cell_type": "code",
   "execution_count": 10,
   "metadata": {},
   "outputs": [
    {
     "data": {
      "text/plain": [
       "pos    0\n",
       "dir    0\n",
       "rgb    0\n",
       "dtype: int64"
      ]
     },
     "execution_count": 10,
     "metadata": {},
     "output_type": "execute_result"
    }
   ],
   "source": [
    "df.isna().sum()"
   ]
  },
  {
   "cell_type": "code",
   "execution_count": 22,
   "metadata": {},
   "outputs": [
    {
     "data": {
      "application/vnd.plotly.v1+json": {
       "config": {
        "plotlyServerURL": "https://plot.ly"
       },
       "data": [
        {
         "line": {
          "color": "#7CFC00",
          "width": 1
         },
         "mode": "lines",
         "type": "scatter3d",
         "x": [
          0,
          -0.35689106583595276
         ],
         "y": [
          0,
          -0.35689106583595276
         ],
         "z": [
          0,
          0.8632829785346985
         ]
        },
        {
         "line": {
          "color": "#7CFC00",
          "width": 1
         },
         "mode": "lines",
         "type": "scatter3d",
         "x": [
          0,
          0.26632872223854065
         ],
         "y": [
          0,
          -0.36459973454475403
         ],
         "z": [
          0,
          0.8922645449638367
         ]
        },
        {
         "line": {
          "color": "#7CFC00",
          "width": 1
         },
         "mode": "lines",
         "type": "scatter3d",
         "x": [
          0,
          0.16788332164287567
         ],
         "y": [
          0,
          -0.36788347363471985
         ],
         "z": [
          0,
          0.9145911335945129
         ]
        },
        {
         "line": {
          "color": "#7CFC00",
          "width": 1
         },
         "mode": "lines",
         "type": "scatter3d",
         "x": [
          0,
          0.06368809938430786
         ],
         "y": [
          0,
          -0.3673173785209656
         ],
         "z": [
          0,
          0.9279125928878784
         ]
        },
        {
         "line": {
          "color": "#7CFC00",
          "width": 1
         },
         "mode": "lines",
         "type": "scatter3d",
         "x": [
          0,
          -0.04309333488345146
         ],
         "y": [
          0,
          -0.3625783920288086
         ],
         "z": [
          0,
          0.9309564232826233
         ]
        },
        {
         "line": {
          "color": "#7CFC00",
          "width": 1
         },
         "mode": "lines",
         "type": "scatter3d",
         "x": [
          0,
          -0.14886842668056488
         ],
         "y": [
          0,
          -0.35374677181243896
         ],
         "z": [
          0,
          0.9234183430671692
         ]
        },
        {
         "line": {
          "color": "#7CFC00",
          "width": 1
         },
         "mode": "lines",
         "type": "scatter3d",
         "x": [
          0,
          -0.25019434094429016
         ],
         "y": [
          0,
          -0.34130558371543884
         ],
         "z": [
          0,
          0.9060426354408264
         ]
        },
        {
         "line": {
          "color": "#7CFC00",
          "width": 1
         },
         "mode": "lines",
         "type": "scatter3d",
         "x": [
          0,
          -0.3443048298358917
         ],
         "y": [
          0,
          -0.32603558897972107
         ],
         "z": [
          0,
          0.8804288506507874
         ]
        },
        {
         "line": {
          "color": "#7CFC00",
          "width": 1
         },
         "mode": "lines",
         "type": "scatter3d",
         "x": [
          0,
          0.28851884603500366
         ],
         "y": [
          0,
          -0.32871052622795105
         ],
         "z": [
          0,
          0.8992809653282166
         ]
        },
        {
         "line": {
          "color": "#7CFC00",
          "width": 1
         },
         "mode": "lines",
         "type": "scatter3d",
         "x": [
          0,
          0.1902494877576828
         ],
         "y": [
          0,
          -0.3318305015563965
         ],
         "z": [
          0,
          0.9239554405212402
         ]
        },
        {
         "line": {
          "color": "#7CFC00",
          "width": 1
         },
         "mode": "lines",
         "type": "scatter3d",
         "x": [
          0,
          0.08548644930124283
         ],
         "y": [
          0,
          -0.33144745230674744
         ],
         "z": [
          0,
          0.9395927786827087
         ]
        },
        {
         "line": {
          "color": "#7CFC00",
          "width": 1
         },
         "mode": "lines",
         "type": "scatter3d",
         "x": [
          0,
          -0.0226182509213686
         ],
         "y": [
          0,
          -0.3272106945514679
         ],
         "z": [
          0,
          0.9446806907653809
         ]
        },
        {
         "line": {
          "color": "#7CFC00",
          "width": 1
         },
         "mode": "lines",
         "type": "scatter3d",
         "x": [
          0,
          -0.13035506010055542
         ],
         "y": [
          0,
          -0.319145143032074
         ],
         "z": [
          0,
          0.9386979937553406
         ]
        },
        {
         "line": {
          "color": "#7CFC00",
          "width": 1
         },
         "mode": "lines",
         "type": "scatter3d",
         "x": [
          0,
          -0.23406223952770233
         ],
         "y": [
          0,
          -0.30766671895980835
         ],
         "z": [
          0,
          0.9222559928894043
         ]
        },
        {
         "line": {
          "color": "#7CFC00",
          "width": 1
         },
         "mode": "lines",
         "type": "scatter3d",
         "x": [
          0,
          -0.33071574568748474
         ],
         "y": [
          0,
          -0.29349231719970703
         ],
         "z": [
          0,
          0.8969333171844482
         ]
        },
        {
         "line": {
          "color": "#7CFC00",
          "width": 1
         },
         "mode": "lines",
         "type": "scatter3d",
         "x": [
          0,
          0.31047964096069336
         ],
         "y": [
          0,
          -0.2917064428329468
         ],
         "z": [
          0,
          0.9047152996063232
         ]
        },
        {
         "line": {
          "color": "#7CFC00",
          "width": 1
         },
         "mode": "lines",
         "type": "scatter3d",
         "x": [
          0,
          0.21266478300094604
         ],
         "y": [
          0,
          -0.29445892572402954
         ],
         "z": [
          0,
          0.9317014813423157
         ]
        },
        {
         "line": {
          "color": "#7CFC00",
          "width": 1
         },
         "mode": "lines",
         "type": "scatter3d",
         "x": [
          0,
          0.10762860625982285
         ],
         "y": [
          0,
          -0.2940838038921356
         ],
         "z": [
          0,
          0.9497003555297852
         ]
        },
        {
         "line": {
          "color": "#7CFC00",
          "width": 1
         },
         "mode": "lines",
         "type": "scatter3d",
         "x": [
          0,
          -0.0015274807810783386
         ],
         "y": [
          0,
          -0.29022136330604553
         ],
         "z": [
          0,
          0.9569582939147949
         ]
        },
        {
         "line": {
          "color": "#7CFC00",
          "width": 1
         },
         "mode": "lines",
         "type": "scatter3d",
         "x": [
          0,
          -0.11101196706295013
         ],
         "y": [
          0,
          -0.2828524112701416
         ],
         "z": [
          0,
          0.9527176022529602
         ]
        },
        {
         "line": {
          "color": "#7CFC00",
          "width": 1
         },
         "mode": "lines",
         "type": "scatter3d",
         "x": [
          0,
          -0.21696370840072632
         ],
         "y": [
          0,
          -0.27232685685157776
         ],
         "z": [
          0,
          0.9374246001243591
         ]
        },
        {
         "line": {
          "color": "#7CFC00",
          "width": 1
         },
         "mode": "lines",
         "type": "scatter3d",
         "x": [
          0,
          -0.3161008059978485
         ],
         "y": [
          0,
          -0.25929006934165955
         ],
         "z": [
          0,
          0.9126055836677551
         ]
        },
        {
         "line": {
          "color": "#7CFC00",
          "width": 1
         },
         "mode": "lines",
         "type": "scatter3d",
         "x": [
          0,
          0.3320719599723816
         ],
         "y": [
          0,
          -0.2537667751312256
         ],
         "z": [
          0,
          0.9084770679473877
         ]
        },
        {
         "line": {
          "color": "#7CFC00",
          "width": 1
         },
         "mode": "lines",
         "type": "scatter3d",
         "x": [
          0,
          0.23498746752738953
         ],
         "y": [
          0,
          -0.2559417486190796
         ],
         "z": [
          0,
          0.9376965165138245
         ]
        },
        {
         "line": {
          "color": "#7CFC00",
          "width": 1
         },
         "mode": "lines",
         "type": "scatter3d",
         "x": [
          0,
          0.12998563051223755
         ],
         "y": [
          0,
          -0.25538352131843567
         ],
         "z": [
          0,
          0.9580621123313904
         ]
        },
        {
         "line": {
          "color": "#7CFC00",
          "width": 1
         },
         "mode": "lines",
         "type": "scatter3d",
         "x": [
          0,
          0.020077768713235855
         ],
         "y": [
          0,
          -0.2517443299293518
         ],
         "z": [
          0,
          0.9675855040550232
         ]
        },
        {
         "line": {
          "color": "#7CFC00",
          "width": 1
         },
         "mode": "lines",
         "type": "scatter3d",
         "x": [
          0,
          -0.09090301394462585
         ],
         "y": [
          0,
          -0.24497590959072113
         ],
         "z": [
          0,
          0.9652582406997681
         ]
        },
        {
         "line": {
          "color": "#7CFC00",
          "width": 1
         },
         "mode": "lines",
         "type": "scatter3d",
         "x": [
          0,
          -0.19892342388629913
         ],
         "y": [
          0,
          -0.23536741733551025
         ],
         "z": [
          0,
          0.9513314962387085
         ]
        },
        {
         "line": {
          "color": "#7CFC00",
          "width": 1
         },
         "mode": "lines",
         "type": "scatter3d",
         "x": [
          0,
          -0.3004506230354309
         ],
         "y": [
          0,
          -0.22348789870738983
         ],
         "z": [
          0,
          0.9272446036338806
         ]
        },
        {
         "line": {
          "color": "#7CFC00",
          "width": 1
         },
         "mode": "lines",
         "type": "scatter3d",
         "x": [
          0,
          0.35315874218940735
         ],
         "y": [
          0,
          -0.21509256958961487
         ],
         "z": [
          0,
          0.9105020761489868
         ]
        },
        {
         "line": {
          "color": "#7CFC00",
          "width": 1
         },
         "mode": "lines",
         "type": "scatter3d",
         "x": [
          0,
          0.25707098841667175
         ],
         "y": [
          0,
          -0.2164808213710785
         ],
         "z": [
          0,
          0.9418336153030396
         ]
        },
        {
         "line": {
          "color": "#7CFC00",
          "width": 1
         },
         "mode": "lines",
         "type": "scatter3d",
         "x": [
          0,
          0.15241661667823792
         ],
         "y": [
          0,
          -0.2155386507511139
         ],
         "z": [
          0,
          0.9645269513130188
         ]
        },
        {
         "line": {
          "color": "#7CFC00",
          "width": 1
         },
         "mode": "lines",
         "type": "scatter3d",
         "x": [
          0,
          0.04207872599363327
         ],
         "y": [
          0,
          -0.2119521051645279
         ],
         "z": [
          0,
          0.9763737320899963
         ]
        },
        {
         "line": {
          "color": "#7CFC00",
          "width": 1
         },
         "mode": "lines",
         "type": "scatter3d",
         "x": [
          0,
          -0.07011214643716812
         ],
         "y": [
          0,
          -0.20566228032112122
         ],
         "z": [
          0,
          0.9761082530021667
         ]
        },
        {
         "line": {
          "color": "#7CFC00",
          "width": 1
         },
         "mode": "lines",
         "type": "scatter3d",
         "x": [
          0,
          -0.17998544871807098
         ],
         "y": [
          0,
          -0.1969071477651596
         ],
         "z": [
          0,
          0.96375972032547
         ]
        },
        {
         "line": {
          "color": "#7CFC00",
          "width": 1
         },
         "mode": "lines",
         "type": "scatter3d",
         "x": [
          0,
          -0.28377217054367065
         ],
         "y": [
          0,
          -0.1861785650253296
         ],
         "z": [
          0,
          0.9406439065933228
         ]
        },
        {
         "line": {
          "color": "#7CFC00",
          "width": 1
         },
         "mode": "lines",
         "type": "scatter3d",
         "x": [
          0,
          0.37360912561416626
         ],
         "y": [
          0,
          -0.17590157687664032
         ],
         "z": [
          0,
          0.9107550978660583
         ]
        },
        {
         "line": {
          "color": "#7CFC00",
          "width": 1
         },
         "mode": "lines",
         "type": "scatter3d",
         "x": [
          0,
          0.2787683606147766
         ],
         "y": [
          0,
          -0.17630214989185333
         ],
         "z": [
          0,
          0.9440369606018066
         ]
        },
        {
         "line": {
          "color": "#7CFC00",
          "width": 1
         },
         "mode": "lines",
         "type": "scatter3d",
         "x": [
          0,
          0.1747724562883377
         ],
         "y": [
          0,
          -0.1747724562883377
         ],
         "z": [
          0,
          0.9689732789993286
         ]
        },
        {
         "line": {
          "color": "#7CFC00",
          "width": 1
         },
         "mode": "lines",
         "type": "scatter3d",
         "x": [
          0,
          0.06434135138988495
         ],
         "y": [
          0,
          -0.17105382680892944
         ],
         "z": [
          0,
          0.9831585884094238
         ]
        },
        {
         "line": {
          "color": "#7CFC00",
          "width": 1
         },
         "mode": "lines",
         "type": "scatter3d",
         "x": [
          0,
          -0.04874302074313164
         ],
         "y": [
          0,
          -0.16509732604026794
         ],
         "z": [
          0,
          0.9850720763206482
         ]
        },
        {
         "line": {
          "color": "#7CFC00",
          "width": 1
         },
         "mode": "lines",
         "type": "scatter3d",
         "x": [
          0,
          -0.16021446883678436
         ],
         "y": [
          0,
          -0.1571034938097
         ],
         "z": [
          0,
          0.9744997620582581
         ]
        },
        {
         "line": {
          "color": "#7CFC00",
          "width": 1
         },
         "mode": "lines",
         "type": "scatter3d",
         "x": [
          0,
          -0.2660910487174988
         ],
         "y": [
          0,
          -0.1474904716014862
         ],
         "z": [
          0,
          0.9525975584983826
         ]
        },
        {
         "line": {
          "color": "#7CFC00",
          "width": 1
         },
         "mode": "lines",
         "type": "scatter3d",
         "x": [
          0,
          -0.36333221197128296
         ],
         "y": [
          0,
          -0.13680119812488556
         ],
         "z": [
          0,
          0.9215612411499023
         ]
        },
        {
         "line": {
          "color": "#7CFC00",
          "width": 1
         },
         "mode": "lines",
         "type": "scatter3d",
         "x": [
          0,
          0.29993686079978943
         ],
         "y": [
          0,
          -0.13564984500408173
         ],
         "z": [
          0,
          0.9442653059959412
         ]
        },
        {
         "line": {
          "color": "#7CFC00",
          "width": 1
         },
         "mode": "lines",
         "type": "scatter3d",
         "x": [
          0,
          0.19690032303333282
         ],
         "y": [
          0,
          -0.13333408534526825
         ],
         "z": [
          0,
          0.9713147282600403
         ]
        },
        {
         "line": {
          "color": "#7CFC00",
          "width": 1
         },
         "mode": "lines",
         "type": "scatter3d",
         "x": [
          0,
          0.08671969175338745
         ],
         "y": [
          0,
          -0.12929117679595947
         ],
         "z": [
          0,
          0.9878073930740356
         ]
        },
        {
         "line": {
          "color": "#7CFC00",
          "width": 1
         },
         "mode": "lines",
         "type": "scatter3d",
         "x": [
          0,
          -0.026917463168501854
         ],
         "y": [
          0,
          -0.1235036551952362
         ],
         "z": [
          0,
          0.9919790029525757
         ]
        },
        {
         "line": {
          "color": "#7CFC00",
          "width": 1
         },
         "mode": "lines",
         "type": "scatter3d",
         "x": [
          0,
          -0.13969619572162628
         ],
         "y": [
          0,
          -0.11615189164876938
         ],
         "z": [
          0,
          0.9833583831787109
         ]
        },
        {
         "line": {
          "color": "#7CFC00",
          "width": 1
         },
         "mode": "lines",
         "type": "scatter3d",
         "x": [
          0,
          -0.24745336174964905
         ],
         "y": [
          0,
          -0.10758841782808304
         ],
         "z": [
          0,
          0.9629078507423401
         ]
        },
        {
         "line": {
          "color": "#7CFC00",
          "width": 1
         },
         "mode": "lines",
         "type": "scatter3d",
         "x": [
          0,
          -0.3468966484069824
         ],
         "y": [
          0,
          -0.09826256334781647
         ],
         "z": [
          0,
          0.9327417612075806
         ]
        },
        {
         "line": {
          "color": "#7CFC00",
          "width": 1
         },
         "mode": "lines",
         "type": "scatter3d",
         "x": [
          0,
          0.32044267654418945
         ],
         "y": [
          0,
          -0.09477882087230682
         ],
         "z": [
          0,
          0.9425144195556641
         ]
        },
        {
         "line": {
          "color": "#7CFC00",
          "width": 1
         },
         "mode": "lines",
         "type": "scatter3d",
         "x": [
          0,
          0.21864871680736542
         ],
         "y": [
          0,
          -0.09149130433797836
         ],
         "z": [
          0,
          0.9715050458908081
         ]
        },
        {
         "line": {
          "color": "#7CFC00",
          "width": 1
         },
         "mode": "lines",
         "type": "scatter3d",
         "x": [
          0,
          0.10906023532152176
         ],
         "y": [
          0,
          -0.08693207055330276
         ],
         "z": [
          0,
          0.9902265667915344
         ]
        },
        {
         "line": {
          "color": "#7CFC00",
          "width": 1
         },
         "mode": "lines",
         "type": "scatter3d",
         "x": [
          0,
          -0.004772707354277372
         ],
         "y": [
          0,
          -0.08113602548837662
         ],
         "z": [
          0,
          0.9966915845870972
         ]
        },
        {
         "line": {
          "color": "#7CFC00",
          "width": 1
         },
         "mode": "lines",
         "type": "scatter3d",
         "x": [
          0,
          -0.11853662133216858
         ],
         "y": [
          0,
          -0.07428295165300369
         ],
         "z": [
          0,
          0.9901672005653381
         ]
        },
        {
         "line": {
          "color": "#7CFC00",
          "width": 1
         },
         "mode": "lines",
         "type": "scatter3d",
         "x": [
          0,
          -0.2279266119003296
         ],
         "y": [
          0,
          -0.06667240709066391
         ],
         "z": [
          0,
          0.9713929295539856
         ]
        },
        {
         "line": {
          "color": "#7CFC00",
          "width": 1
         },
         "mode": "lines",
         "type": "scatter3d",
         "x": [
          0,
          -0.32941555976867676
         ],
         "y": [
          0,
          -0.05866304412484169
         ],
         "z": [
          0,
          0.9423608779907227
         ]
        },
        {
         "line": {
          "color": "#7CFC00",
          "width": 1
         },
         "mode": "lines",
         "type": "scatter3d",
         "x": [
          0,
          0.3401649594306946
         ],
         "y": [
          0,
          -0.05394686758518219
         ],
         "z": [
          0,
          0.9388170838356018
         ]
        },
        {
         "line": {
          "color": "#7CFC00",
          "width": 1
         },
         "mode": "lines",
         "type": "scatter3d",
         "x": [
          0,
          0.23987247049808502
         ],
         "y": [
          0,
          -0.04952205717563629
         ],
         "z": [
          0,
          0.9695404767990112
         ]
        },
        {
         "line": {
          "color": "#7CFC00",
          "width": 1
         },
         "mode": "lines",
         "type": "scatter3d",
         "x": [
          0,
          0.1312069147825241
         ],
         "y": [
          0,
          -0.04426257312297821
         ],
         "z": [
          0,
          0.9903663992881775
         ]
        },
        {
         "line": {
          "color": "#7CFC00",
          "width": 1
         },
         "mode": "lines",
         "type": "scatter3d",
         "x": [
          0,
          0.01754244603216648
         ],
         "y": [
          0,
          -0.038274429738521576
         ],
         "z": [
          0,
          0.9991132616996765
         ]
        },
        {
         "line": {
          "color": "#7CFC00",
          "width": 1
         },
         "mode": "lines",
         "type": "scatter3d",
         "x": [
          0,
          -0.09686001390218735
         ],
         "y": [
          0,
          -0.031757380813360214
         ],
         "z": [
          0,
          0.9947912096977234
         ]
        },
        {
         "line": {
          "color": "#7CFC00",
          "width": 1
         },
         "mode": "lines",
         "type": "scatter3d",
         "x": [
          0,
          -0.20759965479373932
         ],
         "y": [
          0,
          -0.024974394589662552
         ],
         "z": [
          0,
          0.9778950214385986
         ]
        },
        {
         "line": {
          "color": "#7CFC00",
          "width": 1
         },
         "mode": "lines",
         "type": "scatter3d",
         "x": [
          0,
          -0.3109401762485504
         ],
         "y": [
          0,
          -0.018201377242803574
         ],
         "z": [
          0,
          0.9502551555633545
         ]
        },
        {
         "line": {
          "color": "#7CFC00",
          "width": 1
         },
         "mode": "lines",
         "type": "scatter3d",
         "x": [
          0,
          0.35899949073791504
         ],
         "y": [
          0,
          -0.013406619429588318
         ],
         "z": [
          0,
          0.9332414865493774
         ]
        },
        {
         "line": {
          "color": "#7CFC00",
          "width": 1
         },
         "mode": "lines",
         "type": "scatter3d",
         "x": [
          0,
          0.26043760776519775
         ],
         "y": [
          0,
          -0.0077052549459040165
         ],
         "z": [
          0,
          0.965459942817688
         ]
        },
        {
         "line": {
          "color": "#7CFC00",
          "width": 1
         },
         "mode": "lines",
         "type": "scatter3d",
         "x": [
          0,
          0.15300649404525757
         ],
         "y": [
          0,
          -0.0015773865161463618
         ],
         "z": [
          0,
          0.9882239103317261
         ]
        },
        {
         "line": {
          "color": "#7CFC00",
          "width": 1
         },
         "mode": "lines",
         "type": "scatter3d",
         "x": [
          0,
          0.039872389286756516
         ],
         "y": [
          0,
          0.004784686956554651
         ],
         "z": [
          0,
          0.9991933107376099
         ]
        },
        {
         "line": {
          "color": "#7CFC00",
          "width": 1
         },
         "mode": "lines",
         "type": "scatter3d",
         "x": [
          0,
          -0.07480574399232864
         ],
         "y": [
          0,
          0.011141280643641949
         ],
         "z": [
          0,
          0.9971358776092529
         ]
        },
        {
         "line": {
          "color": "#7CFC00",
          "width": 1
         },
         "mode": "lines",
         "type": "scatter3d",
         "x": [
          0,
          -0.18658150732517242
         ],
         "y": [
          0,
          0.017247028648853302
         ],
         "z": [
          0,
          0.9822880625724792
         ]
        },
        {
         "line": {
          "color": "#7CFC00",
          "width": 1
         },
         "mode": "lines",
         "type": "scatter3d",
         "x": [
          0,
          -0.2915431559085846
         ],
         "y": [
          0,
          0.02289605885744095
         ],
         "z": [
          0,
          0.9562836289405823
         ]
        },
        {
         "line": {
          "color": "#7CFC00",
          "width": 1
         },
         "mode": "lines",
         "type": "scatter3d",
         "x": [
          0,
          0.376861035823822
         ],
         "y": [
          0,
          0.02660195715725422
         ],
         "z": [
          0,
          0.9258877038955688
         ]
        },
        {
         "line": {
          "color": "#7CFC00",
          "width": 1
         },
         "mode": "lines",
         "type": "scatter3d",
         "x": [
          0,
          0.2802255153656006
         ],
         "y": [
          0,
          0.03368831425905228
         ],
         "z": [
          0,
          0.959342896938324
         ]
        },
        {
         "line": {
          "color": "#7CFC00",
          "width": 1
         },
         "mode": "lines",
         "type": "scatter3d",
         "x": [
          0,
          0.1743137538433075
         ],
         "y": [
          0,
          0.04083024710416794
         ],
         "z": [
          0,
          0.9838432669639587
         ]
        },
        {
         "line": {
          "color": "#7CFC00",
          "width": 1
         },
         "mode": "lines",
         "type": "scatter3d",
         "x": [
          0,
          0.06206003949046135
         ],
         "y": [
          0,
          0.047738492488861084
         ],
         "z": [
          0,
          0.9969300627708435
         ]
        },
        {
         "line": {
          "color": "#7CFC00",
          "width": 1
         },
         "mode": "lines",
         "type": "scatter3d",
         "x": [
          0,
          -0.05252404883503914
         ],
         "y": [
          0,
          0.05411568656563759
         ],
         "z": [
          0,
          0.9971523284912109
         ]
        },
        {
         "line": {
          "color": "#7CFC00",
          "width": 1
         },
         "mode": "lines",
         "type": "scatter3d",
         "x": [
          0,
          -0.1649988442659378
         ],
         "y": [
          0,
          0.05971386656165123
         ],
         "z": [
          0,
          0.9844844341278076
         ]
        },
        {
         "line": {
          "color": "#7CFC00",
          "width": 1
         },
         "mode": "lines",
         "type": "scatter3d",
         "x": [
          0,
          -0.27131786942481995
         ],
         "y": [
          0,
          0.06438051164150238
         ],
         "z": [
          0,
          0.9603341817855835
         ]
        },
        {
         "line": {
          "color": "#7CFC00",
          "width": 1
         },
         "mode": "lines",
         "type": "scatter3d",
         "x": [
          0,
          -0.3684898316860199
         ],
         "y": [
          0,
          0.06807442754507065
         ],
         "z": [
          0,
          0.9271359443664551
         ]
        },
        {
         "line": {
          "color": "#7CFC00",
          "width": 1
         },
         "mode": "lines",
         "type": "scatter3d",
         "x": [
          0,
          0.29913610219955444
         ],
         "y": [
          0,
          0.07440441101789474
         ],
         "z": [
          0,
          0.9513052105903625
         ]
        },
        {
         "line": {
          "color": "#7CFC00",
          "width": 1
         },
         "mode": "lines",
         "type": "scatter3d",
         "x": [
          0,
          0.19499632716178894
         ],
         "y": [
          0,
          0.08267844468355179
         ],
         "z": [
          0,
          0.9773129820823669
         ]
        },
        {
         "line": {
          "color": "#7CFC00",
          "width": 1
         },
         "mode": "lines",
         "type": "scatter3d",
         "x": [
          0,
          0.08395230770111084
         ],
         "y": [
          0,
          0.09028833359479904
         ],
         "z": [
          0,
          0.9923709034919739
         ]
        },
        {
         "line": {
          "color": "#7CFC00",
          "width": 1
         },
         "mode": "lines",
         "type": "scatter3d",
         "x": [
          0,
          -0.030170995742082596
         ],
         "y": [
          0,
          0.09686477482318878
         ],
         "z": [
          0,
          0.994840145111084
         ]
        },
        {
         "line": {
          "color": "#7CFC00",
          "width": 1
         },
         "mode": "lines",
         "type": "scatter3d",
         "x": [
          0,
          -0.14299246668815613
         ],
         "y": [
          0,
          0.1021374762058258
         ],
         "z": [
          0,
          0.984439492225647
         ]
        },
        {
         "line": {
          "color": "#7CFC00",
          "width": 1
         },
         "mode": "lines",
         "type": "scatter3d",
         "x": [
          0,
          -0.25037682056427
         ],
         "y": [
          0,
          0.10598774254322052
         ],
         "z": [
          0,
          0.9623295068740845
         ]
        },
        {
         "line": {
          "color": "#7CFC00",
          "width": 1
         },
         "mode": "lines",
         "type": "scatter3d",
         "x": [
          0,
          -0.3491363823413849
         ],
         "y": [
          0,
          0.108455128967762
         ],
         "z": [
          0,
          0.9307745695114136
         ]
        },
        {
         "line": {
          "color": "#7CFC00",
          "width": 1
         },
         "mode": "lines",
         "type": "scatter3d",
         "x": [
          0,
          0.31708988547325134
         ],
         "y": [
          0,
          0.11421247571706772
         ],
         "z": [
          0,
          0.9414932131767273
         ]
        },
        {
         "line": {
          "color": "#7CFC00",
          "width": 1
         },
         "mode": "lines",
         "type": "scatter3d",
         "x": [
          0,
          0.21493853628635406
         ],
         "y": [
          0,
          0.12370563298463821
         ],
         "z": [
          0,
          0.9687612652778625
         ]
        },
        {
         "line": {
          "color": "#7CFC00",
          "width": 1
         },
         "mode": "lines",
         "type": "scatter3d",
         "x": [
          0,
          0.105405293405056
         ],
         "y": [
          0,
          0.13214991986751556
         ],
         "z": [
          0,
          0.9856095314025879
         ]
        },
        {
         "line": {
          "color": "#7CFC00",
          "width": 1
         },
         "mode": "lines",
         "type": "scatter3d",
         "x": [
          0,
          -0.007903083227574825
         ],
         "y": [
          0,
          0.1390942633152008
         ],
         "z": [
          0,
          0.9902476072311401
         ]
        },
        {
         "line": {
          "color": "#7CFC00",
          "width": 1
         },
         "mode": "lines",
         "type": "scatter3d",
         "x": [
          0,
          -0.12071273475885391
         ],
         "y": [
          0,
          0.14422820508480072
         ],
         "z": [
          0,
          0.9821540713310242
         ]
        },
        {
         "line": {
          "color": "#7CFC00",
          "width": 1
         },
         "mode": "lines",
         "type": "scatter3d",
         "x": [
          0,
          -0.22884859144687653
         ],
         "y": [
          0,
          0.14744606614112854
         ],
         "z": [
          0,
          0.9622307419776917
         ]
        },
        {
         "line": {
          "color": "#7CFC00",
          "width": 1
         },
         "mode": "lines",
         "type": "scatter3d",
         "x": [
          0,
          -0.32895925641059875
         ],
         "y": [
          0,
          0.14885035157203674
         ],
         "z": [
          0,
          0.9325392246246338
         ]
        },
        {
         "line": {
          "color": "#7CFC00",
          "width": 1
         },
         "mode": "lines",
         "type": "scatter3d",
         "x": [
          0,
          0.3340289294719696
         ],
         "y": [
          0,
          0.1529110223054886
         ],
         "z": [
          0,
          0.9300768375396729
         ]
        },
        {
         "line": {
          "color": "#7CFC00",
          "width": 1
         },
         "mode": "lines",
         "type": "scatter3d",
         "x": [
          0,
          0.23404419422149658
         ],
         "y": [
          0,
          0.16367796063423157
         ],
         "z": [
          0,
          0.9583489894866943
         ]
        },
        {
         "line": {
          "color": "#7CFC00",
          "width": 1
         },
         "mode": "lines",
         "type": "scatter3d",
         "x": [
          0,
          0.12628880143165588
         ],
         "y": [
          0,
          0.17306242883205414
         ],
         "z": [
          0,
          0.9767807126045227
         ]
        },
        {
         "line": {
          "color": "#7CFC00",
          "width": 1
         },
         "mode": "lines",
         "type": "scatter3d",
         "x": [
          0,
          0.014128165319561958
         ],
         "y": [
          0,
          0.18052655458450317
         ],
         "z": [
          0,
          0.9834686517715454
         ]
        },
        {
         "line": {
          "color": "#7CFC00",
          "width": 1
         },
         "mode": "lines",
         "type": "scatter3d",
         "x": [
          0,
          -0.09831452369689941
         ],
         "y": [
          0,
          0.18570521473884583
         ],
         "z": [
          0,
          0.9776747226715088
         ]
        },
        {
         "line": {
          "color": "#7CFC00",
          "width": 1
         },
         "mode": "lines",
         "type": "scatter3d",
         "x": [
          0,
          -0.20687393844127655
         ],
         "y": [
          0,
          0.18848514556884766
         ],
         "z": [
          0,
          0.9600398540496826
         ]
        },
        {
         "line": {
          "color": "#7CFC00",
          "width": 1
         },
         "mode": "lines",
         "type": "scatter3d",
         "x": [
          0,
          -0.3080734610557556
         ],
         "y": [
          0,
          0.18901126086711884
         ],
         "z": [
          0,
          0.932397723197937
         ]
        },
        {
         "line": {
          "color": "#7CFC00",
          "width": 1
         },
         "mode": "lines",
         "type": "scatter3d",
         "x": [
          0,
          0.34991654753685
         ],
         "y": [
          0,
          0.19033117592334747
         ],
         "z": [
          0,
          0.9172417521476746
         ]
        },
        {
         "line": {
          "color": "#7CFC00",
          "width": 1
         },
         "mode": "lines",
         "type": "scatter3d",
         "x": [
          0,
          0.25223812460899353
         ],
         "y": [
          0,
          0.20239467918872833
         ],
         "z": [
          0,
          0.9462623000144958
         ]
        },
        {
         "line": {
          "color": "#7CFC00",
          "width": 1
         },
         "mode": "lines",
         "type": "scatter3d",
         "x": [
          0,
          0.14648979902267456
         ],
         "y": [
          0,
          0.2127957046031952
         ],
         "z": [
          0,
          0.9660531878471375
         ]
        },
        {
         "line": {
          "color": "#7CFC00",
          "width": 1
         },
         "mode": "lines",
         "type": "scatter3d",
         "x": [
          0,
          0.03578110784292221
         ],
         "y": [
          0,
          0.2209094613790512
         ],
         "z": [
          0,
          0.9746377468109131
         ]
        },
        {
         "line": {
          "color": "#7CFC00",
          "width": 1
         },
         "mode": "lines",
         "type": "scatter3d",
         "x": [
          0,
          -0.07595189660787582
         ],
         "y": [
          0,
          0.22630563378334045
         ],
         "z": [
          0,
          0.9710906744003296
         ]
        },
        {
         "line": {
          "color": "#7CFC00",
          "width": 1
         },
         "mode": "lines",
         "type": "scatter3d",
         "x": [
          0,
          -0.18460135161876678
         ],
         "y": [
          0,
          0.22884464263916016
         ],
         "z": [
          0,
          0.955799400806427
         ]
        },
        {
         "line": {
          "color": "#7CFC00",
          "width": 1
         },
         "mode": "lines",
         "type": "scatter3d",
         "x": [
          0,
          -0.286607563495636
         ],
         "y": [
          0,
          0.22869205474853516
         ],
         "z": [
          0,
          0.9303526282310486
         ]
        },
        {
         "line": {
          "color": "#7CFC00",
          "width": 1
         },
         "mode": "lines",
         "type": "scatter3d",
         "x": [
          0,
          0.3647361099720001
         ],
         "y": [
          0,
          0.2263382226228714
         ],
         "z": [
          0,
          0.9031824469566345
         ]
        },
        {
         "line": {
          "color": "#7CFC00",
          "width": 1
         },
         "mode": "lines",
         "type": "scatter3d",
         "x": [
          0,
          0.2694666087627411
         ],
         "y": [
          0,
          0.23969128727912903
         ],
         "z": [
          0,
          0.9327034950256348
         ]
        },
        {
         "line": {
          "color": "#7CFC00",
          "width": 1
         },
         "mode": "lines",
         "type": "scatter3d",
         "x": [
          0,
          0.16591478884220123
         ],
         "y": [
          0,
          0.25115540623664856
         ],
         "z": [
          0,
          0.9536210894584656
         ]
        },
        {
         "line": {
          "color": "#7CFC00",
          "width": 1
         },
         "mode": "lines",
         "type": "scatter3d",
         "x": [
          0,
          0.056928105652332306
         ],
         "y": [
          0,
          0.26002296805381775
         ],
         "z": [
          0,
          0.9639228582382202
         ]
        },
        {
         "line": {
          "color": "#7CFC00",
          "width": 1
         },
         "mode": "lines",
         "type": "scatter3d",
         "x": [
          0,
          -0.05377306416630745
         ],
         "y": [
          0,
          0.265792578458786
         ],
         "z": [
          0,
          0.9625293612480164
         ]
        },
        {
         "line": {
          "color": "#7CFC00",
          "width": 1
         },
         "mode": "lines",
         "type": "scatter3d",
         "x": [
          0,
          -0.1621820330619812
         ],
         "y": [
          0,
          0.2682824432849884
         ],
         "z": [
          0,
          0.9495902061462402
         ]
        },
        {
         "line": {
          "color": "#7CFC00",
          "width": 1
         },
         "mode": "lines",
         "type": "scatter3d",
         "x": [
          0,
          -0.2646998465061188
         ],
         "y": [
          0,
          0.26765739917755127
         ],
         "z": [
          0,
          0.9264413118362427
         ]
        },
        {
         "line": {
          "color": "#7CFC00",
          "width": 1
         },
         "mode": "lines",
         "type": "scatter3d",
         "x": [
          0,
          -0.35867342352867126
         ],
         "y": [
          0,
          0.2643609046936035
         ],
         "z": [
          0,
          0.8952467441558838
         ]
        },
        {
         "line": {
          "color": "#7CFC00",
          "width": 1
         },
         "mode": "lines",
         "type": "scatter3d",
         "x": [
          0,
          0.28569647669792175
         ],
         "y": [
          0,
          0.27544069290161133
         ],
         "z": [
          0,
          0.9178833961486816
         ]
        },
        {
         "line": {
          "color": "#7CFC00",
          "width": 1
         },
         "mode": "lines",
         "type": "scatter3d",
         "x": [
          0,
          0.1844908893108368
         ],
         "y": [
          0,
          0.28798577189445496
         ],
         "z": [
          0,
          0.9396952986717224
         ]
        },
        {
         "line": {
          "color": "#7CFC00",
          "width": 1
         },
         "mode": "lines",
         "type": "scatter3d",
         "x": [
          0,
          0.07745856046676636
         ],
         "y": [
          0,
          0.2976838946342468
         ],
         "z": [
          0,
          0.9515169262886047
         ]
        },
        {
         "line": {
          "color": "#7CFC00",
          "width": 1
         },
         "mode": "lines",
         "type": "scatter3d",
         "x": [
          0,
          -0.03191591426730156
         ],
         "y": [
          0,
          0.3039610683917999
         ],
         "z": [
          0,
          0.9521496891975403
         ]
        },
        {
         "line": {
          "color": "#7CFC00",
          "width": 1
         },
         "mode": "lines",
         "type": "scatter3d",
         "x": [
          0,
          -0.13976505398750305
         ],
         "y": [
          0,
          0.30658140778541565
         ],
         "z": [
          0,
          0.941527247428894
         ]
        },
        {
         "line": {
          "color": "#7CFC00",
          "width": 1
         },
         "mode": "lines",
         "type": "scatter3d",
         "x": [
          0,
          -0.2424938827753067
         ],
         "y": [
          0,
          0.30568927526474
         ],
         "z": [
          0,
          0.9207338094711304
         ]
        },
        {
         "line": {
          "color": "#7CFC00",
          "width": 1
         },
         "mode": "lines",
         "type": "scatter3d",
         "x": [
          0,
          -0.3373316526412964
         ],
         "y": [
          0,
          0.3017481565475464
         ],
         "z": [
          0,
          0.891714870929718
         ]
        },
        {
         "line": {
          "color": "#7CFC00",
          "width": 1
         },
         "mode": "lines",
         "type": "scatter3d",
         "x": [
          0,
          0.3009137511253357
         ],
         "y": [
          0,
          0.3095524311065674
         ],
         "z": [
          0,
          0.9020134210586548
         ]
        },
        {
         "line": {
          "color": "#7CFC00",
          "width": 1
         },
         "mode": "lines",
         "type": "scatter3d",
         "x": [
          0,
          0.20216578245162964
         ],
         "y": [
          0,
          0.32317012548446655
         ],
         "z": [
          0,
          0.9244945049285889
         ]
        },
        {
         "line": {
          "color": "#7CFC00",
          "width": 1
         },
         "mode": "lines",
         "type": "scatter3d",
         "x": [
          0,
          0.0972808301448822
         ],
         "y": [
          0,
          0.33374807238578796
         ],
         "z": [
          0,
          0.9376292824745178
         ]
        },
        {
         "line": {
          "color": "#7CFC00",
          "width": 1
         },
         "mode": "lines",
         "type": "scatter3d",
         "x": [
          0,
          -0.010504386387765408
         ],
         "y": [
          0,
          0.3406422436237335
         ],
         "z": [
          0,
          0.9401342868804932
         ]
        },
        {
         "line": {
          "color": "#7CFC00",
          "width": 1
         },
         "mode": "lines",
         "type": "scatter3d",
         "x": [
          0,
          -0.11749276518821716
         ],
         "y": [
          0,
          0.3435547947883606
         ],
         "z": [
          0,
          0.9317540526390076
         ]
        },
        {
         "line": {
          "color": "#7CFC00",
          "width": 1
         },
         "mode": "lines",
         "type": "scatter3d",
         "x": [
          0,
          -0.22013407945632935
         ],
         "y": [
          0,
          0.3425927758216858
         ],
         "z": [
          0,
          0.9133297204971313
         ]
        },
        {
         "line": {
          "color": "#7CFC00",
          "width": 1
         },
         "mode": "lines",
         "type": "scatter3d",
         "x": [
          0,
          -0.3155762851238251
         ],
         "y": [
          0,
          0.3382185399532318
         ],
         "z": [
          0,
          0.8865776062011719
         ]
        },
        {
         "line": {
          "color": "#7CFC00",
          "width": 1
         },
         "mode": "lines",
         "type": "scatter3d",
         "x": [
          0,
          0.31512129306793213
         ],
         "y": [
          0,
          0.34197020530700684
         ],
         "z": [
          0,
          0.8852993845939636
         ]
        },
        {
         "line": {
          "color": "#7CFC00",
          "width": 1
         },
         "mode": "lines",
         "type": "scatter3d",
         "x": [
          0,
          0.2189067155122757
         ],
         "y": [
          0,
          0.35662949085235596
         ],
         "z": [
          0,
          0.9082374572753906
         ]
        },
        {
         "line": {
          "color": "#7CFC00",
          "width": 1
         },
         "mode": "lines",
         "type": "scatter3d",
         "x": [
          0,
          0.11632292717695236
         ],
         "y": [
          0,
          0.3681105375289917
         ],
         "z": [
          0,
          0.9224768877029419
         ]
        },
        {
         "line": {
          "color": "#7CFC00",
          "width": 1
         },
         "mode": "lines",
         "type": "scatter3d",
         "x": [
          0,
          0.010354073718190193
         ],
         "y": [
          0,
          0.37570497393608093
         ],
         "z": [
          0,
          0.9266814589500427
         ]
        },
        {
         "line": {
          "color": "#7CFC00",
          "width": 1
         },
         "mode": "lines",
         "type": "scatter3d",
         "x": [
          0,
          -0.09549695998430252
         ],
         "y": [
          0,
          0.37904947996139526
         ],
         "z": [
          0,
          0.9204356670379639
         ]
        },
        {
         "line": {
          "color": "#FFFACD",
          "width": 1
         },
         "mode": "lines",
         "type": "scatter3d",
         "x": [
          -0.044039249420166016,
          -0.2779383808374405
         ],
         "y": [
          0.0072920843958854675,
          -0.3378412500023842
         ],
         "z": [
          0.17711162567138672,
          1.0860528349876404
         ]
        },
        {
         "line": {
          "color": "#FFFACD",
          "width": 1
         },
         "mode": "lines",
         "type": "scatter3d",
         "x": [
          -0.044039249420166016,
          0.33985862135887146
         ],
         "y": [
          0.0072920843958854675,
          -0.3854295089840889
         ],
         "z": [
          0.17711162567138672,
          1.012810230255127
         ]
        },
        {
         "line": {
          "color": "#FFFACD",
          "width": 1
         },
         "mode": "lines",
         "type": "scatter3d",
         "x": [
          -0.044039249420166016,
          0.2463594675064087
         ],
         "y": [
          0.0072920843958854675,
          -0.38276631385087967
         ],
         "z": [
          0.17711162567138672,
          1.0509096384048462
         ]
        },
        {
         "line": {
          "color": "#FFFACD",
          "width": 1
         },
         "mode": "lines",
         "type": "scatter3d",
         "x": [
          -0.044039249420166016,
          0.1459822803735733
         ],
         "y": [
          0.0072920843958854675,
          -0.3757757321000099
         ],
         "z": [
          0.17711162567138672,
          1.0810755491256714
         ]
        },
        {
         "line": {
          "color": "#FFFACD",
          "width": 1
         },
         "mode": "lines",
         "type": "scatter3d",
         "x": [
          -0.044039249420166016,
          0.04165550321340561
         ],
         "y": [
          0.0072920843958854675,
          -0.3643187955021858
         ],
         "z": [
          0.17711162567138672,
          1.1015366911888123
         ]
        },
        {
         "line": {
          "color": "#FFFACD",
          "width": 1
         },
         "mode": "lines",
         "type": "scatter3d",
         "x": [
          -0.044039249420166016,
          -0.063138697296381
         ],
         "y": [
          0.0072920843958854675,
          -0.3486992195248604
         ],
         "z": [
          0.17711162567138672,
          1.1114056706428528
         ]
        },
        {
         "line": {
          "color": "#FFFACD",
          "width": 1
         },
         "mode": "lines",
         "type": "scatter3d",
         "x": [
          -0.044039249420166016,
          -0.16492079943418503
         ],
         "y": [
          0.0072920843958854675,
          -0.3296273723244667
         ],
         "z": [
          0.17711162567138672,
          1.1108529567718506
         ]
        },
        {
         "line": {
          "color": "#FFFACD",
          "width": 1
         },
         "mode": "lines",
         "type": "scatter3d",
         "x": [
          -0.044039249420166016,
          -0.2607574462890625
         ],
         "y": [
          0.0072920843958854675,
          -0.30807916074991226
         ],
         "z": [
          0.17711162567138672,
          1.1010023951530457
         ]
        },
        {
         "line": {
          "color": "#FFFACD",
          "width": 1
         },
         "mode": "lines",
         "type": "scatter3d",
         "x": [
          -0.044039249420166016,
          0.36517125368118286
         ],
         "y": [
          0.0072920843958854675,
          -0.3511167839169502
         ],
         "z": [
          0.17711162567138672,
          1.0162122249603271
         ]
        },
        {
         "line": {
          "color": "#FFFACD",
          "width": 1
         },
         "mode": "lines",
         "type": "scatter3d",
         "x": [
          -0.044039249420166016,
          0.2722383141517639
         ],
         "y": [
          0.0072920843958854675,
          -0.34833288937807083
         ],
         "z": [
          0.17711162567138672,
          1.056599736213684
         ]
        },
        {
         "line": {
          "color": "#FFFACD",
          "width": 1
         },
         "mode": "lines",
         "type": "scatter3d",
         "x": [
          -0.044039249420166016,
          0.17166739702224731
         ],
         "y": [
          0.0072920843958854675,
          -0.34152016788721085
         ],
         "z": [
          0.17711162567138672,
          1.0891426801681519
         ]
        },
        {
         "line": {
          "color": "#FFFACD",
          "width": 1
         },
         "mode": "lines",
         "type": "scatter3d",
         "x": [
          -0.044039249420166016,
          0.06633814424276352
         ],
         "y": [
          0.0072920843958854675,
          -0.3305080309510231
         ],
         "z": [
          0.17711162567138672,
          1.1118350625038147
         ]
        },
        {
         "line": {
          "color": "#FFFACD",
          "width": 1
         },
         "mode": "lines",
         "type": "scatter3d",
         "x": [
          -0.044039249420166016,
          -0.04018372530117631
         ],
         "y": [
          0.0072920843958854675,
          -0.31554950028657913
         ],
         "z": [
          0.17711162567138672,
          1.1235567331314087
         ]
        },
        {
         "line": {
          "color": "#FFFACD",
          "width": 1
         },
         "mode": "lines",
         "type": "scatter3d",
         "x": [
          -0.044039249420166016,
          -0.14422053843736649
         ],
         "y": [
          0.0072920843958854675,
          -0.29729995876550674
         ],
         "z": [
          0.17711162567138672,
          1.1243113279342651
         ]
        },
        {
         "line": {
          "color": "#FFFACD",
          "width": 1
         },
         "mode": "lines",
         "type": "scatter3d",
         "x": [
          -0.044039249420166016,
          -0.24258439242839813
         ],
         "y": [
          0.0072920843958854675,
          -0.27668777853250504
         ],
         "z": [
          0.17711162567138672,
          1.1151602268218994
         ]
        },
        {
         "line": {
          "color": "#FFFACD",
          "width": 1
         },
         "mode": "lines",
         "type": "scatter3d",
         "x": [
          -0.044039249420166016,
          0.39007264375686646
         ],
         "y": [
          0.0072920843958854675,
          -0.3156556859612465
         ],
         "z": [
          0.17711162567138672,
          1.0180941224098206
         ]
        },
        {
         "line": {
          "color": "#FFFACD",
          "width": 1
         },
         "mode": "lines",
         "type": "scatter3d",
         "x": [
          -0.044039249420166016,
          0.2979874014854431
         ],
         "y": [
          0.0072920843958854675,
          -0.31256500631570816
         ],
         "z": [
          0.17711162567138672,
          1.060689091682434
         ]
        },
        {
         "line": {
          "color": "#FFFACD",
          "width": 1
         },
         "mode": "lines",
         "type": "scatter3d",
         "x": [
          -0.044039249420166016,
          0.197531595826149
         ],
         "y": [
          0.0072920843958854675,
          -0.30577460676431656
         ],
         "z": [
          0.17711162567138672,
          1.0956064462661743
         ]
        },
        {
         "line": {
          "color": "#FFFACD",
          "width": 1
         },
         "mode": "lines",
         "type": "scatter3d",
         "x": [
          -0.044039249420166016,
          0.09149637818336487
         ],
         "y": [
          0.0072920843958854675,
          -0.29509855061769485
         ],
         "z": [
          0.17711162567138672,
          1.1206104159355164
         ]
        },
        {
         "line": {
          "color": "#FFFACD",
          "width": 1
         },
         "mode": "lines",
         "type": "scatter3d",
         "x": [
          -0.044039249420166016,
          -0.016507577151060104
         ],
         "y": [
          0.0072920843958854675,
          -0.28074783831834793
         ],
         "z": [
          0.17711162567138672,
          1.134334146976471
         ]
        },
        {
         "line": {
          "color": "#FFFACD",
          "width": 1
         },
         "mode": "lines",
         "type": "scatter3d",
         "x": [
          -0.044039249420166016,
          -0.12262880802154541
         ],
         "y": [
          0.0072920843958854675,
          -0.2633223608136177
         ],
         "z": [
          0.17711162567138672,
          1.1365861892700195
         ]
        },
        {
         "line": {
          "color": "#FFFACD",
          "width": 1
         },
         "mode": "lines",
         "type": "scatter3d",
         "x": [
          -0.044039249420166016,
          -0.22342944145202637
         ],
         "y": [
          0.0072920843958854675,
          -0.2436947301030159
         ],
         "z": [
          0.17711162567138672,
          1.1283343434333801
         ]
        },
        {
         "line": {
          "color": "#FFFACD",
          "width": 1
         },
         "mode": "lines",
         "type": "scatter3d",
         "x": [
          -0.044039249420166016,
          0.41439950466156006
         ],
         "y": [
          0.0072920843958854675,
          -0.27921510487794876
         ],
         "z": [
          0.17711162567138672,
          1.0183889269828796
         ]
        },
        {
         "line": {
          "color": "#FFFACD",
          "width": 1
         },
         "mode": "lines",
         "type": "scatter3d",
         "x": [
          -0.044039249420166016,
          0.32343435287475586
         ],
         "y": [
          0.0072920843958854675,
          -0.27562449127435684
         ],
         "z": [
          0.17711162567138672,
          1.063069462776184
         ]
        },
        {
         "line": {
          "color": "#FFFACD",
          "width": 1
         },
         "mode": "lines",
         "type": "scatter3d",
         "x": [
          -0.044039249420166016,
          0.22340959310531616
         ],
         "y": [
          0.0072920843958854675,
          -0.26868540793657303
         ],
         "z": [
          0.17711162567138672,
          1.1003166437149048
         ]
        },
        {
         "line": {
          "color": "#FFFACD",
          "width": 1
         },
         "mode": "lines",
         "type": "scatter3d",
         "x": [
          -0.044039249420166016,
          0.1169886589050293
         ],
         "y": [
          0.0072920843958854675,
          -0.25821495801210403
         ],
         "z": [
          0.17711162567138672,
          1.1276777386665344
         ]
        },
        {
         "line": {
          "color": "#FFFACD",
          "width": 1
         },
         "mode": "lines",
         "type": "scatter3d",
         "x": [
          -0.044039249420166016,
          0.0077842772006988525
         ],
         "y": [
          0.0072920843958854675,
          -0.24439439922571182
         ],
         "z": [
          0.17711162567138672,
          1.1435319185256958
         ]
        },
        {
         "line": {
          "color": "#FFFACD",
          "width": 1
         },
         "mode": "lines",
         "type": "scatter3d",
         "x": [
          -0.044039249420166016,
          -0.10021049901843071
         ],
         "y": [
          0.0072920843958854675,
          -0.22777128964662552
         ],
         "z": [
          0.17711162567138672,
          1.1474671959877014
         ]
        },
        {
         "line": {
          "color": "#FFFACD",
          "width": 1
         },
         "mode": "lines",
         "type": "scatter3d",
         "x": [
          -0.044039249420166016,
          -0.2033199518918991
         ],
         "y": [
          0.0072920843958854675,
          -0.2091568484902382
         ],
         "z": [
          0.17711162567138672,
          1.1403247117996216
         ]
        },
        {
         "line": {
          "color": "#FFFACD",
          "width": 1
         },
         "mode": "lines",
         "type": "scatter3d",
         "x": [
          -0.044039249420166016,
          0.4379933774471283
         ],
         "y": [
          0.0072920843958854675,
          -0.24198613315820694
         ],
         "z": [
          0.17711162567138672,
          1.0170549750328064
         ]
        },
        {
         "line": {
          "color": "#FFFACD",
          "width": 1
         },
         "mode": "lines",
         "type": "scatter3d",
         "x": [
          -0.044039249420166016,
          0.3484044075012207
         ],
         "y": [
          0.0072920843958854675,
          -0.23770203441381454
         ],
         "z": [
          0.17711162567138672,
          1.0636587738990784
         ]
        },
        {
         "line": {
          "color": "#FFFACD",
          "width": 1
         },
         "mode": "lines",
         "type": "scatter3d",
         "x": [
          -0.044039249420166016,
          0.2491256296634674
         ],
         "y": [
          0.0072920843958854675,
          -0.2304331585764885
         ],
         "z": [
          0.17711162567138672,
          1.103146731853485
         ]
        },
        {
         "line": {
          "color": "#FFFACD",
          "width": 1
         },
         "mode": "lines",
         "type": "scatter3d",
         "x": [
          -0.044039249420166016,
          0.14265625178813934
         ],
         "y": [
          0.0072920843958854675,
          -0.22001925855875015
         ],
         "z": [
          0.17711162567138672,
          1.1328701376914978
         ]
        },
        {
         "line": {
          "color": "#FFFACD",
          "width": 1
         },
         "mode": "lines",
         "type": "scatter3d",
         "x": [
          -0.044039249420166016,
          0.03256523609161377
         ],
         "y": [
          0.0072920843958854675,
          -0.20662731677293777
         ],
         "z": [
          0.17711162567138672,
          1.1509546041488647
         ]
        },
        {
         "line": {
          "color": "#FFFACD",
          "width": 1
         },
         "mode": "lines",
         "type": "scatter3d",
         "x": [
          -0.044039249420166016,
          -0.07705201581120491
         ],
         "y": [
          0.0072920843958854675,
          -0.19075957685709
         ],
         "z": [
          0.17711162567138672,
          1.1567471027374268
         ]
        },
        {
         "line": {
          "color": "#FFFACD",
          "width": 1
         },
         "mode": "lines",
         "type": "scatter3d",
         "x": [
          -0.044039249420166016,
          -0.18230241537094116
         ],
         "y": [
          0.0072920843958854675,
          -0.17316346615552902
         ],
         "z": [
          0.17711162567138672,
          1.1509283781051636
         ]
        },
        {
         "line": {
          "color": "#FFFACD",
          "width": 1
         },
         "mode": "lines",
         "type": "scatter3d",
         "x": [
          -0.044039249420166016,
          0.46070563793182373
         ],
         "y": [
          0.0072920843958854675,
          -0.20417725294828415
         ],
         "z": [
          0.17711162567138672,
          1.0140783786773682
         ]
        },
        {
         "line": {
          "color": "#FFFACD",
          "width": 1
         },
         "mode": "lines",
         "type": "scatter3d",
         "x": [
          -0.044039249420166016,
          0.37272584438323975
         ],
         "y": [
          0.0072920843958854675,
          -0.199012853205204
         ],
         "z": [
          0.17711162567138672,
          1.0624054074287415
         ]
        },
        {
         "line": {
          "color": "#FFFACD",
          "width": 1
         },
         "mode": "lines",
         "type": "scatter3d",
         "x": [
          -0.044039249420166016,
          0.2744986116886139
         ],
         "y": [
          0.0072920843958854675,
          -0.19122961908578873
         ],
         "z": [
          0.17711162567138672,
          1.1040003299713135
         ]
        },
        {
         "line": {
          "color": "#FFFACD",
          "width": 1
         },
         "mode": "lines",
         "type": "scatter3d",
         "x": [
          -0.044039249420166016,
          0.16832681000232697
         ],
         "y": [
          0.0072920843958854675,
          -0.18070945888757706
         ],
         "z": [
          0.17711162567138672,
          1.1360464692115784
         ]
        },
        {
         "line": {
          "color": "#FFFACD",
          "width": 1
         },
         "mode": "lines",
         "type": "scatter3d",
         "x": [
          -0.044039249420166016,
          0.057689368724823
         ],
         "y": [
          0.0072920843958854675,
          -0.16762282699346542
         ],
         "z": [
          0.17711162567138672,
          1.156425654888153
         ]
        },
        {
         "line": {
          "color": "#FFFACD",
          "width": 1
         },
         "mode": "lines",
         "type": "scatter3d",
         "x": [
          -0.044039249420166016,
          -0.053261345252394676
         ],
         "y": [
          0.0072920843958854675,
          -0.15243738144636154
         ],
         "z": [
          0.17711162567138672,
          1.1642293334007263
         ]
        },
        {
         "line": {
          "color": "#FFFACD",
          "width": 1
         },
         "mode": "lines",
         "type": "scatter3d",
         "x": [
          -0.044039249420166016,
          -0.16044387221336365
         ],
         "y": [
          0.0072920843958854675,
          -0.1358383372426033
         ],
         "z": [
          0.17711162567138672,
          1.159946084022522
         ]
        },
        {
         "line": {
          "color": "#FFFACD",
          "width": 1
         },
         "mode": "lines",
         "type": "scatter3d",
         "x": [
          -0.044039249420166016,
          -0.26054228842258453
         ],
         "y": [
          0.0072920843958854675,
          -0.11858982592821121
         ],
         "z": [
          0.17711162567138672,
          1.1452438831329346
         ]
        },
        {
         "line": {
          "color": "#FFFACD",
          "width": 1
         },
         "mode": "lines",
         "type": "scatter3d",
         "x": [
          -0.044039249420166016,
          0.3962356746196747
         ],
         "y": [
          0.0072920843958854675,
          -0.15979094058275223
         ],
         "z": [
          0.17711162567138672,
          1.059291422367096
         ]
        },
        {
         "line": {
          "color": "#FFFACD",
          "width": 1
         },
         "mode": "lines",
         "type": "scatter3d",
         "x": [
          -0.044039249420166016,
          0.2993479371070862
         ],
         "y": [
          0.0072920843958854675,
          -0.15131252259016037
         ],
         "z": [
          0.17711162567138672,
          1.102816641330719
         ]
        },
        {
         "line": {
          "color": "#FFFACD",
          "width": 1
         },
         "mode": "lines",
         "type": "scatter3d",
         "x": [
          -0.044039249420166016,
          0.19381944835186005
         ],
         "y": [
          0.0072920843958854675,
          -0.14051569253206253
         ],
         "z": [
          0.17711162567138672,
          1.1370991468429565
         ]
        },
        {
         "line": {
          "color": "#FFFACD",
          "width": 1
         },
         "mode": "lines",
         "type": "scatter3d",
         "x": [
          -0.044039249420166016,
          0.08299453556537628
         ],
         "y": [
          0.0072920843958854675,
          -0.127593033015728
         ],
         "z": [
          0.17711162567138672,
          1.159795880317688
         ]
        },
        {
         "line": {
          "color": "#FFFACD",
          "width": 1
         },
         "mode": "lines",
         "type": "scatter3d",
         "x": [
          -0.044039249420166016,
          -0.028967006132006645
         ],
         "y": [
          0.0072920843958854675,
          -0.11299169063568115
         ],
         "z": [
          0.17711162567138672,
          1.1697367429733276
         ]
        },
        {
         "line": {
          "color": "#FFFACD",
          "width": 1
         },
         "mode": "lines",
         "type": "scatter3d",
         "x": [
          -0.044039249420166016,
          -0.13783257454633713
         ],
         "y": [
          0.0072920843958854675,
          -0.09734033048152924
         ],
         "z": [
          0.17711162567138672,
          1.1671897768974304
         ]
        },
        {
         "line": {
          "color": "#FFFACD",
          "width": 1
         },
         "mode": "lines",
         "type": "scatter3d",
         "x": [
          -0.044039249420166016,
          -0.24004557728767395
         ],
         "y": [
          0.0072920843958854675,
          -0.0813244879245758
         ],
         "z": [
          0.17711162567138672,
          1.153701901435852
         ]
        },
        {
         "line": {
          "color": "#FFFACD",
          "width": 1
         },
         "mode": "lines",
         "type": "scatter3d",
         "x": [
          -0.044039249420166016,
          0.4187849462032318
         ],
         "y": [
          0.0072920843958854675,
          -0.1202821359038353
         ],
         "z": [
          0.17711162567138672,
          1.0543336868286133
         ]
        },
        {
         "line": {
          "color": "#FFFACD",
          "width": 1
         },
         "mode": "lines",
         "type": "scatter3d",
         "x": [
          -0.044039249420166016,
          0.32349956035614014
         ],
         "y": [
          0.0072920843958854675,
          -0.1109388917684555
         ],
         "z": [
          0.17711162567138672,
          1.0995738506317139
         ]
        },
        {
         "line": {
          "color": "#FFFACD",
          "width": 1
         },
         "mode": "lines",
         "type": "scatter3d",
         "x": [
          -0.044039249420166016,
          0.21895042061805725
         ],
         "y": [
          0.0072920843958854675,
          -0.09969434142112732
         ],
         "z": [
          0.17711162567138672,
          1.135960042476654
         ]
        },
        {
         "line": {
          "color": "#FFFACD",
          "width": 1
         },
         "mode": "lines",
         "type": "scatter3d",
         "x": [
          -0.044039249420166016,
          0.10830675065517426
         ],
         "y": [
          0.0072920843958854675,
          -0.08678161352872849
         ],
         "z": [
          0.17711162567138672,
          1.1609514355659485
         ]
        },
        {
         "line": {
          "color": "#FFFACD",
          "width": 1
         },
         "mode": "lines",
         "type": "scatter3d",
         "x": [
          -0.044039249420166016,
          -0.004315678030252457
         ],
         "y": [
          0.0072920843958854675,
          -0.07264366745948792
         ],
         "z": [
          0.17711162567138672,
          1.1731197834014893
         ]
        },
        {
         "line": {
          "color": "#FFFACD",
          "width": 1
         },
         "mode": "lines",
         "type": "scatter3d",
         "x": [
          -0.044039249420166016,
          -0.1145775318145752
         ],
         "y": [
          0.0072920843958854675,
          -0.057862289249897
         ],
         "z": [
          0.17711162567138672,
          1.1724905371665955
         ]
        },
        {
         "line": {
          "color": "#FFFACD",
          "width": 1
         },
         "mode": "lines",
         "type": "scatter3d",
         "x": [
          -0.044039249420166016,
          -0.21870513260364532
         ],
         "y": [
          0.0072920843958854675,
          -0.043045755475759506
         ],
         "z": [
          0.17711162567138672,
          1.1604517698287964
         ]
        },
        {
         "line": {
          "color": "#FFFACD",
          "width": 1
         },
         "mode": "lines",
         "type": "scatter3d",
         "x": [
          -0.044039249420166016,
          0.44024330377578735
         ],
         "y": [
          0.0072920843958854675,
          -0.08073645085096359
         ],
         "z": [
          0.17711162567138672,
          1.047583520412445
         ]
        },
        {
         "line": {
          "color": "#FFFACD",
          "width": 1
         },
         "mode": "lines",
         "type": "scatter3d",
         "x": [
          -0.044039249420166016,
          0.34679192304611206
         ],
         "y": [
          0.0072920843958854675,
          -0.07037679851055145
         ],
         "z": [
          0.17711162567138672,
          1.0942912697792053
         ]
        },
        {
         "line": {
          "color": "#FFFACD",
          "width": 1
         },
         "mode": "lines",
         "type": "scatter3d",
         "x": [
          -0.044039249420166016,
          0.2435394525527954
         ],
         "y": [
          0.0072920843958854675,
          -0.05852028727531433
         ],
         "z": [
          0.17711162567138672,
          1.1326047778129578
         ]
        },
        {
         "line": {
          "color": "#FFFACD",
          "width": 1
         },
         "mode": "lines",
         "type": "scatter3d",
         "x": [
          -0.044039249420166016,
          0.1334456503391266
         ],
         "y": [
          0.0072920843958854675,
          -0.04545724391937256
         ],
         "z": [
          0.17711162567138672,
          1.1598203778266907
         ]
        },
        {
         "line": {
          "color": "#FFFACD",
          "width": 1
         },
         "mode": "lines",
         "type": "scatter3d",
         "x": [
          -0.044039249420166016,
          0.02053143084049225
         ],
         "y": [
          0.0072920843958854675,
          -0.03164378181099892
         ],
         "z": [
          0.17711162567138672,
          1.1742648482322693
         ]
        },
        {
         "line": {
          "color": "#FFFACD",
          "width": 1
         },
         "mode": "lines",
         "type": "scatter3d",
         "x": [
          -0.044039249420166016,
          -0.09080695360898972
         ],
         "y": [
          0.0072920843958854675,
          -0.017627933993935585
         ],
         "z": [
          0.17711162567138672,
          1.1757065057754517
         ]
        },
        {
         "line": {
          "color": "#FFFACD",
          "width": 1
         },
         "mode": "lines",
         "type": "scatter3d",
         "x": [
          -0.044039249420166016,
          -0.19661080837249756
         ],
         "y": [
          0.0072920843958854675,
          -0.003946504555642605
         ],
         "z": [
          0.17711162567138672,
          1.1653401255607605
         ]
        },
        {
         "line": {
          "color": "#FFFACD",
          "width": 1
         },
         "mode": "lines",
         "type": "scatter3d",
         "x": [
          -0.044039249420166016,
          0.4605029225349426
         ],
         "y": [
          0.0072920843958854675,
          -0.04140030965209007
         ],
         "z": [
          0.17711162567138672,
          1.0391244888305664
         ]
        },
        {
         "line": {
          "color": "#FFFACD",
          "width": 1
         },
         "mode": "lines",
         "type": "scatter3d",
         "x": [
          -0.044039249420166016,
          0.3690814673900604
         ],
         "y": [
          0.0072920843958854675,
          -0.029896609485149384
         ],
         "z": [
          0.17711162567138672,
          1.0870282053947449
         ]
        },
        {
         "line": {
          "color": "#FFFACD",
          "width": 1
         },
         "mode": "lines",
         "type": "scatter3d",
         "x": [
          -0.044039249420166016,
          0.2674161195755005
         ],
         "y": [
          0.0072920843958854675,
          -0.01727786846458912
         ],
         "z": [
          0.17711162567138672,
          1.1270546913146973
         ]
        },
        {
         "line": {
          "color": "#FFFACD",
          "width": 1
         },
         "mode": "lines",
         "type": "scatter3d",
         "x": [
          -0.044039249420166016,
          0.15823060274124146
         ],
         "y": [
          0.0072920843958854675,
          -0.003905204124748707
         ],
         "z": [
          0.17711162567138672,
          1.156377375125885
         ]
        },
        {
         "line": {
          "color": "#FFFACD",
          "width": 1
         },
         "mode": "lines",
         "type": "scatter3d",
         "x": [
          -0.044039249420166016,
          0.04540334641933441
         ],
         "y": [
          0.0072920843958854675,
          0.009735147468745708
         ],
         "z": [
          0.17711162567138672,
          1.1731005907058716
         ]
        },
        {
         "line": {
          "color": "#FFFACD",
          "width": 1
         },
         "mode": "lines",
         "type": "scatter3d",
         "x": [
          -0.044039249420166016,
          -0.06666541285812855
         ],
         "y": [
          0.0072920843958854675,
          0.023113297298550606
         ],
         "z": [
          0.17711162567138672,
          1.1767303943634033
         ]
        },
        {
         "line": {
          "color": "#FFFACD",
          "width": 1
         },
         "mode": "lines",
         "type": "scatter3d",
         "x": [
          -0.044039249420166016,
          -0.17387175559997559
         ],
         "y": [
          0.0072920843958854675,
          0.03575385734438896
         ],
         "z": [
          0.17711162567138672,
          1.1682389378547668
         ]
        },
        {
         "line": {
          "color": "#FFFACD",
          "width": 1
         },
         "mode": "lines",
         "type": "scatter3d",
         "x": [
          -0.044039249420166016,
          0.4794806241989136
         ],
         "y": [
          0.0072920843958854675,
          -0.0025091227144002914
         ],
         "z": [
          0.17711162567138672,
          1.029068648815155
         ]
        },
        {
         "line": {
          "color": "#FFFACD",
          "width": 1
         },
         "mode": "lines",
         "type": "scatter3d",
         "x": [
          -0.044039249420166016,
          0.39024680852890015
         ],
         "y": [
          0.0072920843958854675,
          0.010237908456474543
         ],
         "z": [
          0.17711162567138672,
          1.0778818130493164
         ]
        },
        {
         "line": {
          "color": "#FFFACD",
          "width": 1
         },
         "mode": "lines",
         "type": "scatter3d",
         "x": [
          -0.044039249420166016,
          0.29042568802833557
         ],
         "y": [
          0.0072920843958854675,
          0.023748908191919327
         ],
         "z": [
          0.17711162567138672,
          1.1193760633468628
         ]
        },
        {
         "line": {
          "color": "#FFFACD",
          "width": 1
         },
         "mode": "lines",
         "type": "scatter3d",
         "x": [
          -0.044039249420166016,
          0.18248707056045532
         ],
         "y": [
          0.0072920843958854675,
          0.03758229687809944
         ],
         "z": [
          0.17711162567138672,
          1.1506455540657043
         ]
        },
        {
         "line": {
          "color": "#FFFACD",
          "width": 1
         },
         "mode": "lines",
         "type": "scatter3d",
         "x": [
          -0.044039249420166016,
          0.07012495398521423
         ],
         "y": [
          0.0072920843958854675,
          0.0512065663933754
         ],
         "z": [
          0.17711162567138672,
          1.169602394104004
         ]
        },
        {
         "line": {
          "color": "#FFFACD",
          "width": 1
         },
         "mode": "lines",
         "type": "scatter3d",
         "x": [
          -0.044039249420166016,
          -0.0423099152976647
         ],
         "y": [
          0.0072920843958854675,
          0.0640931986272335
         ],
         "z": [
          0.17711162567138672,
          1.1754956245422363
         ]
        },
        {
         "line": {
          "color": "#FFFACD",
          "width": 1
         },
         "mode": "lines",
         "type": "scatter3d",
         "x": [
          -0.044039249420166016,
          -0.15061431378126144
         ],
         "y": [
          0.0072920843958854675,
          0.07581453770399094
         ],
         "z": [
          0.17711162567138672,
          1.1690523028373718
         ]
        },
        {
         "line": {
          "color": "#FFFACD",
          "width": 1
         },
         "mode": "lines",
         "type": "scatter3d",
         "x": [
          -0.044039249420166016,
          -0.25144948065280914
         ],
         "y": [
          0.0072920843958854675,
          0.08610709756612778
         ],
         "z": [
          0.17711162567138672,
          1.1521854996681213
         ]
        },
        {
         "line": {
          "color": "#FFFACD",
          "width": 1
         },
         "mode": "lines",
         "type": "scatter3d",
         "x": [
          -0.044039249420166016,
          0.41019177436828613
         ],
         "y": [
          0.0072920843958854675,
          0.049777835607528687
         ],
         "z": [
          0.17711162567138672,
          1.0669819116592407
         ]
        },
        {
         "line": {
          "color": "#FFFACD",
          "width": 1
         },
         "mode": "lines",
         "type": "scatter3d",
         "x": [
          -0.044039249420166016,
          0.31243395805358887
         ],
         "y": [
          0.0072920843958854675,
          0.06428594142198563
         ],
         "z": [
          0.17711162567138672,
          1.1096771359443665
         ]
        },
        {
         "line": {
          "color": "#FFFACD",
          "width": 1
         },
         "mode": "lines",
         "type": "scatter3d",
         "x": [
          -0.044039249420166016,
          0.2060527205467224
         ],
         "y": [
          0.0072920843958854675,
          0.07871629297733307
         ],
         "z": [
          0.17711162567138672,
          1.142695665359497
         ]
        },
        {
         "line": {
          "color": "#FFFACD",
          "width": 1
         },
         "mode": "lines",
         "type": "scatter3d",
         "x": [
          -0.044039249420166016,
          0.09452304244041443
         ],
         "y": [
          0.0072920843958854675,
          0.09247995913028717
         ],
         "z": [
          0.17711162567138672,
          1.1637946963310242
         ]
        },
        {
         "line": {
          "color": "#FFFACD",
          "width": 1
         },
         "mode": "lines",
         "type": "scatter3d",
         "x": [
          -0.044039249420166016,
          -0.017905021086335182
         ],
         "y": [
          0.0072920843958854675,
          0.1050332635641098
         ],
         "z": [
          0.17711162567138672,
          1.1719802618026733
         ]
        },
        {
         "line": {
          "color": "#FFFACD",
          "width": 1
         },
         "mode": "lines",
         "type": "scatter3d",
         "x": [
          -0.044039249420166016,
          -0.12697889655828476
         ],
         "y": [
          0.0072920843958854675,
          0.11598001420497894
         ],
         "z": [
          0.17711162567138672,
          1.167721450328827
         ]
        },
        {
         "line": {
          "color": "#FFFACD",
          "width": 1
         },
         "mode": "lines",
         "type": "scatter3d",
         "x": [
          -0.044039249420166016,
          -0.22918890416622162
         ],
         "y": [
          0.0072920843958854675,
          0.1251271516084671
         ],
         "z": [
          0.17711162567138672,
          1.1527316570281982
         ]
        },
        {
         "line": {
          "color": "#FFFACD",
          "width": 1
         },
         "mode": "lines",
         "type": "scatter3d",
         "x": [
          -0.044039249420166016,
          0.4288470447063446
         ],
         "y": [
          0.0072920843958854675,
          0.08849615603685379
         ],
         "z": [
          0.17711162567138672,
          1.0544852018356323
         ]
        },
        {
         "line": {
          "color": "#FFFACD",
          "width": 1
         },
         "mode": "lines",
         "type": "scatter3d",
         "x": [
          -0.044039249420166016,
          0.33333101868629456
         ],
         "y": [
          0.0072920843958854675,
          0.10407783091068268
         ],
         "z": [
          0.17711162567138672,
          1.0981024503707886
         ]
        },
        {
         "line": {
          "color": "#FFFACD",
          "width": 1
         },
         "mode": "lines",
         "type": "scatter3d",
         "x": [
          -0.044039249420166016,
          0.22878271341323853
         ],
         "y": [
          0.0072920843958854675,
          0.11922097206115723
         ],
         "z": [
          0.17711162567138672,
          1.132642924785614
         ]
        },
        {
         "line": {
          "color": "#FFFACD",
          "width": 1
         },
         "mode": "lines",
         "type": "scatter3d",
         "x": [
          -0.044039249420166016,
          0.11843235790729523
         ],
         "y": [
          0.0072920843958854675,
          0.13327091187238693
         ],
         "z": [
          0.17711162567138672,
          1.1557495594024658
         ]
        },
        {
         "line": {
          "color": "#FFFACD",
          "width": 1
         },
         "mode": "lines",
         "type": "scatter3d",
         "x": [
          -0.044039249420166016,
          0.006382625550031662
         ],
         "y": [
          0.0072920843958854675,
          0.14565395563840866
         ],
         "z": [
          0.17711162567138672,
          1.1662089824676514
         ]
        },
        {
         "line": {
          "color": "#FFFACD",
          "width": 1
         },
         "mode": "lines",
         "type": "scatter3d",
         "x": [
          -0.044039249420166016,
          -0.1031159795820713
         ],
         "y": [
          0.0072920843958854675,
          0.15598785132169724
         ],
         "z": [
          0.17711162567138672,
          1.1642283201217651
         ]
        },
        {
         "line": {
          "color": "#FFFACD",
          "width": 1
         },
         "mode": "lines",
         "type": "scatter3d",
         "x": [
          -0.044039249420166016,
          -0.2064215987920761
         ],
         "y": [
          0.0072920843958854675,
          0.1641346886754036
         ],
         "z": [
          0.17711162567138672,
          1.151294469833374
         ]
        },
        {
         "line": {
          "color": "#FFFACD",
          "width": 1
         },
         "mode": "lines",
         "type": "scatter3d",
         "x": [
          -0.044039249420166016,
          0.4461701512336731
         ],
         "y": [
          0.0072920843958854675,
          0.12619321048259735
         ],
         "z": [
          0.17711162567138672,
          1.0405681729316711
         ]
        },
        {
         "line": {
          "color": "#FFFACD",
          "width": 1
         },
         "mode": "lines",
         "type": "scatter3d",
         "x": [
          -0.044039249420166016,
          0.3530332148075104
         ],
         "y": [
          0.0072920843958854675,
          0.1428951397538185
         ],
         "z": [
          0.17711162567138672,
          1.084825873374939
         ]
        },
        {
         "line": {
          "color": "#FFFACD",
          "width": 1
         },
         "mode": "lines",
         "type": "scatter3d",
         "x": [
          -0.044039249420166016,
          0.2505539655685425
         ],
         "y": [
          0.0072920843958854675,
          0.15884248167276382
         ],
         "z": [
          0.17711162567138672,
          1.120640754699707
         ]
        },
        {
         "line": {
          "color": "#FFFACD",
          "width": 1
         },
         "mode": "lines",
         "type": "scatter3d",
         "x": [
          -0.044039249420166016,
          0.14170102775096893
         ],
         "y": [
          0.0072920843958854675,
          0.1733107790350914
         ],
         "z": [
          0.17711162567138672,
          1.1455837488174438
         ]
        },
        {
         "line": {
          "color": "#FFFACD",
          "width": 1
         },
         "mode": "lines",
         "type": "scatter3d",
         "x": [
          -0.044039249420166016,
          0.0303899347782135
         ],
         "y": [
          0.0072920843958854675,
          0.18568424135446548
         ],
         "z": [
          0.17711162567138672,
          1.1582520008087158
         ]
        },
        {
         "line": {
          "color": "#FFFACD",
          "width": 1
         },
         "mode": "lines",
         "type": "scatter3d",
         "x": [
          -0.044039249420166016,
          -0.07918138056993484
         ],
         "y": [
          0.0072920843958854675,
          0.19557718187570572
         ],
         "z": [
          0.17711162567138672,
          1.1585970520973206
         ]
        },
        {
         "line": {
          "color": "#FFFACD",
          "width": 1
         },
         "mode": "lines",
         "type": "scatter3d",
         "x": [
          -0.044039249420166016,
          -0.18328213691711426
         ],
         "y": [
          0.0072920843958854675,
          0.20288913697004318
         ],
         "z": [
          0.17711162567138672,
          1.14786034822464
         ]
        },
        {
         "line": {
          "color": "#FFFACD",
          "width": 1
         },
         "mode": "lines",
         "type": "scatter3d",
         "x": [
          -0.044039249420166016,
          0.4621443748474121
         ],
         "y": [
          0.0072920843958854675,
          0.16270028799772263
         ],
         "z": [
          0.17711162567138672,
          1.0254195928573608
         ]
        },
        {
         "line": {
          "color": "#FFFACD",
          "width": 1
         },
         "mode": "lines",
         "type": "scatter3d",
         "x": [
          -0.044039249420166016,
          0.37148386240005493
         ],
         "y": [
          0.0072920843958854675,
          0.1805397793650627
         ],
         "z": [
          0.17711162567138672,
          1.070042610168457
         ]
        },
        {
         "line": {
          "color": "#FFFACD",
          "width": 1
         },
         "mode": "lines",
         "type": "scatter3d",
         "x": [
          -0.044039249420166016,
          0.27126774191856384
         ],
         "y": [
          0.0072920843958854675,
          0.19735603779554367
         ],
         "z": [
          0.17711162567138672,
          1.1068735122680664
         ]
        },
        {
         "line": {
          "color": "#FFFACD",
          "width": 1
         },
         "mode": "lines",
         "type": "scatter3d",
         "x": [
          -0.044039249420166016,
          0.16419517993927002
         ],
         "y": [
          0.0072920843958854675,
          0.21235504001379013
         ],
         "z": [
          0.17711162567138672,
          1.133452296257019
         ]
        },
        {
         "line": {
          "color": "#FFFACD",
          "width": 1
         },
         "mode": "lines",
         "type": "scatter3d",
         "x": [
          -0.044039249420166016,
          0.053962744772434235
         ],
         "y": [
          0.0072920843958854675,
          0.22487034648656845
         ],
         "z": [
          0.17711162567138672,
          1.1482219099998474
         ]
        },
        {
         "line": {
          "color": "#FFFACD",
          "width": 1
         },
         "mode": "lines",
         "type": "scatter3d",
         "x": [
          -0.044039249420166016,
          -0.05533119477331638
         ],
         "y": [
          0.0072920843958854675,
          0.2344970479607582
         ],
         "z": [
          0.17711162567138672,
          1.1508930921554565
         ]
        },
        {
         "line": {
          "color": "#FFFACD",
          "width": 1
         },
         "mode": "lines",
         "type": "scatter3d",
         "x": [
          -0.044039249420166016,
          -0.1599126085639
         ],
         "y": [
          0.0072920843958854675,
          0.241153322160244
         ],
         "z": [
          0.17711162567138672,
          1.1424520611763
         ]
        },
        {
         "line": {
          "color": "#FFFACD",
          "width": 1
         },
         "mode": "lines",
         "type": "scatter3d",
         "x": [
          -0.044039249420166016,
          0.47677624225616455
         ],
         "y": [
          0.0072920843958854675,
          0.19788142293691635
         ],
         "z": [
          0.17711162567138672,
          1.00923353433609
         ]
        },
        {
         "line": {
          "color": "#FFFACD",
          "width": 1
         },
         "mode": "lines",
         "type": "scatter3d",
         "x": [
          -0.044039249420166016,
          0.38865232467651367
         ],
         "y": [
          0.0072920843958854675,
          0.21684832125902176
         ],
         "z": [
          0.17711162567138672,
          1.0539606213569641
         ]
        },
        {
         "line": {
          "color": "#FFFACD",
          "width": 1
         },
         "mode": "lines",
         "type": "scatter3d",
         "x": [
          -0.044039249420166016,
          0.29085105657577515
         ],
         "y": [
          0.0072920843958854675,
          0.23457104712724686
         ],
         "z": [
          0.17711162567138672,
          1.0915473699569702
         ]
        },
        {
         "line": {
          "color": "#FFFACD",
          "width": 1
         },
         "mode": "lines",
         "type": "scatter3d",
         "x": [
          -0.044039249420166016,
          0.18580225110054016
         ],
         "y": [
          0.0072920843958854675,
          0.25019001215696335
         ],
         "z": [
          0.17711162567138672,
          1.1195411682128906
         ]
        },
        {
         "line": {
          "color": "#FFFACD",
          "width": 1
         },
         "mode": "lines",
         "type": "scatter3d",
         "x": [
          -0.044039249420166016,
          0.07696054875850677
         ],
         "y": [
          0.0072920843958854675,
          0.2629835531115532
         ],
         "z": [
          0.17711162567138672,
          1.1362679600715637
         ]
        },
        {
         "line": {
          "color": "#FFFACD",
          "width": 1
         },
         "mode": "lines",
         "type": "scatter3d",
         "x": [
          -0.044039249420166016,
          -0.03171680402010679
         ],
         "y": [
          0.0072920843958854675,
          0.27251433581113815
         ],
         "z": [
          0.17711162567138672,
          1.1412201523780823
         ]
        },
        {
         "line": {
          "color": "#FFFACD",
          "width": 1
         },
         "mode": "lines",
         "type": "scatter3d",
         "x": [
          -0.044039249420166016,
          -0.13645830750465393
         ],
         "y": [
          0.0072920843958854675,
          0.27870067209005356
         ],
         "z": [
          0.17711162567138672,
          1.1351283192634583
         ]
        },
        {
         "line": {
          "color": "#FFFACD",
          "width": 1
         },
         "mode": "lines",
         "type": "scatter3d",
         "x": [
          -0.044039249420166016,
          -0.2342708557844162
         ],
         "y": [
          0.0072920843958854675,
          0.28178780525922775
         ],
         "z": [
          0.17711162567138672,
          1.119695246219635
         ]
        },
        {
         "line": {
          "color": "#FFFACD",
          "width": 1
         },
         "mode": "lines",
         "type": "scatter3d",
         "x": [
          -0.044039249420166016,
          0.4045321047306061
         ],
         "y": [
          0.0072920843958854675,
          0.2516931965947151
         ],
         "z": [
          0.17711162567138672,
          1.036792814731598
         ]
        },
        {
         "line": {
          "color": "#FFFACD",
          "width": 1
         },
         "mode": "lines",
         "type": "scatter3d",
         "x": [
          -0.044039249420166016,
          0.309256374835968
         ],
         "y": [
          0.0072920843958854675,
          0.2703338488936424
         ],
         "z": [
          0.17711162567138672,
          1.0748817324638367
         ]
        },
        {
         "line": {
          "color": "#FFFACD",
          "width": 1
         },
         "mode": "lines",
         "type": "scatter3d",
         "x": [
          -0.044039249420166016,
          0.20643293857574463
         ],
         "y": [
          0.0072920843958854675,
          0.2866372689604759
         ],
         "z": [
          0.17711162567138672,
          1.1040581464767456
         ]
        },
        {
         "line": {
          "color": "#FFFACD",
          "width": 1
         },
         "mode": "lines",
         "type": "scatter3d",
         "x": [
          -0.044039249420166016,
          0.09926019608974457
         ],
         "y": [
          0.0072920843958854675,
          0.2998259887099266
         ],
         "z": [
          0.17711162567138672,
          1.1225687265396118
         ]
        },
        {
         "line": {
          "color": "#FFFACD",
          "width": 1
         },
         "mode": "lines",
         "type": "scatter3d",
         "x": [
          -0.044039249420166016,
          -0.008480284363031387
         ],
         "y": [
          0.0072920843958854675,
          0.30942028015851974
         ],
         "z": [
          0.17711162567138672,
          1.1297154426574707
         ]
        },
        {
         "line": {
          "color": "#FFFACD",
          "width": 1
         },
         "mode": "lines",
         "type": "scatter3d",
         "x": [
          -0.044039249420166016,
          -0.1130632758140564
         ],
         "y": [
          0.0072920843958854675,
          0.31532176584005356
         ],
         "z": [
          0.17711162567138672,
          1.125981092453003
         ]
        },
        {
         "line": {
          "color": "#FFFACD",
          "width": 1
         },
         "mode": "lines",
         "type": "scatter3d",
         "x": [
          -0.044039249420166016,
          -0.21141409873962402
         ],
         "y": [
          0.0072920843958854675,
          0.3177911564707756
         ],
         "z": [
          0.17711162567138672,
          1.1128337383270264
         ]
        },
        {
         "line": {
          "color": "#FFFACD",
          "width": 1
         },
         "mode": "lines",
         "type": "scatter3d",
         "x": [
          -0.044039249420166016,
          0.41913798451423645
         ],
         "y": [
          0.0072920843958854675,
          0.2849821373820305
         ],
         "z": [
          0.17711162567138672,
          1.0187498927116394
         ]
        },
        {
         "line": {
          "color": "#FFFACD",
          "width": 1
         },
         "mode": "lines",
         "type": "scatter3d",
         "x": [
          -0.044039249420166016,
          0.32646024227142334
         ],
         "y": [
          0.0072920843958854675,
          0.3045283481478691
         ],
         "z": [
          0.17711162567138672,
          1.0571006536483765
         ]
        },
        {
         "line": {
          "color": "#FFFACD",
          "width": 1
         },
         "mode": "lines",
         "type": "scatter3d",
         "x": [
          -0.044039249420166016,
          0.22602173686027527
         ],
         "y": [
          0.0072920843958854675,
          0.321555994451046
         ],
         "z": [
          0.17711162567138672,
          1.0872243642807007
         ]
        },
        {
         "line": {
          "color": "#FFFACD",
          "width": 1
         },
         "mode": "lines",
         "type": "scatter3d",
         "x": [
          -0.044039249420166016,
          0.12075848877429962
         ],
         "y": [
          0.0072920843958854675,
          0.33523445576429367
         ],
         "z": [
          0.17711162567138672,
          1.1073241829872131
         ]
        },
        {
         "line": {
          "color": "#FFFACD",
          "width": 1
         },
         "mode": "lines",
         "type": "scatter3d",
         "x": [
          -0.044039249420166016,
          0.014249466359615326
         ],
         "y": [
          0.0072920843958854675,
          0.3450356051325798
         ],
         "z": [
          0.17711162567138672,
          1.116543173789978
         ]
        },
        {
         "line": {
          "color": "#FFFACD",
          "width": 1
         },
         "mode": "lines",
         "type": "scatter3d",
         "x": [
          -0.044039249420166016,
          -0.08986610919237137
         ],
         "y": [
          0.0072920843958854675,
          0.35082995146512985
         ],
         "z": [
          0.17711162567138672,
          1.1151316165924072
         ]
        },
        {
         "line": {
          "color": "#FFFACD",
          "width": 1
         },
         "mode": "lines",
         "type": "scatter3d",
         "x": [
          -0.044039249420166016,
          -0.18847092986106873
         ],
         "y": [
          0.0072920843958854675,
          0.35287492722272873
         ],
         "z": [
          0.17711162567138672,
          1.1043181419372559
         ]
        },
        {
         "line": {
          "color": "#FFFACD",
          "width": 1
         },
         "mode": "lines",
         "type": "scatter3d",
         "x": [
          -0.044039249420166016,
          0.4325026571750641
         ],
         "y": [
          0.0072920843958854675,
          0.31665604561567307
         ],
         "z": [
          0.17711162567138672,
          1.0000342726707458
         ]
        },
        {
         "line": {
          "color": "#FFFACD",
          "width": 1
         },
         "mode": "lines",
         "type": "scatter3d",
         "x": [
          -0.044039249420166016,
          0.3424609303474426
         ],
         "y": [
          0.0072920843958854675,
          0.3370749279856682
         ],
         "z": [
          0.17711162567138672,
          1.0384250283241272
         ]
        },
        {
         "line": {
          "color": "#FFFACD",
          "width": 1
         },
         "mode": "lines",
         "type": "scatter3d",
         "x": [
          -0.044039249420166016,
          0.24452635645866394
         ],
         "y": [
          0.0072920843958854675,
          0.35484301298856735
         ],
         "z": [
          0.17711162567138672,
          1.0692653059959412
         ]
        },
        {
         "line": {
          "color": "#FFFACD",
          "width": 1
         },
         "mode": "lines",
         "type": "scatter3d",
         "x": [
          -0.044039249420166016,
          0.1413734257221222
         ],
         "y": [
          0.0072920843958854675,
          0.3690822646021843
         ],
         "z": [
          0.17711162567138672,
          1.0907471776008606
         ]
        },
        {
         "line": {
          "color": "#FFFACD",
          "width": 1
         },
         "mode": "lines",
         "type": "scatter3d",
         "x": [
          -0.044039249420166016,
          0.03635968267917633
         ],
         "y": [
          0.0072920843958854675,
          0.3792136535048485
         ],
         "z": [
          0.17711162567138672,
          1.1018874049186707
         ]
        },
        {
         "line": {
          "color": "#ADD8E6",
          "width": 1
         },
         "mode": "lines",
         "type": "scatter3d",
         "x": [
          0.2703942358493805,
          0.35540347546339035
         ],
         "y": [
          -0.14596259593963623,
          -0.5558131039142609
         ],
         "z": [
          -0.17638254165649414,
          0.7318003177642822
         ]
        },
        {
         "line": {
          "color": "#ADD8E6",
          "width": 1
         },
         "mode": "lines",
         "type": "scatter3d",
         "x": [
          0.2703942358493805,
          0.9101478159427643
         ],
         "y": [
          -0.14596259593963623,
          -0.5932040214538574
         ],
         "z": [
          -0.17638254165649414,
          0.4486698508262634
         ]
        },
        {
         "line": {
          "color": "#ADD8E6",
          "width": 1
         },
         "mode": "lines",
         "type": "scatter3d",
         "x": [
          0.2703942358493805,
          0.835344523191452
         ],
         "y": [
          -0.14596259593963623,
          -0.593966156244278
         ],
         "z": [
          -0.17638254165649414,
          0.5165272951126099
         ]
        },
        {
         "line": {
          "color": "#ADD8E6",
          "width": 1
         },
         "mode": "lines",
         "type": "scatter3d",
         "x": [
          0.2703942358493805,
          0.7514390647411346
         ],
         "y": [
          -0.14596259593963623,
          -0.5899107456207275
         ],
         "z": [
          -0.17638254165649414,
          0.5795975923538208
         ]
        },
        {
         "line": {
          "color": "#ADD8E6",
          "width": 1
         },
         "mode": "lines",
         "type": "scatter3d",
         "x": [
          0.2703942358493805,
          0.6605806350708008
         ],
         "y": [
          -0.14596259593963623,
          -0.5807515382766724
         ],
         "z": [
          -0.17638254165649414,
          0.6352289319038391
         ]
        },
        {
         "line": {
          "color": "#ADD8E6",
          "width": 1
         },
         "mode": "lines",
         "type": "scatter3d",
         "x": [
          0.2703942358493805,
          0.5657332837581635
         ],
         "y": [
          -0.14596259593963623,
          -0.5667014420032501
         ],
         "z": [
          -0.17638254165649414,
          0.6813783645629883
         ]
        },
        {
         "line": {
          "color": "#ADD8E6",
          "width": 1
         },
         "mode": "lines",
         "type": "scatter3d",
         "x": [
          0.2703942358493805,
          0.47021330893039703
         ],
         "y": [
          -0.14596259593963623,
          -0.5484531223773956
         ],
         "z": [
          -0.17638254165649414,
          0.7169672250747681
         ]
        },
        {
         "line": {
          "color": "#ADD8E6",
          "width": 1
         },
         "mode": "lines",
         "type": "scatter3d",
         "x": [
          0.2703942358493805,
          0.377144992351532
         ],
         "y": [
          -0.14596259593963623,
          -0.5270353853702545
         ],
         "z": [
          -0.17638254165649414,
          0.7419790029525757
         ]
        },
        {
         "line": {
          "color": "#ADD8E6",
          "width": 1
         },
         "mode": "lines",
         "type": "scatter3d",
         "x": [
          0.2703942358493805,
          0.935661107301712
         ],
         "y": [
          -0.14596259593963623,
          -0.5590125620365143
         ],
         "z": [
          -0.17638254165649414,
          0.44555777311325073
         ]
        },
        {
         "line": {
          "color": "#ADD8E6",
          "width": 1
         },
         "mode": "lines",
         "type": "scatter3d",
         "x": [
          0.2703942358493805,
          0.8621734082698822
         ],
         "y": [
          -0.14596259593963623,
          -0.5598101615905762
         ],
         "z": [
          -0.17638254165649414,
          0.5153743624687195
         ]
        },
        {
         "line": {
          "color": "#ADD8E6",
          "width": 1
         },
         "mode": "lines",
         "type": "scatter3d",
         "x": [
          0.2703942358493805,
          0.7788949906826019
         ],
         "y": [
          -0.14596259593963623,
          -0.5561003088951111
         ],
         "z": [
          -0.17638254165649414,
          0.5807265043258667
         ]
        },
        {
         "line": {
          "color": "#ADD8E6",
          "width": 1
         },
         "mode": "lines",
         "type": "scatter3d",
         "x": [
          0.2703942358493805,
          0.687849372625351
         ],
         "y": [
          -0.14596259593963623,
          -0.5475491881370544
         ],
         "z": [
          -0.17638254165649414,
          0.6387612819671631
         ]
        },
        {
         "line": {
          "color": "#ADD8E6",
          "width": 1
         },
         "mode": "lines",
         "type": "scatter3d",
         "x": [
          0.2703942358493805,
          0.5920005142688751
         ],
         "y": [
          -0.14596259593963623,
          -0.5343021750450134
         ],
         "z": [
          -0.17638254165649414,
          0.6871924996376038
         ]
        },
        {
         "line": {
          "color": "#ADD8E6",
          "width": 1
         },
         "mode": "lines",
         "type": "scatter3d",
         "x": [
          0.2703942358493805,
          0.4947948157787323
         ],
         "y": [
          -0.14596259593963623,
          -0.5169838070869446
         ],
         "z": [
          -0.17638254165649414,
          0.7247210741043091
         ]
        },
        {
         "line": {
          "color": "#ADD8E6",
          "width": 1
         },
         "mode": "lines",
         "type": "scatter3d",
         "x": [
          0.2703942358493805,
          0.3995751738548279
         ],
         "y": [
          -0.14596259593963623,
          -0.49656903743743896
         ],
         "z": [
          -0.17638254165649414,
          0.7511882185935974
         ]
        },
        {
         "line": {
          "color": "#ADD8E6",
          "width": 1
         },
         "mode": "lines",
         "type": "scatter3d",
         "x": [
          0.2703942358493805,
          0.9602875411510468
         ],
         "y": [
          -0.14596259593963623,
          -0.5235723853111267
         ],
         "z": [
          -0.17638254165649414,
          0.4412403702735901
         ]
        },
        {
         "line": {
          "color": "#ADD8E6",
          "width": 1
         },
         "mode": "lines",
         "type": "scatter3d",
         "x": [
          0.2703942358493805,
          0.8883555829524994
         ],
         "y": [
          -0.14596259593963623,
          -0.5242118835449219
         ],
         "z": [
          -0.17638254165649414,
          0.5128571391105652
         ]
        },
        {
         "line": {
          "color": "#ADD8E6",
          "width": 1
         },
         "mode": "lines",
         "type": "scatter3d",
         "x": [
          0.2703942358493805,
          0.8059960305690765
         ],
         "y": [
          -0.14596259593963623,
          -0.5206897854804993
         ],
         "z": [
          -0.17638254165649414,
          0.5803937315940857
         ]
        },
        {
         "line": {
          "color": "#ADD8E6",
          "width": 1
         },
         "mode": "lines",
         "type": "scatter3d",
         "x": [
          0.2703942358493805,
          0.7150710821151733
         ],
         "y": [
          -0.14596259593963623,
          -0.512641578912735
         ],
         "z": [
          -0.17638254165649414,
          0.6408133506774902
         ]
        },
        {
         "line": {
          "color": "#ADD8E6",
          "width": 1
         },
         "mode": "lines",
         "type": "scatter3d",
         "x": [
          0.2703942358493805,
          0.6185033917427063
         ],
         "y": [
          -0.14596259593963623,
          -0.5001530349254608
         ],
         "z": [
          -0.17638254165649414,
          0.691585898399353
         ]
        },
        {
         "line": {
          "color": "#ADD8E6",
          "width": 1
         },
         "mode": "lines",
         "type": "scatter3d",
         "x": [
          0.2703942358493805,
          0.519836887717247
         ],
         "y": [
          -0.14596259593963623,
          -0.48377829790115356
         ],
         "z": [
          -0.17638254165649414,
          0.7311740517616272
         ]
        },
        {
         "line": {
          "color": "#ADD8E6",
          "width": 1
         },
         "mode": "lines",
         "type": "scatter3d",
         "x": [
          0.2703942358493805,
          0.42261838912963867
         ],
         "y": [
          -0.14596259593963623,
          -0.4644281566143036
         ],
         "z": [
          -0.17638254165649414,
          0.7592496275901794
         ]
        },
        {
         "line": {
          "color": "#ADD8E6",
          "width": 1
         },
         "mode": "lines",
         "type": "scatter3d",
         "x": [
          0.2703942358493805,
          0.9838481247425079
         ],
         "y": [
          -0.14596259593963623,
          -0.48704850673675537
         ],
         "z": [
          -0.17638254165649414,
          0.43569910526275635
         ]
        },
        {
         "line": {
          "color": "#ADD8E6",
          "width": 1
         },
         "mode": "lines",
         "type": "scatter3d",
         "x": [
          0.2703942358493805,
          0.9136893451213837
         ],
         "y": [
          -0.14596259593963623,
          -0.4873265326023102
         ],
         "z": [
          -0.17638254165649414,
          0.5089218616485596
         ]
        },
        {
         "line": {
          "color": "#ADD8E6",
          "width": 1
         },
         "mode": "lines",
         "type": "scatter3d",
         "x": [
          0.2703942358493805,
          0.8325330913066864
         ],
         "y": [
          -0.14596259593963623,
          -0.4838159382343292
         ],
         "z": [
          -0.17638254165649414,
          0.5785049200057983
         ]
        },
        {
         "line": {
          "color": "#ADD8E6",
          "width": 1
         },
         "mode": "lines",
         "type": "scatter3d",
         "x": [
          0.2703942358493805,
          0.7420475482940674
         ],
         "y": [
          -0.14596259593963623,
          -0.4761411249637604
         ],
         "z": [
          -0.17638254165649414,
          0.6412514448165894
         ]
        },
        {
         "line": {
          "color": "#ADD8E6",
          "width": 1
         },
         "mode": "lines",
         "type": "scatter3d",
         "x": [
          0.2703942358493805,
          0.6450707912445068
         ],
         "y": [
          -0.14596259593963623,
          -0.46434032917022705
         ],
         "z": [
          -0.17638254165649414,
          0.6943947672843933
         ]
        },
        {
         "line": {
          "color": "#ADD8E6",
          "width": 1
         },
         "mode": "lines",
         "type": "scatter3d",
         "x": [
          0.2703942358493805,
          0.5452054738998413
         ],
         "y": [
          -0.14596259593963623,
          -0.44889897108078003
         ],
         "z": [
          -0.17638254165649414,
          0.7361460328102112
         ]
        },
        {
         "line": {
          "color": "#ADD8E6",
          "width": 1
         },
         "mode": "lines",
         "type": "scatter3d",
         "x": [
          0.2703942358493805,
          0.4461796283721924
         ],
         "y": [
          -0.14596259593963623,
          -0.43065568804740906
         ],
         "z": [
          -0.17638254165649414,
          0.7659811973571777
         ]
        },
        {
         "line": {
          "color": "#ADD8E6",
          "width": 1
         },
         "mode": "lines",
         "type": "scatter3d",
         "x": [
          0.2703942358493805,
          1.0061765015125275
         ],
         "y": [
          -0.14596259593963623,
          -0.44962990283966064
         ],
         "z": [
          -0.17638254165649414,
          0.42893606424331665
         ]
        },
        {
         "line": {
          "color": "#ADD8E6",
          "width": 1
         },
         "mode": "lines",
         "type": "scatter3d",
         "x": [
          0.2703942358493805,
          0.9379792511463165
         ],
         "y": [
          -0.14596259593963623,
          -0.44933995604515076
         ],
         "z": [
          -0.17638254165649414,
          0.5035383701324463
         ]
        },
        {
         "line": {
          "color": "#ADD8E6",
          "width": 1
         },
         "mode": "lines",
         "type": "scatter3d",
         "x": [
          0.2703942358493805,
          0.8582949340343475
         ],
         "y": [
          -0.14596259593963623,
          -0.44565150141716003
         ],
         "z": [
          -0.17638254165649414,
          0.5749891400337219
         ]
        },
        {
         "line": {
          "color": "#ADD8E6",
          "width": 1
         },
         "mode": "lines",
         "type": "scatter3d",
         "x": [
          0.2703942358493805,
          0.768569827079773
         ],
         "y": [
          -0.14596259593963623,
          -0.4381990134716034
         ],
         "z": [
          -0.17638254165649414,
          0.639962375164032
         ]
        },
        {
         "line": {
          "color": "#ADD8E6",
          "width": 1
         },
         "mode": "lines",
         "type": "scatter3d",
         "x": [
          0.2703942358493805,
          0.6715147495269775
         ],
         "y": [
          -0.14596259593963623,
          -0.42698919773101807
         ],
         "z": [
          -0.17638254165649414,
          0.6954697966575623
         ]
        },
        {
         "line": {
          "color": "#ADD8E6",
          "width": 1
         },
         "mode": "lines",
         "type": "scatter3d",
         "x": [
          0.2703942358493805,
          0.5707467496395111
         ],
         "y": [
          -0.14596259593963623,
          -0.41244444251060486
         ],
         "z": [
          -0.17638254165649414,
          0.739464521408081
         ]
        },
        {
         "line": {
          "color": "#ADD8E6",
          "width": 1
         },
         "mode": "lines",
         "type": "scatter3d",
         "x": [
          0.2703942358493805,
          0.47014445066452026
         ],
         "y": [
          -0.14596259593963623,
          -0.3953269124031067
         ],
         "z": [
          -0.17638254165649414,
          0.7712024450302124
         ]
        },
        {
         "line": {
          "color": "#ADD8E6",
          "width": 1
         },
         "mode": "lines",
         "type": "scatter3d",
         "x": [
          0.2703942358493805,
          1.0271247923374176
         ],
         "y": [
          -0.14596259593963623,
          -0.41152480244636536
         ],
         "z": [
          -0.17638254165649414,
          0.42097461223602295
         ]
        },
        {
         "line": {
          "color": "#ADD8E6",
          "width": 1
         },
         "mode": "lines",
         "type": "scatter3d",
         "x": [
          0.2703942358493805,
          0.9610429108142853
         ],
         "y": [
          -0.14596259593963623,
          -0.4104646146297455
         ],
         "z": [
          -0.17638254165649414,
          0.4967021942138672
         ]
        },
        {
         "line": {
          "color": "#ADD8E6",
          "width": 1
         },
         "mode": "lines",
         "type": "scatter3d",
         "x": [
          0.2703942358493805,
          0.8830749094486237
         ],
         "y": [
          -0.14596259593963623,
          -0.4064023196697235
         ],
         "z": [
          -0.17638254165649414,
          0.5698034763336182
         ]
        },
        {
         "line": {
          "color": "#ADD8E6",
          "width": 1
         },
         "mode": "lines",
         "type": "scatter3d",
         "x": [
          0.2703942358493805,
          0.7944246232509613
         ],
         "y": [
          -0.14596259593963623,
          -0.3990042805671692
         ],
         "z": [
          -0.17638254165649414,
          0.6368591785430908
         ]
        },
        {
         "line": {
          "color": "#ADD8E6",
          "width": 1
         },
         "mode": "lines",
         "type": "scatter3d",
         "x": [
          0.2703942358493805,
          0.6976348459720612
         ],
         "y": [
          -0.14596259593963623,
          -0.3882642090320587
         ],
         "z": [
          -0.17638254165649414,
          0.6946831345558167
         ]
        },
        {
         "line": {
          "color": "#ADD8E6",
          "width": 1
         },
         "mode": "lines",
         "type": "scatter3d",
         "x": [
          0.2703942358493805,
          0.5962895750999451
         ],
         "y": [
          -0.14596259593963623,
          -0.3745516836643219
         ],
         "z": [
          -0.17638254165649414,
          0.7409719824790955
         ]
        },
        {
         "line": {
          "color": "#ADD8E6",
          "width": 1
         },
         "mode": "lines",
         "type": "scatter3d",
         "x": [
          0.2703942358493805,
          0.49437975883483887
         ],
         "y": [
          -0.14596259593963623,
          -0.3585518002510071
         ],
         "z": [
          -0.17638254165649414,
          0.7747412323951721
         ]
        },
        {
         "line": {
          "color": "#ADD8E6",
          "width": 1
         },
         "mode": "lines",
         "type": "scatter3d",
         "x": [
          0.2703942358493805,
          0.3955785930156708
         ],
         "y": [
          -0.14596259593963623,
          -0.34111712872982025
         ],
         "z": [
          -0.17638254165649414,
          0.7963680028915405
         ]
        },
        {
         "line": {
          "color": "#ADD8E6",
          "width": 1
         },
         "mode": "lines",
         "type": "scatter3d",
         "x": [
          0.2703942358493805,
          0.9827171266078949
         ],
         "y": [
          -0.14596259593963623,
          -0.37093396484851837
         ],
         "z": [
          -0.17638254165649414,
          0.4884362816810608
         ]
        },
        {
         "line": {
          "color": "#ADD8E6",
          "width": 1
         },
         "mode": "lines",
         "type": "scatter3d",
         "x": [
          0.2703942358493805,
          0.9066785871982574
         ],
         "y": [
          -0.14596259593963623,
          -0.3663027882575989
         ],
         "z": [
          -0.17638254165649414,
          0.5629363656044006
         ]
        },
        {
         "line": {
          "color": "#ADD8E6",
          "width": 1
         },
         "mode": "lines",
         "type": "scatter3d",
         "x": [
          0.2703942358493805,
          0.8194012939929962
         ],
         "y": [
          -0.14596259593963623,
          -0.3587803542613983
         ],
         "z": [
          -0.17638254165649414,
          0.6318871378898621
         ]
        },
        {
         "line": {
          "color": "#ADD8E6",
          "width": 1
         },
         "mode": "lines",
         "type": "scatter3d",
         "x": [
          0.2703942358493805,
          0.7232243418693542
         ],
         "y": [
          -0.14596259593963623,
          -0.3483677804470062
         ],
         "z": [
          -0.17638254165649414,
          0.6919360160827637
         ]
        },
        {
         "line": {
          "color": "#ADD8E6",
          "width": 1
         },
         "mode": "lines",
         "type": "scatter3d",
         "x": [
          0.2703942358493805,
          0.6216495931148529
         ],
         "y": [
          -0.14596259593963623,
          -0.33539578318595886
         ],
         "z": [
          -0.17638254165649414,
          0.7405333518981934
         ]
        },
        {
         "line": {
          "color": "#ADD8E6",
          "width": 1
         },
         "mode": "lines",
         "type": "scatter3d",
         "x": [
          0.2703942358493805,
          0.5187357515096664
         ],
         "y": [
          -0.14596259593963623,
          -0.32047638297080994
         ],
         "z": [
          -0.17638254165649414,
          0.7764403820037842
         ]
        },
        {
         "line": {
          "color": "#ADD8E6",
          "width": 1
         },
         "mode": "lines",
         "type": "scatter3d",
         "x": [
          0.2703942358493805,
          0.4183419942855835
         ],
         "y": [
          -0.14596259593963623,
          -0.3043733388185501
         ],
         "z": [
          -0.17638254165649414,
          0.7998436093330383
         ]
        },
        {
         "line": {
          "color": "#ADD8E6",
          "width": 1
         },
         "mode": "lines",
         "type": "scatter3d",
         "x": [
          0.2703942358493805,
          1.002863496541977
         ],
         "y": [
          -0.14596259593963623,
          -0.3309955894947052
         ],
         "z": [
          -0.17638254165649414,
          0.47879040241241455
         ]
        },
        {
         "line": {
          "color": "#ADD8E6",
          "width": 1
         },
         "mode": "lines",
         "type": "scatter3d",
         "x": [
          0.2703942358493805,
          0.9289308488368988
         ],
         "y": [
          -0.14596259593963623,
          -0.32560913264751434
         ],
         "z": [
          -0.17638254165649414,
          0.5544092655181885
         ]
        },
        {
         "line": {
          "color": "#ADD8E6",
          "width": 1
         },
         "mode": "lines",
         "type": "scatter3d",
         "x": [
          0.2703942358493805,
          0.8432997763156891
         ],
         "y": [
          -0.14596259593963623,
          -0.31777969002723694
         ],
         "z": [
          -0.17638254165649414,
          0.6250275373458862
         ]
        },
        {
         "line": {
          "color": "#ADD8E6",
          "width": 1
         },
         "mode": "lines",
         "type": "scatter3d",
         "x": [
          0.2703942358493805,
          0.7480767965316772
         ],
         "y": [
          -0.14596259593963623,
          -0.30753639340400696
         ],
         "z": [
          -0.17638254165649414,
          0.6871644258499146
         ]
        },
        {
         "line": {
          "color": "#ADD8E6",
          "width": 1
         },
         "mode": "lines",
         "type": "scatter3d",
         "x": [
          0.2703942358493805,
          0.6466343104839325
         ],
         "y": [
          -0.14596259593963623,
          -0.2951880544424057
         ],
         "z": [
          -0.17638254165649414,
          0.7380436062812805
         ]
        },
        {
         "line": {
          "color": "#ADD8E6",
          "width": 1
         },
         "mode": "lines",
         "type": "scatter3d",
         "x": [
          0.2703942358493805,
          0.5430490970611572
         ],
         "y": [
          -0.14596259593963623,
          -0.2812820374965668
         ],
         "z": [
          -0.17638254165649414,
          0.7761656641960144
         ]
        },
        {
         "line": {
          "color": "#ADD8E6",
          "width": 1
         },
         "mode": "lines",
         "type": "scatter3d",
         "x": [
          0.2703942358493805,
          0.4413314610719681
         ],
         "y": [
          -0.14596259593963623,
          -0.26649220287799835
         ],
         "z": [
          -0.17638254165649414,
          0.8014994263648987
         ]
        },
        {
         "line": {
          "color": "#ADD8E6",
          "width": 1
         },
         "mode": "lines",
         "type": "scatter3d",
         "x": [
          0.2703942358493805,
          1.0213731825351715
         ],
         "y": [
          -0.14596259593963623,
          -0.29090355336666107
         ],
         "z": [
          -0.17638254165649414,
          0.4678400754928589
         ]
        },
        {
         "line": {
          "color": "#ADD8E6",
          "width": 1
         },
         "mode": "lines",
         "type": "scatter3d",
         "x": [
          0.2703942358493805,
          0.9496819078922272
         ],
         "y": [
          -0.14596259593963623,
          -0.2845913767814636
         ],
         "z": [
          -0.17638254165649414,
          0.5442770719528198
         ]
        },
        {
         "line": {
          "color": "#ADD8E6",
          "width": 1
         },
         "mode": "lines",
         "type": "scatter3d",
         "x": [
          0.2703942358493805,
          0.8659377992153168
         ],
         "y": [
          -0.14596259593963623,
          -0.27627621591091156
         ],
         "z": [
          -0.17638254165649414,
          0.6163004040718079
         ]
        },
        {
         "line": {
          "color": "#ADD8E6",
          "width": 1
         },
         "mode": "lines",
         "type": "scatter3d",
         "x": [
          0.2703942358493805,
          0.7719937860965729
         ],
         "y": [
          -0.14596259593963623,
          -0.26603446155786514
         ],
         "z": [
          -0.17638254165649414,
          0.6803441643714905
         ]
        },
        {
         "line": {
          "color": "#ADD8E6",
          "width": 1
         },
         "mode": "lines",
         "type": "scatter3d",
         "x": [
          0.2703942358493805,
          0.6710492372512817
         ],
         "y": [
          -0.14596259593963623,
          -0.2541716545820236
         ],
         "z": [
          -0.17638254165649414,
          0.7334341406822205
         ]
        },
        {
         "line": {
          "color": "#ADD8E6",
          "width": 1
         },
         "mode": "lines",
         "type": "scatter3d",
         "x": [
          0.2703942358493805,
          0.5671471953392029
         ],
         "y": [
          -0.14596259593963623,
          -0.24118302762508392
         ],
         "z": [
          -0.17638254165649414,
          0.7738125920295715
         ]
        },
        {
         "line": {
          "color": "#ADD8E6",
          "width": 1
         },
         "mode": "lines",
         "type": "scatter3d",
         "x": [
          0.2703942358493805,
          0.46440695226192474
         ],
         "y": [
          -0.14596259593963623,
          -0.22765609622001648
         ],
         "z": [
          -0.17638254165649414,
          0.801209032535553
         ]
        },
        {
         "line": {
          "color": "#ADD8E6",
          "width": 1
         },
         "mode": "lines",
         "type": "scatter3d",
         "x": [
          0.2703942358493805,
          1.038169115781784
         ],
         "y": [
          -0.14596259593963623,
          -0.25091036409139633
         ],
         "z": [
          -0.17638254165649414,
          0.4556836485862732
         ]
        },
        {
         "line": {
          "color": "#ADD8E6",
          "width": 1
         },
         "mode": "lines",
         "type": "scatter3d",
         "x": [
          0.2703942358493805,
          0.9688127934932709
         ],
         "y": [
          -0.14596259593963623,
          -0.24352456629276276
         ],
         "z": [
          -0.17638254165649414,
          0.5326260328292847
         ]
        },
        {
         "line": {
          "color": "#ADD8E6",
          "width": 1
         },
         "mode": "lines",
         "type": "scatter3d",
         "x": [
          0.2703942358493805,
          0.8871577680110931
         ],
         "y": [
          -0.14596259593963623,
          -0.2345564067363739
         ],
         "z": [
          -0.17638254165649414,
          0.6057644486427307
         ]
        },
        {
         "line": {
          "color": "#ADD8E6",
          "width": 1
         },
         "mode": "lines",
         "type": "scatter3d",
         "x": [
          0.2703942358493805,
          0.7947921454906464
         ],
         "y": [
          -0.14596259593963623,
          -0.22414622455835342
         ],
         "z": [
          -0.17638254165649414,
          0.6714937686920166
         ]
        },
        {
         "line": {
          "color": "#ADD8E6",
          "width": 1
         },
         "mode": "lines",
         "type": "scatter3d",
         "x": [
          0.2703942358493805,
          0.6947048604488373
         ],
         "y": [
          -0.14596259593963623,
          -0.21261510252952576
         ],
         "z": [
          -0.17638254165649414,
          0.7266777753829956
         ]
        },
        {
         "line": {
          "color": "#ADD8E6",
          "width": 1
         },
         "mode": "lines",
         "type": "scatter3d",
         "x": [
          0.2703942358493805,
          0.5908534526824951
         ],
         "y": [
          -0.14596259593963623,
          -0.2004217989742756
         ],
         "z": [
          -0.17638254165649414,
          0.7693130373954773
         ]
        },
        {
         "line": {
          "color": "#ADD8E6",
          "width": 1
         },
         "mode": "lines",
         "type": "scatter3d",
         "x": [
          0.2703942358493805,
          0.48741862177848816
         ],
         "y": [
          -0.14596259593963623,
          -0.18807578086853027
         ],
         "z": [
          -0.17638254165649414,
          0.7988748550415039
         ]
        },
        {
         "line": {
          "color": "#ADD8E6",
          "width": 1
         },
         "mode": "lines",
         "type": "scatter3d",
         "x": [
          0.2703942358493805,
          1.0532077252864838
         ],
         "y": [
          -0.14596259593963623,
          -0.2112593725323677
         ],
         "z": [
          -0.17638254165649414,
          0.44243836402893066
         ]
        },
        {
         "line": {
          "color": "#ADD8E6",
          "width": 1
         },
         "mode": "lines",
         "type": "scatter3d",
         "x": [
          0.2703942358493805,
          0.9862382113933563
         ],
         "y": [
          -0.14596259593963623,
          -0.202679555863142
         ],
         "z": [
          -0.17638254165649414,
          0.5195704698562622
         ]
        },
        {
         "line": {
          "color": "#ADD8E6",
          "width": 1
         },
         "mode": "lines",
         "type": "scatter3d",
         "x": [
          0.2703942358493805,
          0.9068323075771332
         ],
         "y": [
          -0.14596259593963623,
          -0.19290948286652565
         ],
         "z": [
          -0.17638254165649414,
          0.5935152173042297
         ]
        },
        {
         "line": {
          "color": "#ADD8E6",
          "width": 1
         },
         "mode": "lines",
         "type": "scatter3d",
         "x": [
          0.2703942358493805,
          0.8163109719753265
         ],
         "y": [
          -0.14596259593963623,
          -0.1821661740541458
         ],
         "z": [
          -0.17638254165649414,
          0.6606743335723877
         ]
        },
        {
         "line": {
          "color": "#ADD8E6",
          "width": 1
         },
         "mode": "lines",
         "type": "scatter3d",
         "x": [
          0.2703942358493805,
          0.7174235284328461
         ],
         "y": [
          -0.14596259593963623,
          -0.17080392688512802
         ],
         "z": [
          -0.17638254165649414,
          0.7177917957305908
         ]
        },
        {
         "line": {
          "color": "#ADD8E6",
          "width": 1
         },
         "mode": "lines",
         "type": "scatter3d",
         "x": [
          0.2703942358493805,
          0.6139931380748749
         ],
         "y": [
          -0.14596259593963623,
          -0.1592624755576253
         ],
         "z": [
          -0.17638254165649414,
          0.7626398205757141
         ]
        },
        {
         "line": {
          "color": "#ADD8E6",
          "width": 1
         },
         "mode": "lines",
         "type": "scatter3d",
         "x": [
          0.2703942358493805,
          0.5102109760046005
         ],
         "y": [
          -0.14596259593963623,
          -0.1479857312515378
         ],
         "z": [
          -0.17638254165649414,
          0.7944335341453552
         ]
        },
        {
         "line": {
          "color": "#ADD8E6",
          "width": 1
         },
         "mode": "lines",
         "type": "scatter3d",
         "x": [
          0.2703942358493805,
          0.40986356139183044
         ],
         "y": [
          -0.14596259593963623,
          -0.13734385836869478
         ],
         "z": [
          -0.17638254165649414,
          0.8138063549995422
         ]
        },
        {
         "line": {
          "color": "#ADD8E6",
          "width": 1
         },
         "mode": "lines",
         "type": "scatter3d",
         "x": [
          0.2703942358493805,
          1.0019080936908722
         ],
         "y": [
          -0.14596259593963623,
          -0.16231453604996204
         ],
         "z": [
          -0.17638254165649414,
          0.5052478909492493
         ]
        },
        {
         "line": {
          "color": "#ADD8E6",
          "width": 1
         },
         "mode": "lines",
         "type": "scatter3d",
         "x": [
          0.2703942358493805,
          0.9248677790164948
         ],
         "y": [
          -0.14596259593963623,
          -0.15161748975515366
         ],
         "z": [
          -0.17638254165649414,
          0.5796812176704407
         ]
        },
        {
         "line": {
          "color": "#ADD8E6",
          "width": 1
         },
         "mode": "lines",
         "type": "scatter3d",
         "x": [
          0.2703942358493805,
          0.83641716837883
         ],
         "y": [
          -0.14596259593963623,
          -0.14038882264867425
         ],
         "z": [
          -0.17638254165649414,
          0.6479881405830383
         ]
        },
        {
         "line": {
          "color": "#ADD8E6",
          "width": 1
         },
         "mode": "lines",
         "type": "scatter3d",
         "x": [
          0.2703942358493805,
          0.7390460073947906
         ],
         "y": [
          -0.14596259593963623,
          -0.1290310025215149
         ],
         "z": [
          -0.17638254165649414,
          0.7068381905555725
         ]
        },
        {
         "line": {
          "color": "#ADD8E6",
          "width": 1
         },
         "mode": "lines",
         "type": "scatter3d",
         "x": [
          0.2703942358493805,
          0.6363995671272278
         ],
         "y": [
          -0.14596259593963623,
          -0.11798266135156155
         ],
         "z": [
          -0.17638254165649414,
          0.7538095116615295
         ]
        },
        {
         "line": {
          "color": "#ADD8E6",
          "width": 1
         },
         "mode": "lines",
         "type": "scatter3d",
         "x": [
          0.2703942358493805,
          0.5326277911663055
         ],
         "y": [
          -0.14596259593963623,
          -0.10763783752918243
         ],
         "z": [
          -0.17638254165649414,
          0.7878605723381042
         ]
        },
        {
         "line": {
          "color": "#ADD8E6",
          "width": 1
         },
         "mode": "lines",
         "type": "scatter3d",
         "x": [
          0.2703942358493805,
          0.43161074817180634
         ],
         "y": [
          -0.14596259593963623,
          -0.09828108921647072
         ],
         "z": [
          -0.17638254165649414,
          0.8093840479850769
         ]
        },
        {
         "line": {
          "color": "#ADD8E6",
          "width": 1
         },
         "mode": "lines",
         "type": "scatter3d",
         "x": [
          0.2703942358493805,
          1.0158070623874664
         ],
         "y": [
          -0.14596259593963623,
          -0.12266748026013374
         ],
         "z": [
          -0.17638254165649414,
          0.4898133873939514
         ]
        },
        {
         "line": {
          "color": "#ADD8E6",
          "width": 1
         },
         "mode": "lines",
         "type": "scatter3d",
         "x": [
          0.2703942358493805,
          0.9412059485912323
         ],
         "y": [
          -0.14596259593963623,
          -0.11094621568918228
         ],
         "z": [
          -0.17638254165649414,
          0.5644180178642273
         ]
        },
        {
         "line": {
          "color": "#ADD8E6",
          "width": 1
         },
         "mode": "lines",
         "type": "scatter3d",
         "x": [
          0.2703942358493805,
          0.8550094068050385
         ],
         "y": [
          -0.14596259593963623,
          -0.09909852966666222
         ],
         "z": [
          -0.17638254165649414,
          0.6335735321044922
         ]
        },
        {
         "line": {
          "color": "#ADD8E6",
          "width": 1
         },
         "mode": "lines",
         "type": "scatter3d",
         "x": [
          0.2703942358493805,
          0.7594369649887085
         ],
         "y": [
          -0.14596259593963623,
          -0.0875864140689373
         ],
         "z": [
          -0.17638254165649414,
          0.693921685218811
         ]
        },
        {
         "line": {
          "color": "#ADD8E6",
          "width": 1
         },
         "mode": "lines",
         "type": "scatter3d",
         "x": [
          0.2703942358493805,
          0.6579199731349945
         ],
         "y": [
          -0.14596259593963623,
          -0.07686424255371094
         ],
         "z": [
          -0.17638254165649414,
          0.7428830862045288
         ]
        },
        {
         "line": {
          "color": "#ADD8E6",
          "width": 1
         },
         "mode": "lines",
         "type": "scatter3d",
         "x": [
          0.2703942358493805,
          0.5545171797275543
         ],
         "y": [
          -0.14596259593963623,
          -0.06729381531476974
         ],
         "z": [
          -0.17638254165649414,
          0.7791724801063538
         ]
        },
        {
         "line": {
          "color": "#ADD8E6",
          "width": 1
         },
         "mode": "lines",
         "type": "scatter3d",
         "x": [
          0.2703942358493805,
          0.4531564265489578
         ],
         "y": [
          -0.14596259593963623,
          -0.05908774584531784
         ],
         "z": [
          -0.17638254165649414,
          0.8029288649559021
         ]
        },
        {
         "line": {
          "color": "#ADD8E6",
          "width": 1
         },
         "mode": "lines",
         "type": "scatter3d",
         "x": [
          0.2703942358493805,
          1.0279522240161896
         ],
         "y": [
          -0.14596259593963623,
          -0.08395026624202728
         ],
         "z": [
          -0.17638254165649414,
          0.47343307733535767
         ]
        },
        {
         "line": {
          "color": "#ADD8E6",
          "width": 1
         },
         "mode": "lines",
         "type": "scatter3d",
         "x": [
          0.2703942358493805,
          0.9558239877223969
         ],
         "y": [
          -0.14596259593963623,
          -0.07113738358020782
         ],
         "z": [
          -0.17638254165649414,
          0.5479013919830322
         ]
        },
        {
         "line": {
          "color": "#ADD8E6",
          "width": 1
         },
         "mode": "lines",
         "type": "scatter3d",
         "x": [
          0.2703942358493805,
          0.8720202744007111
         ],
         "y": [
          -0.14596259593963623,
          -0.058560267090797424
         ],
         "z": [
          -0.17638254165649414,
          0.6175991296768188
         ]
        },
        {
         "line": {
          "color": "#ADD8E6",
          "width": 1
         },
         "mode": "lines",
         "type": "scatter3d",
         "x": [
          0.2703942358493805,
          0.7784891426563263
         ],
         "y": [
          -0.14596259593963623,
          -0.046747542917728424
         ],
         "z": [
          -0.17638254165649414,
          0.6791850924491882
         ]
        },
        {
         "line": {
          "color": "#ADD8E6",
          "width": 1
         },
         "mode": "lines",
         "type": "scatter3d",
         "x": [
          0.2703942358493805,
          0.6784206032752991
         ],
         "y": [
          -0.14596259593963623,
          -0.036183834075927734
         ],
         "z": [
          -0.17638254165649414,
          0.729963481426239
         ]
        },
        {
         "line": {
          "color": "#ADD8E6",
          "width": 1
         },
         "mode": "lines",
         "type": "scatter3d",
         "x": [
          0.2703942358493805,
          0.5757366418838501
         ],
         "y": [
          -0.14596259593963623,
          -0.027216844260692596
         ],
         "z": [
          -0.17638254165649414,
          0.7684271931648254
         ]
        },
        {
         "line": {
          "color": "#ADD8E6",
          "width": 1
         },
         "mode": "lines",
         "type": "scatter3d",
         "x": [
          0.2703942358493805,
          0.4743654876947403
         ],
         "y": [
          -0.14596259593963623,
          -0.02000392973423004
         ],
         "z": [
          -0.17638254165649414,
          0.7944573760032654
         ]
        },
        {
         "line": {
          "color": "#ADD8E6",
          "width": 1
         },
         "mode": "lines",
         "type": "scatter3d",
         "x": [
          0.2703942358493805,
          1.0383895337581635
         ],
         "y": [
          -0.14596259593963623,
          -0.046344541013240814
         ],
         "z": [
          -0.17638254165649414,
          0.4562780261039734
         ]
        },
        {
         "line": {
          "color": "#ADD8E6",
          "width": 1
         },
         "mode": "lines",
         "type": "scatter3d",
         "x": [
          0.2703942358493805,
          0.9687319099903107
         ],
         "y": [
          -0.14596259593963623,
          -0.03240270912647247
         ],
         "z": [
          -0.17638254165649414,
          0.5303201079368591
         ]
        },
        {
         "line": {
          "color": "#ADD8E6",
          "width": 1
         },
         "mode": "lines",
         "type": "scatter3d",
         "x": [
          0.2703942358493805,
          0.887416273355484
         ],
         "y": [
          -0.14596259593963623,
          -0.019011929631233215
         ],
         "z": [
          -0.17638254165649414,
          0.6002559661865234
         ]
        },
        {
         "line": {
          "color": "#ADD8E6",
          "width": 1
         },
         "mode": "lines",
         "type": "scatter3d",
         "x": [
          0.2703942358493805,
          0.7961256206035614
         ],
         "y": [
          -0.14596259593963623,
          -0.006770223379135132
         ],
         "z": [
          -0.17638254165649414,
          0.6628027558326721
         ]
        },
        {
         "line": {
          "color": "#ADD8E6",
          "width": 1
         },
         "mode": "lines",
         "type": "scatter3d",
         "x": [
          0.2703942358493805,
          0.6977908909320831
         ],
         "y": [
          -0.14596259593963623,
          0.0037963390350341797
         ],
         "z": [
          -0.17638254165649414,
          0.7151915431022644
         ]
        },
        {
         "line": {
          "color": "#ADD8E6",
          "width": 1
         },
         "mode": "lines",
         "type": "scatter3d",
         "x": [
          0.2703942358493805,
          0.5961577594280243
         ],
         "y": [
          -0.14596259593963623,
          0.012336939573287964
         ],
         "z": [
          -0.17638254165649414,
          0.7557222843170166
         ]
        },
        {
         "line": {
          "color": "#ADD8E6",
          "width": 1
         },
         "mode": "lines",
         "type": "scatter3d",
         "x": [
          0.2703942358493805,
          0.49510833621025085
         ],
         "y": [
          -0.14596259593963623,
          0.01873105764389038
         ],
         "z": [
          -0.17638254165649414,
          0.7840234041213989
         ]
        },
        {
         "line": {
          "color": "#ADD8E6",
          "width": 1
         },
         "mode": "lines",
         "type": "scatter3d",
         "x": [
          0.2703942358493805,
          1.0471892654895782
         ],
         "y": [
          -0.14596259593963623,
          -0.009999498724937439
         ],
         "z": [
          -0.17638254165649414,
          0.4385187029838562
         ]
        },
        {
         "line": {
          "color": "#ADD8E6",
          "width": 1
         },
         "mode": "lines",
         "type": "scatter3d",
         "x": [
          0.2703942358493805,
          0.9799693524837494
         ],
         "y": [
          -0.14596259593963623,
          0.005079939961433411
         ],
         "z": [
          -0.17638254165649414,
          0.5118683576583862
         ]
        },
        {
         "line": {
          "color": "#ADD8E6",
          "width": 1
         },
         "mode": "lines",
         "type": "scatter3d",
         "x": [
          0.2703942358493805,
          0.9011960327625275
         ],
         "y": [
          -0.14596259593963623,
          0.01934128999710083
         ],
         "z": [
          -0.17638254165649414,
          0.5817491412162781
         ]
        },
        {
         "line": {
          "color": "#ADD8E6",
          "width": 1
         },
         "mode": "lines",
         "type": "scatter3d",
         "x": [
          0.2703942358493805,
          0.8123007118701935
         ],
         "y": [
          -0.14596259593963623,
          0.03211843967437744
         ],
         "z": [
          -0.17638254165649414,
          0.6449727416038513
         ]
        },
        {
         "line": {
          "color": "#ADD8E6",
          "width": 1
         },
         "mode": "lines",
         "type": "scatter3d",
         "x": [
          0.2703942358493805,
          0.7159459888935089
         ],
         "y": [
          -0.14596259593963623,
          0.042836517095565796
         ],
         "z": [
          -0.17638254165649414,
          0.6987394690513611
         ]
        },
        {
         "line": {
          "color": "#ADD8E6",
          "width": 1
         },
         "mode": "lines",
         "type": "scatter3d",
         "x": [
          0.2703942358493805,
          0.6156698763370514
         ],
         "y": [
          -0.14596259593963623,
          0.05112648010253906
         ],
         "z": [
          -0.17638254165649414,
          0.7411906719207764
         ]
        },
        {
         "line": {
          "color": "#ADD8E6",
          "width": 1
         },
         "mode": "lines",
         "type": "scatter3d",
         "x": [
          0.2703942358493805,
          0.5152647346258163
         ],
         "y": [
          -0.14596259593963623,
          0.056885913014411926
         ],
         "z": [
          -0.17638254165649414,
          0.7717160582542419
         ]
        },
        {
         "line": {
          "color": "#ADD8E6",
          "width": 1
         },
         "mode": "lines",
         "type": "scatter3d",
         "x": [
          0.2703942358493805,
          0.4181288629770279
         ],
         "y": [
          -0.14596259593963623,
          0.060264021158218384
         ],
         "z": [
          -0.17638254165649414,
          0.7909049391746521
         ]
        },
        {
         "line": {
          "color": "#ADD8E6",
          "width": 1
         },
         "mode": "lines",
         "type": "scatter3d",
         "x": [
          0.2703942358493805,
          0.9896008670330048
         ],
         "y": [
          -0.14596259593963623,
          0.04116836190223694
         ],
         "z": [
          -0.17638254165649414,
          0.49273914098739624
         ]
        },
        {
         "line": {
          "color": "#ADD8E6",
          "width": 1
         },
         "mode": "lines",
         "type": "scatter3d",
         "x": [
          0.2703942358493805,
          0.9133874475955963
         ],
         "y": [
          -0.14596259593963623,
          0.056330353021621704
         ],
         "z": [
          -0.17638254165649414,
          0.5622901320457458
         ]
        },
        {
         "line": {
          "color": "#ADD8E6",
          "width": 1
         },
         "mode": "lines",
         "type": "scatter3d",
         "x": [
          0.2703942358493805,
          0.8269985616207123
         ],
         "y": [
          -0.14596259593963623,
          0.06972520053386688
         ],
         "z": [
          -0.17638254165649414,
          0.6259081959724426
         ]
        },
        {
         "line": {
          "color": "#ADD8E6",
          "width": 1
         },
         "mode": "lines",
         "type": "scatter3d",
         "x": [
          0.2703942358493805,
          0.7328279316425323
         ],
         "y": [
          -0.14596259593963623,
          0.0807257890701294
         ],
         "z": [
          -0.17638254165649414,
          0.6808032393455505
         ]
        },
        {
         "line": {
          "color": "#ADD8E6",
          "width": 1
         },
         "mode": "lines",
         "type": "scatter3d",
         "x": [
          0.2703942358493805,
          0.6341829001903534
         ],
         "y": [
          -0.14596259593963623,
          0.0889328271150589
         ],
         "z": [
          -0.17638254165649414,
          0.7249952554702759
         ]
        },
        {
         "line": {
          "color": "#ADD8E6",
          "width": 1
         },
         "mode": "lines",
         "type": "scatter3d",
         "x": [
          0.2703942358493805,
          0.5347273051738739
         ],
         "y": [
          -0.14596259593963623,
          0.09424415230751038
         ],
         "z": [
          -0.17638254165649414,
          0.7576563954353333
         ]
        },
        {
         "line": {
          "color": "#ADD8E6",
          "width": 1
         },
         "mode": "lines",
         "type": "scatter3d",
         "x": [
          0.2703942358493805,
          0.43785621225833893
         ],
         "y": [
          -0.14596259593963623,
          0.09684154391288757
         ],
         "z": [
          -0.17638254165649414,
          0.779129147529602
         ]
        },
        {
         "line": {
          "color": "#ADD8E6",
          "width": 1
         },
         "mode": "lines",
         "type": "scatter3d",
         "x": [
          0.2703942358493805,
          0.9977106750011444
         ],
         "y": [
          -0.14596259593963623,
          0.07575586438179016
         ],
         "z": [
          -0.17638254165649414,
          0.47311854362487793
         ]
        },
        {
         "line": {
          "color": "#ADD8E6",
          "width": 1
         },
         "mode": "lines",
         "type": "scatter3d",
         "x": [
          0.2703942358493805,
          0.9240429699420929
         ],
         "y": [
          -0.14596259593963623,
          0.09182360768318176
         ],
         "z": [
          -0.17638254165649414,
          0.5420888066291809
         ]
        },
        {
         "line": {
          "color": "#ADD8E6",
          "width": 1
         },
         "mode": "lines",
         "type": "scatter3d",
         "x": [
          0.2703942358493805,
          0.8402306735515594
         ],
         "y": [
          -0.14596259593963623,
          0.10589355230331421
         ],
         "z": [
          -0.17638254165649414,
          0.6058290004730225
         ]
        },
        {
         "line": {
          "color": "#ADD8E6",
          "width": 1
         },
         "mode": "lines",
         "type": "scatter3d",
         "x": [
          0.2703942358493805,
          0.748405396938324
         ],
         "y": [
          -0.14596259593963623,
          0.11728659272193909
         ],
         "z": [
          -0.17638254165649414,
          0.6615943312644958
         ]
        },
        {
         "line": {
          "color": "#ADD8E6",
          "width": 1
         },
         "mode": "lines",
         "type": "scatter3d",
         "x": [
          0.2703942358493805,
          0.651628851890564
         ],
         "y": [
          -0.14596259593963623,
          0.1255646049976349
         ],
         "z": [
          -0.17638254165649414,
          0.7073217034339905
         ]
        },
        {
         "line": {
          "color": "#ADD8E6",
          "width": 1
         },
         "mode": "lines",
         "type": "scatter3d",
         "x": [
          0.2703942358493805,
          0.5534041523933411
         ],
         "y": [
          -0.14596259593963623,
          0.13060998916625977
         ],
         "z": [
          -0.17638254165649414,
          0.7419926524162292
         ]
        },
        {
         "line": {
          "color": "#ADD8E6",
          "width": 1
         },
         "mode": "lines",
         "type": "scatter3d",
         "x": [
          0.2703942358493805,
          0.45708462595939636
         ],
         "y": [
          -0.14596259593963623,
          0.13261839747428894
         ],
         "z": [
          -0.17638254165649414,
          0.7657105326652527
         ]
        },
        {
         "line": {
          "color": "#ADD8E6",
          "width": 1
         },
         "mode": "lines",
         "type": "scatter3d",
         "x": [
          0.2703942358493805,
          1.0043977797031403
         ],
         "y": [
          -0.14596259593963623,
          0.10876956582069397
         ],
         "z": [
          -0.17638254165649414,
          0.45318102836608887
         ]
        },
        {
         "line": {
          "color": "#ADD8E6",
          "width": 1
         },
         "mode": "lines",
         "type": "scatter3d",
         "x": [
          0.2703942358493805,
          0.9332351982593536
         ],
         "y": [
          -0.14596259593963623,
          0.1257261037826538
         ],
         "z": [
          -0.17638254165649414,
          0.5213474631309509
         ]
        },
        {
         "line": {
          "color": "#ADD8E6",
          "width": 1
         },
         "mode": "lines",
         "type": "scatter3d",
         "x": [
          0.2703942358493805,
          0.8520328104496002
         ],
         "y": [
          -0.14596259593963623,
          0.14050447940826416
         ],
         "z": [
          -0.17638254165649414,
          0.5849539041519165
         ]
        },
        {
         "line": {
          "color": "#ADD8E6",
          "width": 1
         },
         "mode": "lines",
         "type": "scatter3d",
         "x": [
          0.2703942358493805,
          0.7626719176769257
         ],
         "y": [
          -0.14596259593963623,
          0.1523769497871399
         ],
         "z": [
          -0.17638254165649414,
          0.6413314938545227
         ]
        },
        {
         "line": {
          "color": "#ADD8E6",
          "width": 1
         },
         "mode": "lines",
         "type": "scatter3d",
         "x": [
          0.2703942358493805,
          0.6679621934890747
         ],
         "y": [
          -0.14596259593963623,
          0.16086167097091675
         ],
         "z": [
          -0.17638254165649414,
          0.688370943069458
         ]
        },
        {
         "line": {
          "color": "#F08080",
          "width": 1
         },
         "mode": "lines",
         "type": "scatter3d",
         "x": [
          0.47088950872421265,
          0.812413901090622
         ],
         "y": [
          -0.33197179436683655,
          -0.8005536794662476
         ],
         "z": [
          -0.22846484184265137,
          0.5862696170806885
         ]
        },
        {
         "line": {
          "color": "#F08080",
          "width": 1
         },
         "mode": "lines",
         "type": "scatter3d",
         "x": [
          0.47088950872421265,
          1.2494900822639465
         ],
         "y": [
          -0.33197179436683655,
          -0.8380425870418549
         ],
         "z": [
          -0.22846484184265137,
          0.14257913827896118
         ]
        },
        {
         "line": {
          "color": "#F08080",
          "width": 1
         },
         "mode": "lines",
         "type": "scatter3d",
         "x": [
          0.47088950872421265,
          1.1994587182998657
         ],
         "y": [
          -0.33197179436683655,
          -0.8406398594379425
         ],
         "z": [
          -0.22846484184265137,
          0.23027673363685608
         ]
        },
        {
         "line": {
          "color": "#F08080",
          "width": 1
         },
         "mode": "lines",
         "type": "scatter3d",
         "x": [
          0.47088950872421265,
          1.1395443677902222
         ],
         "y": [
          -0.33197179436683655,
          -0.8378364145755768
         ],
         "z": [
          -0.22846484184265137,
          0.3165138363838196
         ]
        },
        {
         "line": {
          "color": "#F08080",
          "width": 1
         },
         "mode": "lines",
         "type": "scatter3d",
         "x": [
          0.47088950872421265,
          1.0709801316261292
         ],
         "y": [
          -0.33197179436683655,
          -0.8292498886585236
         ],
         "z": [
          -0.22846484184265137,
          0.3981178402900696
         ]
        },
        {
         "line": {
          "color": "#F08080",
          "width": 1
         },
         "mode": "lines",
         "type": "scatter3d",
         "x": [
          0.47088950872421265,
          0.995936393737793
         ],
         "y": [
          -0.33197179436683655,
          -0.8150603771209717
         ],
         "z": [
          -0.22846484184265137,
          0.47221434116363525
         ]
        },
        {
         "line": {
          "color": "#F08080",
          "width": 1
         },
         "mode": "lines",
         "type": "scatter3d",
         "x": [
          0.47088950872421265,
          0.9171926975250244
         ],
         "y": [
          -0.33197179436683655,
          -0.7959985136985779
         ],
         "z": [
          -0.22846484184265137,
          0.5367101430892944
         ]
        },
        {
         "line": {
          "color": "#F08080",
          "width": 1
         },
         "mode": "lines",
         "type": "scatter3d",
         "x": [
          0.47088950872421265,
          0.8376584649085999
         ],
         "y": [
          -0.33197179436683655,
          -0.7731906771659851
         ],
         "z": [
          -0.22846484184265137,
          0.5905629992485046
         ]
        },
        {
         "line": {
          "color": "#F08080",
          "width": 1
         },
         "mode": "lines",
         "type": "scatter3d",
         "x": [
          0.47088950872421265,
          1.2744694352149963
         ],
         "y": [
          -0.33197179436683655,
          -0.804567277431488
         ],
         "z": [
          -0.22846484184265137,
          0.1333540380001068
         ]
        },
        {
         "line": {
          "color": "#F08080",
          "width": 1
         },
         "mode": "lines",
         "type": "scatter3d",
         "x": [
          0.47088950872421265,
          1.2262925505638123
         ],
         "y": [
          -0.33197179436683655,
          -0.8073654770851135
         ],
         "z": [
          -0.22846484184265137,
          0.22249770164489746
         ]
        },
        {
         "line": {
          "color": "#F08080",
          "width": 1
         },
         "mode": "lines",
         "type": "scatter3d",
         "x": [
          0.47088950872421265,
          1.1676632165908813
         ],
         "y": [
          -0.33197179436683655,
          -0.8050702512264252
         ],
         "z": [
          -0.22846484184265137,
          0.31068670749664307
         ]
        },
        {
         "line": {
          "color": "#F08080",
          "width": 1
         },
         "mode": "lines",
         "type": "scatter3d",
         "x": [
          0.47088950872421265,
          1.0996354818344116
         ],
         "y": [
          -0.33197179436683655,
          -0.7972350716590881
         ],
         "z": [
          -0.22846484184265137,
          0.39459913969039917
         ]
        },
        {
         "line": {
          "color": "#F08080",
          "width": 1
         },
         "mode": "lines",
         "type": "scatter3d",
         "x": [
          0.47088950872421265,
          1.0243076086044312
         ],
         "y": [
          -0.33197179436683655,
          -0.7839574217796326
         ],
         "z": [
          -0.22846484184265137,
          0.471133291721344
         ]
        },
        {
         "line": {
          "color": "#F08080",
          "width": 1
         },
         "mode": "lines",
         "type": "scatter3d",
         "x": [
          0.47088950872421265,
          0.9445176720619202
         ],
         "y": [
          -0.33197179436683655,
          -0.76589035987854
         ],
         "z": [
          -0.22846484184265137,
          0.5379496216773987
         ]
        },
        {
         "line": {
          "color": "#F08080",
          "width": 1
         },
         "mode": "lines",
         "type": "scatter3d",
         "x": [
          0.47088950872421265,
          0.8633414208889008
         ],
         "y": [
          -0.33197179436683655,
          -0.744104653596878
         ],
         "z": [
          -0.22846484184265137,
          0.5938052535057068
         ]
        },
        {
         "line": {
          "color": "#F08080",
          "width": 1
         },
         "mode": "lines",
         "type": "scatter3d",
         "x": [
          0.47088950872421265,
          1.2982961535453796
         ],
         "y": [
          -0.33197179436683655,
          -0.7697419822216034
         ],
         "z": [
          -0.22846484184265137,
          0.12332427501678467
         ]
        },
        {
         "line": {
          "color": "#F08080",
          "width": 1
         },
         "mode": "lines",
         "type": "scatter3d",
         "x": [
          0.47088950872421265,
          1.2521620988845825
         ],
         "y": [
          -0.33197179436683655,
          -0.7725458145141602
         ],
         "z": [
          -0.22846484184265137,
          0.21369776129722595
         ]
        },
        {
         "line": {
          "color": "#F08080",
          "width": 1
         },
         "mode": "lines",
         "type": "scatter3d",
         "x": [
          0.47088950872421265,
          1.1950727105140686
         ],
         "y": [
          -0.33197179436683655,
          -0.7706047594547272
         ],
         "z": [
          -0.22846484184265137,
          0.30366289615631104
         ]
        },
        {
         "line": {
          "color": "#F08080",
          "width": 1
         },
         "mode": "lines",
         "type": "scatter3d",
         "x": [
          0.47088950872421265,
          1.1278732419013977
         ],
         "y": [
          -0.33197179436683655,
          -0.7634248435497284
         ],
         "z": [
          -0.22846484184265137,
          0.38977521657943726
         ]
        },
        {
         "line": {
          "color": "#F08080",
          "width": 1
         },
         "mode": "lines",
         "type": "scatter3d",
         "x": [
          0.47088950872421265,
          1.0525502562522888
         ],
         "y": [
          -0.33197179436683655,
          -0.7510274648666382
         ],
         "z": [
          -0.22846484184265137,
          0.4687175154685974
         ]
        },
        {
         "line": {
          "color": "#F08080",
          "width": 1
         },
         "mode": "lines",
         "type": "scatter3d",
         "x": [
          0.47088950872421265,
          0.9719641804695129
         ],
         "y": [
          -0.33197179436683655,
          -0.7339836657047272
         ],
         "z": [
          -0.22846484184265137,
          0.5378972291946411
         ]
        },
        {
         "line": {
          "color": "#F08080",
          "width": 1
         },
         "mode": "lines",
         "type": "scatter3d",
         "x": [
          0.47088950872421265,
          0.8893349766731262
         ],
         "y": [
          -0.33197179436683655,
          -0.7132961452007294
         ],
         "z": [
          -0.22846484184265137,
          0.5958501696586609
         ]
        },
        {
         "line": {
          "color": "#F08080",
          "width": 1
         },
         "mode": "lines",
         "type": "scatter3d",
         "x": [
          0.47088950872421265,
          1.3207861185073853
         ],
         "y": [
          -0.33197179436683655,
          -0.7337243854999542
         ],
         "z": [
          -0.22846484184265137,
          0.1125200092792511
         ]
        },
        {
         "line": {
          "color": "#F08080",
          "width": 1
         },
         "mode": "lines",
         "type": "scatter3d",
         "x": [
          0.47088950872421265,
          1.2768514752388
         ],
         "y": [
          -0.33197179436683655,
          -0.7363258600234985
         ],
         "z": [
          -0.22846484184265137,
          0.20388129353523254
         ]
        },
        {
         "line": {
          "color": "#F08080",
          "width": 1
         },
         "mode": "lines",
         "type": "scatter3d",
         "x": [
          0.47088950872421265,
          1.2215381860733032
         ],
         "y": [
          -0.33197179436683655,
          -0.7345636785030365
         ],
         "z": [
          -0.22846484184265137,
          0.29541152715682983
         ]
        },
        {
         "line": {
          "color": "#F08080",
          "width": 1
         },
         "mode": "lines",
         "type": "scatter3d",
         "x": [
          0.47088950872421265,
          1.155458152294159
         ],
         "y": [
          -0.33197179436683655,
          -0.7279164791107178
         ],
         "z": [
          -0.22846484184265137,
          0.3835757374763489
         ]
        },
        {
         "line": {
          "color": "#F08080",
          "width": 1
         },
         "mode": "lines",
         "type": "scatter3d",
         "x": [
          0.47088950872421265,
          1.0804468989372253
         ],
         "y": [
          -0.33197179436683655,
          -0.7163407206535339
         ],
         "z": [
          -0.22846484184265137,
          0.46486085653305054
         ]
        },
        {
         "line": {
          "color": "#F08080",
          "width": 1
         },
         "mode": "lines",
         "type": "scatter3d",
         "x": [
          0.47088950872421265,
          0.9993459582328796
         ],
         "y": [
          -0.33197179436683655,
          -0.7003248631954193
         ],
         "z": [
          -0.22846484184265137,
          0.5364207029342651
         ]
        },
        {
         "line": {
          "color": "#F08080",
          "width": 1
         },
         "mode": "lines",
         "type": "scatter3d",
         "x": [
          0.47088950872421265,
          0.9154903590679169
         ],
         "y": [
          -0.33197179436683655,
          -0.6807934045791626
         ],
         "z": [
          -0.22846484184265137,
          0.5965525507926941
         ]
        },
        {
         "line": {
          "color": "#F08080",
          "width": 1
         },
         "mode": "lines",
         "type": "scatter3d",
         "x": [
          0.47088950872421265,
          1.3417726159095764
         ],
         "y": [
          -0.33197179436683655,
          -0.6966977119445801
         ],
         "z": [
          -0.22846484184265137,
          0.10098573565483093
         ]
        },
        {
         "line": {
          "color": "#F08080",
          "width": 1
         },
         "mode": "lines",
         "type": "scatter3d",
         "x": [
          0.47088950872421265,
          1.3001564145088196
         ],
         "y": [
          -0.33197179436683655,
          -0.6988827288150787
         ],
         "z": [
          -0.22846484184265137,
          0.1930713951587677
         ]
        },
        {
         "line": {
          "color": "#F08080",
          "width": 1
         },
         "mode": "lines",
         "type": "scatter3d",
         "x": [
          0.47088950872421265,
          1.246828317642212
         ],
         "y": [
          -0.33197179436683655,
          -0.6971080005168915
         ],
         "z": [
          -0.22846484184265137,
          0.2859227657318115
         ]
        },
        {
         "line": {
          "color": "#F08080",
          "width": 1
         },
         "mode": "lines",
         "type": "scatter3d",
         "x": [
          0.47088950872421265,
          1.1821491718292236
         ],
         "y": [
          -0.33197179436683655,
          -0.6908470094203949
         ],
         "z": [
          -0.22846484184265137,
          0.3759508728981018
         ]
        },
        {
         "line": {
          "color": "#F08080",
          "width": 1
         },
         "mode": "lines",
         "type": "scatter3d",
         "x": [
          0.47088950872421265,
          1.1077663898468018
         ],
         "y": [
          -0.33197179436683655,
          -0.6800065636634827
         ],
         "z": [
          -0.22846484184265137,
          0.45947396755218506
         ]
        },
        {
         "line": {
          "color": "#F08080",
          "width": 1
         },
         "mode": "lines",
         "type": "scatter3d",
         "x": [
          0.47088950872421265,
          1.026458501815796
         ],
         "y": [
          -0.33197179436683655,
          -0.6649966835975647
         ],
         "z": [
          -0.22846484184265137,
          0.5333997011184692
         ]
        },
        {
         "line": {
          "color": "#F08080",
          "width": 1
         },
         "mode": "lines",
         "type": "scatter3d",
         "x": [
          0.47088950872421265,
          0.9416392147541046
         ],
         "y": [
          -0.33197179436683655,
          -0.6466565132141113
         ],
         "z": [
          -0.22846484184265137,
          0.5957732200622559
         ]
        },
        {
         "line": {
          "color": "#F08080",
          "width": 1
         },
         "mode": "lines",
         "type": "scatter3d",
         "x": [
          0.47088950872421265,
          1.3611119985580444
         ],
         "y": [
          -0.33197179436683655,
          -0.6588663160800934
         ],
         "z": [
          -0.22846484184265137,
          0.0887795090675354
         ]
        },
        {
         "line": {
          "color": "#F08080",
          "width": 1
         },
         "mode": "lines",
         "type": "scatter3d",
         "x": [
          0.47088950872421265,
          1.3218916654586792
         ],
         "y": [
          -0.33197179436683655,
          -0.6604221761226654
         ],
         "z": [
          -0.22846484184265137,
          0.18131038546562195
         ]
        },
        {
         "line": {
          "color": "#F08080",
          "width": 1
         },
         "mode": "lines",
         "type": "scatter3d",
         "x": [
          0.47088950872421265,
          1.2707234025001526
         ],
         "y": [
          -0.33197179436683655,
          -0.6584337055683136
         ],
         "z": [
          -0.22846484184265137,
          0.27521008253097534
         ]
        },
        {
         "line": {
          "color": "#F08080",
          "width": 1
         },
         "mode": "lines",
         "type": "scatter3d",
         "x": [
          0.47088950872421265,
          1.2077072858810425
         ],
         "y": [
          -0.33197179436683655,
          -0.6523925065994263
         ],
         "z": [
          -0.22846484184265137,
          0.3668755292892456
         ]
        },
        {
         "line": {
          "color": "#F08080",
          "width": 1
         },
         "mode": "lines",
         "type": "scatter3d",
         "x": [
          0.47088950872421265,
          1.1342706680297852
         ],
         "y": [
          -0.33197179436683655,
          -0.642174631357193
         ],
         "z": [
          -0.22846484184265137,
          0.4524902105331421
         ]
        },
        {
         "line": {
          "color": "#F08080",
          "width": 1
         },
         "mode": "lines",
         "type": "scatter3d",
         "x": [
          0.47088950872421265,
          1.0530837178230286
         ],
         "y": [
          -0.33197179436683655,
          -0.6281202137470245
         ],
         "z": [
          -0.22846484184265137,
          0.5287313461303711
         ]
        },
        {
         "line": {
          "color": "#F08080",
          "width": 1
         },
         "mode": "lines",
         "type": "scatter3d",
         "x": [
          0.47088950872421265,
          0.9675962626934052
         ],
         "y": [
          -0.33197179436683655,
          -0.6109800636768341
         ],
         "z": [
          -0.22846484184265137,
          0.593384861946106
         ]
        },
        {
         "line": {
          "color": "#F08080",
          "width": 1
         },
         "mode": "lines",
         "type": "scatter3d",
         "x": [
          0.47088950872421265,
          0.8813696503639221
         ],
         "y": [
          -0.33197179436683655,
          -0.5917472541332245
         ],
         "z": [
          -0.22846484184265137,
          0.6456192135810852
         ]
        },
        {
         "line": {
          "color": "#F08080",
          "width": 1
         },
         "mode": "lines",
         "type": "scatter3d",
         "x": [
          0.47088950872421265,
          1.3418976068496704
         ],
         "y": [
          -0.33197179436683655,
          -0.6211732029914856
         ],
         "z": [
          -0.22846484184265137,
          0.1686592400074005
         ]
        },
        {
         "line": {
          "color": "#F08080",
          "width": 1
         },
         "mode": "lines",
         "type": "scatter3d",
         "x": [
          0.47088950872421265,
          1.2930233478546143
         ],
         "y": [
          -0.33197179436683655,
          -0.6187675595283508
         ],
         "z": [
          -0.22846484184265137,
          0.2633117139339447
         ]
        },
        {
         "line": {
          "color": "#F08080",
          "width": 1
         },
         "mode": "lines",
         "type": "scatter3d",
         "x": [
          0.47088950872421265,
          1.23190438747406
         ],
         "y": [
          -0.33197179436683655,
          -0.6127656698226929
         ],
         "z": [
          -0.22846484184265137,
          0.35635244846343994
         ]
        },
        {
         "line": {
          "color": "#F08080",
          "width": 1
         },
         "mode": "lines",
         "type": "scatter3d",
         "x": [
          0.47088950872421265,
          1.1597225069999695
         ],
         "y": [
          -0.33197179436683655,
          -0.6030339598655701
         ],
         "z": [
          -0.22846484184265137,
          0.4438702464103699
         ]
        },
        {
         "line": {
          "color": "#F08080",
          "width": 1
         },
         "mode": "lines",
         "type": "scatter3d",
         "x": [
          0.47088950872421265,
          1.0789958834648132
         ],
         "y": [
          -0.33197179436683655,
          -0.5898557007312775
         ],
         "z": [
          -0.22846484184265137,
          0.522336483001709
         ]
        },
        {
         "line": {
          "color": "#F08080",
          "width": 1
         },
         "mode": "lines",
         "type": "scatter3d",
         "x": [
          0.47088950872421265,
          0.9931632280349731
         ],
         "y": [
          -0.33197179436683655,
          -0.5738949924707413
         ],
         "z": [
          -0.22846484184265137,
          0.5892780423164368
         ]
        },
        {
         "line": {
          "color": "#F08080",
          "width": 1
         },
         "mode": "lines",
         "type": "scatter3d",
         "x": [
          0.47088950872421265,
          0.9059080481529236
         ],
         "y": [
          -0.33197179436683655,
          -0.5560504198074341
         ],
         "z": [
          -0.22846484184265137,
          0.6436290740966797
         ]
        },
        {
         "line": {
          "color": "#F08080",
          "width": 1
         },
         "mode": "lines",
         "type": "scatter3d",
         "x": [
          0.47088950872421265,
          1.360045850276947
         ],
         "y": [
          -0.33197179436683655,
          -0.5813814699649811
         ],
         "z": [
          -0.22846484184265137,
          0.15519627928733826
         ]
        },
        {
         "line": {
          "color": "#F08080",
          "width": 1
         },
         "mode": "lines",
         "type": "scatter3d",
         "x": [
          0.47088950872421265,
          1.3135557174682617
         ],
         "y": [
          -0.33197179436683655,
          -0.5783608257770538
         ],
         "z": [
          -0.22846484184265137,
          0.25029000639915466
         ]
        },
        {
         "line": {
          "color": "#F08080",
          "width": 1
         },
         "mode": "lines",
         "type": "scatter3d",
         "x": [
          0.47088950872421265,
          1.2545319199562073
         ],
         "y": [
          -0.33197179436683655,
          -0.5722106546163559
         ],
         "z": [
          -0.22846484184265137,
          0.3444138169288635
         ]
        },
        {
         "line": {
          "color": "#F08080",
          "width": 1
         },
         "mode": "lines",
         "type": "scatter3d",
         "x": [
          0.47088950872421265,
          1.1838943362236023
         ],
         "y": [
          -0.33197179436683655,
          -0.5628097355365753
         ],
         "z": [
          -0.22846484184265137,
          0.43360620737075806
         ]
        },
        {
         "line": {
          "color": "#F08080",
          "width": 1
         },
         "mode": "lines",
         "type": "scatter3d",
         "x": [
          0.47088950872421265,
          1.1039689779281616
         ],
         "y": [
          -0.33197179436683655,
          -0.5504010617733002
         ],
         "z": [
          -0.22846484184265137,
          0.5141650438308716
         ]
        },
        {
         "line": {
          "color": "#F08080",
          "width": 1
         },
         "mode": "lines",
         "type": "scatter3d",
         "x": [
          0.47088950872421265,
          1.018134355545044
         ],
         "y": [
          -0.33197179436683655,
          -0.5355685353279114
         ],
         "z": [
          -0.22846484184265137,
          0.5833674073219299
         ]
        },
        {
         "line": {
          "color": "#F08080",
          "width": 1
         },
         "mode": "lines",
         "type": "scatter3d",
         "x": [
          0.47088950872421265,
          0.9301543831825256
         ],
         "y": [
          -0.33197179436683655,
          -0.5191121846437454
         ],
         "z": [
          -0.22846484184265137,
          0.6398981809616089
         ]
        },
        {
         "line": {
          "color": "#F08080",
          "width": 1
         },
         "mode": "lines",
         "type": "scatter3d",
         "x": [
          0.47088950872421265,
          1.3762435913085938
         ],
         "y": [
          -0.33197179436683655,
          -0.5413015782833099
         ],
         "z": [
          -0.22846484184265137,
          0.14101454615592957
         ]
        },
        {
         "line": {
          "color": "#F08080",
          "width": 1
         },
         "mode": "lines",
         "type": "scatter3d",
         "x": [
          0.47088950872421265,
          1.332181692123413
         ],
         "y": [
          -0.33197179436683655,
          -0.5374814569950104
         ],
         "z": [
          -0.22846484184265137,
          0.23623034358024597
         ]
        },
        {
         "line": {
          "color": "#F08080",
          "width": 1
         },
         "mode": "lines",
         "type": "scatter3d",
         "x": [
          0.47088950872421265,
          1.2754092812538147
         ],
         "y": [
          -0.33197179436683655,
          -0.5309960544109344
         ],
         "z": [
          -0.22846484184265137,
          0.33112192153930664
         ]
        },
        {
         "line": {
          "color": "#F08080",
          "width": 1
         },
         "mode": "lines",
         "type": "scatter3d",
         "x": [
          0.47088950872421265,
          1.2065768837928772
         ],
         "y": [
          -0.33197179436683655,
          -0.5217577815055847
         ],
         "z": [
          -0.22846484184265137,
          0.42172396183013916
         ]
        },
        {
         "line": {
          "color": "#F08080",
          "width": 1
         },
         "mode": "lines",
         "type": "scatter3d",
         "x": [
          0.47088950872421265,
          1.1277849674224854
         ],
         "y": [
          -0.33197179436683655,
          -0.5099883079528809
         ],
         "z": [
          -0.22846484184265137,
          0.5042005777359009
         ]
        },
        {
         "line": {
          "color": "#F08080",
          "width": 1
         },
         "mode": "lines",
         "type": "scatter3d",
         "x": [
          0.47088950872421265,
          1.0423025488853455
         ],
         "y": [
          -0.33197179436683655,
          -0.4962022304534912
         ],
         "z": [
          -0.22846484184265137,
          0.5755971074104309
         ]
        },
        {
         "line": {
          "color": "#F08080",
          "width": 1
         },
         "mode": "lines",
         "type": "scatter3d",
         "x": [
          0.47088950872421265,
          0.9539273381233215
         ],
         "y": [
          -0.33197179436683655,
          -0.48110198974609375
         ],
         "z": [
          -0.22846484184265137,
          0.6343414783477783
         ]
        },
        {
         "line": {
          "color": "#F08080",
          "width": 1
         },
         "mode": "lines",
         "type": "scatter3d",
         "x": [
          0.47088950872421265,
          1.3904356360435486
         ],
         "y": [
          -0.33197179436683655,
          -0.5011890828609467
         ],
         "z": [
          -0.22846484184265137,
          0.12621882557868958
         ]
        },
        {
         "line": {
          "color": "#F08080",
          "width": 1
         },
         "mode": "lines",
         "type": "scatter3d",
         "x": [
          0.47088950872421265,
          1.3488011956214905
         ],
         "y": [
          -0.33197179436683655,
          -0.49640534818172455
         ],
         "z": [
          -0.22846484184265137,
          0.22123810648918152
         ]
        },
        {
         "line": {
          "color": "#F08080",
          "width": 1
         },
         "mode": "lines",
         "type": "scatter3d",
         "x": [
          0.47088950872421265,
          1.2943906784057617
         ],
         "y": [
          -0.33197179436683655,
          -0.48940621316432953
         ],
         "z": [
          -0.22846484184265137,
          0.3165675401687622
         ]
        },
        {
         "line": {
          "color": "#F08080",
          "width": 1
         },
         "mode": "lines",
         "type": "scatter3d",
         "x": [
          0.47088950872421265,
          1.227587640285492
         ],
         "y": [
          -0.33197179436683655,
          -0.4801568239927292
         ],
         "z": [
          -0.22846484184265137,
          0.40828412771224976
         ]
        },
        {
         "line": {
          "color": "#F08080",
          "width": 1
         },
         "mode": "lines",
         "type": "scatter3d",
         "x": [
          0.47088950872421265,
          1.1502418518066406
         ],
         "y": [
          -0.33197179436683655,
          -0.4688774198293686
         ],
         "z": [
          -0.22846484184265137,
          0.49246323108673096
         ]
        },
        {
         "line": {
          "color": "#F08080",
          "width": 1
         },
         "mode": "lines",
         "type": "scatter3d",
         "x": [
          0.47088950872421265,
          1.0654668807983398
         ],
         "y": [
          -0.33197179436683655,
          -0.45602795481681824
         ],
         "z": [
          -0.22846484184265137,
          0.565945565700531
         ]
        },
        {
         "line": {
          "color": "#F08080",
          "width": 1
         },
         "mode": "lines",
         "type": "scatter3d",
         "x": [
          0.47088950872421265,
          0.9770438075065613
         ],
         "y": [
          -0.33197179436683655,
          -0.4422190934419632
         ],
         "z": [
          -0.22846484184265137,
          0.6269025802612305
         ]
        },
        {
         "line": {
          "color": "#F08080",
          "width": 1
         },
         "mode": "lines",
         "type": "scatter3d",
         "x": [
          0.47088950872421265,
          1.4026044607162476
         ],
         "y": [
          -0.33197179436683655,
          -0.46129269897937775
         ],
         "z": [
          -0.22846484184265137,
          0.11092188954353333
         ]
        },
        {
         "line": {
          "color": "#F08080",
          "width": 1
         },
         "mode": "lines",
         "type": "scatter3d",
         "x": [
          0.47088950872421265,
          1.363355040550232
         ],
         "y": [
          -0.33197179436683655,
          -0.45540711283683777
         ],
         "z": [
          -0.22846484184265137,
          0.20543500781059265
         ]
        },
        {
         "line": {
          "color": "#F08080",
          "width": 1
         },
         "mode": "lines",
         "type": "scatter3d",
         "x": [
          0.47088950872421265,
          1.3113701343536377
         ],
         "y": [
          -0.33197179436683655,
          -0.44773150235414505
         ],
         "z": [
          -0.22846484184265137,
          0.30086684226989746
         ]
        },
        {
         "line": {
          "color": "#F08080",
          "width": 1
         },
         "mode": "lines",
         "type": "scatter3d",
         "x": [
          0.47088950872421265,
          1.2467780113220215
         ],
         "y": [
          -0.33197179436683655,
          -0.4382992833852768
         ],
         "z": [
          -0.22846484184265137,
          0.39338046312332153
         ]
        },
        {
         "line": {
          "color": "#F08080",
          "width": 1
         },
         "mode": "lines",
         "type": "scatter3d",
         "x": [
          0.47088950872421265,
          1.1711620688438416
         ],
         "y": [
          -0.33197179436683655,
          -0.4273485168814659
         ],
         "z": [
          -0.22846484184265137,
          0.47901076078414917
         ]
        },
        {
         "line": {
          "color": "#F08080",
          "width": 1
         },
         "mode": "lines",
         "type": "scatter3d",
         "x": [
          0.47088950872421265,
          1.0874397158622742
         ],
         "y": [
          -0.33197179436683655,
          -0.4153017997741699
         ],
         "z": [
          -0.22846484184265137,
          0.5544285178184509
         ]
        },
        {
         "line": {
          "color": "#F08080",
          "width": 1
         },
         "mode": "lines",
         "type": "scatter3d",
         "x": [
          0.47088950872421265,
          0.9993247389793396
         ],
         "y": [
          -0.33197179436683655,
          -0.4026883915066719
         ],
         "z": [
          -0.22846484184265137,
          0.617558479309082
         ]
        },
        {
         "line": {
          "color": "#F08080",
          "width": 1
         },
         "mode": "lines",
         "type": "scatter3d",
         "x": [
          0.47088950872421265,
          0.9105897545814514
         ],
         "y": [
          -0.33197179436683655,
          -0.3900398761034012
         ],
         "z": [
          -0.22846484184265137,
          0.6678006649017334
         ]
        },
        {
         "line": {
          "color": "#F08080",
          "width": 1
         },
         "mode": "lines",
         "type": "scatter3d",
         "x": [
          0.47088950872421265,
          1.37582528591156
         ],
         "y": [
          -0.33197179436683655,
          -0.414751298725605
         ],
         "z": [
          -0.22846484184265137,
          0.18895435333251953
         ]
        },
        {
         "line": {
          "color": "#F08080",
          "width": 1
         },
         "mode": "lines",
         "type": "scatter3d",
         "x": [
          0.47088950872421265,
          1.3262844681739807
         ],
         "y": [
          -0.33197179436683655,
          -0.406258299946785
         ],
         "z": [
          -0.22846484184265137,
          0.2841569185256958
         ]
        },
        {
         "line": {
          "color": "#F08080",
          "width": 1
         },
         "mode": "lines",
         "type": "scatter3d",
         "x": [
          0.47088950872421265,
          1.2640384435653687
         ],
         "y": [
          -0.33197179436683655,
          -0.3964810222387314
         ],
         "z": [
          -0.22846484184265137,
          0.37713682651519775
         ]
        },
        {
         "line": {
          "color": "#F08080",
          "width": 1
         },
         "mode": "lines",
         "type": "scatter3d",
         "x": [
          0.47088950872421265,
          1.1903988122940063
         ],
         "y": [
          -0.33197179436683655,
          -0.3856925144791603
         ],
         "z": [
          -0.22846484184265137,
          0.46393710374832153
         ]
        },
        {
         "line": {
          "color": "#F08080",
          "width": 1
         },
         "mode": "lines",
         "type": "scatter3d",
         "x": [
          0.47088950872421265,
          1.108053982257843
         ],
         "y": [
          -0.33197179436683655,
          -0.3742963336408138
         ],
         "z": [
          -0.22846484184265137,
          0.541100025177002
         ]
        },
        {
         "line": {
          "color": "#F08080",
          "width": 1
         },
         "mode": "lines",
         "type": "scatter3d",
         "x": [
          0.47088950872421265,
          1.0206014513969421
         ],
         "y": [
          -0.33197179436683655,
          -0.36275453120470047
         ],
         "z": [
          -0.22846484184265137,
          0.6063221096992493
         ]
        },
        {
         "line": {
          "color": "#F08080",
          "width": 1
         },
         "mode": "lines",
         "type": "scatter3d",
         "x": [
          0.47088950872421265,
          0.9318325221538544
         ],
         "y": [
          -0.33197179436683655,
          -0.35150123573839664
         ],
         "z": [
          -0.22846484184265137,
          0.658750057220459
         ]
        },
        {
         "line": {
          "color": "#F08080",
          "width": 1
         },
         "mode": "lines",
         "type": "scatter3d",
         "x": [
          0.47088950872421265,
          1.3862335085868835
         ],
         "y": [
          -0.33197179436683655,
          -0.37468453496694565
         ],
         "z": [
          -0.22846484184265137,
          0.17193618416786194
         ]
        },
        {
         "line": {
          "color": "#F08080",
          "width": 1
         },
         "mode": "lines",
         "type": "scatter3d",
         "x": [
          0.47088950872421265,
          1.339113175868988
         ],
         "y": [
          -0.33197179436683655,
          -0.3652596026659012
         ],
         "z": [
          -0.22846484184265137,
          0.26659032702445984
         ]
        },
        {
         "line": {
          "color": "#F08080",
          "width": 1
         },
         "mode": "lines",
         "type": "scatter3d",
         "x": [
          0.47088950872421265,
          1.279301404953003
         ],
         "y": [
          -0.33197179436683655,
          -0.35499109886586666
         ],
         "z": [
          -0.22846484184265137,
          0.35970211029052734
         ]
        },
        {
         "line": {
          "color": "#F08080",
          "width": 1
         },
         "mode": "lines",
         "type": "scatter3d",
         "x": [
          0.47088950872421265,
          1.2078415155410767
         ],
         "y": [
          -0.33197179436683655,
          -0.34420094918459654
         ],
         "z": [
          -0.22846484184265137,
          0.44736963510513306
         ]
        },
        {
         "line": {
          "color": "#F08080",
          "width": 1
         },
         "mode": "lines",
         "type": "scatter3d",
         "x": [
          0.47088950872421265,
          1.1271693110466003
         ],
         "y": [
          -0.33197179436683655,
          -0.33329159778077155
         ],
         "z": [
          -0.22846484184265137,
          0.5260516405105591
         ]
        },
        {
         "line": {
          "color": "#F08080",
          "width": 1
         },
         "mode": "lines",
         "type": "scatter3d",
         "x": [
          0.47088950872421265,
          1.040721833705902
         ],
         "y": [
          -0.33197179436683655,
          -0.32267469819635153
         ],
         "z": [
          -0.22846484184265137,
          0.5932435989379883
         ]
        },
        {
         "line": {
          "color": "#F08080",
          "width": 1
         },
         "mode": "lines",
         "type": "scatter3d",
         "x": [
          0.47088950872421265,
          0.9522605836391449
         ],
         "y": [
          -0.33197179436683655,
          -0.31269823014736176
         ],
         "z": [
          -0.22846484184265137,
          0.6478402018547058
         ]
        },
        {
         "line": {
          "color": "#F08080",
          "width": 1
         },
         "mode": "lines",
         "type": "scatter3d",
         "x": [
          0.47088950872421265,
          1.3946366906166077
         ],
         "y": [
          -0.33197179436683655,
          -0.3354291331488639
         ],
         "z": [
          -0.22846484184265137,
          0.15452229976654053
         ]
        },
        {
         "line": {
          "color": "#F08080",
          "width": 1
         },
         "mode": "lines",
         "type": "scatter3d",
         "x": [
          0.47088950872421265,
          1.349876880645752
         ],
         "y": [
          -0.33197179436683655,
          -0.3249868229031563
         ],
         "z": [
          -0.22846484184265137,
          0.2483290731906891
         ]
        },
        {
         "line": {
          "color": "#F08080",
          "width": 1
         },
         "mode": "lines",
         "type": "scatter3d",
         "x": [
          0.47088950872421265,
          1.2925416827201843
         ],
         "y": [
          -0.33197179436683655,
          -0.3141022212803364
         ],
         "z": [
          -0.22846484184265137,
          0.3412442207336426
         ]
        },
        {
         "line": {
          "color": "#F08080",
          "width": 1
         },
         "mode": "lines",
         "type": "scatter3d",
         "x": [
          0.47088950872421265,
          1.223418653011322
         ],
         "y": [
          -0.33197179436683655,
          -0.3031560033559799
         ],
         "z": [
          -0.22846484184265137,
          0.4294634461402893
         ]
        },
        {
         "line": {
          "color": "#F08080",
          "width": 1
         },
         "mode": "lines",
         "type": "scatter3d",
         "x": [
          0.47088950872421265,
          1.1446768045425415
         ],
         "y": [
          -0.33197179436683655,
          -0.2925656661391258
         ],
         "z": [
          -0.22846484184265137,
          0.5094090700149536
         ]
        },
        {
         "line": {
          "color": "#F08080",
          "width": 1
         },
         "mode": "lines",
         "type": "scatter3d",
         "x": [
          0.47088950872421265,
          1.059555172920227
         ],
         "y": [
          -0.33197179436683655,
          -0.2827104404568672
         ],
         "z": [
          -0.22846484184265137,
          0.5784094333648682
         ]
        },
        {
         "line": {
          "color": "#F08080",
          "width": 1
         },
         "mode": "lines",
         "type": "scatter3d",
         "x": [
          0.47088950872421265,
          0.9717386960983276
         ],
         "y": [
          -0.33197179436683655,
          -0.27386701852083206
         ],
         "z": [
          -0.22846484184265137,
          0.63511723279953
         ]
        },
        {
         "line": {
          "color": "#F08080",
          "width": 1
         },
         "mode": "lines",
         "type": "scatter3d",
         "x": [
          0.47088950872421265,
          1.4011223912239075
         ],
         "y": [
          -0.33197179436683655,
          -0.2971785254776478
         ],
         "z": [
          -0.22846484184265137,
          0.1368517279624939
         ]
        },
        {
         "line": {
          "color": "#F08080",
          "width": 1
         },
         "mode": "lines",
         "type": "scatter3d",
         "x": [
          0.47088950872421265,
          1.3586329817771912
         ],
         "y": [
          -0.33197179436683655,
          -0.28566332533955574
         ],
         "z": [
          -0.22846484184265137,
          0.22953850030899048
         ]
        },
        {
         "line": {
          "color": "#F08080",
          "width": 1
         },
         "mode": "lines",
         "type": "scatter3d",
         "x": [
          0.47088950872421265,
          1.3037747740745544
         ],
         "y": [
          -0.33197179436683655,
          -0.2740625962615013
         ],
         "z": [
          -0.22846484184265137,
          0.32194292545318604
         ]
        },
        {
         "line": {
          "color": "#F08080",
          "width": 1
         },
         "mode": "lines",
         "type": "scatter3d",
         "x": [
          0.47088950872421265,
          1.2370983362197876
         ],
         "y": [
          -0.33197179436683655,
          -0.2628213241696358
         ],
         "z": [
          -0.22846484184265137,
          0.4103953242301941
         ]
        },
        {
         "line": {
          "color": "#F08080",
          "width": 1
         },
         "mode": "lines",
         "type": "scatter3d",
         "x": [
          0.47088950872421265,
          1.160501778125763
         ],
         "y": [
          -0.33197179436683655,
          -0.25238535553216934
         ],
         "z": [
          -0.22846484184265137,
          0.4913274645805359
         ]
        },
        {
         "line": {
          "color": "#F08080",
          "width": 1
         },
         "mode": "lines",
         "type": "scatter3d",
         "x": [
          0.47088950872421265,
          1.0769969820976257
         ],
         "y": [
          -0.33197179436683655,
          -0.24311921745538712
         ],
         "z": [
          -0.22846484184265137,
          0.561939537525177
         ]
        },
        {
         "line": {
          "color": "#F08080",
          "width": 1
         },
         "mode": "lines",
         "type": "scatter3d",
         "x": [
          0.47088950872421265,
          0.9901484847068787
         ],
         "y": [
          -0.33197179436683655,
          -0.2352455034852028
         ],
         "z": [
          -0.22846484184265137,
          0.6206607222557068
         ]
        },
        {
         "line": {
          "color": "#F08080",
          "width": 1
         },
         "mode": "lines",
         "type": "scatter3d",
         "x": [
          0.47088950872421265,
          1.4058025479316711
         ],
         "y": [
          -0.33197179436683655,
          -0.2600945010781288
         ],
         "z": [
          -0.22846484184265137,
          0.11905673146247864
         ]
        },
        {
         "line": {
          "color": "#F08080",
          "width": 1
         },
         "mode": "lines",
         "type": "scatter3d",
         "x": [
          0.47088950872421265,
          1.365470290184021
         ],
         "y": [
          -0.33197179436683655,
          -0.24747999757528305
         ],
         "z": [
          -0.22846484184265137,
          0.21038174629211426
         ]
        },
        {
         "line": {
          "color": "#F08080",
          "width": 1
         },
         "mode": "lines",
         "type": "scatter3d",
         "x": [
          0.47088950872421265,
          1.3130526542663574
         ],
         "y": [
          -0.33197179436683655,
          -0.2350897416472435
         ],
         "z": [
          -0.22846484184265137,
          0.30198317766189575
         ]
        },
        {
         "line": {
          "color": "#F08080",
          "width": 1
         },
         "mode": "lines",
         "type": "scatter3d",
         "x": [
          0.47088950872421265,
          1.248887062072754
         ],
         "y": [
          -0.33197179436683655,
          -0.22343439608812332
         ],
         "z": [
          -0.22846484184265137,
          0.390356183052063
         ]
        },
        {
         "line": {
          "color": "#F08080",
          "width": 1
         },
         "mode": "lines",
         "type": "scatter3d",
         "x": [
          0.47088950872421265,
          1.1746050119400024
         ],
         "y": [
          -0.33197179436683655,
          -0.2129978910088539
         ],
         "z": [
          -0.22846484184265137,
          0.4719848036766052
         ]
        },
        {
         "line": {
          "color": "#F08080",
          "width": 1
         },
         "mode": "lines",
         "type": "scatter3d",
         "x": [
          0.47088950872421265,
          1.09297114610672
         ],
         "y": [
          -0.33197179436683655,
          -0.20414623618125916
         ],
         "z": [
          -0.22846484184265137,
          0.5439826250076294
         ]
        },
        {
         "line": {
          "color": "#F08080",
          "width": 1
         },
         "mode": "lines",
         "type": "scatter3d",
         "x": [
          0.47088950872421265,
          1.0073917508125305
         ],
         "y": [
          -0.33197179436683655,
          -0.19706609845161438
         ],
         "z": [
          -0.22846484184265137,
          0.6045812964439392
         ]
        },
        {
         "line": {
          "color": "#F08080",
          "width": 1
         },
         "mode": "lines",
         "type": "scatter3d",
         "x": [
          0.47088950872421265,
          0.9212834537029266
         ],
         "y": [
          -0.33197179436683655,
          -0.19175565242767334
         ],
         "z": [
          -0.22846484184265137,
          0.6532861590385437
         ]
        },
        {
         "line": {
          "color": "#F08080",
          "width": 1
         },
         "mode": "lines",
         "type": "scatter3d",
         "x": [
          0.47088950872421265,
          1.370502769947052
         ],
         "y": [
          -0.33197179436683655,
          -0.21059290319681168
         ],
         "z": [
          -0.22846484184265137,
          0.19101470708847046
         ]
        },
        {
         "line": {
          "color": "#F08080",
          "width": 1
         },
         "mode": "lines",
         "type": "scatter3d",
         "x": [
          0.47088950872421265,
          1.320458710193634
         ],
         "y": [
          -0.33197179436683655,
          -0.19736643135547638
         ],
         "z": [
          -0.22846484184265137,
          0.2815484404563904
         ]
        },
        {
         "line": {
          "color": "#F08080",
          "width": 1
         },
         "mode": "lines",
         "type": "scatter3d",
         "x": [
          0.47088950872421265,
          1.258826196193695
         ],
         "y": [
          -0.33197179436683655,
          -0.18520085513591766
         ],
         "z": [
          -0.22846484184265137,
          0.3695436120033264
         ]
        },
        {
         "line": {
          "color": "#F08080",
          "width": 1
         },
         "mode": "lines",
         "type": "scatter3d",
         "x": [
          0.47088950872421265,
          1.186981737613678
         ],
         "y": [
          -0.33197179436683655,
          -0.17462407052516937
         ],
         "z": [
          -0.22846484184265137,
          0.4515746235847473
         ]
        },
        {
         "line": {
          "color": "#F08080",
          "width": 1
         },
         "mode": "lines",
         "type": "scatter3d",
         "x": [
          0.47088950872421265,
          1.107431709766388
         ],
         "y": [
          -0.33197179436683655,
          -0.16601721942424774
         ],
         "z": [
          -0.22846484184265137,
          0.5247105360031128
         ]
        },
        {
         "line": {
          "color": "#F08080",
          "width": 1
         },
         "mode": "lines",
         "type": "scatter3d",
         "x": [
          0.47088950872421265,
          1.023393154144287
         ],
         "y": [
          -0.33197179436683655,
          -0.15954886376857758
         ],
         "z": [
          -0.22846484184265137,
          0.5870166420936584
         ]
        },
        {
         "line": {
          "color": "#F08080",
          "width": 1
         },
         "mode": "lines",
         "type": "scatter3d",
         "x": [
          0.47088950872421265,
          0.9382047057151794
         ],
         "y": [
          -0.33197179436683655,
          -0.15516911447048187
         ],
         "z": [
          -0.22846484184265137,
          0.6377668380737305
         ]
        },
        {
         "line": {
          "color": "#F08080",
          "width": 1
         },
         "mode": "lines",
         "type": "scatter3d",
         "x": [
          0.47088950872421265,
          1.3738627433776855
         ],
         "y": [
          -0.33197179436683655,
          -0.17512287199497223
         ],
         "z": [
          -0.22846484184265137,
          0.17158228158950806
         ]
        },
        {
         "line": {
          "color": "#F08080",
          "width": 1
         },
         "mode": "lines",
         "type": "scatter3d",
         "x": [
          0.47088950872421265,
          1.3261012434959412
         ],
         "y": [
          -0.33197179436683655,
          -0.16103889048099518
         ],
         "z": [
          -0.22846484184265137,
          0.2608150243759155
         ]
        },
        {
         "line": {
          "color": "#F08080",
          "width": 1
         },
         "mode": "lines",
         "type": "scatter3d",
         "x": [
          0.47088950872421265,
          1.266986906528473
         ],
         "y": [
          -0.33197179436683655,
          -0.1482909768819809
         ],
         "z": [
          -0.22846484184265137,
          0.3481549024581909
         ]
        },
        {
         "line": {
          "color": "#F08080",
          "width": 1
         },
         "mode": "lines",
         "type": "scatter3d",
         "x": [
          0.47088950872421265,
          1.1976585984230042
         ],
         "y": [
          -0.33197179436683655,
          -0.13745331764221191
         ],
         "z": [
          -0.22846484184265137,
          0.4302985668182373
         ]
        },
        {
         "line": {
          "color": "#F08080",
          "width": 1
         },
         "mode": "lines",
         "type": "scatter3d",
         "x": [
          0.47088950872421265,
          1.1203619837760925
         ],
         "y": [
          -0.33197179436683655,
          -0.12893252074718475
         ],
         "z": [
          -0.22846484184265137,
          0.5043110847473145
         ]
        },
        {
         "line": {
          "color": "#F08080",
          "width": 1
         },
         "mode": "lines",
         "type": "scatter3d",
         "x": [
          0.47088950872421265,
          1.0381015539169312
         ],
         "y": [
          -0.33197179436683655,
          -0.12289544939994812
         ],
         "z": [
          -0.22846484184265137,
          0.5681264400482178
         ]
        },
        {
         "line": {
          "color": "#F08080",
          "width": 1
         },
         "mode": "lines",
         "type": "scatter3d",
         "x": [
          0.47088950872421265,
          0.9541028439998627
         ],
         "y": [
          -0.33197179436683655,
          -0.11926195025444031
         ],
         "z": [
          -0.22846484184265137,
          0.6208050847053528
         ]
        },
        {
         "line": {
          "color": "#F08080",
          "width": 1
         },
         "mode": "lines",
         "type": "scatter3d",
         "x": [
          0.47088950872421265,
          1.3756945133209229
         ],
         "y": [
          -0.33197179436683655,
          -0.14115673303604126
         ],
         "z": [
          -0.22846484184265137,
          0.15221548080444336
         ]
        },
        {
         "line": {
          "color": "#F08080",
          "width": 1
         },
         "mode": "lines",
         "type": "scatter3d",
         "x": [
          0.47088950872421265,
          1.3301070928573608
         ],
         "y": [
          -0.33197179436683655,
          -0.1262168437242508
         ],
         "z": [
          -0.22846484184265137,
          0.2399473786354065
         ]
        },
        {
         "line": {
          "color": "#F08080",
          "width": 1
         },
         "mode": "lines",
         "type": "scatter3d",
         "x": [
          0.47088950872421265,
          1.273464858531952
         ],
         "y": [
          -0.33197179436683655,
          -0.11283838748931885
         ],
         "z": [
          -0.22846484184265137,
          0.32638049125671387
         ]
        },
        {
         "line": {
          "color": "#F08080",
          "width": 1
         },
         "mode": "lines",
         "type": "scatter3d",
         "x": [
          0.47088950872421265,
          1.20669025182724
         ],
         "y": [
          -0.33197179436683655,
          -0.1016407161951065
         ],
         "z": [
          -0.22846484184265137,
          0.40835922956466675
         ]
        },
        {
         "line": {
          "color": "#F08080",
          "width": 1
         },
         "mode": "lines",
         "type": "scatter3d",
         "x": [
          0.47088950872421265,
          1.1317729949951172
         ],
         "y": [
          -0.33197179436683655,
          -0.09306299686431885
         ],
         "z": [
          -0.22846484184265137,
          0.4829813241958618
         ]
        },
        {
         "line": {
          "color": "#E0FFFF",
          "width": 1
         },
         "mode": "lines",
         "type": "scatter3d",
         "x": [
          0.4913223385810852,
          0.9944617748260498
         ],
         "y": [
          -0.3024752736091614,
          -0.777802437543869
         ],
         "z": [
          -0.40355610847473145,
          0.3181881904602051
         ]
        },
        {
         "line": {
          "color": "#E0FFFF",
          "width": 1
         },
         "mode": "lines",
         "type": "scatter3d",
         "x": [
          0.4913223385810852,
          1.3177642822265625
         ],
         "y": [
          -0.3024752736091614,
          -0.8321552276611328
         ],
         "z": [
          -0.40355610847473145,
          -0.21268227696418762
         ]
        },
        {
         "line": {
          "color": "#E0FFFF",
          "width": 1
         },
         "mode": "lines",
         "type": "scatter3d",
         "x": [
          0.4913223385810852,
          1.2889378666877747
         ],
         "y": [
          -0.3024752736091614,
          -0.832621693611145
         ],
         "z": [
          -0.40355610847473145,
          -0.11588573455810547
         ]
        },
        {
         "line": {
          "color": "#E0FFFF",
          "width": 1
         },
         "mode": "lines",
         "type": "scatter3d",
         "x": [
          0.4913223385810852,
          1.2503284215927124
         ],
         "y": [
          -0.3024752736091614,
          -0.8273699283599854
         ],
         "z": [
          -0.40355610847473145,
          -0.018334925174713135
         ]
        },
        {
         "line": {
          "color": "#E0FFFF",
          "width": 1
         },
         "mode": "lines",
         "type": "scatter3d",
         "x": [
          0.4913223385810852,
          1.2024263739585876
         ],
         "y": [
          -0.3024752736091614,
          -0.8160756230354309
         ],
         "z": [
          -0.40355610847473145,
          0.07659569382667542
         ]
        },
        {
         "line": {
          "color": "#E0FFFF",
          "width": 1
         },
         "mode": "lines",
         "type": "scatter3d",
         "x": [
          0.4913223385810852,
          1.1466846466064453
         ],
         "y": [
          -0.3024752736091614,
          -0.7990061342716217
         ],
         "z": [
          -0.40355610847473145,
          0.16561639308929443
         ]
        },
        {
         "line": {
          "color": "#E0FFFF",
          "width": 1
         },
         "mode": "lines",
         "type": "scatter3d",
         "x": [
          0.4913223385810852,
          1.085309624671936
         ],
         "y": [
          -0.3024752736091614,
          -0.7769952416419983
         ],
         "z": [
          -0.40355610847473145,
          0.24606680870056152
         ]
        },
        {
         "line": {
          "color": "#E0FFFF",
          "width": 1
         },
         "mode": "lines",
         "type": "scatter3d",
         "x": [
          0.4913223385810852,
          1.0208608508110046
         ],
         "y": [
          -0.3024752736091614,
          -0.7512708604335785
         ],
         "z": [
          -0.40355610847473145,
          0.3162851929664612
         ]
        },
        {
         "line": {
          "color": "#E0FFFF",
          "width": 1
         },
         "mode": "lines",
         "type": "scatter3d",
         "x": [
          0.4913223385810852,
          1.3410205245018005
         ],
         "y": [
          -0.3024752736091614,
          -0.7995779812335968
         ],
         "z": [
          -0.40355610847473145,
          -0.2277667373418808
         ]
        },
        {
         "line": {
          "color": "#E0FFFF",
          "width": 1
         },
         "mode": "lines",
         "type": "scatter3d",
         "x": [
          0.4913223385810852,
          1.3143216371536255
         ],
         "y": [
          -0.3024752736091614,
          -0.8002992272377014
         ],
         "z": [
          -0.40355610847473145,
          -0.12998083233833313
         ]
        },
        {
         "line": {
          "color": "#E0FFFF",
          "width": 1
         },
         "mode": "lines",
         "type": "scatter3d",
         "x": [
          0.4913223385810852,
          1.2773910760879517
         ],
         "y": [
          -0.3024752736091614,
          -0.7955876588821411
         ],
         "z": [
          -0.40355610847473145,
          -0.030814796686172485
         ]
        },
        {
         "line": {
          "color": "#E0FFFF",
          "width": 1
         },
         "mode": "lines",
         "type": "scatter3d",
         "x": [
          0.4913223385810852,
          1.2305129170417786
         ],
         "y": [
          -0.3024752736091614,
          -0.7850498259067535
         ],
         "z": [
          -0.40355610847473145,
          0.06625142693519592
         ]
        },
        {
         "line": {
          "color": "#E0FFFF",
          "width": 1
         },
         "mode": "lines",
         "type": "scatter3d",
         "x": [
          0.4913223385810852,
          1.1750207543373108
         ],
         "y": [
          -0.3024752736091614,
          -0.7688692808151245
         ],
         "z": [
          -0.40355610847473145,
          0.15772205591201782
         ]
        },
        {
         "line": {
          "color": "#E0FFFF",
          "width": 1
         },
         "mode": "lines",
         "type": "scatter3d",
         "x": [
          0.4913223385810852,
          1.1131243705749512
         ],
         "y": [
          -0.3024752736091614,
          -0.7478055059909821
         ],
         "z": [
          -0.40355610847473145,
          0.2406824231147766
         ]
        },
        {
         "line": {
          "color": "#E0FFFF",
          "width": 1
         },
         "mode": "lines",
         "type": "scatter3d",
         "x": [
          0.4913223385810852,
          1.0475011467933655
         ],
         "y": [
          -0.3024752736091614,
          -0.723037451505661
         ],
         "z": [
          -0.40355610847473145,
          0.31323719024658203
         ]
        },
        {
         "line": {
          "color": "#E0FFFF",
          "width": 1
         },
         "mode": "lines",
         "type": "scatter3d",
         "x": [
          0.4913223385810852,
          1.3630138635635376
         ],
         "y": [
          -0.3024752736091614,
          -0.7656175196170807
         ],
         "z": [
          -0.40355610847473145,
          -0.24339009821414948
         ]
        },
        {
         "line": {
          "color": "#E0FFFF",
          "width": 1
         },
         "mode": "lines",
         "type": "scatter3d",
         "x": [
          0.4913223385810852,
          1.3385828137397766
         ],
         "y": [
          -0.3024752736091614,
          -0.7664057314395905
         ],
         "z": [
          -0.40355610847473145,
          -0.14487063884735107
         ]
        },
        {
         "line": {
          "color": "#E0FFFF",
          "width": 1
         },
         "mode": "lines",
         "type": "scatter3d",
         "x": [
          0.4913223385810852,
          1.303544044494629
         ],
         "y": [
          -0.3024752736091614,
          -0.7620898485183716
         ],
         "z": [
          -0.40355610847473145,
          -0.044320374727249146
         ]
        },
        {
         "line": {
          "color": "#E0FFFF",
          "width": 1
         },
         "mode": "lines",
         "type": "scatter3d",
         "x": [
          0.4913223385810852,
          1.2579520344734192
         ],
         "y": [
          -0.3024752736091614,
          -0.7522226870059967
         ],
         "z": [
          -0.40355610847473145,
          0.05470815300941467
         ]
        },
        {
         "line": {
          "color": "#E0FFFF",
          "width": 1
         },
         "mode": "lines",
         "type": "scatter3d",
         "x": [
          0.4913223385810852,
          1.2029850482940674
         ],
         "y": [
          -0.3024752736091614,
          -0.7369092404842377
         ],
         "z": [
          -0.40355610847473145,
          0.1485338807106018
         ]
        },
        {
         "line": {
          "color": "#E0FFFF",
          "width": 1
         },
         "mode": "lines",
         "type": "scatter3d",
         "x": [
          0.4913223385810852,
          1.140819489955902
         ],
         "y": [
          -0.3024752736091614,
          -0.7168291211128235
         ],
         "z": [
          -0.40355610847473145,
          0.23398947715759277
         ]
        },
        {
         "line": {
          "color": "#E0FFFF",
          "width": 1
         },
         "mode": "lines",
         "type": "scatter3d",
         "x": [
          0.4913223385810852,
          1.0742250680923462
         ],
         "y": [
          -0.3024752736091614,
          -0.6930992007255554
         ],
         "z": [
          -0.40355610847473145,
          0.3089306354522705
         ]
        },
        {
         "line": {
          "color": "#E0FFFF",
          "width": 1
         },
         "mode": "lines",
         "type": "scatter3d",
         "x": [
          0.4913223385810852,
          1.3835670948028564
         ],
         "y": [
          -0.3024752736091614,
          -0.7304251194000244
         ],
         "z": [
          -0.40355610847473145,
          -0.2594791501760483
         ]
        },
        {
         "line": {
          "color": "#E0FFFF",
          "width": 1
         },
         "mode": "lines",
         "type": "scatter3d",
         "x": [
          0.4913223385810852,
          1.361507773399353
         ],
         "y": [
          -0.3024752736091614,
          -0.7310789227485657
         ],
         "z": [
          -0.40355610847473145,
          -0.16050006449222565
         ]
        },
        {
         "line": {
          "color": "#E0FFFF",
          "width": 1
         },
         "mode": "lines",
         "type": "scatter3d",
         "x": [
          0.4913223385810852,
          1.3285480737686157
         ],
         "y": [
          -0.3024752736091614,
          -0.7269925177097321
         ],
         "z": [
          -0.40355610847473145,
          -0.058826982975006104
         ]
        },
        {
         "line": {
          "color": "#E0FFFF",
          "width": 1
         },
         "mode": "lines",
         "type": "scatter3d",
         "x": [
          0.4913223385810852,
          1.284495770931244
         ],
         "y": [
          -0.3024752736091614,
          -0.7176840305328369
         ],
         "z": [
          -0.40355610847473145,
          0.04195210337638855
         ]
        },
        {
         "line": {
          "color": "#E0FFFF",
          "width": 1
         },
         "mode": "lines",
         "type": "scatter3d",
         "x": [
          0.4913223385810852,
          1.2303394675254822
         ],
         "y": [
          -0.3024752736091614,
          -0.7031896114349365
         ],
         "z": [
          -0.40355610847473145,
          0.1379987597465515
         ]
        },
        {
         "line": {
          "color": "#E0FFFF",
          "width": 1
         },
         "mode": "lines",
         "type": "scatter3d",
         "x": [
          0.4913223385810852,
          1.1681822538375854
         ],
         "y": [
          -0.3024752736091614,
          -0.684107095003128
         ],
         "z": [
          -0.40355610847473145,
          0.225902259349823
         ]
        },
        {
         "line": {
          "color": "#E0FFFF",
          "width": 1
         },
         "mode": "lines",
         "type": "scatter3d",
         "x": [
          0.4913223385810852,
          1.1008538007736206
         ],
         "y": [
          -0.3024752736091614,
          -0.6614802479743958
         ],
         "z": [
          -0.40355610847473145,
          0.30325841903686523
         ]
        },
        {
         "line": {
          "color": "#E0FFFF",
          "width": 1
         },
         "mode": "lines",
         "type": "scatter3d",
         "x": [
          0.4913223385810852,
          1.4025223851203918
         ],
         "y": [
          -0.3024752736091614,
          -0.6941781640052795
         ],
         "z": [
          -0.40355610847473145,
          -0.2759503722190857
         ]
        },
        {
         "line": {
          "color": "#E0FFFF",
          "width": 1
         },
         "mode": "lines",
         "type": "scatter3d",
         "x": [
          0.4913223385810852,
          1.3828973174095154
         ],
         "y": [
          -0.3024752736091614,
          -0.694488912820816
         ],
         "z": [
          -0.40355610847473145,
          -0.17679791152477264
         ]
        },
        {
         "line": {
          "color": "#E0FFFF",
          "width": 1
         },
         "mode": "lines",
         "type": "scatter3d",
         "x": [
          0.4913223385810852,
          1.3521707653999329
         ],
         "y": [
          -0.3024752736091614,
          -0.6904489099979401
         ],
         "z": [
          -0.40355610847473145,
          -0.07428956031799316
         ]
        },
        {
         "line": {
          "color": "#E0FFFF",
          "width": 1
         },
         "mode": "lines",
         "type": "scatter3d",
         "x": [
          0.4913223385810852,
          1.3098938465118408
         ],
         "y": [
          -0.3024752736091614,
          -0.6815630197525024
         ],
         "z": [
          -0.40355610847473145,
          0.027991265058517456
         ]
        },
        {
         "line": {
          "color": "#E0FFFF",
          "width": 1
         },
         "mode": "lines",
         "type": "scatter3d",
         "x": [
          0.4913223385810852,
          1.256835401058197
         ],
         "y": [
          -0.3024752736091614,
          -0.6678124964237213
         ],
         "z": [
          -0.40355610847473145,
          0.12608379125595093
         ]
        },
        {
         "line": {
          "color": "#E0FFFF",
          "width": 1
         },
         "mode": "lines",
         "type": "scatter3d",
         "x": [
          0.4913223385810852,
          1.1949836611747742
         ],
         "y": [
          -0.3024752736091614,
          -0.6497159004211426
         ],
         "z": [
          -0.40355610847473145,
          0.21635091304779053
         ]
        },
        {
         "line": {
          "color": "#E0FFFF",
          "width": 1
         },
         "mode": "lines",
         "type": "scatter3d",
         "x": [
          0.4913223385810852,
          1.127190113067627
         ],
         "y": [
          -0.3024752736091614,
          -0.6282356977462769
         ],
         "z": [
          -0.40355610847473145,
          0.29612410068511963
         ]
        },
        {
         "line": {
          "color": "#E0FFFF",
          "width": 1
         },
         "mode": "lines",
         "type": "scatter3d",
         "x": [
          0.4913223385810852,
          1.4197468161582947
         ],
         "y": [
          -0.3024752736091614,
          -0.6570757925510406
         ],
         "z": [
          -0.40355610847473145,
          -0.2927119582891464
         ]
        },
        {
         "line": {
          "color": "#E0FFFF",
          "width": 1
         },
         "mode": "lines",
         "type": "scatter3d",
         "x": [
          0.4913223385810852,
          1.4025744795799255
         ],
         "y": [
          -0.3024752736091614,
          -0.6568349599838257
         ],
         "z": [
          -0.40355610847473145,
          -0.19367828965187073
         ]
        },
        {
         "line": {
          "color": "#E0FFFF",
          "width": 1
         },
         "mode": "lines",
         "type": "scatter3d",
         "x": [
          0.4913223385810852,
          1.374195158481598
         ],
         "y": [
          -0.3024752736091614,
          -0.6526475250720978
         ],
         "z": [
          -0.40355610847473145,
          -0.09064245223999023
         ]
        },
        {
         "line": {
          "color": "#E0FFFF",
          "width": 1
         },
         "mode": "lines",
         "type": "scatter3d",
         "x": [
          0.4913223385810852,
          1.3339024782180786
         ],
         "y": [
          -0.3024752736091614,
          -0.6440278589725494
         ],
         "z": [
          -0.40355610847473145,
          0.012857705354690552
         ]
        },
        {
         "line": {
          "color": "#E0FFFF",
          "width": 1
         },
         "mode": "lines",
         "type": "scatter3d",
         "x": [
          0.4913223385810852,
          1.2822213172912598
         ],
         "y": [
          -0.3024752736091614,
          -0.6309198439121246
         ],
         "z": [
          -0.40355610847473145,
          0.11277991533279419
         ]
        },
        {
         "line": {
          "color": "#E0FFFF",
          "width": 1
         },
         "mode": "lines",
         "type": "scatter3d",
         "x": [
          0.4913223385810852,
          1.2209842205047607
         ],
         "y": [
          -0.3024752736091614,
          -0.6137698292732239
         ],
         "z": [
          -0.40355610847473145,
          0.20528644323349
         ]
        },
        {
         "line": {
          "color": "#E0FFFF",
          "width": 1
         },
         "mode": "lines",
         "type": "scatter3d",
         "x": [
          0.4913223385810852,
          1.1530215740203857
         ],
         "y": [
          -0.3024752736091614,
          -0.5934546589851379
         ],
         "z": [
          -0.40355610847473145,
          0.28744685649871826
         ]
        },
        {
         "line": {
          "color": "#E0FFFF",
          "width": 1
         },
         "mode": "lines",
         "type": "scatter3d",
         "x": [
          0.4913223385810852,
          1.0815796852111816
         ],
         "y": [
          -0.3024752736091614,
          -0.5710895359516144
         ],
         "z": [
          -0.40355610847473145,
          0.35765522718429565
         ]
        },
        {
         "line": {
          "color": "#E0FFFF",
          "width": 1
         },
         "mode": "lines",
         "type": "scatter3d",
         "x": [
          0.4913223385810852,
          1.420390546321869
         ],
         "y": [
          -0.3024752736091614,
          -0.6183403432369232
         ],
         "z": [
          -0.40355610847473145,
          -0.211042582988739
         ]
        },
        {
         "line": {
          "color": "#E0FFFF",
          "width": 1
         },
         "mode": "lines",
         "type": "scatter3d",
         "x": [
          0.4913223385810852,
          1.3944282531738281
         ],
         "y": [
          -0.3024752736091614,
          -0.6138081550598145
         ],
         "z": [
          -0.40355610847473145,
          -0.10780024528503418
         ]
        },
        {
         "line": {
          "color": "#E0FFFF",
          "width": 1
         },
         "mode": "lines",
         "type": "scatter3d",
         "x": [
          0.4913223385810852,
          1.3562936186790466
         ],
         "y": [
          -0.3024752736091614,
          -0.6052834987640381
         ],
         "z": [
          -0.40355610847473145,
          -0.0033913850784301758
         ]
        },
        {
         "line": {
          "color": "#E0FFFF",
          "width": 1
         },
         "mode": "lines",
         "type": "scatter3d",
         "x": [
          0.4913223385810852,
          1.3062515258789062
         ],
         "y": [
          -0.3024752736091614,
          -0.5926929414272308
         ],
         "z": [
          -0.40355610847473145,
          0.09810519218444824
         ]
        },
        {
         "line": {
          "color": "#E0FFFF",
          "width": 1
         },
         "mode": "lines",
         "type": "scatter3d",
         "x": [
          0.4913223385810852,
          1.2459412813186646
         ],
         "y": [
          -0.3024752736091614,
          -0.5764220356941223
         ],
         "z": [
          -0.40355610847473145,
          0.19268500804901123
         ]
        },
        {
         "line": {
          "color": "#E0FFFF",
          "width": 1
         },
         "mode": "lines",
         "type": "scatter3d",
         "x": [
          0.4913223385810852,
          1.1781263947486877
         ],
         "y": [
          -0.3024752736091614,
          -0.5572619736194611
         ],
         "z": [
          -0.40355610847473145,
          0.2771669626235962
         ]
        },
        {
         "line": {
          "color": "#E0FFFF",
          "width": 1
         },
         "mode": "lines",
         "type": "scatter3d",
         "x": [
          0.4913223385810852,
          1.1061216592788696
         ],
         "y": [
          -0.3024752736091614,
          -0.5362388789653778
         ],
         "z": [
          -0.40355610847473145,
          0.3496878147125244
         ]
        },
        {
         "line": {
          "color": "#E0FFFF",
          "width": 1
         },
         "mode": "lines",
         "type": "scatter3d",
         "x": [
          0.4913223385810852,
          1.4362308382987976
         ],
         "y": [
          -0.3024752736091614,
          -0.5792458355426788
         ],
         "z": [
          -0.40355610847473145,
          -0.22878232598304749
         ]
        },
        {
         "line": {
          "color": "#E0FFFF",
          "width": 1
         },
         "mode": "lines",
         "type": "scatter3d",
         "x": [
          0.4913223385810852,
          1.4127084612846375
         ],
         "y": [
          -0.3024752736091614,
          -0.5741758644580841
         ],
         "z": [
          -0.40355610847473145,
          -0.1256597340106964
         ]
        },
        {
         "line": {
          "color": "#E0FFFF",
          "width": 1
         },
         "mode": "lines",
         "type": "scatter3d",
         "x": [
          0.4913223385810852,
          1.3768640756607056
         ],
         "y": [
          -0.3024752736091614,
          -0.5655668675899506
         ],
         "z": [
          -0.40355610847473145,
          -0.02067410945892334
         ]
        },
        {
         "line": {
          "color": "#E0FFFF",
          "width": 1
         },
         "mode": "lines",
         "type": "scatter3d",
         "x": [
          0.4913223385810852,
          1.3286955952644348
         ],
         "y": [
          -0.3024752736091614,
          -0.5533493161201477
         ],
         "z": [
          -0.40355610847473145,
          0.08210653066635132
         ]
        },
        {
         "line": {
          "color": "#E0FFFF",
          "width": 1
         },
         "mode": "lines",
         "type": "scatter3d",
         "x": [
          0.4913223385810852,
          1.2696172595024109
         ],
         "y": [
          -0.3024752736091614,
          -0.5378630608320236
         ],
         "z": [
          -0.40355610847473145,
          0.17855173349380493
         ]
        },
        {
         "line": {
          "color": "#E0FFFF",
          "width": 1
         },
         "mode": "lines",
         "type": "scatter3d",
         "x": [
          0.4913223385810852,
          1.2022796273231506
         ],
         "y": [
          -0.3024752736091614,
          -0.5198184251785278
         ],
         "z": [
          -0.40355610847473145,
          0.265250027179718
         ]
        },
        {
         "line": {
          "color": "#E0FFFF",
          "width": 1
         },
         "mode": "lines",
         "type": "scatter3d",
         "x": [
          0.4913223385810852,
          1.1300220489501953
         ],
         "y": [
          -0.3024752736091614,
          -0.5001470744609833
         ],
         "z": [
          -0.40355610847473145,
          0.34007585048675537
         ]
        },
        {
         "line": {
          "color": "#E0FFFF",
          "width": 1
         },
         "mode": "lines",
         "type": "scatter3d",
         "x": [
          0.4913223385810852,
          1.4500182271003723
         ],
         "y": [
          -0.3024752736091614,
          -0.5398023426532745
         ],
         "z": [
          -0.40355610847473145,
          -0.24678252637386322
         ]
        },
        {
         "line": {
          "color": "#E0FFFF",
          "width": 1
         },
         "mode": "lines",
         "type": "scatter3d",
         "x": [
          0.4913223385810852,
          1.4289118647575378
         ],
         "y": [
          -0.3024752736091614,
          -0.5340134054422379
         ],
         "z": [
          -0.40355610847473145,
          -0.14410293102264404
         ]
        },
        {
         "line": {
          "color": "#E0FFFF",
          "width": 1
         },
         "mode": "lines",
         "type": "scatter3d",
         "x": [
          0.4913223385810852,
          1.3954437971115112
         ],
         "y": [
          -0.3024752736091614,
          -0.5251400768756866
         ],
         "z": [
          -0.40355610847473145,
          -0.03888535499572754
         ]
        },
        {
         "line": {
          "color": "#E0FFFF",
          "width": 1
         },
         "mode": "lines",
         "type": "scatter3d",
         "x": [
          0.4913223385810852,
          1.3493478894233704
         ],
         "y": [
          -0.3024752736091614,
          -0.513137549161911
         ],
         "z": [
          -0.40355610847473145,
          0.06485989689826965
         ]
        },
        {
         "line": {
          "color": "#E0FFFF",
          "width": 1
         },
         "mode": "lines",
         "type": "scatter3d",
         "x": [
          0.4913223385810852,
          1.2917889952659607
         ],
         "y": [
          -0.3024752736091614,
          -0.49831758439540863
         ],
         "z": [
          -0.40355610847473145,
          0.16292327642440796
         ]
        },
        {
         "line": {
          "color": "#E0FFFF",
          "width": 1
         },
         "mode": "lines",
         "type": "scatter3d",
         "x": [
          0.4913223385810852,
          1.2252607345581055
         ],
         "y": [
          -0.3024752736091614,
          -0.4813188463449478
         ],
         "z": [
          -0.40355610847473145,
          0.25169146060943604
         ]
        },
        {
         "line": {
          "color": "#E0FFFF",
          "width": 1
         },
         "mode": "lines",
         "type": "scatter3d",
         "x": [
          0.4913223385810852,
          1.1530798077583313
         ],
         "y": [
          -0.3024752736091614,
          -0.46297790110111237
         ],
         "z": [
          -0.40355610847473145,
          0.32877981662750244
         ]
        },
        {
         "line": {
          "color": "#E0FFFF",
          "width": 1
         },
         "mode": "lines",
         "type": "scatter3d",
         "x": [
          0.4913223385810852,
          1.461714744567871
         ],
         "y": [
          -0.3024752736091614,
          -0.500262901186943
         ],
         "z": [
          -0.40355610847473145,
          -0.26492534577846527
         ]
        },
        {
         "line": {
          "color": "#E0FFFF",
          "width": 1
         },
         "mode": "lines",
         "type": "scatter3d",
         "x": [
          0.4913223385810852,
          1.4429563283920288
         ],
         "y": [
          -0.3024752736091614,
          -0.49359259009361267
         ],
         "z": [
          -0.40355610847473145,
          -0.16300085186958313
         ]
        },
        {
         "line": {
          "color": "#E0FFFF",
          "width": 1
         },
         "mode": "lines",
         "type": "scatter3d",
         "x": [
          0.4913223385810852,
          1.411902666091919
         ],
         "y": [
          -0.3024752736091614,
          -0.484281986951828
         ],
         "z": [
          -0.40355610847473145,
          -0.057900041341781616
         ]
        },
        {
         "line": {
          "color": "#E0FFFF",
          "width": 1
         },
         "mode": "lines",
         "type": "scatter3d",
         "x": [
          0.4913223385810852,
          1.3680357933044434
         ],
         "y": [
          -0.3024752736091614,
          -0.47232985496520996
         ],
         "z": [
          -0.40355610847473145,
          0.04646933078765869
         ]
        },
        {
         "line": {
          "color": "#E0FFFF",
          "width": 1
         },
         "mode": "lines",
         "type": "scatter3d",
         "x": [
          0.4913223385810852,
          1.3122564554214478
         ],
         "y": [
          -0.3024752736091614,
          -0.45803865790367126
         ],
         "z": [
          -0.40355610847473145,
          0.1458682417869568
         ]
        },
        {
         "line": {
          "color": "#E0FFFF",
          "width": 1
         },
         "mode": "lines",
         "type": "scatter3d",
         "x": [
          0.4913223385810852,
          1.2468620538711548
         ],
         "y": [
          -0.3024752736091614,
          -0.44198839366436005
         ],
         "z": [
          -0.40355610847473145,
          0.2365187406539917
         ]
        },
        {
         "line": {
          "color": "#E0FFFF",
          "width": 1
         },
         "mode": "lines",
         "type": "scatter3d",
         "x": [
          0.4913223385810852,
          1.1750975847244263
         ],
         "y": [
          -0.3024752736091614,
          -0.42492474615573883
         ],
         "z": [
          -0.40355610847473145,
          0.31578904390335083
         ]
        },
        {
         "line": {
          "color": "#E0FFFF",
          "width": 1
         },
         "mode": "lines",
         "type": "scatter3d",
         "x": [
          0.4913223385810852,
          1.4713214635849
         ],
         "y": [
          -0.3024752736091614,
          -0.46087488532066345
         ],
         "z": [
          -0.40355610847473145,
          -0.2830938622355461
         ]
        },
        {
         "line": {
          "color": "#E0FFFF",
          "width": 1
         },
         "mode": "lines",
         "type": "scatter3d",
         "x": [
          0.4913223385810852,
          1.454803466796875
         ],
         "y": [
          -0.3024752736091614,
          -0.4531853049993515
         ],
         "z": [
          -0.40355610847473145,
          -0.18221813440322876
         ]
        },
        {
         "line": {
          "color": "#E0FFFF",
          "width": 1
         },
         "mode": "lines",
         "type": "scatter3d",
         "x": [
          0.4913223385810852,
          1.4261550307273865
         ],
         "y": [
          -0.3024752736091614,
          -0.4432786554098129
         ],
         "z": [
          -0.40355610847473145,
          -0.07757729291915894
         ]
        },
        {
         "line": {
          "color": "#E0FFFF",
          "width": 1
         },
         "mode": "lines",
         "type": "scatter3d",
         "x": [
          0.4913223385810852,
          1.3846269845962524
         ],
         "y": [
          -0.3024752736091614,
          -0.43121300637722015
         ],
         "z": [
          -0.40355610847473145,
          0.027063637971878052
         ]
        },
        {
         "line": {
          "color": "#E0FFFF",
          "width": 1
         },
         "mode": "lines",
         "type": "scatter3d",
         "x": [
          0.4913223385810852,
          1.330851137638092
         ],
         "y": [
          -0.3024752736091614,
          -0.4173000305891037
         ],
         "z": [
          -0.40355610847473145,
          0.12748682498931885
         ]
        },
        {
         "line": {
          "color": "#E0FFFF",
          "width": 1
         },
         "mode": "lines",
         "type": "scatter3d",
         "x": [
          0.4913223385810852,
          1.2668964862823486
         ],
         "y": [
          -0.3024752736091614,
          -0.40207673609256744
         ],
         "z": [
          -0.40355610847473145,
          0.21979308128356934
         ]
        },
        {
         "line": {
          "color": "#E0FFFF",
          "width": 1
         },
         "mode": "lines",
         "type": "scatter3d",
         "x": [
          0.4913223385810852,
          1.1958889961242676
         ],
         "y": [
          -0.3024752736091614,
          -0.3862065151333809
         ],
         "z": [
          -0.40355610847473145,
          0.30112457275390625
         ]
        },
        {
         "line": {
          "color": "#E0FFFF",
          "width": 1
         },
         "mode": "lines",
         "type": "scatter3d",
         "x": [
          0.4913223385810852,
          1.1213474869728088
         ],
         "y": [
          -0.3024752736091614,
          -0.3703492283821106
         ],
         "z": [
          -0.40355610847473145,
          0.37004679441452026
         ]
        },
        {
         "line": {
          "color": "#E0FFFF",
          "width": 1
         },
         "mode": "lines",
         "type": "scatter3d",
         "x": [
          0.4913223385810852,
          1.464457929134369
         ],
         "y": [
          -0.3024752736091614,
          -0.41305462270975113
         ],
         "z": [
          -0.40355610847473145,
          -0.20161747932434082
         ]
        },
        {
         "line": {
          "color": "#E0FFFF",
          "width": 1
         },
         "mode": "lines",
         "type": "scatter3d",
         "x": [
          0.4913223385810852,
          1.4381614923477173
         ],
         "y": [
          -0.3024752736091614,
          -0.4024134650826454
         ],
         "z": [
          -0.40355610847473145,
          -0.09776556491851807
         ]
        },
        {
         "line": {
          "color": "#E0FFFF",
          "width": 1
         },
         "mode": "lines",
         "type": "scatter3d",
         "x": [
          0.4913223385810852,
          1.3990337252616882
         ],
         "y": [
          -0.3024752736091614,
          -0.39007843285799026
         ],
         "z": [
          -0.40355610847473145,
          0.006792038679122925
         ]
        },
        {
         "line": {
          "color": "#E0FFFF",
          "width": 1
         },
         "mode": "lines",
         "type": "scatter3d",
         "x": [
          0.4913223385810852,
          1.3474425673484802
         ],
         "y": [
          -0.3024752736091614,
          -0.3763870596885681
         ],
         "z": [
          -0.40355610847473145,
          0.10790765285491943
         ]
        },
        {
         "line": {
          "color": "#E0FFFF",
          "width": 1
         },
         "mode": "lines",
         "type": "scatter3d",
         "x": [
          0.4913223385810852,
          1.2852053046226501
         ],
         "y": [
          -0.3024752736091614,
          -0.36185041069984436
         ],
         "z": [
          -0.40355610847473145,
          0.2016085982322693
         ]
        },
        {
         "line": {
          "color": "#E0FFFF",
          "width": 1
         },
         "mode": "lines",
         "type": "scatter3d",
         "x": [
          0.4913223385810852,
          1.2152851223945618
         ],
         "y": [
          -0.3024752736091614,
          -0.3470620736479759
         ],
         "z": [
          -0.40355610847473145,
          0.28484052419662476
         ]
        },
        {
         "line": {
          "color": "#E0FFFF",
          "width": 1
         },
         "mode": "lines",
         "type": "scatter3d",
         "x": [
          0.4913223385810852,
          1.141164243221283
         ],
         "y": [
          -0.3024752736091614,
          -0.33258644863963127
         ],
         "z": [
          -0.40355610847473145,
          0.3559165596961975
         ]
        },
        {
         "line": {
          "color": "#E0FFFF",
          "width": 1
         },
         "mode": "lines",
         "type": "scatter3d",
         "x": [
          0.4913223385810852,
          1.4719647765159607
         ],
         "y": [
          -0.3024752736091614,
          -0.373446986079216
         ],
         "z": [
          -0.40355610847473145,
          -0.2210642546415329
         ]
        },
        {
         "line": {
          "color": "#E0FFFF",
          "width": 1
         },
         "mode": "lines",
         "type": "scatter3d",
         "x": [
          0.4913223385810852,
          1.4479284882545471
         ],
         "y": [
          -0.3024752736091614,
          -0.36195777729153633
         ],
         "z": [
          -0.40355610847473145,
          -0.1183081567287445
         ]
        },
        {
         "line": {
          "color": "#E0FFFF",
          "width": 1
         },
         "mode": "lines",
         "type": "scatter3d",
         "x": [
          0.4913223385810852,
          1.4112152457237244
         ],
         "y": [
          -0.3024752736091614,
          -0.3492119796574116
         ],
         "z": [
          -0.40355610847473145,
          -0.014181405305862427
         ]
        },
        {
         "line": {
          "color": "#E0FFFF",
          "width": 1
         },
         "mode": "lines",
         "type": "scatter3d",
         "x": [
          0.4913223385810852,
          1.3619428873062134
         ],
         "y": [
          -0.3024752736091614,
          -0.3355867750942707
         ],
         "z": [
          -0.40355610847473145,
          0.0872834324836731
         ]
        },
        {
         "line": {
          "color": "#E0FFFF",
          "width": 1
         },
         "mode": "lines",
         "type": "scatter3d",
         "x": [
          0.4913223385810852,
          1.3016639947891235
         ],
         "y": [
          -0.3024752736091614,
          -0.3215841706842184
         ],
         "z": [
          -0.40355610847473145,
          0.18208986520767212
         ]
        },
        {
         "line": {
          "color": "#E0FFFF",
          "width": 1
         },
         "mode": "lines",
         "type": "scatter3d",
         "x": [
          0.4913223385810852,
          1.2331412434577942
         ],
         "y": [
          -0.3024752736091614,
          -0.3077431181445718
         ],
         "z": [
          -0.40355610847473145,
          0.2670234441757202
         ]
        },
        {
         "line": {
          "color": "#E0FFFF",
          "width": 1
         },
         "mode": "lines",
         "type": "scatter3d",
         "x": [
          0.4913223385810852,
          1.1597734093666077
         ],
         "y": [
          -0.3024752736091614,
          -0.2945422800257802
         ],
         "z": [
          -0.40355610847473145,
          0.3401576280593872
         ]
        },
        {
         "line": {
          "color": "#E0FFFF",
          "width": 1
         },
         "mode": "lines",
         "type": "scatter3d",
         "x": [
          0.4913223385810852,
          1.4774048924446106
         ],
         "y": [
          -0.3024752736091614,
          -0.3345857411623001
         ],
         "z": [
          -0.40355610847473145,
          -0.24043050408363342
         ]
        },
        {
         "line": {
          "color": "#E0FFFF",
          "width": 1
         },
         "mode": "lines",
         "type": "scatter3d",
         "x": [
          0.4913223385810852,
          1.4555050134658813
         ],
         "y": [
          -0.3024752736091614,
          -0.32216267846524715
         ],
         "z": [
          -0.40355610847473145,
          -0.13904881477355957
         ]
        },
        {
         "line": {
          "color": "#E0FFFF",
          "width": 1
         },
         "mode": "lines",
         "type": "scatter3d",
         "x": [
          0.4913223385810852,
          1.4211766123771667
         ],
         "y": [
          -0.3024752736091614,
          -0.3088844711892307
         ],
         "z": [
          -0.40355610847473145,
          -0.035684049129486084
         ]
        },
        {
         "line": {
          "color": "#E0FFFF",
          "width": 1
         },
         "mode": "lines",
         "type": "scatter3d",
         "x": [
          0.4913223385810852,
          1.374309003353119
         ],
         "y": [
          -0.3024752736091614,
          -0.29517799615859985
         ],
         "z": [
          -0.40355610847473145,
          0.06578516960144043
         ]
        },
        {
         "line": {
          "color": "#E0FFFF",
          "width": 1
         },
         "mode": "lines",
         "type": "scatter3d",
         "x": [
          0.4913223385810852,
          1.3161863684654236
         ],
         "y": [
          -0.3024752736091614,
          -0.28155163675546646
         ],
         "z": [
          -0.40355610847473145,
          0.1613876223564148
         ]
        },
        {
         "line": {
          "color": "#E0FFFF",
          "width": 1
         },
         "mode": "lines",
         "type": "scatter3d",
         "x": [
          0.4913223385810852,
          1.2493417859077454
         ],
         "y": [
          -0.3024752736091614,
          -0.26850625872612
         ],
         "z": [
          -0.40355610847473145,
          0.2477906346321106
         ]
        },
        {
         "line": {
          "color": "#E0FFFF",
          "width": 1
         },
         "mode": "lines",
         "type": "scatter3d",
         "x": [
          0.4913223385810852,
          1.1770464777946472
         ],
         "y": [
          -0.3024752736091614,
          -0.25644800812005997
         ],
         "z": [
          -0.40355610847473145,
          0.3228486180305481
         ]
        },
        {
         "line": {
          "color": "#E0FFFF",
          "width": 1
         },
         "mode": "lines",
         "type": "scatter3d",
         "x": [
          0.4913223385810852,
          1.480889081954956
         ],
         "y": [
          -0.3024752736091614,
          -0.2966663776896894
         ],
         "z": [
          -0.40355610847473145,
          -0.2595983147621155
         ]
        },
        {
         "line": {
          "color": "#E0FFFF",
          "width": 1
         },
         "mode": "lines",
         "type": "scatter3d",
         "x": [
          0.4913223385810852,
          1.460977554321289
         ],
         "y": [
          -0.3024752736091614,
          -0.28325243294239044
         ],
         "z": [
          -0.40355610847473145,
          -0.15983666479587555
         ]
        },
        {
         "line": {
          "color": "#E0FFFF",
          "width": 1
         },
         "mode": "lines",
         "type": "scatter3d",
         "x": [
          0.4913223385810852,
          1.4289661049842834
         ],
         "y": [
          -0.3024752736091614,
          -0.2693435251712799
         ],
         "z": [
          -0.40355610847473145,
          -0.0575411319732666
         ]
        },
        {
         "line": {
          "color": "#E0FFFF",
          "width": 1
         },
         "mode": "lines",
         "type": "scatter3d",
         "x": [
          0.4913223385810852,
          1.384541928768158
         ],
         "y": [
          -0.3024752736091614,
          -0.2554222233593464
         ],
         "z": [
          -0.40355610847473145,
          0.043595582246780396
         ]
        },
        {
         "line": {
          "color": "#E0FFFF",
          "width": 1
         },
         "mode": "lines",
         "type": "scatter3d",
         "x": [
          0.4913223385810852,
          1.3287269473075867
         ],
         "y": [
          -0.3024752736091614,
          -0.24201617017388344
         ],
         "z": [
          -0.40355610847473145,
          0.13967329263687134
         ]
        },
        {
         "line": {
          "color": "#E0FFFF",
          "width": 1
         },
         "mode": "lines",
         "type": "scatter3d",
         "x": [
          0.4913223385810852,
          1.2638041973114014
         ],
         "y": [
          -0.3024752736091614,
          -0.22960469126701355
         ],
         "z": [
          -0.40355610847473145,
          0.22728586196899414
         ]
        },
        {
         "line": {
          "color": "#E0FFFF",
          "width": 1
         },
         "mode": "lines",
         "type": "scatter3d",
         "x": [
          0.4913223385810852,
          1.1928788423538208
         ],
         "y": [
          -0.3024752736091614,
          -0.21853704005479813
         ],
         "z": [
          -0.40355610847473145,
          0.30409687757492065
         ]
        },
        {
         "line": {
          "color": "#E0FFFF",
          "width": 1
         },
         "mode": "lines",
         "type": "scatter3d",
         "x": [
          0.4913223385810852,
          1.4825512766838074
         ],
         "y": [
          -0.3024752736091614,
          -0.2598536014556885
         ],
         "z": [
          -0.40355610847473145,
          -0.2784622460603714
         ]
        },
        {
         "line": {
          "color": "#E0FFFF",
          "width": 1
         },
         "mode": "lines",
         "type": "scatter3d",
         "x": [
          0.4913223385810852,
          1.4644637703895569
         ],
         "y": [
          -0.3024752736091614,
          -0.24541990086436272
         ],
         "z": [
          -0.40355610847473145,
          -0.18053069710731506
         ]
        },
        {
         "line": {
          "color": "#E0FFFF",
          "width": 1
         },
         "mode": "lines",
         "type": "scatter3d",
         "x": [
          0.4913223385810852,
          1.4346696138381958
         ],
         "y": [
          -0.3024752736091614,
          -0.23080728203058243
         ],
         "z": [
          -0.40355610847473145,
          -0.07958155870437622
         ]
        },
        {
         "line": {
          "color": "#E0FFFF",
          "width": 1
         },
         "mode": "lines",
         "type": "scatter3d",
         "x": [
          0.4913223385810852,
          1.3926841020584106
         ],
         "y": [
          -0.3024752736091614,
          -0.21655599772930145
         ],
         "z": [
          -0.40355610847473145,
          0.020902127027511597
         ]
        },
        {
         "line": {
          "color": "#E0FFFF",
          "width": 1
         },
         "mode": "lines",
         "type": "scatter3d",
         "x": [
          0.4913223385810852,
          1.3392801880836487
         ],
         "y": [
          -0.3024752736091614,
          -0.2032226100564003
         ],
         "z": [
          -0.40355610847473145,
          0.11713218688964844
         ]
        },
        {
         "line": {
          "color": "#E0FFFF",
          "width": 1
         },
         "mode": "lines",
         "type": "scatter3d",
         "x": [
          0.4913223385810852,
          1.2764807343482971
         ],
         "y": [
          -0.3024752736091614,
          -0.19128016382455826
         ],
         "z": [
          -0.40355610847473145,
          0.205674409866333
         ]
        },
        {
         "line": {
          "color": "#E0FFFF",
          "width": 1
         },
         "mode": "lines",
         "type": "scatter3d",
         "x": [
          0.4913223385810852,
          1.2071928977966309
         ],
         "y": [
          -0.3024752736091614,
          -0.18103782087564468
         ],
         "z": [
          -0.40355610847473145,
          0.28403544425964355
         ]
        },
        {
         "line": {
          "color": "#E0FFFF",
          "width": 1
         },
         "mode": "lines",
         "type": "scatter3d",
         "x": [
          0.4913223385810852,
          1.1346296668052673
         ],
         "y": [
          -0.3024752736091614,
          -0.17260991036891937
         ],
         "z": [
          -0.40355610847473145,
          0.35095739364624023
         ]
        },
        {
         "line": {
          "color": "#E0FFFF",
          "width": 1
         },
         "mode": "lines",
         "type": "scatter3d",
         "x": [
          0.4913223385810852,
          1.4661051630973816
         ],
         "y": [
          -0.3024752736091614,
          -0.208824023604393
         ],
         "z": [
          -0.40355610847473145,
          -0.20100295543670654
         ]
        },
        {
         "line": {
          "color": "#E0FFFF",
          "width": 1
         },
         "mode": "lines",
         "type": "scatter3d",
         "x": [
          0.4913223385810852,
          1.4384043216705322
         ],
         "y": [
          -0.3024752736091614,
          -0.19346021860837936
         ],
         "z": [
          -0.40355610847473145,
          -0.1016433835029602
         ]
        },
        {
         "line": {
          "color": "#E0FFFF",
          "width": 1
         },
         "mode": "lines",
         "type": "scatter3d",
         "x": [
          0.4913223385810852,
          1.3988141417503357
         ],
         "y": [
          -0.3024752736091614,
          -0.17878515273332596
         ],
         "z": [
          -0.40355610847473145,
          -0.0021095573902130127
         ]
        },
        {
         "line": {
          "color": "#E0FFFF",
          "width": 1
         },
         "mode": "lines",
         "type": "scatter3d",
         "x": [
          0.4913223385810852,
          1.3478785753250122
         ],
         "y": [
          -0.3024752736091614,
          -0.16539043188095093
         ],
         "z": [
          -0.40355610847473145,
          0.09395670890808105
         ]
        },
        {
         "line": {
          "color": "#E0FFFF",
          "width": 1
         },
         "mode": "lines",
         "type": "scatter3d",
         "x": [
          0.4913223385810852,
          1.2873586416244507
         ],
         "y": [
          -0.3024752736091614,
          -0.15375582873821259
         ],
         "z": [
          -0.40355610847473145,
          0.18313688039779663
         ]
        },
        {
         "line": {
          "color": "#E0FFFF",
          "width": 1
         },
         "mode": "lines",
         "type": "scatter3d",
         "x": [
          0.4913223385810852,
          1.2199398279190063
         ],
         "y": [
          -0.3024752736091614,
          -0.14416703581809998
         ],
         "z": [
          -0.40355610847473145,
          0.2628183960914612
         ]
        },
        {
         "line": {
          "color": "#E0FFFF",
          "width": 1
         },
         "mode": "lines",
         "type": "scatter3d",
         "x": [
          0.4913223385810852,
          1.1487081050872803
         ],
         "y": [
          -0.3024752736091614,
          -0.1366889625787735
         ],
         "z": [
          -0.40355610847473145,
          0.33153486251831055
         ]
        },
        {
         "line": {
          "color": "#E0FFFF",
          "width": 1
         },
         "mode": "lines",
         "type": "scatter3d",
         "x": [
          0.4913223385810852,
          1.466059684753418
         ],
         "y": [
          -0.3024752736091614,
          -0.17358918488025665
         ],
         "z": [
          -0.40355610847473145,
          -0.22114086151123047
         ]
        },
        {
         "line": {
          "color": "#E0FFFF",
          "width": 1
         },
         "mode": "lines",
         "type": "scatter3d",
         "x": [
          0.4913223385810852,
          1.4403112530708313
         ],
         "y": [
          -0.3024752736091614,
          -0.1574511080980301
         ],
         "z": [
          -0.40355610847473145,
          -0.12357765436172485
         ]
        },
        {
         "line": {
          "color": "#E0FFFF",
          "width": 1
         },
         "mode": "lines",
         "type": "scatter3d",
         "x": [
          0.4913223385810852,
          1.4030410051345825
         ],
         "y": [
          -0.3024752736091614,
          -0.14228121936321259
         ],
         "z": [
          -0.40355610847473145,
          -0.02526146173477173
         ]
        },
        {
         "line": {
          "color": "#E0FFFF",
          "width": 1
         },
         "mode": "lines",
         "type": "scatter3d",
         "x": [
          0.4913223385810852,
          1.3545882105827332
         ],
         "y": [
          -0.3024752736091614,
          -0.12870876491069794
         ],
         "z": [
          -0.40355610847473145,
          0.0703396201133728
         ]
        },
        {
         "line": {
          "color": "#E0FFFF",
          "width": 1
         },
         "mode": "lines",
         "type": "scatter3d",
         "x": [
          0.4913223385810852,
          1.296458125114441
         ],
         "y": [
          -0.3024752736091614,
          -0.1172303855419159
         ],
         "z": [
          -0.40355610847473145,
          0.15986257791519165
         ]
        },
        {
         "line": {
          "color": "#E0FFFF",
          "width": 1
         },
         "mode": "lines",
         "type": "scatter3d",
         "x": [
          0.4913223385810852,
          1.2310998439788818
         ],
         "y": [
          -0.3024752736091614,
          -0.10812367498874664
         ],
         "z": [
          -0.40355610847473145,
          0.24061518907546997
         ]
        },
        {
         "line": {
          "color": "#E0FFFF",
          "width": 1
         },
         "mode": "lines",
         "type": "scatter3d",
         "x": [
          0.4913223385810852,
          1.1614415049552917
         ],
         "y": [
          -0.3024752736091614,
          -0.10142070055007935
         ],
         "z": [
          -0.40355610847473145,
          0.31094878911972046
         ]
        },
        {
         "line": {
          "color": "#E0FFFF",
          "width": 1
         },
         "mode": "lines",
         "type": "scatter3d",
         "x": [
          0.4913223385810852,
          1.4644949436187744
         ],
         "y": [
          -0.3024752736091614,
          -0.13980625569820404
         ],
         "z": [
          -0.40355610847473145,
          -0.24084852635860443
         ]
        },
        {
         "line": {
          "color": "#E0FFFF",
          "width": 1
         },
         "mode": "lines",
         "type": "scatter3d",
         "x": [
          0.4913223385810852,
          1.4405477643013
         ],
         "y": [
          -0.3024752736091614,
          -0.12289299070835114
         ],
         "z": [
          -0.40355610847473145,
          -0.14525163173675537
         ]
        },
        {
         "line": {
          "color": "#E0FFFF",
          "width": 1
         },
         "mode": "lines",
         "type": "scatter3d",
         "x": [
          0.4913223385810852,
          1.4054969549179077
         ],
         "y": [
          -0.3024752736091614,
          -0.10717988014221191
         ],
         "z": [
          -0.40355610847473145,
          -0.04838806390762329
         ]
        },
        {
         "line": {
          "color": "#E0FFFF",
          "width": 1
         },
         "mode": "lines",
         "type": "scatter3d",
         "x": [
          0.4913223385810852,
          1.3595032691955566
         ],
         "y": [
          -0.3024752736091614,
          -0.09333334863185883
         ],
         "z": [
          -0.40355610847473145,
          0.04646766185760498
         ]
        },
        {
         "line": {
          "color": "#E0FFFF",
          "width": 1
         },
         "mode": "lines",
         "type": "scatter3d",
         "x": [
          0.4913223385810852,
          1.3038294315338135
         ],
         "y": [
          -0.3024752736091614,
          -0.08187389373779297
         ],
         "z": [
          -0.40355610847473145,
          0.13604295253753662
         ]
        },
        {
         "line": {
          "color": "#FAFAD2",
          "width": 1
         },
         "mode": "lines",
         "type": "scatter3d",
         "x": [
          0.2959826588630676,
          0.8419426083564758
         ],
         "y": [
          -0.17425888776779175,
          -0.6896772980690002
         ],
         "z": [
          -0.6899168491363525,
          -0.029408156871795654
         ]
        },
        {
         "line": {
          "color": "#FAFAD2",
          "width": 1
         },
         "mode": "lines",
         "type": "scatter3d",
         "x": [
          0.2959826588630676,
          1.081716239452362
         ],
         "y": [
          -0.17425888776779175,
          -0.7858588099479675
         ],
         "z": [
          -0.6899168491363525,
          -0.5973517969250679
         ]
        },
        {
         "line": {
          "color": "#FAFAD2",
          "width": 1
         },
         "mode": "lines",
         "type": "scatter3d",
         "x": [
          0.2959826588630676,
          1.0665998458862305
         ],
         "y": [
          -0.17425888776779175,
          -0.781838059425354
         ],
         "z": [
          -0.6899168491363525,
          -0.4975716173648834
         ]
        },
        {
         "line": {
          "color": "#FAFAD2",
          "width": 1
         },
         "mode": "lines",
         "type": "scatter3d",
         "x": [
          0.2959826588630676,
          1.0425403714179993
         ],
         "y": [
          -0.17425888776779175,
          -0.7710819244384766
         ],
         "z": [
          -0.6899168491363525,
          -0.39588645100593567
         ]
        },
        {
         "line": {
          "color": "#FAFAD2",
          "width": 1
         },
         "mode": "lines",
         "type": "scatter3d",
         "x": [
          0.2959826588630676,
          1.0095897316932678
         ],
         "y": [
          -0.17425888776779175,
          -0.7533695101737976
         ],
         "z": [
          -0.6899168491363525,
          -0.29571396112442017
         ]
        },
        {
         "line": {
          "color": "#FAFAD2",
          "width": 1
         },
         "mode": "lines",
         "type": "scatter3d",
         "x": [
          0.2959826588630676,
          0.9686985611915588
         ],
         "y": [
          -0.17425888776779175,
          -0.7291694283485413
         ],
         "z": [
          -0.6899168491363525,
          -0.2005012333393097
         ]
        },
        {
         "line": {
          "color": "#FAFAD2",
          "width": 1
         },
         "mode": "lines",
         "type": "scatter3d",
         "x": [
          0.2959826588630676,
          0.9215880632400513
         ],
         "y": [
          -0.17425888776779175,
          -0.6995841264724731
         ],
         "z": [
          -0.6899168491363525,
          -0.11315745115280151
         ]
        },
        {
         "line": {
          "color": "#FAFAD2",
          "width": 1
         },
         "mode": "lines",
         "type": "scatter3d",
         "x": [
          0.2959826588630676,
          0.8704239130020142
         ],
         "y": [
          -0.17425888776779175,
          -0.6661306023597717
         ],
         "z": [
          -0.6899168491363525,
          -0.03563892841339111
         ]
        },
        {
         "line": {
          "color": "#FAFAD2",
          "width": 1
         },
         "mode": "lines",
         "type": "scatter3d",
         "x": [
          0.2959826588630676,
          1.1059104800224304
         ],
         "y": [
          -0.17425888776779175,
          -0.7561612129211426
         ],
         "z": [
          -0.6899168491363525,
          -0.6163875460624695
         ]
        },
        {
         "line": {
          "color": "#FAFAD2",
          "width": 1
         },
         "mode": "lines",
         "type": "scatter3d",
         "x": [
          0.2959826588630676,
          1.0929998755455017
         ],
         "y": [
          -0.17425888776779175,
          -0.7526051998138428
         ],
         "z": [
          -0.6899168491363525,
          -0.5159081667661667
         ]
        },
        {
         "line": {
          "color": "#FAFAD2",
          "width": 1
         },
         "mode": "lines",
         "type": "scatter3d",
         "x": [
          0.2959826588630676,
          1.0707609057426453
         ],
         "y": [
          -0.17425888776779175,
          -0.742540717124939
         ],
         "z": [
          -0.6899168491363525,
          -0.41283488273620605
         ]
        },
        {
         "line": {
          "color": "#FAFAD2",
          "width": 1
         },
         "mode": "lines",
         "type": "scatter3d",
         "x": [
          0.2959826588630676,
          1.0390348434448242
         ],
         "y": [
          -0.17425888776779175,
          -0.7256578207015991
         ],
         "z": [
          -0.6899168491363525,
          -0.31066399812698364
         ]
        },
        {
         "line": {
          "color": "#FAFAD2",
          "width": 1
         },
         "mode": "lines",
         "type": "scatter3d",
         "x": [
          0.2959826588630676,
          0.9986351132392883
         ],
         "y": [
          -0.17425888776779175,
          -0.7023320198059082
         ],
         "z": [
          -0.6899168491363525,
          -0.21303287148475647
         ]
        },
        {
         "line": {
          "color": "#FAFAD2",
          "width": 1
         },
         "mode": "lines",
         "type": "scatter3d",
         "x": [
          0.2959826588630676,
          0.9512588381767273
         ],
         "y": [
          -0.17425888776779175,
          -0.6735960841178894
         ],
         "z": [
          -0.6899168491363525,
          -0.12310510873794556
         ]
        },
        {
         "line": {
          "color": "#FAFAD2",
          "width": 1
         },
         "mode": "lines",
         "type": "scatter3d",
         "x": [
          0.2959826588630676,
          0.8991608619689941
         ],
         "y": [
          -0.17425888776779175,
          -0.6409343481063843
         ],
         "z": [
          -0.6899168491363525,
          -0.04308593273162842
         ]
        },
        {
         "line": {
          "color": "#FAFAD2",
          "width": 1
         },
         "mode": "lines",
         "type": "scatter3d",
         "x": [
          0.2959826588630676,
          1.1289292573928833
         ],
         "y": [
          -0.17425888776779175,
          -0.7249621748924255
         ],
         "z": [
          -0.6899168491363525,
          -0.6358262896537781
         ]
        },
        {
         "line": {
          "color": "#FAFAD2",
          "width": 1
         },
         "mode": "lines",
         "type": "scatter3d",
         "x": [
          0.2959826588630676,
          1.1183468103408813
         ],
         "y": [
          -0.17425888776779175,
          -0.7217028737068176
         ],
         "z": [
          -0.6899168491363525,
          -0.5349255055189133
         ]
        },
        {
         "line": {
          "color": "#FAFAD2",
          "width": 1
         },
         "mode": "lines",
         "type": "scatter3d",
         "x": [
          0.2959826588630676,
          1.098121166229248
         ],
         "y": [
          -0.17425888776779175,
          -0.712212324142456
         ],
         "z": [
          -0.6899168491363525,
          -0.43072593212127686
         ]
        },
        {
         "line": {
          "color": "#FAFAD2",
          "width": 1
         },
         "mode": "lines",
         "type": "scatter3d",
         "x": [
          0.2959826588630676,
          1.0678630471229553
         ],
         "y": [
          -0.17425888776779175,
          -0.6961039900779724
         ],
         "z": [
          -0.6899168491363525,
          -0.3267662227153778
         ]
        },
        {
         "line": {
          "color": "#FAFAD2",
          "width": 1
         },
         "mode": "lines",
         "type": "scatter3d",
         "x": [
          0.2959826588630676,
          1.02821546792984
         ],
         "y": [
          -0.17425888776779175,
          -0.6736615002155304
         ],
         "z": [
          -0.6899168491363525,
          -0.2268485724925995
         ]
        },
        {
         "line": {
          "color": "#FAFAD2",
          "width": 1
         },
         "mode": "lines",
         "type": "scatter3d",
         "x": [
          0.2959826588630676,
          0.9808160662651062
         ],
         "y": [
          -0.17425888776779175,
          -0.6458382606506348
         ],
         "z": [
          -0.6899168491363525,
          -0.13438451290130615
         ]
        },
        {
         "line": {
          "color": "#FAFAD2",
          "width": 1
         },
         "mode": "lines",
         "type": "scatter3d",
         "x": [
          0.2959826588630676,
          0.9279828071594238
         ],
         "y": [
          -0.17425888776779175,
          -0.6140704154968262
         ],
         "z": [
          -0.6899168491363525,
          -0.051840245723724365
         ]
        },
        {
         "line": {
          "color": "#FAFAD2",
          "width": 1
         },
         "mode": "lines",
         "type": "scatter3d",
         "x": [
          0.2959826588630676,
          1.1505924463272095
         ],
         "y": [
          -0.17425888776779175,
          -0.6923921704292297
         ],
         "z": [
          -0.6899168491363525,
          -0.6555671319365501
         ]
        },
        {
         "line": {
          "color": "#FAFAD2",
          "width": 1
         },
         "mode": "lines",
         "type": "scatter3d",
         "x": [
          0.2959826588630676,
          1.1424234509468079
         ],
         "y": [
          -0.17425888776779175,
          -0.6892443299293518
         ],
         "z": [
          -0.6899168491363525,
          -0.5545361340045929
         ]
        },
        {
         "line": {
          "color": "#FAFAD2",
          "width": 1
         },
         "mode": "lines",
         "type": "scatter3d",
         "x": [
          0.2959826588630676,
          1.1243767738342285
         ],
         "y": [
          -0.17425888776779175,
          -0.6801863312721252
         ],
         "z": [
          -0.6899168491363525,
          -0.44949933886528015
         ]
        },
        {
         "line": {
          "color": "#FAFAD2",
          "width": 1
         },
         "mode": "lines",
         "type": "scatter3d",
         "x": [
          0.2959826588630676,
          1.095818817615509
         ],
         "y": [
          -0.17425888776779175,
          -0.6647712588310242
         ],
         "z": [
          -0.6899168491363525,
          -0.34399816393852234
         ]
        },
        {
         "line": {
          "color": "#FAFAD2",
          "width": 1
         },
         "mode": "lines",
         "type": "scatter3d",
         "x": [
          0.2959826588630676,
          1.0571911334991455
         ],
         "y": [
          -0.17425888776779175,
          -0.6431965529918671
         ],
         "z": [
          -0.6899168491363525,
          -0.2419668436050415
         ]
        },
        {
         "line": {
          "color": "#FAFAD2",
          "width": 1
         },
         "mode": "lines",
         "type": "scatter3d",
         "x": [
          0.2959826588630676,
          1.0100340843200684
         ],
         "y": [
          -0.17425888776779175,
          -0.6163300573825836
         ],
         "z": [
          -0.6899168491363525,
          -0.1470506191253662
         ]
        },
        {
         "line": {
          "color": "#FAFAD2",
          "width": 1
         },
         "mode": "lines",
         "type": "scatter3d",
         "x": [
          0.2959826588630676,
          0.9566964507102966
         ],
         "y": [
          -0.17425888776779175,
          -0.5855454504489899
         ],
         "z": [
          -0.6899168491363525,
          -0.06198310852050781
         ]
        },
        {
         "line": {
          "color": "#FAFAD2",
          "width": 1
         },
         "mode": "lines",
         "type": "scatter3d",
         "x": [
          0.2959826588630676,
          1.1707377433776855
         ],
         "y": [
          -0.17425888776779175,
          -0.6586095988750458
         ],
         "z": [
          -0.6899168491363525,
          -0.6755008203908801
         ]
        },
        {
         "line": {
          "color": "#FAFAD2",
          "width": 1
         },
         "mode": "lines",
         "type": "scatter3d",
         "x": [
          0.2959826588630676,
          1.1650259494781494
         ],
         "y": [
          -0.17425888776779175,
          -0.6553767323493958
         ],
         "z": [
          -0.6899168491363525,
          -0.574637658894062
         ]
        },
        {
         "line": {
          "color": "#FAFAD2",
          "width": 1
         },
         "mode": "lines",
         "type": "scatter3d",
         "x": [
          0.2959826588630676,
          1.149289309978485
         ],
         "y": [
          -0.17425888776779175,
          -0.6465897262096405
         ],
         "z": [
          -0.6899168491363525,
          -0.4690746068954468
         ]
        },
        {
         "line": {
          "color": "#FAFAD2",
          "width": 1
         },
         "mode": "lines",
         "type": "scatter3d",
         "x": [
          0.2959826588630676,
          1.1226434707641602
         ],
         "y": [
          -0.17425888776779175,
          -0.6317613124847412
         ],
         "z": [
          -0.6899168491363525,
          -0.36231425404548645
         ]
        },
        {
         "line": {
          "color": "#FAFAD2",
          "width": 1
         },
         "mode": "lines",
         "type": "scatter3d",
         "x": [
          0.2959826588630676,
          1.0853021740913391
         ],
         "y": [
          -0.17425888776779175,
          -0.611012727022171
         ],
         "z": [
          -0.6899168491363525,
          -0.25838375091552734
         ]
        },
        {
         "line": {
          "color": "#FAFAD2",
          "width": 1
         },
         "mode": "lines",
         "type": "scatter3d",
         "x": [
          0.2959826588630676,
          1.038669764995575
         ],
         "y": [
          -0.17425888776779175,
          -0.5851241946220398
         ],
         "z": [
          -0.6899168491363525,
          -0.16113930940628052
         ]
        },
        {
         "line": {
          "color": "#FAFAD2",
          "width": 1
         },
         "mode": "lines",
         "type": "scatter3d",
         "x": [
          0.2959826588630676,
          0.9850883483886719
         ],
         "y": [
          -0.17425888776779175,
          -0.55539470911026
         ],
         "z": [
          -0.6899168491363525,
          -0.0735817551612854
         ]
        },
        {
         "line": {
          "color": "#FAFAD2",
          "width": 1
         },
         "mode": "lines",
         "type": "scatter3d",
         "x": [
          0.2959826588630676,
          1.18922621011734
         ],
         "y": [
          -0.17425888776779175,
          -0.6237969696521759
         ],
         "z": [
          -0.6899168491363525,
          -0.6955126305110753
         ]
        },
        {
         "line": {
          "color": "#FAFAD2",
          "width": 1
         },
         "mode": "lines",
         "type": "scatter3d",
         "x": [
          0.2959826588630676,
          1.185971200466156
         ],
         "y": [
          -0.17425888776779175,
          -0.6202779412269592
         ],
         "z": [
          -0.6899168491363525,
          -0.5951152294874191
         ]
        },
        {
         "line": {
          "color": "#FAFAD2",
          "width": 1
         },
         "mode": "lines",
         "type": "scatter3d",
         "x": [
          0.2959826588630676,
          1.1726346611976624
         ],
         "y": [
          -0.17425888776779175,
          -0.6115859150886536
         ],
         "z": [
          -0.6899168491363525,
          -0.4893518537282944
         ]
        },
        {
         "line": {
          "color": "#FAFAD2",
          "width": 1
         },
         "mode": "lines",
         "type": "scatter3d",
         "x": [
          0.2959826588630676,
          1.1480838060379028
         ],
         "y": [
          -0.17425888776779175,
          -0.5972150266170502
         ],
         "z": [
          -0.6899168491363525,
          -0.38164475560188293
         ]
        },
        {
         "line": {
          "color": "#FAFAD2",
          "width": 1
         },
         "mode": "lines",
         "type": "scatter3d",
         "x": [
          0.2959826588630676,
          1.1122848987579346
         ],
         "y": [
          -0.17425888776779175,
          -0.5772246420383453
         ],
         "z": [
          -0.6899168491363525,
          -0.2760699689388275
         ]
        },
        {
         "line": {
          "color": "#FAFAD2",
          "width": 1
         },
         "mode": "lines",
         "type": "scatter3d",
         "x": [
          0.2959826588630676,
          1.066468596458435
         ],
         "y": [
          -0.17425888776779175,
          -0.5523096323013306
         ],
         "z": [
          -0.6899168491363525,
          -0.17666339874267578
         ]
        },
        {
         "line": {
          "color": "#FAFAD2",
          "width": 1
         },
         "mode": "lines",
         "type": "scatter3d",
         "x": [
          0.2959826588630676,
          1.0129292011260986
         ],
         "y": [
          -0.17425888776779175,
          -0.5236853659152985
         ],
         "z": [
          -0.6899168491363525,
          -0.08668482303619385
         ]
        },
        {
         "line": {
          "color": "#FAFAD2",
          "width": 1
         },
         "mode": "lines",
         "type": "scatter3d",
         "x": [
          0.2959826588630676,
          0.9545282125473022
         ],
         "y": [
          -0.17425888776779175,
          -0.4928291440010071
         ],
         "z": [
          -0.6899168491363525,
          -0.008131802082061768
         ]
        },
        {
         "line": {
          "color": "#FAFAD2",
          "width": 1
         },
         "mode": "lines",
         "type": "scatter3d",
         "x": [
          0.2959826588630676,
          1.2051032185554504
         ],
         "y": [
          -0.17425888776779175,
          -0.5841527879238129
         ],
         "z": [
          -0.6899168491363525,
          -0.6158445701003075
         ]
        },
        {
         "line": {
          "color": "#FAFAD2",
          "width": 1
         },
         "mode": "lines",
         "type": "scatter3d",
         "x": [
          0.2959826588630676,
          1.1942116618156433
         ],
         "y": [
          -0.17425888776779175,
          -0.5753717124462128
         ],
         "z": [
          -0.6899168491363525,
          -0.5102139413356781
         ]
        },
        {
         "line": {
          "color": "#FAFAD2",
          "width": 1
         },
         "mode": "lines",
         "type": "scatter3d",
         "x": [
          0.2959826588630676,
          1.1719020009040833
         ],
         "y": [
          -0.17425888776779175,
          -0.5613111257553101
         ],
         "z": [
          -0.6899168491363525,
          -0.40189632773399353
         ]
        },
        {
         "line": {
          "color": "#FAFAD2",
          "width": 1
         },
         "mode": "lines",
         "type": "scatter3d",
         "x": [
          0.2959826588630676,
          1.137881100177765
         ],
         "y": [
          -0.17425888776779175,
          -0.5419861674308777
         ],
         "z": [
          -0.6899168491363525,
          -0.2949691414833069
         ]
        },
        {
         "line": {
          "color": "#FAFAD2",
          "width": 1
         },
         "mode": "lines",
         "type": "scatter3d",
         "x": [
          0.2959826588630676,
          1.093172550201416
         ],
         "y": [
          -0.17425888776779175,
          -0.5180131196975708
         ],
         "z": [
          -0.6899168491363525,
          -0.19360914826393127
         ]
        },
        {
         "line": {
          "color": "#FAFAD2",
          "width": 1
         },
         "mode": "lines",
         "type": "scatter3d",
         "x": [
          0.2959826588630676,
          1.0399791598320007
         ],
         "y": [
          -0.17425888776779175,
          -0.4905189275741577
         ],
         "z": [
          -0.6899168491363525,
          -0.10131776332855225
         ]
        },
        {
         "line": {
          "color": "#FAFAD2",
          "width": 1
         },
         "mode": "lines",
         "type": "scatter3d",
         "x": [
          0.2959826588630676,
          0.9812036752700806
         ],
         "y": [
          -0.17425888776779175,
          -0.46090319752693176
         ],
         "z": [
          -0.6899168491363525,
          -0.020359277725219727
         ]
        },
        {
         "line": {
          "color": "#FAFAD2",
          "width": 1
         },
         "mode": "lines",
         "type": "scatter3d",
         "x": [
          0.2959826588630676,
          1.2222991585731506
         ],
         "y": [
          -0.17425888776779175,
          -0.5472268760204315
         ],
         "z": [
          -0.6899168491363525,
          -0.6366957165300846
         ]
        },
        {
         "line": {
          "color": "#FAFAD2",
          "width": 1
         },
         "mode": "lines",
         "type": "scatter3d",
         "x": [
          0.2959826588630676,
          1.2138501405715942
         ],
         "y": [
          -0.17425888776779175,
          -0.5381720066070557
         ],
         "z": [
          -0.6899168491363525,
          -0.5315296500921249
         ]
        },
        {
         "line": {
          "color": "#FAFAD2",
          "width": 1
         },
         "mode": "lines",
         "type": "scatter3d",
         "x": [
          0.2959826588630676,
          1.1938846707344055
         ],
         "y": [
          -0.17425888776779175,
          -0.5242623686790466
         ],
         "z": [
          -0.6899168491363525,
          -0.4229533076286316
         ]
        },
        {
         "line": {
          "color": "#FAFAD2",
          "width": 1
         },
         "mode": "lines",
         "type": "scatter3d",
         "x": [
          0.2959826588630676,
          1.1618477702140808
         ],
         "y": [
          -0.17425888776779175,
          -0.505488395690918
         ],
         "z": [
          -0.6899168491363525,
          -0.31499728560447693
         ]
        },
        {
         "line": {
          "color": "#FAFAD2",
          "width": 1
         },
         "mode": "lines",
         "type": "scatter3d",
         "x": [
          0.2959826588630676,
          1.118528664112091
         ],
         "y": [
          -0.17425888776779175,
          -0.4823988974094391
         ],
         "z": [
          -0.6899168491363525,
          -0.21193376183509827
         ]
        },
        {
         "line": {
          "color": "#FAFAD2",
          "width": 1
         },
         "mode": "lines",
         "type": "scatter3d",
         "x": [
          0.2959826588630676,
          1.0659953951835632
         ],
         "y": [
          -0.17425888776779175,
          -0.45603179931640625
         ],
         "z": [
          -0.6899168491363525,
          -0.11747956275939941
         ]
        },
        {
         "line": {
          "color": "#FAFAD2",
          "width": 1
         },
         "mode": "lines",
         "type": "scatter3d",
         "x": [
          0.2959826588630676,
          1.0071487426757812
         ],
         "y": [
          -0.17425888776779175,
          -0.42769932746887207
         ],
         "z": [
          -0.6899168491363525,
          -0.03416472673416138
         ]
        },
        {
         "line": {
          "color": "#FAFAD2",
          "width": 1
         },
         "mode": "lines",
         "type": "scatter3d",
         "x": [
          0.2959826588630676,
          1.237472951412201
         ],
         "y": [
          -0.17425888776779175,
          -0.5097397565841675
         ],
         "z": [
          -0.6899168491363525,
          -0.6575370319187641
         ]
        },
        {
         "line": {
          "color": "#FAFAD2",
          "width": 1
         },
         "mode": "lines",
         "type": "scatter3d",
         "x": [
          0.2959826588630676,
          1.2314171195030212
         ],
         "y": [
          -0.17425888776779175,
          -0.5002332031726837
         ],
         "z": [
          -0.6899168491363525,
          -0.553157702088356
         ]
        },
        {
         "line": {
          "color": "#FAFAD2",
          "width": 1
         },
         "mode": "lines",
         "type": "scatter3d",
         "x": [
          0.2959826588630676,
          1.2138517498970032
         ],
         "y": [
          -0.17425888776779175,
          -0.4863097369670868
         ],
         "z": [
          -0.6899168491363525,
          -0.4446810781955719
         ]
        },
        {
         "line": {
          "color": "#FAFAD2",
          "width": 1
         },
         "mode": "lines",
         "type": "scatter3d",
         "x": [
          0.2959826588630676,
          1.1839670538902283
         ],
         "y": [
          -0.17425888776779175,
          -0.46795549988746643
         ],
         "z": [
          -0.6899168491363525,
          -0.336044043302536
         ]
        },
        {
         "line": {
          "color": "#FAFAD2",
          "width": 1
         },
         "mode": "lines",
         "type": "scatter3d",
         "x": [
          0.2959826588630676,
          1.1422988772392273
         ],
         "y": [
          -0.17425888776779175,
          -0.4456660747528076
         ],
         "z": [
          -0.6899168491363525,
          -0.23156428337097168
         ]
        },
        {
         "line": {
          "color": "#FAFAD2",
          "width": 1
         },
         "mode": "lines",
         "type": "scatter3d",
         "x": [
          0.2959826588630676,
          1.0907400250434875
         ],
         "y": [
          -0.17425888776779175,
          -0.4203943759202957
         ],
         "z": [
          -0.6899168491363525,
          -0.13513928651809692
         ]
        },
        {
         "line": {
          "color": "#FAFAD2",
          "width": 1
         },
         "mode": "lines",
         "type": "scatter3d",
         "x": [
          0.2959826588630676,
          1.0321430563926697
         ],
         "y": [
          -0.17425888776779175,
          -0.393359512090683
         ],
         "z": [
          -0.6899168491363525,
          -0.049555301666259766
         ]
        },
        {
         "line": {
          "color": "#FAFAD2",
          "width": 1
         },
         "mode": "lines",
         "type": "scatter3d",
         "x": [
          0.2959826588630676,
          1.2505773901939392
         ],
         "y": [
          -0.17425888776779175,
          -0.47193729877471924
         ],
         "z": [
          -0.6899168491363525,
          -0.6782393380999565
         ]
        },
        {
         "line": {
          "color": "#FAFAD2",
          "width": 1
         },
         "mode": "lines",
         "type": "scatter3d",
         "x": [
          0.2959826588630676,
          1.246821403503418
         ],
         "y": [
          -0.17425888776779175,
          -0.46181491017341614
         ],
         "z": [
          -0.6899168491363525,
          -0.5749513506889343
         ]
        },
        {
         "line": {
          "color": "#FAFAD2",
          "width": 1
         },
         "mode": "lines",
         "type": "scatter3d",
         "x": [
          0.2959826588630676,
          1.231663465499878
         ],
         "y": [
          -0.17425888776779175,
          -0.44771483540534973
         ],
         "z": [
          -0.6899168491363525,
          -0.46692995727062225
         ]
        },
        {
         "line": {
          "color": "#FAFAD2",
          "width": 1
         },
         "mode": "lines",
         "type": "scatter3d",
         "x": [
          0.2959826588630676,
          1.204055368900299
         ],
         "y": [
          -0.17425888776779175,
          -0.4296382963657379
         ],
         "z": [
          -0.6899168491363525,
          -0.3579751253128052
         ]
        },
        {
         "line": {
          "color": "#FAFAD2",
          "width": 1
         },
         "mode": "lines",
         "type": "scatter3d",
         "x": [
          0.2959826588630676,
          1.1642694473266602
         ],
         "y": [
          -0.17425888776779175,
          -0.4080439656972885
         ],
         "z": [
          -0.6899168491363525,
          -0.25239819288253784
         ]
        },
        {
         "line": {
          "color": "#FAFAD2",
          "width": 1
         },
         "mode": "lines",
         "type": "scatter3d",
         "x": [
          0.2959826588630676,
          1.1139888167381287
         ],
         "y": [
          -0.17425888776779175,
          -0.38380804657936096
         ],
         "z": [
          -0.6899168491363525,
          -0.1542348861694336
         ]
        },
        {
         "line": {
          "color": "#FAFAD2",
          "width": 1
         },
         "mode": "lines",
         "type": "scatter3d",
         "x": [
          0.2959826588630676,
          1.0559707880020142
         ],
         "y": [
          -0.17425888776779175,
          -0.3580552637577057
         ],
         "z": [
          -0.6899168491363525,
          -0.06650924682617188
         ]
        },
        {
         "line": {
          "color": "#FAFAD2",
          "width": 1
         },
         "mode": "lines",
         "type": "scatter3d",
         "x": [
          0.2959826588630676,
          1.2616039514541626
         ],
         "y": [
          -0.17425888776779175,
          -0.43406376242637634
         ],
         "z": [
          -0.6899168491363525,
          -0.6986797424033284
         ]
        },
        {
         "line": {
          "color": "#FAFAD2",
          "width": 1
         },
         "mode": "lines",
         "type": "scatter3d",
         "x": [
          0.2959826588630676,
          1.2600157856941223
         ],
         "y": [
          -0.17425888776779175,
          -0.42318136990070343
         ],
         "z": [
          -0.6899168491363525,
          -0.596763402223587
         ]
        },
        {
         "line": {
          "color": "#FAFAD2",
          "width": 1
         },
         "mode": "lines",
         "type": "scatter3d",
         "x": [
          0.2959826588630676,
          1.2472254037857056
         ],
         "y": [
          -0.17425888776779175,
          -0.4087509214878082
         ],
         "z": [
          -0.6899168491363525,
          -0.4895405024290085
         ]
        },
        {
         "line": {
          "color": "#FAFAD2",
          "width": 1
         },
         "mode": "lines",
         "type": "scatter3d",
         "x": [
          0.2959826588630676,
          1.2219703197479248
         ],
         "y": [
          -0.17425888776779175,
          -0.3908059448003769
         ],
         "z": [
          -0.6899168491363525,
          -0.38063669204711914
         ]
        },
        {
         "line": {
          "color": "#FAFAD2",
          "width": 1
         },
         "mode": "lines",
         "type": "scatter3d",
         "x": [
          0.2959826588630676,
          1.1842600107192993
         ],
         "y": [
          -0.17425888776779175,
          -0.3697853833436966
         ],
         "z": [
          -0.6899168491363525,
          -0.2743055820465088
         ]
        },
        {
         "line": {
          "color": "#FAFAD2",
          "width": 1
         },
         "mode": "lines",
         "type": "scatter3d",
         "x": [
          0.2959826588630676,
          1.1355403065681458
         ],
         "y": [
          -0.17425888776779175,
          -0.3465002477169037
         ],
         "z": [
          -0.6899168491363525,
          -0.17467331886291504
         ]
        },
        {
         "line": {
          "color": "#FAFAD2",
          "width": 1
         },
         "mode": "lines",
         "type": "scatter3d",
         "x": [
          0.2959826588630676,
          1.078428566455841
         ],
         "y": [
          -0.17425888776779175,
          -0.321984127163887
         ],
         "z": [
          -0.6899168491363525,
          -0.08497411012649536
         ]
        },
        {
         "line": {
          "color": "#FAFAD2",
          "width": 1
         },
         "mode": "lines",
         "type": "scatter3d",
         "x": [
          0.2959826588630676,
          1.016125500202179
         ],
         "y": [
          -0.17425888776779175,
          -0.2972879037261009
         ],
         "z": [
          -0.6899168491363525,
          -0.0070858001708984375
         ]
        },
        {
         "line": {
          "color": "#FAFAD2",
          "width": 1
         },
         "mode": "lines",
         "type": "scatter3d",
         "x": [
          0.2959826588630676,
          1.270996630191803
         ],
         "y": [
          -0.17425888776779175,
          -0.38459262251853943
         ],
         "z": [
          -0.6899168491363525,
          -0.618450865149498
         ]
        },
        {
         "line": {
          "color": "#FAFAD2",
          "width": 1
         },
         "mode": "lines",
         "type": "scatter3d",
         "x": [
          0.2959826588630676,
          1.2604902982711792
         ],
         "y": [
          -0.17425888776779175,
          -0.3696933090686798
         ],
         "z": [
          -0.6899168491363525,
          -0.512349084019661
         ]
        },
        {
         "line": {
          "color": "#FAFAD2",
          "width": 1
         },
         "mode": "lines",
         "type": "scatter3d",
         "x": [
          0.2959826588630676,
          1.2376160025596619
         ],
         "y": [
          -0.17425888776779175,
          -0.3517366647720337
         ],
         "z": [
          -0.6899168491363525,
          -0.40386059880256653
         ]
        },
        {
         "line": {
          "color": "#FAFAD2",
          "width": 1
         },
         "mode": "lines",
         "type": "scatter3d",
         "x": [
          0.2959826588630676,
          1.2021302580833435
         ],
         "y": [
          -0.17425888776779175,
          -0.331158310174942
         ],
         "z": [
          -0.6899168491363525,
          -0.29713305830955505
         ]
        },
        {
         "line": {
          "color": "#FAFAD2",
          "width": 1
         },
         "mode": "lines",
         "type": "scatter3d",
         "x": [
          0.2959826588630676,
          1.155223548412323
         ],
         "y": [
          -0.17425888776779175,
          -0.3087177723646164
         ],
         "z": [
          -0.6899168491363525,
          -0.19633203744888306
         ]
        },
        {
         "line": {
          "color": "#FAFAD2",
          "width": 1
         },
         "mode": "lines",
         "type": "scatter3d",
         "x": [
          0.2959826588630676,
          1.099332869052887
         ],
         "y": [
          -0.17425888776779175,
          -0.2853648439049721
         ],
         "z": [
          -0.6899168491363525,
          -0.10486644506454468
         ]
        },
        {
         "line": {
          "color": "#FAFAD2",
          "width": 1
         },
         "mode": "lines",
         "type": "scatter3d",
         "x": [
          0.2959826588630676,
          1.0375982522964478
         ],
         "y": [
          -0.17425888776779175,
          -0.26205533742904663
         ],
         "z": [
          -0.6899168491363525,
          -0.02486175298690796
         ]
        },
        {
         "line": {
          "color": "#FAFAD2",
          "width": 1
         },
         "mode": "lines",
         "type": "scatter3d",
         "x": [
          0.2959826588630676,
          1.2798013091087341
         ],
         "y": [
          -0.17425888776779175,
          -0.3462965041399002
         ],
         "z": [
          -0.6899168491363525,
          -0.6398793309926987
         ]
        },
        {
         "line": {
          "color": "#FAFAD2",
          "width": 1
         },
         "mode": "lines",
         "type": "scatter3d",
         "x": [
          0.2959826588630676,
          1.271458089351654
         ],
         "y": [
          -0.17425888776779175,
          -0.33081018924713135
         ],
         "z": [
          -0.6899168491363525,
          -0.5351934731006622
         ]
        },
        {
         "line": {
          "color": "#FAFAD2",
          "width": 1
         },
         "mode": "lines",
         "type": "scatter3d",
         "x": [
          0.2959826588630676,
          1.2509453296661377
         ],
         "y": [
          -0.17425888776779175,
          -0.31270793080329895
         ],
         "z": [
          -0.6899168491363525,
          -0.42747050523757935
         ]
        },
        {
         "line": {
          "color": "#FAFAD2",
          "width": 1
         },
         "mode": "lines",
         "type": "scatter3d",
         "x": [
          0.2959826588630676,
          1.2177850604057312
         ],
         "y": [
          -0.17425888776779175,
          -0.29243651777505875
         ],
         "z": [
          -0.6899168491363525,
          -0.32070910930633545
         ]
        },
        {
         "line": {
          "color": "#FAFAD2",
          "width": 1
         },
         "mode": "lines",
         "type": "scatter3d",
         "x": [
          0.2959826588630676,
          1.17290461063385
         ],
         "y": [
          -0.17425888776779175,
          -0.27071870118379593
         ],
         "z": [
          -0.6899168491363525,
          -0.21906286478042603
         ]
        },
        {
         "line": {
          "color": "#FAFAD2",
          "width": 1
         },
         "mode": "lines",
         "type": "scatter3d",
         "x": [
          0.2959826588630676,
          1.118527114391327
         ],
         "y": [
          -0.17425888776779175,
          -0.2484310194849968
         ],
         "z": [
          -0.6899168491363525,
          -0.12607359886169434
         ]
        },
        {
         "line": {
          "color": "#FAFAD2",
          "width": 1
         },
         "mode": "lines",
         "type": "scatter3d",
         "x": [
          0.2959826588630676,
          1.0576860904693604
         ],
         "y": [
          -0.17425888776779175,
          -0.22643867880105972
         ],
         "z": [
          -0.6899168491363525,
          -0.04409545660018921
         ]
        },
        {
         "line": {
          "color": "#FAFAD2",
          "width": 1
         },
         "mode": "lines",
         "type": "scatter3d",
         "x": [
          0.2959826588630676,
          1.2865042090415955
         ],
         "y": [
          -0.17425888776779175,
          -0.3085217624902725
         ],
         "z": [
          -0.6899168491363525,
          -0.6609265301376581
         ]
        },
        {
         "line": {
          "color": "#FAFAD2",
          "width": 1
         },
         "mode": "lines",
         "type": "scatter3d",
         "x": [
          0.2959826588630676,
          1.28017258644104
         ],
         "y": [
          -0.17425888776779175,
          -0.29235410690307617
         ],
         "z": [
          -0.6899168491363525,
          -0.5579182356595993
         ]
        },
        {
         "line": {
          "color": "#FAFAD2",
          "width": 1
         },
         "mode": "lines",
         "type": "scatter3d",
         "x": [
          0.2959826588630676,
          1.261959195137024
         ],
         "y": [
          -0.17425888776779175,
          -0.2739870101213455
         ],
         "z": [
          -0.6899168491363525,
          -0.45128828287124634
         ]
        },
        {
         "line": {
          "color": "#FAFAD2",
          "width": 1
         },
         "mode": "lines",
         "type": "scatter3d",
         "x": [
          0.2959826588630676,
          1.2311767935752869
         ],
         "y": [
          -0.17425888776779175,
          -0.25389014184474945
         ],
         "z": [
          -0.6899168491363525,
          -0.34485048055648804
         ]
        },
        {
         "line": {
          "color": "#FAFAD2",
          "width": 1
         },
         "mode": "lines",
         "type": "scatter3d",
         "x": [
          0.2959826588630676,
          1.18849116563797
         ],
         "y": [
          -0.17425888776779175,
          -0.23276373371481895
         ],
         "z": [
          -0.6899168491363525,
          -0.2426968514919281
         ]
        },
        {
         "line": {
          "color": "#FAFAD2",
          "width": 1
         },
         "mode": "lines",
         "type": "scatter3d",
         "x": [
          0.2959826588630676,
          1.1358870267868042
         ],
         "y": [
          -0.17425888776779175,
          -0.21142377704381943
         ],
         "z": [
          -0.6899168491363525,
          -0.14845633506774902
         ]
        },
        {
         "line": {
          "color": "#FAFAD2",
          "width": 1
         },
         "mode": "lines",
         "type": "scatter3d",
         "x": [
          0.2959826588630676,
          1.0762495398521423
         ],
         "y": [
          -0.17425888776779175,
          -0.19065308012068272
         ],
         "z": [
          -0.6899168491363525,
          -0.0646849274635315
         ]
        },
        {
         "line": {
          "color": "#FAFAD2",
          "width": 1
         },
         "mode": "lines",
         "type": "scatter3d",
         "x": [
          0.2959826588630676,
          1.2912103533744812
         ],
         "y": [
          -0.17425888776779175,
          -0.27147281914949417
         ],
         "z": [
          -0.6899168491363525,
          -0.6814849693328142
         ]
        },
        {
         "line": {
          "color": "#FAFAD2",
          "width": 1
         },
         "mode": "lines",
         "type": "scatter3d",
         "x": [
          0.2959826588630676,
          1.2867166996002197
         ],
         "y": [
          -0.17425888776779175,
          -0.25455499440431595
         ],
         "z": [
          -0.6899168491363525,
          -0.5803791657090187
         ]
        },
        {
         "line": {
          "color": "#FAFAD2",
          "width": 1
         },
         "mode": "lines",
         "type": "scatter3d",
         "x": [
          0.2959826588630676,
          1.2707035541534424
         ],
         "y": [
          -0.17425888776779175,
          -0.235822644084692
         ],
         "z": [
          -0.6899168491363525,
          -0.47514013946056366
         ]
        },
        {
         "line": {
          "color": "#FAFAD2",
          "width": 1
         },
         "mode": "lines",
         "type": "scatter3d",
         "x": [
          0.2959826588630676,
          1.2423045635223389
         ],
         "y": [
          -0.17425888776779175,
          -0.21577660366892815
         ],
         "z": [
          -0.6899168491363525,
          -0.36936870217323303
         ]
        },
        {
         "line": {
          "color": "#FAFAD2",
          "width": 1
         },
         "mode": "lines",
         "type": "scatter3d",
         "x": [
          0.2959826588630676,
          1.201934814453125
         ],
         "y": [
          -0.17425888776779175,
          -0.19510734267532825
         ],
         "z": [
          -0.6899168491363525,
          -0.2670504152774811
         ]
        },
        {
         "line": {
          "color": "#FAFAD2",
          "width": 1
         },
         "mode": "lines",
         "type": "scatter3d",
         "x": [
          0.2959826588630676,
          1.151324987411499
         ],
         "y": [
          -0.17425888776779175,
          -0.17458397705922835
         ],
         "z": [
          -0.6899168491363525,
          -0.17185372114181519
         ]
        },
        {
         "line": {
          "color": "#FAFAD2",
          "width": 1
         },
         "mode": "lines",
         "type": "scatter3d",
         "x": [
          0.2959826588630676,
          1.0931761264801025
         ],
         "y": [
          -0.17425888776779175,
          -0.154917910695076
         ],
         "z": [
          -0.6899168491363525,
          -0.0865027904510498
         ]
        },
        {
         "line": {
          "color": "#FAFAD2",
          "width": 1
         },
         "mode": "lines",
         "type": "scatter3d",
         "x": [
          0.2959826588630676,
          1.2940494418144226
         ],
         "y": [
          -0.17425888776779175,
          -0.23532610014081
         ],
         "z": [
          -0.6899168491363525,
          -0.7014636024832726
         ]
        },
        {
         "line": {
          "color": "#FAFAD2",
          "width": 1
         },
         "mode": "lines",
         "type": "scatter3d",
         "x": [
          0.2959826588630676,
          1.2912058234214783
         ],
         "y": [
          -0.17425888776779175,
          -0.2176150344312191
         ],
         "z": [
          -0.6899168491363525,
          -0.6024468839168549
         ]
        },
        {
         "line": {
          "color": "#FAFAD2",
          "width": 1
         },
         "mode": "lines",
         "type": "scatter3d",
         "x": [
          0.2959826588630676,
          1.27726411819458
         ],
         "y": [
          -0.17425888776779175,
          -0.19843832589685917
         ],
         "z": [
          -0.6899168491363525,
          -0.49886198341846466
         ]
        },
        {
         "line": {
          "color": "#FAFAD2",
          "width": 1
         },
         "mode": "lines",
         "type": "scatter3d",
         "x": [
          0.2959826588630676,
          1.2512115240097046
         ],
         "y": [
          -0.17425888776779175,
          -0.17833281494677067
         ],
         "z": [
          -0.6899168491363525,
          -0.39407703280448914
         ]
        },
        {
         "line": {
          "color": "#FAFAD2",
          "width": 1
         },
         "mode": "lines",
         "type": "scatter3d",
         "x": [
          0.2959826588630676,
          1.2132304310798645
         ],
         "y": [
          -0.17425888776779175,
          -0.1579896528273821
         ],
         "z": [
          -0.6899168491363525,
          -0.2919321656227112
         ]
        },
        {
         "line": {
          "color": "#FAFAD2",
          "width": 1
         },
         "mode": "lines",
         "type": "scatter3d",
         "x": [
          0.2959826588630676,
          1.1647918224334717
         ],
         "y": [
          -0.17425888776779175,
          -0.13814447820186615
         ],
         "z": [
          -0.6899168491363525,
          -0.19608855247497559
         ]
        },
        {
         "line": {
          "color": "#FAFAD2",
          "width": 1
         },
         "mode": "lines",
         "type": "scatter3d",
         "x": [
          0.2959826588630676,
          1.1083843111991882
         ],
         "y": [
          -0.17425888776779175,
          -0.11945009604096413
         ],
         "z": [
          -0.6899168491363525,
          -0.10940015316009521
         ]
        },
        {
         "line": {
          "color": "#FAFAD2",
          "width": 1
         },
         "mode": "lines",
         "type": "scatter3d",
         "x": [
          0.2959826588630676,
          1.0469878911972046
         ],
         "y": [
          -0.17425888776779175,
          -0.1023799255490303
         ],
         "z": [
          -0.6899168491363525,
          -0.03354448080062866
         ]
        },
        {
         "line": {
          "color": "#FAFAD2",
          "width": 1
         },
         "mode": "lines",
         "type": "scatter3d",
         "x": [
          0.2959826588630676,
          1.293780505657196
         ],
         "y": [
          -0.17425888776779175,
          -0.18170538637787104
         ],
         "z": [
          -0.6899168491363525,
          -0.6240092068910599
         ]
        },
        {
         "line": {
          "color": "#FAFAD2",
          "width": 1
         },
         "mode": "lines",
         "type": "scatter3d",
         "x": [
          0.2959826588630676,
          1.2817595601081848
         ],
         "y": [
          -0.17425888776779175,
          -0.16202752757817507
         ],
         "z": [
          -0.6899168491363525,
          -0.5223038047552109
         ]
        },
        {
         "line": {
          "color": "#FAFAD2",
          "width": 1
         },
         "mode": "lines",
         "type": "scatter3d",
         "x": [
          0.2959826588630676,
          1.2579795122146606
         ],
         "y": [
          -0.17425888776779175,
          -0.14176906272768974
         ],
         "z": [
          -0.6899168491363525,
          -0.418796181678772
         ]
        },
        {
         "line": {
          "color": "#FAFAD2",
          "width": 1
         },
         "mode": "lines",
         "type": "scatter3d",
         "x": [
          0.2959826588630676,
          1.2224137783050537
         ],
         "y": [
          -0.17425888776779175,
          -0.1216294951736927
         ],
         "z": [
          -0.6899168491363525,
          -0.31714946031570435
         ]
        },
        {
         "line": {
          "color": "#FAFAD2",
          "width": 1
         },
         "mode": "lines",
         "type": "scatter3d",
         "x": [
          0.2959826588630676,
          1.176276683807373
         ],
         "y": [
          -0.17425888776779175,
          -0.10232312232255936
         ],
         "z": [
          -0.6899168491363525,
          -0.22097373008728027
         ]
        },
        {
         "line": {
          "color": "#FAFAD2",
          "width": 1
         },
         "mode": "lines",
         "type": "scatter3d",
         "x": [
          0.2959826588630676,
          1.1218247413635254
         ],
         "y": [
          -0.17425888776779175,
          -0.0844576358795166
         ],
         "z": [
          -0.6899168491363525,
          -0.1332116723060608
         ]
        },
        {
         "line": {
          "color": "#FAFAD2",
          "width": 1
         },
         "mode": "lines",
         "type": "scatter3d",
         "x": [
          0.2959826588630676,
          1.0618890523910522
         ],
         "y": [
          -0.17425888776779175,
          -0.06844688951969147
         ],
         "z": [
          -0.6899168491363525,
          -0.05573129653930664
         ]
        },
        {
         "line": {
          "color": "#FAFAD2",
          "width": 1
         },
         "mode": "lines",
         "type": "scatter3d",
         "x": [
          0.2959826588630676,
          1.294599175453186
         ],
         "y": [
          -0.17425888776779175,
          -0.14696485176682472
         ],
         "z": [
          -0.6899168491363525,
          -0.6449724286794662
         ]
        },
        {
         "line": {
          "color": "#FAFAD2",
          "width": 1
         },
         "mode": "lines",
         "type": "scatter3d",
         "x": [
          0.2959826588630676,
          1.2843340039253235
         ],
         "y": [
          -0.17425888776779175,
          -0.12675096467137337
         ],
         "z": [
          -0.6899168491363525,
          -0.5453329384326935
         ]
        },
        {
         "line": {
          "color": "#FAFAD2",
          "width": 1
         },
         "mode": "lines",
         "type": "scatter3d",
         "x": [
          0.2959826588630676,
          1.2627227306365967
         ],
         "y": [
          -0.17425888776779175,
          -0.10626483708620071
         ],
         "z": [
          -0.6899168491363525,
          -0.44335970282554626
         ]
        },
        {
         "line": {
          "color": "#FAFAD2",
          "width": 1
         },
         "mode": "lines",
         "type": "scatter3d",
         "x": [
          0.2959826588630676,
          1.229556918144226
         ],
         "y": [
          -0.17425888776779175,
          -0.08621908724308014
         ],
         "z": [
          -0.6899168491363525,
          -0.3425149917602539
         ]
        },
        {
         "line": {
          "color": "#FAFAD2",
          "width": 1
         },
         "mode": "lines",
         "type": "scatter3d",
         "x": [
          0.2959826588630676,
          1.1858052015304565
         ],
         "y": [
          -0.17425888776779175,
          -0.06731684505939484
         ],
         "z": [
          -0.6899168491363525,
          -0.2463187575340271
         ]
        },
        {
         "line": {
          "color": "#FAFAD2",
          "width": 1
         },
         "mode": "lines",
         "type": "scatter3d",
         "x": [
          0.2959826588630676,
          1.1334806680679321
         ],
         "y": [
          -0.17425888776779175,
          -0.05013376474380493
         ],
         "z": [
          -0.6899168491363525,
          -0.15776079893112183
         ]
        },
        {
         "line": {
          "color": "#FAFAD2",
          "width": 1
         },
         "mode": "lines",
         "type": "scatter3d",
         "x": [
          0.2959826588630676,
          1.0752376317977905
         ],
         "y": [
          -0.17425888776779175,
          -0.03503699600696564
         ],
         "z": [
          -0.6899168491363525,
          -0.07886940240859985
         ]
        },
        {
         "line": {
          "color": "#FAFAD2",
          "width": 1
         },
         "mode": "lines",
         "type": "scatter3d",
         "x": [
          0.2959826588630676,
          1.2938305139541626
         ],
         "y": [
          -0.17425888776779175,
          -0.11350016295909882
         ],
         "z": [
          -0.6899168491363525,
          -0.6652616076171398
         ]
        },
        {
         "line": {
          "color": "#FAFAD2",
          "width": 1
         },
         "mode": "lines",
         "type": "scatter3d",
         "x": [
          0.2959826588630676,
          1.2851490378379822
         ],
         "y": [
          -0.17425888776779175,
          -0.09273576736450195
         ],
         "z": [
          -0.6899168491363525,
          -0.5678359046578407
         ]
        },
        {
         "line": {
          "color": "#FAFAD2",
          "width": 1
         },
         "mode": "lines",
         "type": "scatter3d",
         "x": [
          0.2959826588630676,
          1.2655801177024841
         ],
         "y": [
          -0.17425888776779175,
          -0.07196663320064545
         ],
         "z": [
          -0.6899168491363525,
          -0.46761757135391235
         ]
        },
        {
         "line": {
          "color": "#FAFAD2",
          "width": 1
         },
         "mode": "lines",
         "type": "scatter3d",
         "x": [
          0.2959826588630676,
          1.23476243019104
         ],
         "y": [
          -0.17425888776779175,
          -0.05192054808139801
         ],
         "z": [
          -0.6899168491363525,
          -0.36785197257995605
         ]
        },
        {
         "line": {
          "color": "#FAFAD2",
          "width": 1
         },
         "mode": "lines",
         "type": "scatter3d",
         "x": [
          0.2959826588630676,
          1.193435549736023
         ],
         "y": [
          -0.17425888776779175,
          -0.03329722583293915
         ],
         "z": [
          -0.6899168491363525,
          -0.2719358801841736
         ]
        }
       ],
       "layout": {
        "height": 800,
        "paper_bgcolor": "rgba(0,0,0,0)",
        "scene": {
         "aspectmode": "data",
         "bgcolor": "rgba(0,0,0,0)",
         "xaxis": {
          "color": "white",
          "gridcolor": "white",
          "showbackground": false
         },
         "yaxis": {
          "color": "white",
          "gridcolor": "white",
          "showbackground": false
         },
         "zaxis": {
          "color": "white",
          "gridcolor": "white",
          "showbackground": false
         }
        },
        "showlegend": false,
        "template": {
         "data": {
          "bar": [
           {
            "error_x": {
             "color": "#2a3f5f"
            },
            "error_y": {
             "color": "#2a3f5f"
            },
            "marker": {
             "line": {
              "color": "#E5ECF6",
              "width": 0.5
             },
             "pattern": {
              "fillmode": "overlay",
              "size": 10,
              "solidity": 0.2
             }
            },
            "type": "bar"
           }
          ],
          "barpolar": [
           {
            "marker": {
             "line": {
              "color": "#E5ECF6",
              "width": 0.5
             },
             "pattern": {
              "fillmode": "overlay",
              "size": 10,
              "solidity": 0.2
             }
            },
            "type": "barpolar"
           }
          ],
          "carpet": [
           {
            "aaxis": {
             "endlinecolor": "#2a3f5f",
             "gridcolor": "white",
             "linecolor": "white",
             "minorgridcolor": "white",
             "startlinecolor": "#2a3f5f"
            },
            "baxis": {
             "endlinecolor": "#2a3f5f",
             "gridcolor": "white",
             "linecolor": "white",
             "minorgridcolor": "white",
             "startlinecolor": "#2a3f5f"
            },
            "type": "carpet"
           }
          ],
          "choropleth": [
           {
            "colorbar": {
             "outlinewidth": 0,
             "ticks": ""
            },
            "type": "choropleth"
           }
          ],
          "contour": [
           {
            "colorbar": {
             "outlinewidth": 0,
             "ticks": ""
            },
            "colorscale": [
             [
              0,
              "#0d0887"
             ],
             [
              0.1111111111111111,
              "#46039f"
             ],
             [
              0.2222222222222222,
              "#7201a8"
             ],
             [
              0.3333333333333333,
              "#9c179e"
             ],
             [
              0.4444444444444444,
              "#bd3786"
             ],
             [
              0.5555555555555556,
              "#d8576b"
             ],
             [
              0.6666666666666666,
              "#ed7953"
             ],
             [
              0.7777777777777778,
              "#fb9f3a"
             ],
             [
              0.8888888888888888,
              "#fdca26"
             ],
             [
              1,
              "#f0f921"
             ]
            ],
            "type": "contour"
           }
          ],
          "contourcarpet": [
           {
            "colorbar": {
             "outlinewidth": 0,
             "ticks": ""
            },
            "type": "contourcarpet"
           }
          ],
          "heatmap": [
           {
            "colorbar": {
             "outlinewidth": 0,
             "ticks": ""
            },
            "colorscale": [
             [
              0,
              "#0d0887"
             ],
             [
              0.1111111111111111,
              "#46039f"
             ],
             [
              0.2222222222222222,
              "#7201a8"
             ],
             [
              0.3333333333333333,
              "#9c179e"
             ],
             [
              0.4444444444444444,
              "#bd3786"
             ],
             [
              0.5555555555555556,
              "#d8576b"
             ],
             [
              0.6666666666666666,
              "#ed7953"
             ],
             [
              0.7777777777777778,
              "#fb9f3a"
             ],
             [
              0.8888888888888888,
              "#fdca26"
             ],
             [
              1,
              "#f0f921"
             ]
            ],
            "type": "heatmap"
           }
          ],
          "heatmapgl": [
           {
            "colorbar": {
             "outlinewidth": 0,
             "ticks": ""
            },
            "colorscale": [
             [
              0,
              "#0d0887"
             ],
             [
              0.1111111111111111,
              "#46039f"
             ],
             [
              0.2222222222222222,
              "#7201a8"
             ],
             [
              0.3333333333333333,
              "#9c179e"
             ],
             [
              0.4444444444444444,
              "#bd3786"
             ],
             [
              0.5555555555555556,
              "#d8576b"
             ],
             [
              0.6666666666666666,
              "#ed7953"
             ],
             [
              0.7777777777777778,
              "#fb9f3a"
             ],
             [
              0.8888888888888888,
              "#fdca26"
             ],
             [
              1,
              "#f0f921"
             ]
            ],
            "type": "heatmapgl"
           }
          ],
          "histogram": [
           {
            "marker": {
             "pattern": {
              "fillmode": "overlay",
              "size": 10,
              "solidity": 0.2
             }
            },
            "type": "histogram"
           }
          ],
          "histogram2d": [
           {
            "colorbar": {
             "outlinewidth": 0,
             "ticks": ""
            },
            "colorscale": [
             [
              0,
              "#0d0887"
             ],
             [
              0.1111111111111111,
              "#46039f"
             ],
             [
              0.2222222222222222,
              "#7201a8"
             ],
             [
              0.3333333333333333,
              "#9c179e"
             ],
             [
              0.4444444444444444,
              "#bd3786"
             ],
             [
              0.5555555555555556,
              "#d8576b"
             ],
             [
              0.6666666666666666,
              "#ed7953"
             ],
             [
              0.7777777777777778,
              "#fb9f3a"
             ],
             [
              0.8888888888888888,
              "#fdca26"
             ],
             [
              1,
              "#f0f921"
             ]
            ],
            "type": "histogram2d"
           }
          ],
          "histogram2dcontour": [
           {
            "colorbar": {
             "outlinewidth": 0,
             "ticks": ""
            },
            "colorscale": [
             [
              0,
              "#0d0887"
             ],
             [
              0.1111111111111111,
              "#46039f"
             ],
             [
              0.2222222222222222,
              "#7201a8"
             ],
             [
              0.3333333333333333,
              "#9c179e"
             ],
             [
              0.4444444444444444,
              "#bd3786"
             ],
             [
              0.5555555555555556,
              "#d8576b"
             ],
             [
              0.6666666666666666,
              "#ed7953"
             ],
             [
              0.7777777777777778,
              "#fb9f3a"
             ],
             [
              0.8888888888888888,
              "#fdca26"
             ],
             [
              1,
              "#f0f921"
             ]
            ],
            "type": "histogram2dcontour"
           }
          ],
          "mesh3d": [
           {
            "colorbar": {
             "outlinewidth": 0,
             "ticks": ""
            },
            "type": "mesh3d"
           }
          ],
          "parcoords": [
           {
            "line": {
             "colorbar": {
              "outlinewidth": 0,
              "ticks": ""
             }
            },
            "type": "parcoords"
           }
          ],
          "pie": [
           {
            "automargin": true,
            "type": "pie"
           }
          ],
          "scatter": [
           {
            "fillpattern": {
             "fillmode": "overlay",
             "size": 10,
             "solidity": 0.2
            },
            "type": "scatter"
           }
          ],
          "scatter3d": [
           {
            "line": {
             "colorbar": {
              "outlinewidth": 0,
              "ticks": ""
             }
            },
            "marker": {
             "colorbar": {
              "outlinewidth": 0,
              "ticks": ""
             }
            },
            "type": "scatter3d"
           }
          ],
          "scattercarpet": [
           {
            "marker": {
             "colorbar": {
              "outlinewidth": 0,
              "ticks": ""
             }
            },
            "type": "scattercarpet"
           }
          ],
          "scattergeo": [
           {
            "marker": {
             "colorbar": {
              "outlinewidth": 0,
              "ticks": ""
             }
            },
            "type": "scattergeo"
           }
          ],
          "scattergl": [
           {
            "marker": {
             "colorbar": {
              "outlinewidth": 0,
              "ticks": ""
             }
            },
            "type": "scattergl"
           }
          ],
          "scattermapbox": [
           {
            "marker": {
             "colorbar": {
              "outlinewidth": 0,
              "ticks": ""
             }
            },
            "type": "scattermapbox"
           }
          ],
          "scatterpolar": [
           {
            "marker": {
             "colorbar": {
              "outlinewidth": 0,
              "ticks": ""
             }
            },
            "type": "scatterpolar"
           }
          ],
          "scatterpolargl": [
           {
            "marker": {
             "colorbar": {
              "outlinewidth": 0,
              "ticks": ""
             }
            },
            "type": "scatterpolargl"
           }
          ],
          "scatterternary": [
           {
            "marker": {
             "colorbar": {
              "outlinewidth": 0,
              "ticks": ""
             }
            },
            "type": "scatterternary"
           }
          ],
          "surface": [
           {
            "colorbar": {
             "outlinewidth": 0,
             "ticks": ""
            },
            "colorscale": [
             [
              0,
              "#0d0887"
             ],
             [
              0.1111111111111111,
              "#46039f"
             ],
             [
              0.2222222222222222,
              "#7201a8"
             ],
             [
              0.3333333333333333,
              "#9c179e"
             ],
             [
              0.4444444444444444,
              "#bd3786"
             ],
             [
              0.5555555555555556,
              "#d8576b"
             ],
             [
              0.6666666666666666,
              "#ed7953"
             ],
             [
              0.7777777777777778,
              "#fb9f3a"
             ],
             [
              0.8888888888888888,
              "#fdca26"
             ],
             [
              1,
              "#f0f921"
             ]
            ],
            "type": "surface"
           }
          ],
          "table": [
           {
            "cells": {
             "fill": {
              "color": "#EBF0F8"
             },
             "line": {
              "color": "white"
             }
            },
            "header": {
             "fill": {
              "color": "#C8D4E3"
             },
             "line": {
              "color": "white"
             }
            },
            "type": "table"
           }
          ]
         },
         "layout": {
          "annotationdefaults": {
           "arrowcolor": "#2a3f5f",
           "arrowhead": 0,
           "arrowwidth": 1
          },
          "autotypenumbers": "strict",
          "coloraxis": {
           "colorbar": {
            "outlinewidth": 0,
            "ticks": ""
           }
          },
          "colorscale": {
           "diverging": [
            [
             0,
             "#8e0152"
            ],
            [
             0.1,
             "#c51b7d"
            ],
            [
             0.2,
             "#de77ae"
            ],
            [
             0.3,
             "#f1b6da"
            ],
            [
             0.4,
             "#fde0ef"
            ],
            [
             0.5,
             "#f7f7f7"
            ],
            [
             0.6,
             "#e6f5d0"
            ],
            [
             0.7,
             "#b8e186"
            ],
            [
             0.8,
             "#7fbc41"
            ],
            [
             0.9,
             "#4d9221"
            ],
            [
             1,
             "#276419"
            ]
           ],
           "sequential": [
            [
             0,
             "#0d0887"
            ],
            [
             0.1111111111111111,
             "#46039f"
            ],
            [
             0.2222222222222222,
             "#7201a8"
            ],
            [
             0.3333333333333333,
             "#9c179e"
            ],
            [
             0.4444444444444444,
             "#bd3786"
            ],
            [
             0.5555555555555556,
             "#d8576b"
            ],
            [
             0.6666666666666666,
             "#ed7953"
            ],
            [
             0.7777777777777778,
             "#fb9f3a"
            ],
            [
             0.8888888888888888,
             "#fdca26"
            ],
            [
             1,
             "#f0f921"
            ]
           ],
           "sequentialminus": [
            [
             0,
             "#0d0887"
            ],
            [
             0.1111111111111111,
             "#46039f"
            ],
            [
             0.2222222222222222,
             "#7201a8"
            ],
            [
             0.3333333333333333,
             "#9c179e"
            ],
            [
             0.4444444444444444,
             "#bd3786"
            ],
            [
             0.5555555555555556,
             "#d8576b"
            ],
            [
             0.6666666666666666,
             "#ed7953"
            ],
            [
             0.7777777777777778,
             "#fb9f3a"
            ],
            [
             0.8888888888888888,
             "#fdca26"
            ],
            [
             1,
             "#f0f921"
            ]
           ]
          },
          "colorway": [
           "#636efa",
           "#EF553B",
           "#00cc96",
           "#ab63fa",
           "#FFA15A",
           "#19d3f3",
           "#FF6692",
           "#B6E880",
           "#FF97FF",
           "#FECB52"
          ],
          "font": {
           "color": "#2a3f5f"
          },
          "geo": {
           "bgcolor": "white",
           "lakecolor": "white",
           "landcolor": "#E5ECF6",
           "showlakes": true,
           "showland": true,
           "subunitcolor": "white"
          },
          "hoverlabel": {
           "align": "left"
          },
          "hovermode": "closest",
          "mapbox": {
           "style": "light"
          },
          "paper_bgcolor": "white",
          "plot_bgcolor": "#E5ECF6",
          "polar": {
           "angularaxis": {
            "gridcolor": "white",
            "linecolor": "white",
            "ticks": ""
           },
           "bgcolor": "#E5ECF6",
           "radialaxis": {
            "gridcolor": "white",
            "linecolor": "white",
            "ticks": ""
           }
          },
          "scene": {
           "xaxis": {
            "backgroundcolor": "#E5ECF6",
            "gridcolor": "white",
            "gridwidth": 2,
            "linecolor": "white",
            "showbackground": true,
            "ticks": "",
            "zerolinecolor": "white"
           },
           "yaxis": {
            "backgroundcolor": "#E5ECF6",
            "gridcolor": "white",
            "gridwidth": 2,
            "linecolor": "white",
            "showbackground": true,
            "ticks": "",
            "zerolinecolor": "white"
           },
           "zaxis": {
            "backgroundcolor": "#E5ECF6",
            "gridcolor": "white",
            "gridwidth": 2,
            "linecolor": "white",
            "showbackground": true,
            "ticks": "",
            "zerolinecolor": "white"
           }
          },
          "shapedefaults": {
           "line": {
            "color": "#2a3f5f"
           }
          },
          "ternary": {
           "aaxis": {
            "gridcolor": "white",
            "linecolor": "white",
            "ticks": ""
           },
           "baxis": {
            "gridcolor": "white",
            "linecolor": "white",
            "ticks": ""
           },
           "bgcolor": "#E5ECF6",
           "caxis": {
            "gridcolor": "white",
            "linecolor": "white",
            "ticks": ""
           }
          },
          "title": {
           "x": 0.05
          },
          "xaxis": {
           "automargin": true,
           "gridcolor": "white",
           "linecolor": "white",
           "ticks": "",
           "title": {
            "standoff": 15
           },
           "zerolinecolor": "white",
           "zerolinewidth": 2
          },
          "yaxis": {
           "automargin": true,
           "gridcolor": "white",
           "linecolor": "white",
           "ticks": "",
           "title": {
            "standoff": 15
           },
           "zerolinecolor": "white",
           "zerolinewidth": 2
          }
         }
        },
        "width": 800
       }
      },
      "text/html": [
       "<div>                            <div id=\"6aba6db3-d554-4066-a958-a6453fdc3b01\" class=\"plotly-graph-div\" style=\"height:800px; width:800px;\"></div>            <script type=\"text/javascript\">                require([\"plotly\"], function(Plotly) {                    window.PLOTLYENV=window.PLOTLYENV || {};                                    if (document.getElementById(\"6aba6db3-d554-4066-a958-a6453fdc3b01\")) {                    Plotly.newPlot(                        \"6aba6db3-d554-4066-a958-a6453fdc3b01\",                        [{\"line\":{\"color\":\"#7CFC00\",\"width\":1},\"mode\":\"lines\",\"x\":[0.0,-0.35689106583595276],\"y\":[0.0,-0.35689106583595276],\"z\":[0.0,0.8632829785346985],\"type\":\"scatter3d\"},{\"line\":{\"color\":\"#7CFC00\",\"width\":1},\"mode\":\"lines\",\"x\":[0.0,0.26632872223854065],\"y\":[0.0,-0.36459973454475403],\"z\":[0.0,0.8922645449638367],\"type\":\"scatter3d\"},{\"line\":{\"color\":\"#7CFC00\",\"width\":1},\"mode\":\"lines\",\"x\":[0.0,0.16788332164287567],\"y\":[0.0,-0.36788347363471985],\"z\":[0.0,0.9145911335945129],\"type\":\"scatter3d\"},{\"line\":{\"color\":\"#7CFC00\",\"width\":1},\"mode\":\"lines\",\"x\":[0.0,0.06368809938430786],\"y\":[0.0,-0.3673173785209656],\"z\":[0.0,0.9279125928878784],\"type\":\"scatter3d\"},{\"line\":{\"color\":\"#7CFC00\",\"width\":1},\"mode\":\"lines\",\"x\":[0.0,-0.04309333488345146],\"y\":[0.0,-0.3625783920288086],\"z\":[0.0,0.9309564232826233],\"type\":\"scatter3d\"},{\"line\":{\"color\":\"#7CFC00\",\"width\":1},\"mode\":\"lines\",\"x\":[0.0,-0.14886842668056488],\"y\":[0.0,-0.35374677181243896],\"z\":[0.0,0.9234183430671692],\"type\":\"scatter3d\"},{\"line\":{\"color\":\"#7CFC00\",\"width\":1},\"mode\":\"lines\",\"x\":[0.0,-0.25019434094429016],\"y\":[0.0,-0.34130558371543884],\"z\":[0.0,0.9060426354408264],\"type\":\"scatter3d\"},{\"line\":{\"color\":\"#7CFC00\",\"width\":1},\"mode\":\"lines\",\"x\":[0.0,-0.3443048298358917],\"y\":[0.0,-0.32603558897972107],\"z\":[0.0,0.8804288506507874],\"type\":\"scatter3d\"},{\"line\":{\"color\":\"#7CFC00\",\"width\":1},\"mode\":\"lines\",\"x\":[0.0,0.28851884603500366],\"y\":[0.0,-0.32871052622795105],\"z\":[0.0,0.8992809653282166],\"type\":\"scatter3d\"},{\"line\":{\"color\":\"#7CFC00\",\"width\":1},\"mode\":\"lines\",\"x\":[0.0,0.1902494877576828],\"y\":[0.0,-0.3318305015563965],\"z\":[0.0,0.9239554405212402],\"type\":\"scatter3d\"},{\"line\":{\"color\":\"#7CFC00\",\"width\":1},\"mode\":\"lines\",\"x\":[0.0,0.08548644930124283],\"y\":[0.0,-0.33144745230674744],\"z\":[0.0,0.9395927786827087],\"type\":\"scatter3d\"},{\"line\":{\"color\":\"#7CFC00\",\"width\":1},\"mode\":\"lines\",\"x\":[0.0,-0.0226182509213686],\"y\":[0.0,-0.3272106945514679],\"z\":[0.0,0.9446806907653809],\"type\":\"scatter3d\"},{\"line\":{\"color\":\"#7CFC00\",\"width\":1},\"mode\":\"lines\",\"x\":[0.0,-0.13035506010055542],\"y\":[0.0,-0.319145143032074],\"z\":[0.0,0.9386979937553406],\"type\":\"scatter3d\"},{\"line\":{\"color\":\"#7CFC00\",\"width\":1},\"mode\":\"lines\",\"x\":[0.0,-0.23406223952770233],\"y\":[0.0,-0.30766671895980835],\"z\":[0.0,0.9222559928894043],\"type\":\"scatter3d\"},{\"line\":{\"color\":\"#7CFC00\",\"width\":1},\"mode\":\"lines\",\"x\":[0.0,-0.33071574568748474],\"y\":[0.0,-0.29349231719970703],\"z\":[0.0,0.8969333171844482],\"type\":\"scatter3d\"},{\"line\":{\"color\":\"#7CFC00\",\"width\":1},\"mode\":\"lines\",\"x\":[0.0,0.31047964096069336],\"y\":[0.0,-0.2917064428329468],\"z\":[0.0,0.9047152996063232],\"type\":\"scatter3d\"},{\"line\":{\"color\":\"#7CFC00\",\"width\":1},\"mode\":\"lines\",\"x\":[0.0,0.21266478300094604],\"y\":[0.0,-0.29445892572402954],\"z\":[0.0,0.9317014813423157],\"type\":\"scatter3d\"},{\"line\":{\"color\":\"#7CFC00\",\"width\":1},\"mode\":\"lines\",\"x\":[0.0,0.10762860625982285],\"y\":[0.0,-0.2940838038921356],\"z\":[0.0,0.9497003555297852],\"type\":\"scatter3d\"},{\"line\":{\"color\":\"#7CFC00\",\"width\":1},\"mode\":\"lines\",\"x\":[0.0,-0.0015274807810783386],\"y\":[0.0,-0.29022136330604553],\"z\":[0.0,0.9569582939147949],\"type\":\"scatter3d\"},{\"line\":{\"color\":\"#7CFC00\",\"width\":1},\"mode\":\"lines\",\"x\":[0.0,-0.11101196706295013],\"y\":[0.0,-0.2828524112701416],\"z\":[0.0,0.9527176022529602],\"type\":\"scatter3d\"},{\"line\":{\"color\":\"#7CFC00\",\"width\":1},\"mode\":\"lines\",\"x\":[0.0,-0.21696370840072632],\"y\":[0.0,-0.27232685685157776],\"z\":[0.0,0.9374246001243591],\"type\":\"scatter3d\"},{\"line\":{\"color\":\"#7CFC00\",\"width\":1},\"mode\":\"lines\",\"x\":[0.0,-0.3161008059978485],\"y\":[0.0,-0.25929006934165955],\"z\":[0.0,0.9126055836677551],\"type\":\"scatter3d\"},{\"line\":{\"color\":\"#7CFC00\",\"width\":1},\"mode\":\"lines\",\"x\":[0.0,0.3320719599723816],\"y\":[0.0,-0.2537667751312256],\"z\":[0.0,0.9084770679473877],\"type\":\"scatter3d\"},{\"line\":{\"color\":\"#7CFC00\",\"width\":1},\"mode\":\"lines\",\"x\":[0.0,0.23498746752738953],\"y\":[0.0,-0.2559417486190796],\"z\":[0.0,0.9376965165138245],\"type\":\"scatter3d\"},{\"line\":{\"color\":\"#7CFC00\",\"width\":1},\"mode\":\"lines\",\"x\":[0.0,0.12998563051223755],\"y\":[0.0,-0.25538352131843567],\"z\":[0.0,0.9580621123313904],\"type\":\"scatter3d\"},{\"line\":{\"color\":\"#7CFC00\",\"width\":1},\"mode\":\"lines\",\"x\":[0.0,0.020077768713235855],\"y\":[0.0,-0.2517443299293518],\"z\":[0.0,0.9675855040550232],\"type\":\"scatter3d\"},{\"line\":{\"color\":\"#7CFC00\",\"width\":1},\"mode\":\"lines\",\"x\":[0.0,-0.09090301394462585],\"y\":[0.0,-0.24497590959072113],\"z\":[0.0,0.9652582406997681],\"type\":\"scatter3d\"},{\"line\":{\"color\":\"#7CFC00\",\"width\":1},\"mode\":\"lines\",\"x\":[0.0,-0.19892342388629913],\"y\":[0.0,-0.23536741733551025],\"z\":[0.0,0.9513314962387085],\"type\":\"scatter3d\"},{\"line\":{\"color\":\"#7CFC00\",\"width\":1},\"mode\":\"lines\",\"x\":[0.0,-0.3004506230354309],\"y\":[0.0,-0.22348789870738983],\"z\":[0.0,0.9272446036338806],\"type\":\"scatter3d\"},{\"line\":{\"color\":\"#7CFC00\",\"width\":1},\"mode\":\"lines\",\"x\":[0.0,0.35315874218940735],\"y\":[0.0,-0.21509256958961487],\"z\":[0.0,0.9105020761489868],\"type\":\"scatter3d\"},{\"line\":{\"color\":\"#7CFC00\",\"width\":1},\"mode\":\"lines\",\"x\":[0.0,0.25707098841667175],\"y\":[0.0,-0.2164808213710785],\"z\":[0.0,0.9418336153030396],\"type\":\"scatter3d\"},{\"line\":{\"color\":\"#7CFC00\",\"width\":1},\"mode\":\"lines\",\"x\":[0.0,0.15241661667823792],\"y\":[0.0,-0.2155386507511139],\"z\":[0.0,0.9645269513130188],\"type\":\"scatter3d\"},{\"line\":{\"color\":\"#7CFC00\",\"width\":1},\"mode\":\"lines\",\"x\":[0.0,0.04207872599363327],\"y\":[0.0,-0.2119521051645279],\"z\":[0.0,0.9763737320899963],\"type\":\"scatter3d\"},{\"line\":{\"color\":\"#7CFC00\",\"width\":1},\"mode\":\"lines\",\"x\":[0.0,-0.07011214643716812],\"y\":[0.0,-0.20566228032112122],\"z\":[0.0,0.9761082530021667],\"type\":\"scatter3d\"},{\"line\":{\"color\":\"#7CFC00\",\"width\":1},\"mode\":\"lines\",\"x\":[0.0,-0.17998544871807098],\"y\":[0.0,-0.1969071477651596],\"z\":[0.0,0.96375972032547],\"type\":\"scatter3d\"},{\"line\":{\"color\":\"#7CFC00\",\"width\":1},\"mode\":\"lines\",\"x\":[0.0,-0.28377217054367065],\"y\":[0.0,-0.1861785650253296],\"z\":[0.0,0.9406439065933228],\"type\":\"scatter3d\"},{\"line\":{\"color\":\"#7CFC00\",\"width\":1},\"mode\":\"lines\",\"x\":[0.0,0.37360912561416626],\"y\":[0.0,-0.17590157687664032],\"z\":[0.0,0.9107550978660583],\"type\":\"scatter3d\"},{\"line\":{\"color\":\"#7CFC00\",\"width\":1},\"mode\":\"lines\",\"x\":[0.0,0.2787683606147766],\"y\":[0.0,-0.17630214989185333],\"z\":[0.0,0.9440369606018066],\"type\":\"scatter3d\"},{\"line\":{\"color\":\"#7CFC00\",\"width\":1},\"mode\":\"lines\",\"x\":[0.0,0.1747724562883377],\"y\":[0.0,-0.1747724562883377],\"z\":[0.0,0.9689732789993286],\"type\":\"scatter3d\"},{\"line\":{\"color\":\"#7CFC00\",\"width\":1},\"mode\":\"lines\",\"x\":[0.0,0.06434135138988495],\"y\":[0.0,-0.17105382680892944],\"z\":[0.0,0.9831585884094238],\"type\":\"scatter3d\"},{\"line\":{\"color\":\"#7CFC00\",\"width\":1},\"mode\":\"lines\",\"x\":[0.0,-0.04874302074313164],\"y\":[0.0,-0.16509732604026794],\"z\":[0.0,0.9850720763206482],\"type\":\"scatter3d\"},{\"line\":{\"color\":\"#7CFC00\",\"width\":1},\"mode\":\"lines\",\"x\":[0.0,-0.16021446883678436],\"y\":[0.0,-0.1571034938097],\"z\":[0.0,0.9744997620582581],\"type\":\"scatter3d\"},{\"line\":{\"color\":\"#7CFC00\",\"width\":1},\"mode\":\"lines\",\"x\":[0.0,-0.2660910487174988],\"y\":[0.0,-0.1474904716014862],\"z\":[0.0,0.9525975584983826],\"type\":\"scatter3d\"},{\"line\":{\"color\":\"#7CFC00\",\"width\":1},\"mode\":\"lines\",\"x\":[0.0,-0.36333221197128296],\"y\":[0.0,-0.13680119812488556],\"z\":[0.0,0.9215612411499023],\"type\":\"scatter3d\"},{\"line\":{\"color\":\"#7CFC00\",\"width\":1},\"mode\":\"lines\",\"x\":[0.0,0.29993686079978943],\"y\":[0.0,-0.13564984500408173],\"z\":[0.0,0.9442653059959412],\"type\":\"scatter3d\"},{\"line\":{\"color\":\"#7CFC00\",\"width\":1},\"mode\":\"lines\",\"x\":[0.0,0.19690032303333282],\"y\":[0.0,-0.13333408534526825],\"z\":[0.0,0.9713147282600403],\"type\":\"scatter3d\"},{\"line\":{\"color\":\"#7CFC00\",\"width\":1},\"mode\":\"lines\",\"x\":[0.0,0.08671969175338745],\"y\":[0.0,-0.12929117679595947],\"z\":[0.0,0.9878073930740356],\"type\":\"scatter3d\"},{\"line\":{\"color\":\"#7CFC00\",\"width\":1},\"mode\":\"lines\",\"x\":[0.0,-0.026917463168501854],\"y\":[0.0,-0.1235036551952362],\"z\":[0.0,0.9919790029525757],\"type\":\"scatter3d\"},{\"line\":{\"color\":\"#7CFC00\",\"width\":1},\"mode\":\"lines\",\"x\":[0.0,-0.13969619572162628],\"y\":[0.0,-0.11615189164876938],\"z\":[0.0,0.9833583831787109],\"type\":\"scatter3d\"},{\"line\":{\"color\":\"#7CFC00\",\"width\":1},\"mode\":\"lines\",\"x\":[0.0,-0.24745336174964905],\"y\":[0.0,-0.10758841782808304],\"z\":[0.0,0.9629078507423401],\"type\":\"scatter3d\"},{\"line\":{\"color\":\"#7CFC00\",\"width\":1},\"mode\":\"lines\",\"x\":[0.0,-0.3468966484069824],\"y\":[0.0,-0.09826256334781647],\"z\":[0.0,0.9327417612075806],\"type\":\"scatter3d\"},{\"line\":{\"color\":\"#7CFC00\",\"width\":1},\"mode\":\"lines\",\"x\":[0.0,0.32044267654418945],\"y\":[0.0,-0.09477882087230682],\"z\":[0.0,0.9425144195556641],\"type\":\"scatter3d\"},{\"line\":{\"color\":\"#7CFC00\",\"width\":1},\"mode\":\"lines\",\"x\":[0.0,0.21864871680736542],\"y\":[0.0,-0.09149130433797836],\"z\":[0.0,0.9715050458908081],\"type\":\"scatter3d\"},{\"line\":{\"color\":\"#7CFC00\",\"width\":1},\"mode\":\"lines\",\"x\":[0.0,0.10906023532152176],\"y\":[0.0,-0.08693207055330276],\"z\":[0.0,0.9902265667915344],\"type\":\"scatter3d\"},{\"line\":{\"color\":\"#7CFC00\",\"width\":1},\"mode\":\"lines\",\"x\":[0.0,-0.004772707354277372],\"y\":[0.0,-0.08113602548837662],\"z\":[0.0,0.9966915845870972],\"type\":\"scatter3d\"},{\"line\":{\"color\":\"#7CFC00\",\"width\":1},\"mode\":\"lines\",\"x\":[0.0,-0.11853662133216858],\"y\":[0.0,-0.07428295165300369],\"z\":[0.0,0.9901672005653381],\"type\":\"scatter3d\"},{\"line\":{\"color\":\"#7CFC00\",\"width\":1},\"mode\":\"lines\",\"x\":[0.0,-0.2279266119003296],\"y\":[0.0,-0.06667240709066391],\"z\":[0.0,0.9713929295539856],\"type\":\"scatter3d\"},{\"line\":{\"color\":\"#7CFC00\",\"width\":1},\"mode\":\"lines\",\"x\":[0.0,-0.32941555976867676],\"y\":[0.0,-0.05866304412484169],\"z\":[0.0,0.9423608779907227],\"type\":\"scatter3d\"},{\"line\":{\"color\":\"#7CFC00\",\"width\":1},\"mode\":\"lines\",\"x\":[0.0,0.3401649594306946],\"y\":[0.0,-0.05394686758518219],\"z\":[0.0,0.9388170838356018],\"type\":\"scatter3d\"},{\"line\":{\"color\":\"#7CFC00\",\"width\":1},\"mode\":\"lines\",\"x\":[0.0,0.23987247049808502],\"y\":[0.0,-0.04952205717563629],\"z\":[0.0,0.9695404767990112],\"type\":\"scatter3d\"},{\"line\":{\"color\":\"#7CFC00\",\"width\":1},\"mode\":\"lines\",\"x\":[0.0,0.1312069147825241],\"y\":[0.0,-0.04426257312297821],\"z\":[0.0,0.9903663992881775],\"type\":\"scatter3d\"},{\"line\":{\"color\":\"#7CFC00\",\"width\":1},\"mode\":\"lines\",\"x\":[0.0,0.01754244603216648],\"y\":[0.0,-0.038274429738521576],\"z\":[0.0,0.9991132616996765],\"type\":\"scatter3d\"},{\"line\":{\"color\":\"#7CFC00\",\"width\":1},\"mode\":\"lines\",\"x\":[0.0,-0.09686001390218735],\"y\":[0.0,-0.031757380813360214],\"z\":[0.0,0.9947912096977234],\"type\":\"scatter3d\"},{\"line\":{\"color\":\"#7CFC00\",\"width\":1},\"mode\":\"lines\",\"x\":[0.0,-0.20759965479373932],\"y\":[0.0,-0.024974394589662552],\"z\":[0.0,0.9778950214385986],\"type\":\"scatter3d\"},{\"line\":{\"color\":\"#7CFC00\",\"width\":1},\"mode\":\"lines\",\"x\":[0.0,-0.3109401762485504],\"y\":[0.0,-0.018201377242803574],\"z\":[0.0,0.9502551555633545],\"type\":\"scatter3d\"},{\"line\":{\"color\":\"#7CFC00\",\"width\":1},\"mode\":\"lines\",\"x\":[0.0,0.35899949073791504],\"y\":[0.0,-0.013406619429588318],\"z\":[0.0,0.9332414865493774],\"type\":\"scatter3d\"},{\"line\":{\"color\":\"#7CFC00\",\"width\":1},\"mode\":\"lines\",\"x\":[0.0,0.26043760776519775],\"y\":[0.0,-0.0077052549459040165],\"z\":[0.0,0.965459942817688],\"type\":\"scatter3d\"},{\"line\":{\"color\":\"#7CFC00\",\"width\":1},\"mode\":\"lines\",\"x\":[0.0,0.15300649404525757],\"y\":[0.0,-0.0015773865161463618],\"z\":[0.0,0.9882239103317261],\"type\":\"scatter3d\"},{\"line\":{\"color\":\"#7CFC00\",\"width\":1},\"mode\":\"lines\",\"x\":[0.0,0.039872389286756516],\"y\":[0.0,0.004784686956554651],\"z\":[0.0,0.9991933107376099],\"type\":\"scatter3d\"},{\"line\":{\"color\":\"#7CFC00\",\"width\":1},\"mode\":\"lines\",\"x\":[0.0,-0.07480574399232864],\"y\":[0.0,0.011141280643641949],\"z\":[0.0,0.9971358776092529],\"type\":\"scatter3d\"},{\"line\":{\"color\":\"#7CFC00\",\"width\":1},\"mode\":\"lines\",\"x\":[0.0,-0.18658150732517242],\"y\":[0.0,0.017247028648853302],\"z\":[0.0,0.9822880625724792],\"type\":\"scatter3d\"},{\"line\":{\"color\":\"#7CFC00\",\"width\":1},\"mode\":\"lines\",\"x\":[0.0,-0.2915431559085846],\"y\":[0.0,0.02289605885744095],\"z\":[0.0,0.9562836289405823],\"type\":\"scatter3d\"},{\"line\":{\"color\":\"#7CFC00\",\"width\":1},\"mode\":\"lines\",\"x\":[0.0,0.376861035823822],\"y\":[0.0,0.02660195715725422],\"z\":[0.0,0.9258877038955688],\"type\":\"scatter3d\"},{\"line\":{\"color\":\"#7CFC00\",\"width\":1},\"mode\":\"lines\",\"x\":[0.0,0.2802255153656006],\"y\":[0.0,0.03368831425905228],\"z\":[0.0,0.959342896938324],\"type\":\"scatter3d\"},{\"line\":{\"color\":\"#7CFC00\",\"width\":1},\"mode\":\"lines\",\"x\":[0.0,0.1743137538433075],\"y\":[0.0,0.04083024710416794],\"z\":[0.0,0.9838432669639587],\"type\":\"scatter3d\"},{\"line\":{\"color\":\"#7CFC00\",\"width\":1},\"mode\":\"lines\",\"x\":[0.0,0.06206003949046135],\"y\":[0.0,0.047738492488861084],\"z\":[0.0,0.9969300627708435],\"type\":\"scatter3d\"},{\"line\":{\"color\":\"#7CFC00\",\"width\":1},\"mode\":\"lines\",\"x\":[0.0,-0.05252404883503914],\"y\":[0.0,0.05411568656563759],\"z\":[0.0,0.9971523284912109],\"type\":\"scatter3d\"},{\"line\":{\"color\":\"#7CFC00\",\"width\":1},\"mode\":\"lines\",\"x\":[0.0,-0.1649988442659378],\"y\":[0.0,0.05971386656165123],\"z\":[0.0,0.9844844341278076],\"type\":\"scatter3d\"},{\"line\":{\"color\":\"#7CFC00\",\"width\":1},\"mode\":\"lines\",\"x\":[0.0,-0.27131786942481995],\"y\":[0.0,0.06438051164150238],\"z\":[0.0,0.9603341817855835],\"type\":\"scatter3d\"},{\"line\":{\"color\":\"#7CFC00\",\"width\":1},\"mode\":\"lines\",\"x\":[0.0,-0.3684898316860199],\"y\":[0.0,0.06807442754507065],\"z\":[0.0,0.9271359443664551],\"type\":\"scatter3d\"},{\"line\":{\"color\":\"#7CFC00\",\"width\":1},\"mode\":\"lines\",\"x\":[0.0,0.29913610219955444],\"y\":[0.0,0.07440441101789474],\"z\":[0.0,0.9513052105903625],\"type\":\"scatter3d\"},{\"line\":{\"color\":\"#7CFC00\",\"width\":1},\"mode\":\"lines\",\"x\":[0.0,0.19499632716178894],\"y\":[0.0,0.08267844468355179],\"z\":[0.0,0.9773129820823669],\"type\":\"scatter3d\"},{\"line\":{\"color\":\"#7CFC00\",\"width\":1},\"mode\":\"lines\",\"x\":[0.0,0.08395230770111084],\"y\":[0.0,0.09028833359479904],\"z\":[0.0,0.9923709034919739],\"type\":\"scatter3d\"},{\"line\":{\"color\":\"#7CFC00\",\"width\":1},\"mode\":\"lines\",\"x\":[0.0,-0.030170995742082596],\"y\":[0.0,0.09686477482318878],\"z\":[0.0,0.994840145111084],\"type\":\"scatter3d\"},{\"line\":{\"color\":\"#7CFC00\",\"width\":1},\"mode\":\"lines\",\"x\":[0.0,-0.14299246668815613],\"y\":[0.0,0.1021374762058258],\"z\":[0.0,0.984439492225647],\"type\":\"scatter3d\"},{\"line\":{\"color\":\"#7CFC00\",\"width\":1},\"mode\":\"lines\",\"x\":[0.0,-0.25037682056427],\"y\":[0.0,0.10598774254322052],\"z\":[0.0,0.9623295068740845],\"type\":\"scatter3d\"},{\"line\":{\"color\":\"#7CFC00\",\"width\":1},\"mode\":\"lines\",\"x\":[0.0,-0.3491363823413849],\"y\":[0.0,0.108455128967762],\"z\":[0.0,0.9307745695114136],\"type\":\"scatter3d\"},{\"line\":{\"color\":\"#7CFC00\",\"width\":1},\"mode\":\"lines\",\"x\":[0.0,0.31708988547325134],\"y\":[0.0,0.11421247571706772],\"z\":[0.0,0.9414932131767273],\"type\":\"scatter3d\"},{\"line\":{\"color\":\"#7CFC00\",\"width\":1},\"mode\":\"lines\",\"x\":[0.0,0.21493853628635406],\"y\":[0.0,0.12370563298463821],\"z\":[0.0,0.9687612652778625],\"type\":\"scatter3d\"},{\"line\":{\"color\":\"#7CFC00\",\"width\":1},\"mode\":\"lines\",\"x\":[0.0,0.105405293405056],\"y\":[0.0,0.13214991986751556],\"z\":[0.0,0.9856095314025879],\"type\":\"scatter3d\"},{\"line\":{\"color\":\"#7CFC00\",\"width\":1},\"mode\":\"lines\",\"x\":[0.0,-0.007903083227574825],\"y\":[0.0,0.1390942633152008],\"z\":[0.0,0.9902476072311401],\"type\":\"scatter3d\"},{\"line\":{\"color\":\"#7CFC00\",\"width\":1},\"mode\":\"lines\",\"x\":[0.0,-0.12071273475885391],\"y\":[0.0,0.14422820508480072],\"z\":[0.0,0.9821540713310242],\"type\":\"scatter3d\"},{\"line\":{\"color\":\"#7CFC00\",\"width\":1},\"mode\":\"lines\",\"x\":[0.0,-0.22884859144687653],\"y\":[0.0,0.14744606614112854],\"z\":[0.0,0.9622307419776917],\"type\":\"scatter3d\"},{\"line\":{\"color\":\"#7CFC00\",\"width\":1},\"mode\":\"lines\",\"x\":[0.0,-0.32895925641059875],\"y\":[0.0,0.14885035157203674],\"z\":[0.0,0.9325392246246338],\"type\":\"scatter3d\"},{\"line\":{\"color\":\"#7CFC00\",\"width\":1},\"mode\":\"lines\",\"x\":[0.0,0.3340289294719696],\"y\":[0.0,0.1529110223054886],\"z\":[0.0,0.9300768375396729],\"type\":\"scatter3d\"},{\"line\":{\"color\":\"#7CFC00\",\"width\":1},\"mode\":\"lines\",\"x\":[0.0,0.23404419422149658],\"y\":[0.0,0.16367796063423157],\"z\":[0.0,0.9583489894866943],\"type\":\"scatter3d\"},{\"line\":{\"color\":\"#7CFC00\",\"width\":1},\"mode\":\"lines\",\"x\":[0.0,0.12628880143165588],\"y\":[0.0,0.17306242883205414],\"z\":[0.0,0.9767807126045227],\"type\":\"scatter3d\"},{\"line\":{\"color\":\"#7CFC00\",\"width\":1},\"mode\":\"lines\",\"x\":[0.0,0.014128165319561958],\"y\":[0.0,0.18052655458450317],\"z\":[0.0,0.9834686517715454],\"type\":\"scatter3d\"},{\"line\":{\"color\":\"#7CFC00\",\"width\":1},\"mode\":\"lines\",\"x\":[0.0,-0.09831452369689941],\"y\":[0.0,0.18570521473884583],\"z\":[0.0,0.9776747226715088],\"type\":\"scatter3d\"},{\"line\":{\"color\":\"#7CFC00\",\"width\":1},\"mode\":\"lines\",\"x\":[0.0,-0.20687393844127655],\"y\":[0.0,0.18848514556884766],\"z\":[0.0,0.9600398540496826],\"type\":\"scatter3d\"},{\"line\":{\"color\":\"#7CFC00\",\"width\":1},\"mode\":\"lines\",\"x\":[0.0,-0.3080734610557556],\"y\":[0.0,0.18901126086711884],\"z\":[0.0,0.932397723197937],\"type\":\"scatter3d\"},{\"line\":{\"color\":\"#7CFC00\",\"width\":1},\"mode\":\"lines\",\"x\":[0.0,0.34991654753685],\"y\":[0.0,0.19033117592334747],\"z\":[0.0,0.9172417521476746],\"type\":\"scatter3d\"},{\"line\":{\"color\":\"#7CFC00\",\"width\":1},\"mode\":\"lines\",\"x\":[0.0,0.25223812460899353],\"y\":[0.0,0.20239467918872833],\"z\":[0.0,0.9462623000144958],\"type\":\"scatter3d\"},{\"line\":{\"color\":\"#7CFC00\",\"width\":1},\"mode\":\"lines\",\"x\":[0.0,0.14648979902267456],\"y\":[0.0,0.2127957046031952],\"z\":[0.0,0.9660531878471375],\"type\":\"scatter3d\"},{\"line\":{\"color\":\"#7CFC00\",\"width\":1},\"mode\":\"lines\",\"x\":[0.0,0.03578110784292221],\"y\":[0.0,0.2209094613790512],\"z\":[0.0,0.9746377468109131],\"type\":\"scatter3d\"},{\"line\":{\"color\":\"#7CFC00\",\"width\":1},\"mode\":\"lines\",\"x\":[0.0,-0.07595189660787582],\"y\":[0.0,0.22630563378334045],\"z\":[0.0,0.9710906744003296],\"type\":\"scatter3d\"},{\"line\":{\"color\":\"#7CFC00\",\"width\":1},\"mode\":\"lines\",\"x\":[0.0,-0.18460135161876678],\"y\":[0.0,0.22884464263916016],\"z\":[0.0,0.955799400806427],\"type\":\"scatter3d\"},{\"line\":{\"color\":\"#7CFC00\",\"width\":1},\"mode\":\"lines\",\"x\":[0.0,-0.286607563495636],\"y\":[0.0,0.22869205474853516],\"z\":[0.0,0.9303526282310486],\"type\":\"scatter3d\"},{\"line\":{\"color\":\"#7CFC00\",\"width\":1},\"mode\":\"lines\",\"x\":[0.0,0.3647361099720001],\"y\":[0.0,0.2263382226228714],\"z\":[0.0,0.9031824469566345],\"type\":\"scatter3d\"},{\"line\":{\"color\":\"#7CFC00\",\"width\":1},\"mode\":\"lines\",\"x\":[0.0,0.2694666087627411],\"y\":[0.0,0.23969128727912903],\"z\":[0.0,0.9327034950256348],\"type\":\"scatter3d\"},{\"line\":{\"color\":\"#7CFC00\",\"width\":1},\"mode\":\"lines\",\"x\":[0.0,0.16591478884220123],\"y\":[0.0,0.25115540623664856],\"z\":[0.0,0.9536210894584656],\"type\":\"scatter3d\"},{\"line\":{\"color\":\"#7CFC00\",\"width\":1},\"mode\":\"lines\",\"x\":[0.0,0.056928105652332306],\"y\":[0.0,0.26002296805381775],\"z\":[0.0,0.9639228582382202],\"type\":\"scatter3d\"},{\"line\":{\"color\":\"#7CFC00\",\"width\":1},\"mode\":\"lines\",\"x\":[0.0,-0.05377306416630745],\"y\":[0.0,0.265792578458786],\"z\":[0.0,0.9625293612480164],\"type\":\"scatter3d\"},{\"line\":{\"color\":\"#7CFC00\",\"width\":1},\"mode\":\"lines\",\"x\":[0.0,-0.1621820330619812],\"y\":[0.0,0.2682824432849884],\"z\":[0.0,0.9495902061462402],\"type\":\"scatter3d\"},{\"line\":{\"color\":\"#7CFC00\",\"width\":1},\"mode\":\"lines\",\"x\":[0.0,-0.2646998465061188],\"y\":[0.0,0.26765739917755127],\"z\":[0.0,0.9264413118362427],\"type\":\"scatter3d\"},{\"line\":{\"color\":\"#7CFC00\",\"width\":1},\"mode\":\"lines\",\"x\":[0.0,-0.35867342352867126],\"y\":[0.0,0.2643609046936035],\"z\":[0.0,0.8952467441558838],\"type\":\"scatter3d\"},{\"line\":{\"color\":\"#7CFC00\",\"width\":1},\"mode\":\"lines\",\"x\":[0.0,0.28569647669792175],\"y\":[0.0,0.27544069290161133],\"z\":[0.0,0.9178833961486816],\"type\":\"scatter3d\"},{\"line\":{\"color\":\"#7CFC00\",\"width\":1},\"mode\":\"lines\",\"x\":[0.0,0.1844908893108368],\"y\":[0.0,0.28798577189445496],\"z\":[0.0,0.9396952986717224],\"type\":\"scatter3d\"},{\"line\":{\"color\":\"#7CFC00\",\"width\":1},\"mode\":\"lines\",\"x\":[0.0,0.07745856046676636],\"y\":[0.0,0.2976838946342468],\"z\":[0.0,0.9515169262886047],\"type\":\"scatter3d\"},{\"line\":{\"color\":\"#7CFC00\",\"width\":1},\"mode\":\"lines\",\"x\":[0.0,-0.03191591426730156],\"y\":[0.0,0.3039610683917999],\"z\":[0.0,0.9521496891975403],\"type\":\"scatter3d\"},{\"line\":{\"color\":\"#7CFC00\",\"width\":1},\"mode\":\"lines\",\"x\":[0.0,-0.13976505398750305],\"y\":[0.0,0.30658140778541565],\"z\":[0.0,0.941527247428894],\"type\":\"scatter3d\"},{\"line\":{\"color\":\"#7CFC00\",\"width\":1},\"mode\":\"lines\",\"x\":[0.0,-0.2424938827753067],\"y\":[0.0,0.30568927526474],\"z\":[0.0,0.9207338094711304],\"type\":\"scatter3d\"},{\"line\":{\"color\":\"#7CFC00\",\"width\":1},\"mode\":\"lines\",\"x\":[0.0,-0.3373316526412964],\"y\":[0.0,0.3017481565475464],\"z\":[0.0,0.891714870929718],\"type\":\"scatter3d\"},{\"line\":{\"color\":\"#7CFC00\",\"width\":1},\"mode\":\"lines\",\"x\":[0.0,0.3009137511253357],\"y\":[0.0,0.3095524311065674],\"z\":[0.0,0.9020134210586548],\"type\":\"scatter3d\"},{\"line\":{\"color\":\"#7CFC00\",\"width\":1},\"mode\":\"lines\",\"x\":[0.0,0.20216578245162964],\"y\":[0.0,0.32317012548446655],\"z\":[0.0,0.9244945049285889],\"type\":\"scatter3d\"},{\"line\":{\"color\":\"#7CFC00\",\"width\":1},\"mode\":\"lines\",\"x\":[0.0,0.0972808301448822],\"y\":[0.0,0.33374807238578796],\"z\":[0.0,0.9376292824745178],\"type\":\"scatter3d\"},{\"line\":{\"color\":\"#7CFC00\",\"width\":1},\"mode\":\"lines\",\"x\":[0.0,-0.010504386387765408],\"y\":[0.0,0.3406422436237335],\"z\":[0.0,0.9401342868804932],\"type\":\"scatter3d\"},{\"line\":{\"color\":\"#7CFC00\",\"width\":1},\"mode\":\"lines\",\"x\":[0.0,-0.11749276518821716],\"y\":[0.0,0.3435547947883606],\"z\":[0.0,0.9317540526390076],\"type\":\"scatter3d\"},{\"line\":{\"color\":\"#7CFC00\",\"width\":1},\"mode\":\"lines\",\"x\":[0.0,-0.22013407945632935],\"y\":[0.0,0.3425927758216858],\"z\":[0.0,0.9133297204971313],\"type\":\"scatter3d\"},{\"line\":{\"color\":\"#7CFC00\",\"width\":1},\"mode\":\"lines\",\"x\":[0.0,-0.3155762851238251],\"y\":[0.0,0.3382185399532318],\"z\":[0.0,0.8865776062011719],\"type\":\"scatter3d\"},{\"line\":{\"color\":\"#7CFC00\",\"width\":1},\"mode\":\"lines\",\"x\":[0.0,0.31512129306793213],\"y\":[0.0,0.34197020530700684],\"z\":[0.0,0.8852993845939636],\"type\":\"scatter3d\"},{\"line\":{\"color\":\"#7CFC00\",\"width\":1},\"mode\":\"lines\",\"x\":[0.0,0.2189067155122757],\"y\":[0.0,0.35662949085235596],\"z\":[0.0,0.9082374572753906],\"type\":\"scatter3d\"},{\"line\":{\"color\":\"#7CFC00\",\"width\":1},\"mode\":\"lines\",\"x\":[0.0,0.11632292717695236],\"y\":[0.0,0.3681105375289917],\"z\":[0.0,0.9224768877029419],\"type\":\"scatter3d\"},{\"line\":{\"color\":\"#7CFC00\",\"width\":1},\"mode\":\"lines\",\"x\":[0.0,0.010354073718190193],\"y\":[0.0,0.37570497393608093],\"z\":[0.0,0.9266814589500427],\"type\":\"scatter3d\"},{\"line\":{\"color\":\"#7CFC00\",\"width\":1},\"mode\":\"lines\",\"x\":[0.0,-0.09549695998430252],\"y\":[0.0,0.37904947996139526],\"z\":[0.0,0.9204356670379639],\"type\":\"scatter3d\"},{\"line\":{\"color\":\"#FFFACD\",\"width\":1},\"mode\":\"lines\",\"x\":[-0.044039249420166016,-0.2779383808374405],\"y\":[0.0072920843958854675,-0.3378412500023842],\"z\":[0.17711162567138672,1.0860528349876404],\"type\":\"scatter3d\"},{\"line\":{\"color\":\"#FFFACD\",\"width\":1},\"mode\":\"lines\",\"x\":[-0.044039249420166016,0.33985862135887146],\"y\":[0.0072920843958854675,-0.3854295089840889],\"z\":[0.17711162567138672,1.012810230255127],\"type\":\"scatter3d\"},{\"line\":{\"color\":\"#FFFACD\",\"width\":1},\"mode\":\"lines\",\"x\":[-0.044039249420166016,0.2463594675064087],\"y\":[0.0072920843958854675,-0.38276631385087967],\"z\":[0.17711162567138672,1.0509096384048462],\"type\":\"scatter3d\"},{\"line\":{\"color\":\"#FFFACD\",\"width\":1},\"mode\":\"lines\",\"x\":[-0.044039249420166016,0.1459822803735733],\"y\":[0.0072920843958854675,-0.3757757321000099],\"z\":[0.17711162567138672,1.0810755491256714],\"type\":\"scatter3d\"},{\"line\":{\"color\":\"#FFFACD\",\"width\":1},\"mode\":\"lines\",\"x\":[-0.044039249420166016,0.04165550321340561],\"y\":[0.0072920843958854675,-0.3643187955021858],\"z\":[0.17711162567138672,1.1015366911888123],\"type\":\"scatter3d\"},{\"line\":{\"color\":\"#FFFACD\",\"width\":1},\"mode\":\"lines\",\"x\":[-0.044039249420166016,-0.063138697296381],\"y\":[0.0072920843958854675,-0.3486992195248604],\"z\":[0.17711162567138672,1.1114056706428528],\"type\":\"scatter3d\"},{\"line\":{\"color\":\"#FFFACD\",\"width\":1},\"mode\":\"lines\",\"x\":[-0.044039249420166016,-0.16492079943418503],\"y\":[0.0072920843958854675,-0.3296273723244667],\"z\":[0.17711162567138672,1.1108529567718506],\"type\":\"scatter3d\"},{\"line\":{\"color\":\"#FFFACD\",\"width\":1},\"mode\":\"lines\",\"x\":[-0.044039249420166016,-0.2607574462890625],\"y\":[0.0072920843958854675,-0.30807916074991226],\"z\":[0.17711162567138672,1.1010023951530457],\"type\":\"scatter3d\"},{\"line\":{\"color\":\"#FFFACD\",\"width\":1},\"mode\":\"lines\",\"x\":[-0.044039249420166016,0.36517125368118286],\"y\":[0.0072920843958854675,-0.3511167839169502],\"z\":[0.17711162567138672,1.0162122249603271],\"type\":\"scatter3d\"},{\"line\":{\"color\":\"#FFFACD\",\"width\":1},\"mode\":\"lines\",\"x\":[-0.044039249420166016,0.2722383141517639],\"y\":[0.0072920843958854675,-0.34833288937807083],\"z\":[0.17711162567138672,1.056599736213684],\"type\":\"scatter3d\"},{\"line\":{\"color\":\"#FFFACD\",\"width\":1},\"mode\":\"lines\",\"x\":[-0.044039249420166016,0.17166739702224731],\"y\":[0.0072920843958854675,-0.34152016788721085],\"z\":[0.17711162567138672,1.0891426801681519],\"type\":\"scatter3d\"},{\"line\":{\"color\":\"#FFFACD\",\"width\":1},\"mode\":\"lines\",\"x\":[-0.044039249420166016,0.06633814424276352],\"y\":[0.0072920843958854675,-0.3305080309510231],\"z\":[0.17711162567138672,1.1118350625038147],\"type\":\"scatter3d\"},{\"line\":{\"color\":\"#FFFACD\",\"width\":1},\"mode\":\"lines\",\"x\":[-0.044039249420166016,-0.04018372530117631],\"y\":[0.0072920843958854675,-0.31554950028657913],\"z\":[0.17711162567138672,1.1235567331314087],\"type\":\"scatter3d\"},{\"line\":{\"color\":\"#FFFACD\",\"width\":1},\"mode\":\"lines\",\"x\":[-0.044039249420166016,-0.14422053843736649],\"y\":[0.0072920843958854675,-0.29729995876550674],\"z\":[0.17711162567138672,1.1243113279342651],\"type\":\"scatter3d\"},{\"line\":{\"color\":\"#FFFACD\",\"width\":1},\"mode\":\"lines\",\"x\":[-0.044039249420166016,-0.24258439242839813],\"y\":[0.0072920843958854675,-0.27668777853250504],\"z\":[0.17711162567138672,1.1151602268218994],\"type\":\"scatter3d\"},{\"line\":{\"color\":\"#FFFACD\",\"width\":1},\"mode\":\"lines\",\"x\":[-0.044039249420166016,0.39007264375686646],\"y\":[0.0072920843958854675,-0.3156556859612465],\"z\":[0.17711162567138672,1.0180941224098206],\"type\":\"scatter3d\"},{\"line\":{\"color\":\"#FFFACD\",\"width\":1},\"mode\":\"lines\",\"x\":[-0.044039249420166016,0.2979874014854431],\"y\":[0.0072920843958854675,-0.31256500631570816],\"z\":[0.17711162567138672,1.060689091682434],\"type\":\"scatter3d\"},{\"line\":{\"color\":\"#FFFACD\",\"width\":1},\"mode\":\"lines\",\"x\":[-0.044039249420166016,0.197531595826149],\"y\":[0.0072920843958854675,-0.30577460676431656],\"z\":[0.17711162567138672,1.0956064462661743],\"type\":\"scatter3d\"},{\"line\":{\"color\":\"#FFFACD\",\"width\":1},\"mode\":\"lines\",\"x\":[-0.044039249420166016,0.09149637818336487],\"y\":[0.0072920843958854675,-0.29509855061769485],\"z\":[0.17711162567138672,1.1206104159355164],\"type\":\"scatter3d\"},{\"line\":{\"color\":\"#FFFACD\",\"width\":1},\"mode\":\"lines\",\"x\":[-0.044039249420166016,-0.016507577151060104],\"y\":[0.0072920843958854675,-0.28074783831834793],\"z\":[0.17711162567138672,1.134334146976471],\"type\":\"scatter3d\"},{\"line\":{\"color\":\"#FFFACD\",\"width\":1},\"mode\":\"lines\",\"x\":[-0.044039249420166016,-0.12262880802154541],\"y\":[0.0072920843958854675,-0.2633223608136177],\"z\":[0.17711162567138672,1.1365861892700195],\"type\":\"scatter3d\"},{\"line\":{\"color\":\"#FFFACD\",\"width\":1},\"mode\":\"lines\",\"x\":[-0.044039249420166016,-0.22342944145202637],\"y\":[0.0072920843958854675,-0.2436947301030159],\"z\":[0.17711162567138672,1.1283343434333801],\"type\":\"scatter3d\"},{\"line\":{\"color\":\"#FFFACD\",\"width\":1},\"mode\":\"lines\",\"x\":[-0.044039249420166016,0.41439950466156006],\"y\":[0.0072920843958854675,-0.27921510487794876],\"z\":[0.17711162567138672,1.0183889269828796],\"type\":\"scatter3d\"},{\"line\":{\"color\":\"#FFFACD\",\"width\":1},\"mode\":\"lines\",\"x\":[-0.044039249420166016,0.32343435287475586],\"y\":[0.0072920843958854675,-0.27562449127435684],\"z\":[0.17711162567138672,1.063069462776184],\"type\":\"scatter3d\"},{\"line\":{\"color\":\"#FFFACD\",\"width\":1},\"mode\":\"lines\",\"x\":[-0.044039249420166016,0.22340959310531616],\"y\":[0.0072920843958854675,-0.26868540793657303],\"z\":[0.17711162567138672,1.1003166437149048],\"type\":\"scatter3d\"},{\"line\":{\"color\":\"#FFFACD\",\"width\":1},\"mode\":\"lines\",\"x\":[-0.044039249420166016,0.1169886589050293],\"y\":[0.0072920843958854675,-0.25821495801210403],\"z\":[0.17711162567138672,1.1276777386665344],\"type\":\"scatter3d\"},{\"line\":{\"color\":\"#FFFACD\",\"width\":1},\"mode\":\"lines\",\"x\":[-0.044039249420166016,0.0077842772006988525],\"y\":[0.0072920843958854675,-0.24439439922571182],\"z\":[0.17711162567138672,1.1435319185256958],\"type\":\"scatter3d\"},{\"line\":{\"color\":\"#FFFACD\",\"width\":1},\"mode\":\"lines\",\"x\":[-0.044039249420166016,-0.10021049901843071],\"y\":[0.0072920843958854675,-0.22777128964662552],\"z\":[0.17711162567138672,1.1474671959877014],\"type\":\"scatter3d\"},{\"line\":{\"color\":\"#FFFACD\",\"width\":1},\"mode\":\"lines\",\"x\":[-0.044039249420166016,-0.2033199518918991],\"y\":[0.0072920843958854675,-0.2091568484902382],\"z\":[0.17711162567138672,1.1403247117996216],\"type\":\"scatter3d\"},{\"line\":{\"color\":\"#FFFACD\",\"width\":1},\"mode\":\"lines\",\"x\":[-0.044039249420166016,0.4379933774471283],\"y\":[0.0072920843958854675,-0.24198613315820694],\"z\":[0.17711162567138672,1.0170549750328064],\"type\":\"scatter3d\"},{\"line\":{\"color\":\"#FFFACD\",\"width\":1},\"mode\":\"lines\",\"x\":[-0.044039249420166016,0.3484044075012207],\"y\":[0.0072920843958854675,-0.23770203441381454],\"z\":[0.17711162567138672,1.0636587738990784],\"type\":\"scatter3d\"},{\"line\":{\"color\":\"#FFFACD\",\"width\":1},\"mode\":\"lines\",\"x\":[-0.044039249420166016,0.2491256296634674],\"y\":[0.0072920843958854675,-0.2304331585764885],\"z\":[0.17711162567138672,1.103146731853485],\"type\":\"scatter3d\"},{\"line\":{\"color\":\"#FFFACD\",\"width\":1},\"mode\":\"lines\",\"x\":[-0.044039249420166016,0.14265625178813934],\"y\":[0.0072920843958854675,-0.22001925855875015],\"z\":[0.17711162567138672,1.1328701376914978],\"type\":\"scatter3d\"},{\"line\":{\"color\":\"#FFFACD\",\"width\":1},\"mode\":\"lines\",\"x\":[-0.044039249420166016,0.03256523609161377],\"y\":[0.0072920843958854675,-0.20662731677293777],\"z\":[0.17711162567138672,1.1509546041488647],\"type\":\"scatter3d\"},{\"line\":{\"color\":\"#FFFACD\",\"width\":1},\"mode\":\"lines\",\"x\":[-0.044039249420166016,-0.07705201581120491],\"y\":[0.0072920843958854675,-0.19075957685709],\"z\":[0.17711162567138672,1.1567471027374268],\"type\":\"scatter3d\"},{\"line\":{\"color\":\"#FFFACD\",\"width\":1},\"mode\":\"lines\",\"x\":[-0.044039249420166016,-0.18230241537094116],\"y\":[0.0072920843958854675,-0.17316346615552902],\"z\":[0.17711162567138672,1.1509283781051636],\"type\":\"scatter3d\"},{\"line\":{\"color\":\"#FFFACD\",\"width\":1},\"mode\":\"lines\",\"x\":[-0.044039249420166016,0.46070563793182373],\"y\":[0.0072920843958854675,-0.20417725294828415],\"z\":[0.17711162567138672,1.0140783786773682],\"type\":\"scatter3d\"},{\"line\":{\"color\":\"#FFFACD\",\"width\":1},\"mode\":\"lines\",\"x\":[-0.044039249420166016,0.37272584438323975],\"y\":[0.0072920843958854675,-0.199012853205204],\"z\":[0.17711162567138672,1.0624054074287415],\"type\":\"scatter3d\"},{\"line\":{\"color\":\"#FFFACD\",\"width\":1},\"mode\":\"lines\",\"x\":[-0.044039249420166016,0.2744986116886139],\"y\":[0.0072920843958854675,-0.19122961908578873],\"z\":[0.17711162567138672,1.1040003299713135],\"type\":\"scatter3d\"},{\"line\":{\"color\":\"#FFFACD\",\"width\":1},\"mode\":\"lines\",\"x\":[-0.044039249420166016,0.16832681000232697],\"y\":[0.0072920843958854675,-0.18070945888757706],\"z\":[0.17711162567138672,1.1360464692115784],\"type\":\"scatter3d\"},{\"line\":{\"color\":\"#FFFACD\",\"width\":1},\"mode\":\"lines\",\"x\":[-0.044039249420166016,0.057689368724823],\"y\":[0.0072920843958854675,-0.16762282699346542],\"z\":[0.17711162567138672,1.156425654888153],\"type\":\"scatter3d\"},{\"line\":{\"color\":\"#FFFACD\",\"width\":1},\"mode\":\"lines\",\"x\":[-0.044039249420166016,-0.053261345252394676],\"y\":[0.0072920843958854675,-0.15243738144636154],\"z\":[0.17711162567138672,1.1642293334007263],\"type\":\"scatter3d\"},{\"line\":{\"color\":\"#FFFACD\",\"width\":1},\"mode\":\"lines\",\"x\":[-0.044039249420166016,-0.16044387221336365],\"y\":[0.0072920843958854675,-0.1358383372426033],\"z\":[0.17711162567138672,1.159946084022522],\"type\":\"scatter3d\"},{\"line\":{\"color\":\"#FFFACD\",\"width\":1},\"mode\":\"lines\",\"x\":[-0.044039249420166016,-0.26054228842258453],\"y\":[0.0072920843958854675,-0.11858982592821121],\"z\":[0.17711162567138672,1.1452438831329346],\"type\":\"scatter3d\"},{\"line\":{\"color\":\"#FFFACD\",\"width\":1},\"mode\":\"lines\",\"x\":[-0.044039249420166016,0.3962356746196747],\"y\":[0.0072920843958854675,-0.15979094058275223],\"z\":[0.17711162567138672,1.059291422367096],\"type\":\"scatter3d\"},{\"line\":{\"color\":\"#FFFACD\",\"width\":1},\"mode\":\"lines\",\"x\":[-0.044039249420166016,0.2993479371070862],\"y\":[0.0072920843958854675,-0.15131252259016037],\"z\":[0.17711162567138672,1.102816641330719],\"type\":\"scatter3d\"},{\"line\":{\"color\":\"#FFFACD\",\"width\":1},\"mode\":\"lines\",\"x\":[-0.044039249420166016,0.19381944835186005],\"y\":[0.0072920843958854675,-0.14051569253206253],\"z\":[0.17711162567138672,1.1370991468429565],\"type\":\"scatter3d\"},{\"line\":{\"color\":\"#FFFACD\",\"width\":1},\"mode\":\"lines\",\"x\":[-0.044039249420166016,0.08299453556537628],\"y\":[0.0072920843958854675,-0.127593033015728],\"z\":[0.17711162567138672,1.159795880317688],\"type\":\"scatter3d\"},{\"line\":{\"color\":\"#FFFACD\",\"width\":1},\"mode\":\"lines\",\"x\":[-0.044039249420166016,-0.028967006132006645],\"y\":[0.0072920843958854675,-0.11299169063568115],\"z\":[0.17711162567138672,1.1697367429733276],\"type\":\"scatter3d\"},{\"line\":{\"color\":\"#FFFACD\",\"width\":1},\"mode\":\"lines\",\"x\":[-0.044039249420166016,-0.13783257454633713],\"y\":[0.0072920843958854675,-0.09734033048152924],\"z\":[0.17711162567138672,1.1671897768974304],\"type\":\"scatter3d\"},{\"line\":{\"color\":\"#FFFACD\",\"width\":1},\"mode\":\"lines\",\"x\":[-0.044039249420166016,-0.24004557728767395],\"y\":[0.0072920843958854675,-0.0813244879245758],\"z\":[0.17711162567138672,1.153701901435852],\"type\":\"scatter3d\"},{\"line\":{\"color\":\"#FFFACD\",\"width\":1},\"mode\":\"lines\",\"x\":[-0.044039249420166016,0.4187849462032318],\"y\":[0.0072920843958854675,-0.1202821359038353],\"z\":[0.17711162567138672,1.0543336868286133],\"type\":\"scatter3d\"},{\"line\":{\"color\":\"#FFFACD\",\"width\":1},\"mode\":\"lines\",\"x\":[-0.044039249420166016,0.32349956035614014],\"y\":[0.0072920843958854675,-0.1109388917684555],\"z\":[0.17711162567138672,1.0995738506317139],\"type\":\"scatter3d\"},{\"line\":{\"color\":\"#FFFACD\",\"width\":1},\"mode\":\"lines\",\"x\":[-0.044039249420166016,0.21895042061805725],\"y\":[0.0072920843958854675,-0.09969434142112732],\"z\":[0.17711162567138672,1.135960042476654],\"type\":\"scatter3d\"},{\"line\":{\"color\":\"#FFFACD\",\"width\":1},\"mode\":\"lines\",\"x\":[-0.044039249420166016,0.10830675065517426],\"y\":[0.0072920843958854675,-0.08678161352872849],\"z\":[0.17711162567138672,1.1609514355659485],\"type\":\"scatter3d\"},{\"line\":{\"color\":\"#FFFACD\",\"width\":1},\"mode\":\"lines\",\"x\":[-0.044039249420166016,-0.004315678030252457],\"y\":[0.0072920843958854675,-0.07264366745948792],\"z\":[0.17711162567138672,1.1731197834014893],\"type\":\"scatter3d\"},{\"line\":{\"color\":\"#FFFACD\",\"width\":1},\"mode\":\"lines\",\"x\":[-0.044039249420166016,-0.1145775318145752],\"y\":[0.0072920843958854675,-0.057862289249897],\"z\":[0.17711162567138672,1.1724905371665955],\"type\":\"scatter3d\"},{\"line\":{\"color\":\"#FFFACD\",\"width\":1},\"mode\":\"lines\",\"x\":[-0.044039249420166016,-0.21870513260364532],\"y\":[0.0072920843958854675,-0.043045755475759506],\"z\":[0.17711162567138672,1.1604517698287964],\"type\":\"scatter3d\"},{\"line\":{\"color\":\"#FFFACD\",\"width\":1},\"mode\":\"lines\",\"x\":[-0.044039249420166016,0.44024330377578735],\"y\":[0.0072920843958854675,-0.08073645085096359],\"z\":[0.17711162567138672,1.047583520412445],\"type\":\"scatter3d\"},{\"line\":{\"color\":\"#FFFACD\",\"width\":1},\"mode\":\"lines\",\"x\":[-0.044039249420166016,0.34679192304611206],\"y\":[0.0072920843958854675,-0.07037679851055145],\"z\":[0.17711162567138672,1.0942912697792053],\"type\":\"scatter3d\"},{\"line\":{\"color\":\"#FFFACD\",\"width\":1},\"mode\":\"lines\",\"x\":[-0.044039249420166016,0.2435394525527954],\"y\":[0.0072920843958854675,-0.05852028727531433],\"z\":[0.17711162567138672,1.1326047778129578],\"type\":\"scatter3d\"},{\"line\":{\"color\":\"#FFFACD\",\"width\":1},\"mode\":\"lines\",\"x\":[-0.044039249420166016,0.1334456503391266],\"y\":[0.0072920843958854675,-0.04545724391937256],\"z\":[0.17711162567138672,1.1598203778266907],\"type\":\"scatter3d\"},{\"line\":{\"color\":\"#FFFACD\",\"width\":1},\"mode\":\"lines\",\"x\":[-0.044039249420166016,0.02053143084049225],\"y\":[0.0072920843958854675,-0.03164378181099892],\"z\":[0.17711162567138672,1.1742648482322693],\"type\":\"scatter3d\"},{\"line\":{\"color\":\"#FFFACD\",\"width\":1},\"mode\":\"lines\",\"x\":[-0.044039249420166016,-0.09080695360898972],\"y\":[0.0072920843958854675,-0.017627933993935585],\"z\":[0.17711162567138672,1.1757065057754517],\"type\":\"scatter3d\"},{\"line\":{\"color\":\"#FFFACD\",\"width\":1},\"mode\":\"lines\",\"x\":[-0.044039249420166016,-0.19661080837249756],\"y\":[0.0072920843958854675,-0.003946504555642605],\"z\":[0.17711162567138672,1.1653401255607605],\"type\":\"scatter3d\"},{\"line\":{\"color\":\"#FFFACD\",\"width\":1},\"mode\":\"lines\",\"x\":[-0.044039249420166016,0.4605029225349426],\"y\":[0.0072920843958854675,-0.04140030965209007],\"z\":[0.17711162567138672,1.0391244888305664],\"type\":\"scatter3d\"},{\"line\":{\"color\":\"#FFFACD\",\"width\":1},\"mode\":\"lines\",\"x\":[-0.044039249420166016,0.3690814673900604],\"y\":[0.0072920843958854675,-0.029896609485149384],\"z\":[0.17711162567138672,1.0870282053947449],\"type\":\"scatter3d\"},{\"line\":{\"color\":\"#FFFACD\",\"width\":1},\"mode\":\"lines\",\"x\":[-0.044039249420166016,0.2674161195755005],\"y\":[0.0072920843958854675,-0.01727786846458912],\"z\":[0.17711162567138672,1.1270546913146973],\"type\":\"scatter3d\"},{\"line\":{\"color\":\"#FFFACD\",\"width\":1},\"mode\":\"lines\",\"x\":[-0.044039249420166016,0.15823060274124146],\"y\":[0.0072920843958854675,-0.003905204124748707],\"z\":[0.17711162567138672,1.156377375125885],\"type\":\"scatter3d\"},{\"line\":{\"color\":\"#FFFACD\",\"width\":1},\"mode\":\"lines\",\"x\":[-0.044039249420166016,0.04540334641933441],\"y\":[0.0072920843958854675,0.009735147468745708],\"z\":[0.17711162567138672,1.1731005907058716],\"type\":\"scatter3d\"},{\"line\":{\"color\":\"#FFFACD\",\"width\":1},\"mode\":\"lines\",\"x\":[-0.044039249420166016,-0.06666541285812855],\"y\":[0.0072920843958854675,0.023113297298550606],\"z\":[0.17711162567138672,1.1767303943634033],\"type\":\"scatter3d\"},{\"line\":{\"color\":\"#FFFACD\",\"width\":1},\"mode\":\"lines\",\"x\":[-0.044039249420166016,-0.17387175559997559],\"y\":[0.0072920843958854675,0.03575385734438896],\"z\":[0.17711162567138672,1.1682389378547668],\"type\":\"scatter3d\"},{\"line\":{\"color\":\"#FFFACD\",\"width\":1},\"mode\":\"lines\",\"x\":[-0.044039249420166016,0.4794806241989136],\"y\":[0.0072920843958854675,-0.0025091227144002914],\"z\":[0.17711162567138672,1.029068648815155],\"type\":\"scatter3d\"},{\"line\":{\"color\":\"#FFFACD\",\"width\":1},\"mode\":\"lines\",\"x\":[-0.044039249420166016,0.39024680852890015],\"y\":[0.0072920843958854675,0.010237908456474543],\"z\":[0.17711162567138672,1.0778818130493164],\"type\":\"scatter3d\"},{\"line\":{\"color\":\"#FFFACD\",\"width\":1},\"mode\":\"lines\",\"x\":[-0.044039249420166016,0.29042568802833557],\"y\":[0.0072920843958854675,0.023748908191919327],\"z\":[0.17711162567138672,1.1193760633468628],\"type\":\"scatter3d\"},{\"line\":{\"color\":\"#FFFACD\",\"width\":1},\"mode\":\"lines\",\"x\":[-0.044039249420166016,0.18248707056045532],\"y\":[0.0072920843958854675,0.03758229687809944],\"z\":[0.17711162567138672,1.1506455540657043],\"type\":\"scatter3d\"},{\"line\":{\"color\":\"#FFFACD\",\"width\":1},\"mode\":\"lines\",\"x\":[-0.044039249420166016,0.07012495398521423],\"y\":[0.0072920843958854675,0.0512065663933754],\"z\":[0.17711162567138672,1.169602394104004],\"type\":\"scatter3d\"},{\"line\":{\"color\":\"#FFFACD\",\"width\":1},\"mode\":\"lines\",\"x\":[-0.044039249420166016,-0.0423099152976647],\"y\":[0.0072920843958854675,0.0640931986272335],\"z\":[0.17711162567138672,1.1754956245422363],\"type\":\"scatter3d\"},{\"line\":{\"color\":\"#FFFACD\",\"width\":1},\"mode\":\"lines\",\"x\":[-0.044039249420166016,-0.15061431378126144],\"y\":[0.0072920843958854675,0.07581453770399094],\"z\":[0.17711162567138672,1.1690523028373718],\"type\":\"scatter3d\"},{\"line\":{\"color\":\"#FFFACD\",\"width\":1},\"mode\":\"lines\",\"x\":[-0.044039249420166016,-0.25144948065280914],\"y\":[0.0072920843958854675,0.08610709756612778],\"z\":[0.17711162567138672,1.1521854996681213],\"type\":\"scatter3d\"},{\"line\":{\"color\":\"#FFFACD\",\"width\":1},\"mode\":\"lines\",\"x\":[-0.044039249420166016,0.41019177436828613],\"y\":[0.0072920843958854675,0.049777835607528687],\"z\":[0.17711162567138672,1.0669819116592407],\"type\":\"scatter3d\"},{\"line\":{\"color\":\"#FFFACD\",\"width\":1},\"mode\":\"lines\",\"x\":[-0.044039249420166016,0.31243395805358887],\"y\":[0.0072920843958854675,0.06428594142198563],\"z\":[0.17711162567138672,1.1096771359443665],\"type\":\"scatter3d\"},{\"line\":{\"color\":\"#FFFACD\",\"width\":1},\"mode\":\"lines\",\"x\":[-0.044039249420166016,0.2060527205467224],\"y\":[0.0072920843958854675,0.07871629297733307],\"z\":[0.17711162567138672,1.142695665359497],\"type\":\"scatter3d\"},{\"line\":{\"color\":\"#FFFACD\",\"width\":1},\"mode\":\"lines\",\"x\":[-0.044039249420166016,0.09452304244041443],\"y\":[0.0072920843958854675,0.09247995913028717],\"z\":[0.17711162567138672,1.1637946963310242],\"type\":\"scatter3d\"},{\"line\":{\"color\":\"#FFFACD\",\"width\":1},\"mode\":\"lines\",\"x\":[-0.044039249420166016,-0.017905021086335182],\"y\":[0.0072920843958854675,0.1050332635641098],\"z\":[0.17711162567138672,1.1719802618026733],\"type\":\"scatter3d\"},{\"line\":{\"color\":\"#FFFACD\",\"width\":1},\"mode\":\"lines\",\"x\":[-0.044039249420166016,-0.12697889655828476],\"y\":[0.0072920843958854675,0.11598001420497894],\"z\":[0.17711162567138672,1.167721450328827],\"type\":\"scatter3d\"},{\"line\":{\"color\":\"#FFFACD\",\"width\":1},\"mode\":\"lines\",\"x\":[-0.044039249420166016,-0.22918890416622162],\"y\":[0.0072920843958854675,0.1251271516084671],\"z\":[0.17711162567138672,1.1527316570281982],\"type\":\"scatter3d\"},{\"line\":{\"color\":\"#FFFACD\",\"width\":1},\"mode\":\"lines\",\"x\":[-0.044039249420166016,0.4288470447063446],\"y\":[0.0072920843958854675,0.08849615603685379],\"z\":[0.17711162567138672,1.0544852018356323],\"type\":\"scatter3d\"},{\"line\":{\"color\":\"#FFFACD\",\"width\":1},\"mode\":\"lines\",\"x\":[-0.044039249420166016,0.33333101868629456],\"y\":[0.0072920843958854675,0.10407783091068268],\"z\":[0.17711162567138672,1.0981024503707886],\"type\":\"scatter3d\"},{\"line\":{\"color\":\"#FFFACD\",\"width\":1},\"mode\":\"lines\",\"x\":[-0.044039249420166016,0.22878271341323853],\"y\":[0.0072920843958854675,0.11922097206115723],\"z\":[0.17711162567138672,1.132642924785614],\"type\":\"scatter3d\"},{\"line\":{\"color\":\"#FFFACD\",\"width\":1},\"mode\":\"lines\",\"x\":[-0.044039249420166016,0.11843235790729523],\"y\":[0.0072920843958854675,0.13327091187238693],\"z\":[0.17711162567138672,1.1557495594024658],\"type\":\"scatter3d\"},{\"line\":{\"color\":\"#FFFACD\",\"width\":1},\"mode\":\"lines\",\"x\":[-0.044039249420166016,0.006382625550031662],\"y\":[0.0072920843958854675,0.14565395563840866],\"z\":[0.17711162567138672,1.1662089824676514],\"type\":\"scatter3d\"},{\"line\":{\"color\":\"#FFFACD\",\"width\":1},\"mode\":\"lines\",\"x\":[-0.044039249420166016,-0.1031159795820713],\"y\":[0.0072920843958854675,0.15598785132169724],\"z\":[0.17711162567138672,1.1642283201217651],\"type\":\"scatter3d\"},{\"line\":{\"color\":\"#FFFACD\",\"width\":1},\"mode\":\"lines\",\"x\":[-0.044039249420166016,-0.2064215987920761],\"y\":[0.0072920843958854675,0.1641346886754036],\"z\":[0.17711162567138672,1.151294469833374],\"type\":\"scatter3d\"},{\"line\":{\"color\":\"#FFFACD\",\"width\":1},\"mode\":\"lines\",\"x\":[-0.044039249420166016,0.4461701512336731],\"y\":[0.0072920843958854675,0.12619321048259735],\"z\":[0.17711162567138672,1.0405681729316711],\"type\":\"scatter3d\"},{\"line\":{\"color\":\"#FFFACD\",\"width\":1},\"mode\":\"lines\",\"x\":[-0.044039249420166016,0.3530332148075104],\"y\":[0.0072920843958854675,0.1428951397538185],\"z\":[0.17711162567138672,1.084825873374939],\"type\":\"scatter3d\"},{\"line\":{\"color\":\"#FFFACD\",\"width\":1},\"mode\":\"lines\",\"x\":[-0.044039249420166016,0.2505539655685425],\"y\":[0.0072920843958854675,0.15884248167276382],\"z\":[0.17711162567138672,1.120640754699707],\"type\":\"scatter3d\"},{\"line\":{\"color\":\"#FFFACD\",\"width\":1},\"mode\":\"lines\",\"x\":[-0.044039249420166016,0.14170102775096893],\"y\":[0.0072920843958854675,0.1733107790350914],\"z\":[0.17711162567138672,1.1455837488174438],\"type\":\"scatter3d\"},{\"line\":{\"color\":\"#FFFACD\",\"width\":1},\"mode\":\"lines\",\"x\":[-0.044039249420166016,0.0303899347782135],\"y\":[0.0072920843958854675,0.18568424135446548],\"z\":[0.17711162567138672,1.1582520008087158],\"type\":\"scatter3d\"},{\"line\":{\"color\":\"#FFFACD\",\"width\":1},\"mode\":\"lines\",\"x\":[-0.044039249420166016,-0.07918138056993484],\"y\":[0.0072920843958854675,0.19557718187570572],\"z\":[0.17711162567138672,1.1585970520973206],\"type\":\"scatter3d\"},{\"line\":{\"color\":\"#FFFACD\",\"width\":1},\"mode\":\"lines\",\"x\":[-0.044039249420166016,-0.18328213691711426],\"y\":[0.0072920843958854675,0.20288913697004318],\"z\":[0.17711162567138672,1.14786034822464],\"type\":\"scatter3d\"},{\"line\":{\"color\":\"#FFFACD\",\"width\":1},\"mode\":\"lines\",\"x\":[-0.044039249420166016,0.4621443748474121],\"y\":[0.0072920843958854675,0.16270028799772263],\"z\":[0.17711162567138672,1.0254195928573608],\"type\":\"scatter3d\"},{\"line\":{\"color\":\"#FFFACD\",\"width\":1},\"mode\":\"lines\",\"x\":[-0.044039249420166016,0.37148386240005493],\"y\":[0.0072920843958854675,0.1805397793650627],\"z\":[0.17711162567138672,1.070042610168457],\"type\":\"scatter3d\"},{\"line\":{\"color\":\"#FFFACD\",\"width\":1},\"mode\":\"lines\",\"x\":[-0.044039249420166016,0.27126774191856384],\"y\":[0.0072920843958854675,0.19735603779554367],\"z\":[0.17711162567138672,1.1068735122680664],\"type\":\"scatter3d\"},{\"line\":{\"color\":\"#FFFACD\",\"width\":1},\"mode\":\"lines\",\"x\":[-0.044039249420166016,0.16419517993927002],\"y\":[0.0072920843958854675,0.21235504001379013],\"z\":[0.17711162567138672,1.133452296257019],\"type\":\"scatter3d\"},{\"line\":{\"color\":\"#FFFACD\",\"width\":1},\"mode\":\"lines\",\"x\":[-0.044039249420166016,0.053962744772434235],\"y\":[0.0072920843958854675,0.22487034648656845],\"z\":[0.17711162567138672,1.1482219099998474],\"type\":\"scatter3d\"},{\"line\":{\"color\":\"#FFFACD\",\"width\":1},\"mode\":\"lines\",\"x\":[-0.044039249420166016,-0.05533119477331638],\"y\":[0.0072920843958854675,0.2344970479607582],\"z\":[0.17711162567138672,1.1508930921554565],\"type\":\"scatter3d\"},{\"line\":{\"color\":\"#FFFACD\",\"width\":1},\"mode\":\"lines\",\"x\":[-0.044039249420166016,-0.1599126085639],\"y\":[0.0072920843958854675,0.241153322160244],\"z\":[0.17711162567138672,1.1424520611763],\"type\":\"scatter3d\"},{\"line\":{\"color\":\"#FFFACD\",\"width\":1},\"mode\":\"lines\",\"x\":[-0.044039249420166016,0.47677624225616455],\"y\":[0.0072920843958854675,0.19788142293691635],\"z\":[0.17711162567138672,1.00923353433609],\"type\":\"scatter3d\"},{\"line\":{\"color\":\"#FFFACD\",\"width\":1},\"mode\":\"lines\",\"x\":[-0.044039249420166016,0.38865232467651367],\"y\":[0.0072920843958854675,0.21684832125902176],\"z\":[0.17711162567138672,1.0539606213569641],\"type\":\"scatter3d\"},{\"line\":{\"color\":\"#FFFACD\",\"width\":1},\"mode\":\"lines\",\"x\":[-0.044039249420166016,0.29085105657577515],\"y\":[0.0072920843958854675,0.23457104712724686],\"z\":[0.17711162567138672,1.0915473699569702],\"type\":\"scatter3d\"},{\"line\":{\"color\":\"#FFFACD\",\"width\":1},\"mode\":\"lines\",\"x\":[-0.044039249420166016,0.18580225110054016],\"y\":[0.0072920843958854675,0.25019001215696335],\"z\":[0.17711162567138672,1.1195411682128906],\"type\":\"scatter3d\"},{\"line\":{\"color\":\"#FFFACD\",\"width\":1},\"mode\":\"lines\",\"x\":[-0.044039249420166016,0.07696054875850677],\"y\":[0.0072920843958854675,0.2629835531115532],\"z\":[0.17711162567138672,1.1362679600715637],\"type\":\"scatter3d\"},{\"line\":{\"color\":\"#FFFACD\",\"width\":1},\"mode\":\"lines\",\"x\":[-0.044039249420166016,-0.03171680402010679],\"y\":[0.0072920843958854675,0.27251433581113815],\"z\":[0.17711162567138672,1.1412201523780823],\"type\":\"scatter3d\"},{\"line\":{\"color\":\"#FFFACD\",\"width\":1},\"mode\":\"lines\",\"x\":[-0.044039249420166016,-0.13645830750465393],\"y\":[0.0072920843958854675,0.27870067209005356],\"z\":[0.17711162567138672,1.1351283192634583],\"type\":\"scatter3d\"},{\"line\":{\"color\":\"#FFFACD\",\"width\":1},\"mode\":\"lines\",\"x\":[-0.044039249420166016,-0.2342708557844162],\"y\":[0.0072920843958854675,0.28178780525922775],\"z\":[0.17711162567138672,1.119695246219635],\"type\":\"scatter3d\"},{\"line\":{\"color\":\"#FFFACD\",\"width\":1},\"mode\":\"lines\",\"x\":[-0.044039249420166016,0.4045321047306061],\"y\":[0.0072920843958854675,0.2516931965947151],\"z\":[0.17711162567138672,1.036792814731598],\"type\":\"scatter3d\"},{\"line\":{\"color\":\"#FFFACD\",\"width\":1},\"mode\":\"lines\",\"x\":[-0.044039249420166016,0.309256374835968],\"y\":[0.0072920843958854675,0.2703338488936424],\"z\":[0.17711162567138672,1.0748817324638367],\"type\":\"scatter3d\"},{\"line\":{\"color\":\"#FFFACD\",\"width\":1},\"mode\":\"lines\",\"x\":[-0.044039249420166016,0.20643293857574463],\"y\":[0.0072920843958854675,0.2866372689604759],\"z\":[0.17711162567138672,1.1040581464767456],\"type\":\"scatter3d\"},{\"line\":{\"color\":\"#FFFACD\",\"width\":1},\"mode\":\"lines\",\"x\":[-0.044039249420166016,0.09926019608974457],\"y\":[0.0072920843958854675,0.2998259887099266],\"z\":[0.17711162567138672,1.1225687265396118],\"type\":\"scatter3d\"},{\"line\":{\"color\":\"#FFFACD\",\"width\":1},\"mode\":\"lines\",\"x\":[-0.044039249420166016,-0.008480284363031387],\"y\":[0.0072920843958854675,0.30942028015851974],\"z\":[0.17711162567138672,1.1297154426574707],\"type\":\"scatter3d\"},{\"line\":{\"color\":\"#FFFACD\",\"width\":1},\"mode\":\"lines\",\"x\":[-0.044039249420166016,-0.1130632758140564],\"y\":[0.0072920843958854675,0.31532176584005356],\"z\":[0.17711162567138672,1.125981092453003],\"type\":\"scatter3d\"},{\"line\":{\"color\":\"#FFFACD\",\"width\":1},\"mode\":\"lines\",\"x\":[-0.044039249420166016,-0.21141409873962402],\"y\":[0.0072920843958854675,0.3177911564707756],\"z\":[0.17711162567138672,1.1128337383270264],\"type\":\"scatter3d\"},{\"line\":{\"color\":\"#FFFACD\",\"width\":1},\"mode\":\"lines\",\"x\":[-0.044039249420166016,0.41913798451423645],\"y\":[0.0072920843958854675,0.2849821373820305],\"z\":[0.17711162567138672,1.0187498927116394],\"type\":\"scatter3d\"},{\"line\":{\"color\":\"#FFFACD\",\"width\":1},\"mode\":\"lines\",\"x\":[-0.044039249420166016,0.32646024227142334],\"y\":[0.0072920843958854675,0.3045283481478691],\"z\":[0.17711162567138672,1.0571006536483765],\"type\":\"scatter3d\"},{\"line\":{\"color\":\"#FFFACD\",\"width\":1},\"mode\":\"lines\",\"x\":[-0.044039249420166016,0.22602173686027527],\"y\":[0.0072920843958854675,0.321555994451046],\"z\":[0.17711162567138672,1.0872243642807007],\"type\":\"scatter3d\"},{\"line\":{\"color\":\"#FFFACD\",\"width\":1},\"mode\":\"lines\",\"x\":[-0.044039249420166016,0.12075848877429962],\"y\":[0.0072920843958854675,0.33523445576429367],\"z\":[0.17711162567138672,1.1073241829872131],\"type\":\"scatter3d\"},{\"line\":{\"color\":\"#FFFACD\",\"width\":1},\"mode\":\"lines\",\"x\":[-0.044039249420166016,0.014249466359615326],\"y\":[0.0072920843958854675,0.3450356051325798],\"z\":[0.17711162567138672,1.116543173789978],\"type\":\"scatter3d\"},{\"line\":{\"color\":\"#FFFACD\",\"width\":1},\"mode\":\"lines\",\"x\":[-0.044039249420166016,-0.08986610919237137],\"y\":[0.0072920843958854675,0.35082995146512985],\"z\":[0.17711162567138672,1.1151316165924072],\"type\":\"scatter3d\"},{\"line\":{\"color\":\"#FFFACD\",\"width\":1},\"mode\":\"lines\",\"x\":[-0.044039249420166016,-0.18847092986106873],\"y\":[0.0072920843958854675,0.35287492722272873],\"z\":[0.17711162567138672,1.1043181419372559],\"type\":\"scatter3d\"},{\"line\":{\"color\":\"#FFFACD\",\"width\":1},\"mode\":\"lines\",\"x\":[-0.044039249420166016,0.4325026571750641],\"y\":[0.0072920843958854675,0.31665604561567307],\"z\":[0.17711162567138672,1.0000342726707458],\"type\":\"scatter3d\"},{\"line\":{\"color\":\"#FFFACD\",\"width\":1},\"mode\":\"lines\",\"x\":[-0.044039249420166016,0.3424609303474426],\"y\":[0.0072920843958854675,0.3370749279856682],\"z\":[0.17711162567138672,1.0384250283241272],\"type\":\"scatter3d\"},{\"line\":{\"color\":\"#FFFACD\",\"width\":1},\"mode\":\"lines\",\"x\":[-0.044039249420166016,0.24452635645866394],\"y\":[0.0072920843958854675,0.35484301298856735],\"z\":[0.17711162567138672,1.0692653059959412],\"type\":\"scatter3d\"},{\"line\":{\"color\":\"#FFFACD\",\"width\":1},\"mode\":\"lines\",\"x\":[-0.044039249420166016,0.1413734257221222],\"y\":[0.0072920843958854675,0.3690822646021843],\"z\":[0.17711162567138672,1.0907471776008606],\"type\":\"scatter3d\"},{\"line\":{\"color\":\"#FFFACD\",\"width\":1},\"mode\":\"lines\",\"x\":[-0.044039249420166016,0.03635968267917633],\"y\":[0.0072920843958854675,0.3792136535048485],\"z\":[0.17711162567138672,1.1018874049186707],\"type\":\"scatter3d\"},{\"line\":{\"color\":\"#ADD8E6\",\"width\":1},\"mode\":\"lines\",\"x\":[0.2703942358493805,0.35540347546339035],\"y\":[-0.14596259593963623,-0.5558131039142609],\"z\":[-0.17638254165649414,0.7318003177642822],\"type\":\"scatter3d\"},{\"line\":{\"color\":\"#ADD8E6\",\"width\":1},\"mode\":\"lines\",\"x\":[0.2703942358493805,0.9101478159427643],\"y\":[-0.14596259593963623,-0.5932040214538574],\"z\":[-0.17638254165649414,0.4486698508262634],\"type\":\"scatter3d\"},{\"line\":{\"color\":\"#ADD8E6\",\"width\":1},\"mode\":\"lines\",\"x\":[0.2703942358493805,0.835344523191452],\"y\":[-0.14596259593963623,-0.593966156244278],\"z\":[-0.17638254165649414,0.5165272951126099],\"type\":\"scatter3d\"},{\"line\":{\"color\":\"#ADD8E6\",\"width\":1},\"mode\":\"lines\",\"x\":[0.2703942358493805,0.7514390647411346],\"y\":[-0.14596259593963623,-0.5899107456207275],\"z\":[-0.17638254165649414,0.5795975923538208],\"type\":\"scatter3d\"},{\"line\":{\"color\":\"#ADD8E6\",\"width\":1},\"mode\":\"lines\",\"x\":[0.2703942358493805,0.6605806350708008],\"y\":[-0.14596259593963623,-0.5807515382766724],\"z\":[-0.17638254165649414,0.6352289319038391],\"type\":\"scatter3d\"},{\"line\":{\"color\":\"#ADD8E6\",\"width\":1},\"mode\":\"lines\",\"x\":[0.2703942358493805,0.5657332837581635],\"y\":[-0.14596259593963623,-0.5667014420032501],\"z\":[-0.17638254165649414,0.6813783645629883],\"type\":\"scatter3d\"},{\"line\":{\"color\":\"#ADD8E6\",\"width\":1},\"mode\":\"lines\",\"x\":[0.2703942358493805,0.47021330893039703],\"y\":[-0.14596259593963623,-0.5484531223773956],\"z\":[-0.17638254165649414,0.7169672250747681],\"type\":\"scatter3d\"},{\"line\":{\"color\":\"#ADD8E6\",\"width\":1},\"mode\":\"lines\",\"x\":[0.2703942358493805,0.377144992351532],\"y\":[-0.14596259593963623,-0.5270353853702545],\"z\":[-0.17638254165649414,0.7419790029525757],\"type\":\"scatter3d\"},{\"line\":{\"color\":\"#ADD8E6\",\"width\":1},\"mode\":\"lines\",\"x\":[0.2703942358493805,0.935661107301712],\"y\":[-0.14596259593963623,-0.5590125620365143],\"z\":[-0.17638254165649414,0.44555777311325073],\"type\":\"scatter3d\"},{\"line\":{\"color\":\"#ADD8E6\",\"width\":1},\"mode\":\"lines\",\"x\":[0.2703942358493805,0.8621734082698822],\"y\":[-0.14596259593963623,-0.5598101615905762],\"z\":[-0.17638254165649414,0.5153743624687195],\"type\":\"scatter3d\"},{\"line\":{\"color\":\"#ADD8E6\",\"width\":1},\"mode\":\"lines\",\"x\":[0.2703942358493805,0.7788949906826019],\"y\":[-0.14596259593963623,-0.5561003088951111],\"z\":[-0.17638254165649414,0.5807265043258667],\"type\":\"scatter3d\"},{\"line\":{\"color\":\"#ADD8E6\",\"width\":1},\"mode\":\"lines\",\"x\":[0.2703942358493805,0.687849372625351],\"y\":[-0.14596259593963623,-0.5475491881370544],\"z\":[-0.17638254165649414,0.6387612819671631],\"type\":\"scatter3d\"},{\"line\":{\"color\":\"#ADD8E6\",\"width\":1},\"mode\":\"lines\",\"x\":[0.2703942358493805,0.5920005142688751],\"y\":[-0.14596259593963623,-0.5343021750450134],\"z\":[-0.17638254165649414,0.6871924996376038],\"type\":\"scatter3d\"},{\"line\":{\"color\":\"#ADD8E6\",\"width\":1},\"mode\":\"lines\",\"x\":[0.2703942358493805,0.4947948157787323],\"y\":[-0.14596259593963623,-0.5169838070869446],\"z\":[-0.17638254165649414,0.7247210741043091],\"type\":\"scatter3d\"},{\"line\":{\"color\":\"#ADD8E6\",\"width\":1},\"mode\":\"lines\",\"x\":[0.2703942358493805,0.3995751738548279],\"y\":[-0.14596259593963623,-0.49656903743743896],\"z\":[-0.17638254165649414,0.7511882185935974],\"type\":\"scatter3d\"},{\"line\":{\"color\":\"#ADD8E6\",\"width\":1},\"mode\":\"lines\",\"x\":[0.2703942358493805,0.9602875411510468],\"y\":[-0.14596259593963623,-0.5235723853111267],\"z\":[-0.17638254165649414,0.4412403702735901],\"type\":\"scatter3d\"},{\"line\":{\"color\":\"#ADD8E6\",\"width\":1},\"mode\":\"lines\",\"x\":[0.2703942358493805,0.8883555829524994],\"y\":[-0.14596259593963623,-0.5242118835449219],\"z\":[-0.17638254165649414,0.5128571391105652],\"type\":\"scatter3d\"},{\"line\":{\"color\":\"#ADD8E6\",\"width\":1},\"mode\":\"lines\",\"x\":[0.2703942358493805,0.8059960305690765],\"y\":[-0.14596259593963623,-0.5206897854804993],\"z\":[-0.17638254165649414,0.5803937315940857],\"type\":\"scatter3d\"},{\"line\":{\"color\":\"#ADD8E6\",\"width\":1},\"mode\":\"lines\",\"x\":[0.2703942358493805,0.7150710821151733],\"y\":[-0.14596259593963623,-0.512641578912735],\"z\":[-0.17638254165649414,0.6408133506774902],\"type\":\"scatter3d\"},{\"line\":{\"color\":\"#ADD8E6\",\"width\":1},\"mode\":\"lines\",\"x\":[0.2703942358493805,0.6185033917427063],\"y\":[-0.14596259593963623,-0.5001530349254608],\"z\":[-0.17638254165649414,0.691585898399353],\"type\":\"scatter3d\"},{\"line\":{\"color\":\"#ADD8E6\",\"width\":1},\"mode\":\"lines\",\"x\":[0.2703942358493805,0.519836887717247],\"y\":[-0.14596259593963623,-0.48377829790115356],\"z\":[-0.17638254165649414,0.7311740517616272],\"type\":\"scatter3d\"},{\"line\":{\"color\":\"#ADD8E6\",\"width\":1},\"mode\":\"lines\",\"x\":[0.2703942358493805,0.42261838912963867],\"y\":[-0.14596259593963623,-0.4644281566143036],\"z\":[-0.17638254165649414,0.7592496275901794],\"type\":\"scatter3d\"},{\"line\":{\"color\":\"#ADD8E6\",\"width\":1},\"mode\":\"lines\",\"x\":[0.2703942358493805,0.9838481247425079],\"y\":[-0.14596259593963623,-0.48704850673675537],\"z\":[-0.17638254165649414,0.43569910526275635],\"type\":\"scatter3d\"},{\"line\":{\"color\":\"#ADD8E6\",\"width\":1},\"mode\":\"lines\",\"x\":[0.2703942358493805,0.9136893451213837],\"y\":[-0.14596259593963623,-0.4873265326023102],\"z\":[-0.17638254165649414,0.5089218616485596],\"type\":\"scatter3d\"},{\"line\":{\"color\":\"#ADD8E6\",\"width\":1},\"mode\":\"lines\",\"x\":[0.2703942358493805,0.8325330913066864],\"y\":[-0.14596259593963623,-0.4838159382343292],\"z\":[-0.17638254165649414,0.5785049200057983],\"type\":\"scatter3d\"},{\"line\":{\"color\":\"#ADD8E6\",\"width\":1},\"mode\":\"lines\",\"x\":[0.2703942358493805,0.7420475482940674],\"y\":[-0.14596259593963623,-0.4761411249637604],\"z\":[-0.17638254165649414,0.6412514448165894],\"type\":\"scatter3d\"},{\"line\":{\"color\":\"#ADD8E6\",\"width\":1},\"mode\":\"lines\",\"x\":[0.2703942358493805,0.6450707912445068],\"y\":[-0.14596259593963623,-0.46434032917022705],\"z\":[-0.17638254165649414,0.6943947672843933],\"type\":\"scatter3d\"},{\"line\":{\"color\":\"#ADD8E6\",\"width\":1},\"mode\":\"lines\",\"x\":[0.2703942358493805,0.5452054738998413],\"y\":[-0.14596259593963623,-0.44889897108078003],\"z\":[-0.17638254165649414,0.7361460328102112],\"type\":\"scatter3d\"},{\"line\":{\"color\":\"#ADD8E6\",\"width\":1},\"mode\":\"lines\",\"x\":[0.2703942358493805,0.4461796283721924],\"y\":[-0.14596259593963623,-0.43065568804740906],\"z\":[-0.17638254165649414,0.7659811973571777],\"type\":\"scatter3d\"},{\"line\":{\"color\":\"#ADD8E6\",\"width\":1},\"mode\":\"lines\",\"x\":[0.2703942358493805,1.0061765015125275],\"y\":[-0.14596259593963623,-0.44962990283966064],\"z\":[-0.17638254165649414,0.42893606424331665],\"type\":\"scatter3d\"},{\"line\":{\"color\":\"#ADD8E6\",\"width\":1},\"mode\":\"lines\",\"x\":[0.2703942358493805,0.9379792511463165],\"y\":[-0.14596259593963623,-0.44933995604515076],\"z\":[-0.17638254165649414,0.5035383701324463],\"type\":\"scatter3d\"},{\"line\":{\"color\":\"#ADD8E6\",\"width\":1},\"mode\":\"lines\",\"x\":[0.2703942358493805,0.8582949340343475],\"y\":[-0.14596259593963623,-0.44565150141716003],\"z\":[-0.17638254165649414,0.5749891400337219],\"type\":\"scatter3d\"},{\"line\":{\"color\":\"#ADD8E6\",\"width\":1},\"mode\":\"lines\",\"x\":[0.2703942358493805,0.768569827079773],\"y\":[-0.14596259593963623,-0.4381990134716034],\"z\":[-0.17638254165649414,0.639962375164032],\"type\":\"scatter3d\"},{\"line\":{\"color\":\"#ADD8E6\",\"width\":1},\"mode\":\"lines\",\"x\":[0.2703942358493805,0.6715147495269775],\"y\":[-0.14596259593963623,-0.42698919773101807],\"z\":[-0.17638254165649414,0.6954697966575623],\"type\":\"scatter3d\"},{\"line\":{\"color\":\"#ADD8E6\",\"width\":1},\"mode\":\"lines\",\"x\":[0.2703942358493805,0.5707467496395111],\"y\":[-0.14596259593963623,-0.41244444251060486],\"z\":[-0.17638254165649414,0.739464521408081],\"type\":\"scatter3d\"},{\"line\":{\"color\":\"#ADD8E6\",\"width\":1},\"mode\":\"lines\",\"x\":[0.2703942358493805,0.47014445066452026],\"y\":[-0.14596259593963623,-0.3953269124031067],\"z\":[-0.17638254165649414,0.7712024450302124],\"type\":\"scatter3d\"},{\"line\":{\"color\":\"#ADD8E6\",\"width\":1},\"mode\":\"lines\",\"x\":[0.2703942358493805,1.0271247923374176],\"y\":[-0.14596259593963623,-0.41152480244636536],\"z\":[-0.17638254165649414,0.42097461223602295],\"type\":\"scatter3d\"},{\"line\":{\"color\":\"#ADD8E6\",\"width\":1},\"mode\":\"lines\",\"x\":[0.2703942358493805,0.9610429108142853],\"y\":[-0.14596259593963623,-0.4104646146297455],\"z\":[-0.17638254165649414,0.4967021942138672],\"type\":\"scatter3d\"},{\"line\":{\"color\":\"#ADD8E6\",\"width\":1},\"mode\":\"lines\",\"x\":[0.2703942358493805,0.8830749094486237],\"y\":[-0.14596259593963623,-0.4064023196697235],\"z\":[-0.17638254165649414,0.5698034763336182],\"type\":\"scatter3d\"},{\"line\":{\"color\":\"#ADD8E6\",\"width\":1},\"mode\":\"lines\",\"x\":[0.2703942358493805,0.7944246232509613],\"y\":[-0.14596259593963623,-0.3990042805671692],\"z\":[-0.17638254165649414,0.6368591785430908],\"type\":\"scatter3d\"},{\"line\":{\"color\":\"#ADD8E6\",\"width\":1},\"mode\":\"lines\",\"x\":[0.2703942358493805,0.6976348459720612],\"y\":[-0.14596259593963623,-0.3882642090320587],\"z\":[-0.17638254165649414,0.6946831345558167],\"type\":\"scatter3d\"},{\"line\":{\"color\":\"#ADD8E6\",\"width\":1},\"mode\":\"lines\",\"x\":[0.2703942358493805,0.5962895750999451],\"y\":[-0.14596259593963623,-0.3745516836643219],\"z\":[-0.17638254165649414,0.7409719824790955],\"type\":\"scatter3d\"},{\"line\":{\"color\":\"#ADD8E6\",\"width\":1},\"mode\":\"lines\",\"x\":[0.2703942358493805,0.49437975883483887],\"y\":[-0.14596259593963623,-0.3585518002510071],\"z\":[-0.17638254165649414,0.7747412323951721],\"type\":\"scatter3d\"},{\"line\":{\"color\":\"#ADD8E6\",\"width\":1},\"mode\":\"lines\",\"x\":[0.2703942358493805,0.3955785930156708],\"y\":[-0.14596259593963623,-0.34111712872982025],\"z\":[-0.17638254165649414,0.7963680028915405],\"type\":\"scatter3d\"},{\"line\":{\"color\":\"#ADD8E6\",\"width\":1},\"mode\":\"lines\",\"x\":[0.2703942358493805,0.9827171266078949],\"y\":[-0.14596259593963623,-0.37093396484851837],\"z\":[-0.17638254165649414,0.4884362816810608],\"type\":\"scatter3d\"},{\"line\":{\"color\":\"#ADD8E6\",\"width\":1},\"mode\":\"lines\",\"x\":[0.2703942358493805,0.9066785871982574],\"y\":[-0.14596259593963623,-0.3663027882575989],\"z\":[-0.17638254165649414,0.5629363656044006],\"type\":\"scatter3d\"},{\"line\":{\"color\":\"#ADD8E6\",\"width\":1},\"mode\":\"lines\",\"x\":[0.2703942358493805,0.8194012939929962],\"y\":[-0.14596259593963623,-0.3587803542613983],\"z\":[-0.17638254165649414,0.6318871378898621],\"type\":\"scatter3d\"},{\"line\":{\"color\":\"#ADD8E6\",\"width\":1},\"mode\":\"lines\",\"x\":[0.2703942358493805,0.7232243418693542],\"y\":[-0.14596259593963623,-0.3483677804470062],\"z\":[-0.17638254165649414,0.6919360160827637],\"type\":\"scatter3d\"},{\"line\":{\"color\":\"#ADD8E6\",\"width\":1},\"mode\":\"lines\",\"x\":[0.2703942358493805,0.6216495931148529],\"y\":[-0.14596259593963623,-0.33539578318595886],\"z\":[-0.17638254165649414,0.7405333518981934],\"type\":\"scatter3d\"},{\"line\":{\"color\":\"#ADD8E6\",\"width\":1},\"mode\":\"lines\",\"x\":[0.2703942358493805,0.5187357515096664],\"y\":[-0.14596259593963623,-0.32047638297080994],\"z\":[-0.17638254165649414,0.7764403820037842],\"type\":\"scatter3d\"},{\"line\":{\"color\":\"#ADD8E6\",\"width\":1},\"mode\":\"lines\",\"x\":[0.2703942358493805,0.4183419942855835],\"y\":[-0.14596259593963623,-0.3043733388185501],\"z\":[-0.17638254165649414,0.7998436093330383],\"type\":\"scatter3d\"},{\"line\":{\"color\":\"#ADD8E6\",\"width\":1},\"mode\":\"lines\",\"x\":[0.2703942358493805,1.002863496541977],\"y\":[-0.14596259593963623,-0.3309955894947052],\"z\":[-0.17638254165649414,0.47879040241241455],\"type\":\"scatter3d\"},{\"line\":{\"color\":\"#ADD8E6\",\"width\":1},\"mode\":\"lines\",\"x\":[0.2703942358493805,0.9289308488368988],\"y\":[-0.14596259593963623,-0.32560913264751434],\"z\":[-0.17638254165649414,0.5544092655181885],\"type\":\"scatter3d\"},{\"line\":{\"color\":\"#ADD8E6\",\"width\":1},\"mode\":\"lines\",\"x\":[0.2703942358493805,0.8432997763156891],\"y\":[-0.14596259593963623,-0.31777969002723694],\"z\":[-0.17638254165649414,0.6250275373458862],\"type\":\"scatter3d\"},{\"line\":{\"color\":\"#ADD8E6\",\"width\":1},\"mode\":\"lines\",\"x\":[0.2703942358493805,0.7480767965316772],\"y\":[-0.14596259593963623,-0.30753639340400696],\"z\":[-0.17638254165649414,0.6871644258499146],\"type\":\"scatter3d\"},{\"line\":{\"color\":\"#ADD8E6\",\"width\":1},\"mode\":\"lines\",\"x\":[0.2703942358493805,0.6466343104839325],\"y\":[-0.14596259593963623,-0.2951880544424057],\"z\":[-0.17638254165649414,0.7380436062812805],\"type\":\"scatter3d\"},{\"line\":{\"color\":\"#ADD8E6\",\"width\":1},\"mode\":\"lines\",\"x\":[0.2703942358493805,0.5430490970611572],\"y\":[-0.14596259593963623,-0.2812820374965668],\"z\":[-0.17638254165649414,0.7761656641960144],\"type\":\"scatter3d\"},{\"line\":{\"color\":\"#ADD8E6\",\"width\":1},\"mode\":\"lines\",\"x\":[0.2703942358493805,0.4413314610719681],\"y\":[-0.14596259593963623,-0.26649220287799835],\"z\":[-0.17638254165649414,0.8014994263648987],\"type\":\"scatter3d\"},{\"line\":{\"color\":\"#ADD8E6\",\"width\":1},\"mode\":\"lines\",\"x\":[0.2703942358493805,1.0213731825351715],\"y\":[-0.14596259593963623,-0.29090355336666107],\"z\":[-0.17638254165649414,0.4678400754928589],\"type\":\"scatter3d\"},{\"line\":{\"color\":\"#ADD8E6\",\"width\":1},\"mode\":\"lines\",\"x\":[0.2703942358493805,0.9496819078922272],\"y\":[-0.14596259593963623,-0.2845913767814636],\"z\":[-0.17638254165649414,0.5442770719528198],\"type\":\"scatter3d\"},{\"line\":{\"color\":\"#ADD8E6\",\"width\":1},\"mode\":\"lines\",\"x\":[0.2703942358493805,0.8659377992153168],\"y\":[-0.14596259593963623,-0.27627621591091156],\"z\":[-0.17638254165649414,0.6163004040718079],\"type\":\"scatter3d\"},{\"line\":{\"color\":\"#ADD8E6\",\"width\":1},\"mode\":\"lines\",\"x\":[0.2703942358493805,0.7719937860965729],\"y\":[-0.14596259593963623,-0.26603446155786514],\"z\":[-0.17638254165649414,0.6803441643714905],\"type\":\"scatter3d\"},{\"line\":{\"color\":\"#ADD8E6\",\"width\":1},\"mode\":\"lines\",\"x\":[0.2703942358493805,0.6710492372512817],\"y\":[-0.14596259593963623,-0.2541716545820236],\"z\":[-0.17638254165649414,0.7334341406822205],\"type\":\"scatter3d\"},{\"line\":{\"color\":\"#ADD8E6\",\"width\":1},\"mode\":\"lines\",\"x\":[0.2703942358493805,0.5671471953392029],\"y\":[-0.14596259593963623,-0.24118302762508392],\"z\":[-0.17638254165649414,0.7738125920295715],\"type\":\"scatter3d\"},{\"line\":{\"color\":\"#ADD8E6\",\"width\":1},\"mode\":\"lines\",\"x\":[0.2703942358493805,0.46440695226192474],\"y\":[-0.14596259593963623,-0.22765609622001648],\"z\":[-0.17638254165649414,0.801209032535553],\"type\":\"scatter3d\"},{\"line\":{\"color\":\"#ADD8E6\",\"width\":1},\"mode\":\"lines\",\"x\":[0.2703942358493805,1.038169115781784],\"y\":[-0.14596259593963623,-0.25091036409139633],\"z\":[-0.17638254165649414,0.4556836485862732],\"type\":\"scatter3d\"},{\"line\":{\"color\":\"#ADD8E6\",\"width\":1},\"mode\":\"lines\",\"x\":[0.2703942358493805,0.9688127934932709],\"y\":[-0.14596259593963623,-0.24352456629276276],\"z\":[-0.17638254165649414,0.5326260328292847],\"type\":\"scatter3d\"},{\"line\":{\"color\":\"#ADD8E6\",\"width\":1},\"mode\":\"lines\",\"x\":[0.2703942358493805,0.8871577680110931],\"y\":[-0.14596259593963623,-0.2345564067363739],\"z\":[-0.17638254165649414,0.6057644486427307],\"type\":\"scatter3d\"},{\"line\":{\"color\":\"#ADD8E6\",\"width\":1},\"mode\":\"lines\",\"x\":[0.2703942358493805,0.7947921454906464],\"y\":[-0.14596259593963623,-0.22414622455835342],\"z\":[-0.17638254165649414,0.6714937686920166],\"type\":\"scatter3d\"},{\"line\":{\"color\":\"#ADD8E6\",\"width\":1},\"mode\":\"lines\",\"x\":[0.2703942358493805,0.6947048604488373],\"y\":[-0.14596259593963623,-0.21261510252952576],\"z\":[-0.17638254165649414,0.7266777753829956],\"type\":\"scatter3d\"},{\"line\":{\"color\":\"#ADD8E6\",\"width\":1},\"mode\":\"lines\",\"x\":[0.2703942358493805,0.5908534526824951],\"y\":[-0.14596259593963623,-0.2004217989742756],\"z\":[-0.17638254165649414,0.7693130373954773],\"type\":\"scatter3d\"},{\"line\":{\"color\":\"#ADD8E6\",\"width\":1},\"mode\":\"lines\",\"x\":[0.2703942358493805,0.48741862177848816],\"y\":[-0.14596259593963623,-0.18807578086853027],\"z\":[-0.17638254165649414,0.7988748550415039],\"type\":\"scatter3d\"},{\"line\":{\"color\":\"#ADD8E6\",\"width\":1},\"mode\":\"lines\",\"x\":[0.2703942358493805,1.0532077252864838],\"y\":[-0.14596259593963623,-0.2112593725323677],\"z\":[-0.17638254165649414,0.44243836402893066],\"type\":\"scatter3d\"},{\"line\":{\"color\":\"#ADD8E6\",\"width\":1},\"mode\":\"lines\",\"x\":[0.2703942358493805,0.9862382113933563],\"y\":[-0.14596259593963623,-0.202679555863142],\"z\":[-0.17638254165649414,0.5195704698562622],\"type\":\"scatter3d\"},{\"line\":{\"color\":\"#ADD8E6\",\"width\":1},\"mode\":\"lines\",\"x\":[0.2703942358493805,0.9068323075771332],\"y\":[-0.14596259593963623,-0.19290948286652565],\"z\":[-0.17638254165649414,0.5935152173042297],\"type\":\"scatter3d\"},{\"line\":{\"color\":\"#ADD8E6\",\"width\":1},\"mode\":\"lines\",\"x\":[0.2703942358493805,0.8163109719753265],\"y\":[-0.14596259593963623,-0.1821661740541458],\"z\":[-0.17638254165649414,0.6606743335723877],\"type\":\"scatter3d\"},{\"line\":{\"color\":\"#ADD8E6\",\"width\":1},\"mode\":\"lines\",\"x\":[0.2703942358493805,0.7174235284328461],\"y\":[-0.14596259593963623,-0.17080392688512802],\"z\":[-0.17638254165649414,0.7177917957305908],\"type\":\"scatter3d\"},{\"line\":{\"color\":\"#ADD8E6\",\"width\":1},\"mode\":\"lines\",\"x\":[0.2703942358493805,0.6139931380748749],\"y\":[-0.14596259593963623,-0.1592624755576253],\"z\":[-0.17638254165649414,0.7626398205757141],\"type\":\"scatter3d\"},{\"line\":{\"color\":\"#ADD8E6\",\"width\":1},\"mode\":\"lines\",\"x\":[0.2703942358493805,0.5102109760046005],\"y\":[-0.14596259593963623,-0.1479857312515378],\"z\":[-0.17638254165649414,0.7944335341453552],\"type\":\"scatter3d\"},{\"line\":{\"color\":\"#ADD8E6\",\"width\":1},\"mode\":\"lines\",\"x\":[0.2703942358493805,0.40986356139183044],\"y\":[-0.14596259593963623,-0.13734385836869478],\"z\":[-0.17638254165649414,0.8138063549995422],\"type\":\"scatter3d\"},{\"line\":{\"color\":\"#ADD8E6\",\"width\":1},\"mode\":\"lines\",\"x\":[0.2703942358493805,1.0019080936908722],\"y\":[-0.14596259593963623,-0.16231453604996204],\"z\":[-0.17638254165649414,0.5052478909492493],\"type\":\"scatter3d\"},{\"line\":{\"color\":\"#ADD8E6\",\"width\":1},\"mode\":\"lines\",\"x\":[0.2703942358493805,0.9248677790164948],\"y\":[-0.14596259593963623,-0.15161748975515366],\"z\":[-0.17638254165649414,0.5796812176704407],\"type\":\"scatter3d\"},{\"line\":{\"color\":\"#ADD8E6\",\"width\":1},\"mode\":\"lines\",\"x\":[0.2703942358493805,0.83641716837883],\"y\":[-0.14596259593963623,-0.14038882264867425],\"z\":[-0.17638254165649414,0.6479881405830383],\"type\":\"scatter3d\"},{\"line\":{\"color\":\"#ADD8E6\",\"width\":1},\"mode\":\"lines\",\"x\":[0.2703942358493805,0.7390460073947906],\"y\":[-0.14596259593963623,-0.1290310025215149],\"z\":[-0.17638254165649414,0.7068381905555725],\"type\":\"scatter3d\"},{\"line\":{\"color\":\"#ADD8E6\",\"width\":1},\"mode\":\"lines\",\"x\":[0.2703942358493805,0.6363995671272278],\"y\":[-0.14596259593963623,-0.11798266135156155],\"z\":[-0.17638254165649414,0.7538095116615295],\"type\":\"scatter3d\"},{\"line\":{\"color\":\"#ADD8E6\",\"width\":1},\"mode\":\"lines\",\"x\":[0.2703942358493805,0.5326277911663055],\"y\":[-0.14596259593963623,-0.10763783752918243],\"z\":[-0.17638254165649414,0.7878605723381042],\"type\":\"scatter3d\"},{\"line\":{\"color\":\"#ADD8E6\",\"width\":1},\"mode\":\"lines\",\"x\":[0.2703942358493805,0.43161074817180634],\"y\":[-0.14596259593963623,-0.09828108921647072],\"z\":[-0.17638254165649414,0.8093840479850769],\"type\":\"scatter3d\"},{\"line\":{\"color\":\"#ADD8E6\",\"width\":1},\"mode\":\"lines\",\"x\":[0.2703942358493805,1.0158070623874664],\"y\":[-0.14596259593963623,-0.12266748026013374],\"z\":[-0.17638254165649414,0.4898133873939514],\"type\":\"scatter3d\"},{\"line\":{\"color\":\"#ADD8E6\",\"width\":1},\"mode\":\"lines\",\"x\":[0.2703942358493805,0.9412059485912323],\"y\":[-0.14596259593963623,-0.11094621568918228],\"z\":[-0.17638254165649414,0.5644180178642273],\"type\":\"scatter3d\"},{\"line\":{\"color\":\"#ADD8E6\",\"width\":1},\"mode\":\"lines\",\"x\":[0.2703942358493805,0.8550094068050385],\"y\":[-0.14596259593963623,-0.09909852966666222],\"z\":[-0.17638254165649414,0.6335735321044922],\"type\":\"scatter3d\"},{\"line\":{\"color\":\"#ADD8E6\",\"width\":1},\"mode\":\"lines\",\"x\":[0.2703942358493805,0.7594369649887085],\"y\":[-0.14596259593963623,-0.0875864140689373],\"z\":[-0.17638254165649414,0.693921685218811],\"type\":\"scatter3d\"},{\"line\":{\"color\":\"#ADD8E6\",\"width\":1},\"mode\":\"lines\",\"x\":[0.2703942358493805,0.6579199731349945],\"y\":[-0.14596259593963623,-0.07686424255371094],\"z\":[-0.17638254165649414,0.7428830862045288],\"type\":\"scatter3d\"},{\"line\":{\"color\":\"#ADD8E6\",\"width\":1},\"mode\":\"lines\",\"x\":[0.2703942358493805,0.5545171797275543],\"y\":[-0.14596259593963623,-0.06729381531476974],\"z\":[-0.17638254165649414,0.7791724801063538],\"type\":\"scatter3d\"},{\"line\":{\"color\":\"#ADD8E6\",\"width\":1},\"mode\":\"lines\",\"x\":[0.2703942358493805,0.4531564265489578],\"y\":[-0.14596259593963623,-0.05908774584531784],\"z\":[-0.17638254165649414,0.8029288649559021],\"type\":\"scatter3d\"},{\"line\":{\"color\":\"#ADD8E6\",\"width\":1},\"mode\":\"lines\",\"x\":[0.2703942358493805,1.0279522240161896],\"y\":[-0.14596259593963623,-0.08395026624202728],\"z\":[-0.17638254165649414,0.47343307733535767],\"type\":\"scatter3d\"},{\"line\":{\"color\":\"#ADD8E6\",\"width\":1},\"mode\":\"lines\",\"x\":[0.2703942358493805,0.9558239877223969],\"y\":[-0.14596259593963623,-0.07113738358020782],\"z\":[-0.17638254165649414,0.5479013919830322],\"type\":\"scatter3d\"},{\"line\":{\"color\":\"#ADD8E6\",\"width\":1},\"mode\":\"lines\",\"x\":[0.2703942358493805,0.8720202744007111],\"y\":[-0.14596259593963623,-0.058560267090797424],\"z\":[-0.17638254165649414,0.6175991296768188],\"type\":\"scatter3d\"},{\"line\":{\"color\":\"#ADD8E6\",\"width\":1},\"mode\":\"lines\",\"x\":[0.2703942358493805,0.7784891426563263],\"y\":[-0.14596259593963623,-0.046747542917728424],\"z\":[-0.17638254165649414,0.6791850924491882],\"type\":\"scatter3d\"},{\"line\":{\"color\":\"#ADD8E6\",\"width\":1},\"mode\":\"lines\",\"x\":[0.2703942358493805,0.6784206032752991],\"y\":[-0.14596259593963623,-0.036183834075927734],\"z\":[-0.17638254165649414,0.729963481426239],\"type\":\"scatter3d\"},{\"line\":{\"color\":\"#ADD8E6\",\"width\":1},\"mode\":\"lines\",\"x\":[0.2703942358493805,0.5757366418838501],\"y\":[-0.14596259593963623,-0.027216844260692596],\"z\":[-0.17638254165649414,0.7684271931648254],\"type\":\"scatter3d\"},{\"line\":{\"color\":\"#ADD8E6\",\"width\":1},\"mode\":\"lines\",\"x\":[0.2703942358493805,0.4743654876947403],\"y\":[-0.14596259593963623,-0.02000392973423004],\"z\":[-0.17638254165649414,0.7944573760032654],\"type\":\"scatter3d\"},{\"line\":{\"color\":\"#ADD8E6\",\"width\":1},\"mode\":\"lines\",\"x\":[0.2703942358493805,1.0383895337581635],\"y\":[-0.14596259593963623,-0.046344541013240814],\"z\":[-0.17638254165649414,0.4562780261039734],\"type\":\"scatter3d\"},{\"line\":{\"color\":\"#ADD8E6\",\"width\":1},\"mode\":\"lines\",\"x\":[0.2703942358493805,0.9687319099903107],\"y\":[-0.14596259593963623,-0.03240270912647247],\"z\":[-0.17638254165649414,0.5303201079368591],\"type\":\"scatter3d\"},{\"line\":{\"color\":\"#ADD8E6\",\"width\":1},\"mode\":\"lines\",\"x\":[0.2703942358493805,0.887416273355484],\"y\":[-0.14596259593963623,-0.019011929631233215],\"z\":[-0.17638254165649414,0.6002559661865234],\"type\":\"scatter3d\"},{\"line\":{\"color\":\"#ADD8E6\",\"width\":1},\"mode\":\"lines\",\"x\":[0.2703942358493805,0.7961256206035614],\"y\":[-0.14596259593963623,-0.006770223379135132],\"z\":[-0.17638254165649414,0.6628027558326721],\"type\":\"scatter3d\"},{\"line\":{\"color\":\"#ADD8E6\",\"width\":1},\"mode\":\"lines\",\"x\":[0.2703942358493805,0.6977908909320831],\"y\":[-0.14596259593963623,0.0037963390350341797],\"z\":[-0.17638254165649414,0.7151915431022644],\"type\":\"scatter3d\"},{\"line\":{\"color\":\"#ADD8E6\",\"width\":1},\"mode\":\"lines\",\"x\":[0.2703942358493805,0.5961577594280243],\"y\":[-0.14596259593963623,0.012336939573287964],\"z\":[-0.17638254165649414,0.7557222843170166],\"type\":\"scatter3d\"},{\"line\":{\"color\":\"#ADD8E6\",\"width\":1},\"mode\":\"lines\",\"x\":[0.2703942358493805,0.49510833621025085],\"y\":[-0.14596259593963623,0.01873105764389038],\"z\":[-0.17638254165649414,0.7840234041213989],\"type\":\"scatter3d\"},{\"line\":{\"color\":\"#ADD8E6\",\"width\":1},\"mode\":\"lines\",\"x\":[0.2703942358493805,1.0471892654895782],\"y\":[-0.14596259593963623,-0.009999498724937439],\"z\":[-0.17638254165649414,0.4385187029838562],\"type\":\"scatter3d\"},{\"line\":{\"color\":\"#ADD8E6\",\"width\":1},\"mode\":\"lines\",\"x\":[0.2703942358493805,0.9799693524837494],\"y\":[-0.14596259593963623,0.005079939961433411],\"z\":[-0.17638254165649414,0.5118683576583862],\"type\":\"scatter3d\"},{\"line\":{\"color\":\"#ADD8E6\",\"width\":1},\"mode\":\"lines\",\"x\":[0.2703942358493805,0.9011960327625275],\"y\":[-0.14596259593963623,0.01934128999710083],\"z\":[-0.17638254165649414,0.5817491412162781],\"type\":\"scatter3d\"},{\"line\":{\"color\":\"#ADD8E6\",\"width\":1},\"mode\":\"lines\",\"x\":[0.2703942358493805,0.8123007118701935],\"y\":[-0.14596259593963623,0.03211843967437744],\"z\":[-0.17638254165649414,0.6449727416038513],\"type\":\"scatter3d\"},{\"line\":{\"color\":\"#ADD8E6\",\"width\":1},\"mode\":\"lines\",\"x\":[0.2703942358493805,0.7159459888935089],\"y\":[-0.14596259593963623,0.042836517095565796],\"z\":[-0.17638254165649414,0.6987394690513611],\"type\":\"scatter3d\"},{\"line\":{\"color\":\"#ADD8E6\",\"width\":1},\"mode\":\"lines\",\"x\":[0.2703942358493805,0.6156698763370514],\"y\":[-0.14596259593963623,0.05112648010253906],\"z\":[-0.17638254165649414,0.7411906719207764],\"type\":\"scatter3d\"},{\"line\":{\"color\":\"#ADD8E6\",\"width\":1},\"mode\":\"lines\",\"x\":[0.2703942358493805,0.5152647346258163],\"y\":[-0.14596259593963623,0.056885913014411926],\"z\":[-0.17638254165649414,0.7717160582542419],\"type\":\"scatter3d\"},{\"line\":{\"color\":\"#ADD8E6\",\"width\":1},\"mode\":\"lines\",\"x\":[0.2703942358493805,0.4181288629770279],\"y\":[-0.14596259593963623,0.060264021158218384],\"z\":[-0.17638254165649414,0.7909049391746521],\"type\":\"scatter3d\"},{\"line\":{\"color\":\"#ADD8E6\",\"width\":1},\"mode\":\"lines\",\"x\":[0.2703942358493805,0.9896008670330048],\"y\":[-0.14596259593963623,0.04116836190223694],\"z\":[-0.17638254165649414,0.49273914098739624],\"type\":\"scatter3d\"},{\"line\":{\"color\":\"#ADD8E6\",\"width\":1},\"mode\":\"lines\",\"x\":[0.2703942358493805,0.9133874475955963],\"y\":[-0.14596259593963623,0.056330353021621704],\"z\":[-0.17638254165649414,0.5622901320457458],\"type\":\"scatter3d\"},{\"line\":{\"color\":\"#ADD8E6\",\"width\":1},\"mode\":\"lines\",\"x\":[0.2703942358493805,0.8269985616207123],\"y\":[-0.14596259593963623,0.06972520053386688],\"z\":[-0.17638254165649414,0.6259081959724426],\"type\":\"scatter3d\"},{\"line\":{\"color\":\"#ADD8E6\",\"width\":1},\"mode\":\"lines\",\"x\":[0.2703942358493805,0.7328279316425323],\"y\":[-0.14596259593963623,0.0807257890701294],\"z\":[-0.17638254165649414,0.6808032393455505],\"type\":\"scatter3d\"},{\"line\":{\"color\":\"#ADD8E6\",\"width\":1},\"mode\":\"lines\",\"x\":[0.2703942358493805,0.6341829001903534],\"y\":[-0.14596259593963623,0.0889328271150589],\"z\":[-0.17638254165649414,0.7249952554702759],\"type\":\"scatter3d\"},{\"line\":{\"color\":\"#ADD8E6\",\"width\":1},\"mode\":\"lines\",\"x\":[0.2703942358493805,0.5347273051738739],\"y\":[-0.14596259593963623,0.09424415230751038],\"z\":[-0.17638254165649414,0.7576563954353333],\"type\":\"scatter3d\"},{\"line\":{\"color\":\"#ADD8E6\",\"width\":1},\"mode\":\"lines\",\"x\":[0.2703942358493805,0.43785621225833893],\"y\":[-0.14596259593963623,0.09684154391288757],\"z\":[-0.17638254165649414,0.779129147529602],\"type\":\"scatter3d\"},{\"line\":{\"color\":\"#ADD8E6\",\"width\":1},\"mode\":\"lines\",\"x\":[0.2703942358493805,0.9977106750011444],\"y\":[-0.14596259593963623,0.07575586438179016],\"z\":[-0.17638254165649414,0.47311854362487793],\"type\":\"scatter3d\"},{\"line\":{\"color\":\"#ADD8E6\",\"width\":1},\"mode\":\"lines\",\"x\":[0.2703942358493805,0.9240429699420929],\"y\":[-0.14596259593963623,0.09182360768318176],\"z\":[-0.17638254165649414,0.5420888066291809],\"type\":\"scatter3d\"},{\"line\":{\"color\":\"#ADD8E6\",\"width\":1},\"mode\":\"lines\",\"x\":[0.2703942358493805,0.8402306735515594],\"y\":[-0.14596259593963623,0.10589355230331421],\"z\":[-0.17638254165649414,0.6058290004730225],\"type\":\"scatter3d\"},{\"line\":{\"color\":\"#ADD8E6\",\"width\":1},\"mode\":\"lines\",\"x\":[0.2703942358493805,0.748405396938324],\"y\":[-0.14596259593963623,0.11728659272193909],\"z\":[-0.17638254165649414,0.6615943312644958],\"type\":\"scatter3d\"},{\"line\":{\"color\":\"#ADD8E6\",\"width\":1},\"mode\":\"lines\",\"x\":[0.2703942358493805,0.651628851890564],\"y\":[-0.14596259593963623,0.1255646049976349],\"z\":[-0.17638254165649414,0.7073217034339905],\"type\":\"scatter3d\"},{\"line\":{\"color\":\"#ADD8E6\",\"width\":1},\"mode\":\"lines\",\"x\":[0.2703942358493805,0.5534041523933411],\"y\":[-0.14596259593963623,0.13060998916625977],\"z\":[-0.17638254165649414,0.7419926524162292],\"type\":\"scatter3d\"},{\"line\":{\"color\":\"#ADD8E6\",\"width\":1},\"mode\":\"lines\",\"x\":[0.2703942358493805,0.45708462595939636],\"y\":[-0.14596259593963623,0.13261839747428894],\"z\":[-0.17638254165649414,0.7657105326652527],\"type\":\"scatter3d\"},{\"line\":{\"color\":\"#ADD8E6\",\"width\":1},\"mode\":\"lines\",\"x\":[0.2703942358493805,1.0043977797031403],\"y\":[-0.14596259593963623,0.10876956582069397],\"z\":[-0.17638254165649414,0.45318102836608887],\"type\":\"scatter3d\"},{\"line\":{\"color\":\"#ADD8E6\",\"width\":1},\"mode\":\"lines\",\"x\":[0.2703942358493805,0.9332351982593536],\"y\":[-0.14596259593963623,0.1257261037826538],\"z\":[-0.17638254165649414,0.5213474631309509],\"type\":\"scatter3d\"},{\"line\":{\"color\":\"#ADD8E6\",\"width\":1},\"mode\":\"lines\",\"x\":[0.2703942358493805,0.8520328104496002],\"y\":[-0.14596259593963623,0.14050447940826416],\"z\":[-0.17638254165649414,0.5849539041519165],\"type\":\"scatter3d\"},{\"line\":{\"color\":\"#ADD8E6\",\"width\":1},\"mode\":\"lines\",\"x\":[0.2703942358493805,0.7626719176769257],\"y\":[-0.14596259593963623,0.1523769497871399],\"z\":[-0.17638254165649414,0.6413314938545227],\"type\":\"scatter3d\"},{\"line\":{\"color\":\"#ADD8E6\",\"width\":1},\"mode\":\"lines\",\"x\":[0.2703942358493805,0.6679621934890747],\"y\":[-0.14596259593963623,0.16086167097091675],\"z\":[-0.17638254165649414,0.688370943069458],\"type\":\"scatter3d\"},{\"line\":{\"color\":\"#F08080\",\"width\":1},\"mode\":\"lines\",\"x\":[0.47088950872421265,0.812413901090622],\"y\":[-0.33197179436683655,-0.8005536794662476],\"z\":[-0.22846484184265137,0.5862696170806885],\"type\":\"scatter3d\"},{\"line\":{\"color\":\"#F08080\",\"width\":1},\"mode\":\"lines\",\"x\":[0.47088950872421265,1.2494900822639465],\"y\":[-0.33197179436683655,-0.8380425870418549],\"z\":[-0.22846484184265137,0.14257913827896118],\"type\":\"scatter3d\"},{\"line\":{\"color\":\"#F08080\",\"width\":1},\"mode\":\"lines\",\"x\":[0.47088950872421265,1.1994587182998657],\"y\":[-0.33197179436683655,-0.8406398594379425],\"z\":[-0.22846484184265137,0.23027673363685608],\"type\":\"scatter3d\"},{\"line\":{\"color\":\"#F08080\",\"width\":1},\"mode\":\"lines\",\"x\":[0.47088950872421265,1.1395443677902222],\"y\":[-0.33197179436683655,-0.8378364145755768],\"z\":[-0.22846484184265137,0.3165138363838196],\"type\":\"scatter3d\"},{\"line\":{\"color\":\"#F08080\",\"width\":1},\"mode\":\"lines\",\"x\":[0.47088950872421265,1.0709801316261292],\"y\":[-0.33197179436683655,-0.8292498886585236],\"z\":[-0.22846484184265137,0.3981178402900696],\"type\":\"scatter3d\"},{\"line\":{\"color\":\"#F08080\",\"width\":1},\"mode\":\"lines\",\"x\":[0.47088950872421265,0.995936393737793],\"y\":[-0.33197179436683655,-0.8150603771209717],\"z\":[-0.22846484184265137,0.47221434116363525],\"type\":\"scatter3d\"},{\"line\":{\"color\":\"#F08080\",\"width\":1},\"mode\":\"lines\",\"x\":[0.47088950872421265,0.9171926975250244],\"y\":[-0.33197179436683655,-0.7959985136985779],\"z\":[-0.22846484184265137,0.5367101430892944],\"type\":\"scatter3d\"},{\"line\":{\"color\":\"#F08080\",\"width\":1},\"mode\":\"lines\",\"x\":[0.47088950872421265,0.8376584649085999],\"y\":[-0.33197179436683655,-0.7731906771659851],\"z\":[-0.22846484184265137,0.5905629992485046],\"type\":\"scatter3d\"},{\"line\":{\"color\":\"#F08080\",\"width\":1},\"mode\":\"lines\",\"x\":[0.47088950872421265,1.2744694352149963],\"y\":[-0.33197179436683655,-0.804567277431488],\"z\":[-0.22846484184265137,0.1333540380001068],\"type\":\"scatter3d\"},{\"line\":{\"color\":\"#F08080\",\"width\":1},\"mode\":\"lines\",\"x\":[0.47088950872421265,1.2262925505638123],\"y\":[-0.33197179436683655,-0.8073654770851135],\"z\":[-0.22846484184265137,0.22249770164489746],\"type\":\"scatter3d\"},{\"line\":{\"color\":\"#F08080\",\"width\":1},\"mode\":\"lines\",\"x\":[0.47088950872421265,1.1676632165908813],\"y\":[-0.33197179436683655,-0.8050702512264252],\"z\":[-0.22846484184265137,0.31068670749664307],\"type\":\"scatter3d\"},{\"line\":{\"color\":\"#F08080\",\"width\":1},\"mode\":\"lines\",\"x\":[0.47088950872421265,1.0996354818344116],\"y\":[-0.33197179436683655,-0.7972350716590881],\"z\":[-0.22846484184265137,0.39459913969039917],\"type\":\"scatter3d\"},{\"line\":{\"color\":\"#F08080\",\"width\":1},\"mode\":\"lines\",\"x\":[0.47088950872421265,1.0243076086044312],\"y\":[-0.33197179436683655,-0.7839574217796326],\"z\":[-0.22846484184265137,0.471133291721344],\"type\":\"scatter3d\"},{\"line\":{\"color\":\"#F08080\",\"width\":1},\"mode\":\"lines\",\"x\":[0.47088950872421265,0.9445176720619202],\"y\":[-0.33197179436683655,-0.76589035987854],\"z\":[-0.22846484184265137,0.5379496216773987],\"type\":\"scatter3d\"},{\"line\":{\"color\":\"#F08080\",\"width\":1},\"mode\":\"lines\",\"x\":[0.47088950872421265,0.8633414208889008],\"y\":[-0.33197179436683655,-0.744104653596878],\"z\":[-0.22846484184265137,0.5938052535057068],\"type\":\"scatter3d\"},{\"line\":{\"color\":\"#F08080\",\"width\":1},\"mode\":\"lines\",\"x\":[0.47088950872421265,1.2982961535453796],\"y\":[-0.33197179436683655,-0.7697419822216034],\"z\":[-0.22846484184265137,0.12332427501678467],\"type\":\"scatter3d\"},{\"line\":{\"color\":\"#F08080\",\"width\":1},\"mode\":\"lines\",\"x\":[0.47088950872421265,1.2521620988845825],\"y\":[-0.33197179436683655,-0.7725458145141602],\"z\":[-0.22846484184265137,0.21369776129722595],\"type\":\"scatter3d\"},{\"line\":{\"color\":\"#F08080\",\"width\":1},\"mode\":\"lines\",\"x\":[0.47088950872421265,1.1950727105140686],\"y\":[-0.33197179436683655,-0.7706047594547272],\"z\":[-0.22846484184265137,0.30366289615631104],\"type\":\"scatter3d\"},{\"line\":{\"color\":\"#F08080\",\"width\":1},\"mode\":\"lines\",\"x\":[0.47088950872421265,1.1278732419013977],\"y\":[-0.33197179436683655,-0.7634248435497284],\"z\":[-0.22846484184265137,0.38977521657943726],\"type\":\"scatter3d\"},{\"line\":{\"color\":\"#F08080\",\"width\":1},\"mode\":\"lines\",\"x\":[0.47088950872421265,1.0525502562522888],\"y\":[-0.33197179436683655,-0.7510274648666382],\"z\":[-0.22846484184265137,0.4687175154685974],\"type\":\"scatter3d\"},{\"line\":{\"color\":\"#F08080\",\"width\":1},\"mode\":\"lines\",\"x\":[0.47088950872421265,0.9719641804695129],\"y\":[-0.33197179436683655,-0.7339836657047272],\"z\":[-0.22846484184265137,0.5378972291946411],\"type\":\"scatter3d\"},{\"line\":{\"color\":\"#F08080\",\"width\":1},\"mode\":\"lines\",\"x\":[0.47088950872421265,0.8893349766731262],\"y\":[-0.33197179436683655,-0.7132961452007294],\"z\":[-0.22846484184265137,0.5958501696586609],\"type\":\"scatter3d\"},{\"line\":{\"color\":\"#F08080\",\"width\":1},\"mode\":\"lines\",\"x\":[0.47088950872421265,1.3207861185073853],\"y\":[-0.33197179436683655,-0.7337243854999542],\"z\":[-0.22846484184265137,0.1125200092792511],\"type\":\"scatter3d\"},{\"line\":{\"color\":\"#F08080\",\"width\":1},\"mode\":\"lines\",\"x\":[0.47088950872421265,1.2768514752388],\"y\":[-0.33197179436683655,-0.7363258600234985],\"z\":[-0.22846484184265137,0.20388129353523254],\"type\":\"scatter3d\"},{\"line\":{\"color\":\"#F08080\",\"width\":1},\"mode\":\"lines\",\"x\":[0.47088950872421265,1.2215381860733032],\"y\":[-0.33197179436683655,-0.7345636785030365],\"z\":[-0.22846484184265137,0.29541152715682983],\"type\":\"scatter3d\"},{\"line\":{\"color\":\"#F08080\",\"width\":1},\"mode\":\"lines\",\"x\":[0.47088950872421265,1.155458152294159],\"y\":[-0.33197179436683655,-0.7279164791107178],\"z\":[-0.22846484184265137,0.3835757374763489],\"type\":\"scatter3d\"},{\"line\":{\"color\":\"#F08080\",\"width\":1},\"mode\":\"lines\",\"x\":[0.47088950872421265,1.0804468989372253],\"y\":[-0.33197179436683655,-0.7163407206535339],\"z\":[-0.22846484184265137,0.46486085653305054],\"type\":\"scatter3d\"},{\"line\":{\"color\":\"#F08080\",\"width\":1},\"mode\":\"lines\",\"x\":[0.47088950872421265,0.9993459582328796],\"y\":[-0.33197179436683655,-0.7003248631954193],\"z\":[-0.22846484184265137,0.5364207029342651],\"type\":\"scatter3d\"},{\"line\":{\"color\":\"#F08080\",\"width\":1},\"mode\":\"lines\",\"x\":[0.47088950872421265,0.9154903590679169],\"y\":[-0.33197179436683655,-0.6807934045791626],\"z\":[-0.22846484184265137,0.5965525507926941],\"type\":\"scatter3d\"},{\"line\":{\"color\":\"#F08080\",\"width\":1},\"mode\":\"lines\",\"x\":[0.47088950872421265,1.3417726159095764],\"y\":[-0.33197179436683655,-0.6966977119445801],\"z\":[-0.22846484184265137,0.10098573565483093],\"type\":\"scatter3d\"},{\"line\":{\"color\":\"#F08080\",\"width\":1},\"mode\":\"lines\",\"x\":[0.47088950872421265,1.3001564145088196],\"y\":[-0.33197179436683655,-0.6988827288150787],\"z\":[-0.22846484184265137,0.1930713951587677],\"type\":\"scatter3d\"},{\"line\":{\"color\":\"#F08080\",\"width\":1},\"mode\":\"lines\",\"x\":[0.47088950872421265,1.246828317642212],\"y\":[-0.33197179436683655,-0.6971080005168915],\"z\":[-0.22846484184265137,0.2859227657318115],\"type\":\"scatter3d\"},{\"line\":{\"color\":\"#F08080\",\"width\":1},\"mode\":\"lines\",\"x\":[0.47088950872421265,1.1821491718292236],\"y\":[-0.33197179436683655,-0.6908470094203949],\"z\":[-0.22846484184265137,0.3759508728981018],\"type\":\"scatter3d\"},{\"line\":{\"color\":\"#F08080\",\"width\":1},\"mode\":\"lines\",\"x\":[0.47088950872421265,1.1077663898468018],\"y\":[-0.33197179436683655,-0.6800065636634827],\"z\":[-0.22846484184265137,0.45947396755218506],\"type\":\"scatter3d\"},{\"line\":{\"color\":\"#F08080\",\"width\":1},\"mode\":\"lines\",\"x\":[0.47088950872421265,1.026458501815796],\"y\":[-0.33197179436683655,-0.6649966835975647],\"z\":[-0.22846484184265137,0.5333997011184692],\"type\":\"scatter3d\"},{\"line\":{\"color\":\"#F08080\",\"width\":1},\"mode\":\"lines\",\"x\":[0.47088950872421265,0.9416392147541046],\"y\":[-0.33197179436683655,-0.6466565132141113],\"z\":[-0.22846484184265137,0.5957732200622559],\"type\":\"scatter3d\"},{\"line\":{\"color\":\"#F08080\",\"width\":1},\"mode\":\"lines\",\"x\":[0.47088950872421265,1.3611119985580444],\"y\":[-0.33197179436683655,-0.6588663160800934],\"z\":[-0.22846484184265137,0.0887795090675354],\"type\":\"scatter3d\"},{\"line\":{\"color\":\"#F08080\",\"width\":1},\"mode\":\"lines\",\"x\":[0.47088950872421265,1.3218916654586792],\"y\":[-0.33197179436683655,-0.6604221761226654],\"z\":[-0.22846484184265137,0.18131038546562195],\"type\":\"scatter3d\"},{\"line\":{\"color\":\"#F08080\",\"width\":1},\"mode\":\"lines\",\"x\":[0.47088950872421265,1.2707234025001526],\"y\":[-0.33197179436683655,-0.6584337055683136],\"z\":[-0.22846484184265137,0.27521008253097534],\"type\":\"scatter3d\"},{\"line\":{\"color\":\"#F08080\",\"width\":1},\"mode\":\"lines\",\"x\":[0.47088950872421265,1.2077072858810425],\"y\":[-0.33197179436683655,-0.6523925065994263],\"z\":[-0.22846484184265137,0.3668755292892456],\"type\":\"scatter3d\"},{\"line\":{\"color\":\"#F08080\",\"width\":1},\"mode\":\"lines\",\"x\":[0.47088950872421265,1.1342706680297852],\"y\":[-0.33197179436683655,-0.642174631357193],\"z\":[-0.22846484184265137,0.4524902105331421],\"type\":\"scatter3d\"},{\"line\":{\"color\":\"#F08080\",\"width\":1},\"mode\":\"lines\",\"x\":[0.47088950872421265,1.0530837178230286],\"y\":[-0.33197179436683655,-0.6281202137470245],\"z\":[-0.22846484184265137,0.5287313461303711],\"type\":\"scatter3d\"},{\"line\":{\"color\":\"#F08080\",\"width\":1},\"mode\":\"lines\",\"x\":[0.47088950872421265,0.9675962626934052],\"y\":[-0.33197179436683655,-0.6109800636768341],\"z\":[-0.22846484184265137,0.593384861946106],\"type\":\"scatter3d\"},{\"line\":{\"color\":\"#F08080\",\"width\":1},\"mode\":\"lines\",\"x\":[0.47088950872421265,0.8813696503639221],\"y\":[-0.33197179436683655,-0.5917472541332245],\"z\":[-0.22846484184265137,0.6456192135810852],\"type\":\"scatter3d\"},{\"line\":{\"color\":\"#F08080\",\"width\":1},\"mode\":\"lines\",\"x\":[0.47088950872421265,1.3418976068496704],\"y\":[-0.33197179436683655,-0.6211732029914856],\"z\":[-0.22846484184265137,0.1686592400074005],\"type\":\"scatter3d\"},{\"line\":{\"color\":\"#F08080\",\"width\":1},\"mode\":\"lines\",\"x\":[0.47088950872421265,1.2930233478546143],\"y\":[-0.33197179436683655,-0.6187675595283508],\"z\":[-0.22846484184265137,0.2633117139339447],\"type\":\"scatter3d\"},{\"line\":{\"color\":\"#F08080\",\"width\":1},\"mode\":\"lines\",\"x\":[0.47088950872421265,1.23190438747406],\"y\":[-0.33197179436683655,-0.6127656698226929],\"z\":[-0.22846484184265137,0.35635244846343994],\"type\":\"scatter3d\"},{\"line\":{\"color\":\"#F08080\",\"width\":1},\"mode\":\"lines\",\"x\":[0.47088950872421265,1.1597225069999695],\"y\":[-0.33197179436683655,-0.6030339598655701],\"z\":[-0.22846484184265137,0.4438702464103699],\"type\":\"scatter3d\"},{\"line\":{\"color\":\"#F08080\",\"width\":1},\"mode\":\"lines\",\"x\":[0.47088950872421265,1.0789958834648132],\"y\":[-0.33197179436683655,-0.5898557007312775],\"z\":[-0.22846484184265137,0.522336483001709],\"type\":\"scatter3d\"},{\"line\":{\"color\":\"#F08080\",\"width\":1},\"mode\":\"lines\",\"x\":[0.47088950872421265,0.9931632280349731],\"y\":[-0.33197179436683655,-0.5738949924707413],\"z\":[-0.22846484184265137,0.5892780423164368],\"type\":\"scatter3d\"},{\"line\":{\"color\":\"#F08080\",\"width\":1},\"mode\":\"lines\",\"x\":[0.47088950872421265,0.9059080481529236],\"y\":[-0.33197179436683655,-0.5560504198074341],\"z\":[-0.22846484184265137,0.6436290740966797],\"type\":\"scatter3d\"},{\"line\":{\"color\":\"#F08080\",\"width\":1},\"mode\":\"lines\",\"x\":[0.47088950872421265,1.360045850276947],\"y\":[-0.33197179436683655,-0.5813814699649811],\"z\":[-0.22846484184265137,0.15519627928733826],\"type\":\"scatter3d\"},{\"line\":{\"color\":\"#F08080\",\"width\":1},\"mode\":\"lines\",\"x\":[0.47088950872421265,1.3135557174682617],\"y\":[-0.33197179436683655,-0.5783608257770538],\"z\":[-0.22846484184265137,0.25029000639915466],\"type\":\"scatter3d\"},{\"line\":{\"color\":\"#F08080\",\"width\":1},\"mode\":\"lines\",\"x\":[0.47088950872421265,1.2545319199562073],\"y\":[-0.33197179436683655,-0.5722106546163559],\"z\":[-0.22846484184265137,0.3444138169288635],\"type\":\"scatter3d\"},{\"line\":{\"color\":\"#F08080\",\"width\":1},\"mode\":\"lines\",\"x\":[0.47088950872421265,1.1838943362236023],\"y\":[-0.33197179436683655,-0.5628097355365753],\"z\":[-0.22846484184265137,0.43360620737075806],\"type\":\"scatter3d\"},{\"line\":{\"color\":\"#F08080\",\"width\":1},\"mode\":\"lines\",\"x\":[0.47088950872421265,1.1039689779281616],\"y\":[-0.33197179436683655,-0.5504010617733002],\"z\":[-0.22846484184265137,0.5141650438308716],\"type\":\"scatter3d\"},{\"line\":{\"color\":\"#F08080\",\"width\":1},\"mode\":\"lines\",\"x\":[0.47088950872421265,1.018134355545044],\"y\":[-0.33197179436683655,-0.5355685353279114],\"z\":[-0.22846484184265137,0.5833674073219299],\"type\":\"scatter3d\"},{\"line\":{\"color\":\"#F08080\",\"width\":1},\"mode\":\"lines\",\"x\":[0.47088950872421265,0.9301543831825256],\"y\":[-0.33197179436683655,-0.5191121846437454],\"z\":[-0.22846484184265137,0.6398981809616089],\"type\":\"scatter3d\"},{\"line\":{\"color\":\"#F08080\",\"width\":1},\"mode\":\"lines\",\"x\":[0.47088950872421265,1.3762435913085938],\"y\":[-0.33197179436683655,-0.5413015782833099],\"z\":[-0.22846484184265137,0.14101454615592957],\"type\":\"scatter3d\"},{\"line\":{\"color\":\"#F08080\",\"width\":1},\"mode\":\"lines\",\"x\":[0.47088950872421265,1.332181692123413],\"y\":[-0.33197179436683655,-0.5374814569950104],\"z\":[-0.22846484184265137,0.23623034358024597],\"type\":\"scatter3d\"},{\"line\":{\"color\":\"#F08080\",\"width\":1},\"mode\":\"lines\",\"x\":[0.47088950872421265,1.2754092812538147],\"y\":[-0.33197179436683655,-0.5309960544109344],\"z\":[-0.22846484184265137,0.33112192153930664],\"type\":\"scatter3d\"},{\"line\":{\"color\":\"#F08080\",\"width\":1},\"mode\":\"lines\",\"x\":[0.47088950872421265,1.2065768837928772],\"y\":[-0.33197179436683655,-0.5217577815055847],\"z\":[-0.22846484184265137,0.42172396183013916],\"type\":\"scatter3d\"},{\"line\":{\"color\":\"#F08080\",\"width\":1},\"mode\":\"lines\",\"x\":[0.47088950872421265,1.1277849674224854],\"y\":[-0.33197179436683655,-0.5099883079528809],\"z\":[-0.22846484184265137,0.5042005777359009],\"type\":\"scatter3d\"},{\"line\":{\"color\":\"#F08080\",\"width\":1},\"mode\":\"lines\",\"x\":[0.47088950872421265,1.0423025488853455],\"y\":[-0.33197179436683655,-0.4962022304534912],\"z\":[-0.22846484184265137,0.5755971074104309],\"type\":\"scatter3d\"},{\"line\":{\"color\":\"#F08080\",\"width\":1},\"mode\":\"lines\",\"x\":[0.47088950872421265,0.9539273381233215],\"y\":[-0.33197179436683655,-0.48110198974609375],\"z\":[-0.22846484184265137,0.6343414783477783],\"type\":\"scatter3d\"},{\"line\":{\"color\":\"#F08080\",\"width\":1},\"mode\":\"lines\",\"x\":[0.47088950872421265,1.3904356360435486],\"y\":[-0.33197179436683655,-0.5011890828609467],\"z\":[-0.22846484184265137,0.12621882557868958],\"type\":\"scatter3d\"},{\"line\":{\"color\":\"#F08080\",\"width\":1},\"mode\":\"lines\",\"x\":[0.47088950872421265,1.3488011956214905],\"y\":[-0.33197179436683655,-0.49640534818172455],\"z\":[-0.22846484184265137,0.22123810648918152],\"type\":\"scatter3d\"},{\"line\":{\"color\":\"#F08080\",\"width\":1},\"mode\":\"lines\",\"x\":[0.47088950872421265,1.2943906784057617],\"y\":[-0.33197179436683655,-0.48940621316432953],\"z\":[-0.22846484184265137,0.3165675401687622],\"type\":\"scatter3d\"},{\"line\":{\"color\":\"#F08080\",\"width\":1},\"mode\":\"lines\",\"x\":[0.47088950872421265,1.227587640285492],\"y\":[-0.33197179436683655,-0.4801568239927292],\"z\":[-0.22846484184265137,0.40828412771224976],\"type\":\"scatter3d\"},{\"line\":{\"color\":\"#F08080\",\"width\":1},\"mode\":\"lines\",\"x\":[0.47088950872421265,1.1502418518066406],\"y\":[-0.33197179436683655,-0.4688774198293686],\"z\":[-0.22846484184265137,0.49246323108673096],\"type\":\"scatter3d\"},{\"line\":{\"color\":\"#F08080\",\"width\":1},\"mode\":\"lines\",\"x\":[0.47088950872421265,1.0654668807983398],\"y\":[-0.33197179436683655,-0.45602795481681824],\"z\":[-0.22846484184265137,0.565945565700531],\"type\":\"scatter3d\"},{\"line\":{\"color\":\"#F08080\",\"width\":1},\"mode\":\"lines\",\"x\":[0.47088950872421265,0.9770438075065613],\"y\":[-0.33197179436683655,-0.4422190934419632],\"z\":[-0.22846484184265137,0.6269025802612305],\"type\":\"scatter3d\"},{\"line\":{\"color\":\"#F08080\",\"width\":1},\"mode\":\"lines\",\"x\":[0.47088950872421265,1.4026044607162476],\"y\":[-0.33197179436683655,-0.46129269897937775],\"z\":[-0.22846484184265137,0.11092188954353333],\"type\":\"scatter3d\"},{\"line\":{\"color\":\"#F08080\",\"width\":1},\"mode\":\"lines\",\"x\":[0.47088950872421265,1.363355040550232],\"y\":[-0.33197179436683655,-0.45540711283683777],\"z\":[-0.22846484184265137,0.20543500781059265],\"type\":\"scatter3d\"},{\"line\":{\"color\":\"#F08080\",\"width\":1},\"mode\":\"lines\",\"x\":[0.47088950872421265,1.3113701343536377],\"y\":[-0.33197179436683655,-0.44773150235414505],\"z\":[-0.22846484184265137,0.30086684226989746],\"type\":\"scatter3d\"},{\"line\":{\"color\":\"#F08080\",\"width\":1},\"mode\":\"lines\",\"x\":[0.47088950872421265,1.2467780113220215],\"y\":[-0.33197179436683655,-0.4382992833852768],\"z\":[-0.22846484184265137,0.39338046312332153],\"type\":\"scatter3d\"},{\"line\":{\"color\":\"#F08080\",\"width\":1},\"mode\":\"lines\",\"x\":[0.47088950872421265,1.1711620688438416],\"y\":[-0.33197179436683655,-0.4273485168814659],\"z\":[-0.22846484184265137,0.47901076078414917],\"type\":\"scatter3d\"},{\"line\":{\"color\":\"#F08080\",\"width\":1},\"mode\":\"lines\",\"x\":[0.47088950872421265,1.0874397158622742],\"y\":[-0.33197179436683655,-0.4153017997741699],\"z\":[-0.22846484184265137,0.5544285178184509],\"type\":\"scatter3d\"},{\"line\":{\"color\":\"#F08080\",\"width\":1},\"mode\":\"lines\",\"x\":[0.47088950872421265,0.9993247389793396],\"y\":[-0.33197179436683655,-0.4026883915066719],\"z\":[-0.22846484184265137,0.617558479309082],\"type\":\"scatter3d\"},{\"line\":{\"color\":\"#F08080\",\"width\":1},\"mode\":\"lines\",\"x\":[0.47088950872421265,0.9105897545814514],\"y\":[-0.33197179436683655,-0.3900398761034012],\"z\":[-0.22846484184265137,0.6678006649017334],\"type\":\"scatter3d\"},{\"line\":{\"color\":\"#F08080\",\"width\":1},\"mode\":\"lines\",\"x\":[0.47088950872421265,1.37582528591156],\"y\":[-0.33197179436683655,-0.414751298725605],\"z\":[-0.22846484184265137,0.18895435333251953],\"type\":\"scatter3d\"},{\"line\":{\"color\":\"#F08080\",\"width\":1},\"mode\":\"lines\",\"x\":[0.47088950872421265,1.3262844681739807],\"y\":[-0.33197179436683655,-0.406258299946785],\"z\":[-0.22846484184265137,0.2841569185256958],\"type\":\"scatter3d\"},{\"line\":{\"color\":\"#F08080\",\"width\":1},\"mode\":\"lines\",\"x\":[0.47088950872421265,1.2640384435653687],\"y\":[-0.33197179436683655,-0.3964810222387314],\"z\":[-0.22846484184265137,0.37713682651519775],\"type\":\"scatter3d\"},{\"line\":{\"color\":\"#F08080\",\"width\":1},\"mode\":\"lines\",\"x\":[0.47088950872421265,1.1903988122940063],\"y\":[-0.33197179436683655,-0.3856925144791603],\"z\":[-0.22846484184265137,0.46393710374832153],\"type\":\"scatter3d\"},{\"line\":{\"color\":\"#F08080\",\"width\":1},\"mode\":\"lines\",\"x\":[0.47088950872421265,1.108053982257843],\"y\":[-0.33197179436683655,-0.3742963336408138],\"z\":[-0.22846484184265137,0.541100025177002],\"type\":\"scatter3d\"},{\"line\":{\"color\":\"#F08080\",\"width\":1},\"mode\":\"lines\",\"x\":[0.47088950872421265,1.0206014513969421],\"y\":[-0.33197179436683655,-0.36275453120470047],\"z\":[-0.22846484184265137,0.6063221096992493],\"type\":\"scatter3d\"},{\"line\":{\"color\":\"#F08080\",\"width\":1},\"mode\":\"lines\",\"x\":[0.47088950872421265,0.9318325221538544],\"y\":[-0.33197179436683655,-0.35150123573839664],\"z\":[-0.22846484184265137,0.658750057220459],\"type\":\"scatter3d\"},{\"line\":{\"color\":\"#F08080\",\"width\":1},\"mode\":\"lines\",\"x\":[0.47088950872421265,1.3862335085868835],\"y\":[-0.33197179436683655,-0.37468453496694565],\"z\":[-0.22846484184265137,0.17193618416786194],\"type\":\"scatter3d\"},{\"line\":{\"color\":\"#F08080\",\"width\":1},\"mode\":\"lines\",\"x\":[0.47088950872421265,1.339113175868988],\"y\":[-0.33197179436683655,-0.3652596026659012],\"z\":[-0.22846484184265137,0.26659032702445984],\"type\":\"scatter3d\"},{\"line\":{\"color\":\"#F08080\",\"width\":1},\"mode\":\"lines\",\"x\":[0.47088950872421265,1.279301404953003],\"y\":[-0.33197179436683655,-0.35499109886586666],\"z\":[-0.22846484184265137,0.35970211029052734],\"type\":\"scatter3d\"},{\"line\":{\"color\":\"#F08080\",\"width\":1},\"mode\":\"lines\",\"x\":[0.47088950872421265,1.2078415155410767],\"y\":[-0.33197179436683655,-0.34420094918459654],\"z\":[-0.22846484184265137,0.44736963510513306],\"type\":\"scatter3d\"},{\"line\":{\"color\":\"#F08080\",\"width\":1},\"mode\":\"lines\",\"x\":[0.47088950872421265,1.1271693110466003],\"y\":[-0.33197179436683655,-0.33329159778077155],\"z\":[-0.22846484184265137,0.5260516405105591],\"type\":\"scatter3d\"},{\"line\":{\"color\":\"#F08080\",\"width\":1},\"mode\":\"lines\",\"x\":[0.47088950872421265,1.040721833705902],\"y\":[-0.33197179436683655,-0.32267469819635153],\"z\":[-0.22846484184265137,0.5932435989379883],\"type\":\"scatter3d\"},{\"line\":{\"color\":\"#F08080\",\"width\":1},\"mode\":\"lines\",\"x\":[0.47088950872421265,0.9522605836391449],\"y\":[-0.33197179436683655,-0.31269823014736176],\"z\":[-0.22846484184265137,0.6478402018547058],\"type\":\"scatter3d\"},{\"line\":{\"color\":\"#F08080\",\"width\":1},\"mode\":\"lines\",\"x\":[0.47088950872421265,1.3946366906166077],\"y\":[-0.33197179436683655,-0.3354291331488639],\"z\":[-0.22846484184265137,0.15452229976654053],\"type\":\"scatter3d\"},{\"line\":{\"color\":\"#F08080\",\"width\":1},\"mode\":\"lines\",\"x\":[0.47088950872421265,1.349876880645752],\"y\":[-0.33197179436683655,-0.3249868229031563],\"z\":[-0.22846484184265137,0.2483290731906891],\"type\":\"scatter3d\"},{\"line\":{\"color\":\"#F08080\",\"width\":1},\"mode\":\"lines\",\"x\":[0.47088950872421265,1.2925416827201843],\"y\":[-0.33197179436683655,-0.3141022212803364],\"z\":[-0.22846484184265137,0.3412442207336426],\"type\":\"scatter3d\"},{\"line\":{\"color\":\"#F08080\",\"width\":1},\"mode\":\"lines\",\"x\":[0.47088950872421265,1.223418653011322],\"y\":[-0.33197179436683655,-0.3031560033559799],\"z\":[-0.22846484184265137,0.4294634461402893],\"type\":\"scatter3d\"},{\"line\":{\"color\":\"#F08080\",\"width\":1},\"mode\":\"lines\",\"x\":[0.47088950872421265,1.1446768045425415],\"y\":[-0.33197179436683655,-0.2925656661391258],\"z\":[-0.22846484184265137,0.5094090700149536],\"type\":\"scatter3d\"},{\"line\":{\"color\":\"#F08080\",\"width\":1},\"mode\":\"lines\",\"x\":[0.47088950872421265,1.059555172920227],\"y\":[-0.33197179436683655,-0.2827104404568672],\"z\":[-0.22846484184265137,0.5784094333648682],\"type\":\"scatter3d\"},{\"line\":{\"color\":\"#F08080\",\"width\":1},\"mode\":\"lines\",\"x\":[0.47088950872421265,0.9717386960983276],\"y\":[-0.33197179436683655,-0.27386701852083206],\"z\":[-0.22846484184265137,0.63511723279953],\"type\":\"scatter3d\"},{\"line\":{\"color\":\"#F08080\",\"width\":1},\"mode\":\"lines\",\"x\":[0.47088950872421265,1.4011223912239075],\"y\":[-0.33197179436683655,-0.2971785254776478],\"z\":[-0.22846484184265137,0.1368517279624939],\"type\":\"scatter3d\"},{\"line\":{\"color\":\"#F08080\",\"width\":1},\"mode\":\"lines\",\"x\":[0.47088950872421265,1.3586329817771912],\"y\":[-0.33197179436683655,-0.28566332533955574],\"z\":[-0.22846484184265137,0.22953850030899048],\"type\":\"scatter3d\"},{\"line\":{\"color\":\"#F08080\",\"width\":1},\"mode\":\"lines\",\"x\":[0.47088950872421265,1.3037747740745544],\"y\":[-0.33197179436683655,-0.2740625962615013],\"z\":[-0.22846484184265137,0.32194292545318604],\"type\":\"scatter3d\"},{\"line\":{\"color\":\"#F08080\",\"width\":1},\"mode\":\"lines\",\"x\":[0.47088950872421265,1.2370983362197876],\"y\":[-0.33197179436683655,-0.2628213241696358],\"z\":[-0.22846484184265137,0.4103953242301941],\"type\":\"scatter3d\"},{\"line\":{\"color\":\"#F08080\",\"width\":1},\"mode\":\"lines\",\"x\":[0.47088950872421265,1.160501778125763],\"y\":[-0.33197179436683655,-0.25238535553216934],\"z\":[-0.22846484184265137,0.4913274645805359],\"type\":\"scatter3d\"},{\"line\":{\"color\":\"#F08080\",\"width\":1},\"mode\":\"lines\",\"x\":[0.47088950872421265,1.0769969820976257],\"y\":[-0.33197179436683655,-0.24311921745538712],\"z\":[-0.22846484184265137,0.561939537525177],\"type\":\"scatter3d\"},{\"line\":{\"color\":\"#F08080\",\"width\":1},\"mode\":\"lines\",\"x\":[0.47088950872421265,0.9901484847068787],\"y\":[-0.33197179436683655,-0.2352455034852028],\"z\":[-0.22846484184265137,0.6206607222557068],\"type\":\"scatter3d\"},{\"line\":{\"color\":\"#F08080\",\"width\":1},\"mode\":\"lines\",\"x\":[0.47088950872421265,1.4058025479316711],\"y\":[-0.33197179436683655,-0.2600945010781288],\"z\":[-0.22846484184265137,0.11905673146247864],\"type\":\"scatter3d\"},{\"line\":{\"color\":\"#F08080\",\"width\":1},\"mode\":\"lines\",\"x\":[0.47088950872421265,1.365470290184021],\"y\":[-0.33197179436683655,-0.24747999757528305],\"z\":[-0.22846484184265137,0.21038174629211426],\"type\":\"scatter3d\"},{\"line\":{\"color\":\"#F08080\",\"width\":1},\"mode\":\"lines\",\"x\":[0.47088950872421265,1.3130526542663574],\"y\":[-0.33197179436683655,-0.2350897416472435],\"z\":[-0.22846484184265137,0.30198317766189575],\"type\":\"scatter3d\"},{\"line\":{\"color\":\"#F08080\",\"width\":1},\"mode\":\"lines\",\"x\":[0.47088950872421265,1.248887062072754],\"y\":[-0.33197179436683655,-0.22343439608812332],\"z\":[-0.22846484184265137,0.390356183052063],\"type\":\"scatter3d\"},{\"line\":{\"color\":\"#F08080\",\"width\":1},\"mode\":\"lines\",\"x\":[0.47088950872421265,1.1746050119400024],\"y\":[-0.33197179436683655,-0.2129978910088539],\"z\":[-0.22846484184265137,0.4719848036766052],\"type\":\"scatter3d\"},{\"line\":{\"color\":\"#F08080\",\"width\":1},\"mode\":\"lines\",\"x\":[0.47088950872421265,1.09297114610672],\"y\":[-0.33197179436683655,-0.20414623618125916],\"z\":[-0.22846484184265137,0.5439826250076294],\"type\":\"scatter3d\"},{\"line\":{\"color\":\"#F08080\",\"width\":1},\"mode\":\"lines\",\"x\":[0.47088950872421265,1.0073917508125305],\"y\":[-0.33197179436683655,-0.19706609845161438],\"z\":[-0.22846484184265137,0.6045812964439392],\"type\":\"scatter3d\"},{\"line\":{\"color\":\"#F08080\",\"width\":1},\"mode\":\"lines\",\"x\":[0.47088950872421265,0.9212834537029266],\"y\":[-0.33197179436683655,-0.19175565242767334],\"z\":[-0.22846484184265137,0.6532861590385437],\"type\":\"scatter3d\"},{\"line\":{\"color\":\"#F08080\",\"width\":1},\"mode\":\"lines\",\"x\":[0.47088950872421265,1.370502769947052],\"y\":[-0.33197179436683655,-0.21059290319681168],\"z\":[-0.22846484184265137,0.19101470708847046],\"type\":\"scatter3d\"},{\"line\":{\"color\":\"#F08080\",\"width\":1},\"mode\":\"lines\",\"x\":[0.47088950872421265,1.320458710193634],\"y\":[-0.33197179436683655,-0.19736643135547638],\"z\":[-0.22846484184265137,0.2815484404563904],\"type\":\"scatter3d\"},{\"line\":{\"color\":\"#F08080\",\"width\":1},\"mode\":\"lines\",\"x\":[0.47088950872421265,1.258826196193695],\"y\":[-0.33197179436683655,-0.18520085513591766],\"z\":[-0.22846484184265137,0.3695436120033264],\"type\":\"scatter3d\"},{\"line\":{\"color\":\"#F08080\",\"width\":1},\"mode\":\"lines\",\"x\":[0.47088950872421265,1.186981737613678],\"y\":[-0.33197179436683655,-0.17462407052516937],\"z\":[-0.22846484184265137,0.4515746235847473],\"type\":\"scatter3d\"},{\"line\":{\"color\":\"#F08080\",\"width\":1},\"mode\":\"lines\",\"x\":[0.47088950872421265,1.107431709766388],\"y\":[-0.33197179436683655,-0.16601721942424774],\"z\":[-0.22846484184265137,0.5247105360031128],\"type\":\"scatter3d\"},{\"line\":{\"color\":\"#F08080\",\"width\":1},\"mode\":\"lines\",\"x\":[0.47088950872421265,1.023393154144287],\"y\":[-0.33197179436683655,-0.15954886376857758],\"z\":[-0.22846484184265137,0.5870166420936584],\"type\":\"scatter3d\"},{\"line\":{\"color\":\"#F08080\",\"width\":1},\"mode\":\"lines\",\"x\":[0.47088950872421265,0.9382047057151794],\"y\":[-0.33197179436683655,-0.15516911447048187],\"z\":[-0.22846484184265137,0.6377668380737305],\"type\":\"scatter3d\"},{\"line\":{\"color\":\"#F08080\",\"width\":1},\"mode\":\"lines\",\"x\":[0.47088950872421265,1.3738627433776855],\"y\":[-0.33197179436683655,-0.17512287199497223],\"z\":[-0.22846484184265137,0.17158228158950806],\"type\":\"scatter3d\"},{\"line\":{\"color\":\"#F08080\",\"width\":1},\"mode\":\"lines\",\"x\":[0.47088950872421265,1.3261012434959412],\"y\":[-0.33197179436683655,-0.16103889048099518],\"z\":[-0.22846484184265137,0.2608150243759155],\"type\":\"scatter3d\"},{\"line\":{\"color\":\"#F08080\",\"width\":1},\"mode\":\"lines\",\"x\":[0.47088950872421265,1.266986906528473],\"y\":[-0.33197179436683655,-0.1482909768819809],\"z\":[-0.22846484184265137,0.3481549024581909],\"type\":\"scatter3d\"},{\"line\":{\"color\":\"#F08080\",\"width\":1},\"mode\":\"lines\",\"x\":[0.47088950872421265,1.1976585984230042],\"y\":[-0.33197179436683655,-0.13745331764221191],\"z\":[-0.22846484184265137,0.4302985668182373],\"type\":\"scatter3d\"},{\"line\":{\"color\":\"#F08080\",\"width\":1},\"mode\":\"lines\",\"x\":[0.47088950872421265,1.1203619837760925],\"y\":[-0.33197179436683655,-0.12893252074718475],\"z\":[-0.22846484184265137,0.5043110847473145],\"type\":\"scatter3d\"},{\"line\":{\"color\":\"#F08080\",\"width\":1},\"mode\":\"lines\",\"x\":[0.47088950872421265,1.0381015539169312],\"y\":[-0.33197179436683655,-0.12289544939994812],\"z\":[-0.22846484184265137,0.5681264400482178],\"type\":\"scatter3d\"},{\"line\":{\"color\":\"#F08080\",\"width\":1},\"mode\":\"lines\",\"x\":[0.47088950872421265,0.9541028439998627],\"y\":[-0.33197179436683655,-0.11926195025444031],\"z\":[-0.22846484184265137,0.6208050847053528],\"type\":\"scatter3d\"},{\"line\":{\"color\":\"#F08080\",\"width\":1},\"mode\":\"lines\",\"x\":[0.47088950872421265,1.3756945133209229],\"y\":[-0.33197179436683655,-0.14115673303604126],\"z\":[-0.22846484184265137,0.15221548080444336],\"type\":\"scatter3d\"},{\"line\":{\"color\":\"#F08080\",\"width\":1},\"mode\":\"lines\",\"x\":[0.47088950872421265,1.3301070928573608],\"y\":[-0.33197179436683655,-0.1262168437242508],\"z\":[-0.22846484184265137,0.2399473786354065],\"type\":\"scatter3d\"},{\"line\":{\"color\":\"#F08080\",\"width\":1},\"mode\":\"lines\",\"x\":[0.47088950872421265,1.273464858531952],\"y\":[-0.33197179436683655,-0.11283838748931885],\"z\":[-0.22846484184265137,0.32638049125671387],\"type\":\"scatter3d\"},{\"line\":{\"color\":\"#F08080\",\"width\":1},\"mode\":\"lines\",\"x\":[0.47088950872421265,1.20669025182724],\"y\":[-0.33197179436683655,-0.1016407161951065],\"z\":[-0.22846484184265137,0.40835922956466675],\"type\":\"scatter3d\"},{\"line\":{\"color\":\"#F08080\",\"width\":1},\"mode\":\"lines\",\"x\":[0.47088950872421265,1.1317729949951172],\"y\":[-0.33197179436683655,-0.09306299686431885],\"z\":[-0.22846484184265137,0.4829813241958618],\"type\":\"scatter3d\"},{\"line\":{\"color\":\"#E0FFFF\",\"width\":1},\"mode\":\"lines\",\"x\":[0.4913223385810852,0.9944617748260498],\"y\":[-0.3024752736091614,-0.777802437543869],\"z\":[-0.40355610847473145,0.3181881904602051],\"type\":\"scatter3d\"},{\"line\":{\"color\":\"#E0FFFF\",\"width\":1},\"mode\":\"lines\",\"x\":[0.4913223385810852,1.3177642822265625],\"y\":[-0.3024752736091614,-0.8321552276611328],\"z\":[-0.40355610847473145,-0.21268227696418762],\"type\":\"scatter3d\"},{\"line\":{\"color\":\"#E0FFFF\",\"width\":1},\"mode\":\"lines\",\"x\":[0.4913223385810852,1.2889378666877747],\"y\":[-0.3024752736091614,-0.832621693611145],\"z\":[-0.40355610847473145,-0.11588573455810547],\"type\":\"scatter3d\"},{\"line\":{\"color\":\"#E0FFFF\",\"width\":1},\"mode\":\"lines\",\"x\":[0.4913223385810852,1.2503284215927124],\"y\":[-0.3024752736091614,-0.8273699283599854],\"z\":[-0.40355610847473145,-0.018334925174713135],\"type\":\"scatter3d\"},{\"line\":{\"color\":\"#E0FFFF\",\"width\":1},\"mode\":\"lines\",\"x\":[0.4913223385810852,1.2024263739585876],\"y\":[-0.3024752736091614,-0.8160756230354309],\"z\":[-0.40355610847473145,0.07659569382667542],\"type\":\"scatter3d\"},{\"line\":{\"color\":\"#E0FFFF\",\"width\":1},\"mode\":\"lines\",\"x\":[0.4913223385810852,1.1466846466064453],\"y\":[-0.3024752736091614,-0.7990061342716217],\"z\":[-0.40355610847473145,0.16561639308929443],\"type\":\"scatter3d\"},{\"line\":{\"color\":\"#E0FFFF\",\"width\":1},\"mode\":\"lines\",\"x\":[0.4913223385810852,1.085309624671936],\"y\":[-0.3024752736091614,-0.7769952416419983],\"z\":[-0.40355610847473145,0.24606680870056152],\"type\":\"scatter3d\"},{\"line\":{\"color\":\"#E0FFFF\",\"width\":1},\"mode\":\"lines\",\"x\":[0.4913223385810852,1.0208608508110046],\"y\":[-0.3024752736091614,-0.7512708604335785],\"z\":[-0.40355610847473145,0.3162851929664612],\"type\":\"scatter3d\"},{\"line\":{\"color\":\"#E0FFFF\",\"width\":1},\"mode\":\"lines\",\"x\":[0.4913223385810852,1.3410205245018005],\"y\":[-0.3024752736091614,-0.7995779812335968],\"z\":[-0.40355610847473145,-0.2277667373418808],\"type\":\"scatter3d\"},{\"line\":{\"color\":\"#E0FFFF\",\"width\":1},\"mode\":\"lines\",\"x\":[0.4913223385810852,1.3143216371536255],\"y\":[-0.3024752736091614,-0.8002992272377014],\"z\":[-0.40355610847473145,-0.12998083233833313],\"type\":\"scatter3d\"},{\"line\":{\"color\":\"#E0FFFF\",\"width\":1},\"mode\":\"lines\",\"x\":[0.4913223385810852,1.2773910760879517],\"y\":[-0.3024752736091614,-0.7955876588821411],\"z\":[-0.40355610847473145,-0.030814796686172485],\"type\":\"scatter3d\"},{\"line\":{\"color\":\"#E0FFFF\",\"width\":1},\"mode\":\"lines\",\"x\":[0.4913223385810852,1.2305129170417786],\"y\":[-0.3024752736091614,-0.7850498259067535],\"z\":[-0.40355610847473145,0.06625142693519592],\"type\":\"scatter3d\"},{\"line\":{\"color\":\"#E0FFFF\",\"width\":1},\"mode\":\"lines\",\"x\":[0.4913223385810852,1.1750207543373108],\"y\":[-0.3024752736091614,-0.7688692808151245],\"z\":[-0.40355610847473145,0.15772205591201782],\"type\":\"scatter3d\"},{\"line\":{\"color\":\"#E0FFFF\",\"width\":1},\"mode\":\"lines\",\"x\":[0.4913223385810852,1.1131243705749512],\"y\":[-0.3024752736091614,-0.7478055059909821],\"z\":[-0.40355610847473145,0.2406824231147766],\"type\":\"scatter3d\"},{\"line\":{\"color\":\"#E0FFFF\",\"width\":1},\"mode\":\"lines\",\"x\":[0.4913223385810852,1.0475011467933655],\"y\":[-0.3024752736091614,-0.723037451505661],\"z\":[-0.40355610847473145,0.31323719024658203],\"type\":\"scatter3d\"},{\"line\":{\"color\":\"#E0FFFF\",\"width\":1},\"mode\":\"lines\",\"x\":[0.4913223385810852,1.3630138635635376],\"y\":[-0.3024752736091614,-0.7656175196170807],\"z\":[-0.40355610847473145,-0.24339009821414948],\"type\":\"scatter3d\"},{\"line\":{\"color\":\"#E0FFFF\",\"width\":1},\"mode\":\"lines\",\"x\":[0.4913223385810852,1.3385828137397766],\"y\":[-0.3024752736091614,-0.7664057314395905],\"z\":[-0.40355610847473145,-0.14487063884735107],\"type\":\"scatter3d\"},{\"line\":{\"color\":\"#E0FFFF\",\"width\":1},\"mode\":\"lines\",\"x\":[0.4913223385810852,1.303544044494629],\"y\":[-0.3024752736091614,-0.7620898485183716],\"z\":[-0.40355610847473145,-0.044320374727249146],\"type\":\"scatter3d\"},{\"line\":{\"color\":\"#E0FFFF\",\"width\":1},\"mode\":\"lines\",\"x\":[0.4913223385810852,1.2579520344734192],\"y\":[-0.3024752736091614,-0.7522226870059967],\"z\":[-0.40355610847473145,0.05470815300941467],\"type\":\"scatter3d\"},{\"line\":{\"color\":\"#E0FFFF\",\"width\":1},\"mode\":\"lines\",\"x\":[0.4913223385810852,1.2029850482940674],\"y\":[-0.3024752736091614,-0.7369092404842377],\"z\":[-0.40355610847473145,0.1485338807106018],\"type\":\"scatter3d\"},{\"line\":{\"color\":\"#E0FFFF\",\"width\":1},\"mode\":\"lines\",\"x\":[0.4913223385810852,1.140819489955902],\"y\":[-0.3024752736091614,-0.7168291211128235],\"z\":[-0.40355610847473145,0.23398947715759277],\"type\":\"scatter3d\"},{\"line\":{\"color\":\"#E0FFFF\",\"width\":1},\"mode\":\"lines\",\"x\":[0.4913223385810852,1.0742250680923462],\"y\":[-0.3024752736091614,-0.6930992007255554],\"z\":[-0.40355610847473145,0.3089306354522705],\"type\":\"scatter3d\"},{\"line\":{\"color\":\"#E0FFFF\",\"width\":1},\"mode\":\"lines\",\"x\":[0.4913223385810852,1.3835670948028564],\"y\":[-0.3024752736091614,-0.7304251194000244],\"z\":[-0.40355610847473145,-0.2594791501760483],\"type\":\"scatter3d\"},{\"line\":{\"color\":\"#E0FFFF\",\"width\":1},\"mode\":\"lines\",\"x\":[0.4913223385810852,1.361507773399353],\"y\":[-0.3024752736091614,-0.7310789227485657],\"z\":[-0.40355610847473145,-0.16050006449222565],\"type\":\"scatter3d\"},{\"line\":{\"color\":\"#E0FFFF\",\"width\":1},\"mode\":\"lines\",\"x\":[0.4913223385810852,1.3285480737686157],\"y\":[-0.3024752736091614,-0.7269925177097321],\"z\":[-0.40355610847473145,-0.058826982975006104],\"type\":\"scatter3d\"},{\"line\":{\"color\":\"#E0FFFF\",\"width\":1},\"mode\":\"lines\",\"x\":[0.4913223385810852,1.284495770931244],\"y\":[-0.3024752736091614,-0.7176840305328369],\"z\":[-0.40355610847473145,0.04195210337638855],\"type\":\"scatter3d\"},{\"line\":{\"color\":\"#E0FFFF\",\"width\":1},\"mode\":\"lines\",\"x\":[0.4913223385810852,1.2303394675254822],\"y\":[-0.3024752736091614,-0.7031896114349365],\"z\":[-0.40355610847473145,0.1379987597465515],\"type\":\"scatter3d\"},{\"line\":{\"color\":\"#E0FFFF\",\"width\":1},\"mode\":\"lines\",\"x\":[0.4913223385810852,1.1681822538375854],\"y\":[-0.3024752736091614,-0.684107095003128],\"z\":[-0.40355610847473145,0.225902259349823],\"type\":\"scatter3d\"},{\"line\":{\"color\":\"#E0FFFF\",\"width\":1},\"mode\":\"lines\",\"x\":[0.4913223385810852,1.1008538007736206],\"y\":[-0.3024752736091614,-0.6614802479743958],\"z\":[-0.40355610847473145,0.30325841903686523],\"type\":\"scatter3d\"},{\"line\":{\"color\":\"#E0FFFF\",\"width\":1},\"mode\":\"lines\",\"x\":[0.4913223385810852,1.4025223851203918],\"y\":[-0.3024752736091614,-0.6941781640052795],\"z\":[-0.40355610847473145,-0.2759503722190857],\"type\":\"scatter3d\"},{\"line\":{\"color\":\"#E0FFFF\",\"width\":1},\"mode\":\"lines\",\"x\":[0.4913223385810852,1.3828973174095154],\"y\":[-0.3024752736091614,-0.694488912820816],\"z\":[-0.40355610847473145,-0.17679791152477264],\"type\":\"scatter3d\"},{\"line\":{\"color\":\"#E0FFFF\",\"width\":1},\"mode\":\"lines\",\"x\":[0.4913223385810852,1.3521707653999329],\"y\":[-0.3024752736091614,-0.6904489099979401],\"z\":[-0.40355610847473145,-0.07428956031799316],\"type\":\"scatter3d\"},{\"line\":{\"color\":\"#E0FFFF\",\"width\":1},\"mode\":\"lines\",\"x\":[0.4913223385810852,1.3098938465118408],\"y\":[-0.3024752736091614,-0.6815630197525024],\"z\":[-0.40355610847473145,0.027991265058517456],\"type\":\"scatter3d\"},{\"line\":{\"color\":\"#E0FFFF\",\"width\":1},\"mode\":\"lines\",\"x\":[0.4913223385810852,1.256835401058197],\"y\":[-0.3024752736091614,-0.6678124964237213],\"z\":[-0.40355610847473145,0.12608379125595093],\"type\":\"scatter3d\"},{\"line\":{\"color\":\"#E0FFFF\",\"width\":1},\"mode\":\"lines\",\"x\":[0.4913223385810852,1.1949836611747742],\"y\":[-0.3024752736091614,-0.6497159004211426],\"z\":[-0.40355610847473145,0.21635091304779053],\"type\":\"scatter3d\"},{\"line\":{\"color\":\"#E0FFFF\",\"width\":1},\"mode\":\"lines\",\"x\":[0.4913223385810852,1.127190113067627],\"y\":[-0.3024752736091614,-0.6282356977462769],\"z\":[-0.40355610847473145,0.29612410068511963],\"type\":\"scatter3d\"},{\"line\":{\"color\":\"#E0FFFF\",\"width\":1},\"mode\":\"lines\",\"x\":[0.4913223385810852,1.4197468161582947],\"y\":[-0.3024752736091614,-0.6570757925510406],\"z\":[-0.40355610847473145,-0.2927119582891464],\"type\":\"scatter3d\"},{\"line\":{\"color\":\"#E0FFFF\",\"width\":1},\"mode\":\"lines\",\"x\":[0.4913223385810852,1.4025744795799255],\"y\":[-0.3024752736091614,-0.6568349599838257],\"z\":[-0.40355610847473145,-0.19367828965187073],\"type\":\"scatter3d\"},{\"line\":{\"color\":\"#E0FFFF\",\"width\":1},\"mode\":\"lines\",\"x\":[0.4913223385810852,1.374195158481598],\"y\":[-0.3024752736091614,-0.6526475250720978],\"z\":[-0.40355610847473145,-0.09064245223999023],\"type\":\"scatter3d\"},{\"line\":{\"color\":\"#E0FFFF\",\"width\":1},\"mode\":\"lines\",\"x\":[0.4913223385810852,1.3339024782180786],\"y\":[-0.3024752736091614,-0.6440278589725494],\"z\":[-0.40355610847473145,0.012857705354690552],\"type\":\"scatter3d\"},{\"line\":{\"color\":\"#E0FFFF\",\"width\":1},\"mode\":\"lines\",\"x\":[0.4913223385810852,1.2822213172912598],\"y\":[-0.3024752736091614,-0.6309198439121246],\"z\":[-0.40355610847473145,0.11277991533279419],\"type\":\"scatter3d\"},{\"line\":{\"color\":\"#E0FFFF\",\"width\":1},\"mode\":\"lines\",\"x\":[0.4913223385810852,1.2209842205047607],\"y\":[-0.3024752736091614,-0.6137698292732239],\"z\":[-0.40355610847473145,0.20528644323349],\"type\":\"scatter3d\"},{\"line\":{\"color\":\"#E0FFFF\",\"width\":1},\"mode\":\"lines\",\"x\":[0.4913223385810852,1.1530215740203857],\"y\":[-0.3024752736091614,-0.5934546589851379],\"z\":[-0.40355610847473145,0.28744685649871826],\"type\":\"scatter3d\"},{\"line\":{\"color\":\"#E0FFFF\",\"width\":1},\"mode\":\"lines\",\"x\":[0.4913223385810852,1.0815796852111816],\"y\":[-0.3024752736091614,-0.5710895359516144],\"z\":[-0.40355610847473145,0.35765522718429565],\"type\":\"scatter3d\"},{\"line\":{\"color\":\"#E0FFFF\",\"width\":1},\"mode\":\"lines\",\"x\":[0.4913223385810852,1.420390546321869],\"y\":[-0.3024752736091614,-0.6183403432369232],\"z\":[-0.40355610847473145,-0.211042582988739],\"type\":\"scatter3d\"},{\"line\":{\"color\":\"#E0FFFF\",\"width\":1},\"mode\":\"lines\",\"x\":[0.4913223385810852,1.3944282531738281],\"y\":[-0.3024752736091614,-0.6138081550598145],\"z\":[-0.40355610847473145,-0.10780024528503418],\"type\":\"scatter3d\"},{\"line\":{\"color\":\"#E0FFFF\",\"width\":1},\"mode\":\"lines\",\"x\":[0.4913223385810852,1.3562936186790466],\"y\":[-0.3024752736091614,-0.6052834987640381],\"z\":[-0.40355610847473145,-0.0033913850784301758],\"type\":\"scatter3d\"},{\"line\":{\"color\":\"#E0FFFF\",\"width\":1},\"mode\":\"lines\",\"x\":[0.4913223385810852,1.3062515258789062],\"y\":[-0.3024752736091614,-0.5926929414272308],\"z\":[-0.40355610847473145,0.09810519218444824],\"type\":\"scatter3d\"},{\"line\":{\"color\":\"#E0FFFF\",\"width\":1},\"mode\":\"lines\",\"x\":[0.4913223385810852,1.2459412813186646],\"y\":[-0.3024752736091614,-0.5764220356941223],\"z\":[-0.40355610847473145,0.19268500804901123],\"type\":\"scatter3d\"},{\"line\":{\"color\":\"#E0FFFF\",\"width\":1},\"mode\":\"lines\",\"x\":[0.4913223385810852,1.1781263947486877],\"y\":[-0.3024752736091614,-0.5572619736194611],\"z\":[-0.40355610847473145,0.2771669626235962],\"type\":\"scatter3d\"},{\"line\":{\"color\":\"#E0FFFF\",\"width\":1},\"mode\":\"lines\",\"x\":[0.4913223385810852,1.1061216592788696],\"y\":[-0.3024752736091614,-0.5362388789653778],\"z\":[-0.40355610847473145,0.3496878147125244],\"type\":\"scatter3d\"},{\"line\":{\"color\":\"#E0FFFF\",\"width\":1},\"mode\":\"lines\",\"x\":[0.4913223385810852,1.4362308382987976],\"y\":[-0.3024752736091614,-0.5792458355426788],\"z\":[-0.40355610847473145,-0.22878232598304749],\"type\":\"scatter3d\"},{\"line\":{\"color\":\"#E0FFFF\",\"width\":1},\"mode\":\"lines\",\"x\":[0.4913223385810852,1.4127084612846375],\"y\":[-0.3024752736091614,-0.5741758644580841],\"z\":[-0.40355610847473145,-0.1256597340106964],\"type\":\"scatter3d\"},{\"line\":{\"color\":\"#E0FFFF\",\"width\":1},\"mode\":\"lines\",\"x\":[0.4913223385810852,1.3768640756607056],\"y\":[-0.3024752736091614,-0.5655668675899506],\"z\":[-0.40355610847473145,-0.02067410945892334],\"type\":\"scatter3d\"},{\"line\":{\"color\":\"#E0FFFF\",\"width\":1},\"mode\":\"lines\",\"x\":[0.4913223385810852,1.3286955952644348],\"y\":[-0.3024752736091614,-0.5533493161201477],\"z\":[-0.40355610847473145,0.08210653066635132],\"type\":\"scatter3d\"},{\"line\":{\"color\":\"#E0FFFF\",\"width\":1},\"mode\":\"lines\",\"x\":[0.4913223385810852,1.2696172595024109],\"y\":[-0.3024752736091614,-0.5378630608320236],\"z\":[-0.40355610847473145,0.17855173349380493],\"type\":\"scatter3d\"},{\"line\":{\"color\":\"#E0FFFF\",\"width\":1},\"mode\":\"lines\",\"x\":[0.4913223385810852,1.2022796273231506],\"y\":[-0.3024752736091614,-0.5198184251785278],\"z\":[-0.40355610847473145,0.265250027179718],\"type\":\"scatter3d\"},{\"line\":{\"color\":\"#E0FFFF\",\"width\":1},\"mode\":\"lines\",\"x\":[0.4913223385810852,1.1300220489501953],\"y\":[-0.3024752736091614,-0.5001470744609833],\"z\":[-0.40355610847473145,0.34007585048675537],\"type\":\"scatter3d\"},{\"line\":{\"color\":\"#E0FFFF\",\"width\":1},\"mode\":\"lines\",\"x\":[0.4913223385810852,1.4500182271003723],\"y\":[-0.3024752736091614,-0.5398023426532745],\"z\":[-0.40355610847473145,-0.24678252637386322],\"type\":\"scatter3d\"},{\"line\":{\"color\":\"#E0FFFF\",\"width\":1},\"mode\":\"lines\",\"x\":[0.4913223385810852,1.4289118647575378],\"y\":[-0.3024752736091614,-0.5340134054422379],\"z\":[-0.40355610847473145,-0.14410293102264404],\"type\":\"scatter3d\"},{\"line\":{\"color\":\"#E0FFFF\",\"width\":1},\"mode\":\"lines\",\"x\":[0.4913223385810852,1.3954437971115112],\"y\":[-0.3024752736091614,-0.5251400768756866],\"z\":[-0.40355610847473145,-0.03888535499572754],\"type\":\"scatter3d\"},{\"line\":{\"color\":\"#E0FFFF\",\"width\":1},\"mode\":\"lines\",\"x\":[0.4913223385810852,1.3493478894233704],\"y\":[-0.3024752736091614,-0.513137549161911],\"z\":[-0.40355610847473145,0.06485989689826965],\"type\":\"scatter3d\"},{\"line\":{\"color\":\"#E0FFFF\",\"width\":1},\"mode\":\"lines\",\"x\":[0.4913223385810852,1.2917889952659607],\"y\":[-0.3024752736091614,-0.49831758439540863],\"z\":[-0.40355610847473145,0.16292327642440796],\"type\":\"scatter3d\"},{\"line\":{\"color\":\"#E0FFFF\",\"width\":1},\"mode\":\"lines\",\"x\":[0.4913223385810852,1.2252607345581055],\"y\":[-0.3024752736091614,-0.4813188463449478],\"z\":[-0.40355610847473145,0.25169146060943604],\"type\":\"scatter3d\"},{\"line\":{\"color\":\"#E0FFFF\",\"width\":1},\"mode\":\"lines\",\"x\":[0.4913223385810852,1.1530798077583313],\"y\":[-0.3024752736091614,-0.46297790110111237],\"z\":[-0.40355610847473145,0.32877981662750244],\"type\":\"scatter3d\"},{\"line\":{\"color\":\"#E0FFFF\",\"width\":1},\"mode\":\"lines\",\"x\":[0.4913223385810852,1.461714744567871],\"y\":[-0.3024752736091614,-0.500262901186943],\"z\":[-0.40355610847473145,-0.26492534577846527],\"type\":\"scatter3d\"},{\"line\":{\"color\":\"#E0FFFF\",\"width\":1},\"mode\":\"lines\",\"x\":[0.4913223385810852,1.4429563283920288],\"y\":[-0.3024752736091614,-0.49359259009361267],\"z\":[-0.40355610847473145,-0.16300085186958313],\"type\":\"scatter3d\"},{\"line\":{\"color\":\"#E0FFFF\",\"width\":1},\"mode\":\"lines\",\"x\":[0.4913223385810852,1.411902666091919],\"y\":[-0.3024752736091614,-0.484281986951828],\"z\":[-0.40355610847473145,-0.057900041341781616],\"type\":\"scatter3d\"},{\"line\":{\"color\":\"#E0FFFF\",\"width\":1},\"mode\":\"lines\",\"x\":[0.4913223385810852,1.3680357933044434],\"y\":[-0.3024752736091614,-0.47232985496520996],\"z\":[-0.40355610847473145,0.04646933078765869],\"type\":\"scatter3d\"},{\"line\":{\"color\":\"#E0FFFF\",\"width\":1},\"mode\":\"lines\",\"x\":[0.4913223385810852,1.3122564554214478],\"y\":[-0.3024752736091614,-0.45803865790367126],\"z\":[-0.40355610847473145,0.1458682417869568],\"type\":\"scatter3d\"},{\"line\":{\"color\":\"#E0FFFF\",\"width\":1},\"mode\":\"lines\",\"x\":[0.4913223385810852,1.2468620538711548],\"y\":[-0.3024752736091614,-0.44198839366436005],\"z\":[-0.40355610847473145,0.2365187406539917],\"type\":\"scatter3d\"},{\"line\":{\"color\":\"#E0FFFF\",\"width\":1},\"mode\":\"lines\",\"x\":[0.4913223385810852,1.1750975847244263],\"y\":[-0.3024752736091614,-0.42492474615573883],\"z\":[-0.40355610847473145,0.31578904390335083],\"type\":\"scatter3d\"},{\"line\":{\"color\":\"#E0FFFF\",\"width\":1},\"mode\":\"lines\",\"x\":[0.4913223385810852,1.4713214635849],\"y\":[-0.3024752736091614,-0.46087488532066345],\"z\":[-0.40355610847473145,-0.2830938622355461],\"type\":\"scatter3d\"},{\"line\":{\"color\":\"#E0FFFF\",\"width\":1},\"mode\":\"lines\",\"x\":[0.4913223385810852,1.454803466796875],\"y\":[-0.3024752736091614,-0.4531853049993515],\"z\":[-0.40355610847473145,-0.18221813440322876],\"type\":\"scatter3d\"},{\"line\":{\"color\":\"#E0FFFF\",\"width\":1},\"mode\":\"lines\",\"x\":[0.4913223385810852,1.4261550307273865],\"y\":[-0.3024752736091614,-0.4432786554098129],\"z\":[-0.40355610847473145,-0.07757729291915894],\"type\":\"scatter3d\"},{\"line\":{\"color\":\"#E0FFFF\",\"width\":1},\"mode\":\"lines\",\"x\":[0.4913223385810852,1.3846269845962524],\"y\":[-0.3024752736091614,-0.43121300637722015],\"z\":[-0.40355610847473145,0.027063637971878052],\"type\":\"scatter3d\"},{\"line\":{\"color\":\"#E0FFFF\",\"width\":1},\"mode\":\"lines\",\"x\":[0.4913223385810852,1.330851137638092],\"y\":[-0.3024752736091614,-0.4173000305891037],\"z\":[-0.40355610847473145,0.12748682498931885],\"type\":\"scatter3d\"},{\"line\":{\"color\":\"#E0FFFF\",\"width\":1},\"mode\":\"lines\",\"x\":[0.4913223385810852,1.2668964862823486],\"y\":[-0.3024752736091614,-0.40207673609256744],\"z\":[-0.40355610847473145,0.21979308128356934],\"type\":\"scatter3d\"},{\"line\":{\"color\":\"#E0FFFF\",\"width\":1},\"mode\":\"lines\",\"x\":[0.4913223385810852,1.1958889961242676],\"y\":[-0.3024752736091614,-0.3862065151333809],\"z\":[-0.40355610847473145,0.30112457275390625],\"type\":\"scatter3d\"},{\"line\":{\"color\":\"#E0FFFF\",\"width\":1},\"mode\":\"lines\",\"x\":[0.4913223385810852,1.1213474869728088],\"y\":[-0.3024752736091614,-0.3703492283821106],\"z\":[-0.40355610847473145,0.37004679441452026],\"type\":\"scatter3d\"},{\"line\":{\"color\":\"#E0FFFF\",\"width\":1},\"mode\":\"lines\",\"x\":[0.4913223385810852,1.464457929134369],\"y\":[-0.3024752736091614,-0.41305462270975113],\"z\":[-0.40355610847473145,-0.20161747932434082],\"type\":\"scatter3d\"},{\"line\":{\"color\":\"#E0FFFF\",\"width\":1},\"mode\":\"lines\",\"x\":[0.4913223385810852,1.4381614923477173],\"y\":[-0.3024752736091614,-0.4024134650826454],\"z\":[-0.40355610847473145,-0.09776556491851807],\"type\":\"scatter3d\"},{\"line\":{\"color\":\"#E0FFFF\",\"width\":1},\"mode\":\"lines\",\"x\":[0.4913223385810852,1.3990337252616882],\"y\":[-0.3024752736091614,-0.39007843285799026],\"z\":[-0.40355610847473145,0.006792038679122925],\"type\":\"scatter3d\"},{\"line\":{\"color\":\"#E0FFFF\",\"width\":1},\"mode\":\"lines\",\"x\":[0.4913223385810852,1.3474425673484802],\"y\":[-0.3024752736091614,-0.3763870596885681],\"z\":[-0.40355610847473145,0.10790765285491943],\"type\":\"scatter3d\"},{\"line\":{\"color\":\"#E0FFFF\",\"width\":1},\"mode\":\"lines\",\"x\":[0.4913223385810852,1.2852053046226501],\"y\":[-0.3024752736091614,-0.36185041069984436],\"z\":[-0.40355610847473145,0.2016085982322693],\"type\":\"scatter3d\"},{\"line\":{\"color\":\"#E0FFFF\",\"width\":1},\"mode\":\"lines\",\"x\":[0.4913223385810852,1.2152851223945618],\"y\":[-0.3024752736091614,-0.3470620736479759],\"z\":[-0.40355610847473145,0.28484052419662476],\"type\":\"scatter3d\"},{\"line\":{\"color\":\"#E0FFFF\",\"width\":1},\"mode\":\"lines\",\"x\":[0.4913223385810852,1.141164243221283],\"y\":[-0.3024752736091614,-0.33258644863963127],\"z\":[-0.40355610847473145,0.3559165596961975],\"type\":\"scatter3d\"},{\"line\":{\"color\":\"#E0FFFF\",\"width\":1},\"mode\":\"lines\",\"x\":[0.4913223385810852,1.4719647765159607],\"y\":[-0.3024752736091614,-0.373446986079216],\"z\":[-0.40355610847473145,-0.2210642546415329],\"type\":\"scatter3d\"},{\"line\":{\"color\":\"#E0FFFF\",\"width\":1},\"mode\":\"lines\",\"x\":[0.4913223385810852,1.4479284882545471],\"y\":[-0.3024752736091614,-0.36195777729153633],\"z\":[-0.40355610847473145,-0.1183081567287445],\"type\":\"scatter3d\"},{\"line\":{\"color\":\"#E0FFFF\",\"width\":1},\"mode\":\"lines\",\"x\":[0.4913223385810852,1.4112152457237244],\"y\":[-0.3024752736091614,-0.3492119796574116],\"z\":[-0.40355610847473145,-0.014181405305862427],\"type\":\"scatter3d\"},{\"line\":{\"color\":\"#E0FFFF\",\"width\":1},\"mode\":\"lines\",\"x\":[0.4913223385810852,1.3619428873062134],\"y\":[-0.3024752736091614,-0.3355867750942707],\"z\":[-0.40355610847473145,0.0872834324836731],\"type\":\"scatter3d\"},{\"line\":{\"color\":\"#E0FFFF\",\"width\":1},\"mode\":\"lines\",\"x\":[0.4913223385810852,1.3016639947891235],\"y\":[-0.3024752736091614,-0.3215841706842184],\"z\":[-0.40355610847473145,0.18208986520767212],\"type\":\"scatter3d\"},{\"line\":{\"color\":\"#E0FFFF\",\"width\":1},\"mode\":\"lines\",\"x\":[0.4913223385810852,1.2331412434577942],\"y\":[-0.3024752736091614,-0.3077431181445718],\"z\":[-0.40355610847473145,0.2670234441757202],\"type\":\"scatter3d\"},{\"line\":{\"color\":\"#E0FFFF\",\"width\":1},\"mode\":\"lines\",\"x\":[0.4913223385810852,1.1597734093666077],\"y\":[-0.3024752736091614,-0.2945422800257802],\"z\":[-0.40355610847473145,0.3401576280593872],\"type\":\"scatter3d\"},{\"line\":{\"color\":\"#E0FFFF\",\"width\":1},\"mode\":\"lines\",\"x\":[0.4913223385810852,1.4774048924446106],\"y\":[-0.3024752736091614,-0.3345857411623001],\"z\":[-0.40355610847473145,-0.24043050408363342],\"type\":\"scatter3d\"},{\"line\":{\"color\":\"#E0FFFF\",\"width\":1},\"mode\":\"lines\",\"x\":[0.4913223385810852,1.4555050134658813],\"y\":[-0.3024752736091614,-0.32216267846524715],\"z\":[-0.40355610847473145,-0.13904881477355957],\"type\":\"scatter3d\"},{\"line\":{\"color\":\"#E0FFFF\",\"width\":1},\"mode\":\"lines\",\"x\":[0.4913223385810852,1.4211766123771667],\"y\":[-0.3024752736091614,-0.3088844711892307],\"z\":[-0.40355610847473145,-0.035684049129486084],\"type\":\"scatter3d\"},{\"line\":{\"color\":\"#E0FFFF\",\"width\":1},\"mode\":\"lines\",\"x\":[0.4913223385810852,1.374309003353119],\"y\":[-0.3024752736091614,-0.29517799615859985],\"z\":[-0.40355610847473145,0.06578516960144043],\"type\":\"scatter3d\"},{\"line\":{\"color\":\"#E0FFFF\",\"width\":1},\"mode\":\"lines\",\"x\":[0.4913223385810852,1.3161863684654236],\"y\":[-0.3024752736091614,-0.28155163675546646],\"z\":[-0.40355610847473145,0.1613876223564148],\"type\":\"scatter3d\"},{\"line\":{\"color\":\"#E0FFFF\",\"width\":1},\"mode\":\"lines\",\"x\":[0.4913223385810852,1.2493417859077454],\"y\":[-0.3024752736091614,-0.26850625872612],\"z\":[-0.40355610847473145,0.2477906346321106],\"type\":\"scatter3d\"},{\"line\":{\"color\":\"#E0FFFF\",\"width\":1},\"mode\":\"lines\",\"x\":[0.4913223385810852,1.1770464777946472],\"y\":[-0.3024752736091614,-0.25644800812005997],\"z\":[-0.40355610847473145,0.3228486180305481],\"type\":\"scatter3d\"},{\"line\":{\"color\":\"#E0FFFF\",\"width\":1},\"mode\":\"lines\",\"x\":[0.4913223385810852,1.480889081954956],\"y\":[-0.3024752736091614,-0.2966663776896894],\"z\":[-0.40355610847473145,-0.2595983147621155],\"type\":\"scatter3d\"},{\"line\":{\"color\":\"#E0FFFF\",\"width\":1},\"mode\":\"lines\",\"x\":[0.4913223385810852,1.460977554321289],\"y\":[-0.3024752736091614,-0.28325243294239044],\"z\":[-0.40355610847473145,-0.15983666479587555],\"type\":\"scatter3d\"},{\"line\":{\"color\":\"#E0FFFF\",\"width\":1},\"mode\":\"lines\",\"x\":[0.4913223385810852,1.4289661049842834],\"y\":[-0.3024752736091614,-0.2693435251712799],\"z\":[-0.40355610847473145,-0.0575411319732666],\"type\":\"scatter3d\"},{\"line\":{\"color\":\"#E0FFFF\",\"width\":1},\"mode\":\"lines\",\"x\":[0.4913223385810852,1.384541928768158],\"y\":[-0.3024752736091614,-0.2554222233593464],\"z\":[-0.40355610847473145,0.043595582246780396],\"type\":\"scatter3d\"},{\"line\":{\"color\":\"#E0FFFF\",\"width\":1},\"mode\":\"lines\",\"x\":[0.4913223385810852,1.3287269473075867],\"y\":[-0.3024752736091614,-0.24201617017388344],\"z\":[-0.40355610847473145,0.13967329263687134],\"type\":\"scatter3d\"},{\"line\":{\"color\":\"#E0FFFF\",\"width\":1},\"mode\":\"lines\",\"x\":[0.4913223385810852,1.2638041973114014],\"y\":[-0.3024752736091614,-0.22960469126701355],\"z\":[-0.40355610847473145,0.22728586196899414],\"type\":\"scatter3d\"},{\"line\":{\"color\":\"#E0FFFF\",\"width\":1},\"mode\":\"lines\",\"x\":[0.4913223385810852,1.1928788423538208],\"y\":[-0.3024752736091614,-0.21853704005479813],\"z\":[-0.40355610847473145,0.30409687757492065],\"type\":\"scatter3d\"},{\"line\":{\"color\":\"#E0FFFF\",\"width\":1},\"mode\":\"lines\",\"x\":[0.4913223385810852,1.4825512766838074],\"y\":[-0.3024752736091614,-0.2598536014556885],\"z\":[-0.40355610847473145,-0.2784622460603714],\"type\":\"scatter3d\"},{\"line\":{\"color\":\"#E0FFFF\",\"width\":1},\"mode\":\"lines\",\"x\":[0.4913223385810852,1.4644637703895569],\"y\":[-0.3024752736091614,-0.24541990086436272],\"z\":[-0.40355610847473145,-0.18053069710731506],\"type\":\"scatter3d\"},{\"line\":{\"color\":\"#E0FFFF\",\"width\":1},\"mode\":\"lines\",\"x\":[0.4913223385810852,1.4346696138381958],\"y\":[-0.3024752736091614,-0.23080728203058243],\"z\":[-0.40355610847473145,-0.07958155870437622],\"type\":\"scatter3d\"},{\"line\":{\"color\":\"#E0FFFF\",\"width\":1},\"mode\":\"lines\",\"x\":[0.4913223385810852,1.3926841020584106],\"y\":[-0.3024752736091614,-0.21655599772930145],\"z\":[-0.40355610847473145,0.020902127027511597],\"type\":\"scatter3d\"},{\"line\":{\"color\":\"#E0FFFF\",\"width\":1},\"mode\":\"lines\",\"x\":[0.4913223385810852,1.3392801880836487],\"y\":[-0.3024752736091614,-0.2032226100564003],\"z\":[-0.40355610847473145,0.11713218688964844],\"type\":\"scatter3d\"},{\"line\":{\"color\":\"#E0FFFF\",\"width\":1},\"mode\":\"lines\",\"x\":[0.4913223385810852,1.2764807343482971],\"y\":[-0.3024752736091614,-0.19128016382455826],\"z\":[-0.40355610847473145,0.205674409866333],\"type\":\"scatter3d\"},{\"line\":{\"color\":\"#E0FFFF\",\"width\":1},\"mode\":\"lines\",\"x\":[0.4913223385810852,1.2071928977966309],\"y\":[-0.3024752736091614,-0.18103782087564468],\"z\":[-0.40355610847473145,0.28403544425964355],\"type\":\"scatter3d\"},{\"line\":{\"color\":\"#E0FFFF\",\"width\":1},\"mode\":\"lines\",\"x\":[0.4913223385810852,1.1346296668052673],\"y\":[-0.3024752736091614,-0.17260991036891937],\"z\":[-0.40355610847473145,0.35095739364624023],\"type\":\"scatter3d\"},{\"line\":{\"color\":\"#E0FFFF\",\"width\":1},\"mode\":\"lines\",\"x\":[0.4913223385810852,1.4661051630973816],\"y\":[-0.3024752736091614,-0.208824023604393],\"z\":[-0.40355610847473145,-0.20100295543670654],\"type\":\"scatter3d\"},{\"line\":{\"color\":\"#E0FFFF\",\"width\":1},\"mode\":\"lines\",\"x\":[0.4913223385810852,1.4384043216705322],\"y\":[-0.3024752736091614,-0.19346021860837936],\"z\":[-0.40355610847473145,-0.1016433835029602],\"type\":\"scatter3d\"},{\"line\":{\"color\":\"#E0FFFF\",\"width\":1},\"mode\":\"lines\",\"x\":[0.4913223385810852,1.3988141417503357],\"y\":[-0.3024752736091614,-0.17878515273332596],\"z\":[-0.40355610847473145,-0.0021095573902130127],\"type\":\"scatter3d\"},{\"line\":{\"color\":\"#E0FFFF\",\"width\":1},\"mode\":\"lines\",\"x\":[0.4913223385810852,1.3478785753250122],\"y\":[-0.3024752736091614,-0.16539043188095093],\"z\":[-0.40355610847473145,0.09395670890808105],\"type\":\"scatter3d\"},{\"line\":{\"color\":\"#E0FFFF\",\"width\":1},\"mode\":\"lines\",\"x\":[0.4913223385810852,1.2873586416244507],\"y\":[-0.3024752736091614,-0.15375582873821259],\"z\":[-0.40355610847473145,0.18313688039779663],\"type\":\"scatter3d\"},{\"line\":{\"color\":\"#E0FFFF\",\"width\":1},\"mode\":\"lines\",\"x\":[0.4913223385810852,1.2199398279190063],\"y\":[-0.3024752736091614,-0.14416703581809998],\"z\":[-0.40355610847473145,0.2628183960914612],\"type\":\"scatter3d\"},{\"line\":{\"color\":\"#E0FFFF\",\"width\":1},\"mode\":\"lines\",\"x\":[0.4913223385810852,1.1487081050872803],\"y\":[-0.3024752736091614,-0.1366889625787735],\"z\":[-0.40355610847473145,0.33153486251831055],\"type\":\"scatter3d\"},{\"line\":{\"color\":\"#E0FFFF\",\"width\":1},\"mode\":\"lines\",\"x\":[0.4913223385810852,1.466059684753418],\"y\":[-0.3024752736091614,-0.17358918488025665],\"z\":[-0.40355610847473145,-0.22114086151123047],\"type\":\"scatter3d\"},{\"line\":{\"color\":\"#E0FFFF\",\"width\":1},\"mode\":\"lines\",\"x\":[0.4913223385810852,1.4403112530708313],\"y\":[-0.3024752736091614,-0.1574511080980301],\"z\":[-0.40355610847473145,-0.12357765436172485],\"type\":\"scatter3d\"},{\"line\":{\"color\":\"#E0FFFF\",\"width\":1},\"mode\":\"lines\",\"x\":[0.4913223385810852,1.4030410051345825],\"y\":[-0.3024752736091614,-0.14228121936321259],\"z\":[-0.40355610847473145,-0.02526146173477173],\"type\":\"scatter3d\"},{\"line\":{\"color\":\"#E0FFFF\",\"width\":1},\"mode\":\"lines\",\"x\":[0.4913223385810852,1.3545882105827332],\"y\":[-0.3024752736091614,-0.12870876491069794],\"z\":[-0.40355610847473145,0.0703396201133728],\"type\":\"scatter3d\"},{\"line\":{\"color\":\"#E0FFFF\",\"width\":1},\"mode\":\"lines\",\"x\":[0.4913223385810852,1.296458125114441],\"y\":[-0.3024752736091614,-0.1172303855419159],\"z\":[-0.40355610847473145,0.15986257791519165],\"type\":\"scatter3d\"},{\"line\":{\"color\":\"#E0FFFF\",\"width\":1},\"mode\":\"lines\",\"x\":[0.4913223385810852,1.2310998439788818],\"y\":[-0.3024752736091614,-0.10812367498874664],\"z\":[-0.40355610847473145,0.24061518907546997],\"type\":\"scatter3d\"},{\"line\":{\"color\":\"#E0FFFF\",\"width\":1},\"mode\":\"lines\",\"x\":[0.4913223385810852,1.1614415049552917],\"y\":[-0.3024752736091614,-0.10142070055007935],\"z\":[-0.40355610847473145,0.31094878911972046],\"type\":\"scatter3d\"},{\"line\":{\"color\":\"#E0FFFF\",\"width\":1},\"mode\":\"lines\",\"x\":[0.4913223385810852,1.4644949436187744],\"y\":[-0.3024752736091614,-0.13980625569820404],\"z\":[-0.40355610847473145,-0.24084852635860443],\"type\":\"scatter3d\"},{\"line\":{\"color\":\"#E0FFFF\",\"width\":1},\"mode\":\"lines\",\"x\":[0.4913223385810852,1.4405477643013],\"y\":[-0.3024752736091614,-0.12289299070835114],\"z\":[-0.40355610847473145,-0.14525163173675537],\"type\":\"scatter3d\"},{\"line\":{\"color\":\"#E0FFFF\",\"width\":1},\"mode\":\"lines\",\"x\":[0.4913223385810852,1.4054969549179077],\"y\":[-0.3024752736091614,-0.10717988014221191],\"z\":[-0.40355610847473145,-0.04838806390762329],\"type\":\"scatter3d\"},{\"line\":{\"color\":\"#E0FFFF\",\"width\":1},\"mode\":\"lines\",\"x\":[0.4913223385810852,1.3595032691955566],\"y\":[-0.3024752736091614,-0.09333334863185883],\"z\":[-0.40355610847473145,0.04646766185760498],\"type\":\"scatter3d\"},{\"line\":{\"color\":\"#E0FFFF\",\"width\":1},\"mode\":\"lines\",\"x\":[0.4913223385810852,1.3038294315338135],\"y\":[-0.3024752736091614,-0.08187389373779297],\"z\":[-0.40355610847473145,0.13604295253753662],\"type\":\"scatter3d\"},{\"line\":{\"color\":\"#FAFAD2\",\"width\":1},\"mode\":\"lines\",\"x\":[0.2959826588630676,0.8419426083564758],\"y\":[-0.17425888776779175,-0.6896772980690002],\"z\":[-0.6899168491363525,-0.029408156871795654],\"type\":\"scatter3d\"},{\"line\":{\"color\":\"#FAFAD2\",\"width\":1},\"mode\":\"lines\",\"x\":[0.2959826588630676,1.081716239452362],\"y\":[-0.17425888776779175,-0.7858588099479675],\"z\":[-0.6899168491363525,-0.5973517969250679],\"type\":\"scatter3d\"},{\"line\":{\"color\":\"#FAFAD2\",\"width\":1},\"mode\":\"lines\",\"x\":[0.2959826588630676,1.0665998458862305],\"y\":[-0.17425888776779175,-0.781838059425354],\"z\":[-0.6899168491363525,-0.4975716173648834],\"type\":\"scatter3d\"},{\"line\":{\"color\":\"#FAFAD2\",\"width\":1},\"mode\":\"lines\",\"x\":[0.2959826588630676,1.0425403714179993],\"y\":[-0.17425888776779175,-0.7710819244384766],\"z\":[-0.6899168491363525,-0.39588645100593567],\"type\":\"scatter3d\"},{\"line\":{\"color\":\"#FAFAD2\",\"width\":1},\"mode\":\"lines\",\"x\":[0.2959826588630676,1.0095897316932678],\"y\":[-0.17425888776779175,-0.7533695101737976],\"z\":[-0.6899168491363525,-0.29571396112442017],\"type\":\"scatter3d\"},{\"line\":{\"color\":\"#FAFAD2\",\"width\":1},\"mode\":\"lines\",\"x\":[0.2959826588630676,0.9686985611915588],\"y\":[-0.17425888776779175,-0.7291694283485413],\"z\":[-0.6899168491363525,-0.2005012333393097],\"type\":\"scatter3d\"},{\"line\":{\"color\":\"#FAFAD2\",\"width\":1},\"mode\":\"lines\",\"x\":[0.2959826588630676,0.9215880632400513],\"y\":[-0.17425888776779175,-0.6995841264724731],\"z\":[-0.6899168491363525,-0.11315745115280151],\"type\":\"scatter3d\"},{\"line\":{\"color\":\"#FAFAD2\",\"width\":1},\"mode\":\"lines\",\"x\":[0.2959826588630676,0.8704239130020142],\"y\":[-0.17425888776779175,-0.6661306023597717],\"z\":[-0.6899168491363525,-0.03563892841339111],\"type\":\"scatter3d\"},{\"line\":{\"color\":\"#FAFAD2\",\"width\":1},\"mode\":\"lines\",\"x\":[0.2959826588630676,1.1059104800224304],\"y\":[-0.17425888776779175,-0.7561612129211426],\"z\":[-0.6899168491363525,-0.6163875460624695],\"type\":\"scatter3d\"},{\"line\":{\"color\":\"#FAFAD2\",\"width\":1},\"mode\":\"lines\",\"x\":[0.2959826588630676,1.0929998755455017],\"y\":[-0.17425888776779175,-0.7526051998138428],\"z\":[-0.6899168491363525,-0.5159081667661667],\"type\":\"scatter3d\"},{\"line\":{\"color\":\"#FAFAD2\",\"width\":1},\"mode\":\"lines\",\"x\":[0.2959826588630676,1.0707609057426453],\"y\":[-0.17425888776779175,-0.742540717124939],\"z\":[-0.6899168491363525,-0.41283488273620605],\"type\":\"scatter3d\"},{\"line\":{\"color\":\"#FAFAD2\",\"width\":1},\"mode\":\"lines\",\"x\":[0.2959826588630676,1.0390348434448242],\"y\":[-0.17425888776779175,-0.7256578207015991],\"z\":[-0.6899168491363525,-0.31066399812698364],\"type\":\"scatter3d\"},{\"line\":{\"color\":\"#FAFAD2\",\"width\":1},\"mode\":\"lines\",\"x\":[0.2959826588630676,0.9986351132392883],\"y\":[-0.17425888776779175,-0.7023320198059082],\"z\":[-0.6899168491363525,-0.21303287148475647],\"type\":\"scatter3d\"},{\"line\":{\"color\":\"#FAFAD2\",\"width\":1},\"mode\":\"lines\",\"x\":[0.2959826588630676,0.9512588381767273],\"y\":[-0.17425888776779175,-0.6735960841178894],\"z\":[-0.6899168491363525,-0.12310510873794556],\"type\":\"scatter3d\"},{\"line\":{\"color\":\"#FAFAD2\",\"width\":1},\"mode\":\"lines\",\"x\":[0.2959826588630676,0.8991608619689941],\"y\":[-0.17425888776779175,-0.6409343481063843],\"z\":[-0.6899168491363525,-0.04308593273162842],\"type\":\"scatter3d\"},{\"line\":{\"color\":\"#FAFAD2\",\"width\":1},\"mode\":\"lines\",\"x\":[0.2959826588630676,1.1289292573928833],\"y\":[-0.17425888776779175,-0.7249621748924255],\"z\":[-0.6899168491363525,-0.6358262896537781],\"type\":\"scatter3d\"},{\"line\":{\"color\":\"#FAFAD2\",\"width\":1},\"mode\":\"lines\",\"x\":[0.2959826588630676,1.1183468103408813],\"y\":[-0.17425888776779175,-0.7217028737068176],\"z\":[-0.6899168491363525,-0.5349255055189133],\"type\":\"scatter3d\"},{\"line\":{\"color\":\"#FAFAD2\",\"width\":1},\"mode\":\"lines\",\"x\":[0.2959826588630676,1.098121166229248],\"y\":[-0.17425888776779175,-0.712212324142456],\"z\":[-0.6899168491363525,-0.43072593212127686],\"type\":\"scatter3d\"},{\"line\":{\"color\":\"#FAFAD2\",\"width\":1},\"mode\":\"lines\",\"x\":[0.2959826588630676,1.0678630471229553],\"y\":[-0.17425888776779175,-0.6961039900779724],\"z\":[-0.6899168491363525,-0.3267662227153778],\"type\":\"scatter3d\"},{\"line\":{\"color\":\"#FAFAD2\",\"width\":1},\"mode\":\"lines\",\"x\":[0.2959826588630676,1.02821546792984],\"y\":[-0.17425888776779175,-0.6736615002155304],\"z\":[-0.6899168491363525,-0.2268485724925995],\"type\":\"scatter3d\"},{\"line\":{\"color\":\"#FAFAD2\",\"width\":1},\"mode\":\"lines\",\"x\":[0.2959826588630676,0.9808160662651062],\"y\":[-0.17425888776779175,-0.6458382606506348],\"z\":[-0.6899168491363525,-0.13438451290130615],\"type\":\"scatter3d\"},{\"line\":{\"color\":\"#FAFAD2\",\"width\":1},\"mode\":\"lines\",\"x\":[0.2959826588630676,0.9279828071594238],\"y\":[-0.17425888776779175,-0.6140704154968262],\"z\":[-0.6899168491363525,-0.051840245723724365],\"type\":\"scatter3d\"},{\"line\":{\"color\":\"#FAFAD2\",\"width\":1},\"mode\":\"lines\",\"x\":[0.2959826588630676,1.1505924463272095],\"y\":[-0.17425888776779175,-0.6923921704292297],\"z\":[-0.6899168491363525,-0.6555671319365501],\"type\":\"scatter3d\"},{\"line\":{\"color\":\"#FAFAD2\",\"width\":1},\"mode\":\"lines\",\"x\":[0.2959826588630676,1.1424234509468079],\"y\":[-0.17425888776779175,-0.6892443299293518],\"z\":[-0.6899168491363525,-0.5545361340045929],\"type\":\"scatter3d\"},{\"line\":{\"color\":\"#FAFAD2\",\"width\":1},\"mode\":\"lines\",\"x\":[0.2959826588630676,1.1243767738342285],\"y\":[-0.17425888776779175,-0.6801863312721252],\"z\":[-0.6899168491363525,-0.44949933886528015],\"type\":\"scatter3d\"},{\"line\":{\"color\":\"#FAFAD2\",\"width\":1},\"mode\":\"lines\",\"x\":[0.2959826588630676,1.095818817615509],\"y\":[-0.17425888776779175,-0.6647712588310242],\"z\":[-0.6899168491363525,-0.34399816393852234],\"type\":\"scatter3d\"},{\"line\":{\"color\":\"#FAFAD2\",\"width\":1},\"mode\":\"lines\",\"x\":[0.2959826588630676,1.0571911334991455],\"y\":[-0.17425888776779175,-0.6431965529918671],\"z\":[-0.6899168491363525,-0.2419668436050415],\"type\":\"scatter3d\"},{\"line\":{\"color\":\"#FAFAD2\",\"width\":1},\"mode\":\"lines\",\"x\":[0.2959826588630676,1.0100340843200684],\"y\":[-0.17425888776779175,-0.6163300573825836],\"z\":[-0.6899168491363525,-0.1470506191253662],\"type\":\"scatter3d\"},{\"line\":{\"color\":\"#FAFAD2\",\"width\":1},\"mode\":\"lines\",\"x\":[0.2959826588630676,0.9566964507102966],\"y\":[-0.17425888776779175,-0.5855454504489899],\"z\":[-0.6899168491363525,-0.06198310852050781],\"type\":\"scatter3d\"},{\"line\":{\"color\":\"#FAFAD2\",\"width\":1},\"mode\":\"lines\",\"x\":[0.2959826588630676,1.1707377433776855],\"y\":[-0.17425888776779175,-0.6586095988750458],\"z\":[-0.6899168491363525,-0.6755008203908801],\"type\":\"scatter3d\"},{\"line\":{\"color\":\"#FAFAD2\",\"width\":1},\"mode\":\"lines\",\"x\":[0.2959826588630676,1.1650259494781494],\"y\":[-0.17425888776779175,-0.6553767323493958],\"z\":[-0.6899168491363525,-0.574637658894062],\"type\":\"scatter3d\"},{\"line\":{\"color\":\"#FAFAD2\",\"width\":1},\"mode\":\"lines\",\"x\":[0.2959826588630676,1.149289309978485],\"y\":[-0.17425888776779175,-0.6465897262096405],\"z\":[-0.6899168491363525,-0.4690746068954468],\"type\":\"scatter3d\"},{\"line\":{\"color\":\"#FAFAD2\",\"width\":1},\"mode\":\"lines\",\"x\":[0.2959826588630676,1.1226434707641602],\"y\":[-0.17425888776779175,-0.6317613124847412],\"z\":[-0.6899168491363525,-0.36231425404548645],\"type\":\"scatter3d\"},{\"line\":{\"color\":\"#FAFAD2\",\"width\":1},\"mode\":\"lines\",\"x\":[0.2959826588630676,1.0853021740913391],\"y\":[-0.17425888776779175,-0.611012727022171],\"z\":[-0.6899168491363525,-0.25838375091552734],\"type\":\"scatter3d\"},{\"line\":{\"color\":\"#FAFAD2\",\"width\":1},\"mode\":\"lines\",\"x\":[0.2959826588630676,1.038669764995575],\"y\":[-0.17425888776779175,-0.5851241946220398],\"z\":[-0.6899168491363525,-0.16113930940628052],\"type\":\"scatter3d\"},{\"line\":{\"color\":\"#FAFAD2\",\"width\":1},\"mode\":\"lines\",\"x\":[0.2959826588630676,0.9850883483886719],\"y\":[-0.17425888776779175,-0.55539470911026],\"z\":[-0.6899168491363525,-0.0735817551612854],\"type\":\"scatter3d\"},{\"line\":{\"color\":\"#FAFAD2\",\"width\":1},\"mode\":\"lines\",\"x\":[0.2959826588630676,1.18922621011734],\"y\":[-0.17425888776779175,-0.6237969696521759],\"z\":[-0.6899168491363525,-0.6955126305110753],\"type\":\"scatter3d\"},{\"line\":{\"color\":\"#FAFAD2\",\"width\":1},\"mode\":\"lines\",\"x\":[0.2959826588630676,1.185971200466156],\"y\":[-0.17425888776779175,-0.6202779412269592],\"z\":[-0.6899168491363525,-0.5951152294874191],\"type\":\"scatter3d\"},{\"line\":{\"color\":\"#FAFAD2\",\"width\":1},\"mode\":\"lines\",\"x\":[0.2959826588630676,1.1726346611976624],\"y\":[-0.17425888776779175,-0.6115859150886536],\"z\":[-0.6899168491363525,-0.4893518537282944],\"type\":\"scatter3d\"},{\"line\":{\"color\":\"#FAFAD2\",\"width\":1},\"mode\":\"lines\",\"x\":[0.2959826588630676,1.1480838060379028],\"y\":[-0.17425888776779175,-0.5972150266170502],\"z\":[-0.6899168491363525,-0.38164475560188293],\"type\":\"scatter3d\"},{\"line\":{\"color\":\"#FAFAD2\",\"width\":1},\"mode\":\"lines\",\"x\":[0.2959826588630676,1.1122848987579346],\"y\":[-0.17425888776779175,-0.5772246420383453],\"z\":[-0.6899168491363525,-0.2760699689388275],\"type\":\"scatter3d\"},{\"line\":{\"color\":\"#FAFAD2\",\"width\":1},\"mode\":\"lines\",\"x\":[0.2959826588630676,1.066468596458435],\"y\":[-0.17425888776779175,-0.5523096323013306],\"z\":[-0.6899168491363525,-0.17666339874267578],\"type\":\"scatter3d\"},{\"line\":{\"color\":\"#FAFAD2\",\"width\":1},\"mode\":\"lines\",\"x\":[0.2959826588630676,1.0129292011260986],\"y\":[-0.17425888776779175,-0.5236853659152985],\"z\":[-0.6899168491363525,-0.08668482303619385],\"type\":\"scatter3d\"},{\"line\":{\"color\":\"#FAFAD2\",\"width\":1},\"mode\":\"lines\",\"x\":[0.2959826588630676,0.9545282125473022],\"y\":[-0.17425888776779175,-0.4928291440010071],\"z\":[-0.6899168491363525,-0.008131802082061768],\"type\":\"scatter3d\"},{\"line\":{\"color\":\"#FAFAD2\",\"width\":1},\"mode\":\"lines\",\"x\":[0.2959826588630676,1.2051032185554504],\"y\":[-0.17425888776779175,-0.5841527879238129],\"z\":[-0.6899168491363525,-0.6158445701003075],\"type\":\"scatter3d\"},{\"line\":{\"color\":\"#FAFAD2\",\"width\":1},\"mode\":\"lines\",\"x\":[0.2959826588630676,1.1942116618156433],\"y\":[-0.17425888776779175,-0.5753717124462128],\"z\":[-0.6899168491363525,-0.5102139413356781],\"type\":\"scatter3d\"},{\"line\":{\"color\":\"#FAFAD2\",\"width\":1},\"mode\":\"lines\",\"x\":[0.2959826588630676,1.1719020009040833],\"y\":[-0.17425888776779175,-0.5613111257553101],\"z\":[-0.6899168491363525,-0.40189632773399353],\"type\":\"scatter3d\"},{\"line\":{\"color\":\"#FAFAD2\",\"width\":1},\"mode\":\"lines\",\"x\":[0.2959826588630676,1.137881100177765],\"y\":[-0.17425888776779175,-0.5419861674308777],\"z\":[-0.6899168491363525,-0.2949691414833069],\"type\":\"scatter3d\"},{\"line\":{\"color\":\"#FAFAD2\",\"width\":1},\"mode\":\"lines\",\"x\":[0.2959826588630676,1.093172550201416],\"y\":[-0.17425888776779175,-0.5180131196975708],\"z\":[-0.6899168491363525,-0.19360914826393127],\"type\":\"scatter3d\"},{\"line\":{\"color\":\"#FAFAD2\",\"width\":1},\"mode\":\"lines\",\"x\":[0.2959826588630676,1.0399791598320007],\"y\":[-0.17425888776779175,-0.4905189275741577],\"z\":[-0.6899168491363525,-0.10131776332855225],\"type\":\"scatter3d\"},{\"line\":{\"color\":\"#FAFAD2\",\"width\":1},\"mode\":\"lines\",\"x\":[0.2959826588630676,0.9812036752700806],\"y\":[-0.17425888776779175,-0.46090319752693176],\"z\":[-0.6899168491363525,-0.020359277725219727],\"type\":\"scatter3d\"},{\"line\":{\"color\":\"#FAFAD2\",\"width\":1},\"mode\":\"lines\",\"x\":[0.2959826588630676,1.2222991585731506],\"y\":[-0.17425888776779175,-0.5472268760204315],\"z\":[-0.6899168491363525,-0.6366957165300846],\"type\":\"scatter3d\"},{\"line\":{\"color\":\"#FAFAD2\",\"width\":1},\"mode\":\"lines\",\"x\":[0.2959826588630676,1.2138501405715942],\"y\":[-0.17425888776779175,-0.5381720066070557],\"z\":[-0.6899168491363525,-0.5315296500921249],\"type\":\"scatter3d\"},{\"line\":{\"color\":\"#FAFAD2\",\"width\":1},\"mode\":\"lines\",\"x\":[0.2959826588630676,1.1938846707344055],\"y\":[-0.17425888776779175,-0.5242623686790466],\"z\":[-0.6899168491363525,-0.4229533076286316],\"type\":\"scatter3d\"},{\"line\":{\"color\":\"#FAFAD2\",\"width\":1},\"mode\":\"lines\",\"x\":[0.2959826588630676,1.1618477702140808],\"y\":[-0.17425888776779175,-0.505488395690918],\"z\":[-0.6899168491363525,-0.31499728560447693],\"type\":\"scatter3d\"},{\"line\":{\"color\":\"#FAFAD2\",\"width\":1},\"mode\":\"lines\",\"x\":[0.2959826588630676,1.118528664112091],\"y\":[-0.17425888776779175,-0.4823988974094391],\"z\":[-0.6899168491363525,-0.21193376183509827],\"type\":\"scatter3d\"},{\"line\":{\"color\":\"#FAFAD2\",\"width\":1},\"mode\":\"lines\",\"x\":[0.2959826588630676,1.0659953951835632],\"y\":[-0.17425888776779175,-0.45603179931640625],\"z\":[-0.6899168491363525,-0.11747956275939941],\"type\":\"scatter3d\"},{\"line\":{\"color\":\"#FAFAD2\",\"width\":1},\"mode\":\"lines\",\"x\":[0.2959826588630676,1.0071487426757812],\"y\":[-0.17425888776779175,-0.42769932746887207],\"z\":[-0.6899168491363525,-0.03416472673416138],\"type\":\"scatter3d\"},{\"line\":{\"color\":\"#FAFAD2\",\"width\":1},\"mode\":\"lines\",\"x\":[0.2959826588630676,1.237472951412201],\"y\":[-0.17425888776779175,-0.5097397565841675],\"z\":[-0.6899168491363525,-0.6575370319187641],\"type\":\"scatter3d\"},{\"line\":{\"color\":\"#FAFAD2\",\"width\":1},\"mode\":\"lines\",\"x\":[0.2959826588630676,1.2314171195030212],\"y\":[-0.17425888776779175,-0.5002332031726837],\"z\":[-0.6899168491363525,-0.553157702088356],\"type\":\"scatter3d\"},{\"line\":{\"color\":\"#FAFAD2\",\"width\":1},\"mode\":\"lines\",\"x\":[0.2959826588630676,1.2138517498970032],\"y\":[-0.17425888776779175,-0.4863097369670868],\"z\":[-0.6899168491363525,-0.4446810781955719],\"type\":\"scatter3d\"},{\"line\":{\"color\":\"#FAFAD2\",\"width\":1},\"mode\":\"lines\",\"x\":[0.2959826588630676,1.1839670538902283],\"y\":[-0.17425888776779175,-0.46795549988746643],\"z\":[-0.6899168491363525,-0.336044043302536],\"type\":\"scatter3d\"},{\"line\":{\"color\":\"#FAFAD2\",\"width\":1},\"mode\":\"lines\",\"x\":[0.2959826588630676,1.1422988772392273],\"y\":[-0.17425888776779175,-0.4456660747528076],\"z\":[-0.6899168491363525,-0.23156428337097168],\"type\":\"scatter3d\"},{\"line\":{\"color\":\"#FAFAD2\",\"width\":1},\"mode\":\"lines\",\"x\":[0.2959826588630676,1.0907400250434875],\"y\":[-0.17425888776779175,-0.4203943759202957],\"z\":[-0.6899168491363525,-0.13513928651809692],\"type\":\"scatter3d\"},{\"line\":{\"color\":\"#FAFAD2\",\"width\":1},\"mode\":\"lines\",\"x\":[0.2959826588630676,1.0321430563926697],\"y\":[-0.17425888776779175,-0.393359512090683],\"z\":[-0.6899168491363525,-0.049555301666259766],\"type\":\"scatter3d\"},{\"line\":{\"color\":\"#FAFAD2\",\"width\":1},\"mode\":\"lines\",\"x\":[0.2959826588630676,1.2505773901939392],\"y\":[-0.17425888776779175,-0.47193729877471924],\"z\":[-0.6899168491363525,-0.6782393380999565],\"type\":\"scatter3d\"},{\"line\":{\"color\":\"#FAFAD2\",\"width\":1},\"mode\":\"lines\",\"x\":[0.2959826588630676,1.246821403503418],\"y\":[-0.17425888776779175,-0.46181491017341614],\"z\":[-0.6899168491363525,-0.5749513506889343],\"type\":\"scatter3d\"},{\"line\":{\"color\":\"#FAFAD2\",\"width\":1},\"mode\":\"lines\",\"x\":[0.2959826588630676,1.231663465499878],\"y\":[-0.17425888776779175,-0.44771483540534973],\"z\":[-0.6899168491363525,-0.46692995727062225],\"type\":\"scatter3d\"},{\"line\":{\"color\":\"#FAFAD2\",\"width\":1},\"mode\":\"lines\",\"x\":[0.2959826588630676,1.204055368900299],\"y\":[-0.17425888776779175,-0.4296382963657379],\"z\":[-0.6899168491363525,-0.3579751253128052],\"type\":\"scatter3d\"},{\"line\":{\"color\":\"#FAFAD2\",\"width\":1},\"mode\":\"lines\",\"x\":[0.2959826588630676,1.1642694473266602],\"y\":[-0.17425888776779175,-0.4080439656972885],\"z\":[-0.6899168491363525,-0.25239819288253784],\"type\":\"scatter3d\"},{\"line\":{\"color\":\"#FAFAD2\",\"width\":1},\"mode\":\"lines\",\"x\":[0.2959826588630676,1.1139888167381287],\"y\":[-0.17425888776779175,-0.38380804657936096],\"z\":[-0.6899168491363525,-0.1542348861694336],\"type\":\"scatter3d\"},{\"line\":{\"color\":\"#FAFAD2\",\"width\":1},\"mode\":\"lines\",\"x\":[0.2959826588630676,1.0559707880020142],\"y\":[-0.17425888776779175,-0.3580552637577057],\"z\":[-0.6899168491363525,-0.06650924682617188],\"type\":\"scatter3d\"},{\"line\":{\"color\":\"#FAFAD2\",\"width\":1},\"mode\":\"lines\",\"x\":[0.2959826588630676,1.2616039514541626],\"y\":[-0.17425888776779175,-0.43406376242637634],\"z\":[-0.6899168491363525,-0.6986797424033284],\"type\":\"scatter3d\"},{\"line\":{\"color\":\"#FAFAD2\",\"width\":1},\"mode\":\"lines\",\"x\":[0.2959826588630676,1.2600157856941223],\"y\":[-0.17425888776779175,-0.42318136990070343],\"z\":[-0.6899168491363525,-0.596763402223587],\"type\":\"scatter3d\"},{\"line\":{\"color\":\"#FAFAD2\",\"width\":1},\"mode\":\"lines\",\"x\":[0.2959826588630676,1.2472254037857056],\"y\":[-0.17425888776779175,-0.4087509214878082],\"z\":[-0.6899168491363525,-0.4895405024290085],\"type\":\"scatter3d\"},{\"line\":{\"color\":\"#FAFAD2\",\"width\":1},\"mode\":\"lines\",\"x\":[0.2959826588630676,1.2219703197479248],\"y\":[-0.17425888776779175,-0.3908059448003769],\"z\":[-0.6899168491363525,-0.38063669204711914],\"type\":\"scatter3d\"},{\"line\":{\"color\":\"#FAFAD2\",\"width\":1},\"mode\":\"lines\",\"x\":[0.2959826588630676,1.1842600107192993],\"y\":[-0.17425888776779175,-0.3697853833436966],\"z\":[-0.6899168491363525,-0.2743055820465088],\"type\":\"scatter3d\"},{\"line\":{\"color\":\"#FAFAD2\",\"width\":1},\"mode\":\"lines\",\"x\":[0.2959826588630676,1.1355403065681458],\"y\":[-0.17425888776779175,-0.3465002477169037],\"z\":[-0.6899168491363525,-0.17467331886291504],\"type\":\"scatter3d\"},{\"line\":{\"color\":\"#FAFAD2\",\"width\":1},\"mode\":\"lines\",\"x\":[0.2959826588630676,1.078428566455841],\"y\":[-0.17425888776779175,-0.321984127163887],\"z\":[-0.6899168491363525,-0.08497411012649536],\"type\":\"scatter3d\"},{\"line\":{\"color\":\"#FAFAD2\",\"width\":1},\"mode\":\"lines\",\"x\":[0.2959826588630676,1.016125500202179],\"y\":[-0.17425888776779175,-0.2972879037261009],\"z\":[-0.6899168491363525,-0.0070858001708984375],\"type\":\"scatter3d\"},{\"line\":{\"color\":\"#FAFAD2\",\"width\":1},\"mode\":\"lines\",\"x\":[0.2959826588630676,1.270996630191803],\"y\":[-0.17425888776779175,-0.38459262251853943],\"z\":[-0.6899168491363525,-0.618450865149498],\"type\":\"scatter3d\"},{\"line\":{\"color\":\"#FAFAD2\",\"width\":1},\"mode\":\"lines\",\"x\":[0.2959826588630676,1.2604902982711792],\"y\":[-0.17425888776779175,-0.3696933090686798],\"z\":[-0.6899168491363525,-0.512349084019661],\"type\":\"scatter3d\"},{\"line\":{\"color\":\"#FAFAD2\",\"width\":1},\"mode\":\"lines\",\"x\":[0.2959826588630676,1.2376160025596619],\"y\":[-0.17425888776779175,-0.3517366647720337],\"z\":[-0.6899168491363525,-0.40386059880256653],\"type\":\"scatter3d\"},{\"line\":{\"color\":\"#FAFAD2\",\"width\":1},\"mode\":\"lines\",\"x\":[0.2959826588630676,1.2021302580833435],\"y\":[-0.17425888776779175,-0.331158310174942],\"z\":[-0.6899168491363525,-0.29713305830955505],\"type\":\"scatter3d\"},{\"line\":{\"color\":\"#FAFAD2\",\"width\":1},\"mode\":\"lines\",\"x\":[0.2959826588630676,1.155223548412323],\"y\":[-0.17425888776779175,-0.3087177723646164],\"z\":[-0.6899168491363525,-0.19633203744888306],\"type\":\"scatter3d\"},{\"line\":{\"color\":\"#FAFAD2\",\"width\":1},\"mode\":\"lines\",\"x\":[0.2959826588630676,1.099332869052887],\"y\":[-0.17425888776779175,-0.2853648439049721],\"z\":[-0.6899168491363525,-0.10486644506454468],\"type\":\"scatter3d\"},{\"line\":{\"color\":\"#FAFAD2\",\"width\":1},\"mode\":\"lines\",\"x\":[0.2959826588630676,1.0375982522964478],\"y\":[-0.17425888776779175,-0.26205533742904663],\"z\":[-0.6899168491363525,-0.02486175298690796],\"type\":\"scatter3d\"},{\"line\":{\"color\":\"#FAFAD2\",\"width\":1},\"mode\":\"lines\",\"x\":[0.2959826588630676,1.2798013091087341],\"y\":[-0.17425888776779175,-0.3462965041399002],\"z\":[-0.6899168491363525,-0.6398793309926987],\"type\":\"scatter3d\"},{\"line\":{\"color\":\"#FAFAD2\",\"width\":1},\"mode\":\"lines\",\"x\":[0.2959826588630676,1.271458089351654],\"y\":[-0.17425888776779175,-0.33081018924713135],\"z\":[-0.6899168491363525,-0.5351934731006622],\"type\":\"scatter3d\"},{\"line\":{\"color\":\"#FAFAD2\",\"width\":1},\"mode\":\"lines\",\"x\":[0.2959826588630676,1.2509453296661377],\"y\":[-0.17425888776779175,-0.31270793080329895],\"z\":[-0.6899168491363525,-0.42747050523757935],\"type\":\"scatter3d\"},{\"line\":{\"color\":\"#FAFAD2\",\"width\":1},\"mode\":\"lines\",\"x\":[0.2959826588630676,1.2177850604057312],\"y\":[-0.17425888776779175,-0.29243651777505875],\"z\":[-0.6899168491363525,-0.32070910930633545],\"type\":\"scatter3d\"},{\"line\":{\"color\":\"#FAFAD2\",\"width\":1},\"mode\":\"lines\",\"x\":[0.2959826588630676,1.17290461063385],\"y\":[-0.17425888776779175,-0.27071870118379593],\"z\":[-0.6899168491363525,-0.21906286478042603],\"type\":\"scatter3d\"},{\"line\":{\"color\":\"#FAFAD2\",\"width\":1},\"mode\":\"lines\",\"x\":[0.2959826588630676,1.118527114391327],\"y\":[-0.17425888776779175,-0.2484310194849968],\"z\":[-0.6899168491363525,-0.12607359886169434],\"type\":\"scatter3d\"},{\"line\":{\"color\":\"#FAFAD2\",\"width\":1},\"mode\":\"lines\",\"x\":[0.2959826588630676,1.0576860904693604],\"y\":[-0.17425888776779175,-0.22643867880105972],\"z\":[-0.6899168491363525,-0.04409545660018921],\"type\":\"scatter3d\"},{\"line\":{\"color\":\"#FAFAD2\",\"width\":1},\"mode\":\"lines\",\"x\":[0.2959826588630676,1.2865042090415955],\"y\":[-0.17425888776779175,-0.3085217624902725],\"z\":[-0.6899168491363525,-0.6609265301376581],\"type\":\"scatter3d\"},{\"line\":{\"color\":\"#FAFAD2\",\"width\":1},\"mode\":\"lines\",\"x\":[0.2959826588630676,1.28017258644104],\"y\":[-0.17425888776779175,-0.29235410690307617],\"z\":[-0.6899168491363525,-0.5579182356595993],\"type\":\"scatter3d\"},{\"line\":{\"color\":\"#FAFAD2\",\"width\":1},\"mode\":\"lines\",\"x\":[0.2959826588630676,1.261959195137024],\"y\":[-0.17425888776779175,-0.2739870101213455],\"z\":[-0.6899168491363525,-0.45128828287124634],\"type\":\"scatter3d\"},{\"line\":{\"color\":\"#FAFAD2\",\"width\":1},\"mode\":\"lines\",\"x\":[0.2959826588630676,1.2311767935752869],\"y\":[-0.17425888776779175,-0.25389014184474945],\"z\":[-0.6899168491363525,-0.34485048055648804],\"type\":\"scatter3d\"},{\"line\":{\"color\":\"#FAFAD2\",\"width\":1},\"mode\":\"lines\",\"x\":[0.2959826588630676,1.18849116563797],\"y\":[-0.17425888776779175,-0.23276373371481895],\"z\":[-0.6899168491363525,-0.2426968514919281],\"type\":\"scatter3d\"},{\"line\":{\"color\":\"#FAFAD2\",\"width\":1},\"mode\":\"lines\",\"x\":[0.2959826588630676,1.1358870267868042],\"y\":[-0.17425888776779175,-0.21142377704381943],\"z\":[-0.6899168491363525,-0.14845633506774902],\"type\":\"scatter3d\"},{\"line\":{\"color\":\"#FAFAD2\",\"width\":1},\"mode\":\"lines\",\"x\":[0.2959826588630676,1.0762495398521423],\"y\":[-0.17425888776779175,-0.19065308012068272],\"z\":[-0.6899168491363525,-0.0646849274635315],\"type\":\"scatter3d\"},{\"line\":{\"color\":\"#FAFAD2\",\"width\":1},\"mode\":\"lines\",\"x\":[0.2959826588630676,1.2912103533744812],\"y\":[-0.17425888776779175,-0.27147281914949417],\"z\":[-0.6899168491363525,-0.6814849693328142],\"type\":\"scatter3d\"},{\"line\":{\"color\":\"#FAFAD2\",\"width\":1},\"mode\":\"lines\",\"x\":[0.2959826588630676,1.2867166996002197],\"y\":[-0.17425888776779175,-0.25455499440431595],\"z\":[-0.6899168491363525,-0.5803791657090187],\"type\":\"scatter3d\"},{\"line\":{\"color\":\"#FAFAD2\",\"width\":1},\"mode\":\"lines\",\"x\":[0.2959826588630676,1.2707035541534424],\"y\":[-0.17425888776779175,-0.235822644084692],\"z\":[-0.6899168491363525,-0.47514013946056366],\"type\":\"scatter3d\"},{\"line\":{\"color\":\"#FAFAD2\",\"width\":1},\"mode\":\"lines\",\"x\":[0.2959826588630676,1.2423045635223389],\"y\":[-0.17425888776779175,-0.21577660366892815],\"z\":[-0.6899168491363525,-0.36936870217323303],\"type\":\"scatter3d\"},{\"line\":{\"color\":\"#FAFAD2\",\"width\":1},\"mode\":\"lines\",\"x\":[0.2959826588630676,1.201934814453125],\"y\":[-0.17425888776779175,-0.19510734267532825],\"z\":[-0.6899168491363525,-0.2670504152774811],\"type\":\"scatter3d\"},{\"line\":{\"color\":\"#FAFAD2\",\"width\":1},\"mode\":\"lines\",\"x\":[0.2959826588630676,1.151324987411499],\"y\":[-0.17425888776779175,-0.17458397705922835],\"z\":[-0.6899168491363525,-0.17185372114181519],\"type\":\"scatter3d\"},{\"line\":{\"color\":\"#FAFAD2\",\"width\":1},\"mode\":\"lines\",\"x\":[0.2959826588630676,1.0931761264801025],\"y\":[-0.17425888776779175,-0.154917910695076],\"z\":[-0.6899168491363525,-0.0865027904510498],\"type\":\"scatter3d\"},{\"line\":{\"color\":\"#FAFAD2\",\"width\":1},\"mode\":\"lines\",\"x\":[0.2959826588630676,1.2940494418144226],\"y\":[-0.17425888776779175,-0.23532610014081],\"z\":[-0.6899168491363525,-0.7014636024832726],\"type\":\"scatter3d\"},{\"line\":{\"color\":\"#FAFAD2\",\"width\":1},\"mode\":\"lines\",\"x\":[0.2959826588630676,1.2912058234214783],\"y\":[-0.17425888776779175,-0.2176150344312191],\"z\":[-0.6899168491363525,-0.6024468839168549],\"type\":\"scatter3d\"},{\"line\":{\"color\":\"#FAFAD2\",\"width\":1},\"mode\":\"lines\",\"x\":[0.2959826588630676,1.27726411819458],\"y\":[-0.17425888776779175,-0.19843832589685917],\"z\":[-0.6899168491363525,-0.49886198341846466],\"type\":\"scatter3d\"},{\"line\":{\"color\":\"#FAFAD2\",\"width\":1},\"mode\":\"lines\",\"x\":[0.2959826588630676,1.2512115240097046],\"y\":[-0.17425888776779175,-0.17833281494677067],\"z\":[-0.6899168491363525,-0.39407703280448914],\"type\":\"scatter3d\"},{\"line\":{\"color\":\"#FAFAD2\",\"width\":1},\"mode\":\"lines\",\"x\":[0.2959826588630676,1.2132304310798645],\"y\":[-0.17425888776779175,-0.1579896528273821],\"z\":[-0.6899168491363525,-0.2919321656227112],\"type\":\"scatter3d\"},{\"line\":{\"color\":\"#FAFAD2\",\"width\":1},\"mode\":\"lines\",\"x\":[0.2959826588630676,1.1647918224334717],\"y\":[-0.17425888776779175,-0.13814447820186615],\"z\":[-0.6899168491363525,-0.19608855247497559],\"type\":\"scatter3d\"},{\"line\":{\"color\":\"#FAFAD2\",\"width\":1},\"mode\":\"lines\",\"x\":[0.2959826588630676,1.1083843111991882],\"y\":[-0.17425888776779175,-0.11945009604096413],\"z\":[-0.6899168491363525,-0.10940015316009521],\"type\":\"scatter3d\"},{\"line\":{\"color\":\"#FAFAD2\",\"width\":1},\"mode\":\"lines\",\"x\":[0.2959826588630676,1.0469878911972046],\"y\":[-0.17425888776779175,-0.1023799255490303],\"z\":[-0.6899168491363525,-0.03354448080062866],\"type\":\"scatter3d\"},{\"line\":{\"color\":\"#FAFAD2\",\"width\":1},\"mode\":\"lines\",\"x\":[0.2959826588630676,1.293780505657196],\"y\":[-0.17425888776779175,-0.18170538637787104],\"z\":[-0.6899168491363525,-0.6240092068910599],\"type\":\"scatter3d\"},{\"line\":{\"color\":\"#FAFAD2\",\"width\":1},\"mode\":\"lines\",\"x\":[0.2959826588630676,1.2817595601081848],\"y\":[-0.17425888776779175,-0.16202752757817507],\"z\":[-0.6899168491363525,-0.5223038047552109],\"type\":\"scatter3d\"},{\"line\":{\"color\":\"#FAFAD2\",\"width\":1},\"mode\":\"lines\",\"x\":[0.2959826588630676,1.2579795122146606],\"y\":[-0.17425888776779175,-0.14176906272768974],\"z\":[-0.6899168491363525,-0.418796181678772],\"type\":\"scatter3d\"},{\"line\":{\"color\":\"#FAFAD2\",\"width\":1},\"mode\":\"lines\",\"x\":[0.2959826588630676,1.2224137783050537],\"y\":[-0.17425888776779175,-0.1216294951736927],\"z\":[-0.6899168491363525,-0.31714946031570435],\"type\":\"scatter3d\"},{\"line\":{\"color\":\"#FAFAD2\",\"width\":1},\"mode\":\"lines\",\"x\":[0.2959826588630676,1.176276683807373],\"y\":[-0.17425888776779175,-0.10232312232255936],\"z\":[-0.6899168491363525,-0.22097373008728027],\"type\":\"scatter3d\"},{\"line\":{\"color\":\"#FAFAD2\",\"width\":1},\"mode\":\"lines\",\"x\":[0.2959826588630676,1.1218247413635254],\"y\":[-0.17425888776779175,-0.0844576358795166],\"z\":[-0.6899168491363525,-0.1332116723060608],\"type\":\"scatter3d\"},{\"line\":{\"color\":\"#FAFAD2\",\"width\":1},\"mode\":\"lines\",\"x\":[0.2959826588630676,1.0618890523910522],\"y\":[-0.17425888776779175,-0.06844688951969147],\"z\":[-0.6899168491363525,-0.05573129653930664],\"type\":\"scatter3d\"},{\"line\":{\"color\":\"#FAFAD2\",\"width\":1},\"mode\":\"lines\",\"x\":[0.2959826588630676,1.294599175453186],\"y\":[-0.17425888776779175,-0.14696485176682472],\"z\":[-0.6899168491363525,-0.6449724286794662],\"type\":\"scatter3d\"},{\"line\":{\"color\":\"#FAFAD2\",\"width\":1},\"mode\":\"lines\",\"x\":[0.2959826588630676,1.2843340039253235],\"y\":[-0.17425888776779175,-0.12675096467137337],\"z\":[-0.6899168491363525,-0.5453329384326935],\"type\":\"scatter3d\"},{\"line\":{\"color\":\"#FAFAD2\",\"width\":1},\"mode\":\"lines\",\"x\":[0.2959826588630676,1.2627227306365967],\"y\":[-0.17425888776779175,-0.10626483708620071],\"z\":[-0.6899168491363525,-0.44335970282554626],\"type\":\"scatter3d\"},{\"line\":{\"color\":\"#FAFAD2\",\"width\":1},\"mode\":\"lines\",\"x\":[0.2959826588630676,1.229556918144226],\"y\":[-0.17425888776779175,-0.08621908724308014],\"z\":[-0.6899168491363525,-0.3425149917602539],\"type\":\"scatter3d\"},{\"line\":{\"color\":\"#FAFAD2\",\"width\":1},\"mode\":\"lines\",\"x\":[0.2959826588630676,1.1858052015304565],\"y\":[-0.17425888776779175,-0.06731684505939484],\"z\":[-0.6899168491363525,-0.2463187575340271],\"type\":\"scatter3d\"},{\"line\":{\"color\":\"#FAFAD2\",\"width\":1},\"mode\":\"lines\",\"x\":[0.2959826588630676,1.1334806680679321],\"y\":[-0.17425888776779175,-0.05013376474380493],\"z\":[-0.6899168491363525,-0.15776079893112183],\"type\":\"scatter3d\"},{\"line\":{\"color\":\"#FAFAD2\",\"width\":1},\"mode\":\"lines\",\"x\":[0.2959826588630676,1.0752376317977905],\"y\":[-0.17425888776779175,-0.03503699600696564],\"z\":[-0.6899168491363525,-0.07886940240859985],\"type\":\"scatter3d\"},{\"line\":{\"color\":\"#FAFAD2\",\"width\":1},\"mode\":\"lines\",\"x\":[0.2959826588630676,1.2938305139541626],\"y\":[-0.17425888776779175,-0.11350016295909882],\"z\":[-0.6899168491363525,-0.6652616076171398],\"type\":\"scatter3d\"},{\"line\":{\"color\":\"#FAFAD2\",\"width\":1},\"mode\":\"lines\",\"x\":[0.2959826588630676,1.2851490378379822],\"y\":[-0.17425888776779175,-0.09273576736450195],\"z\":[-0.6899168491363525,-0.5678359046578407],\"type\":\"scatter3d\"},{\"line\":{\"color\":\"#FAFAD2\",\"width\":1},\"mode\":\"lines\",\"x\":[0.2959826588630676,1.2655801177024841],\"y\":[-0.17425888776779175,-0.07196663320064545],\"z\":[-0.6899168491363525,-0.46761757135391235],\"type\":\"scatter3d\"},{\"line\":{\"color\":\"#FAFAD2\",\"width\":1},\"mode\":\"lines\",\"x\":[0.2959826588630676,1.23476243019104],\"y\":[-0.17425888776779175,-0.05192054808139801],\"z\":[-0.6899168491363525,-0.36785197257995605],\"type\":\"scatter3d\"},{\"line\":{\"color\":\"#FAFAD2\",\"width\":1},\"mode\":\"lines\",\"x\":[0.2959826588630676,1.193435549736023],\"y\":[-0.17425888776779175,-0.03329722583293915],\"z\":[-0.6899168491363525,-0.2719358801841736],\"type\":\"scatter3d\"}],                        {\"template\":{\"data\":{\"histogram2dcontour\":[{\"type\":\"histogram2dcontour\",\"colorbar\":{\"outlinewidth\":0,\"ticks\":\"\"},\"colorscale\":[[0.0,\"#0d0887\"],[0.1111111111111111,\"#46039f\"],[0.2222222222222222,\"#7201a8\"],[0.3333333333333333,\"#9c179e\"],[0.4444444444444444,\"#bd3786\"],[0.5555555555555556,\"#d8576b\"],[0.6666666666666666,\"#ed7953\"],[0.7777777777777778,\"#fb9f3a\"],[0.8888888888888888,\"#fdca26\"],[1.0,\"#f0f921\"]]}],\"choropleth\":[{\"type\":\"choropleth\",\"colorbar\":{\"outlinewidth\":0,\"ticks\":\"\"}}],\"histogram2d\":[{\"type\":\"histogram2d\",\"colorbar\":{\"outlinewidth\":0,\"ticks\":\"\"},\"colorscale\":[[0.0,\"#0d0887\"],[0.1111111111111111,\"#46039f\"],[0.2222222222222222,\"#7201a8\"],[0.3333333333333333,\"#9c179e\"],[0.4444444444444444,\"#bd3786\"],[0.5555555555555556,\"#d8576b\"],[0.6666666666666666,\"#ed7953\"],[0.7777777777777778,\"#fb9f3a\"],[0.8888888888888888,\"#fdca26\"],[1.0,\"#f0f921\"]]}],\"heatmap\":[{\"type\":\"heatmap\",\"colorbar\":{\"outlinewidth\":0,\"ticks\":\"\"},\"colorscale\":[[0.0,\"#0d0887\"],[0.1111111111111111,\"#46039f\"],[0.2222222222222222,\"#7201a8\"],[0.3333333333333333,\"#9c179e\"],[0.4444444444444444,\"#bd3786\"],[0.5555555555555556,\"#d8576b\"],[0.6666666666666666,\"#ed7953\"],[0.7777777777777778,\"#fb9f3a\"],[0.8888888888888888,\"#fdca26\"],[1.0,\"#f0f921\"]]}],\"heatmapgl\":[{\"type\":\"heatmapgl\",\"colorbar\":{\"outlinewidth\":0,\"ticks\":\"\"},\"colorscale\":[[0.0,\"#0d0887\"],[0.1111111111111111,\"#46039f\"],[0.2222222222222222,\"#7201a8\"],[0.3333333333333333,\"#9c179e\"],[0.4444444444444444,\"#bd3786\"],[0.5555555555555556,\"#d8576b\"],[0.6666666666666666,\"#ed7953\"],[0.7777777777777778,\"#fb9f3a\"],[0.8888888888888888,\"#fdca26\"],[1.0,\"#f0f921\"]]}],\"contourcarpet\":[{\"type\":\"contourcarpet\",\"colorbar\":{\"outlinewidth\":0,\"ticks\":\"\"}}],\"contour\":[{\"type\":\"contour\",\"colorbar\":{\"outlinewidth\":0,\"ticks\":\"\"},\"colorscale\":[[0.0,\"#0d0887\"],[0.1111111111111111,\"#46039f\"],[0.2222222222222222,\"#7201a8\"],[0.3333333333333333,\"#9c179e\"],[0.4444444444444444,\"#bd3786\"],[0.5555555555555556,\"#d8576b\"],[0.6666666666666666,\"#ed7953\"],[0.7777777777777778,\"#fb9f3a\"],[0.8888888888888888,\"#fdca26\"],[1.0,\"#f0f921\"]]}],\"surface\":[{\"type\":\"surface\",\"colorbar\":{\"outlinewidth\":0,\"ticks\":\"\"},\"colorscale\":[[0.0,\"#0d0887\"],[0.1111111111111111,\"#46039f\"],[0.2222222222222222,\"#7201a8\"],[0.3333333333333333,\"#9c179e\"],[0.4444444444444444,\"#bd3786\"],[0.5555555555555556,\"#d8576b\"],[0.6666666666666666,\"#ed7953\"],[0.7777777777777778,\"#fb9f3a\"],[0.8888888888888888,\"#fdca26\"],[1.0,\"#f0f921\"]]}],\"mesh3d\":[{\"type\":\"mesh3d\",\"colorbar\":{\"outlinewidth\":0,\"ticks\":\"\"}}],\"scatter\":[{\"fillpattern\":{\"fillmode\":\"overlay\",\"size\":10,\"solidity\":0.2},\"type\":\"scatter\"}],\"parcoords\":[{\"type\":\"parcoords\",\"line\":{\"colorbar\":{\"outlinewidth\":0,\"ticks\":\"\"}}}],\"scatterpolargl\":[{\"type\":\"scatterpolargl\",\"marker\":{\"colorbar\":{\"outlinewidth\":0,\"ticks\":\"\"}}}],\"bar\":[{\"error_x\":{\"color\":\"#2a3f5f\"},\"error_y\":{\"color\":\"#2a3f5f\"},\"marker\":{\"line\":{\"color\":\"#E5ECF6\",\"width\":0.5},\"pattern\":{\"fillmode\":\"overlay\",\"size\":10,\"solidity\":0.2}},\"type\":\"bar\"}],\"scattergeo\":[{\"type\":\"scattergeo\",\"marker\":{\"colorbar\":{\"outlinewidth\":0,\"ticks\":\"\"}}}],\"scatterpolar\":[{\"type\":\"scatterpolar\",\"marker\":{\"colorbar\":{\"outlinewidth\":0,\"ticks\":\"\"}}}],\"histogram\":[{\"marker\":{\"pattern\":{\"fillmode\":\"overlay\",\"size\":10,\"solidity\":0.2}},\"type\":\"histogram\"}],\"scattergl\":[{\"type\":\"scattergl\",\"marker\":{\"colorbar\":{\"outlinewidth\":0,\"ticks\":\"\"}}}],\"scatter3d\":[{\"type\":\"scatter3d\",\"line\":{\"colorbar\":{\"outlinewidth\":0,\"ticks\":\"\"}},\"marker\":{\"colorbar\":{\"outlinewidth\":0,\"ticks\":\"\"}}}],\"scattermapbox\":[{\"type\":\"scattermapbox\",\"marker\":{\"colorbar\":{\"outlinewidth\":0,\"ticks\":\"\"}}}],\"scatterternary\":[{\"type\":\"scatterternary\",\"marker\":{\"colorbar\":{\"outlinewidth\":0,\"ticks\":\"\"}}}],\"scattercarpet\":[{\"type\":\"scattercarpet\",\"marker\":{\"colorbar\":{\"outlinewidth\":0,\"ticks\":\"\"}}}],\"carpet\":[{\"aaxis\":{\"endlinecolor\":\"#2a3f5f\",\"gridcolor\":\"white\",\"linecolor\":\"white\",\"minorgridcolor\":\"white\",\"startlinecolor\":\"#2a3f5f\"},\"baxis\":{\"endlinecolor\":\"#2a3f5f\",\"gridcolor\":\"white\",\"linecolor\":\"white\",\"minorgridcolor\":\"white\",\"startlinecolor\":\"#2a3f5f\"},\"type\":\"carpet\"}],\"table\":[{\"cells\":{\"fill\":{\"color\":\"#EBF0F8\"},\"line\":{\"color\":\"white\"}},\"header\":{\"fill\":{\"color\":\"#C8D4E3\"},\"line\":{\"color\":\"white\"}},\"type\":\"table\"}],\"barpolar\":[{\"marker\":{\"line\":{\"color\":\"#E5ECF6\",\"width\":0.5},\"pattern\":{\"fillmode\":\"overlay\",\"size\":10,\"solidity\":0.2}},\"type\":\"barpolar\"}],\"pie\":[{\"automargin\":true,\"type\":\"pie\"}]},\"layout\":{\"autotypenumbers\":\"strict\",\"colorway\":[\"#636efa\",\"#EF553B\",\"#00cc96\",\"#ab63fa\",\"#FFA15A\",\"#19d3f3\",\"#FF6692\",\"#B6E880\",\"#FF97FF\",\"#FECB52\"],\"font\":{\"color\":\"#2a3f5f\"},\"hovermode\":\"closest\",\"hoverlabel\":{\"align\":\"left\"},\"paper_bgcolor\":\"white\",\"plot_bgcolor\":\"#E5ECF6\",\"polar\":{\"bgcolor\":\"#E5ECF6\",\"angularaxis\":{\"gridcolor\":\"white\",\"linecolor\":\"white\",\"ticks\":\"\"},\"radialaxis\":{\"gridcolor\":\"white\",\"linecolor\":\"white\",\"ticks\":\"\"}},\"ternary\":{\"bgcolor\":\"#E5ECF6\",\"aaxis\":{\"gridcolor\":\"white\",\"linecolor\":\"white\",\"ticks\":\"\"},\"baxis\":{\"gridcolor\":\"white\",\"linecolor\":\"white\",\"ticks\":\"\"},\"caxis\":{\"gridcolor\":\"white\",\"linecolor\":\"white\",\"ticks\":\"\"}},\"coloraxis\":{\"colorbar\":{\"outlinewidth\":0,\"ticks\":\"\"}},\"colorscale\":{\"sequential\":[[0.0,\"#0d0887\"],[0.1111111111111111,\"#46039f\"],[0.2222222222222222,\"#7201a8\"],[0.3333333333333333,\"#9c179e\"],[0.4444444444444444,\"#bd3786\"],[0.5555555555555556,\"#d8576b\"],[0.6666666666666666,\"#ed7953\"],[0.7777777777777778,\"#fb9f3a\"],[0.8888888888888888,\"#fdca26\"],[1.0,\"#f0f921\"]],\"sequentialminus\":[[0.0,\"#0d0887\"],[0.1111111111111111,\"#46039f\"],[0.2222222222222222,\"#7201a8\"],[0.3333333333333333,\"#9c179e\"],[0.4444444444444444,\"#bd3786\"],[0.5555555555555556,\"#d8576b\"],[0.6666666666666666,\"#ed7953\"],[0.7777777777777778,\"#fb9f3a\"],[0.8888888888888888,\"#fdca26\"],[1.0,\"#f0f921\"]],\"diverging\":[[0,\"#8e0152\"],[0.1,\"#c51b7d\"],[0.2,\"#de77ae\"],[0.3,\"#f1b6da\"],[0.4,\"#fde0ef\"],[0.5,\"#f7f7f7\"],[0.6,\"#e6f5d0\"],[0.7,\"#b8e186\"],[0.8,\"#7fbc41\"],[0.9,\"#4d9221\"],[1,\"#276419\"]]},\"xaxis\":{\"gridcolor\":\"white\",\"linecolor\":\"white\",\"ticks\":\"\",\"title\":{\"standoff\":15},\"zerolinecolor\":\"white\",\"automargin\":true,\"zerolinewidth\":2},\"yaxis\":{\"gridcolor\":\"white\",\"linecolor\":\"white\",\"ticks\":\"\",\"title\":{\"standoff\":15},\"zerolinecolor\":\"white\",\"automargin\":true,\"zerolinewidth\":2},\"scene\":{\"xaxis\":{\"backgroundcolor\":\"#E5ECF6\",\"gridcolor\":\"white\",\"linecolor\":\"white\",\"showbackground\":true,\"ticks\":\"\",\"zerolinecolor\":\"white\",\"gridwidth\":2},\"yaxis\":{\"backgroundcolor\":\"#E5ECF6\",\"gridcolor\":\"white\",\"linecolor\":\"white\",\"showbackground\":true,\"ticks\":\"\",\"zerolinecolor\":\"white\",\"gridwidth\":2},\"zaxis\":{\"backgroundcolor\":\"#E5ECF6\",\"gridcolor\":\"white\",\"linecolor\":\"white\",\"showbackground\":true,\"ticks\":\"\",\"zerolinecolor\":\"white\",\"gridwidth\":2}},\"shapedefaults\":{\"line\":{\"color\":\"#2a3f5f\"}},\"annotationdefaults\":{\"arrowcolor\":\"#2a3f5f\",\"arrowhead\":0,\"arrowwidth\":1},\"geo\":{\"bgcolor\":\"white\",\"landcolor\":\"#E5ECF6\",\"subunitcolor\":\"white\",\"showland\":true,\"showlakes\":true,\"lakecolor\":\"white\"},\"title\":{\"x\":0.05},\"mapbox\":{\"style\":\"light\"}}},\"scene\":{\"xaxis\":{\"gridcolor\":\"white\",\"showbackground\":false,\"color\":\"white\"},\"yaxis\":{\"gridcolor\":\"white\",\"showbackground\":false,\"color\":\"white\"},\"zaxis\":{\"gridcolor\":\"white\",\"showbackground\":false,\"color\":\"white\"},\"aspectmode\":\"data\",\"bgcolor\":\"rgba(0,0,0,0)\"},\"showlegend\":false,\"paper_bgcolor\":\"rgba(0,0,0,0)\",\"width\":800,\"height\":800},                        {\"responsive\": true}                    ).then(function(){\n",
       "                            \n",
       "var gd = document.getElementById('6aba6db3-d554-4066-a958-a6453fdc3b01');\n",
       "var x = new MutationObserver(function (mutations, observer) {{\n",
       "        var display = window.getComputedStyle(gd).display;\n",
       "        if (!display || display === 'none') {{\n",
       "            console.log([gd, 'removed!']);\n",
       "            Plotly.purge(gd);\n",
       "            observer.disconnect();\n",
       "        }}\n",
       "}});\n",
       "\n",
       "// Listen for the removal of the full notebook cells\n",
       "var notebookContainer = gd.closest('#notebook-container');\n",
       "if (notebookContainer) {{\n",
       "    x.observe(notebookContainer, {childList: true});\n",
       "}}\n",
       "\n",
       "// Listen for the clearing of the current output cell\n",
       "var outputEl = gd.closest('.output');\n",
       "if (outputEl) {{\n",
       "    x.observe(outputEl, {childList: true});\n",
       "}}\n",
       "\n",
       "                        })                };                });            </script>        </div>"
      ]
     },
     "metadata": {},
     "output_type": "display_data"
    }
   ],
   "source": [
    "fig = slam.go.Figure()\n",
    "positions = df['pos'].unique()\n",
    "colors = list(slam.mcolors.CSS4_COLORS.values())[65:][:len(positions)]\n",
    "for i, pos in enumerate(positions):\n",
    "    for dir in df[df['pos'] == pos]['dir'][::2000]:\n",
    "        try:\n",
    "            trace = slam.go.Scatter3d(\n",
    "                x=[pos[0], pos[0] + dir[0]],\n",
    "                y=[pos[1], pos[1] + dir[1]],\n",
    "                z=[pos[2], pos[2] + dir[2]],\n",
    "                mode='lines',\n",
    "                line=dict(color=colors[i], width=1)\n",
    "            )\n",
    "\n",
    "            fig.add_trace(trace)\n",
    "        except:\n",
    "            print(pos, dir)\n",
    "fig.update_layout(\n",
    "    scene=dict(\n",
    "        aspectmode='data',\n",
    "        bgcolor='rgba(0,0,0,0)',\n",
    "        xaxis=dict(gridcolor='white', showbackground=False, color='white'),\n",
    "        yaxis=dict(gridcolor='white', showbackground=False, color='white'),\n",
    "        zaxis=dict(gridcolor='white', showbackground=False, color='white')\n",
    "    ),\n",
    "    showlegend=False,\n",
    "    paper_bgcolor='rgba(0,0,0,0)'\n",
    ")\n",
    "fig.update_layout(\n",
    "    width=800,\n",
    "    height=800\n",
    ")\n",
    "\n",
    "fig.show()"
   ]
  }
 ],
 "metadata": {
  "kernelspec": {
   "display_name": "venv",
   "language": "python",
   "name": "python3"
  },
  "language_info": {
   "codemirror_mode": {
    "name": "ipython",
    "version": 3
   },
   "file_extension": ".py",
   "mimetype": "text/x-python",
   "name": "python",
   "nbconvert_exporter": "python",
   "pygments_lexer": "ipython3",
   "version": "3.9.6"
  }
 },
 "nbformat": 4,
 "nbformat_minor": 2
}
