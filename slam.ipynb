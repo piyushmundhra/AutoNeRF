{
 "cells": [
  {
   "cell_type": "code",
   "execution_count": 1,
   "metadata": {},
   "outputs": [
    {
     "name": "stderr",
     "output_type": "stream",
     "text": [
      "xFormers not available\n",
      "xFormers not available\n"
     ]
    },
    {
     "data": {
      "text/html": [
       "        <script type=\"text/javascript\">\n",
       "        window.PlotlyConfig = {MathJaxConfig: 'local'};\n",
       "        if (window.MathJax && window.MathJax.Hub && window.MathJax.Hub.Config) {window.MathJax.Hub.Config({SVG: {font: \"STIX-Web\"}});}\n",
       "        if (typeof require !== 'undefined') {\n",
       "        require.undef(\"plotly\");\n",
       "        requirejs.config({\n",
       "            paths: {\n",
       "                'plotly': ['https://cdn.plot.ly/plotly-2.32.0.min']\n",
       "            }\n",
       "        });\n",
       "        require(['plotly'], function(Plotly) {\n",
       "            window._Plotly = Plotly;\n",
       "        });\n",
       "        }\n",
       "        </script>\n",
       "        "
      ]
     },
     "metadata": {},
     "output_type": "display_data"
    }
   ],
   "source": [
    "import slam\n",
    "from importlib import reload"
   ]
  },
  {
   "cell_type": "code",
   "execution_count": 2,
   "metadata": {},
   "outputs": [],
   "source": [
    "model, matching = slam.get_models()"
   ]
  },
  {
   "cell_type": "code",
   "execution_count": 3,
   "metadata": {},
   "outputs": [],
   "source": [
    "image_prefix = \"indoor1\""
   ]
  },
  {
   "cell_type": "code",
   "execution_count": 4,
   "metadata": {},
   "outputs": [],
   "source": [
    "# slam.sample_video(image_prefix)"
   ]
  },
  {
   "cell_type": "code",
   "execution_count": 5,
   "metadata": {},
   "outputs": [
    {
     "data": {
      "text/html": [
       "        <script type=\"text/javascript\">\n",
       "        window.PlotlyConfig = {MathJaxConfig: 'local'};\n",
       "        if (window.MathJax && window.MathJax.Hub && window.MathJax.Hub.Config) {window.MathJax.Hub.Config({SVG: {font: \"STIX-Web\"}});}\n",
       "        if (typeof require !== 'undefined') {\n",
       "        require.undef(\"plotly\");\n",
       "        requirejs.config({\n",
       "            paths: {\n",
       "                'plotly': ['https://cdn.plot.ly/plotly-2.32.0.min']\n",
       "            }\n",
       "        });\n",
       "        require(['plotly'], function(Plotly) {\n",
       "            window._Plotly = Plotly;\n",
       "        });\n",
       "        }\n",
       "        </script>\n",
       "        "
      ]
     },
     "metadata": {},
     "output_type": "display_data"
    },
    {
     "name": "stdout",
     "output_type": "stream",
     "text": [
      "['./images/indoor1/img00001.jpg', './images/indoor1/img00002.jpg', './images/indoor1/img00003.jpg', './images/indoor1/img00004.jpg', './images/indoor1/img00005.jpg', './images/indoor1/img00006.jpg']\n"
     ]
    }
   ],
   "source": [
    "reload(slam)\n",
    "images = slam.get_images(image_prefix)\n",
    "match_inputs = [slam.preprocess_image_matcher(x) for x in images]\n",
    "depth_inputs = [slam.preprocess_image_depth(x) for x in images]\n",
    "depths = [slam.get_depth(image=x, model=model) for x in depth_inputs]"
   ]
  },
  {
   "cell_type": "code",
   "execution_count": 17,
   "metadata": {},
   "outputs": [],
   "source": [
    "from SuperGlue.models.superpoint import SuperPoint \n",
    "from SuperGlue.models.superglue import SuperGlue \n",
    "import torch\n",
    "\n",
    "superpoint = SuperPoint()\n",
    "superglue = SuperGlue()\n",
    "\n",
    "superpoint.load_state_dict(torch.load('./models/superpoint_v1.pth')) \n",
    "superglue.load_state_dict(torch.load('./models/superglue_indoor.pth'))\n",
    "\n",
    "superpoint.eval()\n",
    "superglue.eval()\n",
    "\n",
    "img0 = match_inputs[0]\n",
    "img1 = match_inputs[1]\n",
    "\n",
    "traced_superpoint = torch.jit.trace(superpoint, img0)\n",
    "\n",
    "kpts0, scores0, desc0 = superpoint(img0)\n",
    "kpts1, scores1, desc1 = superpoint(img1)\n",
    "\n",
    "example_inputs = (img0, img1, kpts0, kpts1, desc0, desc1, scores0, scores1)\n",
    "\n",
    "traced_superglue = torch.jit.trace(superglue, example_inputs)\n",
    "\n"
   ]
  },
  {
   "cell_type": "code",
   "execution_count": 6,
   "metadata": {},
   "outputs": [
    {
     "data": {
      "text/html": [
       "        <script type=\"text/javascript\">\n",
       "        window.PlotlyConfig = {MathJaxConfig: 'local'};\n",
       "        if (window.MathJax && window.MathJax.Hub && window.MathJax.Hub.Config) {window.MathJax.Hub.Config({SVG: {font: \"STIX-Web\"}});}\n",
       "        if (typeof require !== 'undefined') {\n",
       "        require.undef(\"plotly\");\n",
       "        requirejs.config({\n",
       "            paths: {\n",
       "                'plotly': ['https://cdn.plot.ly/plotly-2.32.0.min']\n",
       "            }\n",
       "        });\n",
       "        require(['plotly'], function(Plotly) {\n",
       "            window._Plotly = Plotly;\n",
       "        });\n",
       "        }\n",
       "        </script>\n",
       "        "
      ]
     },
     "metadata": {},
     "output_type": "display_data"
    },
    {
     "name": "stdout",
     "output_type": "stream",
     "text": [
      "<class 'torch.Tensor'> <class 'torch.Tensor'> <class 'torch.Tensor'>\n",
      "<class 'torch.Tensor'> <class 'torch.Tensor'> <class 'torch.Tensor'>\n",
      "<class 'torch.Tensor'> <class 'torch.Tensor'> <class 'torch.Tensor'>\n",
      "<class 'torch.Tensor'> <class 'torch.Tensor'> <class 'torch.Tensor'>\n",
      "<class 'torch.Tensor'> <class 'torch.Tensor'> <class 'torch.Tensor'>\n",
      "<class 'torch.Tensor'> <class 'torch.Tensor'> <class 'torch.Tensor'>\n",
      "<class 'torch.Tensor'> <class 'torch.Tensor'> <class 'torch.Tensor'>\n",
      "<class 'torch.Tensor'> <class 'torch.Tensor'> <class 'torch.Tensor'>\n",
      "<class 'torch.Tensor'> <class 'torch.Tensor'> <class 'torch.Tensor'>\n",
      "<class 'torch.Tensor'> <class 'torch.Tensor'> <class 'torch.Tensor'>\n"
     ]
    }
   ],
   "source": [
    "reload(slam)\n",
    "matches = slam.get_matches(inputs=match_inputs, model=matching, num_matches=-1)\n",
    "matches_3d = slam.project_matches_to_3d(matches, depths, camera_params=slam.iPhone15ProSquareVideoCamera())"
   ]
  },
  {
   "cell_type": "code",
   "execution_count": 7,
   "metadata": {},
   "outputs": [
    {
     "name": "stdout",
     "output_type": "stream",
     "text": [
      "0: x deg 0.664    y deg 7.256    z deg -4.617   \n",
      "1: x deg 2.872    y deg 18.792   z deg -0.416   \n",
      "2: x deg 2.036    y deg 17.366   z deg -2.732   \n",
      "3: x deg -0.875   y deg 10.570   z deg -3.782   \n",
      "4: x deg -0.110   y deg 8.192    z deg -5.255   \n",
      "\n",
      "0: x -0.175       y -0.012       z 0.173        \n",
      "1: x 0.253        y -0.150       z -0.392       \n",
      "2: x 0.127        y -0.144       z -0.058       \n",
      "3: x -0.137       y 0.015        z -0.113       \n",
      "4: x -0.167       y 0.065        z -0.261       \n"
     ]
    }
   ],
   "source": [
    "transforms = [slam.get_transform(m[0], m[1]) for m in matches_3d]\n",
    "angles = [slam.decompose_rotation_matrix(t[0]) for t in transforms]\n",
    "elevation = [a[2] for a in angles]\n",
    "azimuth = [a[1] for a in angles]\n",
    "\n",
    "for i, (a, t) in enumerate(zip(angles, transforms)):\n",
    "    x,y,z = a\n",
    "    print(str(i) + \": {: <15}\".format(f\"x deg {x:.3f}\") + \"{: <15}\".format(f\"y deg {y:.3f}\") + \"{: <15}\".format(f\"z deg {z:.3f}\"))\n",
    "\n",
    "print()\n",
    "for i, (a, t) in enumerate(zip(angles, transforms)):\n",
    "    x,y,z = t[1]\n",
    "    print(str(i) + \": {: <15}\".format(f\"x {x:.3f}\") + \"{: <15}\".format(f\"y {y:.3f}\") + \"{: <15}\".format(f\"z {z:.3f}\"))\n"
   ]
  },
  {
   "cell_type": "code",
   "execution_count": 8,
   "metadata": {},
   "outputs": [
    {
     "data": {
      "text/plain": [
       "['self',\n",
       " 'cross',\n",
       " 'self',\n",
       " 'cross',\n",
       " 'self',\n",
       " 'cross',\n",
       " 'self',\n",
       " 'cross',\n",
       " 'self',\n",
       " 'cross',\n",
       " 'self',\n",
       " 'cross',\n",
       " 'self',\n",
       " 'cross',\n",
       " 'self',\n",
       " 'cross',\n",
       " 'self',\n",
       " 'cross']"
      ]
     },
     "execution_count": 8,
     "metadata": {},
     "output_type": "execute_result"
    }
   ],
   "source": [
    "['self', 'cross'] * 9"
   ]
  },
  {
   "cell_type": "code",
   "execution_count": 9,
   "metadata": {},
   "outputs": [
    {
     "data": {
      "image/png": "[encoded data removed]",
      "text/plain": [
       "<Figure size 800x400 with 2 Axes>"
      ]
     },
     "metadata": {},
     "output_type": "display_data"
    }
   ],
   "source": [
    "idx = 4\n",
    "fig = slam.plot_matches(idx, images, matches)"
   ]
  },
  {
   "cell_type": "code",
   "execution_count": 10,
   "metadata": {},
   "outputs": [],
   "source": [
    "# fig = create_pcd_fig(idx, depths, images)\n",
    "# fig.show()"
   ]
  },
  {
   "cell_type": "code",
   "execution_count": 11,
   "metadata": {},
   "outputs": [
    {
     "data": {
      "text/html": [
       "        <script type=\"text/javascript\">\n",
       "        window.PlotlyConfig = {MathJaxConfig: 'local'};\n",
       "        if (window.MathJax && window.MathJax.Hub && window.MathJax.Hub.Config) {window.MathJax.Hub.Config({SVG: {font: \"STIX-Web\"}});}\n",
       "        if (typeof require !== 'undefined') {\n",
       "        require.undef(\"plotly\");\n",
       "        requirejs.config({\n",
       "            paths: {\n",
       "                'plotly': ['https://cdn.plot.ly/plotly-2.32.0.min']\n",
       "            }\n",
       "        });\n",
       "        require(['plotly'], function(Plotly) {\n",
       "            window._Plotly = Plotly;\n",
       "        });\n",
       "        }\n",
       "        </script>\n",
       "        "
      ]
     },
     "metadata": {},
     "output_type": "display_data"
    },
    {
     "name": "stdout",
     "output_type": "stream",
     "text": [
      "['./images/indoor1/img00001.jpg', './images/indoor1/img00002.jpg', './images/indoor1/img00003.jpg', './images/indoor1/img00004.jpg', './images/indoor1/img00005.jpg', './images/indoor1/img00006.jpg']\n",
      "<class 'torch.Tensor'> <class 'torch.Tensor'> <class 'torch.Tensor'>\n",
      "<class 'torch.Tensor'> <class 'torch.Tensor'> <class 'torch.Tensor'>\n",
      "<class 'torch.Tensor'> <class 'torch.Tensor'> <class 'torch.Tensor'>\n",
      "<class 'torch.Tensor'> <class 'torch.Tensor'> <class 'torch.Tensor'>\n",
      "<class 'torch.Tensor'> <class 'torch.Tensor'> <class 'torch.Tensor'>\n",
      "<class 'torch.Tensor'> <class 'torch.Tensor'> <class 'torch.Tensor'>\n",
      "<class 'torch.Tensor'> <class 'torch.Tensor'> <class 'torch.Tensor'>\n",
      "<class 'torch.Tensor'> <class 'torch.Tensor'> <class 'torch.Tensor'>\n",
      "<class 'torch.Tensor'> <class 'torch.Tensor'> <class 'torch.Tensor'>\n",
      "<class 'torch.Tensor'> <class 'torch.Tensor'> <class 'torch.Tensor'>\n"
     ]
    }
   ],
   "source": [
    "reload(slam)\n",
    "data = slam.training_preprocessor(\n",
    "    image_prefix=image_prefix, \n",
    "    model=model,\n",
    "    matching=matching,\n",
    "    camera_params=slam.iPhone15ProSquareVideoCamera(),\n",
    "    force_reload=True)"
   ]
  },
  {
   "cell_type": "code",
   "execution_count": 12,
   "metadata": {},
   "outputs": [
    {
     "data": {
      "text/html": [
       "        <script type=\"text/javascript\">\n",
       "        window.PlotlyConfig = {MathJaxConfig: 'local'};\n",
       "        if (window.MathJax && window.MathJax.Hub && window.MathJax.Hub.Config) {window.MathJax.Hub.Config({SVG: {font: \"STIX-Web\"}});}\n",
       "        if (typeof require !== 'undefined') {\n",
       "        require.undef(\"plotly\");\n",
       "        requirejs.config({\n",
       "            paths: {\n",
       "                'plotly': ['https://cdn.plot.ly/plotly-2.32.0.min']\n",
       "            }\n",
       "        });\n",
       "        require(['plotly'], function(Plotly) {\n",
       "            window._Plotly = Plotly;\n",
       "        });\n",
       "        }\n",
       "        </script>\n",
       "        "
      ]
     },
     "metadata": {},
     "output_type": "display_data"
    },
    {
     "data": {
      "application/vnd.plotly.v1+json": {
       "config": {
        "plotlyServerURL": "https://plot.ly"
       },
       "data": [
        {
         "line": {
          "color": "#000080",
          "width": 1
         },
         "mode": "lines",
         "type": "scatter3d",
         "x": [
          0,
          -0.36826393008232117
         ],
         "y": [
          0,
          -0.36826393008232117
         ],
         "z": [
          0,
          0.8536763787269592
         ]
        },
        {
         "line": {
          "color": "#000080",
          "width": 1
         },
         "mode": "lines",
         "type": "scatter3d",
         "x": [
          0,
          0.12058471888303757
         ],
         "y": [
          0,
          -0.38159722089767456
         ],
         "z": [
          0,
          0.9164294004440308
         ]
        },
        {
         "line": {
          "color": "#000080",
          "width": 1
         },
         "mode": "lines",
         "type": "scatter3d",
         "x": [
          0,
          -0.15433436632156372
         ],
         "y": [
          0,
          -0.3667351305484772
         ],
         "z": [
          0,
          0.917434573173523
         ]
        },
        {
         "line": {
          "color": "#000080",
          "width": 1
         },
         "mode": "lines",
         "type": "scatter3d",
         "x": [
          0,
          0.3457004725933075
         ],
         "y": [
          0,
          -0.33694854378700256
         ],
         "z": [
          0,
          0.8757607340812683
         ]
        },
        {
         "line": {
          "color": "#000080",
          "width": 1
         },
         "mode": "lines",
         "type": "scatter3d",
         "x": [
          0,
          0.08874255418777466
         ],
         "y": [
          0,
          -0.34407201409339905
         ],
         "z": [
          0,
          0.9347401857376099
         ]
        },
        {
         "line": {
          "color": "#000080",
          "width": 1
         },
         "mode": "lines",
         "type": "scatter3d",
         "x": [
          0,
          -0.1897662878036499
         ],
         "y": [
          0,
          -0.32553401589393616
         ],
         "z": [
          0,
          0.9262917041778564
         ]
        },
        {
         "line": {
          "color": "#000080",
          "width": 1
         },
         "mode": "lines",
         "type": "scatter3d",
         "x": [
          0,
          0.3213978707790375
         ],
         "y": [
          0,
          -0.30196452140808105
         ],
         "z": [
          0,
          0.8975081443786621
         ]
        },
        {
         "line": {
          "color": "#000080",
          "width": 1
         },
         "mode": "lines",
         "type": "scatter3d",
         "x": [
          0,
          0.055439893156290054
         ],
         "y": [
          0,
          -0.30412742495536804
         ],
         "z": [
          0,
          0.9510167837142944
         ]
        },
        {
         "line": {
          "color": "#000080",
          "width": 1
         },
         "mode": "lines",
         "type": "scatter3d",
         "x": [
          0,
          -0.22518736124038696
         ],
         "y": [
          0,
          -0.2826489806175232
         ],
         "z": [
          0,
          0.9324163198471069
         ]
        },
        {
         "line": {
          "color": "#000080",
          "width": 1
         },
         "mode": "lines",
         "type": "scatter3d",
         "x": [
          0,
          0.2951309084892273
         ],
         "y": [
          0,
          -0.2645473778247833
         ],
         "z": [
          0,
          0.9181026220321655
         ]
        },
        {
         "line": {
          "color": "#000080",
          "width": 1
         },
         "mode": "lines",
         "type": "scatter3d",
         "x": [
          0,
          0.02089160680770874
         ],
         "y": [
          0,
          -0.2619486153125763
         ],
         "z": [
          0,
          0.9648556709289551
         ]
        },
        {
         "line": {
          "color": "#000080",
          "width": 1
         },
         "mode": "lines",
         "type": "scatter3d",
         "x": [
          0,
          -0.2602500319480896
         ],
         "y": [
          0,
          -0.23843267560005188
         ],
         "z": [
          0,
          0.9356387257575989
         ]
        },
        {
         "line": {
          "color": "#000080",
          "width": 1
         },
         "mode": "lines",
         "type": "scatter3d",
         "x": [
          0,
          0.2669120728969574
         ],
         "y": [
          0,
          -0.2247680425643921
         ],
         "z": [
          0,
          0.9371431469917297
         ]
        },
        {
         "line": {
          "color": "#000080",
          "width": 1
         },
         "mode": "lines",
         "type": "scatter3d",
         "x": [
          0,
          -0.014628716744482517
         ],
         "y": [
          0,
          -0.21780534088611603
         ],
         "z": [
          0,
          0.9758825898170471
         ]
        },
        {
         "line": {
          "color": "#000080",
          "width": 1
         },
         "mode": "lines",
         "type": "scatter3d",
         "x": [
          0,
          -0.29460638761520386
         ],
         "y": [
          0,
          -0.19328673183918
         ],
         "z": [
          0,
          0.9358671307563782
         ]
        },
        {
         "line": {
          "color": "#000080",
          "width": 1
         },
         "mode": "lines",
         "type": "scatter3d",
         "x": [
          0,
          0.23680800199508667
         ],
         "y": [
          0,
          -0.18277126550674438
         ],
         "z": [
          0,
          0.9542099237442017
         ]
        },
        {
         "line": {
          "color": "#000080",
          "width": 1
         },
         "mode": "lines",
         "type": "scatter3d",
         "x": [
          0,
          -0.050795458257198334
         ],
         "y": [
          0,
          -0.1720491349697113
         ],
         "z": [
          0,
          0.9837778806686401
         ]
        },
        {
         "line": {
          "color": "#000080",
          "width": 1
         },
         "mode": "lines",
         "type": "scatter3d",
         "x": [
          0,
          -0.3279249966144562
         ],
         "y": [
          0,
          -0.14764395356178284
         ],
         "z": [
          0,
          0.9330950975418091
         ]
        },
        {
         "line": {
          "color": "#000080",
          "width": 1
         },
         "mode": "lines",
         "type": "scatter3d",
         "x": [
          0,
          0.20494702458381653
         ],
         "y": [
          0,
          -0.1387830227613449
         ],
         "z": [
          0,
          0.9688838720321655
         ]
        },
        {
         "line": {
          "color": "#000080",
          "width": 1
         },
         "mode": "lines",
         "type": "scatter3d",
         "x": [
          0,
          -0.08724308758974075
         ],
         "y": [
          0,
          -0.12510329484939575
         ],
         "z": [
          0,
          0.9883004426956177
         ]
        },
        {
         "line": {
          "color": "#000080",
          "width": 1
         },
         "mode": "lines",
         "type": "scatter3d",
         "x": [
          0,
          -0.35990670323371887
         ],
         "y": [
          0,
          -0.10194782167673111
         ],
         "z": [
          0,
          0.9274016618728638
         ]
        },
        {
         "line": {
          "color": "#000080",
          "width": 1
         },
         "mode": "lines",
         "type": "scatter3d",
         "x": [
          0,
          0.1715231090784073
         ],
         "y": [
          0,
          -0.09311254322528839
         ],
         "z": [
          0,
          0.9807700514793396
         ]
        },
        {
         "line": {
          "color": "#000080",
          "width": 1
         },
         "mode": "lines",
         "type": "scatter3d",
         "x": [
          0,
          -0.12358300387859344
         ],
         "y": [
          0,
          -0.07744535058736801
         ],
         "z": [
          0,
          0.9893075823783875
         ]
        },
        {
         "line": {
          "color": "#000080",
          "width": 1
         },
         "mode": "lines",
         "type": "scatter3d",
         "x": [
          0,
          -0.39029771089553833
         ],
         "y": [
          0,
          -0.056631434708833694
         ],
         "z": [
          0,
          0.9189453721046448
         ]
        },
        {
         "line": {
          "color": "#000080",
          "width": 1
         },
         "mode": "lines",
         "type": "scatter3d",
         "x": [
          0,
          0.13679508864879608
         ],
         "y": [
          0,
          -0.04614774137735367
         ],
         "z": [
          0,
          0.9895238876342773
         ]
        },
        {
         "line": {
          "color": "#000080",
          "width": 1
         },
         "mode": "lines",
         "type": "scatter3d",
         "x": [
          0,
          -0.15942354500293732
         ],
         "y": [
          0,
          -0.029583750292658806
         ],
         "z": [
          0,
          0.9867669343948364
         ]
        },
        {
         "line": {
          "color": "#000080",
          "width": 1
         },
         "mode": "lines",
         "type": "scatter3d",
         "x": [
          0,
          0.3724786937236786
         ],
         "y": [
          0,
          -0.013909992761909962
         ],
         "z": [
          0,
          0.9279364943504333
         ]
        },
        {
         "line": {
          "color": "#000080",
          "width": 1
         },
         "mode": "lines",
         "type": "scatter3d",
         "x": [
          0,
          0.101080022752285
         ],
         "y": [
          0,
          0.0016570496372878551
         ],
         "z": [
          0,
          0.9948769211769104
         ]
        },
        {
         "line": {
          "color": "#000080",
          "width": 1
         },
         "mode": "lines",
         "type": "scatter3d",
         "x": [
          0,
          -0.19439078867435455
         ],
         "y": [
          0,
          0.01796889677643776
         ],
         "z": [
          0,
          0.9807595610618591
         ]
        },
        {
         "line": {
          "color": "#000080",
          "width": 1
         },
         "mode": "lines",
         "type": "scatter3d",
         "x": [
          0,
          0.3425096571445465
         ],
         "y": [
          0,
          0.03127942234277725
         ],
         "z": [
          0,
          0.9389934539794922
         ]
        },
        {
         "line": {
          "color": "#000080",
          "width": 1
         },
         "mode": "lines",
         "type": "scatter3d",
         "x": [
          0,
          0.06474067270755768
         ],
         "y": [
          0,
          0.04980051890015602
         ],
         "z": [
          0,
          0.9966586828231812
         ]
        },
        {
         "line": {
          "color": "#000080",
          "width": 1
         },
         "mode": "lines",
         "type": "scatter3d",
         "x": [
          0,
          -0.22814762592315674
         ],
         "y": [
          0,
          0.06472273170948029
         ],
         "z": [
          0,
          0.9714729189872742
         ]
        },
        {
         "line": {
          "color": "#000080",
          "width": 1
         },
         "mode": "lines",
         "type": "scatter3d",
         "x": [
          0,
          0.3108327388763428
         ],
         "y": [
          0,
          0.07731372863054276
         ],
         "z": [
          0,
          0.9473149180412292
         ]
        },
        {
         "line": {
          "color": "#000080",
          "width": 1
         },
         "mode": "lines",
         "type": "scatter3d",
         "x": [
          0,
          0.02816798724234104
         ],
         "y": [
          0,
          0.09775948524475098
         ],
         "z": [
          0,
          0.9948113560676575
         ]
        },
        {
         "line": {
          "color": "#000080",
          "width": 1
         },
         "mode": "lines",
         "type": "scatter3d",
         "x": [
          0,
          -0.26040902733802795
         ],
         "y": [
          0,
          0.11023449897766113
         ],
         "z": [
          0,
          0.9591848254203796
         ]
        },
        {
         "line": {
          "color": "#000080",
          "width": 1
         },
         "mode": "lines",
         "type": "scatter3d",
         "x": [
          0,
          0.2776806056499481
         ],
         "y": [
          0,
          0.1237662136554718
         ],
         "z": [
          0,
          0.9526675343513489
         ]
        },
        {
         "line": {
          "color": "#000080",
          "width": 1
         },
         "mode": "lines",
         "type": "scatter3d",
         "x": [
          0,
          -0.008239594288170338
         ],
         "y": [
          0,
          0.1450168490409851
         ],
         "z": [
          0,
          0.9893949031829834
         ]
        },
        {
         "line": {
          "color": "#000080",
          "width": 1
         },
         "mode": "lines",
         "type": "scatter3d",
         "x": [
          0,
          -0.29095178842544556
         ],
         "y": [
          0,
          0.15412580966949463
         ],
         "z": [
          0,
          0.9442416429519653
         ]
        },
        {
         "line": {
          "color": "#000080",
          "width": 1
         },
         "mode": "lines",
         "type": "scatter3d",
         "x": [
          0,
          0.2433398813009262
         ],
         "y": [
          0,
          0.1701788753271103
         ],
         "z": [
          0,
          0.9548951983451843
         ]
        },
        {
         "line": {
          "color": "#000080",
          "width": 1
         },
         "mode": "lines",
         "type": "scatter3d",
         "x": [
          0,
          -0.04409747198224068
         ],
         "y": [
          0,
          0.19108903408050537
         ],
         "z": [
          0,
          0.9805816411972046
         ]
        },
        {
         "line": {
          "color": "#000080",
          "width": 1
         },
         "mode": "lines",
         "type": "scatter3d",
         "x": [
          0,
          -0.31961849331855774
         ],
         "y": [
          0,
          0.19609443843364716
         ],
         "z": [
          0,
          0.9270334243774414
         ]
        },
        {
         "line": {
          "color": "#000080",
          "width": 1
         },
         "mode": "lines",
         "type": "scatter3d",
         "x": [
          0,
          0.2081395983695984
         ],
         "y": [
          0,
          0.21608386933803558
         ],
         "z": [
          0,
          0.9539316892623901
         ]
        },
        {
         "line": {
          "color": "#000080",
          "width": 1
         },
         "mode": "lines",
         "type": "scatter3d",
         "x": [
          0,
          -0.07905428856611252
         ],
         "y": [
          0,
          0.23554950952529907
         ],
         "z": [
          0,
          0.9686417579650879
         ]
        },
        {
         "line": {
          "color": "#000080",
          "width": 1
         },
         "mode": "lines",
         "type": "scatter3d",
         "x": [
          0,
          -0.34631606936454773
         ],
         "y": [
          0,
          0.23591837286949158
         ],
         "z": [
          0,
          0.9079689979553223
         ]
        },
        {
         "line": {
          "color": "#000080",
          "width": 1
         },
         "mode": "lines",
         "type": "scatter3d",
         "x": [
          0,
          0.17243580520153046
         ],
         "y": [
          0,
          0.26102668046951294
         ],
         "z": [
          0,
          0.949805736541748
         ]
        },
        {
         "line": {
          "color": "#000080",
          "width": 1
         },
         "mode": "lines",
         "type": "scatter3d",
         "x": [
          0,
          -0.11280720680952072
         ],
         "y": [
          0,
          0.2780459225177765
         ],
         "z": [
          0,
          0.953920841217041
         ]
        },
        {
         "line": {
          "color": "#000080",
          "width": 1
         },
         "mode": "lines",
         "type": "scatter3d",
         "x": [
          0,
          -0.37101009488105774
         ],
         "y": [
          0,
          0.27345365285873413
         ],
         "z": [
          0,
          0.8874540328979492
         ]
        },
        {
         "line": {
          "color": "#000080",
          "width": 1
         },
         "mode": "lines",
         "type": "scatter3d",
         "x": [
          0,
          0.13659372925758362
         ],
         "y": [
          0,
          0.30458831787109375
         ],
         "z": [
          0,
          0.9426389336585999
         ]
        },
        {
         "line": {
          "color": "#000080",
          "width": 1
         },
         "mode": "lines",
         "type": "scatter3d",
         "x": [
          0,
          -0.1451117992401123
         ],
         "y": [
          0,
          0.3183097541332245
         ],
         "z": [
          0,
          0.936814546585083
         ]
        },
        {
         "line": {
          "color": "#000080",
          "width": 1
         },
         "mode": "lines",
         "type": "scatter3d",
         "x": [
          0,
          0.3589525520801544
         ],
         "y": [
          0,
          0.31206896901130676
         ],
         "z": [
          0,
          0.8796396851539612
         ]
        },
        {
         "line": {
          "color": "#000080",
          "width": 1
         },
         "mode": "lines",
         "type": "scatter3d",
         "x": [
          0,
          0.10096980631351471
         ],
         "y": [
          0,
          0.346404105424881
         ],
         "z": [
          0,
          0.9326356649398804
         ]
        },
        {
         "line": {
          "color": "#000080",
          "width": 1
         },
         "mode": "lines",
         "type": "scatter3d",
         "x": [
          0,
          -0.17578615248203278
         ],
         "y": [
          0,
          0.356158047914505
         ],
         "z": [
          0,
          0.917742133140564
         ]
        },
        {
         "line": {
          "color": "#000080",
          "width": 1
         },
         "mode": "lines",
         "type": "scatter3d",
         "x": [
          0,
          0.3257082402706146
         ],
         "y": [
          0,
          0.3534591794013977
         ],
         "z": [
          0,
          0.876915454864502
         ]
        },
        {
         "line": {
          "color": "#000080",
          "width": 1
         },
         "mode": "lines",
         "type": "scatter3d",
         "x": [
          0,
          0.06589531153440475
         ],
         "y": [
          0,
          0.3861771523952484
         ],
         "z": [
          0,
          0.9200679063796997
         ]
        },
        {
         "line": {
          "color": "#004cff",
          "width": 1
         },
         "mode": "lines",
         "type": "scatter3d",
         "x": [
          0.17524218559265137,
          -0.11239588260650635
         ],
         "y": [
          -0.01157940924167633,
          -0.3677160292863846
         ],
         "z": [
          0.17279958724975586,
          1.061861515045166
         ]
        },
        {
         "line": {
          "color": "#004cff",
          "width": 1
         },
         "mode": "lines",
         "type": "scatter3d",
         "x": [
          0.17524218559265137,
          0.37771306931972504
         ],
         "y": [
          -0.01157940924167633,
          -0.42139868438243866
         ],
         "z": [
          0.17279958724975586,
          1.0622116327285767
         ]
        },
        {
         "line": {
          "color": "#004cff",
          "width": 1
         },
         "mode": "lines",
         "type": "scatter3d",
         "x": [
          0.17524218559265137,
          0.10722390562295914
         ],
         "y": [
          -0.01157940924167633,
          -0.38465841114521027
         ],
         "z": [
          0.17279958724975586,
          1.0981025695800781
         ]
        },
        {
         "line": {
          "color": "#004cff",
          "width": 1
         },
         "mode": "lines",
         "type": "scatter3d",
         "x": [
          0.17524218559265137,
          0.5988785326480865
         ],
         "y": [
          -0.01157940924167633,
          -0.3939943462610245
         ],
         "z": [
          0.17279958724975586,
          0.9939519166946411
         ]
        },
        {
         "line": {
          "color": "#004cff",
          "width": 1
         },
         "mode": "lines",
         "type": "scatter3d",
         "x": [
          0.17524218559265137,
          0.3515913039445877
         ],
         "y": [
          -0.01157940924167633,
          -0.38185738027095795
         ],
         "z": [
          0.17279958724975586,
          1.0848276615142822
         ]
        },
        {
         "line": {
          "color": "#004cff",
          "width": 1
         },
         "mode": "lines",
         "type": "scatter3d",
         "x": [
          0.17524218559265137,
          0.07667265832424164
         ],
         "y": [
          -0.01157940924167633,
          -0.34096188843250275
         ],
         "z": [
          0.17279958724975586,
          1.1118370294570923
         ]
        },
        {
         "line": {
          "color": "#004cff",
          "width": 1
         },
         "mode": "lines",
         "type": "scatter3d",
         "x": [
          0.17524218559265137,
          0.5804328620433807
         ],
         "y": [
          -0.01157940924167633,
          -0.3576621264219284
         ],
         "z": [
          0.17279958724975586,
          1.0189953446388245
         ]
        },
        {
         "line": {
          "color": "#004cff",
          "width": 1
         },
         "mode": "lines",
         "type": "scatter3d",
         "x": [
          0.17524218559265137,
          0.3239695131778717
         ],
         "y": [
          -0.01157940924167633,
          -0.3397441953420639
         ],
         "z": [
          0.17279958724975586,
          1.105638325214386
         ]
        },
        {
         "line": {
          "color": "#004cff",
          "width": 1
         },
         "mode": "lines",
         "type": "scatter3d",
         "x": [
          0.17524218559265137,
          0.04592867195606232
         ],
         "y": [
          -0.01157940924167633,
          -0.29552869498729706
         ],
         "z": [
          0.17279958724975586,
          1.1228789687156677
         ]
        },
        {
         "line": {
          "color": "#004cff",
          "width": 1
         },
         "mode": "lines",
         "type": "scatter3d",
         "x": [
          0.17524218559265137,
          0.5601001977920532
         ],
         "y": [
          -0.01157940924167633,
          -0.31872327625751495
         ],
         "z": [
          0.17279958724975586,
          1.0431713461875916
         ]
        },
        {
         "line": {
          "color": "#004cff",
          "width": 1
         },
         "mode": "lines",
         "type": "scatter3d",
         "x": [
          0.17524218559265137,
          0.2949945703148842
         ],
         "y": [
          -0.01157940924167633,
          -0.29525206983089447
         ],
         "z": [
          0.17279958724975586,
          1.1242139339447021
         ]
        },
        {
         "line": {
          "color": "#004cff",
          "width": 1
         },
         "mode": "lines",
         "type": "scatter3d",
         "x": [
          0.17524218559265137,
          0.015285536646842957
         ],
         "y": [
          -0.01157940924167633,
          -0.24873441457748413
         ],
         "z": [
          0.17279958724975586,
          1.131012201309204
         ]
        },
        {
         "line": {
          "color": "#004cff",
          "width": 1
         },
         "mode": "lines",
         "type": "scatter3d",
         "x": [
          0.17524218559265137,
          0.5378369688987732
         ],
         "y": [
          -0.01157940924167633,
          -0.27724073827266693
         ],
         "z": [
          0.17279958724975586,
          1.066079556941986
         ]
        },
        {
         "line": {
          "color": "#004cff",
          "width": 1
         },
         "mode": "lines",
         "type": "scatter3d",
         "x": [
          0.17524218559265137,
          0.2648681178689003
         ],
         "y": [
          -0.01157940924167633,
          -0.248663529753685
         ],
         "z": [
          0.17279958724975586,
          1.1401455998420715
         ]
        },
        {
         "line": {
          "color": "#004cff",
          "width": 1
         },
         "mode": "lines",
         "type": "scatter3d",
         "x": [
          0.17524218559265137,
          -0.014957144856452942
         ],
         "y": [
          -0.01157940924167633,
          -0.20100507140159607
         ],
         "z": [
          0.17279958724975586,
          1.1360971331596375
         ]
        },
        {
         "line": {
          "color": "#004cff",
          "width": 1
         },
         "mode": "lines",
         "type": "scatter3d",
         "x": [
          0.17524218559265137,
          0.5136447846889496
         ],
         "y": [
          -0.01157940924167633,
          -0.23335495591163635
         ],
         "z": [
          0.17279958724975586,
          1.0872936248779297
         ]
        },
        {
         "line": {
          "color": "#004cff",
          "width": 1
         },
         "mode": "lines",
         "type": "scatter3d",
         "x": [
          0.17524218559265137,
          0.2338433712720871
         ],
         "y": [
          -0.01157940924167633,
          -0.20034795999526978
         ],
         "z": [
          0.17279958724975586,
          1.1530711650848389
         ]
        },
        {
         "line": {
          "color": "#004cff",
          "width": 1
         },
         "mode": "lines",
         "type": "scatter3d",
         "x": [
          0.17524218559265137,
          -0.04450792074203491
         ],
         "y": [
          -0.01157940924167633,
          -0.15279828011989594
         ],
         "z": [
          0.17279958724975586,
          1.1380804181098938
         ]
        },
        {
         "line": {
          "color": "#004cff",
          "width": 1
         },
         "mode": "lines",
         "type": "scatter3d",
         "x": [
          0.17524218559265137,
          0.4875795841217041
         ],
         "y": [
          -0.01157940924167633,
          -0.18729229271411896
         ],
         "z": [
          0.17279958724975586,
          1.1063789129257202
         ]
        },
        {
         "line": {
          "color": "#004cff",
          "width": 1
         },
         "mode": "lines",
         "type": "scatter3d",
         "x": [
          0.17524218559265137,
          0.20221695117652416
         ],
         "y": [
          -0.01157940924167633,
          -0.15075115859508514
         ],
         "z": [
          0.17279958724975586,
          1.1627004146575928
         ]
        },
        {
         "line": {
          "color": "#004cff",
          "width": 1
         },
         "mode": "lines",
         "type": "scatter3d",
         "x": [
          0.17524218559265137,
          -0.07309748232364655
         ],
         "y": [
          -0.01157940924167633,
          -0.10458161681890488
         ],
         "z": [
          0.17279958724975586,
          1.1369976997375488
         ]
        },
        {
         "line": {
          "color": "#004cff",
          "width": 1
         },
         "mode": "lines",
         "type": "scatter3d",
         "x": [
          0.17524218559265137,
          0.4597585201263428
         ],
         "y": [
          -0.01157940924167633,
          -0.13936783373355865
         ],
         "z": [
          0.17279958724975586,
          1.1229156851768494
         ]
        },
        {
         "line": {
          "color": "#004cff",
          "width": 1
         },
         "mode": "lines",
         "type": "scatter3d",
         "x": [
          0.17524218559265137,
          0.17031611688435078
         ],
         "y": [
          -0.01157940924167633,
          -0.10037694871425629
         ],
         "z": [
          0.17279958724975586,
          1.1688371300697327
         ]
        },
        {
         "line": {
          "color": "#004cff",
          "width": 1
         },
         "mode": "lines",
         "type": "scatter3d",
         "x": [
          0.17524218559265137,
          -0.10049054026603699
         ],
         "y": [
          -0.01157940924167633,
          -0.0568104088306427
         ],
         "z": [
          0.17279958724975586,
          1.1329691410064697
         ]
        },
        {
         "line": {
          "color": "#004cff",
          "width": 1
         },
         "mode": "lines",
         "type": "scatter3d",
         "x": [
          0.17524218559265137,
          0.43036267161369324
         ],
         "y": [
          -0.01157940924167633,
          -0.0899813324213028
         ],
         "z": [
          0.17279958724975586,
          1.13652503490448
         ]
        },
        {
         "line": {
          "color": "#004cff",
          "width": 1
         },
         "mode": "lines",
         "type": "scatter3d",
         "x": [
          0.17524218559265137,
          0.1384824402630329
         ],
         "y": [
          -0.01157940924167633,
          -0.04976261034607887
         ],
         "z": [
          0.17279958724975586,
          1.1713939905166626
         ]
        },
        {
         "line": {
          "color": "#004cff",
          "width": 1
         },
         "mode": "lines",
         "type": "scatter3d",
         "x": [
          0.17524218559265137,
          0.6583465039730072
         ],
         "y": [
          -0.01157940924167633,
          -0.07533483952283859
         ],
         "z": [
          0.17279958724975586,
          1.0460380911827087
         ]
        },
        {
         "line": {
          "color": "#004cff",
          "width": 1
         },
         "mode": "lines",
         "type": "scatter3d",
         "x": [
          0.17524218559265137,
          0.3996347188949585
         ],
         "y": [
          -0.01157940924167633,
          -0.03960505872964859
         ],
         "z": [
          0.17279958724975586,
          1.1468953490257263
         ]
        },
        {
         "line": {
          "color": "#004cff",
          "width": 1
         },
         "mode": "lines",
         "type": "scatter3d",
         "x": [
          0.17524218559265137,
          0.10705378651618958
         ],
         "y": [
          -0.01157940924167633,
          0.0005493937060236931
         ],
         "z": [
          0.17279958724975586,
          1.1703982949256897
         ]
        },
        {
         "line": {
          "color": "#004cff",
          "width": 1
         },
         "mode": "lines",
         "type": "scatter3d",
         "x": [
          0.17524218559265137,
          0.6337985098361969
         ],
         "y": [
          -0.01157940924167633,
          -0.028147641569375992
         ],
         "z": [
          0.17279958724975586,
          1.0613104701042175
         ]
        },
        {
         "line": {
          "color": "#004cff",
          "width": 1
         },
         "mode": "lines",
         "type": "scatter3d",
         "x": [
          0.17524218559265137,
          0.367871031165123
         ],
         "y": [
          -0.01157940924167633,
          0.011236140504479408
         ],
         "z": [
          0.17279958724975586,
          1.1538060307502747
         ]
        },
        {
         "line": {
          "color": "#004cff",
          "width": 1
         },
         "mode": "lines",
         "type": "scatter3d",
         "x": [
          0.17524218559265137,
          0.07634671032428741
         ],
         "y": [
          -0.01157940924167633,
          0.050039902329444885
         ],
         "z": [
          0.17279958724975586,
          1.1659877300262451
         ]
        },
        {
         "line": {
          "color": "#004cff",
          "width": 1
         },
         "mode": "lines",
         "type": "scatter3d",
         "x": [
          0.17524218559265137,
          0.6072892248630524
         ],
         "y": [
          -0.01157940924167633,
          0.020077329128980637
         ],
         "z": [
          0.17279958724975586,
          1.0740948915481567
         ]
        },
        {
         "line": {
          "color": "#004cff",
          "width": 1
         },
         "mode": "lines",
         "type": "scatter3d",
         "x": [
          0.17524218559265137,
          0.3354080468416214
         ],
         "y": [
          -0.01157940924167633,
          0.06199091672897339
         ],
         "z": [
          0.17279958724975586,
          1.1571441888809204
         ]
        },
        {
         "line": {
          "color": "#004cff",
          "width": 1
         },
         "mode": "lines",
         "type": "scatter3d",
         "x": [
          0.17524218559265137,
          0.04664148390293121
         ],
         "y": [
          -0.01157940924167633,
          0.09823837876319885
         ],
         "z": [
          0.17279958724975586,
          1.15839684009552
         ]
        },
        {
         "line": {
          "color": "#004cff",
          "width": 1
         },
         "mode": "lines",
         "type": "scatter3d",
         "x": [
          0.17524218559265137,
          0.5789845585823059
         ],
         "y": [
          -0.01157940924167633,
          0.06890130788087845
         ],
         "z": [
          0.17279958724975586,
          1.0841255187988281
         ]
        },
        {
         "line": {
          "color": "#004cff",
          "width": 1
         },
         "mode": "lines",
         "type": "scatter3d",
         "x": [
          0.17524218559265137,
          0.3026048392057419
         ],
         "y": [
          -0.01157940924167633,
          0.11211083084344864
         ],
         "z": [
          0.17279958724975586,
          1.156913161277771
         ]
        },
        {
         "line": {
          "color": "#004cff",
          "width": 1
         },
         "mode": "lines",
         "type": "scatter3d",
         "x": [
          0.17524218559265137,
          0.018171057105064392
         ],
         "y": [
          -0.01157940924167633,
          0.14474239945411682
         ],
         "z": [
          0.17279958724975586,
          1.1479365825653076
         ]
        },
        {
         "line": {
          "color": "#004cff",
          "width": 1
         },
         "mode": "lines",
         "type": "scatter3d",
         "x": [
          0.17524218559265137,
          0.5491109490394592
         ],
         "y": [
          -0.01157940924167633,
          0.11784836649894714
         ],
         "z": [
          0.17279958724975586,
          1.091206133365631
         ]
        },
        {
         "line": {
          "color": "#004cff",
          "width": 1
         },
         "mode": "lines",
         "type": "scatter3d",
         "x": [
          0.17524218559265137,
          0.2698236331343651
         ],
         "y": [
          -0.01157940924167633,
          0.1610794961452484
         ],
         "z": [
          0.17279958724975586,
          1.1532297134399414
         ]
        },
        {
         "line": {
          "color": "#004cff",
          "width": 1
         },
         "mode": "lines",
         "type": "scatter3d",
         "x": [
          0.17524218559265137,
          -0.008884936571121216
         ],
         "y": [
          -0.01157940924167633,
          0.18922971189022064
         ],
         "z": [
          0.17279958724975586,
          1.134970486164093
         ]
        },
        {
         "line": {
          "color": "#004cff",
          "width": 1
         },
         "mode": "lines",
         "type": "scatter3d",
         "x": [
          0.17524218559265137,
          0.5179470777511597
         ],
         "y": [
          -0.01157940924167633,
          0.16642743349075317
         ],
         "z": [
          0.17279958724975586,
          1.0952240824699402
         ]
        },
        {
         "line": {
          "color": "#004cff",
          "width": 1
         },
         "mode": "lines",
         "type": "scatter3d",
         "x": [
          0.17524218559265137,
          0.23741060867905617
         ],
         "y": [
          -0.01157940924167633,
          0.2084379345178604
         ],
         "z": [
          0.17279958724975586,
          1.1463125348091125
         ]
        },
        {
         "line": {
          "color": "#004cff",
          "width": 1
         },
         "mode": "lines",
         "type": "scatter3d",
         "x": [
          0.17524218559265137,
          -0.03440161049365997
         ],
         "y": [
          -0.01157940924167633,
          0.23146279156208038
         ],
         "z": [
          0.17279958724975586,
          1.1198898553848267
         ]
        },
        {
         "line": {
          "color": "#004cff",
          "width": 1
         },
         "mode": "lines",
         "type": "scatter3d",
         "x": [
          0.17524218559265137,
          0.48581135272979736
         ],
         "y": [
          -0.01157940924167633,
          0.21415650844573975
         ],
         "z": [
          0.17279958724975586,
          1.0961576104164124
         ]
        },
        {
         "line": {
          "color": "#004cff",
          "width": 1
         },
         "mode": "lines",
         "type": "scatter3d",
         "x": [
          0.17524218559265137,
          0.20567953400313854
         ],
         "y": [
          -0.01157940924167633,
          0.2538033276796341
         ],
         "z": [
          0.17279958724975586,
          1.136462152004242
         ]
        },
        {
         "line": {
          "color": "#004cff",
          "width": 1
         },
         "mode": "lines",
         "type": "scatter3d",
         "x": [
          0.17524218559265137,
          -0.0583060085773468
         ],
         "y": [
          -0.01157940924167633,
          0.27128659188747406
         ],
         "z": [
          0.17279958724975586,
          1.1030909419059753
         ]
        },
        {
         "line": {
          "color": "#004cff",
          "width": 1
         },
         "mode": "lines",
         "type": "scatter3d",
         "x": [
          0.17524218559265137,
          0.4530457556247711
         ],
         "y": [
          -0.01157940924167633,
          0.260586217045784
         ],
         "z": [
          0.17279958724975586,
          1.0940764546394348
         ]
        },
        {
         "line": {
          "color": "#004cff",
          "width": 1
         },
         "mode": "lines",
         "type": "scatter3d",
         "x": [
          0.17524218559265137,
          0.1748995203524828
         ],
         "y": [
          -0.01157940924167633,
          0.29687996208667755
         ],
         "z": [
          0.17279958724975586,
          1.1240370273590088
         ]
        },
        {
         "line": {
          "color": "#004cff",
          "width": 1
         },
         "mode": "lines",
         "type": "scatter3d",
         "x": [
          0.17524218559265137,
          0.6656493544578552
         ],
         "y": [
          -0.01157940924167633,
          0.25165511667728424
         ],
         "z": [
          0.17279958724975586,
          1.0035874247550964
         ]
        },
        {
         "line": {
          "color": "#004cff",
          "width": 1
         },
         "mode": "lines",
         "type": "scatter3d",
         "x": [
          0.17524218559265137,
          0.4199984073638916
         ],
         "y": [
          -0.01157940924167633,
          0.30532027781009674
         ],
         "z": [
          0.17279958724975586,
          1.0891340970993042
         ]
        },
        {
         "line": {
          "color": "#004cff",
          "width": 1
         },
         "mode": "lines",
         "type": "scatter3d",
         "x": [
          0.17524218559265137,
          0.14528783410787582
         ],
         "y": [
          -0.01157940924167633,
          0.3374618738889694
         ],
         "z": [
          0.17279958724975586,
          1.10942804813385
         ]
        },
        {
         "line": {
          "color": "#004cff",
          "width": 1
         },
         "mode": "lines",
         "type": "scatter3d",
         "x": [
          0.17524218559265137,
          0.6358295381069183
         ],
         "y": [
          -0.01157940924167633,
          0.295616939663887
         ],
         "z": [
          0.17279958724975586,
          1.0055599212646484
         ]
        },
        {
         "line": {
          "color": "#004cff",
          "width": 1
         },
         "mode": "lines",
         "type": "scatter3d",
         "x": [
          0.17524218559265137,
          0.3870064616203308
         ],
         "y": [
          -0.01157940924167633,
          0.3480304032564163
         ],
         "z": [
          0.17279958724975586,
          1.0815551280975342
         ]
        },
        {
         "line": {
          "color": "#29ffce",
          "width": 1
         },
         "mode": "lines",
         "type": "scatter3d",
         "x": [
          -0.07743102312088013,
          -0.07235616818070412
         ],
         "y": [
          -0.1615571230649948,
          -0.5618465393781662
         ],
         "z": [
          -0.2194504737854004,
          0.6969242691993713
         ]
        },
        {
         "line": {
          "color": "#29ffce",
          "width": 1
         },
         "mode": "lines",
         "type": "scatter3d",
         "x": [
          -0.07743102312088013,
          0.39047130942344666
         ],
         "y": [
          -0.1615571230649948,
          -0.6188431233167648
         ],
         "z": [
          -0.2194504737854004,
          0.5368278622627258
         ]
        },
        {
         "line": {
          "color": "#29ffce",
          "width": 1
         },
         "mode": "lines",
         "type": "scatter3d",
         "x": [
          -0.07743102312088013,
          0.14680099487304688
         ],
         "y": [
          -0.1615571230649948,
          -0.5821764022111893
         ],
         "z": [
          -0.2194504737854004,
          0.6596396565437317
         ]
        },
        {
         "line": {
          "color": "#29ffce",
          "width": 1
         },
         "mode": "lines",
         "type": "scatter3d",
         "x": [
          -0.07743102312088013,
          0.5785472989082336
         ],
         "y": [
          -0.1615571230649948,
          -0.5894181281328201
         ],
         "z": [
          -0.2194504737854004,
          0.402343213558197
         ]
        },
        {
         "line": {
          "color": "#29ffce",
          "width": 1
         },
         "mode": "lines",
         "type": "scatter3d",
         "x": [
          -0.07743102312088013,
          0.37393563985824585
         ],
         "y": [
          -0.1615571230649948,
          -0.5803637057542801
         ],
         "z": [
          -0.2194504737854004,
          0.5685020685195923
         ]
        },
        {
         "line": {
          "color": "#29ffce",
          "width": 1
         },
         "mode": "lines",
         "type": "scatter3d",
         "x": [
          -0.07743102312088013,
          0.12331512570381165
         ],
         "y": [
          -0.1615571230649948,
          -0.5390513092279434
         ],
         "z": [
          -0.2194504737854004,
          0.6845402121543884
         ]
        },
        {
         "line": {
          "color": "#29ffce",
          "width": 1
         },
         "mode": "lines",
         "type": "scatter3d",
         "x": [
          -0.07743102312088013,
          0.5699833631515503
         ],
         "y": [
          -0.1615571230649948,
          -0.5543234199285507
         ],
         "z": [
          -0.2194504737854004,
          0.43368756771087646
         ]
        },
        {
         "line": {
          "color": "#29ffce",
          "width": 1
         },
         "mode": "lines",
         "type": "scatter3d",
         "x": [
          -0.07743102312088013,
          0.35545992851257324
         ],
         "y": [
          -0.1615571230649948,
          -0.5392109900712967
         ],
         "z": [
          -0.2194504737854004,
          0.5990744233131409
         ]
        },
        {
         "line": {
          "color": "#29ffce",
          "width": 1
         },
         "mode": "lines",
         "type": "scatter3d",
         "x": [
          -0.07743102312088013,
          0.0988222062587738
         ],
         "y": [
          -0.1615571230649948,
          -0.49404941499233246
         ],
         "z": [
          -0.2194504737854004,
          0.7070395350456238
         ]
        },
        {
         "line": {
          "color": "#29ffce",
          "width": 1
         },
         "mode": "lines",
         "type": "scatter3d",
         "x": [
          -0.07743102312088013,
          0.5594152808189392
         ],
         "y": [
          -0.1615571230649948,
          -0.5165672153234482
         ],
         "z": [
          -0.2194504737854004,
          0.46494317054748535
         ]
        },
        {
         "line": {
          "color": "#29ffce",
          "width": 1
         },
         "mode": "lines",
         "type": "scatter3d",
         "x": [
          -0.07743102312088013,
          0.3350406587123871
         ],
         "y": [
          -0.1615571230649948,
          -0.49555613100528717
         ],
         "z": [
          -0.2194504737854004,
          0.628082275390625
         ]
        },
        {
         "line": {
          "color": "#29ffce",
          "width": 1
         },
         "mode": "lines",
         "type": "scatter3d",
         "x": [
          -0.07743102312088013,
          0.07352183759212494
         ],
         "y": [
          -0.1615571230649948,
          -0.44753648340702057
         ],
         "z": [
          -0.2194504737854004,
          0.7268206477165222
         ]
        },
        {
         "line": {
          "color": "#29ffce",
          "width": 1
         },
         "mode": "lines",
         "type": "scatter3d",
         "x": [
          -0.07743102312088013,
          0.5466716885566711
         ],
         "y": [
          -0.1615571230649948,
          -0.47619111835956573
         ],
         "z": [
          -0.2194504737854004,
          0.4957427382469177
         ]
        },
        {
         "line": {
          "color": "#29ffce",
          "width": 1
         },
         "mode": "lines",
         "type": "scatter3d",
         "x": [
          -0.07743102312088013,
          0.31273072957992554
         ],
         "y": [
          -0.1615571230649948,
          -0.4496612101793289
         ],
         "z": [
          -0.2194504737854004,
          0.6550607681274414
         ]
        },
        {
         "line": {
          "color": "#29ffce",
          "width": 1
         },
         "mode": "lines",
         "type": "scatter3d",
         "x": [
          -0.07743102312088013,
          0.04764288663864136
         ],
         "y": [
          -0.1615571230649948,
          -0.3999326527118683
         ],
         "z": [
          -0.2194504737854004,
          0.7436349987983704
         ]
        },
        {
         "line": {
          "color": "#29ffce",
          "width": 1
         },
         "mode": "lines",
         "type": "scatter3d",
         "x": [
          -0.07743102312088013,
          0.5316137671470642
         ],
         "y": [
          -0.1615571230649948,
          -0.4333130568265915
         ],
         "z": [
          -0.2194504737854004,
          0.5256757736206055
         ]
        },
        {
         "line": {
          "color": "#29ffce",
          "width": 1
         },
         "mode": "lines",
         "type": "scatter3d",
         "x": [
          -0.07743102312088013,
          0.2886447310447693
         ],
         "y": [
          -0.1615571230649948,
          -0.40187785029411316
         ],
         "z": [
          -0.2194504737854004,
          0.6795681715011597
         ]
        },
        {
         "line": {
          "color": "#29ffce",
          "width": 1
         },
         "mode": "lines",
         "type": "scatter3d",
         "x": [
          -0.07743102312088013,
          0.021433360874652863
         ],
         "y": [
          -0.1615571230649948,
          -0.35169413685798645
         ],
         "z": [
          -0.2194504737854004,
          0.757316529750824
         ]
        },
        {
         "line": {
          "color": "#29ffce",
          "width": 1
         },
         "mode": "lines",
         "type": "scatter3d",
         "x": [
          -0.07743102312088013,
          0.5141496062278748
         ],
         "y": [
          -0.1615571230649948,
          -0.3881366103887558
         ],
         "z": [
          -0.2194504737854004,
          0.5543027520179749
         ]
        },
        {
         "line": {
          "color": "#29ffce",
          "width": 1
         },
         "mode": "lines",
         "type": "scatter3d",
         "x": [
          -0.07743102312088013,
          0.26295986771583557
         ],
         "y": [
          -0.1615571230649948,
          -0.35263800621032715
         ],
         "z": [
          -0.2194504737854004,
          0.7012134790420532
         ]
        },
        {
         "line": {
          "color": "#29ffce",
          "width": 1
         },
         "mode": "lines",
         "type": "scatter3d",
         "x": [
          -0.07743102312088013,
          -0.004851259291172028
         ],
         "y": [
          -0.1615571230649948,
          -0.30329157412052155
         ],
         "z": [
          -0.2194504737854004,
          0.767789900302887
         ]
        },
        {
         "line": {
          "color": "#29ffce",
          "width": 1
         },
         "mode": "lines",
         "type": "scatter3d",
         "x": [
          -0.07743102312088013,
          0.49424779415130615
         ],
         "y": [
          -0.1615571230649948,
          -0.3409552276134491
         ],
         "z": [
          -0.2194504737854004,
          0.5811740756034851
         ]
        },
        {
         "line": {
          "color": "#29ffce",
          "width": 1
         },
         "mode": "lines",
         "type": "scatter3d",
         "x": [
          -0.07743102312088013,
          0.2359110713005066
         ],
         "y": [
          -0.1615571230649948,
          -0.30243678390979767
         ],
         "z": [
          -0.2194504737854004,
          0.7196819186210632
         ]
        },
        {
         "line": {
          "color": "#29ffce",
          "width": 1
         },
         "mode": "lines",
         "type": "scatter3d",
         "x": [
          -0.07743102312088013,
          -0.03096028044819832
         ],
         "y": [
          -0.1615571230649948,
          -0.255187563598156
         ],
         "z": [
          -0.2194504737854004,
          0.7750714421272278
         ]
        },
        {
         "line": {
          "color": "#29ffce",
          "width": 1
         },
         "mode": "lines",
         "type": "scatter3d",
         "x": [
          -0.07743102312088013,
          0.47194862365722656
         ],
         "y": [
          -0.1615571230649948,
          -0.29214948415756226
         ],
         "z": [
          -0.2194504737854004,
          0.6058540940284729
         ]
        },
        {
         "line": {
          "color": "#29ffce",
          "width": 1
         },
         "mode": "lines",
         "type": "scatter3d",
         "x": [
          -0.07743102312088013,
          0.20778104662895203
         ],
         "y": [
          -0.1615571230649948,
          -0.2518084794282913
         ],
         "z": [
          -0.2194504737854004,
          0.7347553372383118
         ]
        },
        {
         "line": {
          "color": "#29ffce",
          "width": 1
         },
         "mode": "lines",
         "type": "scatter3d",
         "x": [
          -0.07743102312088013,
          0.6590380668640137
         ],
         "y": [
          -0.1615571230649948,
          -0.2743455842137337
         ],
         "z": [
          -0.2194504737854004,
          0.44755178689956665
         ]
        },
        {
         "line": {
          "color": "#29ffce",
          "width": 1
         },
         "mode": "lines",
         "type": "scatter3d",
         "x": [
          -0.07743102312088013,
          0.4473707675933838
         ],
         "y": [
          -0.1615571230649948,
          -0.24217630922794342
         ],
         "z": [
          -0.2194504737854004,
          0.6279476881027222
         ]
        },
        {
         "line": {
          "color": "#29ffce",
          "width": 1
         },
         "mode": "lines",
         "type": "scatter3d",
         "x": [
          -0.07743102312088013,
          0.17888575792312622
         ],
         "y": [
          -0.1615571230649948,
          -0.201298538595438
         ],
         "z": [
          -0.2194504737854004,
          0.7463250160217285
         ]
        },
        {
         "line": {
          "color": "#29ffce",
          "width": 1
         },
         "mode": "lines",
         "type": "scatter3d",
         "x": [
          -0.07743102312088013,
          0.641811192035675
         ],
         "y": [
          -0.1615571230649948,
          -0.22785662859678268
         ],
         "z": [
          -0.2194504737854004,
          0.47213828563690186
         ]
        },
        {
         "line": {
          "color": "#29ffce",
          "width": 1
         },
         "mode": "lines",
         "type": "scatter3d",
         "x": [
          -0.07743102312088013,
          0.4207113981246948
         ],
         "y": [
          -0.1615571230649948,
          -0.19155028834939003
         ],
         "z": [
          -0.2194504737854004,
          0.6471258401870728
         ]
        },
        {
         "line": {
          "color": "#29ffce",
          "width": 1
         },
         "mode": "lines",
         "type": "scatter3d",
         "x": [
          -0.07743102312088013,
          0.1495569348335266
         ],
         "y": [
          -0.1615571230649948,
          -0.15143480710685253
         ],
         "z": [
          -0.2194504737854004,
          0.7543944716453552
         ]
        },
        {
         "line": {
          "color": "#29ffce",
          "width": 1
         },
         "mode": "lines",
         "type": "scatter3d",
         "x": [
          -0.07743102312088013,
          0.6219524145126343
         ],
         "y": [
          -0.1615571230649948,
          -0.1801873743534088
         ],
         "z": [
          -0.2194504737854004,
          0.49505335092544556
         ]
        },
        {
         "line": {
          "color": "#29ffce",
          "width": 1
         },
         "mode": "lines",
         "type": "scatter3d",
         "x": [
          -0.07743102312088013,
          0.3922399878501892
         ],
         "y": [
          -0.1615571230649948,
          -0.1408183928579092
         ],
         "z": [
          -0.2194504737854004,
          0.6631473898887634
         ]
        },
        {
         "line": {
          "color": "#29ffce",
          "width": 1
         },
         "mode": "lines",
         "type": "scatter3d",
         "x": [
          -0.07743102312088013,
          0.12012425065040588
         ],
         "y": [
          -0.1615571230649948,
          -0.10270138084888458
         ],
         "z": [
          -0.2194504737854004,
          0.7590728402137756
         ]
        },
        {
         "line": {
          "color": "#29ffce",
          "width": 1
         },
         "mode": "lines",
         "type": "scatter3d",
         "x": [
          -0.07743102312088013,
          0.5995230674743652
         ],
         "y": [
          -0.1615571230649948,
          -0.13176317140460014
         ],
         "z": [
          -0.2194504737854004,
          0.5159715414047241
         ]
        },
        {
         "line": {
          "color": "#29ffce",
          "width": 1
         },
         "mode": "lines",
         "type": "scatter3d",
         "x": [
          -0.07743102312088013,
          0.36228469014167786
         ],
         "y": [
          -0.1615571230649948,
          -0.09053092449903488
         ],
         "z": [
          -0.2194504737854004,
          0.6758736968040466
         ]
        },
        {
         "line": {
          "color": "#29ffce",
          "width": 1
         },
         "mode": "lines",
         "type": "scatter3d",
         "x": [
          -0.07743102312088013,
          0.09089882671833038
         ],
         "y": [
          -0.1615571230649948,
          -0.05551804602146149
         ],
         "z": [
          -0.2194504737854004,
          0.7605600953102112
         ]
        },
        {
         "line": {
          "color": "#29ffce",
          "width": 1
         },
         "mode": "lines",
         "type": "scatter3d",
         "x": [
          -0.07743102312088013,
          0.5746632814407349
         ],
         "y": [
          -0.1615571230649948,
          -0.08305055648088455
         ],
         "z": [
          -0.2194504737854004,
          0.534611701965332
         ]
        },
        {
         "line": {
          "color": "#29ffce",
          "width": 1
         },
         "mode": "lines",
         "type": "scatter3d",
         "x": [
          -0.07743102312088013,
          0.3312138020992279
         ],
         "y": [
          -0.1615571230649948,
          -0.04121217131614685
         ],
         "z": [
          -0.2194504737854004,
          0.685274064540863
         ]
        },
        {
         "line": {
          "color": "#29ffce",
          "width": 1
         },
         "mode": "lines",
         "type": "scatter3d",
         "x": [
          -0.07743102312088013,
          0.06215992569923401
         ],
         "y": [
          -0.1615571230649948,
          -0.010226890444755554
         ],
         "z": [
          -0.2194504737854004,
          0.7591267824172974
         ]
        },
        {
         "line": {
          "color": "#29ffce",
          "width": 1
         },
         "mode": "lines",
         "type": "scatter3d",
         "x": [
          -0.07743102312088013,
          0.5475892424583435
         ],
         "y": [
          -0.1615571230649948,
          -0.03453589975833893
         ],
         "z": [
          -0.2194504737854004,
          0.550754189491272
         ]
        },
        {
         "line": {
          "color": "#29ffce",
          "width": 1
         },
         "mode": "lines",
         "type": "scatter3d",
         "x": [
          -0.07743102312088013,
          0.29941460490226746
         ],
         "y": [
          -0.1615571230649948,
          0.006665676832199097
         ],
         "z": [
          -0.2194504737854004,
          0.6914218664169312
         ]
        },
        {
         "line": {
          "color": "#29ffce",
          "width": 1
         },
         "mode": "lines",
         "type": "scatter3d",
         "x": [
          -0.07743102312088013,
          0.03414597362279892
         ],
         "y": [
          -0.1615571230649948,
          0.03291350603103638
         ],
         "z": [
          -0.2194504737854004,
          0.7550913095474243
         ]
        },
        {
         "line": {
          "color": "#29ffce",
          "width": 1
         },
         "mode": "lines",
         "type": "scatter3d",
         "x": [
          -0.07743102312088013,
          0.518584132194519
         ],
         "y": [
          -0.1615571230649948,
          0.013298392295837402
         ],
         "z": [
          -0.2194504737854004,
          0.5642532110214233
         ]
        },
        {
         "line": {
          "color": "#29ffce",
          "width": 1
         },
         "mode": "lines",
         "type": "scatter3d",
         "x": [
          -0.07743102312088013,
          0.2672717571258545
         ],
         "y": [
          -0.1615571230649948,
          0.05270242691040039
         ],
         "z": [
          -0.2194504737854004,
          0.694482147693634
         ]
        },
        {
         "line": {
          "color": "#29ffce",
          "width": 1
         },
         "mode": "lines",
         "type": "scatter3d",
         "x": [
          -0.07743102312088013,
          0.0070497989654541016
         ],
         "y": [
          -0.1615571230649948,
          0.07372701168060303
         ],
         "z": [
          -0.2194504737854004,
          0.748797595500946
         ]
        },
        {
         "line": {
          "color": "#29ffce",
          "width": 1
         },
         "mode": "lines",
         "type": "scatter3d",
         "x": [
          -0.07743102312088013,
          0.4879835247993469
         ],
         "y": [
          -0.1615571230649948,
          0.059997618198394775
         ],
         "z": [
          -0.2194504737854004,
          0.5750430226325989
         ]
        },
        {
         "line": {
          "color": "#29ffce",
          "width": 1
         },
         "mode": "lines",
         "type": "scatter3d",
         "x": [
          -0.07743102312088013,
          0.23514828085899353
         ],
         "y": [
          -0.1615571230649948,
          0.09658209979534149
         ],
         "z": [
          -0.2194504737854004,
          0.6946930289268494
         ]
        },
        {
         "line": {
          "color": "#29ffce",
          "width": 1
         },
         "mode": "lines",
         "type": "scatter3d",
         "x": [
          -0.07743102312088013,
          0.6599605679512024
         ],
         "y": [
          -0.1615571230649948,
          0.054362788796424866
         ],
         "z": [
          -0.2194504737854004,
          0.42057472467422485
         ]
        },
        {
         "line": {
          "color": "#29ffce",
          "width": 1
         },
         "mode": "lines",
         "type": "scatter3d",
         "x": [
          -0.07743102312088013,
          0.45615702867507935
         ],
         "y": [
          -0.1615571230649948,
          0.10515551269054413
         ],
         "z": [
          -0.2194504737854004,
          0.5831379294395447
         ]
        },
        {
         "line": {
          "color": "#29ffce",
          "width": 1
         },
         "mode": "lines",
         "type": "scatter3d",
         "x": [
          -0.07743102312088013,
          0.20337066054344177
         ],
         "y": [
          -0.1615571230649948,
          0.13807706534862518
         ],
         "z": [
          -0.2194504737854004,
          0.6923443078994751
         ]
        },
        {
         "line": {
          "color": "#29ffce",
          "width": 1
         },
         "mode": "lines",
         "type": "scatter3d",
         "x": [
          -0.07743102312088013,
          0.6333935260772705
         ],
         "y": [
          -0.1615571230649948,
          0.0983646959066391
         ],
         "z": [
          -0.2194504737854004,
          0.4341312646865845
         ]
        },
        {
         "line": {
          "color": "#29ffce",
          "width": 1
         },
         "mode": "lines",
         "type": "scatter3d",
         "x": [
          -0.07743102312088013,
          0.4234883785247803
         ],
         "y": [
          -0.1615571230649948,
          0.14843027293682098
         ],
         "z": [
          -0.2194504737854004,
          0.588625967502594
         ]
        },
        {
         "line": {
          "color": "#ceff29",
          "width": 1
         },
         "mode": "lines",
         "type": "scatter3d",
         "x": [
          -0.20418572425842285,
          0.04881945252418518
         ],
         "y": [
          -0.3058573007583618,
          -0.7510098516941071
         ],
         "z": [
          -0.27696824073791504,
          0.582000732421875
         ]
        },
        {
         "line": {
          "color": "#ceff29",
          "width": 1
         },
         "mode": "lines",
         "type": "scatter3d",
         "x": [
          -0.20418572425842285,
          0.43930184841156006
         ],
         "y": [
          -0.3058573007583618,
          -0.8209763169288635
         ],
         "z": [
          -0.27696824073791504,
          0.289226233959198
         ]
        },
        {
         "line": {
          "color": "#ceff29",
          "width": 1
         },
         "mode": "lines",
         "type": "scatter3d",
         "x": [
          -0.20418572425842285,
          0.24552029371261597
         ],
         "y": [
          -0.3058573007583618,
          -0.7794108986854553
         ],
         "z": [
          -0.27696824073791504,
          0.4803372621536255
         ]
        },
        {
         "line": {
          "color": "#ceff29",
          "width": 1
         },
         "mode": "lines",
         "type": "scatter3d",
         "x": [
          -0.20418572425842285,
          0.5804736614227295
         ],
         "y": [
          -0.3058573007583618,
          -0.7934909462928772
         ],
         "z": [
          -0.27696824073791504,
          0.10581514239311218
         ]
        },
        {
         "line": {
          "color": "#ceff29",
          "width": 1
         },
         "mode": "lines",
         "type": "scatter3d",
         "x": [
          -0.20418572425842285,
          0.4351617693901062
         ],
         "y": [
          -0.3058573007583618,
          -0.7834062278270721
         ],
         "z": [
          -0.27696824073791504,
          0.32567745447158813
         ]
        },
        {
         "line": {
          "color": "#ceff29",
          "width": 1
         },
         "mode": "lines",
         "type": "scatter3d",
         "x": [
          -0.20418572425842285,
          0.233018159866333
         ],
         "y": [
          -0.3058573007583618,
          -0.7365528047084808
         ],
         "z": [
          -0.27696824073791504,
          0.5125595927238464
         ]
        },
        {
         "line": {
          "color": "#ceff29",
          "width": 1
         },
         "mode": "lines",
         "type": "scatter3d",
         "x": [
          -0.20418572425842285,
          0.5836384892463684
         ],
         "y": [
          -0.3058573007583618,
          -0.759644091129303
         ],
         "z": [
          -0.27696824073791504,
          0.13945770263671875
         ]
        },
        {
         "line": {
          "color": "#ceff29",
          "width": 1
         },
         "mode": "lines",
         "type": "scatter3d",
         "x": [
          -0.20418572425842285,
          0.42900145053863525
         ],
         "y": [
          -0.3058573007583618,
          -0.7430258691310883
         ],
         "z": [
          -0.27696824073791504,
          0.3617474436759949
         ]
        },
        {
         "line": {
          "color": "#ceff29",
          "width": 1
         },
         "mode": "lines",
         "type": "scatter3d",
         "x": [
          -0.20418572425842285,
          0.21895387768745422
         ],
         "y": [
          -0.3058573007583618,
          -0.6916570663452148
         ],
         "z": [
          -0.27696824073791504,
          0.5428557991981506
         ]
        },
        {
         "line": {
          "color": "#ceff29",
          "width": 1
         },
         "mode": "lines",
         "type": "scatter3d",
         "x": [
          -0.20418572425842285,
          0.5850213766098022
         ],
         "y": [
          -0.3058573007583618,
          -0.7230462729930878
         ],
         "z": [
          -0.27696824073791504,
          0.1737040877342224
         ]
        },
        {
         "line": {
          "color": "#ceff29",
          "width": 1
         },
         "mode": "lines",
         "type": "scatter3d",
         "x": [
          -0.20418572425842285,
          0.42067044973373413
         ],
         "y": [
          -0.3058573007583618,
          -0.6999829113483429
         ],
         "z": [
          -0.27696824073791504,
          0.3969901204109192
         ]
        },
        {
         "line": {
          "color": "#ceff29",
          "width": 1
         },
         "mode": "lines",
         "type": "scatter3d",
         "x": [
          -0.20418572425842285,
          0.203402578830719
         ],
         "y": [
          -0.3058573007583618,
          -0.6450818777084351
         ],
         "z": [
          -0.27696824073791504,
          0.5708516240119934
         ]
        },
        {
         "line": {
          "color": "#ceff29",
          "width": 1
         },
         "mode": "lines",
         "type": "scatter3d",
         "x": [
          -0.20418572425842285,
          0.5843477249145508
         ],
         "y": [
          -0.3058573007583618,
          -0.6837128400802612
         ],
         "z": [
          -0.27696824073791504,
          0.20825359225273132
         ]
        },
        {
         "line": {
          "color": "#ceff29",
          "width": 1
         },
         "mode": "lines",
         "type": "scatter3d",
         "x": [
          -0.20418572425842285,
          0.4100661873817444
         ],
         "y": [
          -0.3058573007583618,
          -0.6545180678367615
         ],
         "z": [
          -0.27696824073791504,
          0.43093734979629517
         ]
        },
        {
         "line": {
          "color": "#ceff29",
          "width": 1
         },
         "mode": "lines",
         "type": "scatter3d",
         "x": [
          -0.20418572425842285,
          0.18648427724838257
         ],
         "y": [
          -0.3058573007583618,
          -0.597244530916214
         ],
         "z": [
          -0.27696824073791504,
          0.5962273478507996
         ]
        },
        {
         "line": {
          "color": "#ceff29",
          "width": 1
         },
         "mode": "lines",
         "type": "scatter3d",
         "x": [
          -0.20418572425842285,
          0.5813567638397217
         ],
         "y": [
          -0.3058573007583618,
          -0.641734778881073
         ],
         "z": [
          -0.27696824073791504,
          0.24275219440460205
         ]
        },
        {
         "line": {
          "color": "#ceff29",
          "width": 1
         },
         "mode": "lines",
         "type": "scatter3d",
         "x": [
          -0.20418572425842285,
          0.39714670181274414
         ],
         "y": [
          -0.3058573007583618,
          -0.6069654822349548
         ],
         "z": [
          -0.27696824073791504,
          0.46312177181243896
         ]
        },
        {
         "line": {
          "color": "#ceff29",
          "width": 1
         },
         "mode": "lines",
         "type": "scatter3d",
         "x": [
          -0.20418572425842285,
          0.16835972666740417
         ],
         "y": [
          -0.3058573007583618,
          -0.5486032068729401
         ],
         "z": [
          -0.27696824073791504,
          0.6187350749969482
         ]
        },
        {
         "line": {
          "color": "#ceff29",
          "width": 1
         },
         "mode": "lines",
         "type": "scatter3d",
         "x": [
          -0.20418572425842285,
          0.5758187174797058
         ],
         "y": [
          -0.3058573007583618,
          -0.5972891449928284
         ],
         "z": [
          -0.27696824073791504,
          0.2768011689186096
         ]
        },
        {
         "line": {
          "color": "#ceff29",
          "width": 1
         },
         "mode": "lines",
         "type": "scatter3d",
         "x": [
          -0.20418572425842285,
          0.3819398880004883
         ],
         "y": [
          -0.3058573007583618,
          -0.5577447414398193
         ],
         "z": [
          -0.27696824073791504,
          0.4931028485298157
         ]
        },
        {
         "line": {
          "color": "#ceff29",
          "width": 1
         },
         "mode": "lines",
         "type": "scatter3d",
         "x": [
          -0.20418572425842285,
          0.1492227017879486
         ],
         "y": [
          -0.3058573007583618,
          -0.49963535368442535
         ],
         "z": [
          -0.27696824073791504,
          0.6382107734680176
         ]
        },
        {
         "line": {
          "color": "#ceff29",
          "width": 1
         },
         "mode": "lines",
         "type": "scatter3d",
         "x": [
          -0.20418572425842285,
          0.5675534009933472
         ],
         "y": [
          -0.3058573007583618,
          -0.5506450235843658
         ],
         "z": [
          -0.27696824073791504,
          0.30997103452682495
         ]
        },
        {
         "line": {
          "color": "#ceff29",
          "width": 1
         },
         "mode": "lines",
         "type": "scatter3d",
         "x": [
          -0.20418572425842285,
          0.36454761028289795
         ],
         "y": [
          -0.3058573007583618,
          -0.5073448866605759
         ],
         "z": [
          -0.27696824073791504,
          0.5204935073852539
         ]
        },
        {
         "line": {
          "color": "#ceff29",
          "width": 1
         },
         "mode": "lines",
         "type": "scatter3d",
         "x": [
          -0.20418572425842285,
          0.1292901337146759
         ],
         "y": [
          -0.3058573007583618,
          -0.45081472396850586
         ],
         "z": [
          -0.27696824073791504,
          0.6545795202255249
         ]
        },
        {
         "line": {
          "color": "#ceff29",
          "width": 1
         },
         "mode": "lines",
         "type": "scatter3d",
         "x": [
          -0.20418572425842285,
          0.5564480423927307
         ],
         "y": [
          -0.3058573007583618,
          -0.5021622478961945
         ],
         "z": [
          -0.27696824073791504,
          0.34182143211364746
         ]
        },
        {
         "line": {
          "color": "#ceff29",
          "width": 1
         },
         "mode": "lines",
         "type": "scatter3d",
         "x": [
          -0.20418572425842285,
          0.3451436758041382
         ],
         "y": [
          -0.3058573007583618,
          -0.4563009887933731
         ],
         "z": [
          -0.27696824073791504,
          0.5449830889701843
         ]
        },
        {
         "line": {
          "color": "#ceff29",
          "width": 1
         },
         "mode": "lines",
         "type": "scatter3d",
         "x": [
          -0.20418572425842285,
          0.6889467239379883
         ],
         "y": [
          -0.3058573007583618,
          -0.4850429743528366
         ],
         "z": [
          -0.27696824073791504,
          0.1355932056903839
         ]
        },
        {
         "line": {
          "color": "#ceff29",
          "width": 1
         },
         "mode": "lines",
         "type": "scatter3d",
         "x": [
          -0.20418572425842285,
          0.5424720644950867
         ],
         "y": [
          -0.3058573007583618,
          -0.45228248834609985
         ],
         "z": [
          -0.27696824073791504,
          0.37192457914352417
         ]
        },
        {
         "line": {
          "color": "#ceff29",
          "width": 1
         },
         "mode": "lines",
         "type": "scatter3d",
         "x": [
          -0.20418572425842285,
          0.32396525144577026
         ],
         "y": [
          -0.3058573007583618,
          -0.40516625344753265
         ],
         "z": [
          -0.27696824073791504,
          0.5663551092147827
         ]
        },
        {
         "line": {
          "color": "#ceff29",
          "width": 1
         },
         "mode": "lines",
         "type": "scatter3d",
         "x": [
          -0.20418572425842285,
          0.6825143694877625
         ],
         "y": [
          -0.3058573007583618,
          -0.4390978366136551
         ],
         "z": [
          -0.27696824073791504,
          0.16576188802719116
         ]
        },
        {
         "line": {
          "color": "#ceff29",
          "width": 1
         },
         "mode": "lines",
         "type": "scatter3d",
         "x": [
          -0.20418572425842285,
          0.5256860256195068
         ],
         "y": [
          -0.3058573007583618,
          -0.4015117883682251
         ],
         "z": [
          -0.27696824073791504,
          0.39989030361175537
         ]
        },
        {
         "line": {
          "color": "#ceff29",
          "width": 1
         },
         "mode": "lines",
         "type": "scatter3d",
         "x": [
          -0.20418572425842285,
          0.3012990355491638
         ],
         "y": [
          -0.3058573007583618,
          -0.35448257997632027
         ],
         "z": [
          -0.27696824073791504,
          0.5844960808753967
         ]
        },
        {
         "line": {
          "color": "#ceff29",
          "width": 1
         },
         "mode": "lines",
         "type": "scatter3d",
         "x": [
          -0.20418572425842285,
          0.6731464266777039
         ],
         "y": [
          -0.3058573007583618,
          -0.3917722776532173
         ],
         "z": [
          -0.27696824073791504,
          0.19516199827194214
         ]
        },
        {
         "line": {
          "color": "#ceff29",
          "width": 1
         },
         "mode": "lines",
         "type": "scatter3d",
         "x": [
          -0.20418572425842285,
          0.5062435269355774
         ],
         "y": [
          -0.3058573007583618,
          -0.35039613023400307
         ],
         "z": [
          -0.27696824073791504,
          0.4253896474838257
         ]
        },
        {
         "line": {
          "color": "#ceff29",
          "width": 1
         },
         "mode": "lines",
         "type": "scatter3d",
         "x": [
          -0.20418572425842285,
          0.2774633765220642
         ],
         "y": [
          -0.3058573007583618,
          -0.3047533860662952
         ],
         "z": [
          -0.27696824073791504,
          0.599395215511322
         ]
        },
        {
         "line": {
          "color": "#ceff29",
          "width": 1
         },
         "mode": "lines",
         "type": "scatter3d",
         "x": [
          -0.20418572425842285,
          0.6607802510261536
         ],
         "y": [
          -0.3058573007583618,
          -0.3434772975742817
         ],
         "z": [
          -0.27696824073791504,
          0.2234501838684082
         ]
        },
        {
         "line": {
          "color": "#ceff29",
          "width": 1
         },
         "mode": "lines",
         "type": "scatter3d",
         "x": [
          -0.20418572425842285,
          0.48438429832458496
         ],
         "y": [
          -0.3058573007583618,
          -0.2994926176033914
         ],
         "z": [
          -0.27696824073791504,
          0.4481737017631531
         ]
        },
        {
         "line": {
          "color": "#ceff29",
          "width": 1
         },
         "mode": "lines",
         "type": "scatter3d",
         "x": [
          -0.20418572425842285,
          0.2527896761894226
         ],
         "y": [
          -0.3058573007583618,
          -0.25642159953713417
         ],
         "z": [
          -0.27696824073791504,
          0.611136257648468
         ]
        },
        {
         "line": {
          "color": "#ceff29",
          "width": 1
         },
         "mode": "lines",
         "type": "scatter3d",
         "x": [
          -0.20418572425842285,
          0.645439088344574
         ],
         "y": [
          -0.3058573007583618,
          -0.2946707783266902
         ],
         "z": [
          -0.27696824073791504,
          0.2503007650375366
         ]
        },
        {
         "line": {
          "color": "#ceff29",
          "width": 1
         },
         "mode": "lines",
         "type": "scatter3d",
         "x": [
          -0.20418572425842285,
          0.46041983366012573
         ],
         "y": [
          -0.3058573007583618,
          -0.24933957308530807
         ],
         "z": [
          -0.27696824073791504,
          0.4680855870246887
         ]
        },
        {
         "line": {
          "color": "#ceff29",
          "width": 1
         },
         "mode": "lines",
         "type": "scatter3d",
         "x": [
          -0.20418572425842285,
          0.22760441899299622
         ],
         "y": [
          -0.3058573007583618,
          -0.20985467731952667
         ],
         "z": [
          -0.27696824073791504,
          0.6198822259902954
         ]
        },
        {
         "line": {
          "color": "#ceff29",
          "width": 1
         },
         "mode": "lines",
         "type": "scatter3d",
         "x": [
          -0.20418572425842285,
          0.627235472202301
         ],
         "y": [
          -0.3058573007583618,
          -0.24583691358566284
         ],
         "z": [
          -0.27696824073791504,
          0.27542322874069214
         ]
        },
        {
         "line": {
          "color": "#ceff29",
          "width": 1
         },
         "mode": "lines",
         "type": "scatter3d",
         "x": [
          -0.20418572425842285,
          0.43471360206604004
         ],
         "y": [
          -0.3058573007583618,
          -0.20042938739061356
         ],
         "z": [
          -0.27696824073791504,
          0.48506367206573486
         ]
        },
        {
         "line": {
          "color": "#ceff29",
          "width": 1
         },
         "mode": "lines",
         "type": "scatter3d",
         "x": [
          -0.20418572425842285,
          0.20221415162086487
         ],
         "y": [
          -0.3058573007583618,
          -0.16533729434013367
         ],
         "z": [
          -0.27696824073791504,
          0.6258569359779358
         ]
        },
        {
         "line": {
          "color": "#ceff29",
          "width": 1
         },
         "mode": "lines",
         "type": "scatter3d",
         "x": [
          -0.20418572425842285,
          0.6063681840896606
         ],
         "y": [
          -0.3058573007583618,
          -0.19746262580156326
         ],
         "z": [
          -0.27696824073791504,
          0.29857760667800903
         ]
        },
        {
         "line": {
          "color": "#ceff29",
          "width": 1
         },
         "mode": "lines",
         "type": "scatter3d",
         "x": [
          -0.20418572425842285,
          0.4076578617095947
         ],
         "y": [
          -0.3058573007583618,
          -0.15318702161312103
         ],
         "z": [
          -0.27696824073791504,
          0.49913692474365234
         ]
        },
        {
         "line": {
          "color": "#ceff29",
          "width": 1
         },
         "mode": "lines",
         "type": "scatter3d",
         "x": [
          -0.20418572425842285,
          0.17689433693885803
         ],
         "y": [
          -0.3058573007583618,
          -0.12307102978229523
         ],
         "z": [
          -0.27696824073791504,
          0.6293248534202576
         ]
        },
        {
         "line": {
          "color": "#ceff29",
          "width": 1
         },
         "mode": "lines",
         "type": "scatter3d",
         "x": [
          -0.20418572425842285,
          0.5831111073493958
         ],
         "y": [
          -0.3058573007583618,
          -0.15001361072063446
         ],
         "z": [
          -0.27696824073791504,
          0.31958556175231934
         ]
        },
        {
         "line": {
          "color": "#ceff29",
          "width": 1
         },
         "mode": "lines",
         "type": "scatter3d",
         "x": [
          -0.20418572425842285,
          0.3796508312225342
         ],
         "y": [
          -0.3058573007583618,
          -0.10795612633228302
         ],
         "z": [
          -0.27696824073791504,
          0.5104134678840637
         ]
        },
        {
         "line": {
          "color": "#ceff29",
          "width": 1
         },
         "mode": "lines",
         "type": "scatter3d",
         "x": [
          -0.20418572425842285,
          0.7009736895561218
         ],
         "y": [
          -0.3058573007583618,
          -0.1557828038930893
         ],
         "z": [
          -0.27696824073791504,
          0.12073022127151489
         ]
        },
        {
         "line": {
          "color": "#ceff29",
          "width": 1
         },
         "mode": "lines",
         "type": "scatter3d",
         "x": [
          -0.20418572425842285,
          0.5577973127365112
         ],
         "y": [
          -0.3058573007583618,
          -0.10391269624233246
         ],
         "z": [
          -0.27696824073791504,
          0.3383367657661438
         ]
        },
        {
         "line": {
          "color": "#ceff29",
          "width": 1
         },
         "mode": "lines",
         "type": "scatter3d",
         "x": [
          -0.20418572425842285,
          0.3510764241218567
         ],
         "y": [
          -0.3058573007583618,
          -0.06499303877353668
         ],
         "z": [
          -0.27696824073791504,
          0.5190646052360535
         ]
        },
        {
         "line": {
          "color": "#ceff29",
          "width": 1
         },
         "mode": "lines",
         "type": "scatter3d",
         "x": [
          -0.20418572425842285,
          0.6822246313095093
         ],
         "y": [
          -0.3058573007583618,
          -0.11134597659111023
         ],
         "z": [
          -0.27696824073791504,
          0.14308184385299683
         ]
        },
        {
         "line": {
          "color": "#ceff29",
          "width": 1
         },
         "mode": "lines",
         "type": "scatter3d",
         "x": [
          -0.20418572425842285,
          0.5307986736297607
         ],
         "y": [
          -0.3058573007583618,
          -0.05952282249927521
         ],
         "z": [
          -0.27696824073791504,
          0.35478901863098145
         ]
        },
        {
         "line": {
          "color": "#ff6800",
          "width": 1
         },
         "mode": "lines",
         "type": "scatter3d",
         "x": [
          -0.0669904351234436,
          0.31112781167030334
         ],
         "y": [
          -0.29124778509140015,
          -0.7491666674613953
         ],
         "z": [
          -0.39041876792907715,
          0.4141538143157959
         ]
        },
        {
         "line": {
          "color": "#ff6800",
          "width": 1
         },
         "mode": "lines",
         "type": "scatter3d",
         "x": [
          -0.0669904351234436,
          0.6358540058135986
         ],
         "y": [
          -0.29124778509140015,
          -0.8452280759811401
         ],
         "z": [
          -0.39041876792907715,
          0.05580499768257141
         ]
        },
        {
         "line": {
          "color": "#ff6800",
          "width": 1
         },
         "mode": "lines",
         "type": "scatter3d",
         "x": [
          -0.0669904351234436,
          0.48356831073760986
         ],
         "y": [
          -0.29124778509140015,
          -0.790583074092865
         ],
         "z": [
          -0.39041876792907715,
          0.27857261896133423
         ]
        },
        {
         "line": {
          "color": "#ff6800",
          "width": 1
         },
         "mode": "lines",
         "type": "scatter3d",
         "x": [
          -0.0669904351234436,
          0.7423135638237
         ],
         "y": [
          -0.29124778509140015,
          -0.8275321125984192
         ],
         "z": [
          -0.39041876792907715,
          -0.15078100562095642
         ]
        },
        {
         "line": {
          "color": "#ff6800",
          "width": 1
         },
         "mode": "lines",
         "type": "scatter3d",
         "x": [
          -0.0669904351234436,
          0.6408737301826477
         ],
         "y": [
          -0.29124778509140015,
          -0.8073541522026062
         ],
         "z": [
          -0.39041876792907715,
          0.09182879328727722
         ]
        },
        {
         "line": {
          "color": "#ff6800",
          "width": 1
         },
         "mode": "lines",
         "type": "scatter3d",
         "x": [
          -0.0669904351234436,
          0.47994160652160645
         ],
         "y": [
          -0.29124778509140015,
          -0.7469033300876617
         ],
         "z": [
          -0.39041876792907715,
          0.31189417839050293
         ]
        },
        {
         "line": {
          "color": "#ff6800",
          "width": 1
         },
         "mode": "lines",
         "type": "scatter3d",
         "x": [
          -0.0669904351234436,
          0.7537465691566467
         ],
         "y": [
          -0.29124778509140015,
          -0.793856143951416
         ],
         "z": [
          -0.39041876792907715,
          -0.11880192160606384
         ]
        },
        {
         "line": {
          "color": "#ff6800",
          "width": 1
         },
         "mode": "lines",
         "type": "scatter3d",
         "x": [
          -0.0669904351234436,
          0.6440191268920898
         ],
         "y": [
          -0.29124778509140015,
          -0.7665460705757141
         ],
         "z": [
          -0.39041876792907715,
          0.1278061866760254
         ]
        },
        {
         "line": {
          "color": "#ff6800",
          "width": 1
         },
         "mode": "lines",
         "type": "scatter3d",
         "x": [
          -0.0669904351234436,
          0.4745568633079529
         ],
         "y": [
          -0.29124778509140015,
          -0.7010950148105621
         ],
         "z": [
          -0.39041876792907715,
          0.3435784578323364
         ]
        },
        {
         "line": {
          "color": "#ff6800",
          "width": 1
         },
         "mode": "lines",
         "type": "scatter3d",
         "x": [
          -0.0669904351234436,
          0.7637165784835815
         ],
         "y": [
          -0.29124778509140015,
          -0.7573174834251404
         ],
         "z": [
          -0.39041876792907715,
          -0.08594381809234619
         ]
        },
        {
         "line": {
          "color": "#ff6800",
          "width": 1
         },
         "mode": "lines",
         "type": "scatter3d",
         "x": [
          -0.0669904351234436,
          0.6450512409210205
         ],
         "y": [
          -0.29124778509140015,
          -0.7229428291320801
         ],
         "z": [
          -0.39041876792907715,
          0.16332858800888062
         ]
        },
        {
         "line": {
          "color": "#ff6800",
          "width": 1
         },
         "mode": "lines",
         "type": "scatter3d",
         "x": [
          -0.0669904351234436,
          0.46739619970321655
         ],
         "y": [
          -0.29124778509140015,
          -0.6535215973854065
         ],
         "z": [
          -0.39041876792907715,
          0.3732491731643677
         ]
        },
        {
         "line": {
          "color": "#ff6800",
          "width": 1
         },
         "mode": "lines",
         "type": "scatter3d",
         "x": [
          -0.0669904351234436,
          0.7718979120254517
         ],
         "y": [
          -0.29124778509140015,
          -0.7179147005081177
         ],
         "z": [
          -0.39041876792907715,
          -0.052451640367507935
         ]
        },
        {
         "line": {
          "color": "#ff6800",
          "width": 1
         },
         "mode": "lines",
         "type": "scatter3d",
         "x": [
          -0.0669904351234436,
          0.6437681913375854
         ],
         "y": [
          -0.29124778509140015,
          -0.6767794787883759
         ],
         "z": [
          -0.39041876792907715,
          0.19795829057693481
         ]
        },
        {
         "line": {
          "color": "#ff6800",
          "width": 1
         },
         "mode": "lines",
         "type": "scatter3d",
         "x": [
          -0.0669904351234436,
          0.45849233865737915
         ],
         "y": [
          -0.29124778509140015,
          -0.6046082675457001
         ],
         "z": [
          -0.39041876792907715,
          0.40057629346847534
         ]
        },
        {
         "line": {
          "color": "#ff6800",
          "width": 1
         },
         "mode": "lines",
         "type": "scatter3d",
         "x": [
          -0.0669904351234436,
          0.7779638767242432
         ],
         "y": [
          -0.29124778509140015,
          -0.675722748041153
         ],
         "z": [
          -0.39041876792907715,
          -0.018624097108840942
         ]
        },
        {
         "line": {
          "color": "#ff6800",
          "width": 1
         },
         "mode": "lines",
         "type": "scatter3d",
         "x": [
          -0.0669904351234436,
          0.6400216817855835
         ],
         "y": [
          -0.29124778509140015,
          -0.6283882260322571
         ],
         "z": [
          -0.39041876792907715,
          0.2312486171722412
         ]
        },
        {
         "line": {
          "color": "#ff6800",
          "width": 1
         },
         "mode": "lines",
         "type": "scatter3d",
         "x": [
          -0.0669904351234436,
          0.447928249835968
         ],
         "y": [
          -0.29124778509140015,
          -0.5548234283924103
         ],
         "z": [
          -0.39041876792907715,
          0.4252936840057373
         ]
        },
        {
         "line": {
          "color": "#ff6800",
          "width": 1
         },
         "mode": "lines",
         "type": "scatter3d",
         "x": [
          -0.0669904351234436,
          0.7816045880317688
         ],
         "y": [
          -0.29124778509140015,
          -0.6309047043323517
         ],
         "z": [
          -0.39041876792907715,
          0.015191584825515747
         ]
        },
        {
         "line": {
          "color": "#ff6800",
          "width": 1
         },
         "mode": "lines",
         "type": "scatter3d",
         "x": [
          -0.0669904351234436,
          0.6337313652038574
         ],
         "y": [
          -0.29124778509140015,
          -0.5781909227371216
         ],
         "z": [
          -0.39041876792907715,
          0.2627677917480469
         ]
        },
        {
         "line": {
          "color": "#ff6800",
          "width": 1
         },
         "mode": "lines",
         "type": "scatter3d",
         "x": [
          -0.0669904351234436,
          0.4358336925506592
         ],
         "y": [
          -0.29124778509140015,
          -0.5046566426753998
         ],
         "z": [
          -0.39041876792907715,
          0.4472116231918335
         ]
        },
        {
         "line": {
          "color": "#ff6800",
          "width": 1
         },
         "mode": "lines",
         "type": "scatter3d",
         "x": [
          -0.0669904351234436,
          0.7825472354888916
         ],
         "y": [
          -0.29124778509140015,
          -0.5837186872959137
         ],
         "z": [
          -0.39041876792907715,
          0.04861047863960266
         ]
        },
        {
         "line": {
          "color": "#ff6800",
          "width": 1
         },
         "mode": "lines",
         "type": "scatter3d",
         "x": [
          -0.0669904351234436,
          0.6248951554298401
         ],
         "y": [
          -0.29124778509140015,
          -0.5266834050416946
         ],
         "z": [
          -0.39041876792907715,
          0.2921239137649536
         ]
        },
        {
         "line": {
          "color": "#ff6800",
          "width": 1
         },
         "mode": "lines",
         "type": "scatter3d",
         "x": [
          -0.0669904351234436,
          0.4223777949810028
         ],
         "y": [
          -0.29124778509140015,
          -0.4545949548482895
         ],
         "z": [
          -0.39041876792907715,
          0.4662238359451294
         ]
        },
        {
         "line": {
          "color": "#ff6800",
          "width": 1
         },
         "mode": "lines",
         "type": "scatter3d",
         "x": [
          -0.0669904351234436,
          0.7805773615837097
         ],
         "y": [
          -0.29124778509140015,
          -0.5345178842544556
         ],
         "z": [
          -0.39041876792907715,
          0.08122575283050537
         ]
        },
        {
         "line": {
          "color": "#ff6800",
          "width": 1
         },
         "mode": "lines",
         "type": "scatter3d",
         "x": [
          -0.0669904351234436,
          0.6135925650596619
         ],
         "y": [
          -0.29124778509140015,
          -0.47441188991069794
         ],
         "z": [
          -0.39041876792907715,
          0.3189878463745117
         ]
        },
        {
         "line": {
          "color": "#ff6800",
          "width": 1
         },
         "mode": "lines",
         "type": "scatter3d",
         "x": [
          -0.0669904351234436,
          0.873676061630249
         ],
         "y": [
          -0.29124778509140015,
          -0.5266754776239395
         ],
         "z": [
          -0.39041876792907715,
          -0.14604102075099945
         ]
        },
        {
         "line": {
          "color": "#ff6800",
          "width": 1
         },
         "mode": "lines",
         "type": "scatter3d",
         "x": [
          -0.0669904351234436,
          0.7755584716796875
         ],
         "y": [
          -0.29124778509140015,
          -0.4837423712015152
         ],
         "z": [
          -0.39041876792907715,
          0.112629234790802
         ]
        },
        {
         "line": {
          "color": "#ff6800",
          "width": 1
         },
         "mode": "lines",
         "type": "scatter3d",
         "x": [
          -0.0669904351234436,
          0.5999815464019775
         ],
         "y": [
          -0.29124778509140015,
          -0.4219444543123245
         ],
         "z": [
          -0.39041876792907715,
          0.34311163425445557
         ]
        },
        {
         "line": {
          "color": "#ff6800",
          "width": 1
         },
         "mode": "lines",
         "type": "scatter3d",
         "x": [
          -0.0669904351234436,
          0.8758201599121094
         ],
         "y": [
          -0.29124778509140015,
          -0.48031528294086456
         ],
         "z": [
          -0.39041876792907715,
          -0.11589774489402771
         ]
        },
        {
         "line": {
          "color": "#ff6800",
          "width": 1
         },
         "mode": "lines",
         "type": "scatter3d",
         "x": [
          -0.0669904351234436,
          0.7674462199211121
         ],
         "y": [
          -0.29124778509140015,
          -0.43190230429172516
         ],
         "z": [
          -0.39041876792907715,
          0.14243382215499878
         ]
        },
        {
         "line": {
          "color": "#ff6800",
          "width": 1
         },
         "mode": "lines",
         "type": "scatter3d",
         "x": [
          -0.0669904351234436,
          0.5842880010604858
         ],
         "y": [
          -0.29124778509140015,
          -0.3698408156633377
         ],
         "z": [
          -0.39041876792907715,
          0.3643392324447632
         ]
        },
        {
         "line": {
          "color": "#ff6800",
          "width": 1
         },
         "mode": "lines",
         "type": "scatter3d",
         "x": [
          -0.0669904351234436,
          0.8750305771827698
         ],
         "y": [
          -0.29124778509140015,
          -0.43238961696624756
         ],
         "z": [
          -0.39041876792907715,
          -0.0859922468662262
         ]
        },
        {
         "line": {
          "color": "#ff6800",
          "width": 1
         },
         "mode": "lines",
         "type": "scatter3d",
         "x": [
          -0.0669904351234436,
          0.7562961578369141
         ],
         "y": [
          -0.29124778509140015,
          -0.37955350428819656
         ],
         "z": [
          -0.39041876792907715,
          0.170296311378479
         ]
        },
        {
         "line": {
          "color": "#ff6800",
          "width": 1
         },
         "mode": "lines",
         "type": "scatter3d",
         "x": [
          -0.0669904351234436,
          0.5667905211448669
         ],
         "y": [
          -0.29124778509140015,
          -0.31862399727106094
         ],
         "z": [
          -0.39041876792907715,
          0.3826092481613159
         ]
        },
        {
         "line": {
          "color": "#ff6800",
          "width": 1
         },
         "mode": "lines",
         "type": "scatter3d",
         "x": [
          -0.0669904351234436,
          0.8711566925048828
         ],
         "y": [
          -0.29124778509140015,
          -0.383305661380291
         ],
         "z": [
          -0.39041876792907715,
          -0.05664423108100891
         ]
        },
        {
         "line": {
          "color": "#ff6800",
          "width": 1
         },
         "mode": "lines",
         "type": "scatter3d",
         "x": [
          -0.0669904351234436,
          0.7422624826431274
         ],
         "y": [
          -0.29124778509140015,
          -0.32726821303367615
         ],
         "z": [
          -0.39041876792907715,
          0.195936381816864
         ]
        },
        {
         "line": {
          "color": "#ff6800",
          "width": 1
         },
         "mode": "lines",
         "type": "scatter3d",
         "x": [
          -0.0669904351234436,
          0.5478016138076782
         ],
         "y": [
          -0.29124778509140015,
          -0.2687572259455919
         ],
         "z": [
          -0.39041876792907715,
          0.39794981479644775
         ]
        },
        {
         "line": {
          "color": "#ff6800",
          "width": 1
         },
         "mode": "lines",
         "type": "scatter3d",
         "x": [
          -0.0669904351234436,
          0.8641323447227478
         ],
         "y": [
          -0.29124778509140015,
          -0.33352283015847206
         ],
         "z": [
          -0.39041876792907715,
          -0.028171241283416748
         ]
        },
        {
         "line": {
          "color": "#ff6800",
          "width": 1
         },
         "mode": "lines",
         "type": "scatter3d",
         "x": [
          -0.0669904351234436,
          0.7255879044532776
         ],
         "y": [
          -0.29124778509140015,
          -0.27560432255268097
         ],
         "z": [
          -0.39041876792907715,
          0.21915072202682495
         ]
        },
        {
         "line": {
          "color": "#ff6800",
          "width": 1
         },
         "mode": "lines",
         "type": "scatter3d",
         "x": [
          -0.0669904351234436,
          0.5276483297348022
         ],
         "y": [
          -0.29124778509140015,
          -0.22062784433364868
         ],
         "z": [
          -0.39041876792907715,
          0.4104667901992798
         ]
        },
        {
         "line": {
          "color": "#ff6800",
          "width": 1
         },
         "mode": "lines",
         "type": "scatter3d",
         "x": [
          -0.0669904351234436,
          0.8539840579032898
         ],
         "y": [
          -0.29124778509140015,
          -0.28353252774104476
         ],
         "z": [
          -0.39041876792907715,
          -0.000872194766998291
         ]
        },
        {
         "line": {
          "color": "#ff6800",
          "width": 1
         },
         "mode": "lines",
         "type": "scatter3d",
         "x": [
          -0.0669904351234436,
          0.7065864205360413
         ],
         "y": [
          -0.29124778509140015,
          -0.22507694363594055
         ],
         "z": [
          -0.39041876792907715,
          0.23981958627700806
         ]
        },
        {
         "line": {
          "color": "#ff6800",
          "width": 1
         },
         "mode": "lines",
         "type": "scatter3d",
         "x": [
          -0.0669904351234436,
          0.5066545009613037
         ],
         "y": [
          -0.29124778509140015,
          -0.17453909665346146
         ],
         "z": [
          -0.39041876792907715,
          0.42032819986343384
         ]
        },
        {
         "line": {
          "color": "#ff6800",
          "width": 1
         },
         "mode": "lines",
         "type": "scatter3d",
         "x": [
          -0.0669904351234436,
          0.8408317565917969
         ],
         "y": [
          -0.29124778509140015,
          -0.23383428528904915
         ],
         "z": [
          -0.39041876792907715,
          0.024987846612930298
         ]
        },
        {
         "line": {
          "color": "#ff6800",
          "width": 1
         },
         "mode": "lines",
         "type": "scatter3d",
         "x": [
          -0.0669904351234436,
          0.6856213212013245
         ],
         "y": [
          -0.29124778509140015,
          -0.17613549530506134
         ],
         "z": [
          -0.39041876792907715,
          0.2579057812690735
         ]
        },
        {
         "line": {
          "color": "#ff6800",
          "width": 1
         },
         "mode": "lines",
         "type": "scatter3d",
         "x": [
          -0.0669904351234436,
          0.4851263165473938
         ],
         "y": [
          -0.29124778509140015,
          -0.13070917129516602
         ],
         "z": [
          -0.39041876792907715,
          0.4277465343475342
         ]
        },
        {
         "line": {
          "color": "#ff6800",
          "width": 1
         },
         "mode": "lines",
         "type": "scatter3d",
         "x": [
          -0.0669904351234436,
          0.824881911277771
         ],
         "y": [
          -0.29124778509140015,
          -0.18491114675998688
         ],
         "z": [
          -0.39041876792907715,
          0.04919043183326721
         ]
        },
        {
         "line": {
          "color": "#ff6800",
          "width": 1
         },
         "mode": "lines",
         "type": "scatter3d",
         "x": [
          -0.0669904351234436,
          0.6630815267562866
         ],
         "y": [
          -0.29124778509140015,
          -0.12914836406707764
         ],
         "z": [
          -0.39041876792907715,
          0.27344775199890137
         ]
        },
        {
         "line": {
          "color": "#ff6800",
          "width": 1
         },
         "mode": "lines",
         "type": "scatter3d",
         "x": [
          -0.0669904351234436,
          0.9035352468490601
         ],
         "y": [
          -0.29124778509140015,
          -0.19893664121627808
         ],
         "z": [
          -0.39041876792907715,
          -0.16780096292495728
         ]
        },
        {
         "line": {
          "color": "#ff6800",
          "width": 1
         },
         "mode": "lines",
         "type": "scatter3d",
         "x": [
          -0.0669904351234436,
          0.8064142465591431
         ],
         "y": [
          -0.29124778509140015,
          -0.1372070014476776
         ],
         "z": [
          -0.39041876792907715,
          0.07157230377197266
         ]
        },
        {
         "line": {
          "color": "#ff6800",
          "width": 1
         },
         "mode": "lines",
         "type": "scatter3d",
         "x": [
          -0.0669904351234436,
          0.6393587589263916
         ],
         "y": [
          -0.29124778509140015,
          -0.08439573645591736
         ],
         "z": [
          -0.39041876792907715,
          0.28654730319976807
         ]
        },
        {
         "line": {
          "color": "#ff6800",
          "width": 1
         },
         "mode": "lines",
         "type": "scatter3d",
         "x": [
          -0.0669904351234436,
          0.8920642137527466
         ],
         "y": [
          -0.29124778509140015,
          -0.15330743789672852
         ],
         "z": [
          -0.39041876792907715,
          -0.1430593580007553
         ]
        },
        {
         "line": {
          "color": "#ff6800",
          "width": 1
         },
         "mode": "lines",
         "type": "scatter3d",
         "x": [
          -0.0669904351234436,
          0.7857628464698792
         ],
         "y": [
          -0.29124778509140015,
          -0.09110823273658752
         ],
         "z": [
          -0.39041876792907715,
          0.09202924370765686
         ]
        },
        {
         "line": {
          "color": "#800000",
          "width": 1
         },
         "mode": "lines",
         "type": "scatter3d",
         "x": [
          0.09959684312343597,
          0.544770285487175
         ],
         "y": [
          -0.2258831411600113,
          -0.7251361459493637
         ],
         "z": [
          -0.6518280506134033,
          0.09152060747146606
         ]
        },
        {
         "line": {
          "color": "#800000",
          "width": 1
         },
         "mode": "lines",
         "type": "scatter3d",
         "x": [
          0.09959684312343597,
          0.8051490038633347
         ],
         "y": [
          -0.2258831411600113,
          -0.84624083340168
         ],
         "z": [
          -0.6518280506134033,
          -0.3092602491378784
         ]
        },
        {
         "line": {
          "color": "#800000",
          "width": 1
         },
         "mode": "lines",
         "type": "scatter3d",
         "x": [
          0.09959684312343597,
          0.691689595580101
         ],
         "y": [
          -0.2258831411600113,
          -0.7805013805627823
         ],
         "z": [
          -0.6518280506134033,
          -0.06717002391815186
         ]
        },
        {
         "line": {
          "color": "#800000",
          "width": 1
         },
         "mode": "lines",
         "type": "scatter3d",
         "x": [
          0.09959684312343597,
          0.8823458403348923
         ],
         "y": [
          -0.2258831411600113,
          -0.835967555642128
         ],
         "z": [
          -0.6518280506134033,
          -0.5289410725235939
         ]
        },
        {
         "line": {
          "color": "#800000",
          "width": 1
         },
         "mode": "lines",
         "type": "scatter3d",
         "x": [
          0.09959684312343597,
          0.8186731785535812
         ],
         "y": [
          -0.2258831411600113,
          -0.8093818575143814
         ],
         "z": [
          -0.6518280506134033,
          -0.2743910849094391
         ]
        },
        {
         "line": {
          "color": "#800000",
          "width": 1
         },
         "mode": "lines",
         "type": "scatter3d",
         "x": [
          0.09959684312343597,
          0.6968378275632858
         ],
         "y": [
          -0.2258831411600113,
          -0.7370468527078629
         ],
         "z": [
          -0.6518280506134033,
          -0.03375440835952759
         ]
        },
        {
         "line": {
          "color": "#800000",
          "width": 1
         },
         "mode": "lines",
         "type": "scatter3d",
         "x": [
          0.09959684312343597,
          0.9012332409620285
         ],
         "y": [
          -0.2258831411600113,
          -0.8038252741098404
         ],
         "z": [
          -0.6518280506134033,
          -0.4989812523126602
         ]
        },
        {
         "line": {
          "color": "#800000",
          "width": 1
         },
         "mode": "lines",
         "type": "scatter3d",
         "x": [
          0.09959684312343597,
          0.8306113332509995
         ],
         "y": [
          -0.2258831411600113,
          -0.7694305330514908
         ],
         "z": [
          -0.6518280506134033,
          -0.23930633068084717
         ]
        },
        {
         "line": {
          "color": "#800000",
          "width": 1
         },
         "mode": "lines",
         "type": "scatter3d",
         "x": [
          0.09959684312343597,
          0.7002150863409042
         ],
         "y": [
          -0.2258831411600113,
          -0.6912950426340103
         ],
         "z": [
          -0.6518280506134033,
          -0.0017129182815551758
         ]
        },
        {
         "line": {
          "color": "#800000",
          "width": 1
         },
         "mode": "lines",
         "type": "scatter3d",
         "x": [
          0.09959684312343597,
          0.919064924120903
         ],
         "y": [
          -0.2258831411600113,
          -0.7687095552682877
         ],
         "z": [
          -0.6518280506134033,
          -0.467948317527771
         ]
        },
        {
         "line": {
          "color": "#800000",
          "width": 1
         },
         "mode": "lines",
         "type": "scatter3d",
         "x": [
          0.09959684312343597,
          0.8406572788953781
         ],
         "y": [
          -0.2258831411600113,
          -0.726499155163765
         ],
         "z": [
          -0.6518280506134033,
          -0.20437607169151306
         ]
        },
        {
         "line": {
          "color": "#800000",
          "width": 1
         },
         "mode": "lines",
         "type": "scatter3d",
         "x": [
          0.09959684312343597,
          0.7017171233892441
         ],
         "y": [
          -0.2258831411600113,
          -0.6436020582914352
         ],
         "z": [
          -0.6518280506134033,
          0.02858525514602661
         ]
        },
        {
         "line": {
          "color": "#800000",
          "width": 1
         },
         "mode": "lines",
         "type": "scatter3d",
         "x": [
          0.09959684312343597,
          0.9354852885007858
         ],
         "y": [
          -0.2258831411600113,
          -0.7305865436792374
         ],
         "z": [
          -0.6518280506134033,
          -0.4360383152961731
         ]
        },
        {
         "line": {
          "color": "#800000",
          "width": 1
         },
         "mode": "lines",
         "type": "scatter3d",
         "x": [
          0.09959684312343597,
          0.848528191447258
         ],
         "y": [
          -0.2258831411600113,
          -0.6807984858751297
         ],
         "z": [
          -0.6518280506134033,
          -0.17000436782836914
         ]
        },
        {
         "line": {
          "color": "#800000",
          "width": 1
         },
         "mode": "lines",
         "type": "scatter3d",
         "x": [
          0.09959684312343597,
          0.7012903541326523
         ],
         "y": [
          -0.2258831411600113,
          -0.5943906158208847
         ],
         "z": [
          -0.6518280506134033,
          0.05680966377258301
         ]
        },
        {
         "line": {
          "color": "#800000",
          "width": 1
         },
         "mode": "lines",
         "type": "scatter3d",
         "x": [
          0.09959684312343597,
          0.9501229971647263
         ],
         "y": [
          -0.2258831411600113,
          -0.6894979625940323
         ],
         "z": [
          -0.6518280506134033,
          -0.4035002589225769
         ]
        },
        {
         "line": {
          "color": "#800000",
          "width": 1
         },
         "mode": "lines",
         "type": "scatter3d",
         "x": [
          0.09959684312343597,
          0.8539841622114182
         ],
         "y": [
          -0.2258831411600113,
          -0.6326409131288528
         ],
         "z": [
          -0.6518280506134033,
          -0.13661152124404907
         ]
        },
        {
         "line": {
          "color": "#800000",
          "width": 1
         },
         "mode": "lines",
         "type": "scatter3d",
         "x": [
          0.09959684312343597,
          0.6989360302686691
         ],
         "y": [
          -0.2258831411600113,
          -0.5441316813230515
         ],
         "z": [
          -0.6518280506134033,
          0.08268582820892334
         ]
        },
        {
         "line": {
          "color": "#800000",
          "width": 1
         },
         "mode": "lines",
         "type": "scatter3d",
         "x": [
          0.09959684312343597,
          0.9626084417104721
         ],
         "y": [
          -0.2258831411600113,
          -0.6455742567777634
         ],
         "z": [
          -0.6518280506134033,
          -0.3706333041191101
         ]
        },
        {
         "line": {
          "color": "#800000",
          "width": 1
         },
         "mode": "lines",
         "type": "scatter3d",
         "x": [
          0.09959684312343597,
          0.8568462580442429
         ],
         "y": [
          -0.2258831411600113,
          -0.5824345499277115
         ],
         "z": [
          -0.6518280506134033,
          -0.10461276769638062
         ]
        },
        {
         "line": {
          "color": "#800000",
          "width": 1
         },
         "mode": "lines",
         "type": "scatter3d",
         "x": [
          0.09959684312343597,
          0.6947104185819626
         ],
         "y": [
          -0.2258831411600113,
          -0.4933224469423294
         ],
         "z": [
          -0.6518280506134033,
          0.10600847005844116
         ]
        },
        {
         "line": {
          "color": "#800000",
          "width": 1
         },
         "mode": "lines",
         "type": "scatter3d",
         "x": [
          0.09959684312343597,
          0.9725944250822067
         ],
         "y": [
          -0.2258831411600113,
          -0.5990434736013412
         ],
         "z": [
          -0.6518280506134033,
          -0.33777913451194763
         ]
        },
        {
         "line": {
          "color": "#800000",
          "width": 1
         },
         "mode": "lines",
         "type": "scatter3d",
         "x": [
          0.09959684312343597,
          0.8570113629102707
         ],
         "y": [
          -0.2258831411600113,
          -0.5306685119867325
         ],
         "z": [
          -0.6518280506134033,
          -0.07439464330673218
         ]
        },
        {
         "line": {
          "color": "#800000",
          "width": 1
         },
         "mode": "lines",
         "type": "scatter3d",
         "x": [
          0.09959684312343597,
          0.6887205690145493
         ],
         "y": [
          -0.2258831411600113,
          -0.44246208667755127
         ],
         "z": [
          -0.6518280506134033,
          0.12664926052093506
         ]
        },
        {
         "line": {
          "color": "#800000",
          "width": 1
         },
         "mode": "lines",
         "type": "scatter3d",
         "x": [
          0.09959684312343597,
          0.9797796458005905
         ],
         "y": [
          -0.2258831411600113,
          -0.550233319401741
         ],
         "z": [
          -0.6518280506134033,
          -0.3053091764450073
         ]
        },
        {
         "line": {
          "color": "#800000",
          "width": 1
         },
         "mode": "lines",
         "type": "scatter3d",
         "x": [
          0.09959684312343597,
          0.8544612377882004
         ],
         "y": [
          -0.2258831411600113,
          -0.4778902679681778
         ],
         "z": [
          -0.6518280506134033,
          -0.04629325866699219
         ]
        },
        {
         "line": {
          "color": "#800000",
          "width": 1
         },
         "mode": "lines",
         "type": "scatter3d",
         "x": [
          0.09959684312343597,
          1.0399695485830307
         ],
         "y": [
          -0.2258831411600113,
          -0.5483305901288986
         ],
         "z": [
          -0.6518280506134033,
          -0.5435372069478035
         ]
        },
        {
         "line": {
          "color": "#800000",
          "width": 1
         },
         "mode": "lines",
         "type": "scatter3d",
         "x": [
          0.09959684312343597,
          0.983931228518486
         ],
         "y": [
          -0.2258831411600113,
          -0.49956513941287994
         ],
         "z": [
          -0.6518280506134033,
          -0.27360716462135315
         ]
        },
        {
         "line": {
          "color": "#800000",
          "width": 1
         },
         "mode": "lines",
         "type": "scatter3d",
         "x": [
          0.09959684312343597,
          0.8492643684148788
         ],
         "y": [
          -0.2258831411600113,
          -0.42467711865901947
         ],
         "z": [
          -0.6518280506134033,
          -0.020575523376464844
         ]
        },
        {
         "line": {
          "color": "#800000",
          "width": 1
         },
         "mode": "lines",
         "type": "scatter3d",
         "x": [
          0.09959684312343597,
          1.0505990236997604
         ],
         "y": [
          -0.2258831411600113,
          -0.5026945918798447
         ],
         "z": [
          -0.6518280506134033,
          -0.5140948593616486
         ]
        },
        {
         "line": {
          "color": "#800000",
          "width": 1
         },
         "mode": "lines",
         "type": "scatter3d",
         "x": [
          0.09959684312343597,
          0.9849039167165756
         ],
         "y": [
          -0.2258831411600113,
          -0.4475385546684265
         ],
         "z": [
          -0.6518280506134033,
          -0.24304893612861633
         ]
        },
        {
         "line": {
          "color": "#800000",
          "width": 1
         },
         "mode": "lines",
         "type": "scatter3d",
         "x": [
          0.09959684312343597,
          0.8415702432394028
         ],
         "y": [
          -0.2258831411600113,
          -0.37160514295101166
         ],
         "z": [
          -0.6518280506134033,
          0.0025730133056640625
         ]
        },
        {
         "line": {
          "color": "#800000",
          "width": 1
         },
         "mode": "lines",
         "type": "scatter3d",
         "x": [
          0.09959684312343597,
          1.0584460943937302
         ],
         "y": [
          -0.2258831411600113,
          -0.45523105561733246
         ],
         "z": [
          -0.6518280506134033,
          -0.48447276651859283
         ]
        },
        {
         "line": {
          "color": "#800000",
          "width": 1
         },
         "mode": "lines",
         "type": "scatter3d",
         "x": [
          0.09959684312343597,
          0.9826530665159225
         ],
         "y": [
          -0.2258831411600113,
          -0.3947083204984665
         ],
         "z": [
          -0.6518280506134033,
          -0.21398112177848816
         ]
        },
        {
         "line": {
          "color": "#800000",
          "width": 1
         },
         "mode": "lines",
         "type": "scatter3d",
         "x": [
          0.09959684312343597,
          0.8315969556570053
         ],
         "y": [
          -0.2258831411600113,
          -0.31921979039907455
         ],
         "z": [
          -0.6518280506134033,
          0.023052871227264404
         ]
        },
        {
         "line": {
          "color": "#800000",
          "width": 1
         },
         "mode": "lines",
         "type": "scatter3d",
         "x": [
          0.09959684312343597,
          1.0632797330617905
         ],
         "y": [
          -0.2258831411600113,
          -0.4063282161951065
         ],
         "z": [
          -0.6518280506134033,
          -0.4549652189016342
         ]
        },
        {
         "line": {
          "color": "#800000",
          "width": 1
         },
         "mode": "lines",
         "type": "scatter3d",
         "x": [
          0.09959684312343597,
          0.9772384017705917
         ],
         "y": [
          -0.2258831411600113,
          -0.3416551351547241
         ],
         "z": [
          -0.6518280506134033,
          -0.18670201301574707
         ]
        },
        {
         "line": {
          "color": "#800000",
          "width": 1
         },
         "mode": "lines",
         "type": "scatter3d",
         "x": [
          0.09959684312343597,
          0.8196141570806503
         ],
         "y": [
          -0.2258831411600113,
          -0.2680109702050686
         ],
         "z": [
          -0.6518280506134033,
          0.04084819555282593
         ]
        },
        {
         "line": {
          "color": "#800000",
          "width": 1
         },
         "mode": "lines",
         "type": "scatter3d",
         "x": [
          0.09959684312343597,
          1.064947709441185
         ],
         "y": [
          -0.2258831411600113,
          -0.35643407702445984
         ],
         "z": [
          -0.6518280506134033,
          -0.42587612569332123
         ]
        },
        {
         "line": {
          "color": "#800000",
          "width": 1
         },
         "mode": "lines",
         "type": "scatter3d",
         "x": [
          0.09959684312343597,
          0.9688194841146469
         ],
         "y": [
          -0.2258831411600113,
          -0.2889542877674103
         ],
         "z": [
          -0.6518280506134033,
          -0.16144636273384094
         ]
        },
        {
         "line": {
          "color": "#800000",
          "width": 1
         },
         "mode": "lines",
         "type": "scatter3d",
         "x": [
          0.09959684312343597,
          0.8059239238500595
         ],
         "y": [
          -0.2258831411600113,
          -0.21839523687958717
         ],
         "z": [
          -0.6518280506134033,
          0.056018054485321045
         ]
        },
        {
         "line": {
          "color": "#800000",
          "width": 1
         },
         "mode": "lines",
         "type": "scatter3d",
         "x": [
          0.09959684312343597,
          1.0633887499570847
         ],
         "y": [
          -0.2258831411600113,
          -0.3060370236635208
         ],
         "z": [
          -0.6518280506134033,
          -0.3975042700767517
         ]
        },
        {
         "line": {
          "color": "#800000",
          "width": 1
         },
         "mode": "lines",
         "type": "scatter3d",
         "x": [
          0.09959684312343597,
          0.9576415866613388
         ],
         "y": [
          -0.2258831411600113,
          -0.2371458737179637
         ],
         "z": [
          -0.6518280506134033,
          -0.13837653398513794
         ]
        },
        {
         "line": {
          "color": "#800000",
          "width": 1
         },
         "mode": "lines",
         "type": "scatter3d",
         "x": [
          0.09959684312343597,
          0.7908416241407394
         ],
         "y": [
          -0.2258831411600113,
          -0.17070580273866653
         ],
         "z": [
          -0.6518280506134033,
          0.06868302822113037
         ]
        },
        {
         "line": {
          "color": "#800000",
          "width": 1
         },
         "mode": "lines",
         "type": "scatter3d",
         "x": [
          0.09959684312343597,
          1.0586378425359726
         ],
         "y": [
          -0.2258831411600113,
          -0.2556424234062433
         ],
         "z": [
          -0.6518280506134033,
          -0.3701280951499939
         ]
        },
        {
         "line": {
          "color": "#800000",
          "width": 1
         },
         "mode": "lines",
         "type": "scatter3d",
         "x": [
          0.09959684312343597,
          0.944016620516777
         ],
         "y": [
          -0.2258831411600113,
          -0.1867099553346634
         ],
         "z": [
          -0.6518280506134033,
          -0.11758017539978027
         ]
        },
        {
         "line": {
          "color": "#800000",
          "width": 1
         },
         "mode": "lines",
         "type": "scatter3d",
         "x": [
          0.09959684312343597,
          0.7746792286634445
         ],
         "y": [
          -0.2258831411600113,
          -0.12519007176160812
         ],
         "z": [
          -0.6518280506134033,
          0.07901036739349365
         ]
        },
        {
         "line": {
          "color": "#800000",
          "width": 1
         },
         "mode": "lines",
         "type": "scatter3d",
         "x": [
          0.09959684312343597,
          1.050823375582695
         ],
         "y": [
          -0.2258831411600113,
          -0.20574759505689144
         ],
         "z": [
          -0.6518280506134033,
          -0.3439924120903015
         ]
        },
        {
         "line": {
          "color": "#800000",
          "width": 1
         },
         "mode": "lines",
         "type": "scatter3d",
         "x": [
          0.09959684312343597,
          0.9282995313405991
         ],
         "y": [
          -0.2258831411600113,
          -0.13804905861616135
         ],
         "z": [
          -0.6518280506134033,
          -0.09907394647598267
         ]
        },
        {
         "line": {
          "color": "#800000",
          "width": 1
         },
         "mode": "lines",
         "type": "scatter3d",
         "x": [
          0.09959684312343597,
          1.0962381809949875
         ],
         "y": [
          -0.2258831411600113,
          -0.22442627663258463
         ],
         "z": [
          -0.6518280506134033,
          -0.5699501857161522
         ]
        },
        {
         "line": {
          "color": "#800000",
          "width": 1
         },
         "mode": "lines",
         "type": "scatter3d",
         "x": [
          0.09959684312343597,
          1.0401571840047836
         ],
         "y": [
          -0.2258831411600113,
          -0.15681809186935425
         ],
         "z": [
          -0.6518280506134033,
          -0.31929776072502136
         ]
        },
        {
         "line": {
          "color": "#800000",
          "width": 1
         },
         "mode": "lines",
         "type": "scatter3d",
         "x": [
          0.09959684312343597,
          0.910865530371666
         ],
         "y": [
          -0.2258831411600113,
          -0.0914788544178009
         ],
         "z": [
          -0.6518280506134033,
          -0.08281248807907104
         ]
        },
        {
         "line": {
          "color": "#800000",
          "width": 1
         },
         "mode": "lines",
         "type": "scatter3d",
         "x": [
          0.09959684312343597,
          1.0926139801740646
         ],
         "y": [
          -0.2258831411600113,
          -0.17822366207838058
         ],
         "z": [
          -0.6518280506134033,
          -0.5439129248261452
         ]
        },
        {
         "line": {
          "color": "#800000",
          "width": 1
         },
         "mode": "lines",
         "type": "scatter3d",
         "x": [
          0.09959684312343597,
          1.0269185155630112
         ],
         "y": [
          -0.2258831411600113,
          -0.10926783084869385
         ],
         "z": [
          -0.6518280506134033,
          -0.2961941957473755
         ]
        }
       ],
       "layout": {
        "height": 800,
        "paper_bgcolor": "rgba(0,0,0,0)",
        "scene": {
         "aspectmode": "data",
         "bgcolor": "rgba(0,0,0,0)",
         "xaxis": {
          "color": "white",
          "gridcolor": "white",
          "showbackground": false
         },
         "yaxis": {
          "color": "white",
          "gridcolor": "white",
          "showbackground": false
         },
         "zaxis": {
          "color": "white",
          "gridcolor": "white",
          "showbackground": false
         }
        },
        "showlegend": false,
        "template": {
         "data": {
          "bar": [
           {
            "error_x": {
             "color": "#2a3f5f"
            },
            "error_y": {
             "color": "#2a3f5f"
            },
            "marker": {
             "line": {
              "color": "#E5ECF6",
              "width": 0.5
             },
             "pattern": {
              "fillmode": "overlay",
              "size": 10,
              "solidity": 0.2
             }
            },
            "type": "bar"
           }
          ],
          "barpolar": [
           {
            "marker": {
             "line": {
              "color": "#E5ECF6",
              "width": 0.5
             },
             "pattern": {
              "fillmode": "overlay",
              "size": 10,
              "solidity": 0.2
             }
            },
            "type": "barpolar"
           }
          ],
          "carpet": [
           {
            "aaxis": {
             "endlinecolor": "#2a3f5f",
             "gridcolor": "white",
             "linecolor": "white",
             "minorgridcolor": "white",
             "startlinecolor": "#2a3f5f"
            },
            "baxis": {
             "endlinecolor": "#2a3f5f",
             "gridcolor": "white",
             "linecolor": "white",
             "minorgridcolor": "white",
             "startlinecolor": "#2a3f5f"
            },
            "type": "carpet"
           }
          ],
          "choropleth": [
           {
            "colorbar": {
             "outlinewidth": 0,
             "ticks": ""
            },
            "type": "choropleth"
           }
          ],
          "contour": [
           {
            "colorbar": {
             "outlinewidth": 0,
             "ticks": ""
            },
            "colorscale": [
             [
              0,
              "#0d0887"
             ],
             [
              0.1111111111111111,
              "#46039f"
             ],
             [
              0.2222222222222222,
              "#7201a8"
             ],
             [
              0.3333333333333333,
              "#9c179e"
             ],
             [
              0.4444444444444444,
              "#bd3786"
             ],
             [
              0.5555555555555556,
              "#d8576b"
             ],
             [
              0.6666666666666666,
              "#ed7953"
             ],
             [
              0.7777777777777778,
              "#fb9f3a"
             ],
             [
              0.8888888888888888,
              "#fdca26"
             ],
             [
              1,
              "#f0f921"
             ]
            ],
            "type": "contour"
           }
          ],
          "contourcarpet": [
           {
            "colorbar": {
             "outlinewidth": 0,
             "ticks": ""
            },
            "type": "contourcarpet"
           }
          ],
          "heatmap": [
           {
            "colorbar": {
             "outlinewidth": 0,
             "ticks": ""
            },
            "colorscale": [
             [
              0,
              "#0d0887"
             ],
             [
              0.1111111111111111,
              "#46039f"
             ],
             [
              0.2222222222222222,
              "#7201a8"
             ],
             [
              0.3333333333333333,
              "#9c179e"
             ],
             [
              0.4444444444444444,
              "#bd3786"
             ],
             [
              0.5555555555555556,
              "#d8576b"
             ],
             [
              0.6666666666666666,
              "#ed7953"
             ],
             [
              0.7777777777777778,
              "#fb9f3a"
             ],
             [
              0.8888888888888888,
              "#fdca26"
             ],
             [
              1,
              "#f0f921"
             ]
            ],
            "type": "heatmap"
           }
          ],
          "heatmapgl": [
           {
            "colorbar": {
             "outlinewidth": 0,
             "ticks": ""
            },
            "colorscale": [
             [
              0,
              "#0d0887"
             ],
             [
              0.1111111111111111,
              "#46039f"
             ],
             [
              0.2222222222222222,
              "#7201a8"
             ],
             [
              0.3333333333333333,
              "#9c179e"
             ],
             [
              0.4444444444444444,
              "#bd3786"
             ],
             [
              0.5555555555555556,
              "#d8576b"
             ],
             [
              0.6666666666666666,
              "#ed7953"
             ],
             [
              0.7777777777777778,
              "#fb9f3a"
             ],
             [
              0.8888888888888888,
              "#fdca26"
             ],
             [
              1,
              "#f0f921"
             ]
            ],
            "type": "heatmapgl"
           }
          ],
          "histogram": [
           {
            "marker": {
             "pattern": {
              "fillmode": "overlay",
              "size": 10,
              "solidity": 0.2
             }
            },
            "type": "histogram"
           }
          ],
          "histogram2d": [
           {
            "colorbar": {
             "outlinewidth": 0,
             "ticks": ""
            },
            "colorscale": [
             [
              0,
              "#0d0887"
             ],
             [
              0.1111111111111111,
              "#46039f"
             ],
             [
              0.2222222222222222,
              "#7201a8"
             ],
             [
              0.3333333333333333,
              "#9c179e"
             ],
             [
              0.4444444444444444,
              "#bd3786"
             ],
             [
              0.5555555555555556,
              "#d8576b"
             ],
             [
              0.6666666666666666,
              "#ed7953"
             ],
             [
              0.7777777777777778,
              "#fb9f3a"
             ],
             [
              0.8888888888888888,
              "#fdca26"
             ],
             [
              1,
              "#f0f921"
             ]
            ],
            "type": "histogram2d"
           }
          ],
          "histogram2dcontour": [
           {
            "colorbar": {
             "outlinewidth": 0,
             "ticks": ""
            },
            "colorscale": [
             [
              0,
              "#0d0887"
             ],
             [
              0.1111111111111111,
              "#46039f"
             ],
             [
              0.2222222222222222,
              "#7201a8"
             ],
             [
              0.3333333333333333,
              "#9c179e"
             ],
             [
              0.4444444444444444,
              "#bd3786"
             ],
             [
              0.5555555555555556,
              "#d8576b"
             ],
             [
              0.6666666666666666,
              "#ed7953"
             ],
             [
              0.7777777777777778,
              "#fb9f3a"
             ],
             [
              0.8888888888888888,
              "#fdca26"
             ],
             [
              1,
              "#f0f921"
             ]
            ],
            "type": "histogram2dcontour"
           }
          ],
          "mesh3d": [
           {
            "colorbar": {
             "outlinewidth": 0,
             "ticks": ""
            },
            "type": "mesh3d"
           }
          ],
          "parcoords": [
           {
            "line": {
             "colorbar": {
              "outlinewidth": 0,
              "ticks": ""
             }
            },
            "type": "parcoords"
           }
          ],
          "pie": [
           {
            "automargin": true,
            "type": "pie"
           }
          ],
          "scatter": [
           {
            "fillpattern": {
             "fillmode": "overlay",
             "size": 10,
             "solidity": 0.2
            },
            "type": "scatter"
           }
          ],
          "scatter3d": [
           {
            "line": {
             "colorbar": {
              "outlinewidth": 0,
              "ticks": ""
             }
            },
            "marker": {
             "colorbar": {
              "outlinewidth": 0,
              "ticks": ""
             }
            },
            "type": "scatter3d"
           }
          ],
          "scattercarpet": [
           {
            "marker": {
             "colorbar": {
              "outlinewidth": 0,
              "ticks": ""
             }
            },
            "type": "scattercarpet"
           }
          ],
          "scattergeo": [
           {
            "marker": {
             "colorbar": {
              "outlinewidth": 0,
              "ticks": ""
             }
            },
            "type": "scattergeo"
           }
          ],
          "scattergl": [
           {
            "marker": {
             "colorbar": {
              "outlinewidth": 0,
              "ticks": ""
             }
            },
            "type": "scattergl"
           }
          ],
          "scattermapbox": [
           {
            "marker": {
             "colorbar": {
              "outlinewidth": 0,
              "ticks": ""
             }
            },
            "type": "scattermapbox"
           }
          ],
          "scatterpolar": [
           {
            "marker": {
             "colorbar": {
              "outlinewidth": 0,
              "ticks": ""
             }
            },
            "type": "scatterpolar"
           }
          ],
          "scatterpolargl": [
           {
            "marker": {
             "colorbar": {
              "outlinewidth": 0,
              "ticks": ""
             }
            },
            "type": "scatterpolargl"
           }
          ],
          "scatterternary": [
           {
            "marker": {
             "colorbar": {
              "outlinewidth": 0,
              "ticks": ""
             }
            },
            "type": "scatterternary"
           }
          ],
          "surface": [
           {
            "colorbar": {
             "outlinewidth": 0,
             "ticks": ""
            },
            "colorscale": [
             [
              0,
              "#0d0887"
             ],
             [
              0.1111111111111111,
              "#46039f"
             ],
             [
              0.2222222222222222,
              "#7201a8"
             ],
             [
              0.3333333333333333,
              "#9c179e"
             ],
             [
              0.4444444444444444,
              "#bd3786"
             ],
             [
              0.5555555555555556,
              "#d8576b"
             ],
             [
              0.6666666666666666,
              "#ed7953"
             ],
             [
              0.7777777777777778,
              "#fb9f3a"
             ],
             [
              0.8888888888888888,
              "#fdca26"
             ],
             [
              1,
              "#f0f921"
             ]
            ],
            "type": "surface"
           }
          ],
          "table": [
           {
            "cells": {
             "fill": {
              "color": "#EBF0F8"
             },
             "line": {
              "color": "white"
             }
            },
            "header": {
             "fill": {
              "color": "#C8D4E3"
             },
             "line": {
              "color": "white"
             }
            },
            "type": "table"
           }
          ]
         },
         "layout": {
          "annotationdefaults": {
           "arrowcolor": "#2a3f5f",
           "arrowhead": 0,
           "arrowwidth": 1
          },
          "autotypenumbers": "strict",
          "coloraxis": {
           "colorbar": {
            "outlinewidth": 0,
            "ticks": ""
           }
          },
          "colorscale": {
           "diverging": [
            [
             0,
             "#8e0152"
            ],
            [
             0.1,
             "#c51b7d"
            ],
            [
             0.2,
             "#de77ae"
            ],
            [
             0.3,
             "#f1b6da"
            ],
            [
             0.4,
             "#fde0ef"
            ],
            [
             0.5,
             "#f7f7f7"
            ],
            [
             0.6,
             "#e6f5d0"
            ],
            [
             0.7,
             "#b8e186"
            ],
            [
             0.8,
             "#7fbc41"
            ],
            [
             0.9,
             "#4d9221"
            ],
            [
             1,
             "#276419"
            ]
           ],
           "sequential": [
            [
             0,
             "#0d0887"
            ],
            [
             0.1111111111111111,
             "#46039f"
            ],
            [
             0.2222222222222222,
             "#7201a8"
            ],
            [
             0.3333333333333333,
             "#9c179e"
            ],
            [
             0.4444444444444444,
             "#bd3786"
            ],
            [
             0.5555555555555556,
             "#d8576b"
            ],
            [
             0.6666666666666666,
             "#ed7953"
            ],
            [
             0.7777777777777778,
             "#fb9f3a"
            ],
            [
             0.8888888888888888,
             "#fdca26"
            ],
            [
             1,
             "#f0f921"
            ]
           ],
           "sequentialminus": [
            [
             0,
             "#0d0887"
            ],
            [
             0.1111111111111111,
             "#46039f"
            ],
            [
             0.2222222222222222,
             "#7201a8"
            ],
            [
             0.3333333333333333,
             "#9c179e"
            ],
            [
             0.4444444444444444,
             "#bd3786"
            ],
            [
             0.5555555555555556,
             "#d8576b"
            ],
            [
             0.6666666666666666,
             "#ed7953"
            ],
            [
             0.7777777777777778,
             "#fb9f3a"
            ],
            [
             0.8888888888888888,
             "#fdca26"
            ],
            [
             1,
             "#f0f921"
            ]
           ]
          },
          "colorway": [
           "#636efa",
           "#EF553B",
           "#00cc96",
           "#ab63fa",
           "#FFA15A",
           "#19d3f3",
           "#FF6692",
           "#B6E880",
           "#FF97FF",
           "#FECB52"
          ],
          "font": {
           "color": "#2a3f5f"
          },
          "geo": {
           "bgcolor": "white",
           "lakecolor": "white",
           "landcolor": "#E5ECF6",
           "showlakes": true,
           "showland": true,
           "subunitcolor": "white"
          },
          "hoverlabel": {
           "align": "left"
          },
          "hovermode": "closest",
          "mapbox": {
           "style": "light"
          },
          "paper_bgcolor": "white",
          "plot_bgcolor": "#E5ECF6",
          "polar": {
           "angularaxis": {
            "gridcolor": "white",
            "linecolor": "white",
            "ticks": ""
           },
           "bgcolor": "#E5ECF6",
           "radialaxis": {
            "gridcolor": "white",
            "linecolor": "white",
            "ticks": ""
           }
          },
          "scene": {
           "xaxis": {
            "backgroundcolor": "#E5ECF6",
            "gridcolor": "white",
            "gridwidth": 2,
            "linecolor": "white",
            "showbackground": true,
            "ticks": "",
            "zerolinecolor": "white"
           },
           "yaxis": {
            "backgroundcolor": "#E5ECF6",
            "gridcolor": "white",
            "gridwidth": 2,
            "linecolor": "white",
            "showbackground": true,
            "ticks": "",
            "zerolinecolor": "white"
           },
           "zaxis": {
            "backgroundcolor": "#E5ECF6",
            "gridcolor": "white",
            "gridwidth": 2,
            "linecolor": "white",
            "showbackground": true,
            "ticks": "",
            "zerolinecolor": "white"
           }
          },
          "shapedefaults": {
           "line": {
            "color": "#2a3f5f"
           }
          },
          "ternary": {
           "aaxis": {
            "gridcolor": "white",
            "linecolor": "white",
            "ticks": ""
           },
           "baxis": {
            "gridcolor": "white",
            "linecolor": "white",
            "ticks": ""
           },
           "bgcolor": "#E5ECF6",
           "caxis": {
            "gridcolor": "white",
            "linecolor": "white",
            "ticks": ""
           }
          },
          "title": {
           "x": 0.05
          },
          "xaxis": {
           "automargin": true,
           "gridcolor": "white",
           "linecolor": "white",
           "ticks": "",
           "title": {
            "standoff": 15
           },
           "zerolinecolor": "white",
           "zerolinewidth": 2
          },
          "yaxis": {
           "automargin": true,
           "gridcolor": "white",
           "linecolor": "white",
           "ticks": "",
           "title": {
            "standoff": 15
           },
           "zerolinecolor": "white",
           "zerolinewidth": 2
          }
         }
        },
        "width": 800
       }
      },
      "text/html": [
       "<div>                            <div id=\"08a8e37d-6d91-4c8f-a724-28af37b1c0a8\" class=\"plotly-graph-div\" style=\"height:800px; width:800px;\"></div>            <script type=\"text/javascript\">                require([\"plotly\"], function(Plotly) {                    window.PLOTLYENV=window.PLOTLYENV || {};                                    if (document.getElementById(\"08a8e37d-6d91-4c8f-a724-28af37b1c0a8\")) {                    Plotly.newPlot(                        \"08a8e37d-6d91-4c8f-a724-28af37b1c0a8\",                        [{\"line\":{\"color\":\"#000080\",\"width\":1},\"mode\":\"lines\",\"x\":[0.0,-0.36826393008232117],\"y\":[0.0,-0.36826393008232117],\"z\":[0.0,0.8536763787269592],\"type\":\"scatter3d\"},{\"line\":{\"color\":\"#000080\",\"width\":1},\"mode\":\"lines\",\"x\":[0.0,0.12058471888303757],\"y\":[0.0,-0.38159722089767456],\"z\":[0.0,0.9164294004440308],\"type\":\"scatter3d\"},{\"line\":{\"color\":\"#000080\",\"width\":1},\"mode\":\"lines\",\"x\":[0.0,-0.15433436632156372],\"y\":[0.0,-0.3667351305484772],\"z\":[0.0,0.917434573173523],\"type\":\"scatter3d\"},{\"line\":{\"color\":\"#000080\",\"width\":1},\"mode\":\"lines\",\"x\":[0.0,0.3457004725933075],\"y\":[0.0,-0.33694854378700256],\"z\":[0.0,0.8757607340812683],\"type\":\"scatter3d\"},{\"line\":{\"color\":\"#000080\",\"width\":1},\"mode\":\"lines\",\"x\":[0.0,0.08874255418777466],\"y\":[0.0,-0.34407201409339905],\"z\":[0.0,0.9347401857376099],\"type\":\"scatter3d\"},{\"line\":{\"color\":\"#000080\",\"width\":1},\"mode\":\"lines\",\"x\":[0.0,-0.1897662878036499],\"y\":[0.0,-0.32553401589393616],\"z\":[0.0,0.9262917041778564],\"type\":\"scatter3d\"},{\"line\":{\"color\":\"#000080\",\"width\":1},\"mode\":\"lines\",\"x\":[0.0,0.3213978707790375],\"y\":[0.0,-0.30196452140808105],\"z\":[0.0,0.8975081443786621],\"type\":\"scatter3d\"},{\"line\":{\"color\":\"#000080\",\"width\":1},\"mode\":\"lines\",\"x\":[0.0,0.055439893156290054],\"y\":[0.0,-0.30412742495536804],\"z\":[0.0,0.9510167837142944],\"type\":\"scatter3d\"},{\"line\":{\"color\":\"#000080\",\"width\":1},\"mode\":\"lines\",\"x\":[0.0,-0.22518736124038696],\"y\":[0.0,-0.2826489806175232],\"z\":[0.0,0.9324163198471069],\"type\":\"scatter3d\"},{\"line\":{\"color\":\"#000080\",\"width\":1},\"mode\":\"lines\",\"x\":[0.0,0.2951309084892273],\"y\":[0.0,-0.2645473778247833],\"z\":[0.0,0.9181026220321655],\"type\":\"scatter3d\"},{\"line\":{\"color\":\"#000080\",\"width\":1},\"mode\":\"lines\",\"x\":[0.0,0.02089160680770874],\"y\":[0.0,-0.2619486153125763],\"z\":[0.0,0.9648556709289551],\"type\":\"scatter3d\"},{\"line\":{\"color\":\"#000080\",\"width\":1},\"mode\":\"lines\",\"x\":[0.0,-0.2602500319480896],\"y\":[0.0,-0.23843267560005188],\"z\":[0.0,0.9356387257575989],\"type\":\"scatter3d\"},{\"line\":{\"color\":\"#000080\",\"width\":1},\"mode\":\"lines\",\"x\":[0.0,0.2669120728969574],\"y\":[0.0,-0.2247680425643921],\"z\":[0.0,0.9371431469917297],\"type\":\"scatter3d\"},{\"line\":{\"color\":\"#000080\",\"width\":1},\"mode\":\"lines\",\"x\":[0.0,-0.014628716744482517],\"y\":[0.0,-0.21780534088611603],\"z\":[0.0,0.9758825898170471],\"type\":\"scatter3d\"},{\"line\":{\"color\":\"#000080\",\"width\":1},\"mode\":\"lines\",\"x\":[0.0,-0.29460638761520386],\"y\":[0.0,-0.19328673183918],\"z\":[0.0,0.9358671307563782],\"type\":\"scatter3d\"},{\"line\":{\"color\":\"#000080\",\"width\":1},\"mode\":\"lines\",\"x\":[0.0,0.23680800199508667],\"y\":[0.0,-0.18277126550674438],\"z\":[0.0,0.9542099237442017],\"type\":\"scatter3d\"},{\"line\":{\"color\":\"#000080\",\"width\":1},\"mode\":\"lines\",\"x\":[0.0,-0.050795458257198334],\"y\":[0.0,-0.1720491349697113],\"z\":[0.0,0.9837778806686401],\"type\":\"scatter3d\"},{\"line\":{\"color\":\"#000080\",\"width\":1},\"mode\":\"lines\",\"x\":[0.0,-0.3279249966144562],\"y\":[0.0,-0.14764395356178284],\"z\":[0.0,0.9330950975418091],\"type\":\"scatter3d\"},{\"line\":{\"color\":\"#000080\",\"width\":1},\"mode\":\"lines\",\"x\":[0.0,0.20494702458381653],\"y\":[0.0,-0.1387830227613449],\"z\":[0.0,0.9688838720321655],\"type\":\"scatter3d\"},{\"line\":{\"color\":\"#000080\",\"width\":1},\"mode\":\"lines\",\"x\":[0.0,-0.08724308758974075],\"y\":[0.0,-0.12510329484939575],\"z\":[0.0,0.9883004426956177],\"type\":\"scatter3d\"},{\"line\":{\"color\":\"#000080\",\"width\":1},\"mode\":\"lines\",\"x\":[0.0,-0.35990670323371887],\"y\":[0.0,-0.10194782167673111],\"z\":[0.0,0.9274016618728638],\"type\":\"scatter3d\"},{\"line\":{\"color\":\"#000080\",\"width\":1},\"mode\":\"lines\",\"x\":[0.0,0.1715231090784073],\"y\":[0.0,-0.09311254322528839],\"z\":[0.0,0.9807700514793396],\"type\":\"scatter3d\"},{\"line\":{\"color\":\"#000080\",\"width\":1},\"mode\":\"lines\",\"x\":[0.0,-0.12358300387859344],\"y\":[0.0,-0.07744535058736801],\"z\":[0.0,0.9893075823783875],\"type\":\"scatter3d\"},{\"line\":{\"color\":\"#000080\",\"width\":1},\"mode\":\"lines\",\"x\":[0.0,-0.39029771089553833],\"y\":[0.0,-0.056631434708833694],\"z\":[0.0,0.9189453721046448],\"type\":\"scatter3d\"},{\"line\":{\"color\":\"#000080\",\"width\":1},\"mode\":\"lines\",\"x\":[0.0,0.13679508864879608],\"y\":[0.0,-0.04614774137735367],\"z\":[0.0,0.9895238876342773],\"type\":\"scatter3d\"},{\"line\":{\"color\":\"#000080\",\"width\":1},\"mode\":\"lines\",\"x\":[0.0,-0.15942354500293732],\"y\":[0.0,-0.029583750292658806],\"z\":[0.0,0.9867669343948364],\"type\":\"scatter3d\"},{\"line\":{\"color\":\"#000080\",\"width\":1},\"mode\":\"lines\",\"x\":[0.0,0.3724786937236786],\"y\":[0.0,-0.013909992761909962],\"z\":[0.0,0.9279364943504333],\"type\":\"scatter3d\"},{\"line\":{\"color\":\"#000080\",\"width\":1},\"mode\":\"lines\",\"x\":[0.0,0.101080022752285],\"y\":[0.0,0.0016570496372878551],\"z\":[0.0,0.9948769211769104],\"type\":\"scatter3d\"},{\"line\":{\"color\":\"#000080\",\"width\":1},\"mode\":\"lines\",\"x\":[0.0,-0.19439078867435455],\"y\":[0.0,0.01796889677643776],\"z\":[0.0,0.9807595610618591],\"type\":\"scatter3d\"},{\"line\":{\"color\":\"#000080\",\"width\":1},\"mode\":\"lines\",\"x\":[0.0,0.3425096571445465],\"y\":[0.0,0.03127942234277725],\"z\":[0.0,0.9389934539794922],\"type\":\"scatter3d\"},{\"line\":{\"color\":\"#000080\",\"width\":1},\"mode\":\"lines\",\"x\":[0.0,0.06474067270755768],\"y\":[0.0,0.04980051890015602],\"z\":[0.0,0.9966586828231812],\"type\":\"scatter3d\"},{\"line\":{\"color\":\"#000080\",\"width\":1},\"mode\":\"lines\",\"x\":[0.0,-0.22814762592315674],\"y\":[0.0,0.06472273170948029],\"z\":[0.0,0.9714729189872742],\"type\":\"scatter3d\"},{\"line\":{\"color\":\"#000080\",\"width\":1},\"mode\":\"lines\",\"x\":[0.0,0.3108327388763428],\"y\":[0.0,0.07731372863054276],\"z\":[0.0,0.9473149180412292],\"type\":\"scatter3d\"},{\"line\":{\"color\":\"#000080\",\"width\":1},\"mode\":\"lines\",\"x\":[0.0,0.02816798724234104],\"y\":[0.0,0.09775948524475098],\"z\":[0.0,0.9948113560676575],\"type\":\"scatter3d\"},{\"line\":{\"color\":\"#000080\",\"width\":1},\"mode\":\"lines\",\"x\":[0.0,-0.26040902733802795],\"y\":[0.0,0.11023449897766113],\"z\":[0.0,0.9591848254203796],\"type\":\"scatter3d\"},{\"line\":{\"color\":\"#000080\",\"width\":1},\"mode\":\"lines\",\"x\":[0.0,0.2776806056499481],\"y\":[0.0,0.1237662136554718],\"z\":[0.0,0.9526675343513489],\"type\":\"scatter3d\"},{\"line\":{\"color\":\"#000080\",\"width\":1},\"mode\":\"lines\",\"x\":[0.0,-0.008239594288170338],\"y\":[0.0,0.1450168490409851],\"z\":[0.0,0.9893949031829834],\"type\":\"scatter3d\"},{\"line\":{\"color\":\"#000080\",\"width\":1},\"mode\":\"lines\",\"x\":[0.0,-0.29095178842544556],\"y\":[0.0,0.15412580966949463],\"z\":[0.0,0.9442416429519653],\"type\":\"scatter3d\"},{\"line\":{\"color\":\"#000080\",\"width\":1},\"mode\":\"lines\",\"x\":[0.0,0.2433398813009262],\"y\":[0.0,0.1701788753271103],\"z\":[0.0,0.9548951983451843],\"type\":\"scatter3d\"},{\"line\":{\"color\":\"#000080\",\"width\":1},\"mode\":\"lines\",\"x\":[0.0,-0.04409747198224068],\"y\":[0.0,0.19108903408050537],\"z\":[0.0,0.9805816411972046],\"type\":\"scatter3d\"},{\"line\":{\"color\":\"#000080\",\"width\":1},\"mode\":\"lines\",\"x\":[0.0,-0.31961849331855774],\"y\":[0.0,0.19609443843364716],\"z\":[0.0,0.9270334243774414],\"type\":\"scatter3d\"},{\"line\":{\"color\":\"#000080\",\"width\":1},\"mode\":\"lines\",\"x\":[0.0,0.2081395983695984],\"y\":[0.0,0.21608386933803558],\"z\":[0.0,0.9539316892623901],\"type\":\"scatter3d\"},{\"line\":{\"color\":\"#000080\",\"width\":1},\"mode\":\"lines\",\"x\":[0.0,-0.07905428856611252],\"y\":[0.0,0.23554950952529907],\"z\":[0.0,0.9686417579650879],\"type\":\"scatter3d\"},{\"line\":{\"color\":\"#000080\",\"width\":1},\"mode\":\"lines\",\"x\":[0.0,-0.34631606936454773],\"y\":[0.0,0.23591837286949158],\"z\":[0.0,0.9079689979553223],\"type\":\"scatter3d\"},{\"line\":{\"color\":\"#000080\",\"width\":1},\"mode\":\"lines\",\"x\":[0.0,0.17243580520153046],\"y\":[0.0,0.26102668046951294],\"z\":[0.0,0.949805736541748],\"type\":\"scatter3d\"},{\"line\":{\"color\":\"#000080\",\"width\":1},\"mode\":\"lines\",\"x\":[0.0,-0.11280720680952072],\"y\":[0.0,0.2780459225177765],\"z\":[0.0,0.953920841217041],\"type\":\"scatter3d\"},{\"line\":{\"color\":\"#000080\",\"width\":1},\"mode\":\"lines\",\"x\":[0.0,-0.37101009488105774],\"y\":[0.0,0.27345365285873413],\"z\":[0.0,0.8874540328979492],\"type\":\"scatter3d\"},{\"line\":{\"color\":\"#000080\",\"width\":1},\"mode\":\"lines\",\"x\":[0.0,0.13659372925758362],\"y\":[0.0,0.30458831787109375],\"z\":[0.0,0.9426389336585999],\"type\":\"scatter3d\"},{\"line\":{\"color\":\"#000080\",\"width\":1},\"mode\":\"lines\",\"x\":[0.0,-0.1451117992401123],\"y\":[0.0,0.3183097541332245],\"z\":[0.0,0.936814546585083],\"type\":\"scatter3d\"},{\"line\":{\"color\":\"#000080\",\"width\":1},\"mode\":\"lines\",\"x\":[0.0,0.3589525520801544],\"y\":[0.0,0.31206896901130676],\"z\":[0.0,0.8796396851539612],\"type\":\"scatter3d\"},{\"line\":{\"color\":\"#000080\",\"width\":1},\"mode\":\"lines\",\"x\":[0.0,0.10096980631351471],\"y\":[0.0,0.346404105424881],\"z\":[0.0,0.9326356649398804],\"type\":\"scatter3d\"},{\"line\":{\"color\":\"#000080\",\"width\":1},\"mode\":\"lines\",\"x\":[0.0,-0.17578615248203278],\"y\":[0.0,0.356158047914505],\"z\":[0.0,0.917742133140564],\"type\":\"scatter3d\"},{\"line\":{\"color\":\"#000080\",\"width\":1},\"mode\":\"lines\",\"x\":[0.0,0.3257082402706146],\"y\":[0.0,0.3534591794013977],\"z\":[0.0,0.876915454864502],\"type\":\"scatter3d\"},{\"line\":{\"color\":\"#000080\",\"width\":1},\"mode\":\"lines\",\"x\":[0.0,0.06589531153440475],\"y\":[0.0,0.3861771523952484],\"z\":[0.0,0.9200679063796997],\"type\":\"scatter3d\"},{\"line\":{\"color\":\"#004cff\",\"width\":1},\"mode\":\"lines\",\"x\":[0.17524218559265137,-0.11239588260650635],\"y\":[-0.01157940924167633,-0.3677160292863846],\"z\":[0.17279958724975586,1.061861515045166],\"type\":\"scatter3d\"},{\"line\":{\"color\":\"#004cff\",\"width\":1},\"mode\":\"lines\",\"x\":[0.17524218559265137,0.37771306931972504],\"y\":[-0.01157940924167633,-0.42139868438243866],\"z\":[0.17279958724975586,1.0622116327285767],\"type\":\"scatter3d\"},{\"line\":{\"color\":\"#004cff\",\"width\":1},\"mode\":\"lines\",\"x\":[0.17524218559265137,0.10722390562295914],\"y\":[-0.01157940924167633,-0.38465841114521027],\"z\":[0.17279958724975586,1.0981025695800781],\"type\":\"scatter3d\"},{\"line\":{\"color\":\"#004cff\",\"width\":1},\"mode\":\"lines\",\"x\":[0.17524218559265137,0.5988785326480865],\"y\":[-0.01157940924167633,-0.3939943462610245],\"z\":[0.17279958724975586,0.9939519166946411],\"type\":\"scatter3d\"},{\"line\":{\"color\":\"#004cff\",\"width\":1},\"mode\":\"lines\",\"x\":[0.17524218559265137,0.3515913039445877],\"y\":[-0.01157940924167633,-0.38185738027095795],\"z\":[0.17279958724975586,1.0848276615142822],\"type\":\"scatter3d\"},{\"line\":{\"color\":\"#004cff\",\"width\":1},\"mode\":\"lines\",\"x\":[0.17524218559265137,0.07667265832424164],\"y\":[-0.01157940924167633,-0.34096188843250275],\"z\":[0.17279958724975586,1.1118370294570923],\"type\":\"scatter3d\"},{\"line\":{\"color\":\"#004cff\",\"width\":1},\"mode\":\"lines\",\"x\":[0.17524218559265137,0.5804328620433807],\"y\":[-0.01157940924167633,-0.3576621264219284],\"z\":[0.17279958724975586,1.0189953446388245],\"type\":\"scatter3d\"},{\"line\":{\"color\":\"#004cff\",\"width\":1},\"mode\":\"lines\",\"x\":[0.17524218559265137,0.3239695131778717],\"y\":[-0.01157940924167633,-0.3397441953420639],\"z\":[0.17279958724975586,1.105638325214386],\"type\":\"scatter3d\"},{\"line\":{\"color\":\"#004cff\",\"width\":1},\"mode\":\"lines\",\"x\":[0.17524218559265137,0.04592867195606232],\"y\":[-0.01157940924167633,-0.29552869498729706],\"z\":[0.17279958724975586,1.1228789687156677],\"type\":\"scatter3d\"},{\"line\":{\"color\":\"#004cff\",\"width\":1},\"mode\":\"lines\",\"x\":[0.17524218559265137,0.5601001977920532],\"y\":[-0.01157940924167633,-0.31872327625751495],\"z\":[0.17279958724975586,1.0431713461875916],\"type\":\"scatter3d\"},{\"line\":{\"color\":\"#004cff\",\"width\":1},\"mode\":\"lines\",\"x\":[0.17524218559265137,0.2949945703148842],\"y\":[-0.01157940924167633,-0.29525206983089447],\"z\":[0.17279958724975586,1.1242139339447021],\"type\":\"scatter3d\"},{\"line\":{\"color\":\"#004cff\",\"width\":1},\"mode\":\"lines\",\"x\":[0.17524218559265137,0.015285536646842957],\"y\":[-0.01157940924167633,-0.24873441457748413],\"z\":[0.17279958724975586,1.131012201309204],\"type\":\"scatter3d\"},{\"line\":{\"color\":\"#004cff\",\"width\":1},\"mode\":\"lines\",\"x\":[0.17524218559265137,0.5378369688987732],\"y\":[-0.01157940924167633,-0.27724073827266693],\"z\":[0.17279958724975586,1.066079556941986],\"type\":\"scatter3d\"},{\"line\":{\"color\":\"#004cff\",\"width\":1},\"mode\":\"lines\",\"x\":[0.17524218559265137,0.2648681178689003],\"y\":[-0.01157940924167633,-0.248663529753685],\"z\":[0.17279958724975586,1.1401455998420715],\"type\":\"scatter3d\"},{\"line\":{\"color\":\"#004cff\",\"width\":1},\"mode\":\"lines\",\"x\":[0.17524218559265137,-0.014957144856452942],\"y\":[-0.01157940924167633,-0.20100507140159607],\"z\":[0.17279958724975586,1.1360971331596375],\"type\":\"scatter3d\"},{\"line\":{\"color\":\"#004cff\",\"width\":1},\"mode\":\"lines\",\"x\":[0.17524218559265137,0.5136447846889496],\"y\":[-0.01157940924167633,-0.23335495591163635],\"z\":[0.17279958724975586,1.0872936248779297],\"type\":\"scatter3d\"},{\"line\":{\"color\":\"#004cff\",\"width\":1},\"mode\":\"lines\",\"x\":[0.17524218559265137,0.2338433712720871],\"y\":[-0.01157940924167633,-0.20034795999526978],\"z\":[0.17279958724975586,1.1530711650848389],\"type\":\"scatter3d\"},{\"line\":{\"color\":\"#004cff\",\"width\":1},\"mode\":\"lines\",\"x\":[0.17524218559265137,-0.04450792074203491],\"y\":[-0.01157940924167633,-0.15279828011989594],\"z\":[0.17279958724975586,1.1380804181098938],\"type\":\"scatter3d\"},{\"line\":{\"color\":\"#004cff\",\"width\":1},\"mode\":\"lines\",\"x\":[0.17524218559265137,0.4875795841217041],\"y\":[-0.01157940924167633,-0.18729229271411896],\"z\":[0.17279958724975586,1.1063789129257202],\"type\":\"scatter3d\"},{\"line\":{\"color\":\"#004cff\",\"width\":1},\"mode\":\"lines\",\"x\":[0.17524218559265137,0.20221695117652416],\"y\":[-0.01157940924167633,-0.15075115859508514],\"z\":[0.17279958724975586,1.1627004146575928],\"type\":\"scatter3d\"},{\"line\":{\"color\":\"#004cff\",\"width\":1},\"mode\":\"lines\",\"x\":[0.17524218559265137,-0.07309748232364655],\"y\":[-0.01157940924167633,-0.10458161681890488],\"z\":[0.17279958724975586,1.1369976997375488],\"type\":\"scatter3d\"},{\"line\":{\"color\":\"#004cff\",\"width\":1},\"mode\":\"lines\",\"x\":[0.17524218559265137,0.4597585201263428],\"y\":[-0.01157940924167633,-0.13936783373355865],\"z\":[0.17279958724975586,1.1229156851768494],\"type\":\"scatter3d\"},{\"line\":{\"color\":\"#004cff\",\"width\":1},\"mode\":\"lines\",\"x\":[0.17524218559265137,0.17031611688435078],\"y\":[-0.01157940924167633,-0.10037694871425629],\"z\":[0.17279958724975586,1.1688371300697327],\"type\":\"scatter3d\"},{\"line\":{\"color\":\"#004cff\",\"width\":1},\"mode\":\"lines\",\"x\":[0.17524218559265137,-0.10049054026603699],\"y\":[-0.01157940924167633,-0.0568104088306427],\"z\":[0.17279958724975586,1.1329691410064697],\"type\":\"scatter3d\"},{\"line\":{\"color\":\"#004cff\",\"width\":1},\"mode\":\"lines\",\"x\":[0.17524218559265137,0.43036267161369324],\"y\":[-0.01157940924167633,-0.0899813324213028],\"z\":[0.17279958724975586,1.13652503490448],\"type\":\"scatter3d\"},{\"line\":{\"color\":\"#004cff\",\"width\":1},\"mode\":\"lines\",\"x\":[0.17524218559265137,0.1384824402630329],\"y\":[-0.01157940924167633,-0.04976261034607887],\"z\":[0.17279958724975586,1.1713939905166626],\"type\":\"scatter3d\"},{\"line\":{\"color\":\"#004cff\",\"width\":1},\"mode\":\"lines\",\"x\":[0.17524218559265137,0.6583465039730072],\"y\":[-0.01157940924167633,-0.07533483952283859],\"z\":[0.17279958724975586,1.0460380911827087],\"type\":\"scatter3d\"},{\"line\":{\"color\":\"#004cff\",\"width\":1},\"mode\":\"lines\",\"x\":[0.17524218559265137,0.3996347188949585],\"y\":[-0.01157940924167633,-0.03960505872964859],\"z\":[0.17279958724975586,1.1468953490257263],\"type\":\"scatter3d\"},{\"line\":{\"color\":\"#004cff\",\"width\":1},\"mode\":\"lines\",\"x\":[0.17524218559265137,0.10705378651618958],\"y\":[-0.01157940924167633,0.0005493937060236931],\"z\":[0.17279958724975586,1.1703982949256897],\"type\":\"scatter3d\"},{\"line\":{\"color\":\"#004cff\",\"width\":1},\"mode\":\"lines\",\"x\":[0.17524218559265137,0.6337985098361969],\"y\":[-0.01157940924167633,-0.028147641569375992],\"z\":[0.17279958724975586,1.0613104701042175],\"type\":\"scatter3d\"},{\"line\":{\"color\":\"#004cff\",\"width\":1},\"mode\":\"lines\",\"x\":[0.17524218559265137,0.367871031165123],\"y\":[-0.01157940924167633,0.011236140504479408],\"z\":[0.17279958724975586,1.1538060307502747],\"type\":\"scatter3d\"},{\"line\":{\"color\":\"#004cff\",\"width\":1},\"mode\":\"lines\",\"x\":[0.17524218559265137,0.07634671032428741],\"y\":[-0.01157940924167633,0.050039902329444885],\"z\":[0.17279958724975586,1.1659877300262451],\"type\":\"scatter3d\"},{\"line\":{\"color\":\"#004cff\",\"width\":1},\"mode\":\"lines\",\"x\":[0.17524218559265137,0.6072892248630524],\"y\":[-0.01157940924167633,0.020077329128980637],\"z\":[0.17279958724975586,1.0740948915481567],\"type\":\"scatter3d\"},{\"line\":{\"color\":\"#004cff\",\"width\":1},\"mode\":\"lines\",\"x\":[0.17524218559265137,0.3354080468416214],\"y\":[-0.01157940924167633,0.06199091672897339],\"z\":[0.17279958724975586,1.1571441888809204],\"type\":\"scatter3d\"},{\"line\":{\"color\":\"#004cff\",\"width\":1},\"mode\":\"lines\",\"x\":[0.17524218559265137,0.04664148390293121],\"y\":[-0.01157940924167633,0.09823837876319885],\"z\":[0.17279958724975586,1.15839684009552],\"type\":\"scatter3d\"},{\"line\":{\"color\":\"#004cff\",\"width\":1},\"mode\":\"lines\",\"x\":[0.17524218559265137,0.5789845585823059],\"y\":[-0.01157940924167633,0.06890130788087845],\"z\":[0.17279958724975586,1.0841255187988281],\"type\":\"scatter3d\"},{\"line\":{\"color\":\"#004cff\",\"width\":1},\"mode\":\"lines\",\"x\":[0.17524218559265137,0.3026048392057419],\"y\":[-0.01157940924167633,0.11211083084344864],\"z\":[0.17279958724975586,1.156913161277771],\"type\":\"scatter3d\"},{\"line\":{\"color\":\"#004cff\",\"width\":1},\"mode\":\"lines\",\"x\":[0.17524218559265137,0.018171057105064392],\"y\":[-0.01157940924167633,0.14474239945411682],\"z\":[0.17279958724975586,1.1479365825653076],\"type\":\"scatter3d\"},{\"line\":{\"color\":\"#004cff\",\"width\":1},\"mode\":\"lines\",\"x\":[0.17524218559265137,0.5491109490394592],\"y\":[-0.01157940924167633,0.11784836649894714],\"z\":[0.17279958724975586,1.091206133365631],\"type\":\"scatter3d\"},{\"line\":{\"color\":\"#004cff\",\"width\":1},\"mode\":\"lines\",\"x\":[0.17524218559265137,0.2698236331343651],\"y\":[-0.01157940924167633,0.1610794961452484],\"z\":[0.17279958724975586,1.1532297134399414],\"type\":\"scatter3d\"},{\"line\":{\"color\":\"#004cff\",\"width\":1},\"mode\":\"lines\",\"x\":[0.17524218559265137,-0.008884936571121216],\"y\":[-0.01157940924167633,0.18922971189022064],\"z\":[0.17279958724975586,1.134970486164093],\"type\":\"scatter3d\"},{\"line\":{\"color\":\"#004cff\",\"width\":1},\"mode\":\"lines\",\"x\":[0.17524218559265137,0.5179470777511597],\"y\":[-0.01157940924167633,0.16642743349075317],\"z\":[0.17279958724975586,1.0952240824699402],\"type\":\"scatter3d\"},{\"line\":{\"color\":\"#004cff\",\"width\":1},\"mode\":\"lines\",\"x\":[0.17524218559265137,0.23741060867905617],\"y\":[-0.01157940924167633,0.2084379345178604],\"z\":[0.17279958724975586,1.1463125348091125],\"type\":\"scatter3d\"},{\"line\":{\"color\":\"#004cff\",\"width\":1},\"mode\":\"lines\",\"x\":[0.17524218559265137,-0.03440161049365997],\"y\":[-0.01157940924167633,0.23146279156208038],\"z\":[0.17279958724975586,1.1198898553848267],\"type\":\"scatter3d\"},{\"line\":{\"color\":\"#004cff\",\"width\":1},\"mode\":\"lines\",\"x\":[0.17524218559265137,0.48581135272979736],\"y\":[-0.01157940924167633,0.21415650844573975],\"z\":[0.17279958724975586,1.0961576104164124],\"type\":\"scatter3d\"},{\"line\":{\"color\":\"#004cff\",\"width\":1},\"mode\":\"lines\",\"x\":[0.17524218559265137,0.20567953400313854],\"y\":[-0.01157940924167633,0.2538033276796341],\"z\":[0.17279958724975586,1.136462152004242],\"type\":\"scatter3d\"},{\"line\":{\"color\":\"#004cff\",\"width\":1},\"mode\":\"lines\",\"x\":[0.17524218559265137,-0.0583060085773468],\"y\":[-0.01157940924167633,0.27128659188747406],\"z\":[0.17279958724975586,1.1030909419059753],\"type\":\"scatter3d\"},{\"line\":{\"color\":\"#004cff\",\"width\":1},\"mode\":\"lines\",\"x\":[0.17524218559265137,0.4530457556247711],\"y\":[-0.01157940924167633,0.260586217045784],\"z\":[0.17279958724975586,1.0940764546394348],\"type\":\"scatter3d\"},{\"line\":{\"color\":\"#004cff\",\"width\":1},\"mode\":\"lines\",\"x\":[0.17524218559265137,0.1748995203524828],\"y\":[-0.01157940924167633,0.29687996208667755],\"z\":[0.17279958724975586,1.1240370273590088],\"type\":\"scatter3d\"},{\"line\":{\"color\":\"#004cff\",\"width\":1},\"mode\":\"lines\",\"x\":[0.17524218559265137,0.6656493544578552],\"y\":[-0.01157940924167633,0.25165511667728424],\"z\":[0.17279958724975586,1.0035874247550964],\"type\":\"scatter3d\"},{\"line\":{\"color\":\"#004cff\",\"width\":1},\"mode\":\"lines\",\"x\":[0.17524218559265137,0.4199984073638916],\"y\":[-0.01157940924167633,0.30532027781009674],\"z\":[0.17279958724975586,1.0891340970993042],\"type\":\"scatter3d\"},{\"line\":{\"color\":\"#004cff\",\"width\":1},\"mode\":\"lines\",\"x\":[0.17524218559265137,0.14528783410787582],\"y\":[-0.01157940924167633,0.3374618738889694],\"z\":[0.17279958724975586,1.10942804813385],\"type\":\"scatter3d\"},{\"line\":{\"color\":\"#004cff\",\"width\":1},\"mode\":\"lines\",\"x\":[0.17524218559265137,0.6358295381069183],\"y\":[-0.01157940924167633,0.295616939663887],\"z\":[0.17279958724975586,1.0055599212646484],\"type\":\"scatter3d\"},{\"line\":{\"color\":\"#004cff\",\"width\":1},\"mode\":\"lines\",\"x\":[0.17524218559265137,0.3870064616203308],\"y\":[-0.01157940924167633,0.3480304032564163],\"z\":[0.17279958724975586,1.0815551280975342],\"type\":\"scatter3d\"},{\"line\":{\"color\":\"#29ffce\",\"width\":1},\"mode\":\"lines\",\"x\":[-0.07743102312088013,-0.07235616818070412],\"y\":[-0.1615571230649948,-0.5618465393781662],\"z\":[-0.2194504737854004,0.6969242691993713],\"type\":\"scatter3d\"},{\"line\":{\"color\":\"#29ffce\",\"width\":1},\"mode\":\"lines\",\"x\":[-0.07743102312088013,0.39047130942344666],\"y\":[-0.1615571230649948,-0.6188431233167648],\"z\":[-0.2194504737854004,0.5368278622627258],\"type\":\"scatter3d\"},{\"line\":{\"color\":\"#29ffce\",\"width\":1},\"mode\":\"lines\",\"x\":[-0.07743102312088013,0.14680099487304688],\"y\":[-0.1615571230649948,-0.5821764022111893],\"z\":[-0.2194504737854004,0.6596396565437317],\"type\":\"scatter3d\"},{\"line\":{\"color\":\"#29ffce\",\"width\":1},\"mode\":\"lines\",\"x\":[-0.07743102312088013,0.5785472989082336],\"y\":[-0.1615571230649948,-0.5894181281328201],\"z\":[-0.2194504737854004,0.402343213558197],\"type\":\"scatter3d\"},{\"line\":{\"color\":\"#29ffce\",\"width\":1},\"mode\":\"lines\",\"x\":[-0.07743102312088013,0.37393563985824585],\"y\":[-0.1615571230649948,-0.5803637057542801],\"z\":[-0.2194504737854004,0.5685020685195923],\"type\":\"scatter3d\"},{\"line\":{\"color\":\"#29ffce\",\"width\":1},\"mode\":\"lines\",\"x\":[-0.07743102312088013,0.12331512570381165],\"y\":[-0.1615571230649948,-0.5390513092279434],\"z\":[-0.2194504737854004,0.6845402121543884],\"type\":\"scatter3d\"},{\"line\":{\"color\":\"#29ffce\",\"width\":1},\"mode\":\"lines\",\"x\":[-0.07743102312088013,0.5699833631515503],\"y\":[-0.1615571230649948,-0.5543234199285507],\"z\":[-0.2194504737854004,0.43368756771087646],\"type\":\"scatter3d\"},{\"line\":{\"color\":\"#29ffce\",\"width\":1},\"mode\":\"lines\",\"x\":[-0.07743102312088013,0.35545992851257324],\"y\":[-0.1615571230649948,-0.5392109900712967],\"z\":[-0.2194504737854004,0.5990744233131409],\"type\":\"scatter3d\"},{\"line\":{\"color\":\"#29ffce\",\"width\":1},\"mode\":\"lines\",\"x\":[-0.07743102312088013,0.0988222062587738],\"y\":[-0.1615571230649948,-0.49404941499233246],\"z\":[-0.2194504737854004,0.7070395350456238],\"type\":\"scatter3d\"},{\"line\":{\"color\":\"#29ffce\",\"width\":1},\"mode\":\"lines\",\"x\":[-0.07743102312088013,0.5594152808189392],\"y\":[-0.1615571230649948,-0.5165672153234482],\"z\":[-0.2194504737854004,0.46494317054748535],\"type\":\"scatter3d\"},{\"line\":{\"color\":\"#29ffce\",\"width\":1},\"mode\":\"lines\",\"x\":[-0.07743102312088013,0.3350406587123871],\"y\":[-0.1615571230649948,-0.49555613100528717],\"z\":[-0.2194504737854004,0.628082275390625],\"type\":\"scatter3d\"},{\"line\":{\"color\":\"#29ffce\",\"width\":1},\"mode\":\"lines\",\"x\":[-0.07743102312088013,0.07352183759212494],\"y\":[-0.1615571230649948,-0.44753648340702057],\"z\":[-0.2194504737854004,0.7268206477165222],\"type\":\"scatter3d\"},{\"line\":{\"color\":\"#29ffce\",\"width\":1},\"mode\":\"lines\",\"x\":[-0.07743102312088013,0.5466716885566711],\"y\":[-0.1615571230649948,-0.47619111835956573],\"z\":[-0.2194504737854004,0.4957427382469177],\"type\":\"scatter3d\"},{\"line\":{\"color\":\"#29ffce\",\"width\":1},\"mode\":\"lines\",\"x\":[-0.07743102312088013,0.31273072957992554],\"y\":[-0.1615571230649948,-0.4496612101793289],\"z\":[-0.2194504737854004,0.6550607681274414],\"type\":\"scatter3d\"},{\"line\":{\"color\":\"#29ffce\",\"width\":1},\"mode\":\"lines\",\"x\":[-0.07743102312088013,0.04764288663864136],\"y\":[-0.1615571230649948,-0.3999326527118683],\"z\":[-0.2194504737854004,0.7436349987983704],\"type\":\"scatter3d\"},{\"line\":{\"color\":\"#29ffce\",\"width\":1},\"mode\":\"lines\",\"x\":[-0.07743102312088013,0.5316137671470642],\"y\":[-0.1615571230649948,-0.4333130568265915],\"z\":[-0.2194504737854004,0.5256757736206055],\"type\":\"scatter3d\"},{\"line\":{\"color\":\"#29ffce\",\"width\":1},\"mode\":\"lines\",\"x\":[-0.07743102312088013,0.2886447310447693],\"y\":[-0.1615571230649948,-0.40187785029411316],\"z\":[-0.2194504737854004,0.6795681715011597],\"type\":\"scatter3d\"},{\"line\":{\"color\":\"#29ffce\",\"width\":1},\"mode\":\"lines\",\"x\":[-0.07743102312088013,0.021433360874652863],\"y\":[-0.1615571230649948,-0.35169413685798645],\"z\":[-0.2194504737854004,0.757316529750824],\"type\":\"scatter3d\"},{\"line\":{\"color\":\"#29ffce\",\"width\":1},\"mode\":\"lines\",\"x\":[-0.07743102312088013,0.5141496062278748],\"y\":[-0.1615571230649948,-0.3881366103887558],\"z\":[-0.2194504737854004,0.5543027520179749],\"type\":\"scatter3d\"},{\"line\":{\"color\":\"#29ffce\",\"width\":1},\"mode\":\"lines\",\"x\":[-0.07743102312088013,0.26295986771583557],\"y\":[-0.1615571230649948,-0.35263800621032715],\"z\":[-0.2194504737854004,0.7012134790420532],\"type\":\"scatter3d\"},{\"line\":{\"color\":\"#29ffce\",\"width\":1},\"mode\":\"lines\",\"x\":[-0.07743102312088013,-0.004851259291172028],\"y\":[-0.1615571230649948,-0.30329157412052155],\"z\":[-0.2194504737854004,0.767789900302887],\"type\":\"scatter3d\"},{\"line\":{\"color\":\"#29ffce\",\"width\":1},\"mode\":\"lines\",\"x\":[-0.07743102312088013,0.49424779415130615],\"y\":[-0.1615571230649948,-0.3409552276134491],\"z\":[-0.2194504737854004,0.5811740756034851],\"type\":\"scatter3d\"},{\"line\":{\"color\":\"#29ffce\",\"width\":1},\"mode\":\"lines\",\"x\":[-0.07743102312088013,0.2359110713005066],\"y\":[-0.1615571230649948,-0.30243678390979767],\"z\":[-0.2194504737854004,0.7196819186210632],\"type\":\"scatter3d\"},{\"line\":{\"color\":\"#29ffce\",\"width\":1},\"mode\":\"lines\",\"x\":[-0.07743102312088013,-0.03096028044819832],\"y\":[-0.1615571230649948,-0.255187563598156],\"z\":[-0.2194504737854004,0.7750714421272278],\"type\":\"scatter3d\"},{\"line\":{\"color\":\"#29ffce\",\"width\":1},\"mode\":\"lines\",\"x\":[-0.07743102312088013,0.47194862365722656],\"y\":[-0.1615571230649948,-0.29214948415756226],\"z\":[-0.2194504737854004,0.6058540940284729],\"type\":\"scatter3d\"},{\"line\":{\"color\":\"#29ffce\",\"width\":1},\"mode\":\"lines\",\"x\":[-0.07743102312088013,0.20778104662895203],\"y\":[-0.1615571230649948,-0.2518084794282913],\"z\":[-0.2194504737854004,0.7347553372383118],\"type\":\"scatter3d\"},{\"line\":{\"color\":\"#29ffce\",\"width\":1},\"mode\":\"lines\",\"x\":[-0.07743102312088013,0.6590380668640137],\"y\":[-0.1615571230649948,-0.2743455842137337],\"z\":[-0.2194504737854004,0.44755178689956665],\"type\":\"scatter3d\"},{\"line\":{\"color\":\"#29ffce\",\"width\":1},\"mode\":\"lines\",\"x\":[-0.07743102312088013,0.4473707675933838],\"y\":[-0.1615571230649948,-0.24217630922794342],\"z\":[-0.2194504737854004,0.6279476881027222],\"type\":\"scatter3d\"},{\"line\":{\"color\":\"#29ffce\",\"width\":1},\"mode\":\"lines\",\"x\":[-0.07743102312088013,0.17888575792312622],\"y\":[-0.1615571230649948,-0.201298538595438],\"z\":[-0.2194504737854004,0.7463250160217285],\"type\":\"scatter3d\"},{\"line\":{\"color\":\"#29ffce\",\"width\":1},\"mode\":\"lines\",\"x\":[-0.07743102312088013,0.641811192035675],\"y\":[-0.1615571230649948,-0.22785662859678268],\"z\":[-0.2194504737854004,0.47213828563690186],\"type\":\"scatter3d\"},{\"line\":{\"color\":\"#29ffce\",\"width\":1},\"mode\":\"lines\",\"x\":[-0.07743102312088013,0.4207113981246948],\"y\":[-0.1615571230649948,-0.19155028834939003],\"z\":[-0.2194504737854004,0.6471258401870728],\"type\":\"scatter3d\"},{\"line\":{\"color\":\"#29ffce\",\"width\":1},\"mode\":\"lines\",\"x\":[-0.07743102312088013,0.1495569348335266],\"y\":[-0.1615571230649948,-0.15143480710685253],\"z\":[-0.2194504737854004,0.7543944716453552],\"type\":\"scatter3d\"},{\"line\":{\"color\":\"#29ffce\",\"width\":1},\"mode\":\"lines\",\"x\":[-0.07743102312088013,0.6219524145126343],\"y\":[-0.1615571230649948,-0.1801873743534088],\"z\":[-0.2194504737854004,0.49505335092544556],\"type\":\"scatter3d\"},{\"line\":{\"color\":\"#29ffce\",\"width\":1},\"mode\":\"lines\",\"x\":[-0.07743102312088013,0.3922399878501892],\"y\":[-0.1615571230649948,-0.1408183928579092],\"z\":[-0.2194504737854004,0.6631473898887634],\"type\":\"scatter3d\"},{\"line\":{\"color\":\"#29ffce\",\"width\":1},\"mode\":\"lines\",\"x\":[-0.07743102312088013,0.12012425065040588],\"y\":[-0.1615571230649948,-0.10270138084888458],\"z\":[-0.2194504737854004,0.7590728402137756],\"type\":\"scatter3d\"},{\"line\":{\"color\":\"#29ffce\",\"width\":1},\"mode\":\"lines\",\"x\":[-0.07743102312088013,0.5995230674743652],\"y\":[-0.1615571230649948,-0.13176317140460014],\"z\":[-0.2194504737854004,0.5159715414047241],\"type\":\"scatter3d\"},{\"line\":{\"color\":\"#29ffce\",\"width\":1},\"mode\":\"lines\",\"x\":[-0.07743102312088013,0.36228469014167786],\"y\":[-0.1615571230649948,-0.09053092449903488],\"z\":[-0.2194504737854004,0.6758736968040466],\"type\":\"scatter3d\"},{\"line\":{\"color\":\"#29ffce\",\"width\":1},\"mode\":\"lines\",\"x\":[-0.07743102312088013,0.09089882671833038],\"y\":[-0.1615571230649948,-0.05551804602146149],\"z\":[-0.2194504737854004,0.7605600953102112],\"type\":\"scatter3d\"},{\"line\":{\"color\":\"#29ffce\",\"width\":1},\"mode\":\"lines\",\"x\":[-0.07743102312088013,0.5746632814407349],\"y\":[-0.1615571230649948,-0.08305055648088455],\"z\":[-0.2194504737854004,0.534611701965332],\"type\":\"scatter3d\"},{\"line\":{\"color\":\"#29ffce\",\"width\":1},\"mode\":\"lines\",\"x\":[-0.07743102312088013,0.3312138020992279],\"y\":[-0.1615571230649948,-0.04121217131614685],\"z\":[-0.2194504737854004,0.685274064540863],\"type\":\"scatter3d\"},{\"line\":{\"color\":\"#29ffce\",\"width\":1},\"mode\":\"lines\",\"x\":[-0.07743102312088013,0.06215992569923401],\"y\":[-0.1615571230649948,-0.010226890444755554],\"z\":[-0.2194504737854004,0.7591267824172974],\"type\":\"scatter3d\"},{\"line\":{\"color\":\"#29ffce\",\"width\":1},\"mode\":\"lines\",\"x\":[-0.07743102312088013,0.5475892424583435],\"y\":[-0.1615571230649948,-0.03453589975833893],\"z\":[-0.2194504737854004,0.550754189491272],\"type\":\"scatter3d\"},{\"line\":{\"color\":\"#29ffce\",\"width\":1},\"mode\":\"lines\",\"x\":[-0.07743102312088013,0.29941460490226746],\"y\":[-0.1615571230649948,0.006665676832199097],\"z\":[-0.2194504737854004,0.6914218664169312],\"type\":\"scatter3d\"},{\"line\":{\"color\":\"#29ffce\",\"width\":1},\"mode\":\"lines\",\"x\":[-0.07743102312088013,0.03414597362279892],\"y\":[-0.1615571230649948,0.03291350603103638],\"z\":[-0.2194504737854004,0.7550913095474243],\"type\":\"scatter3d\"},{\"line\":{\"color\":\"#29ffce\",\"width\":1},\"mode\":\"lines\",\"x\":[-0.07743102312088013,0.518584132194519],\"y\":[-0.1615571230649948,0.013298392295837402],\"z\":[-0.2194504737854004,0.5642532110214233],\"type\":\"scatter3d\"},{\"line\":{\"color\":\"#29ffce\",\"width\":1},\"mode\":\"lines\",\"x\":[-0.07743102312088013,0.2672717571258545],\"y\":[-0.1615571230649948,0.05270242691040039],\"z\":[-0.2194504737854004,0.694482147693634],\"type\":\"scatter3d\"},{\"line\":{\"color\":\"#29ffce\",\"width\":1},\"mode\":\"lines\",\"x\":[-0.07743102312088013,0.0070497989654541016],\"y\":[-0.1615571230649948,0.07372701168060303],\"z\":[-0.2194504737854004,0.748797595500946],\"type\":\"scatter3d\"},{\"line\":{\"color\":\"#29ffce\",\"width\":1},\"mode\":\"lines\",\"x\":[-0.07743102312088013,0.4879835247993469],\"y\":[-0.1615571230649948,0.059997618198394775],\"z\":[-0.2194504737854004,0.5750430226325989],\"type\":\"scatter3d\"},{\"line\":{\"color\":\"#29ffce\",\"width\":1},\"mode\":\"lines\",\"x\":[-0.07743102312088013,0.23514828085899353],\"y\":[-0.1615571230649948,0.09658209979534149],\"z\":[-0.2194504737854004,0.6946930289268494],\"type\":\"scatter3d\"},{\"line\":{\"color\":\"#29ffce\",\"width\":1},\"mode\":\"lines\",\"x\":[-0.07743102312088013,0.6599605679512024],\"y\":[-0.1615571230649948,0.054362788796424866],\"z\":[-0.2194504737854004,0.42057472467422485],\"type\":\"scatter3d\"},{\"line\":{\"color\":\"#29ffce\",\"width\":1},\"mode\":\"lines\",\"x\":[-0.07743102312088013,0.45615702867507935],\"y\":[-0.1615571230649948,0.10515551269054413],\"z\":[-0.2194504737854004,0.5831379294395447],\"type\":\"scatter3d\"},{\"line\":{\"color\":\"#29ffce\",\"width\":1},\"mode\":\"lines\",\"x\":[-0.07743102312088013,0.20337066054344177],\"y\":[-0.1615571230649948,0.13807706534862518],\"z\":[-0.2194504737854004,0.6923443078994751],\"type\":\"scatter3d\"},{\"line\":{\"color\":\"#29ffce\",\"width\":1},\"mode\":\"lines\",\"x\":[-0.07743102312088013,0.6333935260772705],\"y\":[-0.1615571230649948,0.0983646959066391],\"z\":[-0.2194504737854004,0.4341312646865845],\"type\":\"scatter3d\"},{\"line\":{\"color\":\"#29ffce\",\"width\":1},\"mode\":\"lines\",\"x\":[-0.07743102312088013,0.4234883785247803],\"y\":[-0.1615571230649948,0.14843027293682098],\"z\":[-0.2194504737854004,0.588625967502594],\"type\":\"scatter3d\"},{\"line\":{\"color\":\"#ceff29\",\"width\":1},\"mode\":\"lines\",\"x\":[-0.20418572425842285,0.04881945252418518],\"y\":[-0.3058573007583618,-0.7510098516941071],\"z\":[-0.27696824073791504,0.582000732421875],\"type\":\"scatter3d\"},{\"line\":{\"color\":\"#ceff29\",\"width\":1},\"mode\":\"lines\",\"x\":[-0.20418572425842285,0.43930184841156006],\"y\":[-0.3058573007583618,-0.8209763169288635],\"z\":[-0.27696824073791504,0.289226233959198],\"type\":\"scatter3d\"},{\"line\":{\"color\":\"#ceff29\",\"width\":1},\"mode\":\"lines\",\"x\":[-0.20418572425842285,0.24552029371261597],\"y\":[-0.3058573007583618,-0.7794108986854553],\"z\":[-0.27696824073791504,0.4803372621536255],\"type\":\"scatter3d\"},{\"line\":{\"color\":\"#ceff29\",\"width\":1},\"mode\":\"lines\",\"x\":[-0.20418572425842285,0.5804736614227295],\"y\":[-0.3058573007583618,-0.7934909462928772],\"z\":[-0.27696824073791504,0.10581514239311218],\"type\":\"scatter3d\"},{\"line\":{\"color\":\"#ceff29\",\"width\":1},\"mode\":\"lines\",\"x\":[-0.20418572425842285,0.4351617693901062],\"y\":[-0.3058573007583618,-0.7834062278270721],\"z\":[-0.27696824073791504,0.32567745447158813],\"type\":\"scatter3d\"},{\"line\":{\"color\":\"#ceff29\",\"width\":1},\"mode\":\"lines\",\"x\":[-0.20418572425842285,0.233018159866333],\"y\":[-0.3058573007583618,-0.7365528047084808],\"z\":[-0.27696824073791504,0.5125595927238464],\"type\":\"scatter3d\"},{\"line\":{\"color\":\"#ceff29\",\"width\":1},\"mode\":\"lines\",\"x\":[-0.20418572425842285,0.5836384892463684],\"y\":[-0.3058573007583618,-0.759644091129303],\"z\":[-0.27696824073791504,0.13945770263671875],\"type\":\"scatter3d\"},{\"line\":{\"color\":\"#ceff29\",\"width\":1},\"mode\":\"lines\",\"x\":[-0.20418572425842285,0.42900145053863525],\"y\":[-0.3058573007583618,-0.7430258691310883],\"z\":[-0.27696824073791504,0.3617474436759949],\"type\":\"scatter3d\"},{\"line\":{\"color\":\"#ceff29\",\"width\":1},\"mode\":\"lines\",\"x\":[-0.20418572425842285,0.21895387768745422],\"y\":[-0.3058573007583618,-0.6916570663452148],\"z\":[-0.27696824073791504,0.5428557991981506],\"type\":\"scatter3d\"},{\"line\":{\"color\":\"#ceff29\",\"width\":1},\"mode\":\"lines\",\"x\":[-0.20418572425842285,0.5850213766098022],\"y\":[-0.3058573007583618,-0.7230462729930878],\"z\":[-0.27696824073791504,0.1737040877342224],\"type\":\"scatter3d\"},{\"line\":{\"color\":\"#ceff29\",\"width\":1},\"mode\":\"lines\",\"x\":[-0.20418572425842285,0.42067044973373413],\"y\":[-0.3058573007583618,-0.6999829113483429],\"z\":[-0.27696824073791504,0.3969901204109192],\"type\":\"scatter3d\"},{\"line\":{\"color\":\"#ceff29\",\"width\":1},\"mode\":\"lines\",\"x\":[-0.20418572425842285,0.203402578830719],\"y\":[-0.3058573007583618,-0.6450818777084351],\"z\":[-0.27696824073791504,0.5708516240119934],\"type\":\"scatter3d\"},{\"line\":{\"color\":\"#ceff29\",\"width\":1},\"mode\":\"lines\",\"x\":[-0.20418572425842285,0.5843477249145508],\"y\":[-0.3058573007583618,-0.6837128400802612],\"z\":[-0.27696824073791504,0.20825359225273132],\"type\":\"scatter3d\"},{\"line\":{\"color\":\"#ceff29\",\"width\":1},\"mode\":\"lines\",\"x\":[-0.20418572425842285,0.4100661873817444],\"y\":[-0.3058573007583618,-0.6545180678367615],\"z\":[-0.27696824073791504,0.43093734979629517],\"type\":\"scatter3d\"},{\"line\":{\"color\":\"#ceff29\",\"width\":1},\"mode\":\"lines\",\"x\":[-0.20418572425842285,0.18648427724838257],\"y\":[-0.3058573007583618,-0.597244530916214],\"z\":[-0.27696824073791504,0.5962273478507996],\"type\":\"scatter3d\"},{\"line\":{\"color\":\"#ceff29\",\"width\":1},\"mode\":\"lines\",\"x\":[-0.20418572425842285,0.5813567638397217],\"y\":[-0.3058573007583618,-0.641734778881073],\"z\":[-0.27696824073791504,0.24275219440460205],\"type\":\"scatter3d\"},{\"line\":{\"color\":\"#ceff29\",\"width\":1},\"mode\":\"lines\",\"x\":[-0.20418572425842285,0.39714670181274414],\"y\":[-0.3058573007583618,-0.6069654822349548],\"z\":[-0.27696824073791504,0.46312177181243896],\"type\":\"scatter3d\"},{\"line\":{\"color\":\"#ceff29\",\"width\":1},\"mode\":\"lines\",\"x\":[-0.20418572425842285,0.16835972666740417],\"y\":[-0.3058573007583618,-0.5486032068729401],\"z\":[-0.27696824073791504,0.6187350749969482],\"type\":\"scatter3d\"},{\"line\":{\"color\":\"#ceff29\",\"width\":1},\"mode\":\"lines\",\"x\":[-0.20418572425842285,0.5758187174797058],\"y\":[-0.3058573007583618,-0.5972891449928284],\"z\":[-0.27696824073791504,0.2768011689186096],\"type\":\"scatter3d\"},{\"line\":{\"color\":\"#ceff29\",\"width\":1},\"mode\":\"lines\",\"x\":[-0.20418572425842285,0.3819398880004883],\"y\":[-0.3058573007583618,-0.5577447414398193],\"z\":[-0.27696824073791504,0.4931028485298157],\"type\":\"scatter3d\"},{\"line\":{\"color\":\"#ceff29\",\"width\":1},\"mode\":\"lines\",\"x\":[-0.20418572425842285,0.1492227017879486],\"y\":[-0.3058573007583618,-0.49963535368442535],\"z\":[-0.27696824073791504,0.6382107734680176],\"type\":\"scatter3d\"},{\"line\":{\"color\":\"#ceff29\",\"width\":1},\"mode\":\"lines\",\"x\":[-0.20418572425842285,0.5675534009933472],\"y\":[-0.3058573007583618,-0.5506450235843658],\"z\":[-0.27696824073791504,0.30997103452682495],\"type\":\"scatter3d\"},{\"line\":{\"color\":\"#ceff29\",\"width\":1},\"mode\":\"lines\",\"x\":[-0.20418572425842285,0.36454761028289795],\"y\":[-0.3058573007583618,-0.5073448866605759],\"z\":[-0.27696824073791504,0.5204935073852539],\"type\":\"scatter3d\"},{\"line\":{\"color\":\"#ceff29\",\"width\":1},\"mode\":\"lines\",\"x\":[-0.20418572425842285,0.1292901337146759],\"y\":[-0.3058573007583618,-0.45081472396850586],\"z\":[-0.27696824073791504,0.6545795202255249],\"type\":\"scatter3d\"},{\"line\":{\"color\":\"#ceff29\",\"width\":1},\"mode\":\"lines\",\"x\":[-0.20418572425842285,0.5564480423927307],\"y\":[-0.3058573007583618,-0.5021622478961945],\"z\":[-0.27696824073791504,0.34182143211364746],\"type\":\"scatter3d\"},{\"line\":{\"color\":\"#ceff29\",\"width\":1},\"mode\":\"lines\",\"x\":[-0.20418572425842285,0.3451436758041382],\"y\":[-0.3058573007583618,-0.4563009887933731],\"z\":[-0.27696824073791504,0.5449830889701843],\"type\":\"scatter3d\"},{\"line\":{\"color\":\"#ceff29\",\"width\":1},\"mode\":\"lines\",\"x\":[-0.20418572425842285,0.6889467239379883],\"y\":[-0.3058573007583618,-0.4850429743528366],\"z\":[-0.27696824073791504,0.1355932056903839],\"type\":\"scatter3d\"},{\"line\":{\"color\":\"#ceff29\",\"width\":1},\"mode\":\"lines\",\"x\":[-0.20418572425842285,0.5424720644950867],\"y\":[-0.3058573007583618,-0.45228248834609985],\"z\":[-0.27696824073791504,0.37192457914352417],\"type\":\"scatter3d\"},{\"line\":{\"color\":\"#ceff29\",\"width\":1},\"mode\":\"lines\",\"x\":[-0.20418572425842285,0.32396525144577026],\"y\":[-0.3058573007583618,-0.40516625344753265],\"z\":[-0.27696824073791504,0.5663551092147827],\"type\":\"scatter3d\"},{\"line\":{\"color\":\"#ceff29\",\"width\":1},\"mode\":\"lines\",\"x\":[-0.20418572425842285,0.6825143694877625],\"y\":[-0.3058573007583618,-0.4390978366136551],\"z\":[-0.27696824073791504,0.16576188802719116],\"type\":\"scatter3d\"},{\"line\":{\"color\":\"#ceff29\",\"width\":1},\"mode\":\"lines\",\"x\":[-0.20418572425842285,0.5256860256195068],\"y\":[-0.3058573007583618,-0.4015117883682251],\"z\":[-0.27696824073791504,0.39989030361175537],\"type\":\"scatter3d\"},{\"line\":{\"color\":\"#ceff29\",\"width\":1},\"mode\":\"lines\",\"x\":[-0.20418572425842285,0.3012990355491638],\"y\":[-0.3058573007583618,-0.35448257997632027],\"z\":[-0.27696824073791504,0.5844960808753967],\"type\":\"scatter3d\"},{\"line\":{\"color\":\"#ceff29\",\"width\":1},\"mode\":\"lines\",\"x\":[-0.20418572425842285,0.6731464266777039],\"y\":[-0.3058573007583618,-0.3917722776532173],\"z\":[-0.27696824073791504,0.19516199827194214],\"type\":\"scatter3d\"},{\"line\":{\"color\":\"#ceff29\",\"width\":1},\"mode\":\"lines\",\"x\":[-0.20418572425842285,0.5062435269355774],\"y\":[-0.3058573007583618,-0.35039613023400307],\"z\":[-0.27696824073791504,0.4253896474838257],\"type\":\"scatter3d\"},{\"line\":{\"color\":\"#ceff29\",\"width\":1},\"mode\":\"lines\",\"x\":[-0.20418572425842285,0.2774633765220642],\"y\":[-0.3058573007583618,-0.3047533860662952],\"z\":[-0.27696824073791504,0.599395215511322],\"type\":\"scatter3d\"},{\"line\":{\"color\":\"#ceff29\",\"width\":1},\"mode\":\"lines\",\"x\":[-0.20418572425842285,0.6607802510261536],\"y\":[-0.3058573007583618,-0.3434772975742817],\"z\":[-0.27696824073791504,0.2234501838684082],\"type\":\"scatter3d\"},{\"line\":{\"color\":\"#ceff29\",\"width\":1},\"mode\":\"lines\",\"x\":[-0.20418572425842285,0.48438429832458496],\"y\":[-0.3058573007583618,-0.2994926176033914],\"z\":[-0.27696824073791504,0.4481737017631531],\"type\":\"scatter3d\"},{\"line\":{\"color\":\"#ceff29\",\"width\":1},\"mode\":\"lines\",\"x\":[-0.20418572425842285,0.2527896761894226],\"y\":[-0.3058573007583618,-0.25642159953713417],\"z\":[-0.27696824073791504,0.611136257648468],\"type\":\"scatter3d\"},{\"line\":{\"color\":\"#ceff29\",\"width\":1},\"mode\":\"lines\",\"x\":[-0.20418572425842285,0.645439088344574],\"y\":[-0.3058573007583618,-0.2946707783266902],\"z\":[-0.27696824073791504,0.2503007650375366],\"type\":\"scatter3d\"},{\"line\":{\"color\":\"#ceff29\",\"width\":1},\"mode\":\"lines\",\"x\":[-0.20418572425842285,0.46041983366012573],\"y\":[-0.3058573007583618,-0.24933957308530807],\"z\":[-0.27696824073791504,0.4680855870246887],\"type\":\"scatter3d\"},{\"line\":{\"color\":\"#ceff29\",\"width\":1},\"mode\":\"lines\",\"x\":[-0.20418572425842285,0.22760441899299622],\"y\":[-0.3058573007583618,-0.20985467731952667],\"z\":[-0.27696824073791504,0.6198822259902954],\"type\":\"scatter3d\"},{\"line\":{\"color\":\"#ceff29\",\"width\":1},\"mode\":\"lines\",\"x\":[-0.20418572425842285,0.627235472202301],\"y\":[-0.3058573007583618,-0.24583691358566284],\"z\":[-0.27696824073791504,0.27542322874069214],\"type\":\"scatter3d\"},{\"line\":{\"color\":\"#ceff29\",\"width\":1},\"mode\":\"lines\",\"x\":[-0.20418572425842285,0.43471360206604004],\"y\":[-0.3058573007583618,-0.20042938739061356],\"z\":[-0.27696824073791504,0.48506367206573486],\"type\":\"scatter3d\"},{\"line\":{\"color\":\"#ceff29\",\"width\":1},\"mode\":\"lines\",\"x\":[-0.20418572425842285,0.20221415162086487],\"y\":[-0.3058573007583618,-0.16533729434013367],\"z\":[-0.27696824073791504,0.6258569359779358],\"type\":\"scatter3d\"},{\"line\":{\"color\":\"#ceff29\",\"width\":1},\"mode\":\"lines\",\"x\":[-0.20418572425842285,0.6063681840896606],\"y\":[-0.3058573007583618,-0.19746262580156326],\"z\":[-0.27696824073791504,0.29857760667800903],\"type\":\"scatter3d\"},{\"line\":{\"color\":\"#ceff29\",\"width\":1},\"mode\":\"lines\",\"x\":[-0.20418572425842285,0.4076578617095947],\"y\":[-0.3058573007583618,-0.15318702161312103],\"z\":[-0.27696824073791504,0.49913692474365234],\"type\":\"scatter3d\"},{\"line\":{\"color\":\"#ceff29\",\"width\":1},\"mode\":\"lines\",\"x\":[-0.20418572425842285,0.17689433693885803],\"y\":[-0.3058573007583618,-0.12307102978229523],\"z\":[-0.27696824073791504,0.6293248534202576],\"type\":\"scatter3d\"},{\"line\":{\"color\":\"#ceff29\",\"width\":1},\"mode\":\"lines\",\"x\":[-0.20418572425842285,0.5831111073493958],\"y\":[-0.3058573007583618,-0.15001361072063446],\"z\":[-0.27696824073791504,0.31958556175231934],\"type\":\"scatter3d\"},{\"line\":{\"color\":\"#ceff29\",\"width\":1},\"mode\":\"lines\",\"x\":[-0.20418572425842285,0.3796508312225342],\"y\":[-0.3058573007583618,-0.10795612633228302],\"z\":[-0.27696824073791504,0.5104134678840637],\"type\":\"scatter3d\"},{\"line\":{\"color\":\"#ceff29\",\"width\":1},\"mode\":\"lines\",\"x\":[-0.20418572425842285,0.7009736895561218],\"y\":[-0.3058573007583618,-0.1557828038930893],\"z\":[-0.27696824073791504,0.12073022127151489],\"type\":\"scatter3d\"},{\"line\":{\"color\":\"#ceff29\",\"width\":1},\"mode\":\"lines\",\"x\":[-0.20418572425842285,0.5577973127365112],\"y\":[-0.3058573007583618,-0.10391269624233246],\"z\":[-0.27696824073791504,0.3383367657661438],\"type\":\"scatter3d\"},{\"line\":{\"color\":\"#ceff29\",\"width\":1},\"mode\":\"lines\",\"x\":[-0.20418572425842285,0.3510764241218567],\"y\":[-0.3058573007583618,-0.06499303877353668],\"z\":[-0.27696824073791504,0.5190646052360535],\"type\":\"scatter3d\"},{\"line\":{\"color\":\"#ceff29\",\"width\":1},\"mode\":\"lines\",\"x\":[-0.20418572425842285,0.6822246313095093],\"y\":[-0.3058573007583618,-0.11134597659111023],\"z\":[-0.27696824073791504,0.14308184385299683],\"type\":\"scatter3d\"},{\"line\":{\"color\":\"#ceff29\",\"width\":1},\"mode\":\"lines\",\"x\":[-0.20418572425842285,0.5307986736297607],\"y\":[-0.3058573007583618,-0.05952282249927521],\"z\":[-0.27696824073791504,0.35478901863098145],\"type\":\"scatter3d\"},{\"line\":{\"color\":\"#ff6800\",\"width\":1},\"mode\":\"lines\",\"x\":[-0.0669904351234436,0.31112781167030334],\"y\":[-0.29124778509140015,-0.7491666674613953],\"z\":[-0.39041876792907715,0.4141538143157959],\"type\":\"scatter3d\"},{\"line\":{\"color\":\"#ff6800\",\"width\":1},\"mode\":\"lines\",\"x\":[-0.0669904351234436,0.6358540058135986],\"y\":[-0.29124778509140015,-0.8452280759811401],\"z\":[-0.39041876792907715,0.05580499768257141],\"type\":\"scatter3d\"},{\"line\":{\"color\":\"#ff6800\",\"width\":1},\"mode\":\"lines\",\"x\":[-0.0669904351234436,0.48356831073760986],\"y\":[-0.29124778509140015,-0.790583074092865],\"z\":[-0.39041876792907715,0.27857261896133423],\"type\":\"scatter3d\"},{\"line\":{\"color\":\"#ff6800\",\"width\":1},\"mode\":\"lines\",\"x\":[-0.0669904351234436,0.7423135638237],\"y\":[-0.29124778509140015,-0.8275321125984192],\"z\":[-0.39041876792907715,-0.15078100562095642],\"type\":\"scatter3d\"},{\"line\":{\"color\":\"#ff6800\",\"width\":1},\"mode\":\"lines\",\"x\":[-0.0669904351234436,0.6408737301826477],\"y\":[-0.29124778509140015,-0.8073541522026062],\"z\":[-0.39041876792907715,0.09182879328727722],\"type\":\"scatter3d\"},{\"line\":{\"color\":\"#ff6800\",\"width\":1},\"mode\":\"lines\",\"x\":[-0.0669904351234436,0.47994160652160645],\"y\":[-0.29124778509140015,-0.7469033300876617],\"z\":[-0.39041876792907715,0.31189417839050293],\"type\":\"scatter3d\"},{\"line\":{\"color\":\"#ff6800\",\"width\":1},\"mode\":\"lines\",\"x\":[-0.0669904351234436,0.7537465691566467],\"y\":[-0.29124778509140015,-0.793856143951416],\"z\":[-0.39041876792907715,-0.11880192160606384],\"type\":\"scatter3d\"},{\"line\":{\"color\":\"#ff6800\",\"width\":1},\"mode\":\"lines\",\"x\":[-0.0669904351234436,0.6440191268920898],\"y\":[-0.29124778509140015,-0.7665460705757141],\"z\":[-0.39041876792907715,0.1278061866760254],\"type\":\"scatter3d\"},{\"line\":{\"color\":\"#ff6800\",\"width\":1},\"mode\":\"lines\",\"x\":[-0.0669904351234436,0.4745568633079529],\"y\":[-0.29124778509140015,-0.7010950148105621],\"z\":[-0.39041876792907715,0.3435784578323364],\"type\":\"scatter3d\"},{\"line\":{\"color\":\"#ff6800\",\"width\":1},\"mode\":\"lines\",\"x\":[-0.0669904351234436,0.7637165784835815],\"y\":[-0.29124778509140015,-0.7573174834251404],\"z\":[-0.39041876792907715,-0.08594381809234619],\"type\":\"scatter3d\"},{\"line\":{\"color\":\"#ff6800\",\"width\":1},\"mode\":\"lines\",\"x\":[-0.0669904351234436,0.6450512409210205],\"y\":[-0.29124778509140015,-0.7229428291320801],\"z\":[-0.39041876792907715,0.16332858800888062],\"type\":\"scatter3d\"},{\"line\":{\"color\":\"#ff6800\",\"width\":1},\"mode\":\"lines\",\"x\":[-0.0669904351234436,0.46739619970321655],\"y\":[-0.29124778509140015,-0.6535215973854065],\"z\":[-0.39041876792907715,0.3732491731643677],\"type\":\"scatter3d\"},{\"line\":{\"color\":\"#ff6800\",\"width\":1},\"mode\":\"lines\",\"x\":[-0.0669904351234436,0.7718979120254517],\"y\":[-0.29124778509140015,-0.7179147005081177],\"z\":[-0.39041876792907715,-0.052451640367507935],\"type\":\"scatter3d\"},{\"line\":{\"color\":\"#ff6800\",\"width\":1},\"mode\":\"lines\",\"x\":[-0.0669904351234436,0.6437681913375854],\"y\":[-0.29124778509140015,-0.6767794787883759],\"z\":[-0.39041876792907715,0.19795829057693481],\"type\":\"scatter3d\"},{\"line\":{\"color\":\"#ff6800\",\"width\":1},\"mode\":\"lines\",\"x\":[-0.0669904351234436,0.45849233865737915],\"y\":[-0.29124778509140015,-0.6046082675457001],\"z\":[-0.39041876792907715,0.40057629346847534],\"type\":\"scatter3d\"},{\"line\":{\"color\":\"#ff6800\",\"width\":1},\"mode\":\"lines\",\"x\":[-0.0669904351234436,0.7779638767242432],\"y\":[-0.29124778509140015,-0.675722748041153],\"z\":[-0.39041876792907715,-0.018624097108840942],\"type\":\"scatter3d\"},{\"line\":{\"color\":\"#ff6800\",\"width\":1},\"mode\":\"lines\",\"x\":[-0.0669904351234436,0.6400216817855835],\"y\":[-0.29124778509140015,-0.6283882260322571],\"z\":[-0.39041876792907715,0.2312486171722412],\"type\":\"scatter3d\"},{\"line\":{\"color\":\"#ff6800\",\"width\":1},\"mode\":\"lines\",\"x\":[-0.0669904351234436,0.447928249835968],\"y\":[-0.29124778509140015,-0.5548234283924103],\"z\":[-0.39041876792907715,0.4252936840057373],\"type\":\"scatter3d\"},{\"line\":{\"color\":\"#ff6800\",\"width\":1},\"mode\":\"lines\",\"x\":[-0.0669904351234436,0.7816045880317688],\"y\":[-0.29124778509140015,-0.6309047043323517],\"z\":[-0.39041876792907715,0.015191584825515747],\"type\":\"scatter3d\"},{\"line\":{\"color\":\"#ff6800\",\"width\":1},\"mode\":\"lines\",\"x\":[-0.0669904351234436,0.6337313652038574],\"y\":[-0.29124778509140015,-0.5781909227371216],\"z\":[-0.39041876792907715,0.2627677917480469],\"type\":\"scatter3d\"},{\"line\":{\"color\":\"#ff6800\",\"width\":1},\"mode\":\"lines\",\"x\":[-0.0669904351234436,0.4358336925506592],\"y\":[-0.29124778509140015,-0.5046566426753998],\"z\":[-0.39041876792907715,0.4472116231918335],\"type\":\"scatter3d\"},{\"line\":{\"color\":\"#ff6800\",\"width\":1},\"mode\":\"lines\",\"x\":[-0.0669904351234436,0.7825472354888916],\"y\":[-0.29124778509140015,-0.5837186872959137],\"z\":[-0.39041876792907715,0.04861047863960266],\"type\":\"scatter3d\"},{\"line\":{\"color\":\"#ff6800\",\"width\":1},\"mode\":\"lines\",\"x\":[-0.0669904351234436,0.6248951554298401],\"y\":[-0.29124778509140015,-0.5266834050416946],\"z\":[-0.39041876792907715,0.2921239137649536],\"type\":\"scatter3d\"},{\"line\":{\"color\":\"#ff6800\",\"width\":1},\"mode\":\"lines\",\"x\":[-0.0669904351234436,0.4223777949810028],\"y\":[-0.29124778509140015,-0.4545949548482895],\"z\":[-0.39041876792907715,0.4662238359451294],\"type\":\"scatter3d\"},{\"line\":{\"color\":\"#ff6800\",\"width\":1},\"mode\":\"lines\",\"x\":[-0.0669904351234436,0.7805773615837097],\"y\":[-0.29124778509140015,-0.5345178842544556],\"z\":[-0.39041876792907715,0.08122575283050537],\"type\":\"scatter3d\"},{\"line\":{\"color\":\"#ff6800\",\"width\":1},\"mode\":\"lines\",\"x\":[-0.0669904351234436,0.6135925650596619],\"y\":[-0.29124778509140015,-0.47441188991069794],\"z\":[-0.39041876792907715,0.3189878463745117],\"type\":\"scatter3d\"},{\"line\":{\"color\":\"#ff6800\",\"width\":1},\"mode\":\"lines\",\"x\":[-0.0669904351234436,0.873676061630249],\"y\":[-0.29124778509140015,-0.5266754776239395],\"z\":[-0.39041876792907715,-0.14604102075099945],\"type\":\"scatter3d\"},{\"line\":{\"color\":\"#ff6800\",\"width\":1},\"mode\":\"lines\",\"x\":[-0.0669904351234436,0.7755584716796875],\"y\":[-0.29124778509140015,-0.4837423712015152],\"z\":[-0.39041876792907715,0.112629234790802],\"type\":\"scatter3d\"},{\"line\":{\"color\":\"#ff6800\",\"width\":1},\"mode\":\"lines\",\"x\":[-0.0669904351234436,0.5999815464019775],\"y\":[-0.29124778509140015,-0.4219444543123245],\"z\":[-0.39041876792907715,0.34311163425445557],\"type\":\"scatter3d\"},{\"line\":{\"color\":\"#ff6800\",\"width\":1},\"mode\":\"lines\",\"x\":[-0.0669904351234436,0.8758201599121094],\"y\":[-0.29124778509140015,-0.48031528294086456],\"z\":[-0.39041876792907715,-0.11589774489402771],\"type\":\"scatter3d\"},{\"line\":{\"color\":\"#ff6800\",\"width\":1},\"mode\":\"lines\",\"x\":[-0.0669904351234436,0.7674462199211121],\"y\":[-0.29124778509140015,-0.43190230429172516],\"z\":[-0.39041876792907715,0.14243382215499878],\"type\":\"scatter3d\"},{\"line\":{\"color\":\"#ff6800\",\"width\":1},\"mode\":\"lines\",\"x\":[-0.0669904351234436,0.5842880010604858],\"y\":[-0.29124778509140015,-0.3698408156633377],\"z\":[-0.39041876792907715,0.3643392324447632],\"type\":\"scatter3d\"},{\"line\":{\"color\":\"#ff6800\",\"width\":1},\"mode\":\"lines\",\"x\":[-0.0669904351234436,0.8750305771827698],\"y\":[-0.29124778509140015,-0.43238961696624756],\"z\":[-0.39041876792907715,-0.0859922468662262],\"type\":\"scatter3d\"},{\"line\":{\"color\":\"#ff6800\",\"width\":1},\"mode\":\"lines\",\"x\":[-0.0669904351234436,0.7562961578369141],\"y\":[-0.29124778509140015,-0.37955350428819656],\"z\":[-0.39041876792907715,0.170296311378479],\"type\":\"scatter3d\"},{\"line\":{\"color\":\"#ff6800\",\"width\":1},\"mode\":\"lines\",\"x\":[-0.0669904351234436,0.5667905211448669],\"y\":[-0.29124778509140015,-0.31862399727106094],\"z\":[-0.39041876792907715,0.3826092481613159],\"type\":\"scatter3d\"},{\"line\":{\"color\":\"#ff6800\",\"width\":1},\"mode\":\"lines\",\"x\":[-0.0669904351234436,0.8711566925048828],\"y\":[-0.29124778509140015,-0.383305661380291],\"z\":[-0.39041876792907715,-0.05664423108100891],\"type\":\"scatter3d\"},{\"line\":{\"color\":\"#ff6800\",\"width\":1},\"mode\":\"lines\",\"x\":[-0.0669904351234436,0.7422624826431274],\"y\":[-0.29124778509140015,-0.32726821303367615],\"z\":[-0.39041876792907715,0.195936381816864],\"type\":\"scatter3d\"},{\"line\":{\"color\":\"#ff6800\",\"width\":1},\"mode\":\"lines\",\"x\":[-0.0669904351234436,0.5478016138076782],\"y\":[-0.29124778509140015,-0.2687572259455919],\"z\":[-0.39041876792907715,0.39794981479644775],\"type\":\"scatter3d\"},{\"line\":{\"color\":\"#ff6800\",\"width\":1},\"mode\":\"lines\",\"x\":[-0.0669904351234436,0.8641323447227478],\"y\":[-0.29124778509140015,-0.33352283015847206],\"z\":[-0.39041876792907715,-0.028171241283416748],\"type\":\"scatter3d\"},{\"line\":{\"color\":\"#ff6800\",\"width\":1},\"mode\":\"lines\",\"x\":[-0.0669904351234436,0.7255879044532776],\"y\":[-0.29124778509140015,-0.27560432255268097],\"z\":[-0.39041876792907715,0.21915072202682495],\"type\":\"scatter3d\"},{\"line\":{\"color\":\"#ff6800\",\"width\":1},\"mode\":\"lines\",\"x\":[-0.0669904351234436,0.5276483297348022],\"y\":[-0.29124778509140015,-0.22062784433364868],\"z\":[-0.39041876792907715,0.4104667901992798],\"type\":\"scatter3d\"},{\"line\":{\"color\":\"#ff6800\",\"width\":1},\"mode\":\"lines\",\"x\":[-0.0669904351234436,0.8539840579032898],\"y\":[-0.29124778509140015,-0.28353252774104476],\"z\":[-0.39041876792907715,-0.000872194766998291],\"type\":\"scatter3d\"},{\"line\":{\"color\":\"#ff6800\",\"width\":1},\"mode\":\"lines\",\"x\":[-0.0669904351234436,0.7065864205360413],\"y\":[-0.29124778509140015,-0.22507694363594055],\"z\":[-0.39041876792907715,0.23981958627700806],\"type\":\"scatter3d\"},{\"line\":{\"color\":\"#ff6800\",\"width\":1},\"mode\":\"lines\",\"x\":[-0.0669904351234436,0.5066545009613037],\"y\":[-0.29124778509140015,-0.17453909665346146],\"z\":[-0.39041876792907715,0.42032819986343384],\"type\":\"scatter3d\"},{\"line\":{\"color\":\"#ff6800\",\"width\":1},\"mode\":\"lines\",\"x\":[-0.0669904351234436,0.8408317565917969],\"y\":[-0.29124778509140015,-0.23383428528904915],\"z\":[-0.39041876792907715,0.024987846612930298],\"type\":\"scatter3d\"},{\"line\":{\"color\":\"#ff6800\",\"width\":1},\"mode\":\"lines\",\"x\":[-0.0669904351234436,0.6856213212013245],\"y\":[-0.29124778509140015,-0.17613549530506134],\"z\":[-0.39041876792907715,0.2579057812690735],\"type\":\"scatter3d\"},{\"line\":{\"color\":\"#ff6800\",\"width\":1},\"mode\":\"lines\",\"x\":[-0.0669904351234436,0.4851263165473938],\"y\":[-0.29124778509140015,-0.13070917129516602],\"z\":[-0.39041876792907715,0.4277465343475342],\"type\":\"scatter3d\"},{\"line\":{\"color\":\"#ff6800\",\"width\":1},\"mode\":\"lines\",\"x\":[-0.0669904351234436,0.824881911277771],\"y\":[-0.29124778509140015,-0.18491114675998688],\"z\":[-0.39041876792907715,0.04919043183326721],\"type\":\"scatter3d\"},{\"line\":{\"color\":\"#ff6800\",\"width\":1},\"mode\":\"lines\",\"x\":[-0.0669904351234436,0.6630815267562866],\"y\":[-0.29124778509140015,-0.12914836406707764],\"z\":[-0.39041876792907715,0.27344775199890137],\"type\":\"scatter3d\"},{\"line\":{\"color\":\"#ff6800\",\"width\":1},\"mode\":\"lines\",\"x\":[-0.0669904351234436,0.9035352468490601],\"y\":[-0.29124778509140015,-0.19893664121627808],\"z\":[-0.39041876792907715,-0.16780096292495728],\"type\":\"scatter3d\"},{\"line\":{\"color\":\"#ff6800\",\"width\":1},\"mode\":\"lines\",\"x\":[-0.0669904351234436,0.8064142465591431],\"y\":[-0.29124778509140015,-0.1372070014476776],\"z\":[-0.39041876792907715,0.07157230377197266],\"type\":\"scatter3d\"},{\"line\":{\"color\":\"#ff6800\",\"width\":1},\"mode\":\"lines\",\"x\":[-0.0669904351234436,0.6393587589263916],\"y\":[-0.29124778509140015,-0.08439573645591736],\"z\":[-0.39041876792907715,0.28654730319976807],\"type\":\"scatter3d\"},{\"line\":{\"color\":\"#ff6800\",\"width\":1},\"mode\":\"lines\",\"x\":[-0.0669904351234436,0.8920642137527466],\"y\":[-0.29124778509140015,-0.15330743789672852],\"z\":[-0.39041876792907715,-0.1430593580007553],\"type\":\"scatter3d\"},{\"line\":{\"color\":\"#ff6800\",\"width\":1},\"mode\":\"lines\",\"x\":[-0.0669904351234436,0.7857628464698792],\"y\":[-0.29124778509140015,-0.09110823273658752],\"z\":[-0.39041876792907715,0.09202924370765686],\"type\":\"scatter3d\"},{\"line\":{\"color\":\"#800000\",\"width\":1},\"mode\":\"lines\",\"x\":[0.09959684312343597,0.544770285487175],\"y\":[-0.2258831411600113,-0.7251361459493637],\"z\":[-0.6518280506134033,0.09152060747146606],\"type\":\"scatter3d\"},{\"line\":{\"color\":\"#800000\",\"width\":1},\"mode\":\"lines\",\"x\":[0.09959684312343597,0.8051490038633347],\"y\":[-0.2258831411600113,-0.84624083340168],\"z\":[-0.6518280506134033,-0.3092602491378784],\"type\":\"scatter3d\"},{\"line\":{\"color\":\"#800000\",\"width\":1},\"mode\":\"lines\",\"x\":[0.09959684312343597,0.691689595580101],\"y\":[-0.2258831411600113,-0.7805013805627823],\"z\":[-0.6518280506134033,-0.06717002391815186],\"type\":\"scatter3d\"},{\"line\":{\"color\":\"#800000\",\"width\":1},\"mode\":\"lines\",\"x\":[0.09959684312343597,0.8823458403348923],\"y\":[-0.2258831411600113,-0.835967555642128],\"z\":[-0.6518280506134033,-0.5289410725235939],\"type\":\"scatter3d\"},{\"line\":{\"color\":\"#800000\",\"width\":1},\"mode\":\"lines\",\"x\":[0.09959684312343597,0.8186731785535812],\"y\":[-0.2258831411600113,-0.8093818575143814],\"z\":[-0.6518280506134033,-0.2743910849094391],\"type\":\"scatter3d\"},{\"line\":{\"color\":\"#800000\",\"width\":1},\"mode\":\"lines\",\"x\":[0.09959684312343597,0.6968378275632858],\"y\":[-0.2258831411600113,-0.7370468527078629],\"z\":[-0.6518280506134033,-0.03375440835952759],\"type\":\"scatter3d\"},{\"line\":{\"color\":\"#800000\",\"width\":1},\"mode\":\"lines\",\"x\":[0.09959684312343597,0.9012332409620285],\"y\":[-0.2258831411600113,-0.8038252741098404],\"z\":[-0.6518280506134033,-0.4989812523126602],\"type\":\"scatter3d\"},{\"line\":{\"color\":\"#800000\",\"width\":1},\"mode\":\"lines\",\"x\":[0.09959684312343597,0.8306113332509995],\"y\":[-0.2258831411600113,-0.7694305330514908],\"z\":[-0.6518280506134033,-0.23930633068084717],\"type\":\"scatter3d\"},{\"line\":{\"color\":\"#800000\",\"width\":1},\"mode\":\"lines\",\"x\":[0.09959684312343597,0.7002150863409042],\"y\":[-0.2258831411600113,-0.6912950426340103],\"z\":[-0.6518280506134033,-0.0017129182815551758],\"type\":\"scatter3d\"},{\"line\":{\"color\":\"#800000\",\"width\":1},\"mode\":\"lines\",\"x\":[0.09959684312343597,0.919064924120903],\"y\":[-0.2258831411600113,-0.7687095552682877],\"z\":[-0.6518280506134033,-0.467948317527771],\"type\":\"scatter3d\"},{\"line\":{\"color\":\"#800000\",\"width\":1},\"mode\":\"lines\",\"x\":[0.09959684312343597,0.8406572788953781],\"y\":[-0.2258831411600113,-0.726499155163765],\"z\":[-0.6518280506134033,-0.20437607169151306],\"type\":\"scatter3d\"},{\"line\":{\"color\":\"#800000\",\"width\":1},\"mode\":\"lines\",\"x\":[0.09959684312343597,0.7017171233892441],\"y\":[-0.2258831411600113,-0.6436020582914352],\"z\":[-0.6518280506134033,0.02858525514602661],\"type\":\"scatter3d\"},{\"line\":{\"color\":\"#800000\",\"width\":1},\"mode\":\"lines\",\"x\":[0.09959684312343597,0.9354852885007858],\"y\":[-0.2258831411600113,-0.7305865436792374],\"z\":[-0.6518280506134033,-0.4360383152961731],\"type\":\"scatter3d\"},{\"line\":{\"color\":\"#800000\",\"width\":1},\"mode\":\"lines\",\"x\":[0.09959684312343597,0.848528191447258],\"y\":[-0.2258831411600113,-0.6807984858751297],\"z\":[-0.6518280506134033,-0.17000436782836914],\"type\":\"scatter3d\"},{\"line\":{\"color\":\"#800000\",\"width\":1},\"mode\":\"lines\",\"x\":[0.09959684312343597,0.7012903541326523],\"y\":[-0.2258831411600113,-0.5943906158208847],\"z\":[-0.6518280506134033,0.05680966377258301],\"type\":\"scatter3d\"},{\"line\":{\"color\":\"#800000\",\"width\":1},\"mode\":\"lines\",\"x\":[0.09959684312343597,0.9501229971647263],\"y\":[-0.2258831411600113,-0.6894979625940323],\"z\":[-0.6518280506134033,-0.4035002589225769],\"type\":\"scatter3d\"},{\"line\":{\"color\":\"#800000\",\"width\":1},\"mode\":\"lines\",\"x\":[0.09959684312343597,0.8539841622114182],\"y\":[-0.2258831411600113,-0.6326409131288528],\"z\":[-0.6518280506134033,-0.13661152124404907],\"type\":\"scatter3d\"},{\"line\":{\"color\":\"#800000\",\"width\":1},\"mode\":\"lines\",\"x\":[0.09959684312343597,0.6989360302686691],\"y\":[-0.2258831411600113,-0.5441316813230515],\"z\":[-0.6518280506134033,0.08268582820892334],\"type\":\"scatter3d\"},{\"line\":{\"color\":\"#800000\",\"width\":1},\"mode\":\"lines\",\"x\":[0.09959684312343597,0.9626084417104721],\"y\":[-0.2258831411600113,-0.6455742567777634],\"z\":[-0.6518280506134033,-0.3706333041191101],\"type\":\"scatter3d\"},{\"line\":{\"color\":\"#800000\",\"width\":1},\"mode\":\"lines\",\"x\":[0.09959684312343597,0.8568462580442429],\"y\":[-0.2258831411600113,-0.5824345499277115],\"z\":[-0.6518280506134033,-0.10461276769638062],\"type\":\"scatter3d\"},{\"line\":{\"color\":\"#800000\",\"width\":1},\"mode\":\"lines\",\"x\":[0.09959684312343597,0.6947104185819626],\"y\":[-0.2258831411600113,-0.4933224469423294],\"z\":[-0.6518280506134033,0.10600847005844116],\"type\":\"scatter3d\"},{\"line\":{\"color\":\"#800000\",\"width\":1},\"mode\":\"lines\",\"x\":[0.09959684312343597,0.9725944250822067],\"y\":[-0.2258831411600113,-0.5990434736013412],\"z\":[-0.6518280506134033,-0.33777913451194763],\"type\":\"scatter3d\"},{\"line\":{\"color\":\"#800000\",\"width\":1},\"mode\":\"lines\",\"x\":[0.09959684312343597,0.8570113629102707],\"y\":[-0.2258831411600113,-0.5306685119867325],\"z\":[-0.6518280506134033,-0.07439464330673218],\"type\":\"scatter3d\"},{\"line\":{\"color\":\"#800000\",\"width\":1},\"mode\":\"lines\",\"x\":[0.09959684312343597,0.6887205690145493],\"y\":[-0.2258831411600113,-0.44246208667755127],\"z\":[-0.6518280506134033,0.12664926052093506],\"type\":\"scatter3d\"},{\"line\":{\"color\":\"#800000\",\"width\":1},\"mode\":\"lines\",\"x\":[0.09959684312343597,0.9797796458005905],\"y\":[-0.2258831411600113,-0.550233319401741],\"z\":[-0.6518280506134033,-0.3053091764450073],\"type\":\"scatter3d\"},{\"line\":{\"color\":\"#800000\",\"width\":1},\"mode\":\"lines\",\"x\":[0.09959684312343597,0.8544612377882004],\"y\":[-0.2258831411600113,-0.4778902679681778],\"z\":[-0.6518280506134033,-0.04629325866699219],\"type\":\"scatter3d\"},{\"line\":{\"color\":\"#800000\",\"width\":1},\"mode\":\"lines\",\"x\":[0.09959684312343597,1.0399695485830307],\"y\":[-0.2258831411600113,-0.5483305901288986],\"z\":[-0.6518280506134033,-0.5435372069478035],\"type\":\"scatter3d\"},{\"line\":{\"color\":\"#800000\",\"width\":1},\"mode\":\"lines\",\"x\":[0.09959684312343597,0.983931228518486],\"y\":[-0.2258831411600113,-0.49956513941287994],\"z\":[-0.6518280506134033,-0.27360716462135315],\"type\":\"scatter3d\"},{\"line\":{\"color\":\"#800000\",\"width\":1},\"mode\":\"lines\",\"x\":[0.09959684312343597,0.8492643684148788],\"y\":[-0.2258831411600113,-0.42467711865901947],\"z\":[-0.6518280506134033,-0.020575523376464844],\"type\":\"scatter3d\"},{\"line\":{\"color\":\"#800000\",\"width\":1},\"mode\":\"lines\",\"x\":[0.09959684312343597,1.0505990236997604],\"y\":[-0.2258831411600113,-0.5026945918798447],\"z\":[-0.6518280506134033,-0.5140948593616486],\"type\":\"scatter3d\"},{\"line\":{\"color\":\"#800000\",\"width\":1},\"mode\":\"lines\",\"x\":[0.09959684312343597,0.9849039167165756],\"y\":[-0.2258831411600113,-0.4475385546684265],\"z\":[-0.6518280506134033,-0.24304893612861633],\"type\":\"scatter3d\"},{\"line\":{\"color\":\"#800000\",\"width\":1},\"mode\":\"lines\",\"x\":[0.09959684312343597,0.8415702432394028],\"y\":[-0.2258831411600113,-0.37160514295101166],\"z\":[-0.6518280506134033,0.0025730133056640625],\"type\":\"scatter3d\"},{\"line\":{\"color\":\"#800000\",\"width\":1},\"mode\":\"lines\",\"x\":[0.09959684312343597,1.0584460943937302],\"y\":[-0.2258831411600113,-0.45523105561733246],\"z\":[-0.6518280506134033,-0.48447276651859283],\"type\":\"scatter3d\"},{\"line\":{\"color\":\"#800000\",\"width\":1},\"mode\":\"lines\",\"x\":[0.09959684312343597,0.9826530665159225],\"y\":[-0.2258831411600113,-0.3947083204984665],\"z\":[-0.6518280506134033,-0.21398112177848816],\"type\":\"scatter3d\"},{\"line\":{\"color\":\"#800000\",\"width\":1},\"mode\":\"lines\",\"x\":[0.09959684312343597,0.8315969556570053],\"y\":[-0.2258831411600113,-0.31921979039907455],\"z\":[-0.6518280506134033,0.023052871227264404],\"type\":\"scatter3d\"},{\"line\":{\"color\":\"#800000\",\"width\":1},\"mode\":\"lines\",\"x\":[0.09959684312343597,1.0632797330617905],\"y\":[-0.2258831411600113,-0.4063282161951065],\"z\":[-0.6518280506134033,-0.4549652189016342],\"type\":\"scatter3d\"},{\"line\":{\"color\":\"#800000\",\"width\":1},\"mode\":\"lines\",\"x\":[0.09959684312343597,0.9772384017705917],\"y\":[-0.2258831411600113,-0.3416551351547241],\"z\":[-0.6518280506134033,-0.18670201301574707],\"type\":\"scatter3d\"},{\"line\":{\"color\":\"#800000\",\"width\":1},\"mode\":\"lines\",\"x\":[0.09959684312343597,0.8196141570806503],\"y\":[-0.2258831411600113,-0.2680109702050686],\"z\":[-0.6518280506134033,0.04084819555282593],\"type\":\"scatter3d\"},{\"line\":{\"color\":\"#800000\",\"width\":1},\"mode\":\"lines\",\"x\":[0.09959684312343597,1.064947709441185],\"y\":[-0.2258831411600113,-0.35643407702445984],\"z\":[-0.6518280506134033,-0.42587612569332123],\"type\":\"scatter3d\"},{\"line\":{\"color\":\"#800000\",\"width\":1},\"mode\":\"lines\",\"x\":[0.09959684312343597,0.9688194841146469],\"y\":[-0.2258831411600113,-0.2889542877674103],\"z\":[-0.6518280506134033,-0.16144636273384094],\"type\":\"scatter3d\"},{\"line\":{\"color\":\"#800000\",\"width\":1},\"mode\":\"lines\",\"x\":[0.09959684312343597,0.8059239238500595],\"y\":[-0.2258831411600113,-0.21839523687958717],\"z\":[-0.6518280506134033,0.056018054485321045],\"type\":\"scatter3d\"},{\"line\":{\"color\":\"#800000\",\"width\":1},\"mode\":\"lines\",\"x\":[0.09959684312343597,1.0633887499570847],\"y\":[-0.2258831411600113,-0.3060370236635208],\"z\":[-0.6518280506134033,-0.3975042700767517],\"type\":\"scatter3d\"},{\"line\":{\"color\":\"#800000\",\"width\":1},\"mode\":\"lines\",\"x\":[0.09959684312343597,0.9576415866613388],\"y\":[-0.2258831411600113,-0.2371458737179637],\"z\":[-0.6518280506134033,-0.13837653398513794],\"type\":\"scatter3d\"},{\"line\":{\"color\":\"#800000\",\"width\":1},\"mode\":\"lines\",\"x\":[0.09959684312343597,0.7908416241407394],\"y\":[-0.2258831411600113,-0.17070580273866653],\"z\":[-0.6518280506134033,0.06868302822113037],\"type\":\"scatter3d\"},{\"line\":{\"color\":\"#800000\",\"width\":1},\"mode\":\"lines\",\"x\":[0.09959684312343597,1.0586378425359726],\"y\":[-0.2258831411600113,-0.2556424234062433],\"z\":[-0.6518280506134033,-0.3701280951499939],\"type\":\"scatter3d\"},{\"line\":{\"color\":\"#800000\",\"width\":1},\"mode\":\"lines\",\"x\":[0.09959684312343597,0.944016620516777],\"y\":[-0.2258831411600113,-0.1867099553346634],\"z\":[-0.6518280506134033,-0.11758017539978027],\"type\":\"scatter3d\"},{\"line\":{\"color\":\"#800000\",\"width\":1},\"mode\":\"lines\",\"x\":[0.09959684312343597,0.7746792286634445],\"y\":[-0.2258831411600113,-0.12519007176160812],\"z\":[-0.6518280506134033,0.07901036739349365],\"type\":\"scatter3d\"},{\"line\":{\"color\":\"#800000\",\"width\":1},\"mode\":\"lines\",\"x\":[0.09959684312343597,1.050823375582695],\"y\":[-0.2258831411600113,-0.20574759505689144],\"z\":[-0.6518280506134033,-0.3439924120903015],\"type\":\"scatter3d\"},{\"line\":{\"color\":\"#800000\",\"width\":1},\"mode\":\"lines\",\"x\":[0.09959684312343597,0.9282995313405991],\"y\":[-0.2258831411600113,-0.13804905861616135],\"z\":[-0.6518280506134033,-0.09907394647598267],\"type\":\"scatter3d\"},{\"line\":{\"color\":\"#800000\",\"width\":1},\"mode\":\"lines\",\"x\":[0.09959684312343597,1.0962381809949875],\"y\":[-0.2258831411600113,-0.22442627663258463],\"z\":[-0.6518280506134033,-0.5699501857161522],\"type\":\"scatter3d\"},{\"line\":{\"color\":\"#800000\",\"width\":1},\"mode\":\"lines\",\"x\":[0.09959684312343597,1.0401571840047836],\"y\":[-0.2258831411600113,-0.15681809186935425],\"z\":[-0.6518280506134033,-0.31929776072502136],\"type\":\"scatter3d\"},{\"line\":{\"color\":\"#800000\",\"width\":1},\"mode\":\"lines\",\"x\":[0.09959684312343597,0.910865530371666],\"y\":[-0.2258831411600113,-0.0914788544178009],\"z\":[-0.6518280506134033,-0.08281248807907104],\"type\":\"scatter3d\"},{\"line\":{\"color\":\"#800000\",\"width\":1},\"mode\":\"lines\",\"x\":[0.09959684312343597,1.0926139801740646],\"y\":[-0.2258831411600113,-0.17822366207838058],\"z\":[-0.6518280506134033,-0.5439129248261452],\"type\":\"scatter3d\"},{\"line\":{\"color\":\"#800000\",\"width\":1},\"mode\":\"lines\",\"x\":[0.09959684312343597,1.0269185155630112],\"y\":[-0.2258831411600113,-0.10926783084869385],\"z\":[-0.6518280506134033,-0.2961941957473755],\"type\":\"scatter3d\"}],                        {\"template\":{\"data\":{\"histogram2dcontour\":[{\"type\":\"histogram2dcontour\",\"colorbar\":{\"outlinewidth\":0,\"ticks\":\"\"},\"colorscale\":[[0.0,\"#0d0887\"],[0.1111111111111111,\"#46039f\"],[0.2222222222222222,\"#7201a8\"],[0.3333333333333333,\"#9c179e\"],[0.4444444444444444,\"#bd3786\"],[0.5555555555555556,\"#d8576b\"],[0.6666666666666666,\"#ed7953\"],[0.7777777777777778,\"#fb9f3a\"],[0.8888888888888888,\"#fdca26\"],[1.0,\"#f0f921\"]]}],\"choropleth\":[{\"type\":\"choropleth\",\"colorbar\":{\"outlinewidth\":0,\"ticks\":\"\"}}],\"histogram2d\":[{\"type\":\"histogram2d\",\"colorbar\":{\"outlinewidth\":0,\"ticks\":\"\"},\"colorscale\":[[0.0,\"#0d0887\"],[0.1111111111111111,\"#46039f\"],[0.2222222222222222,\"#7201a8\"],[0.3333333333333333,\"#9c179e\"],[0.4444444444444444,\"#bd3786\"],[0.5555555555555556,\"#d8576b\"],[0.6666666666666666,\"#ed7953\"],[0.7777777777777778,\"#fb9f3a\"],[0.8888888888888888,\"#fdca26\"],[1.0,\"#f0f921\"]]}],\"heatmap\":[{\"type\":\"heatmap\",\"colorbar\":{\"outlinewidth\":0,\"ticks\":\"\"},\"colorscale\":[[0.0,\"#0d0887\"],[0.1111111111111111,\"#46039f\"],[0.2222222222222222,\"#7201a8\"],[0.3333333333333333,\"#9c179e\"],[0.4444444444444444,\"#bd3786\"],[0.5555555555555556,\"#d8576b\"],[0.6666666666666666,\"#ed7953\"],[0.7777777777777778,\"#fb9f3a\"],[0.8888888888888888,\"#fdca26\"],[1.0,\"#f0f921\"]]}],\"heatmapgl\":[{\"type\":\"heatmapgl\",\"colorbar\":{\"outlinewidth\":0,\"ticks\":\"\"},\"colorscale\":[[0.0,\"#0d0887\"],[0.1111111111111111,\"#46039f\"],[0.2222222222222222,\"#7201a8\"],[0.3333333333333333,\"#9c179e\"],[0.4444444444444444,\"#bd3786\"],[0.5555555555555556,\"#d8576b\"],[0.6666666666666666,\"#ed7953\"],[0.7777777777777778,\"#fb9f3a\"],[0.8888888888888888,\"#fdca26\"],[1.0,\"#f0f921\"]]}],\"contourcarpet\":[{\"type\":\"contourcarpet\",\"colorbar\":{\"outlinewidth\":0,\"ticks\":\"\"}}],\"contour\":[{\"type\":\"contour\",\"colorbar\":{\"outlinewidth\":0,\"ticks\":\"\"},\"colorscale\":[[0.0,\"#0d0887\"],[0.1111111111111111,\"#46039f\"],[0.2222222222222222,\"#7201a8\"],[0.3333333333333333,\"#9c179e\"],[0.4444444444444444,\"#bd3786\"],[0.5555555555555556,\"#d8576b\"],[0.6666666666666666,\"#ed7953\"],[0.7777777777777778,\"#fb9f3a\"],[0.8888888888888888,\"#fdca26\"],[1.0,\"#f0f921\"]]}],\"surface\":[{\"type\":\"surface\",\"colorbar\":{\"outlinewidth\":0,\"ticks\":\"\"},\"colorscale\":[[0.0,\"#0d0887\"],[0.1111111111111111,\"#46039f\"],[0.2222222222222222,\"#7201a8\"],[0.3333333333333333,\"#9c179e\"],[0.4444444444444444,\"#bd3786\"],[0.5555555555555556,\"#d8576b\"],[0.6666666666666666,\"#ed7953\"],[0.7777777777777778,\"#fb9f3a\"],[0.8888888888888888,\"#fdca26\"],[1.0,\"#f0f921\"]]}],\"mesh3d\":[{\"type\":\"mesh3d\",\"colorbar\":{\"outlinewidth\":0,\"ticks\":\"\"}}],\"scatter\":[{\"fillpattern\":{\"fillmode\":\"overlay\",\"size\":10,\"solidity\":0.2},\"type\":\"scatter\"}],\"parcoords\":[{\"type\":\"parcoords\",\"line\":{\"colorbar\":{\"outlinewidth\":0,\"ticks\":\"\"}}}],\"scatterpolargl\":[{\"type\":\"scatterpolargl\",\"marker\":{\"colorbar\":{\"outlinewidth\":0,\"ticks\":\"\"}}}],\"bar\":[{\"error_x\":{\"color\":\"#2a3f5f\"},\"error_y\":{\"color\":\"#2a3f5f\"},\"marker\":{\"line\":{\"color\":\"#E5ECF6\",\"width\":0.5},\"pattern\":{\"fillmode\":\"overlay\",\"size\":10,\"solidity\":0.2}},\"type\":\"bar\"}],\"scattergeo\":[{\"type\":\"scattergeo\",\"marker\":{\"colorbar\":{\"outlinewidth\":0,\"ticks\":\"\"}}}],\"scatterpolar\":[{\"type\":\"scatterpolar\",\"marker\":{\"colorbar\":{\"outlinewidth\":0,\"ticks\":\"\"}}}],\"histogram\":[{\"marker\":{\"pattern\":{\"fillmode\":\"overlay\",\"size\":10,\"solidity\":0.2}},\"type\":\"histogram\"}],\"scattergl\":[{\"type\":\"scattergl\",\"marker\":{\"colorbar\":{\"outlinewidth\":0,\"ticks\":\"\"}}}],\"scatter3d\":[{\"type\":\"scatter3d\",\"line\":{\"colorbar\":{\"outlinewidth\":0,\"ticks\":\"\"}},\"marker\":{\"colorbar\":{\"outlinewidth\":0,\"ticks\":\"\"}}}],\"scattermapbox\":[{\"type\":\"scattermapbox\",\"marker\":{\"colorbar\":{\"outlinewidth\":0,\"ticks\":\"\"}}}],\"scatterternary\":[{\"type\":\"scatterternary\",\"marker\":{\"colorbar\":{\"outlinewidth\":0,\"ticks\":\"\"}}}],\"scattercarpet\":[{\"type\":\"scattercarpet\",\"marker\":{\"colorbar\":{\"outlinewidth\":0,\"ticks\":\"\"}}}],\"carpet\":[{\"aaxis\":{\"endlinecolor\":\"#2a3f5f\",\"gridcolor\":\"white\",\"linecolor\":\"white\",\"minorgridcolor\":\"white\",\"startlinecolor\":\"#2a3f5f\"},\"baxis\":{\"endlinecolor\":\"#2a3f5f\",\"gridcolor\":\"white\",\"linecolor\":\"white\",\"minorgridcolor\":\"white\",\"startlinecolor\":\"#2a3f5f\"},\"type\":\"carpet\"}],\"table\":[{\"cells\":{\"fill\":{\"color\":\"#EBF0F8\"},\"line\":{\"color\":\"white\"}},\"header\":{\"fill\":{\"color\":\"#C8D4E3\"},\"line\":{\"color\":\"white\"}},\"type\":\"table\"}],\"barpolar\":[{\"marker\":{\"line\":{\"color\":\"#E5ECF6\",\"width\":0.5},\"pattern\":{\"fillmode\":\"overlay\",\"size\":10,\"solidity\":0.2}},\"type\":\"barpolar\"}],\"pie\":[{\"automargin\":true,\"type\":\"pie\"}]},\"layout\":{\"autotypenumbers\":\"strict\",\"colorway\":[\"#636efa\",\"#EF553B\",\"#00cc96\",\"#ab63fa\",\"#FFA15A\",\"#19d3f3\",\"#FF6692\",\"#B6E880\",\"#FF97FF\",\"#FECB52\"],\"font\":{\"color\":\"#2a3f5f\"},\"hovermode\":\"closest\",\"hoverlabel\":{\"align\":\"left\"},\"paper_bgcolor\":\"white\",\"plot_bgcolor\":\"#E5ECF6\",\"polar\":{\"bgcolor\":\"#E5ECF6\",\"angularaxis\":{\"gridcolor\":\"white\",\"linecolor\":\"white\",\"ticks\":\"\"},\"radialaxis\":{\"gridcolor\":\"white\",\"linecolor\":\"white\",\"ticks\":\"\"}},\"ternary\":{\"bgcolor\":\"#E5ECF6\",\"aaxis\":{\"gridcolor\":\"white\",\"linecolor\":\"white\",\"ticks\":\"\"},\"baxis\":{\"gridcolor\":\"white\",\"linecolor\":\"white\",\"ticks\":\"\"},\"caxis\":{\"gridcolor\":\"white\",\"linecolor\":\"white\",\"ticks\":\"\"}},\"coloraxis\":{\"colorbar\":{\"outlinewidth\":0,\"ticks\":\"\"}},\"colorscale\":{\"sequential\":[[0.0,\"#0d0887\"],[0.1111111111111111,\"#46039f\"],[0.2222222222222222,\"#7201a8\"],[0.3333333333333333,\"#9c179e\"],[0.4444444444444444,\"#bd3786\"],[0.5555555555555556,\"#d8576b\"],[0.6666666666666666,\"#ed7953\"],[0.7777777777777778,\"#fb9f3a\"],[0.8888888888888888,\"#fdca26\"],[1.0,\"#f0f921\"]],\"sequentialminus\":[[0.0,\"#0d0887\"],[0.1111111111111111,\"#46039f\"],[0.2222222222222222,\"#7201a8\"],[0.3333333333333333,\"#9c179e\"],[0.4444444444444444,\"#bd3786\"],[0.5555555555555556,\"#d8576b\"],[0.6666666666666666,\"#ed7953\"],[0.7777777777777778,\"#fb9f3a\"],[0.8888888888888888,\"#fdca26\"],[1.0,\"#f0f921\"]],\"diverging\":[[0,\"#8e0152\"],[0.1,\"#c51b7d\"],[0.2,\"#de77ae\"],[0.3,\"#f1b6da\"],[0.4,\"#fde0ef\"],[0.5,\"#f7f7f7\"],[0.6,\"#e6f5d0\"],[0.7,\"#b8e186\"],[0.8,\"#7fbc41\"],[0.9,\"#4d9221\"],[1,\"#276419\"]]},\"xaxis\":{\"gridcolor\":\"white\",\"linecolor\":\"white\",\"ticks\":\"\",\"title\":{\"standoff\":15},\"zerolinecolor\":\"white\",\"automargin\":true,\"zerolinewidth\":2},\"yaxis\":{\"gridcolor\":\"white\",\"linecolor\":\"white\",\"ticks\":\"\",\"title\":{\"standoff\":15},\"zerolinecolor\":\"white\",\"automargin\":true,\"zerolinewidth\":2},\"scene\":{\"xaxis\":{\"backgroundcolor\":\"#E5ECF6\",\"gridcolor\":\"white\",\"linecolor\":\"white\",\"showbackground\":true,\"ticks\":\"\",\"zerolinecolor\":\"white\",\"gridwidth\":2},\"yaxis\":{\"backgroundcolor\":\"#E5ECF6\",\"gridcolor\":\"white\",\"linecolor\":\"white\",\"showbackground\":true,\"ticks\":\"\",\"zerolinecolor\":\"white\",\"gridwidth\":2},\"zaxis\":{\"backgroundcolor\":\"#E5ECF6\",\"gridcolor\":\"white\",\"linecolor\":\"white\",\"showbackground\":true,\"ticks\":\"\",\"zerolinecolor\":\"white\",\"gridwidth\":2}},\"shapedefaults\":{\"line\":{\"color\":\"#2a3f5f\"}},\"annotationdefaults\":{\"arrowcolor\":\"#2a3f5f\",\"arrowhead\":0,\"arrowwidth\":1},\"geo\":{\"bgcolor\":\"white\",\"landcolor\":\"#E5ECF6\",\"subunitcolor\":\"white\",\"showland\":true,\"showlakes\":true,\"lakecolor\":\"white\"},\"title\":{\"x\":0.05},\"mapbox\":{\"style\":\"light\"}}},\"scene\":{\"xaxis\":{\"gridcolor\":\"white\",\"showbackground\":false,\"color\":\"white\"},\"yaxis\":{\"gridcolor\":\"white\",\"showbackground\":false,\"color\":\"white\"},\"zaxis\":{\"gridcolor\":\"white\",\"showbackground\":false,\"color\":\"white\"},\"aspectmode\":\"data\",\"bgcolor\":\"rgba(0,0,0,0)\"},\"showlegend\":false,\"paper_bgcolor\":\"rgba(0,0,0,0)\",\"width\":800,\"height\":800},                        {\"responsive\": true}                    ).then(function(){\n",
       "                            \n",
       "var gd = document.getElementById('08a8e37d-6d91-4c8f-a724-28af37b1c0a8');\n",
       "var x = new MutationObserver(function (mutations, observer) {{\n",
       "        var display = window.getComputedStyle(gd).display;\n",
       "        if (!display || display === 'none') {{\n",
       "            console.log([gd, 'removed!']);\n",
       "            Plotly.purge(gd);\n",
       "            observer.disconnect();\n",
       "        }}\n",
       "}});\n",
       "\n",
       "// Listen for the removal of the full notebook cells\n",
       "var notebookContainer = gd.closest('#notebook-container');\n",
       "if (notebookContainer) {{\n",
       "    x.observe(notebookContainer, {childList: true});\n",
       "}}\n",
       "\n",
       "// Listen for the clearing of the current output cell\n",
       "var outputEl = gd.closest('.output');\n",
       "if (outputEl) {{\n",
       "    x.observe(outputEl, {childList: true});\n",
       "}}\n",
       "\n",
       "                        })                };                });            </script>        </div>"
      ]
     },
     "metadata": {},
     "output_type": "display_data"
    }
   ],
   "source": [
    "reload(slam)\n",
    "slam.visualize_camera_poses(data=data)"
   ]
  }
 ],
 "metadata": {
  "kernelspec": {
   "display_name": "venv",
   "language": "python",
   "name": "python3"
  },
  "language_info": {
   "codemirror_mode": {
    "name": "ipython",
    "version": 3
   },
   "file_extension": ".py",
   "mimetype": "text/x-python",
   "name": "python",
   "nbconvert_exporter": "python",
   "pygments_lexer": "ipython3",
   "version": "3.9.6"
  }
 },
 "nbformat": 4,
 "nbformat_minor": 2
}
