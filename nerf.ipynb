{
 "cells": [
  {
   "cell_type": "code",
   "execution_count": 12,
   "metadata": {},
   "outputs": [],
   "source": [
    "import torch\n",
    "import numpy as np\n",
    "import slam\n",
    "import nerf\n",
    "import matplotlib.pyplot as plt\n",
    "from importlib import reload\n",
    "from torch.utils.data import DataLoader\n",
    "import pandas as pd\n",
    "torch.set_printoptions(linewidth=1000)"
   ]
  },
  {
   "cell_type": "code",
   "execution_count": 13,
   "metadata": {},
   "outputs": [
    {
     "name": "stdout",
     "output_type": "stream",
     "text": [
      "Loaded SuperPoint model\n",
      "Loaded SuperGlue model (\"indoor\" weights)\n"
     ]
    }
   ],
   "source": [
    "model, matching = slam.get_models()"
   ]
  },
  {
   "cell_type": "code",
   "execution_count": 14,
   "metadata": {},
   "outputs": [
    {
     "data": {
      "text/html": [
       "        <script type=\"text/javascript\">\n",
       "        window.PlotlyConfig = {MathJaxConfig: 'local'};\n",
       "        if (window.MathJax && window.MathJax.Hub && window.MathJax.Hub.Config) {window.MathJax.Hub.Config({SVG: {font: \"STIX-Web\"}});}\n",
       "        if (typeof require !== 'undefined') {\n",
       "        require.undef(\"plotly\");\n",
       "        requirejs.config({\n",
       "            paths: {\n",
       "                'plotly': ['https://cdn.plot.ly/plotly-2.32.0.min']\n",
       "            }\n",
       "        });\n",
       "        require(['plotly'], function(Plotly) {\n",
       "            window._Plotly = Plotly;\n",
       "        });\n",
       "        }\n",
       "        </script>\n",
       "        "
      ]
     },
     "metadata": {},
     "output_type": "display_data"
    },
    {
     "data": {
      "text/plain": [
       "tensor([[ 0.0000,  0.0000,  0.0000, -0.3569, -0.3569,  0.8633,  0.5882,  0.5725,  0.5216],\n",
       "        [ 0.0000,  0.0000,  0.0000, -0.3557, -0.3571,  0.8637,  0.5333,  0.5216,  0.4667],\n",
       "        [ 0.0000,  0.0000,  0.0000, -0.3545, -0.3572,  0.8641,  0.4863,  0.4588,  0.3843],\n",
       "        [ 0.0000,  0.0000,  0.0000, -0.3533, -0.3574,  0.8646,  0.8157,  0.7765,  0.5804],\n",
       "        [ 0.0000,  0.0000,  0.0000, -0.3521, -0.3576,  0.8650,  0.8157,  0.7882,  0.5765],\n",
       "        [ 0.0000,  0.0000,  0.0000, -0.3509, -0.3578,  0.8654,  0.5333,  0.5294,  0.4627],\n",
       "        [ 0.0000,  0.0000,  0.0000, -0.3496, -0.3579,  0.8658,  0.4588,  0.4588,  0.4235],\n",
       "        [ 0.0000,  0.0000,  0.0000, -0.3484, -0.3581,  0.8662,  0.4784,  0.4667,  0.4353],\n",
       "        [ 0.0000,  0.0000,  0.0000, -0.3472, -0.3583,  0.8666,  0.4588,  0.4510,  0.4235],\n",
       "        [ 0.0000,  0.0000,  0.0000, -0.3460, -0.3585,  0.8671,  0.4588,  0.4510,  0.4196]])"
      ]
     },
     "execution_count": 14,
     "metadata": {},
     "output_type": "execute_result"
    }
   ],
   "source": [
    "reload(slam)\n",
    "data = slam.images_to_nerf_inputs(\n",
    "    image_prefix=\"indoor2\", \n",
    "    model=model,\n",
    "    matching=matching,\n",
    "    force_reload=True)\n",
    "data.shape\n",
    "data[:10, :]"
   ]
  },
  {
   "cell_type": "code",
   "execution_count": 15,
   "metadata": {},
   "outputs": [],
   "source": [
    "data_loader = DataLoader(data, batch_size=2**14, shuffle=True)"
   ]
  },
  {
   "cell_type": "code",
   "execution_count": 54,
   "metadata": {},
   "outputs": [
    {
     "data": {
      "text/plain": [
       "NeRFModel(\n",
       "  (pts_linears): ModuleList(\n",
       "    (0): Linear(in_features=3, out_features=256, bias=True)\n",
       "    (1-3): 3 x Linear(in_features=256, out_features=256, bias=True)\n",
       "    (4): Linear(in_features=259, out_features=256, bias=True)\n",
       "    (5-7): 3 x Linear(in_features=256, out_features=256, bias=True)\n",
       "  )\n",
       "  (views_linears): ModuleList(\n",
       "    (0): Linear(in_features=259, out_features=128, bias=True)\n",
       "  )\n",
       "  (feature_linear): Linear(in_features=256, out_features=256, bias=True)\n",
       "  (alpha_linear): Linear(in_features=256, out_features=1, bias=True)\n",
       "  (rgb_linear): Linear(in_features=128, out_features=3, bias=True)\n",
       ")"
      ]
     },
     "execution_count": 54,
     "metadata": {},
     "output_type": "execute_result"
    }
   ],
   "source": [
    "reload(nerf)\n",
    "positions, directions, target_rgb = nerf.preprocess_data(data, 64, 1.0, 4.5)\n",
    "nerf_model = nerf.NeRFModel()\n",
    "nerf_model.eval()"
   ]
  },
  {
   "cell_type": "code",
   "execution_count": 55,
   "metadata": {},
   "outputs": [
    {
     "name": "stdout",
     "output_type": "stream",
     "text": [
      "input_pts shape: torch.Size([1048576, 3])\n",
      "input_dirs shape: torch.Size([1048576, 3])\n",
      "h shape after layer 0: torch.Size([1048576, 256])\n",
      "h shape after layer 1: torch.Size([1048576, 256])\n",
      "h shape after layer 2: torch.Size([1048576, 256])\n",
      "h shape after layer 3: torch.Size([1048576, 256])\n",
      "h shape after skip connection at layer 4: torch.Size([1048576, 259])\n",
      "h shape after layer 4: torch.Size([1048576, 256])\n",
      "h shape after layer 5: torch.Size([1048576, 256])\n",
      "h shape after layer 6: torch.Size([1048576, 256])\n",
      "h shape after layer 7: torch.Size([1048576, 256])\n",
      "h shape after concatenating feature and input_dirs: torch.Size([1048576, 259])\n"
     ]
    },
    {
     "ename": "RuntimeError",
     "evalue": "shape '[16384, 9]' is invalid for input of size 3145728",
     "output_type": "error",
     "traceback": [
      "\u001b[0;31m---------------------------------------------------------------------------\u001b[0m",
      "\u001b[0;31mRuntimeError\u001b[0m                              Traceback (most recent call last)",
      "Cell \u001b[0;32mIn[55], line 1\u001b[0m\n\u001b[0;32m----> 1\u001b[0m \u001b[43mnerf\u001b[49m\u001b[38;5;241;43m.\u001b[39;49m\u001b[43mtrain\u001b[49m\u001b[43m(\u001b[49m\u001b[43mmodel\u001b[49m\u001b[38;5;241;43m=\u001b[39;49m\u001b[43mnerf_model\u001b[49m\u001b[43m,\u001b[49m\u001b[43m \u001b[49m\u001b[43mdata_loader\u001b[49m\u001b[38;5;241;43m=\u001b[39;49m\u001b[43mdata_loader\u001b[49m\u001b[43m)\u001b[49m\n",
      "File \u001b[0;32m~/Documents/GitHub/AutoNeRF/venv/lib/python3.10/site-packages/torch/utils/_contextlib.py:115\u001b[0m, in \u001b[0;36mcontext_decorator.<locals>.decorate_context\u001b[0;34m(*args, **kwargs)\u001b[0m\n\u001b[1;32m    112\u001b[0m \u001b[38;5;129m@functools\u001b[39m\u001b[38;5;241m.\u001b[39mwraps(func)\n\u001b[1;32m    113\u001b[0m \u001b[38;5;28;01mdef\u001b[39;00m \u001b[38;5;21mdecorate_context\u001b[39m(\u001b[38;5;241m*\u001b[39margs, \u001b[38;5;241m*\u001b[39m\u001b[38;5;241m*\u001b[39mkwargs):\n\u001b[1;32m    114\u001b[0m     \u001b[38;5;28;01mwith\u001b[39;00m ctx_factory():\n\u001b[0;32m--> 115\u001b[0m         \u001b[38;5;28;01mreturn\u001b[39;00m \u001b[43mfunc\u001b[49m\u001b[43m(\u001b[49m\u001b[38;5;241;43m*\u001b[39;49m\u001b[43margs\u001b[49m\u001b[43m,\u001b[49m\u001b[43m \u001b[49m\u001b[38;5;241;43m*\u001b[39;49m\u001b[38;5;241;43m*\u001b[39;49m\u001b[43mkwargs\u001b[49m\u001b[43m)\u001b[49m\n",
      "File \u001b[0;32m~/Documents/GitHub/AutoNeRF/nerf.py:153\u001b[0m, in \u001b[0;36mtrain\u001b[0;34m(model, data_loader)\u001b[0m\n\u001b[1;32m    150\u001b[0m positions, directions, target_rgb \u001b[38;5;241m=\u001b[39m preprocess_data(batch, num_samples, near, far)\n\u001b[1;32m    152\u001b[0m model_output \u001b[38;5;241m=\u001b[39m model(torch\u001b[38;5;241m.\u001b[39mcat([positions, directions], dim\u001b[38;5;241m=\u001b[39m\u001b[38;5;241m-\u001b[39m\u001b[38;5;241m1\u001b[39m))\n\u001b[0;32m--> 153\u001b[0m rgb_output \u001b[38;5;241m=\u001b[39m \u001b[43mmodel_output\u001b[49m\u001b[43m[\u001b[49m\u001b[43m:\u001b[49m\u001b[43m,\u001b[49m\u001b[43m \u001b[49m\u001b[43m:\u001b[49m\u001b[38;5;241;43m3\u001b[39;49m\u001b[43m]\u001b[49m\u001b[38;5;241;43m.\u001b[39;49m\u001b[43mreshape\u001b[49m\u001b[43m(\u001b[49m\u001b[43mB\u001b[49m\u001b[43m,\u001b[49m\u001b[43m \u001b[49m\u001b[43mnum_samples\u001b[49m\u001b[43m,\u001b[49m\u001b[43m \u001b[49m\u001b[38;5;241;43m3\u001b[39;49m\u001b[43m)\u001b[49m\n\u001b[1;32m    154\u001b[0m density_output \u001b[38;5;241m=\u001b[39m model_output[:, \u001b[38;5;241m3\u001b[39m]\u001b[38;5;241m.\u001b[39mreshape(B, num_samples, \u001b[38;5;241m1\u001b[39m)\n\u001b[1;32m    156\u001b[0m depths \u001b[38;5;241m=\u001b[39m positions\u001b[38;5;241m.\u001b[39mreshape(B, num_samples, \u001b[38;5;241m3\u001b[39m)[:, :, \u001b[38;5;241m2\u001b[39m]  \n",
      "\u001b[0;31mRuntimeError\u001b[0m: shape '[16384, 9]' is invalid for input of size 3145728"
     ]
    }
   ],
   "source": [
    "nerf.train(model=nerf_model, data_loader=data_loader)"
   ]
  }
 ],
 "metadata": {
  "kernelspec": {
   "display_name": "venv",
   "language": "python",
   "name": "python3"
  },
  "language_info": {
   "codemirror_mode": {
    "name": "ipython",
    "version": 3
   },
   "file_extension": ".py",
   "mimetype": "text/x-python",
   "name": "python",
   "nbconvert_exporter": "python",
   "pygments_lexer": "ipython3",
   "version": "3.10.12"
  }
 },
 "nbformat": 4,
 "nbformat_minor": 2
}
