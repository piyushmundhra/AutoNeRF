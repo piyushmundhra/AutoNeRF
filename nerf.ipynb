{
 "cells": [
  {
   "cell_type": "code",
   "execution_count": 1,
   "metadata": {},
   "outputs": [
    {
     "name": "stderr",
     "output_type": "stream",
     "text": [
      "xFormers not available\n",
      "xFormers not available\n"
     ]
    },
    {
     "data": {
      "text/html": [
       "        <script type=\"text/javascript\">\n",
       "        window.PlotlyConfig = {MathJaxConfig: 'local'};\n",
       "        if (window.MathJax && window.MathJax.Hub && window.MathJax.Hub.Config) {window.MathJax.Hub.Config({SVG: {font: \"STIX-Web\"}});}\n",
       "        if (typeof require !== 'undefined') {\n",
       "        require.undef(\"plotly\");\n",
       "        requirejs.config({\n",
       "            paths: {\n",
       "                'plotly': ['https://cdn.plot.ly/plotly-2.32.0.min']\n",
       "            }\n",
       "        });\n",
       "        require(['plotly'], function(Plotly) {\n",
       "            window._Plotly = Plotly;\n",
       "        });\n",
       "        }\n",
       "        </script>\n",
       "        "
      ]
     },
     "metadata": {},
     "output_type": "display_data"
    }
   ],
   "source": [
    "import torch\n",
    "import numpy as np\n",
    "import slam\n",
    "import nerf\n",
    "import matplotlib.pyplot as plt\n",
    "from importlib import reload\n",
    "from torch.utils.data import DataLoader\n",
    "import pandas as pd\n",
    "torch.set_printoptions(linewidth=1000)"
   ]
  },
  {
   "cell_type": "code",
   "execution_count": 2,
   "metadata": {},
   "outputs": [
    {
     "name": "stdout",
     "output_type": "stream",
     "text": [
      "Loaded SuperPoint model\n",
      "Loaded SuperGlue model (\"indoor\" weights)\n"
     ]
    }
   ],
   "source": [
    "model, matching = slam.get_models()"
   ]
  },
  {
   "cell_type": "code",
   "execution_count": 3,
   "metadata": {},
   "outputs": [
    {
     "data": {
      "text/html": [
       "        <script type=\"text/javascript\">\n",
       "        window.PlotlyConfig = {MathJaxConfig: 'local'};\n",
       "        if (window.MathJax && window.MathJax.Hub && window.MathJax.Hub.Config) {window.MathJax.Hub.Config({SVG: {font: \"STIX-Web\"}});}\n",
       "        if (typeof require !== 'undefined') {\n",
       "        require.undef(\"plotly\");\n",
       "        requirejs.config({\n",
       "            paths: {\n",
       "                'plotly': ['https://cdn.plot.ly/plotly-2.32.0.min']\n",
       "            }\n",
       "        });\n",
       "        require(['plotly'], function(Plotly) {\n",
       "            window._Plotly = Plotly;\n",
       "        });\n",
       "        }\n",
       "        </script>\n",
       "        "
      ]
     },
     "metadata": {},
     "output_type": "display_data"
    }
   ],
   "source": [
    "reload(slam)\n",
    "data = slam.training_preprocessor(\n",
    "    image_prefix=\"indoor2\", \n",
    "    model=model,\n",
    "    matching=matching,\n",
    "    force_reload=False)"
   ]
  },
  {
   "cell_type": "code",
   "execution_count": 4,
   "metadata": {},
   "outputs": [
    {
     "data": {
      "text/plain": [
       "torch.Size([1341620, 9])"
      ]
     },
     "execution_count": 4,
     "metadata": {},
     "output_type": "execute_result"
    }
   ],
   "source": [
    "data.shape"
   ]
  },
  {
   "cell_type": "code",
   "execution_count": 5,
   "metadata": {},
   "outputs": [
    {
     "data": {
      "text/plain": [
       "16384"
      ]
     },
     "execution_count": 5,
     "metadata": {},
     "output_type": "execute_result"
    }
   ],
   "source": [
    "2**14"
   ]
  },
  {
   "cell_type": "code",
   "execution_count": 6,
   "metadata": {},
   "outputs": [
    {
     "data": {
      "text/plain": [
       "16.377197265625"
      ]
     },
     "execution_count": 6,
     "metadata": {},
     "output_type": "execute_result"
    }
   ],
   "source": [
    "518 * 518 / (2**14)"
   ]
  },
  {
   "cell_type": "code",
   "execution_count": 7,
   "metadata": {},
   "outputs": [],
   "source": [
    "data_loader = DataLoader(data, batch_size=2**14, shuffle=True)"
   ]
  },
  {
   "cell_type": "code",
   "execution_count": 8,
   "metadata": {},
   "outputs": [],
   "source": [
    "nerf_model = nerf.NeRFModel()"
   ]
  },
  {
   "cell_type": "code",
   "execution_count": 9,
   "metadata": {},
   "outputs": [],
   "source": [
    "# nerf.train(model=nerf_model, data_loader=data_loader)\n",
    "\n",
    "\n",
    "# Epoch 1/25: 100%|██████████| 82/82 [16:58<00:00, 12.42s/batch, loss=0.0685]\n",
    "# Epoch 1/25, Average Loss: 0.0685222507340879\n",
    "# Epoch 2/25: 100%|██████████| 82/82 [18:17<00:00, 13.39s/batch, loss=0.0594]\n",
    "# Epoch 2/25, Average Loss: 0.05939628292874592\n",
    "# Epoch 3/25: 100%|██████████| 82/82 [12:19<00:00,  9.01s/batch, loss=0.047] \n",
    "# Epoch 3/25, Average Loss: 0.04696446302823904\n",
    "# Epoch 4/25: 100%|██████████| 82/82 [12:26<00:00,  9.11s/batch, loss=0.0356]\n",
    "# Epoch 4/25, Average Loss: 0.035643301563473735\n",
    "# Epoch 5/25: 100%|██████████| 82/82 [12:21<00:00,  9.04s/batch, loss=0.0298]\n",
    "# Epoch 5/25, Average Loss: 0.02981070892476454\n",
    "# Epoch 6/25: 100%|██████████| 82/82 [12:26<00:00,  9.11s/batch, loss=0.0272]\n",
    "# Epoch 6/25, Average Loss: 0.027162288497315674\n",
    "# Epoch 7/25: 100%|██████████| 82/82 [12:14<00:00,  8.95s/batch, loss=0.0262]\n",
    "# Epoch 7/25, Average Loss: 0.02616300629224719\n",
    "# Epoch 8/25: 100%|██████████| 82/82 [12:18<00:00,  9.00s/batch, loss=0.0254]\n",
    "# Epoch 8/25, Average Loss: 0.02543661682071482\n",
    "# Epoch 9/25: 100%|██████████| 82/82 [12:20<00:00,  9.03s/batch, loss=0.0244]\n",
    "# Epoch 9/25, Average Loss: 0.024361613388286858\n",
    "# Epoch 10/25: 100%|██████████| 82/82 [12:40<00:00,  9.27s/batch, loss=0.024] \n",
    "# Epoch 10/25, Average Loss: 0.02402471621498102\n",
    "# Epoch 11/25: 100%|██████████| 82/82 [12:37<00:00,  9.24s/batch, loss=0.0233]\n",
    "# Epoch 11/25, Average Loss: 0.02328678470377515\n",
    "# Epoch 12/25: 100%|██████████| 82/82 [12:25<00:00,  9.09s/batch, loss=0.0232]\n",
    "# Epoch 12/25, Average Loss: 0.023177479234773937\n",
    "# Epoch 13/25: 100%|██████████| 82/82 [12:16<00:00,  8.98s/batch, loss=0.0227]\n",
    "# Epoch 13/25, Average Loss: 0.02268764790056682\n",
    "# Epoch 14/25: 100%|██████████| 82/82 [12:09<00:00,  8.90s/batch, loss=0.0225]\n",
    "# Epoch 14/25, Average Loss: 0.022537043000139843\n",
    "# Epoch 15/25: 100%|██████████| 82/82 [12:14<00:00,  8.96s/batch, loss=0.022] \n",
    "# Epoch 15/25, Average Loss: 0.022021054630962815\n",
    "# Epoch 16/25: 100%|██████████| 82/82 [1:01:07<00:00, 44.73s/batch, loss=0.0231] \n",
    "# Epoch 16/25, Average Loss: 0.023089414757744568\n",
    "# Epoch 17/25: 100%|██████████| 82/82 [31:34<00:00, 23.11s/batch, loss=0.0212]   \n",
    "# Epoch 17/25, Average Loss: 0.021172965922188466\n",
    "# Epoch 18/25: 100%|██████████| 82/82 [46:11<00:00, 33.80s/batch, loss=0.0215]   \n",
    "# Epoch 18/25, Average Loss: 0.0214947801901073\n",
    "# Epoch 19/25: 100%|██████████| 82/82 [55:11<00:00, 40.38s/batch, loss=0.0212]   \n",
    "# Epoch 19/25, Average Loss: 0.021193569526076317\n",
    "# Epoch 20/25: 100%|██████████| 82/82 [53:20<00:00, 39.03s/batch, loss=0.0211]   \n",
    "# Epoch 20/25, Average Loss: 0.02106804839085515\n",
    "# Epoch 21/25: 100%|██████████| 82/82 [22:17<00:00, 16.31s/batch, loss=0.0207]   \n",
    "# Epoch 21/25, Average Loss: 0.020741192396821047\n",
    "# Epoch 22/25: 100%|██████████| 82/82 [46:52<00:00, 34.30s/batch, loss=0.0226]   \n",
    "# Epoch 22/25, Average Loss: 0.022557636813783064\n",
    "# Epoch 23/25: 100%|██████████| 82/82 [41:50<00:00, 30.61s/batch, loss=0.0201]   \n",
    "# Epoch 23/25, Average Loss: 0.02006759480913965\n",
    "# Epoch 24/25: 100%|██████████| 82/82 [1:15:16<00:00, 55.08s/batch, loss=0.0203]   \n",
    "# Epoch 24/25, Average Loss: 0.02029608319536215\n",
    "# Epoch 25/25: 100%|██████████| 82/82 [41:43<00:00, 30.53s/batch, loss=0.0203]   \n",
    "# Epoch 25/25, Average Loss: 0.020283445988486453\n",
    "\n"
   ]
  },
  {
   "cell_type": "code",
   "execution_count": 10,
   "metadata": {},
   "outputs": [],
   "source": [
    "# torch.save(nerf_model, \"./nerf_model.pt\")"
   ]
  },
  {
   "cell_type": "code",
   "execution_count": 11,
   "metadata": {},
   "outputs": [],
   "source": [
    "nerf_model = torch.load(\"./nerf_model.pt\")"
   ]
  },
  {
   "cell_type": "code",
   "execution_count": 19,
   "metadata": {},
   "outputs": [
    {
     "data": {
      "text/html": [
       "        <script type=\"text/javascript\">\n",
       "        window.PlotlyConfig = {MathJaxConfig: 'local'};\n",
       "        if (window.MathJax && window.MathJax.Hub && window.MathJax.Hub.Config) {window.MathJax.Hub.Config({SVG: {font: \"STIX-Web\"}});}\n",
       "        if (typeof require !== 'undefined') {\n",
       "        require.undef(\"plotly\");\n",
       "        requirejs.config({\n",
       "            paths: {\n",
       "                'plotly': ['https://cdn.plot.ly/plotly-2.32.0.min']\n",
       "            }\n",
       "        });\n",
       "        require(['plotly'], function(Plotly) {\n",
       "            window._Plotly = Plotly;\n",
       "        });\n",
       "        }\n",
       "        </script>\n",
       "        "
      ]
     },
     "metadata": {},
     "output_type": "display_data"
    },
    {
     "name": "stdout",
     "output_type": "stream",
     "text": [
      "Rotation: \n",
      "[[ 1.  0.  0.]\n",
      " [ 0.  0.  1.]\n",
      " [ 0. -1.  0.]]\n"
     ]
    }
   ],
   "source": [
    "reload(nerf)\n",
    "reload(slam)\n",
    "data = slam.inference_preprocessor(position=np.array([0,0,0]), direction=np.array([0,1,0]))\n",
    "inference_dataloader = DataLoader(data, 2**14, shuffle=False)"
   ]
  },
  {
   "cell_type": "code",
   "execution_count": 20,
   "metadata": {},
   "outputs": [
    {
     "name": "stderr",
     "output_type": "stream",
     "text": [
      "Inference Progress: 100%|██████████| 17/17 [00:38<00:00,  2.24s/batch]"
     ]
    },
    {
     "name": "stdout",
     "output_type": "stream",
     "text": [
      "torch.Size([268324, 64, 3])\n",
      "torch.Size([268324, 64])\n",
      "torch.Size([17172736])\n"
     ]
    },
    {
     "name": "stderr",
     "output_type": "stream",
     "text": [
      "\n"
     ]
    },
    {
     "ename": "RuntimeError",
     "evalue": "The size of tensor a (64) must match the size of tensor b (17172736) at non-singleton dimension 1",
     "output_type": "error",
     "traceback": [
      "\u001b[0;31m---------------------------------------------------------------------------\u001b[0m",
      "\u001b[0;31mRuntimeError\u001b[0m                              Traceback (most recent call last)",
      "Cell \u001b[0;32mIn[20], line 1\u001b[0m\n\u001b[0;32m----> 1\u001b[0m img \u001b[38;5;241m=\u001b[39m \u001b[43mnerf\u001b[49m\u001b[38;5;241;43m.\u001b[39;49m\u001b[43minfer\u001b[49m\u001b[43m(\u001b[49m\u001b[43mmodel\u001b[49m\u001b[38;5;241;43m=\u001b[39;49m\u001b[43mnerf_model\u001b[49m\u001b[43m,\u001b[49m\u001b[43m \u001b[49m\u001b[43mdata_loader\u001b[49m\u001b[38;5;241;43m=\u001b[39;49m\u001b[43minference_dataloader\u001b[49m\u001b[43m)\u001b[49m\n\u001b[1;32m      2\u001b[0m plt\u001b[38;5;241m.\u001b[39mimshow(img)\n",
      "File \u001b[0;32m~/Documents/GitHub/AutoNeRF/venv/lib/python3.10/site-packages/torch/utils/_contextlib.py:115\u001b[0m, in \u001b[0;36mcontext_decorator.<locals>.decorate_context\u001b[0;34m(*args, **kwargs)\u001b[0m\n\u001b[1;32m    112\u001b[0m \u001b[38;5;129m@functools\u001b[39m\u001b[38;5;241m.\u001b[39mwraps(func)\n\u001b[1;32m    113\u001b[0m \u001b[38;5;28;01mdef\u001b[39;00m \u001b[38;5;21mdecorate_context\u001b[39m(\u001b[38;5;241m*\u001b[39margs, \u001b[38;5;241m*\u001b[39m\u001b[38;5;241m*\u001b[39mkwargs):\n\u001b[1;32m    114\u001b[0m     \u001b[38;5;28;01mwith\u001b[39;00m ctx_factory():\n\u001b[0;32m--> 115\u001b[0m         \u001b[38;5;28;01mreturn\u001b[39;00m \u001b[43mfunc\u001b[49m\u001b[43m(\u001b[49m\u001b[38;5;241;43m*\u001b[39;49m\u001b[43margs\u001b[49m\u001b[43m,\u001b[49m\u001b[43m \u001b[49m\u001b[38;5;241;43m*\u001b[39;49m\u001b[38;5;241;43m*\u001b[39;49m\u001b[43mkwargs\u001b[49m\u001b[43m)\u001b[49m\n",
      "File \u001b[0;32m~/Documents/GitHub/AutoNeRF/nerf.py:168\u001b[0m, in \u001b[0;36minfer\u001b[0;34m(model, data_loader)\u001b[0m\n\u001b[1;32m    165\u001b[0m \u001b[38;5;28mprint\u001b[39m(density\u001b[38;5;241m.\u001b[39mshape)\n\u001b[1;32m    166\u001b[0m \u001b[38;5;28mprint\u001b[39m(depths\u001b[38;5;241m.\u001b[39mshape)\n\u001b[0;32m--> 168\u001b[0m rendered_rgb \u001b[38;5;241m=\u001b[39m \u001b[43mvolume_rendering\u001b[49m\u001b[43m(\u001b[49m\u001b[43mrgb_pred\u001b[49m\u001b[43m,\u001b[49m\u001b[43m \u001b[49m\u001b[43mdensity\u001b[49m\u001b[43m,\u001b[49m\u001b[43m \u001b[49m\u001b[43mdepths\u001b[49m\u001b[38;5;241;43m.\u001b[39;49m\u001b[43munsqueeze\u001b[49m\u001b[43m(\u001b[49m\u001b[38;5;241;43m0\u001b[39;49m\u001b[43m)\u001b[49m\u001b[43m)\u001b[49m\n\u001b[1;32m    169\u001b[0m rendered_rgb \u001b[38;5;241m=\u001b[39m (rendered_rgb \u001b[38;5;241m*\u001b[39m \u001b[38;5;241m255\u001b[39m)\u001b[38;5;241m.\u001b[39mclamp(\u001b[38;5;241m0\u001b[39m, \u001b[38;5;241m255\u001b[39m)\u001b[38;5;241m.\u001b[39mbyte()\n\u001b[1;32m    170\u001b[0m image \u001b[38;5;241m=\u001b[39m Image\u001b[38;5;241m.\u001b[39mfromarray(rendered_rgb\u001b[38;5;241m.\u001b[39mnumpy())\n",
      "File \u001b[0;32m~/Documents/GitHub/AutoNeRF/nerf.py:65\u001b[0m, in \u001b[0;36mvolume_rendering\u001b[0;34m(rgb, density, depths)\u001b[0m\n\u001b[1;32m     59\u001b[0m \u001b[38;5;28;01mdef\u001b[39;00m \u001b[38;5;21mvolume_rendering\u001b[39m(rgb, density, depths):\n\u001b[1;32m     60\u001b[0m     \u001b[38;5;66;03m# rgb: (B, num_samples, 3)\u001b[39;00m\n\u001b[1;32m     61\u001b[0m     \u001b[38;5;66;03m# density: (B, num_samples)\u001b[39;00m\n\u001b[1;32m     62\u001b[0m     \u001b[38;5;66;03m# depths: (B, num_samples)\u001b[39;00m\n\u001b[1;32m     63\u001b[0m     \u001b[38;5;66;03m# Returns: (B, 3)\u001b[39;00m\n\u001b[1;32m     64\u001b[0m     delta \u001b[38;5;241m=\u001b[39m torch\u001b[38;5;241m.\u001b[39mcat([depths[:, \u001b[38;5;241m1\u001b[39m:] \u001b[38;5;241m-\u001b[39m depths[:, :\u001b[38;5;241m-\u001b[39m\u001b[38;5;241m1\u001b[39m], torch\u001b[38;5;241m.\u001b[39mtensor([\u001b[38;5;241m1e10\u001b[39m])\u001b[38;5;241m.\u001b[39mexpand(depths[:, :\u001b[38;5;241m1\u001b[39m]\u001b[38;5;241m.\u001b[39mshape)], \u001b[38;5;241m-\u001b[39m\u001b[38;5;241m1\u001b[39m)\n\u001b[0;32m---> 65\u001b[0m     alpha \u001b[38;5;241m=\u001b[39m \u001b[38;5;241m1\u001b[39m \u001b[38;5;241m-\u001b[39m torch\u001b[38;5;241m.\u001b[39mexp(\u001b[38;5;241;43m-\u001b[39;49m\u001b[43mdensity\u001b[49m\u001b[43m \u001b[49m\u001b[38;5;241;43m*\u001b[39;49m\u001b[43m \u001b[49m\u001b[43mdelta\u001b[49m)\n\u001b[1;32m     66\u001b[0m     weights \u001b[38;5;241m=\u001b[39m alpha \u001b[38;5;241m*\u001b[39m torch\u001b[38;5;241m.\u001b[39mcumprod(torch\u001b[38;5;241m.\u001b[39mcat([torch\u001b[38;5;241m.\u001b[39mones((alpha\u001b[38;5;241m.\u001b[39mshape[\u001b[38;5;241m0\u001b[39m], \u001b[38;5;241m1\u001b[39m)), \u001b[38;5;241m1\u001b[39m \u001b[38;5;241m-\u001b[39m alpha \u001b[38;5;241m+\u001b[39m \u001b[38;5;241m1e-10\u001b[39m], \u001b[38;5;241m-\u001b[39m\u001b[38;5;241m1\u001b[39m), \u001b[38;5;241m-\u001b[39m\u001b[38;5;241m1\u001b[39m)[:, :\u001b[38;5;241m-\u001b[39m\u001b[38;5;241m1\u001b[39m]\n\u001b[1;32m     67\u001b[0m     rgb_final \u001b[38;5;241m=\u001b[39m torch\u001b[38;5;241m.\u001b[39msum(weights[:, :, \u001b[38;5;28;01mNone\u001b[39;00m] \u001b[38;5;241m*\u001b[39m rgb, \u001b[38;5;241m-\u001b[39m\u001b[38;5;241m2\u001b[39m)\n",
      "\u001b[0;31mRuntimeError\u001b[0m: The size of tensor a (64) must match the size of tensor b (17172736) at non-singleton dimension 1"
     ]
    }
   ],
   "source": [
    "img = nerf.infer(model=nerf_model, data_loader=inference_dataloader)\n",
    "plt.imshow(img)"
   ]
  }
 ],
 "metadata": {
  "kernelspec": {
   "display_name": "venv",
   "language": "python",
   "name": "python3"
  },
  "language_info": {
   "codemirror_mode": {
    "name": "ipython",
    "version": 3
   },
   "file_extension": ".py",
   "mimetype": "text/x-python",
   "name": "python",
   "nbconvert_exporter": "python",
   "pygments_lexer": "ipython3",
   "version": "3.9.6"
  }
 },
 "nbformat": 4,
 "nbformat_minor": 2
}
