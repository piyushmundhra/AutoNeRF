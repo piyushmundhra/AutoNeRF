{
 "cells": [
  {
   "cell_type": "code",
   "execution_count": 2,
   "metadata": {},
   "outputs": [],
   "source": [
    "import torch\n",
    "import numpy as np\n",
    "import slam\n",
    "import nerf\n",
    "import matplotlib.pyplot as plt\n",
    "from importlib import reload\n",
    "from torch.utils.data import DataLoader\n",
    "import pandas as pd\n",
    "torch.set_printoptions(linewidth=1000)"
   ]
  },
  {
   "cell_type": "code",
   "execution_count": 3,
   "metadata": {},
   "outputs": [
    {
     "name": "stdout",
     "output_type": "stream",
     "text": [
      "Loaded SuperPoint model\n",
      "Loaded SuperGlue model (\"indoor\" weights)\n"
     ]
    }
   ],
   "source": [
    "model, matching = slam.get_models()"
   ]
  },
  {
   "cell_type": "code",
   "execution_count": 4,
   "metadata": {},
   "outputs": [],
   "source": [
    "training_dataset = torch.from_numpy(np.load('training_data_800x800.pkl', allow_pickle=True)) "
   ]
  },
  {
   "cell_type": "code",
   "execution_count": 5,
   "metadata": {},
   "outputs": [
    {
     "data": {
      "text/plain": [
       "tensor([[-0.0538,  3.8455,  1.2081,  0.3340, -0.9418,  0.0390,  1.0000,  1.0000,  1.0000],\n",
       "        [-0.0538,  3.8455,  1.2081,  0.3333, -0.9420,  0.0390,  1.0000,  1.0000,  1.0000],\n",
       "        [-0.0538,  3.8455,  1.2081,  0.3326, -0.9423,  0.0390,  1.0000,  1.0000,  1.0000],\n",
       "        [-0.0538,  3.8455,  1.2081,  0.3319, -0.9425,  0.0390,  1.0000,  1.0000,  1.0000],\n",
       "        [-0.0538,  3.8455,  1.2081,  0.3312, -0.9428,  0.0390,  1.0000,  1.0000,  1.0000],\n",
       "        [-0.0538,  3.8455,  1.2081,  0.3304, -0.9430,  0.0391,  1.0000,  1.0000,  1.0000],\n",
       "        [-0.0538,  3.8455,  1.2081,  0.3297, -0.9433,  0.0391,  1.0000,  1.0000,  1.0000],\n",
       "        [-0.0538,  3.8455,  1.2081,  0.3290, -0.9435,  0.0391,  1.0000,  1.0000,  1.0000],\n",
       "        [-0.0538,  3.8455,  1.2081,  0.3283, -0.9438,  0.0391,  1.0000,  1.0000,  1.0000],\n",
       "        [-0.0538,  3.8455,  1.2081,  0.3276, -0.9440,  0.0391,  1.0000,  1.0000,  1.0000]])"
      ]
     },
     "execution_count": 5,
     "metadata": {},
     "output_type": "execute_result"
    }
   ],
   "source": [
    "x = 0\n",
    "training_dataset[x:x+10, :]"
   ]
  },
  {
   "cell_type": "code",
   "execution_count": 6,
   "metadata": {},
   "outputs": [
    {
     "data": {
      "image/png": "[encoded data removed]",
      "text/plain": [
       "<Figure size 1000x600 with 3 Axes>"
      ]
     },
     "metadata": {},
     "output_type": "display_data"
    }
   ],
   "source": [
    "last_3_columns = training_dataset[:, -3:]\n",
    "column_1 = last_3_columns[:, 0]\n",
    "column_2 = last_3_columns[:, 1]\n",
    "column_3 = last_3_columns[:, 2]\n",
    "\n",
    "plt.figure(figsize=(10, 6))\n",
    "\n",
    "plt.subplot(1, 3, 1)\n",
    "plt.hist(column_1.numpy(), bins=20)\n",
    "plt.title(\"Distribution of column 1\")\n",
    "\n",
    "plt.subplot(1, 3, 2)\n",
    "plt.hist(column_2.numpy(), bins=20)\n",
    "plt.title(\"Distribution of column 2\")\n",
    "\n",
    "plt.subplot(1, 3, 3)\n",
    "plt.hist(column_3.numpy(), bins=20)\n",
    "plt.title(\"Distribution of column 3\")\n",
    "\n",
    "plt.tight_layout()\n",
    "plt.show()"
   ]
  },
  {
   "cell_type": "code",
   "execution_count": 5,
   "metadata": {},
   "outputs": [
    {
     "data": {
      "text/html": [
       "        <script type=\"text/javascript\">\n",
       "        window.PlotlyConfig = {MathJaxConfig: 'local'};\n",
       "        if (window.MathJax && window.MathJax.Hub && window.MathJax.Hub.Config) {window.MathJax.Hub.Config({SVG: {font: \"STIX-Web\"}});}\n",
       "        if (typeof require !== 'undefined') {\n",
       "        require.undef(\"plotly\");\n",
       "        requirejs.config({\n",
       "            paths: {\n",
       "                'plotly': ['https://cdn.plot.ly/plotly-2.32.0.min']\n",
       "            }\n",
       "        });\n",
       "        require(['plotly'], function(Plotly) {\n",
       "            window._Plotly = Plotly;\n",
       "        });\n",
       "        }\n",
       "        </script>\n",
       "        "
      ]
     },
     "metadata": {},
     "output_type": "display_data"
    },
    {
     "data": {
      "text/plain": [
       "tensor([[ 0.0000,  0.0000,  0.0000, -0.3569, -0.3569,  0.8633,  0.5882,  0.5725,  0.5216],\n",
       "        [ 0.0000,  0.0000,  0.0000, -0.3557, -0.3571,  0.8637,  0.5333,  0.5216,  0.4667],\n",
       "        [ 0.0000,  0.0000,  0.0000, -0.3545, -0.3572,  0.8641,  0.4863,  0.4588,  0.3843],\n",
       "        [ 0.0000,  0.0000,  0.0000, -0.3533, -0.3574,  0.8646,  0.8157,  0.7765,  0.5804],\n",
       "        [ 0.0000,  0.0000,  0.0000, -0.3521, -0.3576,  0.8650,  0.8157,  0.7882,  0.5765],\n",
       "        [ 0.0000,  0.0000,  0.0000, -0.3509, -0.3578,  0.8654,  0.5333,  0.5294,  0.4627],\n",
       "        [ 0.0000,  0.0000,  0.0000, -0.3496, -0.3579,  0.8658,  0.4588,  0.4588,  0.4235],\n",
       "        [ 0.0000,  0.0000,  0.0000, -0.3484, -0.3581,  0.8662,  0.4784,  0.4667,  0.4353],\n",
       "        [ 0.0000,  0.0000,  0.0000, -0.3472, -0.3583,  0.8666,  0.4588,  0.4510,  0.4235],\n",
       "        [ 0.0000,  0.0000,  0.0000, -0.3460, -0.3585,  0.8671,  0.4588,  0.4510,  0.4196]])"
      ]
     },
     "execution_count": 5,
     "metadata": {},
     "output_type": "execute_result"
    }
   ],
   "source": [
    "reload(slam)\n",
    "data = slam.images_to_nerf_inputs(\n",
    "    image_prefix=\"indoor2\", \n",
    "    model=model, \n",
    "    matching=matching,\n",
    "    force_reload=True)\n",
    "data.shape\n",
    "data[:10, :]"
   ]
  },
  {
   "cell_type": "code",
   "execution_count": 7,
   "metadata": {},
   "outputs": [],
   "source": [
    "data_loader = DataLoader(training_dataset, batch_size=2**14, shuffle=True)"
   ]
  },
  {
   "cell_type": "code",
   "execution_count": 8,
   "metadata": {},
   "outputs": [],
   "source": [
    "L = 16\n",
    "F = 2\n",
    "T = 2**19\n",
    "N_min = 16\n",
    "N_max = 2048\n",
    "b = np.exp((np.log(N_max) - np.log(N_min)) / (L - 1))\n",
    "Nl = [int(np.floor(N_min * b**l)) for l in range(L)]\n",
    "nerf_model = nerf.NGP(T=T, Nl=Nl, L=4, aabb_scale=3, F=F)\n",
    "model_optimizer = torch.optim.Adam(\n",
    "        [{\"params\": nerf_model.lookup_tables.parameters(), \"lr\": 1e-2, \"betas\": (0.9, 0.99), \"eps\": 1e-15, \"weight_decay\": 0.},\n",
    "         {\"params\": nerf_model.density_MLP.parameters(), \"lr\": 1e-2,  \"betas\": (0.9, 0.99), \"eps\": 1e-15, \"weight_decay\": 10**-6},\n",
    "         {\"params\": nerf_model.color_MLP.parameters(), \"lr\": 1e-2,  \"betas\": (0.9, 0.99), \"eps\": 1e-15, \"weight_decay\": 10**-6}])"
   ]
  },
  {
   "cell_type": "code",
   "execution_count": 9,
   "metadata": {},
   "outputs": [
    {
     "name": "stderr",
     "output_type": "stream",
     "text": [
      "  0%|          | 0/3907 [00:00<?, ?it/s]/Users/piyushmundhra/Documents/GitHub/AutoNeRF/venv/lib/python3.10/site-packages/torch/nn/functional.py:4343: UserWarning:\n",
      "\n",
      "Default grid_sample and affine_grid behavior has changed to align_corners=False since 1.3.0. Please specify align_corners=True if the old behavior is desired. See the documentation of grid_sample for details.\n",
      "\n",
      "  0%|          | 1/3907 [00:12<13:37:39, 12.56s/it]"
     ]
    },
    {
     "name": "stdout",
     "output_type": "stream",
     "text": [
      "Loss: 0.18186140060424805\n"
     ]
    },
    {
     "name": "stderr",
     "output_type": "stream",
     "text": [
      "  0%|          | 2/3907 [00:21<11:29:50, 10.60s/it]"
     ]
    },
    {
     "name": "stdout",
     "output_type": "stream",
     "text": [
      "Loss: 0.15637359023094177\n"
     ]
    },
    {
     "name": "stderr",
     "output_type": "stream",
     "text": [
      "  0%|          | 3/3907 [00:30<10:42:00,  9.87s/it]"
     ]
    },
    {
     "name": "stdout",
     "output_type": "stream",
     "text": [
      "Loss: 0.1305328756570816\n"
     ]
    },
    {
     "name": "stderr",
     "output_type": "stream",
     "text": [
      "  0%|          | 4/3907 [00:39<10:21:13,  9.55s/it]"
     ]
    },
    {
     "name": "stdout",
     "output_type": "stream",
     "text": [
      "Loss: 0.1048145517706871\n"
     ]
    },
    {
     "name": "stderr",
     "output_type": "stream",
     "text": [
      "  0%|          | 5/3907 [00:48<10:09:34,  9.37s/it]"
     ]
    },
    {
     "name": "stdout",
     "output_type": "stream",
     "text": [
      "Loss: 0.08953499794006348\n"
     ]
    },
    {
     "name": "stderr",
     "output_type": "stream",
     "text": [
      "  0%|          | 6/3907 [00:59<10:33:36,  9.75s/it]"
     ]
    },
    {
     "name": "stdout",
     "output_type": "stream",
     "text": [
      "Loss: 0.09271331876516342\n"
     ]
    },
    {
     "name": "stderr",
     "output_type": "stream",
     "text": [
      "  0%|          | 6/3907 [01:04<11:34:11, 10.68s/it]\n"
     ]
    },
    {
     "ename": "KeyboardInterrupt",
     "evalue": "",
     "output_type": "error",
     "traceback": [
      "\u001b[0;31m---------------------------------------------------------------------------\u001b[0m",
      "\u001b[0;31mKeyboardInterrupt\u001b[0m                         Traceback (most recent call last)",
      "Cell \u001b[0;32mIn[9], line 2\u001b[0m\n\u001b[1;32m      1\u001b[0m reload(nerf)\n\u001b[0;32m----> 2\u001b[0m \u001b[43mnerf\u001b[49m\u001b[38;5;241;43m.\u001b[39;49m\u001b[43mtrain\u001b[49m\u001b[43m(\u001b[49m\u001b[43mnerf_model\u001b[49m\u001b[38;5;241;43m=\u001b[39;49m\u001b[43mnerf_model\u001b[49m\u001b[43m,\u001b[49m\u001b[43m \u001b[49m\u001b[43moptimizer\u001b[49m\u001b[38;5;241;43m=\u001b[39;49m\u001b[43mmodel_optimizer\u001b[49m\u001b[43m,\u001b[49m\u001b[43m \u001b[49m\u001b[43mdata_loader\u001b[49m\u001b[38;5;241;43m=\u001b[39;49m\u001b[43mdata_loader\u001b[49m\u001b[43m,\u001b[49m\u001b[43m \u001b[49m\u001b[43mnb_epochs\u001b[49m\u001b[38;5;241;43m=\u001b[39;49m\u001b[38;5;241;43m1\u001b[39;49m\u001b[43m,\u001b[49m\u001b[43m \u001b[49m\u001b[43mhn\u001b[49m\u001b[38;5;241;43m=\u001b[39;49m\u001b[38;5;241;43m2\u001b[39;49m\u001b[43m,\u001b[49m\u001b[43m \u001b[49m\u001b[43mhf\u001b[49m\u001b[38;5;241;43m=\u001b[39;49m\u001b[38;5;241;43m6\u001b[39;49m\u001b[43m,\u001b[49m\u001b[43m \u001b[49m\u001b[43mnb_bins\u001b[49m\u001b[38;5;241;43m=\u001b[39;49m\u001b[38;5;241;43m192\u001b[39;49m\u001b[43m)\u001b[49m\n",
      "File \u001b[0;32m~/Documents/GitHub/AutoNeRF/nerf.py:109\u001b[0m, in \u001b[0;36mtrain\u001b[0;34m(nerf_model, optimizer, data_loader, hn, hf, nb_epochs, nb_bins)\u001b[0m\n\u001b[1;32m    107\u001b[0m ray_directions \u001b[38;5;241m=\u001b[39m batch[:, \u001b[38;5;241m3\u001b[39m:\u001b[38;5;241m6\u001b[39m]\n\u001b[1;32m    108\u001b[0m gt_px_values \u001b[38;5;241m=\u001b[39m batch[:, \u001b[38;5;241m6\u001b[39m:]\n\u001b[0;32m--> 109\u001b[0m pred_px_values \u001b[38;5;241m=\u001b[39m \u001b[43mrender_rays\u001b[49m\u001b[43m(\u001b[49m\u001b[43mnerf_model\u001b[49m\u001b[43m,\u001b[49m\u001b[43m \u001b[49m\u001b[43mray_origins\u001b[49m\u001b[43m,\u001b[49m\u001b[43m \u001b[49m\u001b[43mray_directions\u001b[49m\u001b[43m,\u001b[49m\u001b[43m \u001b[49m\n\u001b[1;32m    110\u001b[0m \u001b[43m                             \u001b[49m\u001b[43mhn\u001b[49m\u001b[38;5;241;43m=\u001b[39;49m\u001b[43mhn\u001b[49m\u001b[43m,\u001b[49m\u001b[43m \u001b[49m\u001b[43mhf\u001b[49m\u001b[38;5;241;43m=\u001b[39;49m\u001b[43mhf\u001b[49m\u001b[43m,\u001b[49m\u001b[43m \u001b[49m\u001b[43mnb_bins\u001b[49m\u001b[38;5;241;43m=\u001b[39;49m\u001b[43mnb_bins\u001b[49m\u001b[43m)\u001b[49m\n\u001b[1;32m    111\u001b[0m loss \u001b[38;5;241m=\u001b[39m ((gt_px_values \u001b[38;5;241m-\u001b[39m pred_px_values) \u001b[38;5;241m*\u001b[39m\u001b[38;5;241m*\u001b[39m \u001b[38;5;241m2\u001b[39m)\u001b[38;5;241m.\u001b[39mmean()\n\u001b[1;32m    112\u001b[0m optimizer\u001b[38;5;241m.\u001b[39mzero_grad()\n",
      "File \u001b[0;32m~/Documents/GitHub/AutoNeRF/nerf.py:96\u001b[0m, in \u001b[0;36mrender_rays\u001b[0;34m(nerf_model, ray_origins, ray_directions, hn, hf, nb_bins)\u001b[0m\n\u001b[1;32m     94\u001b[0m \u001b[38;5;66;03m# Expand the ray_directions tensor to match the shape of x\u001b[39;00m\n\u001b[1;32m     95\u001b[0m ray_directions \u001b[38;5;241m=\u001b[39m ray_directions\u001b[38;5;241m.\u001b[39mexpand(nb_bins, ray_directions\u001b[38;5;241m.\u001b[39mshape[\u001b[38;5;241m0\u001b[39m], \u001b[38;5;241m3\u001b[39m)\u001b[38;5;241m.\u001b[39mtranspose(\u001b[38;5;241m0\u001b[39m, \u001b[38;5;241m1\u001b[39m)\n\u001b[0;32m---> 96\u001b[0m colors, sigma \u001b[38;5;241m=\u001b[39m \u001b[43mnerf_model\u001b[49m\u001b[43m(\u001b[49m\u001b[43mx\u001b[49m\u001b[38;5;241;43m.\u001b[39;49m\u001b[43mreshape\u001b[49m\u001b[43m(\u001b[49m\u001b[38;5;241;43m-\u001b[39;49m\u001b[38;5;241;43m1\u001b[39;49m\u001b[43m,\u001b[49m\u001b[43m \u001b[49m\u001b[38;5;241;43m3\u001b[39;49m\u001b[43m)\u001b[49m\u001b[43m,\u001b[49m\u001b[43m \u001b[49m\u001b[43mray_directions\u001b[49m\u001b[38;5;241;43m.\u001b[39;49m\u001b[43mreshape\u001b[49m\u001b[43m(\u001b[49m\u001b[38;5;241;43m-\u001b[39;49m\u001b[38;5;241;43m1\u001b[39;49m\u001b[43m,\u001b[49m\u001b[43m \u001b[49m\u001b[38;5;241;43m3\u001b[39;49m\u001b[43m)\u001b[49m\u001b[43m)\u001b[49m\n\u001b[1;32m     97\u001b[0m alpha \u001b[38;5;241m=\u001b[39m \u001b[38;5;241m1\u001b[39m \u001b[38;5;241m-\u001b[39m torch\u001b[38;5;241m.\u001b[39mexp(\u001b[38;5;241m-\u001b[39msigma\u001b[38;5;241m.\u001b[39mreshape(x\u001b[38;5;241m.\u001b[39mshape[:\u001b[38;5;241m-\u001b[39m\u001b[38;5;241m1\u001b[39m]) \u001b[38;5;241m*\u001b[39m delta)  \u001b[38;5;66;03m# [batch_size, nb_bins]\u001b[39;00m\n\u001b[1;32m     98\u001b[0m weights \u001b[38;5;241m=\u001b[39m compute_accumulated_transmittance(\u001b[38;5;241m1\u001b[39m \u001b[38;5;241m-\u001b[39m alpha)\u001b[38;5;241m.\u001b[39munsqueeze(\u001b[38;5;241m2\u001b[39m) \u001b[38;5;241m*\u001b[39m alpha\u001b[38;5;241m.\u001b[39munsqueeze(\u001b[38;5;241m2\u001b[39m)\n",
      "File \u001b[0;32m~/Documents/GitHub/AutoNeRF/venv/lib/python3.10/site-packages/torch/nn/modules/module.py:1532\u001b[0m, in \u001b[0;36mModule._wrapped_call_impl\u001b[0;34m(self, *args, **kwargs)\u001b[0m\n\u001b[1;32m   1530\u001b[0m     \u001b[38;5;28;01mreturn\u001b[39;00m \u001b[38;5;28mself\u001b[39m\u001b[38;5;241m.\u001b[39m_compiled_call_impl(\u001b[38;5;241m*\u001b[39margs, \u001b[38;5;241m*\u001b[39m\u001b[38;5;241m*\u001b[39mkwargs)  \u001b[38;5;66;03m# type: ignore[misc]\u001b[39;00m\n\u001b[1;32m   1531\u001b[0m \u001b[38;5;28;01melse\u001b[39;00m:\n\u001b[0;32m-> 1532\u001b[0m     \u001b[38;5;28;01mreturn\u001b[39;00m \u001b[38;5;28;43mself\u001b[39;49m\u001b[38;5;241;43m.\u001b[39;49m\u001b[43m_call_impl\u001b[49m\u001b[43m(\u001b[49m\u001b[38;5;241;43m*\u001b[39;49m\u001b[43margs\u001b[49m\u001b[43m,\u001b[49m\u001b[43m \u001b[49m\u001b[38;5;241;43m*\u001b[39;49m\u001b[38;5;241;43m*\u001b[39;49m\u001b[43mkwargs\u001b[49m\u001b[43m)\u001b[49m\n",
      "File \u001b[0;32m~/Documents/GitHub/AutoNeRF/venv/lib/python3.10/site-packages/torch/nn/modules/module.py:1541\u001b[0m, in \u001b[0;36mModule._call_impl\u001b[0;34m(self, *args, **kwargs)\u001b[0m\n\u001b[1;32m   1536\u001b[0m \u001b[38;5;66;03m# If we don't have any hooks, we want to skip the rest of the logic in\u001b[39;00m\n\u001b[1;32m   1537\u001b[0m \u001b[38;5;66;03m# this function, and just call forward.\u001b[39;00m\n\u001b[1;32m   1538\u001b[0m \u001b[38;5;28;01mif\u001b[39;00m \u001b[38;5;129;01mnot\u001b[39;00m (\u001b[38;5;28mself\u001b[39m\u001b[38;5;241m.\u001b[39m_backward_hooks \u001b[38;5;129;01mor\u001b[39;00m \u001b[38;5;28mself\u001b[39m\u001b[38;5;241m.\u001b[39m_backward_pre_hooks \u001b[38;5;129;01mor\u001b[39;00m \u001b[38;5;28mself\u001b[39m\u001b[38;5;241m.\u001b[39m_forward_hooks \u001b[38;5;129;01mor\u001b[39;00m \u001b[38;5;28mself\u001b[39m\u001b[38;5;241m.\u001b[39m_forward_pre_hooks\n\u001b[1;32m   1539\u001b[0m         \u001b[38;5;129;01mor\u001b[39;00m _global_backward_pre_hooks \u001b[38;5;129;01mor\u001b[39;00m _global_backward_hooks\n\u001b[1;32m   1540\u001b[0m         \u001b[38;5;129;01mor\u001b[39;00m _global_forward_hooks \u001b[38;5;129;01mor\u001b[39;00m _global_forward_pre_hooks):\n\u001b[0;32m-> 1541\u001b[0m     \u001b[38;5;28;01mreturn\u001b[39;00m \u001b[43mforward_call\u001b[49m\u001b[43m(\u001b[49m\u001b[38;5;241;43m*\u001b[39;49m\u001b[43margs\u001b[49m\u001b[43m,\u001b[49m\u001b[43m \u001b[49m\u001b[38;5;241;43m*\u001b[39;49m\u001b[38;5;241;43m*\u001b[39;49m\u001b[43mkwargs\u001b[49m\u001b[43m)\u001b[49m\n\u001b[1;32m   1543\u001b[0m \u001b[38;5;28;01mtry\u001b[39;00m:\n\u001b[1;32m   1544\u001b[0m     result \u001b[38;5;241m=\u001b[39m \u001b[38;5;28;01mNone\u001b[39;00m\n",
      "File \u001b[0;32m~/Documents/GitHub/AutoNeRF/nerf.py:50\u001b[0m, in \u001b[0;36mNGP.forward\u001b[0;34m(self, x, d)\u001b[0m\n\u001b[1;32m     48\u001b[0m vertices[:, \u001b[38;5;241m1\u001b[39m] \u001b[38;5;241m=\u001b[39m torch\u001b[38;5;241m.\u001b[39mcat((ceil[:, \u001b[38;5;241m0\u001b[39m, \u001b[38;5;28;01mNone\u001b[39;00m], floor[:, \u001b[38;5;241m1\u001b[39m, \u001b[38;5;28;01mNone\u001b[39;00m], floor[:, \u001b[38;5;241m2\u001b[39m, \u001b[38;5;28;01mNone\u001b[39;00m]), dim\u001b[38;5;241m=\u001b[39m\u001b[38;5;241m1\u001b[39m)\n\u001b[1;32m     49\u001b[0m vertices[:, \u001b[38;5;241m2\u001b[39m] \u001b[38;5;241m=\u001b[39m torch\u001b[38;5;241m.\u001b[39mcat((floor[:, \u001b[38;5;241m0\u001b[39m, \u001b[38;5;28;01mNone\u001b[39;00m], ceil[:, \u001b[38;5;241m1\u001b[39m, \u001b[38;5;28;01mNone\u001b[39;00m], floor[:, \u001b[38;5;241m2\u001b[39m, \u001b[38;5;28;01mNone\u001b[39;00m]), dim\u001b[38;5;241m=\u001b[39m\u001b[38;5;241m1\u001b[39m)\n\u001b[0;32m---> 50\u001b[0m vertices[:, \u001b[38;5;241m4\u001b[39m] \u001b[38;5;241m=\u001b[39m \u001b[43mtorch\u001b[49m\u001b[38;5;241;43m.\u001b[39;49m\u001b[43mcat\u001b[49m\u001b[43m(\u001b[49m\u001b[43m(\u001b[49m\u001b[43mfloor\u001b[49m\u001b[43m[\u001b[49m\u001b[43m:\u001b[49m\u001b[43m,\u001b[49m\u001b[43m \u001b[49m\u001b[38;5;241;43m0\u001b[39;49m\u001b[43m,\u001b[49m\u001b[43m \u001b[49m\u001b[38;5;28;43;01mNone\u001b[39;49;00m\u001b[43m]\u001b[49m\u001b[43m,\u001b[49m\u001b[43m \u001b[49m\u001b[43mfloor\u001b[49m\u001b[43m[\u001b[49m\u001b[43m:\u001b[49m\u001b[43m,\u001b[49m\u001b[43m \u001b[49m\u001b[38;5;241;43m1\u001b[39;49m\u001b[43m,\u001b[49m\u001b[43m \u001b[49m\u001b[38;5;28;43;01mNone\u001b[39;49;00m\u001b[43m]\u001b[49m\u001b[43m,\u001b[49m\u001b[43m \u001b[49m\u001b[43mceil\u001b[49m\u001b[43m[\u001b[49m\u001b[43m:\u001b[49m\u001b[43m,\u001b[49m\u001b[43m \u001b[49m\u001b[38;5;241;43m2\u001b[39;49m\u001b[43m,\u001b[49m\u001b[43m \u001b[49m\u001b[38;5;28;43;01mNone\u001b[39;49;00m\u001b[43m]\u001b[49m\u001b[43m)\u001b[49m\u001b[43m,\u001b[49m\u001b[43m \u001b[49m\u001b[43mdim\u001b[49m\u001b[38;5;241;43m=\u001b[39;49m\u001b[38;5;241;43m1\u001b[39;49m\u001b[43m)\u001b[49m\n\u001b[1;32m     51\u001b[0m vertices[:, \u001b[38;5;241m6\u001b[39m] \u001b[38;5;241m=\u001b[39m torch\u001b[38;5;241m.\u001b[39mcat((floor[:, \u001b[38;5;241m0\u001b[39m, \u001b[38;5;28;01mNone\u001b[39;00m], ceil[:, \u001b[38;5;241m1\u001b[39m, \u001b[38;5;28;01mNone\u001b[39;00m], ceil[:, \u001b[38;5;241m2\u001b[39m, \u001b[38;5;28;01mNone\u001b[39;00m]), dim\u001b[38;5;241m=\u001b[39m\u001b[38;5;241m1\u001b[39m)\n\u001b[1;32m     52\u001b[0m vertices[:, \u001b[38;5;241m5\u001b[39m] \u001b[38;5;241m=\u001b[39m torch\u001b[38;5;241m.\u001b[39mcat((ceil[:, \u001b[38;5;241m0\u001b[39m, \u001b[38;5;28;01mNone\u001b[39;00m], floor[:, \u001b[38;5;241m1\u001b[39m, \u001b[38;5;28;01mNone\u001b[39;00m], ceil[:, \u001b[38;5;241m2\u001b[39m, \u001b[38;5;28;01mNone\u001b[39;00m]), dim\u001b[38;5;241m=\u001b[39m\u001b[38;5;241m1\u001b[39m)\n",
      "\u001b[0;31mKeyboardInterrupt\u001b[0m: "
     ]
    }
   ],
   "source": [
    "reload(nerf)\n",
    "nerf.train(nerf_model=nerf_model, optimizer=model_optimizer, data_loader=data_loader, nb_epochs=1, hn=2, hf=6, nb_bins=192)"
   ]
  }
 ],
 "metadata": {
  "kernelspec": {
   "display_name": "venv",
   "language": "python",
   "name": "python3"
  },
  "language_info": {
   "codemirror_mode": {
    "name": "ipython",
    "version": 3
   },
   "file_extension": ".py",
   "mimetype": "text/x-python",
   "name": "python",
   "nbconvert_exporter": "python",
   "pygments_lexer": "ipython3",
   "version": "3.10.12"
  }
 },
 "nbformat": 4,
 "nbformat_minor": 2
}
